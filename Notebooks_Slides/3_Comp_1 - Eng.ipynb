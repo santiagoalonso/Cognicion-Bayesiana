{
 "cells": [
  {
   "cell_type": "code",
   "execution_count": 1,
   "metadata": {
    "slideshow": {
     "slide_type": "skip"
    }
   },
   "outputs": [],
   "source": [
    "#Tables and matrices\n",
    "import numpy as np\n",
    "import pandas as pd\n",
    "\n",
    "#Stats \n",
    "import scipy.stats as st\n",
    "from scipy.optimize import fmin\n",
    "from scipy import integrate\n",
    "\n",
    "#Graphs\n",
    "import seaborn as sns\n",
    "import plotly.graph_objects as go\n",
    "import altair as alt\n",
    "from altair_saver import save #ademas instalar en terminal: brew cask install chromedriver\n",
    "import matplotlib.pyplot as plt\n",
    "from matplotlib import cm\n",
    "from matplotlib.gridspec import GridSpec\n",
    "from matplotlib import animation, rc\n",
    "from IPython.display import display, HTML, Markdown\n",
    "import ipywidgets as widgets\n",
    "from ipywidgets import interact, interactive, fixed, HBox, VBox, Layout\n",
    "from graphviz import Source, Digraph\n",
    "import dot2tex as d2t\n",
    "from latex import build_pdf\n",
    "from mpl_toolkits.mplot3d import axes3d\n"
   ]
  },
  {
   "cell_type": "markdown",
   "metadata": {
    "slideshow": {
     "slide_type": "slide"
    }
   },
   "source": [
    "# Computational methods for obtaining the posterior\n",
    "Santiago Alonso-Díaz, PhD <br>\n",
    "Universidad Javeriana"
   ]
  },
  {
   "cell_type": "markdown",
   "metadata": {
    "slideshow": {
     "slide_type": "slide"
    }
   },
   "source": [
    "Ideal: analytical solutions (formulas)<br>\n",
    "Reality: hard to get <br>\n",
    "Solution: computational methods (algorithms)<br><br>\n",
    "\n",
    "<center><img src=\"img/3_CB/MCMC_robot.svg\" width = \"1000\" height = '1000'></center>"
   ]
  },
  {
   "cell_type": "markdown",
   "metadata": {
    "slideshow": {
     "slide_type": "subslide"
    }
   },
   "source": [
    "Metaphor:<br>\n",
    "What is the mountain? <br>\n",
    "What is an abyss for the algorithm?<br>\n",
    "Where does it start? <br>\n",
    "Does it have to go to other mountains?<br><br>\n",
    "\n",
    "<center><img src=\"img/3_CB/MCMC_robot.svg\" width = \"1000\" height = '1000'></center>"
   ]
  },
  {
   "cell_type": "markdown",
   "metadata": {
    "slideshow": {
     "slide_type": "slide"
    }
   },
   "source": [
    "# Intro. Markov"
   ]
  },
  {
   "cell_type": "markdown",
   "metadata": {
    "slideshow": {
     "slide_type": "subslide"
    }
   },
   "source": [
    "Data could be non-gaussian. For instance, with multiple modes:\n",
    "\n",
    "<center><img src=\"img/3_CB/3modes.svg\" width = \"600\" height = '600'></center>\n",
    "\n",
    "What could each mode represents?"
   ]
  },
  {
   "cell_type": "markdown",
   "metadata": {
    "slideshow": {
     "slide_type": "subslide"
    }
   },
   "source": [
    "What happens if we impose a normal distribution?<br>\n",
    " \n",
    "<center><img src=\"img/3_CB/3modes_posterior.svg\" width = \"600\" height = '600'></center>\n",
    "\n",
    "It does not represent reality."
   ]
  },
  {
   "cell_type": "markdown",
   "metadata": {
    "slideshow": {
     "slide_type": "subslide"
    }
   },
   "source": [
    "Computational methods will allow us to propose more elaborate models.\n",
    "\n",
    "Let's start with `MCMC` algorithms."
   ]
  },
  {
   "cell_type": "markdown",
   "metadata": {
    "slideshow": {
     "slide_type": "subslide"
    }
   },
   "source": [
    "Let's first remember what does it mean that a process is `Markov`"
   ]
  },
  {
   "cell_type": "markdown",
   "metadata": {
    "slideshow": {
     "slide_type": "subslide"
    }
   },
   "source": [
    "Markov process (s: state):\n",
    "$$p(s_1,s_2, s_3, ..., s_n) = p(s_1)p(s_2|s_1)p(s_3|s_2) ... p(s_n|s_{n-1}) $$\n"
   ]
  },
  {
   "cell_type": "markdown",
   "metadata": {
    "slideshow": {
     "slide_type": "fragment"
    }
   },
   "source": [
    "In natural language:\n",
    "\n",
    "There is no memory of the whole sequence. There is only access to the current state to determine the probability of subsequent states."
   ]
  },
  {
   "cell_type": "markdown",
   "metadata": {
    "slideshow": {
     "slide_type": "subslide"
    }
   },
   "source": [
    "Markov processes are defined by the transition probabilities (transition between states)\n",
    "\n",
    "<center><img src=\"img/3_CB/markov1.gv.svg\" width = \"650\" height = '650'></center>\n"
   ]
  },
  {
   "cell_type": "markdown",
   "metadata": {
    "slideshow": {
     "slide_type": "subslide"
    }
   },
   "source": [
    "Another example <br>\n",
    "\n",
    "<center><img src=\"img/3_CB/Monopolio.png\" width = \"400\" height = '400'></center>"
   ]
  },
  {
   "cell_type": "markdown",
   "metadata": {
    "slideshow": {
     "slide_type": "subslide"
    }
   },
   "source": [
    "Another example ... debate: Is language Markovian?\n",
    "\n",
    "<center><img src=\"img/3_CB/markov2.gv.svg\" width = \"650\" height = '650'></center>"
   ]
  },
  {
   "cell_type": "markdown",
   "metadata": {
    "slideshow": {
     "slide_type": "slide"
    }
   },
   "source": [
    "# Bayes & Markov (MCMC)\n",
    "\n",
    "| <img src=\"img/2_CB/Thomas_Bayes.gif\" width = \"200\" height = '200'>  | <img src=\"img/3_CB/AAMarkov.jpg\" width = \"200\" height = '200'> |\n",
    "|:---:|:---:|\n",
    "|     |     |\n"
   ]
  },
  {
   "cell_type": "markdown",
   "metadata": {
    "slideshow": {
     "slide_type": "subslide"
    }
   },
   "source": [
    "What does Markov has to do with a Bayesian posterior?\n",
    "\n",
    "Let's imagine a model of unequal scores (GRE, SAT, SABER) in education. This model will have hidden/latent variables: social capital, academic resources, emotional support, economic support.<br>\n",
    "\n",
    "The question is how can we take a sample score, given those latent variables?\n",
    "\n",
    "<center><img src=\"img/3_CB/3modes.svg\" width = \"400\" height = '400'></center>"
   ]
  },
  {
   "cell_type": "markdown",
   "metadata": {
    "slideshow": {
     "slide_type": "subslide"
    }
   },
   "source": [
    "Problem: sample values from probabilistic models <br>\n",
    "Solution: MCMC algorithm.  \n",
    "<center><img src=\"img/3_CB/markov3.gv.svg\" width = \"650\" height = '650'></center>"
   ]
  },
  {
   "cell_type": "markdown",
   "metadata": {
    "slideshow": {
     "slide_type": "subslide"
    }
   },
   "source": [
    "Animation of an MCMC algorithm in action. <br>\n",
    "Basic idea: propose a sample and the algorithm acepts or rejects.\n",
    "\n",
    "<center><img src=\"img/3_CB/MCMC_animation.gif\" width = \"651\" height = '650'></center>\n",
    "\n",
    "<p style = 'font-size: 15px'>Source: https://blog.stata.com/2016/11/15/introduction-to-bayesian-statistics-part-2-mcmc-and-the-metropolis-hastings-algorithm/ </p>"
   ]
  },
  {
   "cell_type": "markdown",
   "metadata": {
    "slideshow": {
     "slide_type": "subslide"
    }
   },
   "source": [
    "Some initial comments:\n",
    "* We can sample from non-normalized posteriors (i.e. without the marginal).\n",
    "* Many algorithms use logarithms to avoid over and underflows (i.e products become sums with logarithms).\n",
    "* One useful metaphor is to think of MCMC algorithms as strategies to visit a landscape, proportional to its importance (next slide)\n"
   ]
  },
  {
   "cell_type": "markdown",
   "metadata": {
    "slideshow": {
     "slide_type": "subslide"
    }
   },
   "source": [
    "Politician metaphor (Kruschke, 2014). \n",
    "\n",
    "Problem: Organize a political rally in `Estadio Campin` in Bogotá. The organizers want the stadium filled proportionally to the population of each district.\n",
    "\n",
    "<center><img src=\"img/3_CB/localidades_bogota.jpg\" width = \"550\" height = '550'></center>"
   ]
  },
  {
   "cell_type": "markdown",
   "metadata": {
    "slideshow": {
     "slide_type": "subslide"
    }
   },
   "source": [
    "Strategy:\n",
    "\n",
    "1. Start recluting in a random district.\n",
    "\n",
    "2. Propose another district by throwing a coin twice, for north-south and east-west from the current district.\n",
    "\n",
    "3. If the district has more population than the current one, move to that district. Else, go probabilistically. For instance, if it has 50% of the population go with 50% probability to the new district, else continue in the current district.\n",
    "\n",
    "4. In general, $Prob_{move} = min(\\frac{population_{proposal}}{population_{current}},1)$\n",
    "\n",
    "<center><img src=\"img/3_CB/localidades_bogota.jpg\" width = \"250\" height = '250'></center>\n",
    "\n",
    "This heuristic/algorithm is efficient in the long run: we recruit from each district in proportion to its population.\n"
   ]
  },
  {
   "cell_type": "markdown",
   "metadata": {
    "slideshow": {
     "slide_type": "subslide"
    }
   },
   "source": [
    "Metaphor elements:<br>\n",
    "District -> Regions of the posterior <br>\n",
    "District population -> Posterior height/density <br>\n",
    "Recruited citizen -> Sample\n",
    "\n",
    "<center><img src=\"img/3_CB/3Density.svg\" width = \"650\" height = '650'></center>\n"
   ]
  },
  {
   "cell_type": "markdown",
   "metadata": {
    "slideshow": {
     "slide_type": "subslide"
    }
   },
   "source": [
    "There are many MCMC algorithms (Gibbs, Metropolis, Hamiltonian). Many share some elements:\n",
    "\n",
    "1. Initial position/sample\n",
    "2. Ways to propose new potential samples\n",
    "3. Acept/reject the proposed sample based on how much it respects the data and priors.\n",
    "4. If it accepts the proposal, that becomes the new state. If it rejects, continue in the current sample/state.\n",
    "5. Repeat from step 1 as many iterations or samples required."
   ]
  },
  {
   "cell_type": "markdown",
   "metadata": {
    "slideshow": {
     "slide_type": "slide"
    }
   },
   "source": [
    "Languages like Python, R, Julia, have packages that implement MCMC algorithms.\n",
    "\n",
    "Before explaining some of the algorithms, search in the Internet how to use the .pdf,.cdf,.rvs functions:\n",
    "* scipy.stats.norm.pdf; scipy.stats.norm.cdf; scipy.stats.norm.rvs\n",
    "* scipy.stats.multivariate_normal.pdf; scipy.stats.multivariate_normal.cdf; scipy.stats.multivariate_normal.rvs\n",
    "* scipy.stats.beta.pdf; scipy.stats.beta.cdf; scipy.stats.beta.rvs\n",
    "* scipy.stats.dirichlet.pdf; scipy.stats.dirichlet.cdf; scipy.stats.dirichlet.rvs"
   ]
  },
  {
   "cell_type": "markdown",
   "metadata": {
    "slideshow": {
     "slide_type": "slide"
    }
   },
   "source": [
    "# Overview Gibbs Sampler\n",
    "\n",
    "Python has packages that run MCMC samplers. Here we will try to generate intuitions for popular ones: \n",
    "* Gibbs\n",
    "* Metropolis-Hastings\n",
    "* Hamiltonian"
   ]
  },
  {
   "cell_type": "markdown",
   "metadata": {
    "slideshow": {
     "slide_type": "subslide"
    }
   },
   "source": [
    "Let's assume that the image has the real distribution of a pair of latent/unobserved variables <br>\n",
    "\n",
    "Let's see how a Gibbs sampler would work with a multivariate normal case (x=confidence, y=impatience).\n",
    "\n",
    "<center><img src=\"img/3_CB/bivariate_normal.svg\" width = \"400\" height = '400'></center>\n"
   ]
  },
  {
   "cell_type": "markdown",
   "metadata": {
    "slideshow": {
     "slide_type": "subslide"
    }
   },
   "source": [
    "Let's focus on a multivariate normal with two dimensions: p(var1, var1). \n",
    "\n",
    "Namely: p(confidence, impatience). Note that there is a negative correlation (e.g. Kidd, 2013). \n",
    "\n",
    "We want to take samples from this space (e.g. to approximate a 95% confidence interval) <br><br>\n",
    "\n",
    "<center><img src=\"img/3_CB/bivariate_normal.svg\" width = \"401\" height = '400'></center>"
   ]
  },
  {
   "cell_type": "markdown",
   "metadata": {
    "slideshow": {
     "slide_type": "subslide"
    }
   },
   "source": [
    "The basic idea behind a Gibbs sampler is:\n",
    "\n",
    "* Suppose that we know the joint distribution $p(confidence, impatience)$, but it is hard to sample from\n",
    "\n",
    "* Suppose, however, that it is easy to sample from the conditional distributions: $p(confidence|impatience)$ y de $p(impatience|confidence)$. For instance, both are normal.\n",
    "\n",
    "* The algorithm does the following:\n",
    "    1. Picks some random initial values for confidence and impatience.\n",
    "    2. Samples a random value from $p(confidence|impatience)$,\n",
    "    3. Then from $p(impatience|confidence)$, \n",
    "    4. Repeats 2 y 3 until the desired number of samples (Gibbs always accepts the proposed samples).\n"
   ]
  },
  {
   "cell_type": "markdown",
   "metadata": {
    "slideshow": {
     "slide_type": "subslide"
    }
   },
   "source": [
    "Thus, for Gibbs we need:\n",
    "* Joint distribution:\n",
    "\n",
    "\\begin{equation}\n",
    "p(conf, impa) \\sim N\\left( \n",
    "\\begin{bmatrix}\n",
    "\\mu_{conf} \\\\\n",
    "\\mu_{impa} \n",
    "\\end{bmatrix}\n",
    "\\begin{bmatrix}\n",
    "1 & \\rho_{conf,impa} \\\\\n",
    "\\rho_{conf,impa} & 1 \n",
    "\\end{bmatrix}\n",
    "\\right)\n",
    "\\end{equation}\n",
    "\n",
    "* Conditional <span style = 'font-size: 10px'> (This is the formula for the conditionals of a normal multivariate; google it)</span> \n",
    "<br><br>\n",
    "\n",
    "\\begin{equation}\n",
    "p(conf|impa) \\sim N(\\mu_{conf} + \\rho_{conf,impa}(impa-\\mu_{impa}),1-\\rho_{conf,impa}^2))\n",
    "\\end{equation}\n",
    "\n",
    "\\begin{equation}\n",
    "p(impa|conf) \\sim N(\\mu_{impa} + \\rho_{conf,impa}(conf-\\mu_{conf}),1-\\rho_{conf,impa}^2))\n",
    "\\end{equation}\n",
    "\n",
    "Now, just apply the algorithm\n"
   ]
  },
  {
   "cell_type": "code",
   "execution_count": 2,
   "metadata": {
    "slideshow": {
     "slide_type": "subslide"
    }
   },
   "outputs": [],
   "source": [
    "#Gibbs sampler example for a normal multivariate (two dimensions)\n",
    "#Parametres: joint distribution\n",
    "mean_joint = [6, 25] #[impatience, confidence]\n",
    "corr = -0.6\n",
    "cov = [[1, corr], [corr, 1]]\n",
    "\n",
    "#Step 1: initial values\n",
    "conf_samp = st.uniform.rvs(20,30,1)\n",
    "impa_samp = st.uniform.rvs(0,10,1)\n",
    "niter = 200 #iterations (in Gibbs, iterations=samples)\n",
    "joint = pd.DataFrame({'impatience': np.repeat(float('nan'),niter),\n",
    "                     'confidence': np.repeat(float('nan'),niter)})\n",
    "for i in range(niter):\n",
    "    #Step 2: sample a random value from the conditional for var1 (confidence)\n",
    "    conf_samp = st.norm.rvs(mean_joint[1]+corr*(impa_samp-mean_joint[0]),1-corr**2,1)\n",
    "\n",
    "    #Step 3: sample a random value from the conditional for var2 (impatience)\n",
    "    impa_samp = st.norm.rvs(mean_joint[0]+corr*(conf_samp-mean_joint[1]),1-corr**2,1)\n",
    "\n",
    "    joint.loc[i,'impatience'] = impa_samp\n",
    "    joint.loc[i,'confidence'] = conf_samp\n"
   ]
  },
  {
   "cell_type": "markdown",
   "metadata": {
    "slideshow": {
     "slide_type": "subslide"
    }
   },
   "source": [
    "The algorithm does a good job exploring the space\n",
    "\n",
    "<center><img src=\"img/3_CB/Gibbs_animation-min.gif\" width = \"401\" height = '400'></center>\n"
   ]
  },
  {
   "cell_type": "markdown",
   "metadata": {
    "slideshow": {
     "slide_type": "subslide"
    }
   },
   "source": [
    "With Gibbs:\n",
    "\n",
    "* We can sample any joint distribution $p(\\theta_1, \\theta_2, ... \\theta_n, data)$; not just a normal.\n",
    "\n",
    "* You need to know the conditional probabilities of each variable given the others.\n",
    "\n",
    "* The algorithm is markovian: the next sample just depends on the current sample. \n",
    "\n",
    "* Advantage: All proposed samples are accepted. Disadvantage: you need to obtain the conditionals\n",
    "\n"
   ]
  },
  {
   "cell_type": "markdown",
   "metadata": {
    "slideshow": {
     "slide_type": "slide"
    }
   },
   "source": [
    "# Overview Metropolis & Metropolis-Hastings"
   ]
  },
  {
   "cell_type": "markdown",
   "metadata": {
    "slideshow": {
     "slide_type": "subslide"
    }
   },
   "source": [
    "Gibbs is a case of Metropolis-Hastings:\n",
    "\n",
    "* Both need a proposal distribution; the algorithm rejects or accepts proposed samples.\n",
    "\n",
    "* In Gibbs, the proposed samples come from the (known) conditional distributions that are easy to sample. \n",
    "\n",
    "* In Metropolis-Hastings, proposal distributions do not need to be the conditionals.\n"
   ]
  },
  {
   "cell_type": "markdown",
   "metadata": {
    "slideshow": {
     "slide_type": "subslide"
    }
   },
   "source": [
    "Let's recall an usual example again: determine the probability of binary events from some observed data (e.g. win/lose, category 1/category 2, guilty/inocente) \n",
    "\n",
    "We solve it with Bayes theorem.\n",
    "\n",
    "\\begin{align}\n",
    "p(\\theta|data) &\\propto p(data|\\theta)p(\\theta)\\\\\n",
    "               &\\propto binomial(n, z, \\theta)beta(\\alpha,\\beta)\\\\\n",
    "\\end{align}\n",
    "\n",
    "where n is the number of \"throws\", z number of successes, $\\theta$ success probability, $\\alpha$, y $\\beta$ prior parameters\n"
   ]
  },
  {
   "cell_type": "markdown",
   "metadata": {
    "slideshow": {
     "slide_type": "subslide"
    }
   },
   "source": [
    "In the Metropolis-Hastings below, we propose posterior samples from a normal distribution that \"jumps\" every time it finds a good sample. \n",
    "\n",
    "To accept or reject a sample, we calculate a ratio `r` between the posterior probability of the proposed sample and the current, and already accepted, sample. The proposed sample is accepted (or rejected) if that ratio is sufficiently hight (or low).  \n",
    "\n",
    "<center><img src=\"img/3_CB/MCMC_animation.gif\" width = \"651\" height = '650'></center>\n",
    "\n",
    "<p style = 'font-size: 15px'>Source: https://blog.stata.com/2016/11/15/introduction-to-bayesian-statistics-part-2-mcmc-and-the-metropolis-hastings-algorithm/ </p>"
   ]
  },
  {
   "cell_type": "markdown",
   "metadata": {
    "slideshow": {
     "slide_type": "subslide"
    }
   },
   "source": [
    "The proposal distribution in Metropolis (without the Hastings):\n",
    "* Jumps to another point in space when a new sample is accepted. You can see it in the visualization: the center of the normal distribution (the proposal distribution) moves to the newly accepted sample $\\theta^{*}$.  \n",
    "* Must be symmetrical: $q(\\theta^{*}|\\theta) = q(\\theta|\\theta^{*})$. Evita sesgos (e.g. saltos mayores desde algunos puntos).\n",
    "\n",
    "<center><img src=\"img/3_CB/MCMC_animation2.gif\" width = \"550\" height = '550'></center>\n",
    "\n",
    "<p style = 'font-size: 15px'>Source: https://blog.stata.com/2016/11/15/introduction-to-bayesian-statistics-part-2-mcmc-and-the-metropolis-hastings-algorithm/ </p>\n",
    "\n",
    " "
   ]
  },
  {
   "cell_type": "markdown",
   "metadata": {
    "slideshow": {
     "slide_type": "subslide"
    }
   },
   "source": [
    "Metropolis-Hastings (MH) is a more general version. It does not need a symmetrical proposal distribution q. To compensate, the ratio r of posteriors changes to a ratio of ratios. \n",
    "\n",
    "| Metropolis | Metropolis-Hastings |\n",
    "|:--:|:--:|\n",
    "| \\begin{equation} \\frac{p(\\theta^{*}\\|y)}{p(\\theta\\|y)} \\end{equation} |  \\begin{equation} \\frac{p(\\theta^{*}\\|y) / q(\\theta^{*}\\|\\theta)}{p(\\theta\\|y)/ q(\\theta\\|\\theta^{*})} \\end{equation}  |\n"
   ]
  },
  {
   "cell_type": "markdown",
   "metadata": {
    "slideshow": {
     "slide_type": "subslide"
    }
   },
   "source": [
    "Para ejemplificar MH, estimemos el promedio y varianza de un proceso gaussiano (e.g. puntajes en una prueba). \n",
    "\n",
    "El estimativo frecuentista es directo: el promedio y varianza de la data. Queremos el bayesiano: la creencia en forma de distribución de posibles parámetros dado los datos.\n",
    "\n",
    "Podemos conseguir la formula dado que es gaussiano, pero tratemos con MH.\n",
    "\n",
    "Primero generemos unos datos ..."
   ]
  },
  {
   "cell_type": "code",
   "execution_count": 2,
   "metadata": {
    "slideshow": {
     "slide_type": "subslide"
    }
   },
   "outputs": [],
   "source": [
    "# Metropolis-Hastings\n",
    "# Datos \n",
    "tamano = 50000\n",
    "mu_real = 50 #parámetro a inferir, imagine que no los conocemos.\n",
    "sigma_real = 10 #parámetro a inferir, imagine que no los conocemos.\n",
    "poblacion = np.random.normal(mu_real,sigma_real,tamano)\n",
    "n = 150 #solo observamos n datos de la población\n",
    "data = pd.DataFrame({'muestra': poblacion[np.random.randint(0, tamano, n)]})\n"
   ]
  },
  {
   "cell_type": "code",
   "execution_count": 3,
   "metadata": {
    "slideshow": {
     "slide_type": "subslide"
    }
   },
   "outputs": [],
   "source": [
    "#Graficas usando altair (permite grabarlas a html) (correr celda anterior)\n",
    "#Tutorial en https://altair-viz.github.io/getting_started/overview.html\n",
    "bins = 20\n",
    "bar = alt.Chart(data).mark_bar().encode(\n",
    "    alt.X(\"muestra\", axis=alt.Axis(title=\"Variable\"), bin=alt.Bin(maxbins=bins)),\n",
    "    alt.Y('count()', axis=alt.Axis(title=\"Conteo\"))\n",
    ")\n",
    "\n",
    "den_data = alt.Chart(data).transform_density(#transformaciones a la data\n",
    "    density = 'muestra',\n",
    "    counts = True,\n",
    "    steps=bins\n",
    ").mark_line( #tipo de gráfica\n",
    "    color='red',\n",
    "    opacity=.35,\n",
    "    strokeWidth = 5\n",
    ").encode(#detalles de los ejes\n",
    "    alt.X('value:Q', axis=alt.Axis(title=\"Variable\")),\n",
    "    alt.Y('density:Q', axis=alt.Axis(title=\"Densidad (kde)\")),\n",
    ").properties(width=400, height=300)\n",
    "\n",
    "#both = (den_data).configure_axis(titleFontSize=20, labelFontSize = 15, grid=False) \n",
    "both = (bar).configure_axis(titleFontSize=20, labelFontSize = 15, grid=False)\n",
    "#save(both, \"img/3_CB/Metropolis_data.svg\", method='selenium', webdriver='chrome') # si no sirve, salvar con los 3 punticos\n",
    "#save(both, \"img/3_CB/Metropolis_data.html\") #salva la gráfica en html"
   ]
  },
  {
   "cell_type": "code",
   "execution_count": 4,
   "metadata": {
    "slideshow": {
     "slide_type": "fragment"
    }
   },
   "outputs": [
    {
     "data": {
      "text/html": [
       "\n",
       "<div id=\"altair-viz-e76ae2a6fb704750a8bd9d4732163179\"></div>\n",
       "<script type=\"text/javascript\">\n",
       "  (function(spec, embedOpt){\n",
       "    let outputDiv = document.currentScript.previousElementSibling;\n",
       "    if (outputDiv.id !== \"altair-viz-e76ae2a6fb704750a8bd9d4732163179\") {\n",
       "      outputDiv = document.getElementById(\"altair-viz-e76ae2a6fb704750a8bd9d4732163179\");\n",
       "    }\n",
       "    const paths = {\n",
       "      \"vega\": \"https://cdn.jsdelivr.net/npm//vega@5?noext\",\n",
       "      \"vega-lib\": \"https://cdn.jsdelivr.net/npm//vega-lib?noext\",\n",
       "      \"vega-lite\": \"https://cdn.jsdelivr.net/npm//vega-lite@4.8.1?noext\",\n",
       "      \"vega-embed\": \"https://cdn.jsdelivr.net/npm//vega-embed@6?noext\",\n",
       "    };\n",
       "\n",
       "    function loadScript(lib) {\n",
       "      return new Promise(function(resolve, reject) {\n",
       "        var s = document.createElement('script');\n",
       "        s.src = paths[lib];\n",
       "        s.async = true;\n",
       "        s.onload = () => resolve(paths[lib]);\n",
       "        s.onerror = () => reject(`Error loading script: ${paths[lib]}`);\n",
       "        document.getElementsByTagName(\"head\")[0].appendChild(s);\n",
       "      });\n",
       "    }\n",
       "\n",
       "    function showError(err) {\n",
       "      outputDiv.innerHTML = `<div class=\"error\" style=\"color:red;\">${err}</div>`;\n",
       "      throw err;\n",
       "    }\n",
       "\n",
       "    function displayChart(vegaEmbed) {\n",
       "      vegaEmbed(outputDiv, spec, embedOpt)\n",
       "        .catch(err => showError(`Javascript Error: ${err.message}<br>This usually means there's a typo in your chart specification. See the javascript console for the full traceback.`));\n",
       "    }\n",
       "\n",
       "    if(typeof define === \"function\" && define.amd) {\n",
       "      requirejs.config({paths});\n",
       "      require([\"vega-embed\"], displayChart, err => showError(`Error loading script: ${err.message}`));\n",
       "    } else if (typeof vegaEmbed === \"function\") {\n",
       "      displayChart(vegaEmbed);\n",
       "    } else {\n",
       "      loadScript(\"vega\")\n",
       "        .then(() => loadScript(\"vega-lite\"))\n",
       "        .then(() => loadScript(\"vega-embed\"))\n",
       "        .catch(showError)\n",
       "        .then(() => displayChart(vegaEmbed));\n",
       "    }\n",
       "  })({\"config\": {\"view\": {\"continuousWidth\": 400, \"continuousHeight\": 300}, \"axis\": {\"grid\": false, \"labelFontSize\": 15, \"titleFontSize\": 20}}, \"data\": {\"name\": \"data-ff7b5230927b53af28c12472486feb03\"}, \"mark\": \"bar\", \"encoding\": {\"x\": {\"type\": \"quantitative\", \"axis\": {\"title\": \"Variable\"}, \"bin\": {\"maxbins\": 20}, \"field\": \"muestra\"}, \"y\": {\"type\": \"quantitative\", \"aggregate\": \"count\", \"axis\": {\"title\": \"Conteo\"}}}, \"$schema\": \"https://vega.github.io/schema/vega-lite/v4.8.1.json\", \"datasets\": {\"data-ff7b5230927b53af28c12472486feb03\": [{\"muestra\": 57.36843366179724}, {\"muestra\": 63.41977413368778}, {\"muestra\": 48.462449925991066}, {\"muestra\": 64.14233144586579}, {\"muestra\": 53.63724147418584}, {\"muestra\": 51.30421909156416}, {\"muestra\": 41.774165743740326}, {\"muestra\": 60.94498216978138}, {\"muestra\": 48.03317871605124}, {\"muestra\": 55.68618319322168}, {\"muestra\": 40.950294071592374}, {\"muestra\": 62.63784112919588}, {\"muestra\": 62.09388100147393}, {\"muestra\": 56.95634713669587}, {\"muestra\": 41.708963836640656}, {\"muestra\": 43.48167677667367}, {\"muestra\": 65.3176998144697}, {\"muestra\": 42.62364142296443}, {\"muestra\": 52.94583364263359}, {\"muestra\": 40.32353373679295}, {\"muestra\": 42.616669572817585}, {\"muestra\": 35.61523011611188}, {\"muestra\": 52.89300374829999}, {\"muestra\": 51.96337948484554}, {\"muestra\": 62.54300028418422}, {\"muestra\": 63.58537379966856}, {\"muestra\": 63.367620865265984}, {\"muestra\": 42.91575449840975}, {\"muestra\": 62.80780276558815}, {\"muestra\": 76.16772118172861}, {\"muestra\": 46.76387290875993}, {\"muestra\": 47.35212623985569}, {\"muestra\": 52.25053908937909}, {\"muestra\": 35.711614377945914}, {\"muestra\": 76.14647765373974}, {\"muestra\": 47.411242591312}, {\"muestra\": 44.25479233292667}, {\"muestra\": 47.04768235209933}, {\"muestra\": 56.76153791755627}, {\"muestra\": 48.47083541817281}, {\"muestra\": 40.583965684578004}, {\"muestra\": 51.17716270655735}, {\"muestra\": 68.51100843138151}, {\"muestra\": 53.28403054513995}, {\"muestra\": 47.07851359415919}, {\"muestra\": 25.60810527585263}, {\"muestra\": 46.163843291208046}, {\"muestra\": 48.977214145215804}, {\"muestra\": 63.2451633857024}, {\"muestra\": 42.71301235318998}, {\"muestra\": 46.259344470918066}, {\"muestra\": 64.69048369728303}, {\"muestra\": 49.83686887803359}, {\"muestra\": 54.64962842659347}, {\"muestra\": 43.71590461100077}, {\"muestra\": 55.534277127746506}, {\"muestra\": 45.15841356805297}, {\"muestra\": 50.125437486402426}, {\"muestra\": 72.97385416006789}, {\"muestra\": 51.23269378413066}, {\"muestra\": 66.69309154291388}, {\"muestra\": 57.99463485094437}, {\"muestra\": 49.32751705028874}, {\"muestra\": 38.976516170059725}, {\"muestra\": 45.57605054835836}, {\"muestra\": 69.96545045327264}, {\"muestra\": 41.91147676032795}, {\"muestra\": 49.13240637631443}, {\"muestra\": 30.956986177680466}, {\"muestra\": 34.0765557636263}, {\"muestra\": 73.41540635636615}, {\"muestra\": 64.43564318302181}, {\"muestra\": 62.46134382209173}, {\"muestra\": 53.659844737029154}, {\"muestra\": 37.51592037068556}, {\"muestra\": 46.27879674916524}, {\"muestra\": 56.98165463147578}, {\"muestra\": 37.42901528980988}, {\"muestra\": 61.164693621832534}, {\"muestra\": 52.95404259436787}, {\"muestra\": 59.83742587655716}, {\"muestra\": 52.54448864211101}, {\"muestra\": 67.10915215081317}, {\"muestra\": 48.60122159533255}, {\"muestra\": 27.92035975475742}, {\"muestra\": 57.579232566761405}, {\"muestra\": 41.925665518159676}, {\"muestra\": 44.576699793959875}, {\"muestra\": 49.157965945127}, {\"muestra\": 45.48955640069655}, {\"muestra\": 62.255168184585024}, {\"muestra\": 50.70080023023602}, {\"muestra\": 43.617460807962054}, {\"muestra\": 53.4571276357799}, {\"muestra\": 51.91969078455781}, {\"muestra\": 29.833455307785638}, {\"muestra\": 48.421009224321054}, {\"muestra\": 34.68321141286726}, {\"muestra\": 47.45096382656011}, {\"muestra\": 55.00886315529158}, {\"muestra\": 45.930894409289785}, {\"muestra\": 53.047518975786886}, {\"muestra\": 64.28309390896973}, {\"muestra\": 53.52022162025922}, {\"muestra\": 44.71992072989732}, {\"muestra\": 54.2840734887383}, {\"muestra\": 40.99405332435951}, {\"muestra\": 64.71250644995256}, {\"muestra\": 33.7664086488532}, {\"muestra\": 45.431845967592864}, {\"muestra\": 52.52318114724859}, {\"muestra\": 53.635372444384686}, {\"muestra\": 42.33900421244982}, {\"muestra\": 64.1516274774414}, {\"muestra\": 49.636360215253525}, {\"muestra\": 37.604641979135984}, {\"muestra\": 41.17033732202995}, {\"muestra\": 60.86805852850736}, {\"muestra\": 47.14511972114022}, {\"muestra\": 28.574146005612462}, {\"muestra\": 43.93955974141903}, {\"muestra\": 44.202083198740006}, {\"muestra\": 42.80181135657661}, {\"muestra\": 61.39708219225601}, {\"muestra\": 42.79432896403878}, {\"muestra\": 46.23029628545761}, {\"muestra\": 43.84836975199089}, {\"muestra\": 32.25062619045238}, {\"muestra\": 30.866438796452613}, {\"muestra\": 56.99958397300152}, {\"muestra\": 37.33088998333915}, {\"muestra\": 43.1565057202886}, {\"muestra\": 52.45747610219676}, {\"muestra\": 35.834379985872786}, {\"muestra\": 60.107566998004444}, {\"muestra\": 59.19294606737085}, {\"muestra\": 42.01594340948964}, {\"muestra\": 49.78706120969744}, {\"muestra\": 47.998165296969454}, {\"muestra\": 58.928060123728166}, {\"muestra\": 58.65455579968816}, {\"muestra\": 46.200847626993564}, {\"muestra\": 59.38533703670899}, {\"muestra\": 55.38480826275379}, {\"muestra\": 51.02952093750291}, {\"muestra\": 62.64133103439396}, {\"muestra\": 48.48424014946151}, {\"muestra\": 47.28172778483811}, {\"muestra\": 42.123673076922735}, {\"muestra\": 53.312568827687066}]}}, {\"mode\": \"vega-lite\"});\n",
       "</script>"
      ],
      "text/plain": [
       "alt.Chart(...)"
      ]
     },
     "execution_count": 4,
     "metadata": {},
     "output_type": "execute_result"
    }
   ],
   "source": [
    "#Conteos y densidad de la data (kernel estimate)\n",
    "both "
   ]
  },
  {
   "cell_type": "markdown",
   "metadata": {
    "slideshow": {
     "slide_type": "subslide"
    }
   },
   "source": [
    "Ahora recordemos paso a paso el algoritmo:\n",
    "1. Defina distribuciones likelihood y prior\n",
    "2. Defina una distribución de propuesta $q(\\theta)$\n",
    "3. Tome una muestra de $q(\\theta)$. Esa muestra es la propuesta $\\theta^{*}$\n",
    "4. Calcule el ratio de ratios $\\frac{p(\\theta^{*}|y) / q(\\theta^{*}|\\theta)}{p(\\theta|y)/ q(\\theta|\\theta^{*})}$\n",
    "5. Acepte o rechaze $\\theta^{*}$. Si acepta, mueva $q(\\theta)$. Si rechaza no se mueva.\n",
    "6. Repita 1 a 4 por la iteraciones o muestras deseadas."
   ]
  },
  {
   "cell_type": "code",
   "execution_count": 5,
   "metadata": {
    "slideshow": {
     "slide_type": "subslide"
    }
   },
   "outputs": [],
   "source": [
    "##### Paso 1\n",
    "#Prior & likelihood\n",
    "def log_prior(pars):\n",
    "    #Priors \n",
    "    #    mean: uniforme\n",
    "    #    std. dev: uniform (positiva)\n",
    "    #Supuesto: parámetros son independientes (multiplicar; en log sumar)\n",
    "    #Input: pars[0] = mean, pars[1] = std. dev\n",
    "    #Output: log. density   \n",
    "    log_prob_mu = st.uniform.logpdf(pars[0], -100, 200)\n",
    "    log_prob_sd = st.uniform.logpdf(pars[1], 0, 100)   \n",
    "    return log_prob_sd + log_prob_mu\n",
    "def log_lik_normal(pars,data):\n",
    "    #Input: pars[0] = mean, pars[1] = std. dev, data = muestra\n",
    "    #Output: log. density\n",
    "    return np.sum(st.norm.logpdf(data, pars[0], pars[1]))"
   ]
  },
  {
   "cell_type": "code",
   "execution_count": 6,
   "metadata": {
    "slideshow": {
     "slide_type": "subslide"
    }
   },
   "outputs": [],
   "source": [
    "##### Paso 2 & 3 \n",
    "# Distribución de propuesta\n",
    "class propuesta:\n",
    "    #Con MH, no es necesario que sea simétrica.\n",
    "    #Acá usamos diferentes std y densidades (truncada normal y normal)\n",
    "    def __init__(self):\n",
    "        self.scales = [7, 2] #desviaciones estandar   \n",
    "    def rvs(self, pars):\n",
    "        left_lim = 0 #limite para truncar la normal\n",
    "        right_lim = 50\n",
    "        a = (left_lim - pars[1]) / self.scales[1] \n",
    "        b = (right_lim - pars[1]) / self.scales[1]        \n",
    "        rand_var = [st.norm.rvs(pars[0], self.scales[0], size=1), \n",
    "                    st.truncnorm.rvs(a=a, b=b, loc=pars[1], \n",
    "                                     scale=self.scales[1], size=1)]        \n",
    "        return rand_var    \n",
    "    def log_pdf(self, x, pars):\n",
    "        mu_logpdf = st.norm.logpdf(x[0], pars[0], self.scales[0]) \n",
    "        left_lim = 0 #limite para truncar la normal\n",
    "        right_lim = 50\n",
    "        a = (left_lim - pars[1]) / self.scales[1]\n",
    "        b = (right_lim - pars[1]) / self.scales[1]\n",
    "        sd_logpdf = st.truncnorm.logpdf(x[1], a=a, b=b, loc=pars[1], \n",
    "                                        scale=self.scales[1]) \n",
    "        return sd_logpdf + mu_logpdf"
   ]
  },
  {
   "cell_type": "code",
   "execution_count": 7,
   "metadata": {
    "slideshow": {
     "slide_type": "subslide"
    }
   },
   "outputs": [],
   "source": [
    "##### Paso 4 & 5\n",
    "# Ratio de ratios y aceptar\n",
    "def aceptar(x, x_nuevo, data):\n",
    "    # Posteriors (sin estandarizar)\n",
    "    posterior_nuevo = log_prior(x_nuevo)+log_lik_normal(x_nuevo, data) \n",
    "    posterior_actual = log_prior(x)+log_lik_normal(x, data)\n",
    "    # Propuesta\n",
    "    propuesta_nuevo = propuesta().log_pdf(x_nuevo, x)\n",
    "    propuesta_actual = propuesta().log_pdf(x, x_nuevo)\n",
    "    # Ratios\n",
    "    ratio1 = posterior_nuevo - propuesta_nuevo #Resta por que estamos con logaritmos\n",
    "    ratio2 = posterior_actual - propuesta_actual\n",
    "    ratio_de_ratios = ratio1-ratio2 #Resta por que estamos con logaritmos\n",
    "    # Aceptar\n",
    "    u = st.uniform.rvs(0, 1, size = 1)\n",
    "    acceptance_prob = np.min([1, np.exp(ratio_de_ratios)]) #exp para transformar logaritmos\n",
    "    if u<acceptance_prob:\n",
    "        return True\n",
    "    else:\n",
    "        return False\n",
    "#Metropolis"
   ]
  },
  {
   "cell_type": "code",
   "execution_count": 8,
   "metadata": {
    "slideshow": {
     "slide_type": "subslide"
    }
   },
   "outputs": [],
   "source": [
    "##### Paso 6\n",
    "# Repita\n",
    "def metropolis_hastings(par_inicial, iteraciones, data):\n",
    "    x = par_inicial\n",
    "    aceptado = []\n",
    "    rechazado = []   \n",
    "    for i in range(iteraciones):\n",
    "        x_nuevo =  propuesta().rvs(x)  \n",
    "        if aceptar(x, x_nuevo, data):\n",
    "            x = x_nuevo\n",
    "            aceptado.append(x_nuevo)\n",
    "        else:\n",
    "            rechazado.append(x_nuevo)                               \n",
    "    return np.array(aceptado), np.array(rechazado) "
   ]
  },
  {
   "cell_type": "code",
   "execution_count": 9,
   "metadata": {
    "slideshow": {
     "slide_type": "subslide"
    }
   },
   "outputs": [
    {
     "name": "stderr",
     "output_type": "stream",
     "text": [
      "/home/santiago/anaconda3/lib/python3.8/site-packages/numpy/core/fromnumeric.py:87: VisibleDeprecationWarning: Creating an ndarray from ragged nested sequences (which is a list-or-tuple of lists-or-tuples-or ndarrays with different lengths or shapes) is deprecated. If you meant to do this, you must specify 'dtype=object' when creating the ndarray\n",
      "  return ufunc.reduce(obj, axis, dtype, out, **passkwargs)\n",
      "<ipython-input-7-2c0e3305471d>:16: RuntimeWarning: overflow encountered in exp\n",
      "  acceptance_prob = np.min([1, np.exp(ratio_de_ratios)]) #exp para transformar logaritmos\n"
     ]
    }
   ],
   "source": [
    "##### Resultados\n",
    "#Cadena 1\n",
    "par_inicial, iteraciones = [data.mean(), data.std()], 5000\n",
    "A1, R1 = metropolis_hastings(par_inicial, iteraciones, data)\n",
    "#Cadena 2\n",
    "par_inicial, iteraciones = [4, 1], 5000\n",
    "A2, R2 = metropolis_hastings(par_inicial, iteraciones, data)"
   ]
  },
  {
   "cell_type": "code",
   "execution_count": 10,
   "metadata": {
    "slideshow": {
     "slide_type": "skip"
    }
   },
   "outputs": [],
   "source": [
    "def my_MH_plot(A1, A2):\n",
    "    print(\"Info. cadena 1.\", \n",
    "      '\\n95% HDI promedio: [', round(np.percentile(A1[:,0],[2.5])[0],2), ',', \n",
    "          round(np.percentile(A1[:,0],[97.5])[0],2),']',\n",
    "      '\\n95% HDI desv. est: [', round(np.percentile(A1[:,1],[2.5])[0],2), ',', \n",
    "          round(np.percentile(A1[:,1],[97.5])[0],2),']',\n",
    "      '\\naccept:', A1.shape[0]/iteraciones)\n",
    "    print(\"\\nInfo. cadena 2. \", \n",
    "      '\\n95% HDI promedio: [', round(np.percentile(A2[:,0],[2.5])[0],2), ',', \n",
    "          round(np.percentile(A2[:,0],[97.5])[0],2),']',\n",
    "      '\\n95% HDI desv. est: [', round(np.percentile(A2[:,1],[2.5])[0],2), ',', \n",
    "          round(np.percentile(A2[:,1],[97.5])[0],2),']',\n",
    "      '\\naccept:', A2.shape[0]/iteraciones)\n",
    "    fig, ax = plt.subplots(2,2, figsize=[7,5])\n",
    "    ax[0,0].plot(np.arange(A1.shape[0]), A1[:,0])\n",
    "    ax[0,0].set_title('Promedio \\n (cadena 1)')\n",
    "    ax[0,1].plot(np.arange(A1.shape[0]), A1[:,1])\n",
    "    ax[0,1].set_title('Desv. Estandar \\n (cadena 1)');\n",
    "    ax[1,0].plot(np.arange(A2.shape[0]), A2[:,0])\n",
    "    ax[1,0].set_title('Promedio \\n (cadena 2)')\n",
    "    ax[1,1].plot(np.arange(A2.shape[0]), A2[:,1])\n",
    "    ax[1,1].set_title('Desv. Estandar \\n (cadena 2)');\n",
    "    plt.tight_layout();"
   ]
  },
  {
   "cell_type": "code",
   "execution_count": 11,
   "metadata": {
    "scrolled": true,
    "slideshow": {
     "slide_type": "subslide"
    }
   },
   "outputs": [
    {
     "name": "stdout",
     "output_type": "stream",
     "text": [
      "Info. cadena 1. \n",
      "95% HDI promedio: [ 48.7 , 52.4 ] \n",
      "95% HDI desv. est: [ 9.07 , 11.68 ] \n",
      "accept: 0.0662\n",
      "\n",
      "Info. cadena 2.  \n",
      "95% HDI promedio: [ 14.63 , 52.3 ] \n",
      "95% HDI desv. est: [ 8.77 , 11.87 ] \n",
      "accept: 0.0632\n"
     ]
    },
    {
     "data": {
      "image/png": "[encoded data removed]",
      "text/plain": [
       "<Figure size 504x360 with 4 Axes>"
      ]
     },
     "metadata": {
      "needs_background": "light"
     },
     "output_type": "display_data"
    }
   ],
   "source": [
    "# Convergen ambas cadenas. Hay tests pero se puede ver.  \n",
    "# Las trazas gravitan alredor de los mismos valores (pero baja aceptación)\n",
    "my_MH_plot(A1, A2) #Note el \"burn-in\" al comienzo"
   ]
  },
  {
   "cell_type": "code",
   "execution_count": 12,
   "metadata": {
    "slideshow": {
     "slide_type": "skip"
    }
   },
   "outputs": [],
   "source": [
    "data_mcmc = pd.DataFrame({'promedio': np.concatenate((A1[:,0],A2[:,0]))[:,0],\n",
    "                         'desv_est':  np.concatenate((A1[:,1],A2[:,1]))[:,0]})\n",
    "def my_alt_plot(var, ext, title = ''):    \n",
    "    den = alt.Chart(data_mcmc).transform_density(#transformaciones a la data\n",
    "        density = var, extent = ext, counts = True, steps=bins\n",
    "    ).mark_line( #tipo de gráfica\n",
    "        color='green', opacity=.75, strokeWidth = 5\n",
    "    ).encode(#detalles de los ejes\n",
    "        alt.X('value:Q', axis=alt.Axis(title=var)),\n",
    "        alt.Y('density:Q', axis=alt.Axis(title=\"Densidad\")),\n",
    "    ).properties(\n",
    "        width=250, height=250, title = title\n",
    "    )\n",
    "\n",
    "    return den\n",
    "mcmc_den_p = my_alt_plot('promedio', [46,53], title = 'Posterior promedio')\n",
    "mcmc_den_e = my_alt_plot('desv_est', [6.5,12], title = 'Posterior desv. est.')\n",
    "plot = (mcmc_den_p|mcmc_den_e).configure_axis(\n",
    "    titleFontSize=20, labelFontSize = 15, grid=False\n",
    ").configure_title(\n",
    "    fontSize=24\n",
    ")"
   ]
  },
  {
   "cell_type": "code",
   "execution_count": 14,
   "metadata": {
    "scrolled": false,
    "slideshow": {
     "slide_type": "subslide"
    }
   },
   "outputs": [
    {
     "data": {
      "text/html": [
       "\n",
       "<div id=\"altair-viz-d03a6b255df14958a232eea8babfabd4\"></div>\n",
       "<script type=\"text/javascript\">\n",
       "  (function(spec, embedOpt){\n",
       "    let outputDiv = document.currentScript.previousElementSibling;\n",
       "    if (outputDiv.id !== \"altair-viz-d03a6b255df14958a232eea8babfabd4\") {\n",
       "      outputDiv = document.getElementById(\"altair-viz-d03a6b255df14958a232eea8babfabd4\");\n",
       "    }\n",
       "    const paths = {\n",
       "      \"vega\": \"https://cdn.jsdelivr.net/npm//vega@5?noext\",\n",
       "      \"vega-lib\": \"https://cdn.jsdelivr.net/npm//vega-lib?noext\",\n",
       "      \"vega-lite\": \"https://cdn.jsdelivr.net/npm//vega-lite@4.8.1?noext\",\n",
       "      \"vega-embed\": \"https://cdn.jsdelivr.net/npm//vega-embed@6?noext\",\n",
       "    };\n",
       "\n",
       "    function loadScript(lib) {\n",
       "      return new Promise(function(resolve, reject) {\n",
       "        var s = document.createElement('script');\n",
       "        s.src = paths[lib];\n",
       "        s.async = true;\n",
       "        s.onload = () => resolve(paths[lib]);\n",
       "        s.onerror = () => reject(`Error loading script: ${paths[lib]}`);\n",
       "        document.getElementsByTagName(\"head\")[0].appendChild(s);\n",
       "      });\n",
       "    }\n",
       "\n",
       "    function showError(err) {\n",
       "      outputDiv.innerHTML = `<div class=\"error\" style=\"color:red;\">${err}</div>`;\n",
       "      throw err;\n",
       "    }\n",
       "\n",
       "    function displayChart(vegaEmbed) {\n",
       "      vegaEmbed(outputDiv, spec, embedOpt)\n",
       "        .catch(err => showError(`Javascript Error: ${err.message}<br>This usually means there's a typo in your chart specification. See the javascript console for the full traceback.`));\n",
       "    }\n",
       "\n",
       "    if(typeof define === \"function\" && define.amd) {\n",
       "      requirejs.config({paths});\n",
       "      require([\"vega-embed\"], displayChart, err => showError(`Error loading script: ${err.message}`));\n",
       "    } else if (typeof vegaEmbed === \"function\") {\n",
       "      displayChart(vegaEmbed);\n",
       "    } else {\n",
       "      loadScript(\"vega\")\n",
       "        .then(() => loadScript(\"vega-lite\"))\n",
       "        .then(() => loadScript(\"vega-embed\"))\n",
       "        .catch(showError)\n",
       "        .then(() => displayChart(vegaEmbed));\n",
       "    }\n",
       "  })({\"config\": {\"view\": {\"continuousWidth\": 400, \"continuousHeight\": 300}, \"axis\": {\"grid\": false, \"labelFontSize\": 15, \"titleFontSize\": 20}, \"title\": {\"fontSize\": 24}}, \"hconcat\": [{\"mark\": {\"type\": \"line\", \"color\": \"green\", \"opacity\": 0.75, \"strokeWidth\": 5}, \"encoding\": {\"x\": {\"type\": \"quantitative\", \"axis\": {\"title\": \"promedio\"}, \"field\": \"value\"}, \"y\": {\"type\": \"quantitative\", \"axis\": {\"title\": \"Densidad\"}, \"field\": \"density\"}}, \"height\": 250, \"title\": \"Posterior promedio\", \"transform\": [{\"density\": \"promedio\", \"counts\": true, \"extent\": [46, 53], \"steps\": 20}], \"width\": 250}, {\"mark\": {\"type\": \"line\", \"color\": \"green\", \"opacity\": 0.75, \"strokeWidth\": 5}, \"encoding\": {\"x\": {\"type\": \"quantitative\", \"axis\": {\"title\": \"desv_est\"}, \"field\": \"value\"}, \"y\": {\"type\": \"quantitative\", \"axis\": {\"title\": \"Densidad\"}, \"field\": \"density\"}}, \"height\": 250, \"title\": \"Posterior desv. est.\", \"transform\": [{\"density\": \"desv_est\", \"counts\": true, \"extent\": [6.5, 12], \"steps\": 20}], \"width\": 250}], \"data\": {\"name\": \"data-21c88115af6613f781b7694ebce6aa07\"}, \"$schema\": \"https://vega.github.io/schema/vega-lite/v4.8.1.json\", \"datasets\": {\"data-21c88115af6613f781b7694ebce6aa07\": [{\"promedio\": 50.014542230877645, \"desv_est\": 9.546033164600715}, {\"promedio\": 50.38523378916652, \"desv_est\": 10.089490247087303}, {\"promedio\": 49.318648935927456, \"desv_est\": 10.122996443255204}, {\"promedio\": 51.71470605714449, \"desv_est\": 10.158207561440898}, {\"promedio\": 49.21932008030076, \"desv_est\": 10.226629237017494}, {\"promedio\": 51.77023950892983, \"desv_est\": 11.728943228940325}, {\"promedio\": 47.8026617006783, \"desv_est\": 9.775563944453655}, {\"promedio\": 52.03009733656128, \"desv_est\": 10.817186766018068}, {\"promedio\": 51.95633940770943, \"desv_est\": 10.144039861094493}, {\"promedio\": 49.840237288762275, \"desv_est\": 9.493964199929705}, {\"promedio\": 50.47561859340218, \"desv_est\": 10.731467149391902}, {\"promedio\": 51.00813094685877, \"desv_est\": 10.281775517001691}, {\"promedio\": 50.670607018966, \"desv_est\": 10.55396503055478}, {\"promedio\": 50.816777852621364, \"desv_est\": 10.308394668977373}, {\"promedio\": 49.8074812865124, \"desv_est\": 10.839991125627629}, {\"promedio\": 49.28702435560614, \"desv_est\": 11.014755220986077}, {\"promedio\": 50.91696279953777, \"desv_est\": 10.829630147099518}, {\"promedio\": 51.75342957883727, \"desv_est\": 11.047382328559934}, {\"promedio\": 50.78261448887414, \"desv_est\": 11.202069383428295}, {\"promedio\": 51.10477583850715, \"desv_est\": 9.78397713645063}, {\"promedio\": 52.068173225759885, \"desv_est\": 10.496431796991251}, {\"promedio\": 51.18719122257254, \"desv_est\": 9.696464184614797}, {\"promedio\": 49.86452399290423, \"desv_est\": 10.456200714274305}, {\"promedio\": 50.584071371557144, \"desv_est\": 10.076771615164029}, {\"promedio\": 50.40027671782939, \"desv_est\": 10.44678405835762}, {\"promedio\": 49.86327075829481, \"desv_est\": 9.608354430880425}, {\"promedio\": 50.12592713211331, \"desv_est\": 10.669210618480122}, {\"promedio\": 50.4584452616713, \"desv_est\": 9.817516500395891}, {\"promedio\": 51.24826549670342, \"desv_est\": 9.478588937219442}, {\"promedio\": 50.60351737010016, \"desv_est\": 11.606494215559586}, {\"promedio\": 51.49136084386845, \"desv_est\": 10.801245817906524}, {\"promedio\": 49.461944703348806, \"desv_est\": 10.1491273579055}, {\"promedio\": 50.703567945806796, \"desv_est\": 11.093126550641545}, {\"promedio\": 49.777349278292164, \"desv_est\": 9.680902651825711}, {\"promedio\": 51.27236987862469, \"desv_est\": 9.885855623778156}, {\"promedio\": 50.64444659758109, \"desv_est\": 9.310154133396798}, {\"promedio\": 51.776625141701075, \"desv_est\": 10.558354884717641}, {\"promedio\": 51.83946996628321, \"desv_est\": 11.127307982733338}, {\"promedio\": 51.235844840123484, \"desv_est\": 11.4867548635503}, {\"promedio\": 49.36882924429538, \"desv_est\": 10.964950693894263}, {\"promedio\": 51.668837397479315, \"desv_est\": 10.276120885560406}, {\"promedio\": 50.98401818190099, \"desv_est\": 10.877986597549631}, {\"promedio\": 49.21595343956311, \"desv_est\": 11.067154868653166}, {\"promedio\": 49.20521122502392, \"desv_est\": 9.916827285053206}, {\"promedio\": 49.65749381735869, \"desv_est\": 11.3371254732457}, {\"promedio\": 50.69621395171444, \"desv_est\": 11.498899628477117}, {\"promedio\": 50.923934333511575, \"desv_est\": 10.644108881105948}, {\"promedio\": 49.59723679286024, \"desv_est\": 10.384281417594734}, {\"promedio\": 50.0873164918395, \"desv_est\": 10.840904179130222}, {\"promedio\": 49.38411620584706, \"desv_est\": 10.11370562823997}, {\"promedio\": 51.809762403230934, \"desv_est\": 11.533679428087508}, {\"promedio\": 50.80467701521554, \"desv_est\": 12.305623491061223}, {\"promedio\": 52.77886027750773, \"desv_est\": 10.833900724995429}, {\"promedio\": 51.78127384528938, \"desv_est\": 9.048096123233666}, {\"promedio\": 52.10998424979164, \"desv_est\": 9.61084289507895}, {\"promedio\": 50.297739879553106, \"desv_est\": 8.985713028166229}, {\"promedio\": 52.39985760241692, \"desv_est\": 10.57743170477343}, {\"promedio\": 48.90688225200437, \"desv_est\": 11.442998552790455}, {\"promedio\": 50.47524766949122, \"desv_est\": 9.78721806782161}, {\"promedio\": 50.33309141277484, \"desv_est\": 10.117527573299677}, {\"promedio\": 50.89371580150012, \"desv_est\": 11.545209844831728}, {\"promedio\": 50.97092493012869, \"desv_est\": 10.852771875666857}, {\"promedio\": 50.286881364978804, \"desv_est\": 9.631903242774879}, {\"promedio\": 50.538821636678264, \"desv_est\": 10.117357719988528}, {\"promedio\": 49.855634301667706, \"desv_est\": 9.565539697834193}, {\"promedio\": 50.127969943897845, \"desv_est\": 11.03938222282984}, {\"promedio\": 51.22711666565868, \"desv_est\": 9.853540865991198}, {\"promedio\": 49.55484822900725, \"desv_est\": 9.507047434556341}, {\"promedio\": 50.10024801785723, \"desv_est\": 10.492656008008668}, {\"promedio\": 50.13467192492089, \"desv_est\": 10.63784492240121}, {\"promedio\": 50.19302647071165, \"desv_est\": 10.856366179981737}, {\"promedio\": 51.20473180470087, \"desv_est\": 10.8795778736138}, {\"promedio\": 50.95656857944816, \"desv_est\": 9.698134718771758}, {\"promedio\": 49.33009522138343, \"desv_est\": 10.074948033860785}, {\"promedio\": 51.448437155097714, \"desv_est\": 11.008374480770877}, {\"promedio\": 51.84263174275381, \"desv_est\": 10.978892773576598}, {\"promedio\": 52.08628236656393, \"desv_est\": 10.204847166500521}, {\"promedio\": 51.51848361555978, \"desv_est\": 11.047162961059238}, {\"promedio\": 51.99735639904752, \"desv_est\": 10.935152315966834}, {\"promedio\": 50.8936234378445, \"desv_est\": 10.095364140092311}, {\"promedio\": 50.0933880291401, \"desv_est\": 9.951055338117516}, {\"promedio\": 50.79924147808638, \"desv_est\": 10.466838106043488}, {\"promedio\": 49.188994839639896, \"desv_est\": 10.919280719880131}, {\"promedio\": 50.446752359814745, \"desv_est\": 11.07276545218435}, {\"promedio\": 49.776715043699774, \"desv_est\": 10.463050742364118}, {\"promedio\": 50.376337751545606, \"desv_est\": 10.170400856716892}, {\"promedio\": 51.12937279376994, \"desv_est\": 10.272660867483928}, {\"promedio\": 49.586384008014186, \"desv_est\": 10.786141692193931}, {\"promedio\": 50.76142136291543, \"desv_est\": 11.173723855453261}, {\"promedio\": 51.437246544554064, \"desv_est\": 11.082040550857414}, {\"promedio\": 50.80373476083258, \"desv_est\": 10.604077662209205}, {\"promedio\": 49.935574097022396, \"desv_est\": 10.750752836807658}, {\"promedio\": 51.63294799977924, \"desv_est\": 10.21781104827095}, {\"promedio\": 49.39583190679496, \"desv_est\": 9.345892402843962}, {\"promedio\": 50.78607084973324, \"desv_est\": 10.684820312236788}, {\"promedio\": 50.18616666142776, \"desv_est\": 9.997720935141075}, {\"promedio\": 49.805789924559505, \"desv_est\": 9.552582718981785}, {\"promedio\": 51.06747625854533, \"desv_est\": 9.922225506894069}, {\"promedio\": 49.752069983873774, \"desv_est\": 10.285579778289096}, {\"promedio\": 49.25642089226108, \"desv_est\": 10.360720590132349}, {\"promedio\": 49.9175540344407, \"desv_est\": 10.916878924132888}, {\"promedio\": 49.35657965316509, \"desv_est\": 11.434049232236918}, {\"promedio\": 50.78656847855731, \"desv_est\": 10.787324723232206}, {\"promedio\": 49.73678826679632, \"desv_est\": 11.15271789233714}, {\"promedio\": 50.44154210965809, \"desv_est\": 11.12937274436107}, {\"promedio\": 52.01464310723325, \"desv_est\": 9.203229230088926}, {\"promedio\": 48.87184087126915, \"desv_est\": 10.590924833427266}, {\"promedio\": 48.864760028226186, \"desv_est\": 10.081568102926182}, {\"promedio\": 50.39450578363719, \"desv_est\": 9.585883236318365}, {\"promedio\": 50.58783586419137, \"desv_est\": 10.212223145394407}, {\"promedio\": 49.09237821216565, \"desv_est\": 10.751563975739824}, {\"promedio\": 51.50404275685228, \"desv_est\": 11.238000450498044}, {\"promedio\": 52.383033002294596, \"desv_est\": 10.212607618822178}, {\"promedio\": 50.72981571217899, \"desv_est\": 9.260773496604228}, {\"promedio\": 51.34642970875428, \"desv_est\": 11.088240637579561}, {\"promedio\": 48.99794023668038, \"desv_est\": 10.694288492312305}, {\"promedio\": 48.871042030041, \"desv_est\": 10.579804109506505}, {\"promedio\": 51.38136405329011, \"desv_est\": 11.11902770022098}, {\"promedio\": 49.107859759251376, \"desv_est\": 11.183255202280941}, {\"promedio\": 49.28369115039909, \"desv_est\": 10.13586750779163}, {\"promedio\": 51.12750083831192, \"desv_est\": 10.746997159149638}, {\"promedio\": 50.875046144670286, \"desv_est\": 10.87132791088779}, {\"promedio\": 50.56829466192891, \"desv_est\": 10.606982760642548}, {\"promedio\": 50.170968216717256, \"desv_est\": 9.834110807226072}, {\"promedio\": 51.26704488622982, \"desv_est\": 10.397583037518498}, {\"promedio\": 49.43367924892968, \"desv_est\": 11.790128180909546}, {\"promedio\": 49.855757691767764, \"desv_est\": 12.302157329269075}, {\"promedio\": 49.635834975116516, \"desv_est\": 10.095966513446164}, {\"promedio\": 50.324652850139806, \"desv_est\": 9.988404960136865}, {\"promedio\": 50.981632056745205, \"desv_est\": 11.183568471313228}, {\"promedio\": 51.93189582373001, \"desv_est\": 10.785579291375706}, {\"promedio\": 51.500438659289046, \"desv_est\": 9.771656098479047}, {\"promedio\": 49.300656855690484, \"desv_est\": 11.150949341104402}, {\"promedio\": 49.700541393692575, \"desv_est\": 11.61570283642779}, {\"promedio\": 52.17961840525854, \"desv_est\": 11.172184837005291}, {\"promedio\": 52.40871824485587, \"desv_est\": 10.948130269825555}, {\"promedio\": 52.642497401295735, \"desv_est\": 10.210925071328688}, {\"promedio\": 50.815116506291105, \"desv_est\": 11.303511405030374}, {\"promedio\": 50.59098410058815, \"desv_est\": 11.605765871616377}, {\"promedio\": 51.420685886974894, \"desv_est\": 9.858924675536647}, {\"promedio\": 51.45754085273681, \"desv_est\": 10.161782642878777}, {\"promedio\": 51.20359674872298, \"desv_est\": 10.02613228471668}, {\"promedio\": 49.882327657016695, \"desv_est\": 10.609046691924956}, {\"promedio\": 50.95217502806047, \"desv_est\": 10.082379407932693}, {\"promedio\": 51.359065728080886, \"desv_est\": 11.680094606354626}, {\"promedio\": 50.554926592914505, \"desv_est\": 10.587492045155434}, {\"promedio\": 51.65842213928483, \"desv_est\": 10.319614187070426}, {\"promedio\": 52.13961952395044, \"desv_est\": 10.276087861872593}, {\"promedio\": 51.21866631905445, \"desv_est\": 10.816003986641675}, {\"promedio\": 49.037958194228054, \"desv_est\": 10.743950685709533}, {\"promedio\": 52.04836020359561, \"desv_est\": 10.581283818347968}, {\"promedio\": 51.34538874933678, \"desv_est\": 9.034562020296228}, {\"promedio\": 50.111443488845026, \"desv_est\": 10.554025640235205}, {\"promedio\": 51.689050009151686, \"desv_est\": 9.992365607999012}, {\"promedio\": 50.95604181758268, \"desv_est\": 11.319439626420047}, {\"promedio\": 49.67754855859872, \"desv_est\": 10.543575180284146}, {\"promedio\": 50.50960901613257, \"desv_est\": 11.664992084721412}, {\"promedio\": 53.28112379420721, \"desv_est\": 10.601828976242663}, {\"promedio\": 52.34005790035759, \"desv_est\": 8.931569694720299}, {\"promedio\": 51.48524319949047, \"desv_est\": 9.163688674054804}, {\"promedio\": 50.97997613583061, \"desv_est\": 10.619604000712851}, {\"promedio\": 50.25628530829919, \"desv_est\": 10.593102983621879}, {\"promedio\": 50.86403210813641, \"desv_est\": 10.372261938246124}, {\"promedio\": 49.86744488509429, \"desv_est\": 10.012958553390215}, {\"promedio\": 50.214027205311886, \"desv_est\": 10.171950972233883}, {\"promedio\": 50.575187991460574, \"desv_est\": 9.314289557824088}, {\"promedio\": 51.82044847482462, \"desv_est\": 10.267966741008234}, {\"promedio\": 51.567255040806344, \"desv_est\": 9.121141186632084}, {\"promedio\": 49.641218419788444, \"desv_est\": 11.495837109530608}, {\"promedio\": 51.2981862069298, \"desv_est\": 11.40409814242868}, {\"promedio\": 49.313823059300695, \"desv_est\": 10.699564408450417}, {\"promedio\": 50.887130914185214, \"desv_est\": 9.485953967212126}, {\"promedio\": 49.750369146951016, \"desv_est\": 11.404419288252646}, {\"promedio\": 51.52486115563727, \"desv_est\": 10.65859471758381}, {\"promedio\": 48.614063443293446, \"desv_est\": 10.555935940643765}, {\"promedio\": 48.769907692046985, \"desv_est\": 9.72167750696915}, {\"promedio\": 49.17680054035592, \"desv_est\": 10.4465050228902}, {\"promedio\": 51.924176460797284, \"desv_est\": 9.057340515686255}, {\"promedio\": 52.444620895240845, \"desv_est\": 10.807120601437045}, {\"promedio\": 50.075917447584466, \"desv_est\": 10.603374293194875}, {\"promedio\": 49.964084010057796, \"desv_est\": 10.179885081664557}, {\"promedio\": 49.871202180593585, \"desv_est\": 10.366176288320373}, {\"promedio\": 49.8719553599889, \"desv_est\": 10.78765910394548}, {\"promedio\": 49.554963416692026, \"desv_est\": 10.970277441345583}, {\"promedio\": 50.78936781600892, \"desv_est\": 9.059296312010483}, {\"promedio\": 51.93929165597245, \"desv_est\": 10.287467619598159}, {\"promedio\": 48.705639616954855, \"desv_est\": 10.23785231499128}, {\"promedio\": 50.64260807494567, \"desv_est\": 9.653748388346786}, {\"promedio\": 50.094340794915155, \"desv_est\": 9.974061629956081}, {\"promedio\": 51.5107061070371, \"desv_est\": 9.999599082922972}, {\"promedio\": 49.17391226974872, \"desv_est\": 10.949096400708283}, {\"promedio\": 51.4734729777075, \"desv_est\": 10.914673432817825}, {\"promedio\": 49.58046393845503, \"desv_est\": 9.276686603435225}, {\"promedio\": 48.90870373203492, \"desv_est\": 10.674587916613238}, {\"promedio\": 51.83274338982334, \"desv_est\": 11.474978377902769}, {\"promedio\": 50.7825744684514, \"desv_est\": 11.723383089588273}, {\"promedio\": 49.678381252167064, \"desv_est\": 11.139510712740567}, {\"promedio\": 50.8517451953569, \"desv_est\": 10.14686784832221}, {\"promedio\": 51.109407422703555, \"desv_est\": 11.133552978817441}, {\"promedio\": 50.365916140897156, \"desv_est\": 11.275140199357963}, {\"promedio\": 51.73152191432257, \"desv_est\": 10.65576689297619}, {\"promedio\": 51.285645811989255, \"desv_est\": 9.924950136465018}, {\"promedio\": 50.43162809078043, \"desv_est\": 10.979390733129204}, {\"promedio\": 50.98843586217672, \"desv_est\": 9.816702671813124}, {\"promedio\": 49.286878983911876, \"desv_est\": 10.575772621753034}, {\"promedio\": 50.797387859699626, \"desv_est\": 10.562136443946985}, {\"promedio\": 50.26382288719808, \"desv_est\": 9.75448146798498}, {\"promedio\": 50.79023635815501, \"desv_est\": 9.687436992394584}, {\"promedio\": 50.57139145172772, \"desv_est\": 10.213082846924637}, {\"promedio\": 50.04915692132794, \"desv_est\": 9.73936164113853}, {\"promedio\": 49.1257708577564, \"desv_est\": 9.953093597561319}, {\"promedio\": 51.50545097867207, \"desv_est\": 10.708282834106685}, {\"promedio\": 50.66954918892067, \"desv_est\": 11.137014914109082}, {\"promedio\": 50.67207583238667, \"desv_est\": 9.67881598770787}, {\"promedio\": 49.759930642393506, \"desv_est\": 10.837849101252317}, {\"promedio\": 49.693472580409356, \"desv_est\": 10.544595321799436}, {\"promedio\": 50.966892001740625, \"desv_est\": 10.631347914488233}, {\"promedio\": 51.081250229177236, \"desv_est\": 10.182506574279898}, {\"promedio\": 50.15424668769911, \"desv_est\": 10.336041053939688}, {\"promedio\": 50.536839467443556, \"desv_est\": 10.552462210205256}, {\"promedio\": 51.278361515102084, \"desv_est\": 10.402955747354218}, {\"promedio\": 50.603104175642216, \"desv_est\": 11.290779352763384}, {\"promedio\": 49.06950287602188, \"desv_est\": 9.381445162260016}, {\"promedio\": 49.93363910908206, \"desv_est\": 10.521240096575411}, {\"promedio\": 50.41028388750838, \"desv_est\": 10.457516113743194}, {\"promedio\": 50.98327683990682, \"desv_est\": 11.173547021785456}, {\"promedio\": 49.520385641653874, \"desv_est\": 10.660130550792639}, {\"promedio\": 51.09570061582225, \"desv_est\": 9.877952959644755}, {\"promedio\": 50.46258479731679, \"desv_est\": 10.539425043441508}, {\"promedio\": 50.716442820478264, \"desv_est\": 11.605862148907097}, {\"promedio\": 50.88567492782748, \"desv_est\": 11.886000914024995}, {\"promedio\": 49.68990114764542, \"desv_est\": 9.268520722637835}, {\"promedio\": 49.835345985746834, \"desv_est\": 11.118818387468002}, {\"promedio\": 51.06525028514003, \"desv_est\": 11.357316701789113}, {\"promedio\": 51.452053518830006, \"desv_est\": 11.68646288068943}, {\"promedio\": 50.16934348562435, \"desv_est\": 11.604430780201564}, {\"promedio\": 48.54535112101146, \"desv_est\": 10.009110579984194}, {\"promedio\": 48.681352684780414, \"desv_est\": 10.106596642967322}, {\"promedio\": 48.66677278839144, \"desv_est\": 10.480944984695519}, {\"promedio\": 50.60279334158824, \"desv_est\": 11.205306178888517}, {\"promedio\": 50.59081674981279, \"desv_est\": 10.637045274864912}, {\"promedio\": 49.96084540806923, \"desv_est\": 10.712790310407122}, {\"promedio\": 49.004319912932324, \"desv_est\": 10.934937092817274}, {\"promedio\": 50.168868852584545, \"desv_est\": 9.219813303907891}, {\"promedio\": 51.111114181554946, \"desv_est\": 9.417780746420531}, {\"promedio\": 49.91874883801563, \"desv_est\": 10.87683891762953}, {\"promedio\": 51.95922192505788, \"desv_est\": 10.40530843713555}, {\"promedio\": 51.94716955257176, \"desv_est\": 11.105895173199102}, {\"promedio\": 51.551308618062706, \"desv_est\": 9.964174347417616}, {\"promedio\": 51.184719930632404, \"desv_est\": 9.948565611480193}, {\"promedio\": 52.17220778898797, \"desv_est\": 10.112997320938318}, {\"promedio\": 50.60632244391599, \"desv_est\": 10.105619344980134}, {\"promedio\": 52.44773964594198, \"desv_est\": 10.427854832441014}, {\"promedio\": 51.37290862904264, \"desv_est\": 10.243219736745552}, {\"promedio\": 49.75427126717635, \"desv_est\": 10.393697652428926}, {\"promedio\": 52.62221785307595, \"desv_est\": 10.57295201753136}, {\"promedio\": 48.956086096548646, \"desv_est\": 8.648248586102262}, {\"promedio\": 50.912713390778094, \"desv_est\": 8.737848129572898}, {\"promedio\": 48.707080359015, \"desv_est\": 10.184360216045203}, {\"promedio\": 49.27454168422168, \"desv_est\": 11.311402675326846}, {\"promedio\": 51.929209490769175, \"desv_est\": 10.788020584112195}, {\"promedio\": 49.311432146810894, \"desv_est\": 10.833593850705734}, {\"promedio\": 49.71382140001061, \"desv_est\": 10.984367459442936}, {\"promedio\": 49.61562840871412, \"desv_est\": 11.393521946610806}, {\"promedio\": 48.87775130750893, \"desv_est\": 10.357684337887617}, {\"promedio\": 47.813860296070324, \"desv_est\": 11.41809726953305}, {\"promedio\": 52.87113393922924, \"desv_est\": 11.208220354420854}, {\"promedio\": 52.04142548761082, \"desv_est\": 9.677597940706933}, {\"promedio\": 52.095596019151216, \"desv_est\": 10.417672351458265}, {\"promedio\": 49.147557056886214, \"desv_est\": 10.478647522437091}, {\"promedio\": 48.69330225190411, \"desv_est\": 9.624792217985386}, {\"promedio\": 50.42589323730942, \"desv_est\": 10.094854287995759}, {\"promedio\": 49.78496746806924, \"desv_est\": 10.339655269702089}, {\"promedio\": 49.928739635473725, \"desv_est\": 9.34341705887716}, {\"promedio\": 49.40169320419759, \"desv_est\": 9.6514396233847}, {\"promedio\": 49.703929044328156, \"desv_est\": 10.001247540447002}, {\"promedio\": 50.42461016596702, \"desv_est\": 11.655113222290113}, {\"promedio\": 49.96558728926803, \"desv_est\": 10.997694075393042}, {\"promedio\": 49.34922646343795, \"desv_est\": 10.335888090174247}, {\"promedio\": 52.170950499001606, \"desv_est\": 10.821013740747114}, {\"promedio\": 50.965673122873525, \"desv_est\": 10.213603469599807}, {\"promedio\": 50.14190053174266, \"desv_est\": 9.648563606047162}, {\"promedio\": 51.21397368430148, \"desv_est\": 9.743946393510871}, {\"promedio\": 49.530105410502124, \"desv_est\": 10.599578803221801}, {\"promedio\": 50.52422664826588, \"desv_est\": 10.492912090135976}, {\"promedio\": 51.08123406679006, \"desv_est\": 10.9673928930263}, {\"promedio\": 49.344060422438, \"desv_est\": 10.173854755819873}, {\"promedio\": 51.38590271791825, \"desv_est\": 11.055832040415885}, {\"promedio\": 49.32187836051489, \"desv_est\": 9.09834179559488}, {\"promedio\": 51.78777104903814, \"desv_est\": 11.743881006211472}, {\"promedio\": 51.37053342185293, \"desv_est\": 11.060283702437637}, {\"promedio\": 51.21608712536355, \"desv_est\": 9.456113392780383}, {\"promedio\": 49.8278691356864, \"desv_est\": 10.558933447489087}, {\"promedio\": 51.45003595222568, \"desv_est\": 9.990105591246662}, {\"promedio\": 50.263139073171494, \"desv_est\": 9.52256014687505}, {\"promedio\": 50.443985733126596, \"desv_est\": 10.171763466004201}, {\"promedio\": 49.71908308414283, \"desv_est\": 9.802139477909684}, {\"promedio\": 50.71856145714373, \"desv_est\": 9.712506459801128}, {\"promedio\": 50.44251901582557, \"desv_est\": 10.475721428664942}, {\"promedio\": 49.75120566851151, \"desv_est\": 10.585785899192071}, {\"promedio\": 50.22880361717031, \"desv_est\": 10.63026152473739}, {\"promedio\": 49.661152550220244, \"desv_est\": 10.77195634892084}, {\"promedio\": 50.53492316146098, \"desv_est\": 10.708691166319843}, {\"promedio\": 50.68103720134632, \"desv_est\": 10.474558013738434}, {\"promedio\": 50.51991882526915, \"desv_est\": 10.14995009639363}, {\"promedio\": 50.47479160036957, \"desv_est\": 9.089505381649486}, {\"promedio\": 49.404065637215375, \"desv_est\": 9.371155994037704}, {\"promedio\": 48.79704361975331, \"desv_est\": 10.110123584432163}, {\"promedio\": 50.492458961437954, \"desv_est\": 9.693891068925778}, {\"promedio\": 50.71356554719361, \"desv_est\": 9.89833550002696}, {\"promedio\": 49.53869208268688, \"desv_est\": 10.024028153415493}, {\"promedio\": 51.34592554978475, \"desv_est\": 11.098320006373122}, {\"promedio\": 51.341208911081225, \"desv_est\": 10.253356933858635}, {\"promedio\": 49.13851483444992, \"desv_est\": 8.864480380352388}, {\"promedio\": 48.01150454805015, \"desv_est\": 9.963494396286166}, {\"promedio\": 49.637650959822246, \"desv_est\": 9.93417797804194}, {\"promedio\": 49.18444611980158, \"desv_est\": 9.692817554243874}, {\"promedio\": 51.03793017290377, \"desv_est\": 9.46420413445436}, {\"promedio\": 49.89427369492513, \"desv_est\": 11.211124991881498}, {\"promedio\": 50.285515078571215, \"desv_est\": 10.801502416617222}, {\"promedio\": 48.302708811499585, \"desv_est\": 10.715582652320782}, {\"promedio\": 52.097887847353824, \"desv_est\": 9.74735292498574}, {\"promedio\": 50.17084102701886, \"desv_est\": 11.26227027470049}, {\"promedio\": 51.05637871072989, \"desv_est\": 10.531050076778383}, {\"promedio\": 49.939345403632764, \"desv_est\": 10.616843649907805}, {\"promedio\": 49.86889147841263, \"desv_est\": 9.509078481472496}, {\"promedio\": 50.936002761260696, \"desv_est\": 9.67865886539231}, {\"promedio\": 50.809021131119344, \"desv_est\": 10.738699874633424}, {\"promedio\": 51.7546802757221, \"desv_est\": 10.726234069662583}, {\"promedio\": 50.318754726241835, \"desv_est\": 10.173877952691207}, {\"promedio\": 51.32155362672457, \"desv_est\": 9.748865630714853}, {\"promedio\": 9.04416317921866, \"desv_est\": 2.431135293746741}, {\"promedio\": 9.843283283047336, \"desv_est\": 3.1527623114676158}, {\"promedio\": -0.14151363352361912, \"desv_est\": 5.758873958480526}, {\"promedio\": 2.9574547572704035, \"desv_est\": 5.977677112195402}, {\"promedio\": 6.815001324312718, \"desv_est\": 5.803247556191046}, {\"promedio\": -1.2098243100868231, \"desv_est\": 8.25007302637791}, {\"promedio\": 1.189680260752422, \"desv_est\": 8.807816499906439}, {\"promedio\": 8.391586730142341, \"desv_est\": 8.252785268998657}, {\"promedio\": 15.316025952992002, \"desv_est\": 10.099476613241643}, {\"promedio\": 26.192165100897334, \"desv_est\": 9.893516299635277}, {\"promedio\": 38.39164692698, \"desv_est\": 12.80216142640193}, {\"promedio\": 39.79627986154711, \"desv_est\": 14.605398882169798}, {\"promedio\": 49.58159814504781, \"desv_est\": 16.877185368474596}, {\"promedio\": 44.98310394281503, \"desv_est\": 15.068017943855411}, {\"promedio\": 43.857711585493334, \"desv_est\": 11.439075743349251}, {\"promedio\": 47.828308289324625, \"desv_est\": 10.943922417212296}, {\"promedio\": 50.548237888011144, \"desv_est\": 9.855178645989767}, {\"promedio\": 50.6028375804398, \"desv_est\": 10.25404189753056}, {\"promedio\": 50.09705188244891, \"desv_est\": 10.037481451978636}, {\"promedio\": 51.42348243359622, \"desv_est\": 9.909965689198858}, {\"promedio\": 49.94492638518831, \"desv_est\": 9.744016078065744}, {\"promedio\": 50.398445436601286, \"desv_est\": 10.381494910647767}, {\"promedio\": 49.97791079014608, \"desv_est\": 10.528493124986381}, {\"promedio\": 50.489909078495586, \"desv_est\": 9.64719273923436}, {\"promedio\": 50.981967871054145, \"desv_est\": 10.719260824322278}, {\"promedio\": 50.205528326010345, \"desv_est\": 10.61811711254254}, {\"promedio\": 50.74856888394224, \"desv_est\": 11.206016289279946}, {\"promedio\": 51.25181800414613, \"desv_est\": 10.621603558003251}, {\"promedio\": 51.1085022548154, \"desv_est\": 11.43512360907988}, {\"promedio\": 52.378584518659025, \"desv_est\": 10.412583695440576}, {\"promedio\": 51.218977508772866, \"desv_est\": 10.898308264350097}, {\"promedio\": 50.18400625331436, \"desv_est\": 10.412008332329323}, {\"promedio\": 52.28997310512145, \"desv_est\": 9.893050390641246}, {\"promedio\": 51.155898817707666, \"desv_est\": 11.162174275230578}, {\"promedio\": 47.957472433279925, \"desv_est\": 10.195784222810254}, {\"promedio\": 50.52845306699467, \"desv_est\": 12.101000031024705}, {\"promedio\": 49.32225369123253, \"desv_est\": 10.424113217694778}, {\"promedio\": 49.556725361003984, \"desv_est\": 9.975830762828663}, {\"promedio\": 48.869206943012685, \"desv_est\": 10.04068429416047}, {\"promedio\": 49.59559137932483, \"desv_est\": 9.947396218201481}, {\"promedio\": 50.16373382696652, \"desv_est\": 11.293307583147199}, {\"promedio\": 51.3892558187182, \"desv_est\": 9.581056248098358}, {\"promedio\": 49.72531454048983, \"desv_est\": 11.575241577466231}, {\"promedio\": 49.34726884882935, \"desv_est\": 9.240143848771202}, {\"promedio\": 51.23565429705221, \"desv_est\": 10.39049334095257}, {\"promedio\": 51.31500860951618, \"desv_est\": 10.303835932419753}, {\"promedio\": 50.34883835621172, \"desv_est\": 9.833811441249782}, {\"promedio\": 49.51590194968128, \"desv_est\": 9.378627700252913}, {\"promedio\": 49.33899794367099, \"desv_est\": 10.979737232996728}, {\"promedio\": 48.679717083985125, \"desv_est\": 10.411240229046628}, {\"promedio\": 51.45141928561243, \"desv_est\": 9.88958133316502}, {\"promedio\": 49.78367084814567, \"desv_est\": 9.76861742485032}, {\"promedio\": 49.25819073955105, \"desv_est\": 10.210187692463514}, {\"promedio\": 48.869140201581516, \"desv_est\": 9.810225604211407}, {\"promedio\": 48.69375941706902, \"desv_est\": 9.740180866040351}, {\"promedio\": 51.80849992499697, \"desv_est\": 11.001456154844949}, {\"promedio\": 52.011265277408526, \"desv_est\": 10.741391951699333}, {\"promedio\": 51.15094015994155, \"desv_est\": 9.898535947569211}, {\"promedio\": 51.44912163334366, \"desv_est\": 10.183494334532664}, {\"promedio\": 51.054498485445954, \"desv_est\": 10.727874940672491}, {\"promedio\": 50.463180511073126, \"desv_est\": 8.980998252913878}, {\"promedio\": 51.209670404696354, \"desv_est\": 9.606680510308243}, {\"promedio\": 50.388403000256005, \"desv_est\": 10.730265051587294}, {\"promedio\": 50.71148899521287, \"desv_est\": 10.589219048480569}, {\"promedio\": 50.53986947855703, \"desv_est\": 10.457175560523787}, {\"promedio\": 50.66963276289779, \"desv_est\": 9.893777722730729}, {\"promedio\": 50.483812019674346, \"desv_est\": 10.635328060701845}, {\"promedio\": 51.1412763567067, \"desv_est\": 10.812787389503749}, {\"promedio\": 51.156404617482416, \"desv_est\": 10.966596196741115}, {\"promedio\": 50.85008802150523, \"desv_est\": 9.987413319546459}, {\"promedio\": 49.478598416735394, \"desv_est\": 10.395510227931629}, {\"promedio\": 49.403794407302755, \"desv_est\": 11.413389843385769}, {\"promedio\": 48.12441924053521, \"desv_est\": 10.213209927002803}, {\"promedio\": 48.772093169516225, \"desv_est\": 11.676793555399938}, {\"promedio\": 50.17000591147164, \"desv_est\": 11.287891470465182}, {\"promedio\": 51.82682027489289, \"desv_est\": 10.608821107391204}, {\"promedio\": 50.11603150475911, \"desv_est\": 11.236131258101475}, {\"promedio\": 50.94110695449849, \"desv_est\": 9.809167385215718}, {\"promedio\": 50.71850203259845, \"desv_est\": 9.986061733088253}, {\"promedio\": 49.4859951578911, \"desv_est\": 9.872124332194014}, {\"promedio\": 50.6182923415711, \"desv_est\": 11.249327340118336}, {\"promedio\": 50.61624244679004, \"desv_est\": 10.253192741337866}, {\"promedio\": 51.10392575331239, \"desv_est\": 10.767536497137057}, {\"promedio\": 50.21840703472409, \"desv_est\": 10.115419177026444}, {\"promedio\": 49.992068121758585, \"desv_est\": 10.05930278742926}, {\"promedio\": 49.9972136024513, \"desv_est\": 9.808852770668604}, {\"promedio\": 50.10972853752451, \"desv_est\": 9.542769440703385}, {\"promedio\": 49.42661497168081, \"desv_est\": 9.470926242630107}, {\"promedio\": 49.305790941674715, \"desv_est\": 10.187712684782818}, {\"promedio\": 50.605224873980994, \"desv_est\": 10.989295664521402}, {\"promedio\": 50.398274280787156, \"desv_est\": 10.396564262707857}, {\"promedio\": 50.32629302050092, \"desv_est\": 10.381864052973903}, {\"promedio\": 50.34748507848616, \"desv_est\": 9.868670931125868}, {\"promedio\": 50.17471229821724, \"desv_est\": 10.381169036903463}, {\"promedio\": 52.20848548577475, \"desv_est\": 9.95237906317281}, {\"promedio\": 48.58671311151653, \"desv_est\": 11.074285115542045}, {\"promedio\": 49.178530636622384, \"desv_est\": 10.17338493331107}, {\"promedio\": 53.636550733972086, \"desv_est\": 11.22926250365043}, {\"promedio\": 47.84885492081399, \"desv_est\": 10.418763683945816}, {\"promedio\": 48.59098307234209, \"desv_est\": 11.101628996755368}, {\"promedio\": 50.6729490125857, \"desv_est\": 10.161720248027404}, {\"promedio\": 49.65673328009745, \"desv_est\": 9.554884446308987}, {\"promedio\": 50.814034907725535, \"desv_est\": 10.443296404722991}, {\"promedio\": 50.09140636761217, \"desv_est\": 10.19982619101949}, {\"promedio\": 49.41177331177699, \"desv_est\": 9.797374686931194}, {\"promedio\": 50.87203629574758, \"desv_est\": 8.913752991731924}, {\"promedio\": 49.84744227825696, \"desv_est\": 8.980560406633026}, {\"promedio\": 49.19739271125471, \"desv_est\": 10.951828028288322}, {\"promedio\": 48.95689959684831, \"desv_est\": 10.100388904146715}, {\"promedio\": 51.61704843141917, \"desv_est\": 9.221768145807621}, {\"promedio\": 50.27591344692428, \"desv_est\": 9.457201946445988}, {\"promedio\": 50.2531424990281, \"desv_est\": 9.268897704450795}, {\"promedio\": 50.471454021586325, \"desv_est\": 11.361482119743386}, {\"promedio\": 47.48375737936612, \"desv_est\": 10.447075076258972}, {\"promedio\": 50.59264271531699, \"desv_est\": 8.534744308341544}, {\"promedio\": 49.499051195019476, \"desv_est\": 10.927700977170218}, {\"promedio\": 49.18116327792113, \"desv_est\": 10.651505388941638}, {\"promedio\": 48.995630990223745, \"desv_est\": 9.970654259108063}, {\"promedio\": 49.199985739050334, \"desv_est\": 10.371260690303858}, {\"promedio\": 49.58564175156441, \"desv_est\": 10.903858685371212}, {\"promedio\": 48.95232165431718, \"desv_est\": 10.455650614109608}, {\"promedio\": 52.792818410029994, \"desv_est\": 10.294927649963626}, {\"promedio\": 52.56518071469416, \"desv_est\": 11.617586449635311}, {\"promedio\": 49.98723267176236, \"desv_est\": 10.781488814769475}, {\"promedio\": 51.256633440191095, \"desv_est\": 9.742788277698686}, {\"promedio\": 48.71822831198769, \"desv_est\": 9.526746406221523}, {\"promedio\": 51.46780254855218, \"desv_est\": 10.775711206000231}, {\"promedio\": 51.459319908550896, \"desv_est\": 11.730573370562926}, {\"promedio\": 52.56059193029261, \"desv_est\": 10.238328609562448}, {\"promedio\": 48.29235334460904, \"desv_est\": 9.89949212159033}, {\"promedio\": 52.49161088276671, \"desv_est\": 11.581173272769398}, {\"promedio\": 50.6824316779126, \"desv_est\": 10.763957744131485}, {\"promedio\": 50.38764953745238, \"desv_est\": 9.622755928587182}, {\"promedio\": 50.76512439310634, \"desv_est\": 10.715162200454566}, {\"promedio\": 51.900060247424975, \"desv_est\": 11.238656280117395}, {\"promedio\": 52.54856903564243, \"desv_est\": 10.935795136222211}, {\"promedio\": 50.542119505144605, \"desv_est\": 11.88266089733299}, {\"promedio\": 48.78626811517397, \"desv_est\": 10.233345900066654}, {\"promedio\": 49.63265581544186, \"desv_est\": 10.021647026517103}, {\"promedio\": 48.9656310489467, \"desv_est\": 10.36553394846713}, {\"promedio\": 51.45458696557265, \"desv_est\": 10.185735380723145}, {\"promedio\": 50.776661618144, \"desv_est\": 9.92064382890991}, {\"promedio\": 50.143687244724525, \"desv_est\": 9.823437606343958}, {\"promedio\": 51.31305666886047, \"desv_est\": 10.792208930582197}, {\"promedio\": 51.532449771833875, \"desv_est\": 10.005631724521786}, {\"promedio\": 51.89152710885254, \"desv_est\": 11.000515326779755}, {\"promedio\": 51.75626414509181, \"desv_est\": 9.64219388615796}, {\"promedio\": 49.21978067756765, \"desv_est\": 10.644927859345845}, {\"promedio\": 51.94888190824766, \"desv_est\": 10.253479604615533}, {\"promedio\": 50.54876208739579, \"desv_est\": 11.5730763968044}, {\"promedio\": 50.30656837958927, \"desv_est\": 10.031421596972674}, {\"promedio\": 49.57832736171234, \"desv_est\": 11.085445948485512}, {\"promedio\": 50.613971409968215, \"desv_est\": 11.289032626437203}, {\"promedio\": 50.87008356895864, \"desv_est\": 8.851243423926142}, {\"promedio\": 51.76335363895366, \"desv_est\": 11.86521291808451}, {\"promedio\": 48.19676021732974, \"desv_est\": 11.73488519678944}, {\"promedio\": 49.253607086857656, \"desv_est\": 10.080257913564562}, {\"promedio\": 51.38065695130775, \"desv_est\": 9.89844927295757}, {\"promedio\": 49.56250601718307, \"desv_est\": 9.977027083771445}, {\"promedio\": 51.2878798016666, \"desv_est\": 11.093227457839708}, {\"promedio\": 51.11284413158415, \"desv_est\": 10.592926041912946}, {\"promedio\": 50.026212207766086, \"desv_est\": 10.797435623791257}, {\"promedio\": 49.46589621362876, \"desv_est\": 10.746200414467614}, {\"promedio\": 50.388549439882034, \"desv_est\": 10.352296662208367}, {\"promedio\": 51.231942534692266, \"desv_est\": 11.21957746038951}, {\"promedio\": 51.8923105604899, \"desv_est\": 10.364366226910622}, {\"promedio\": 49.677706652178294, \"desv_est\": 9.14985232028451}, {\"promedio\": 53.12499958132721, \"desv_est\": 10.078471806275887}, {\"promedio\": 50.75508334277987, \"desv_est\": 10.608821505714978}, {\"promedio\": 51.32114492311432, \"desv_est\": 11.460305250441996}, {\"promedio\": 49.69963604490659, \"desv_est\": 11.496414526910817}, {\"promedio\": 50.41669282978806, \"desv_est\": 10.915438647192506}, {\"promedio\": 49.35398850401219, \"desv_est\": 10.777835119662715}, {\"promedio\": 51.07611141261829, \"desv_est\": 9.876434822535389}, {\"promedio\": 49.93795282803624, \"desv_est\": 10.308401855891857}, {\"promedio\": 50.95647019447, \"desv_est\": 9.952668701485086}, {\"promedio\": 50.565872884919514, \"desv_est\": 10.454921151949756}, {\"promedio\": 50.6305477271198, \"desv_est\": 10.356753118680855}, {\"promedio\": 49.990779691554884, \"desv_est\": 9.83970184851819}, {\"promedio\": 51.227304925310854, \"desv_est\": 10.847218314766154}, {\"promedio\": 49.676541234278744, \"desv_est\": 10.356060702613982}, {\"promedio\": 52.105460343317574, \"desv_est\": 11.833327106991224}, {\"promedio\": 50.821188032137364, \"desv_est\": 12.28548700401801}, {\"promedio\": 52.14806780487673, \"desv_est\": 9.860976449525722}, {\"promedio\": 50.076834683153734, \"desv_est\": 9.425761918287813}, {\"promedio\": 51.483455545643565, \"desv_est\": 9.680718104680263}, {\"promedio\": 49.645220041727754, \"desv_est\": 9.588299446844715}, {\"promedio\": 51.44916000762378, \"desv_est\": 10.606249043325208}, {\"promedio\": 50.778021259955906, \"desv_est\": 10.957288474944916}, {\"promedio\": 49.60622467796063, \"desv_est\": 10.731202310010548}, {\"promedio\": 50.33712206491956, \"desv_est\": 9.197650501505134}, {\"promedio\": 52.12423608501747, \"desv_est\": 9.358721162321546}, {\"promedio\": 49.1035867917128, \"desv_est\": 9.697758957751097}, {\"promedio\": 48.30308428836804, \"desv_est\": 11.228335449523136}, {\"promedio\": 52.18564526721008, \"desv_est\": 11.907334991832537}, {\"promedio\": 47.813065850321834, \"desv_est\": 10.553426907729303}, {\"promedio\": 50.45783544651523, \"desv_est\": 10.332937734680533}, {\"promedio\": 51.129849717528266, \"desv_est\": 10.37330649649685}, {\"promedio\": 50.23015076793577, \"desv_est\": 8.943086098634206}, {\"promedio\": 50.98927495774582, \"desv_est\": 9.704783390091976}, {\"promedio\": 50.541141209152535, \"desv_est\": 10.866276687320525}, {\"promedio\": 51.487054219523216, \"desv_est\": 9.6473907399306}, {\"promedio\": 51.224593129682724, \"desv_est\": 10.704613954117889}, {\"promedio\": 51.38547270328167, \"desv_est\": 11.244848024162438}, {\"promedio\": 51.055328749477646, \"desv_est\": 9.678386073534325}, {\"promedio\": 50.37956696891894, \"desv_est\": 10.730795246445787}, {\"promedio\": 49.10379536093248, \"desv_est\": 10.124588820820994}, {\"promedio\": 50.25141661461766, \"desv_est\": 10.620954072119599}, {\"promedio\": 52.067484966996474, \"desv_est\": 10.761552571825783}, {\"promedio\": 50.2598080665245, \"desv_est\": 10.819782266014466}, {\"promedio\": 50.98764026183889, \"desv_est\": 9.948449900426839}, {\"promedio\": 49.88855245286074, \"desv_est\": 10.001079184373307}, {\"promedio\": 49.890463095534045, \"desv_est\": 10.434006850541552}, {\"promedio\": 51.78838129190732, \"desv_est\": 11.42137266239988}, {\"promedio\": 49.23577181114495, \"desv_est\": 10.605939821268572}, {\"promedio\": 50.004329673638395, \"desv_est\": 11.083981736409626}, {\"promedio\": 52.14405191678946, \"desv_est\": 9.324117366110254}, {\"promedio\": 48.80174460309302, \"desv_est\": 9.083503556884375}, {\"promedio\": 49.00917957341727, \"desv_est\": 11.246345894170117}, {\"promedio\": 51.43166627858677, \"desv_est\": 8.936332879021405}, {\"promedio\": 51.5958724467892, \"desv_est\": 9.628390635561162}, {\"promedio\": 50.49106558688212, \"desv_est\": 9.318304610742565}, {\"promedio\": 49.50244235111604, \"desv_est\": 11.440949608858261}, {\"promedio\": 50.405474215947976, \"desv_est\": 11.459621288965776}, {\"promedio\": 50.946145517066455, \"desv_est\": 10.46262330210218}, {\"promedio\": 50.945506836106794, \"desv_est\": 10.778128505334628}, {\"promedio\": 50.76069573828464, \"desv_est\": 10.809828630569717}, {\"promedio\": 51.704827742882614, \"desv_est\": 11.374740710632846}, {\"promedio\": 50.514942546370975, \"desv_est\": 10.997944227224723}, {\"promedio\": 50.74798481127541, \"desv_est\": 10.730625514566938}, {\"promedio\": 48.95994600843611, \"desv_est\": 10.07647329369465}, {\"promedio\": 49.79627292512386, \"desv_est\": 9.546907811698562}, {\"promedio\": 49.457128220706124, \"desv_est\": 10.038048974688119}, {\"promedio\": 50.20732807065922, \"desv_est\": 10.075094876956758}, {\"promedio\": 51.49832778676644, \"desv_est\": 10.330578201022313}, {\"promedio\": 49.65153786349382, \"desv_est\": 10.44969061110287}, {\"promedio\": 50.619758865386395, \"desv_est\": 9.609664224666892}, {\"promedio\": 50.06895994095228, \"desv_est\": 9.561575581586338}, {\"promedio\": 49.80022346763967, \"desv_est\": 10.877349722924775}, {\"promedio\": 49.06831972867898, \"desv_est\": 10.030470660444934}, {\"promedio\": 48.99985466117704, \"desv_est\": 10.559233639025466}, {\"promedio\": 48.62889699573205, \"desv_est\": 10.525735032971728}, {\"promedio\": 49.091157913165695, \"desv_est\": 10.888326033830815}, {\"promedio\": 49.94377980086851, \"desv_est\": 9.515140751708874}, {\"promedio\": 51.01039587492288, \"desv_est\": 10.983839249200026}, {\"promedio\": 50.435318552220835, \"desv_est\": 9.523030904243738}, {\"promedio\": 51.055948243941785, \"desv_est\": 9.591236896006771}, {\"promedio\": 50.558643979675445, \"desv_est\": 10.599900413312534}, {\"promedio\": 50.76140325827238, \"desv_est\": 9.33253433855479}, {\"promedio\": 52.062732323109636, \"desv_est\": 11.266367696067038}, {\"promedio\": 48.39246482686554, \"desv_est\": 9.920858833084475}, {\"promedio\": 48.398748618497834, \"desv_est\": 11.134763799485729}, {\"promedio\": 50.73794116620583, \"desv_est\": 8.923423101349982}, {\"promedio\": 49.093046079767234, \"desv_est\": 11.783774630856279}, {\"promedio\": 51.27936709483871, \"desv_est\": 10.415745451948233}, {\"promedio\": 50.67962208190844, \"desv_est\": 9.960163077636498}, {\"promedio\": 49.22891467669007, \"desv_est\": 9.812138108566518}, {\"promedio\": 50.154269349980744, \"desv_est\": 9.335230808837123}, {\"promedio\": 50.50346647903501, \"desv_est\": 10.914992227771291}, {\"promedio\": 50.1625599621993, \"desv_est\": 11.015906881263335}, {\"promedio\": 49.97151625932095, \"desv_est\": 9.27236917667618}, {\"promedio\": 51.53742448974047, \"desv_est\": 10.074326388911961}, {\"promedio\": 49.74741192928777, \"desv_est\": 10.743276930357254}, {\"promedio\": 51.47964544508688, \"desv_est\": 9.279094972427618}, {\"promedio\": 51.30362799056755, \"desv_est\": 9.21391846737271}, {\"promedio\": 50.21220978208696, \"desv_est\": 9.658571819997814}, {\"promedio\": 50.93569007895714, \"desv_est\": 9.948704097237792}, {\"promedio\": 51.24574623342436, \"desv_est\": 10.956394067807258}, {\"promedio\": 49.47868582814872, \"desv_est\": 10.6145917486161}, {\"promedio\": 50.314226838473324, \"desv_est\": 10.81132601349311}, {\"promedio\": 51.747176703646545, \"desv_est\": 9.32191304904879}, {\"promedio\": 50.88263032894815, \"desv_est\": 9.909931813324247}, {\"promedio\": 50.2777552684403, \"desv_est\": 9.6250073032971}, {\"promedio\": 49.816499658932706, \"desv_est\": 11.84152190463316}, {\"promedio\": 51.91988846463931, \"desv_est\": 11.386705573775854}, {\"promedio\": 49.2820728519015, \"desv_est\": 10.296419703820197}, {\"promedio\": 51.29471150545594, \"desv_est\": 9.268317975998665}, {\"promedio\": 50.571503871528094, \"desv_est\": 9.11573309392495}, {\"promedio\": 52.08948573087964, \"desv_est\": 10.93935565885937}, {\"promedio\": 50.815120091878406, \"desv_est\": 11.235928015989021}, {\"promedio\": 51.67535769183155, \"desv_est\": 10.791183085444706}, {\"promedio\": 49.84116629090508, \"desv_est\": 10.04236371136356}, {\"promedio\": 50.671283224753466, \"desv_est\": 10.025919549780326}, {\"promedio\": 51.19982296262595, \"desv_est\": 9.89655104151338}, {\"promedio\": 51.44847776579454, \"desv_est\": 9.385716120875752}, {\"promedio\": 51.96709098716097, \"desv_est\": 9.977016181510098}, {\"promedio\": 51.74835797408848, \"desv_est\": 10.390688365018736}, {\"promedio\": 50.25964470562689, \"desv_est\": 11.44674832672024}, {\"promedio\": 52.09247792173789, \"desv_est\": 10.025311895690473}, {\"promedio\": 48.77468843301839, \"desv_est\": 9.60480657046704}, {\"promedio\": 49.428257773741514, \"desv_est\": 10.823516250242529}, {\"promedio\": 50.8981044398466, \"desv_est\": 10.191774820221514}, {\"promedio\": 50.20329342343423, \"desv_est\": 10.831059838210606}, {\"promedio\": 51.142156084344634, \"desv_est\": 11.163124873064737}, {\"promedio\": 51.85602691255452, \"desv_est\": 10.76154063527425}, {\"promedio\": 49.39133921218025, \"desv_est\": 9.825364521395926}, {\"promedio\": 49.53577301308254, \"desv_est\": 10.802459511630211}, {\"promedio\": 49.90526473991112, \"desv_est\": 10.043938712128726}, {\"promedio\": 51.072827237608756, \"desv_est\": 10.578214383146879}, {\"promedio\": 51.755810060614714, \"desv_est\": 10.202737358436222}, {\"promedio\": 51.254267650354464, \"desv_est\": 10.58330497323255}, {\"promedio\": 49.701044906145015, \"desv_est\": 9.244485191100253}, {\"promedio\": 48.737459813599884, \"desv_est\": 10.033786773447545}, {\"promedio\": 51.70084772276056, \"desv_est\": 9.631112988134404}, {\"promedio\": 51.57352172719435, \"desv_est\": 10.809863423873674}, {\"promedio\": 50.69804395089744, \"desv_est\": 10.846288918995059}, {\"promedio\": 51.46957151354876, \"desv_est\": 9.907911142561241}, {\"promedio\": 49.48046550469434, \"desv_est\": 10.167731703806195}, {\"promedio\": 49.71566075551617, \"desv_est\": 11.452161754172696}, {\"promedio\": 51.16061216800573, \"desv_est\": 9.541615809286293}, {\"promedio\": 50.09790618489144, \"desv_est\": 9.811858741069887}, {\"promedio\": 49.09078807988993, \"desv_est\": 11.109966860646058}, {\"promedio\": 51.09509692047929, \"desv_est\": 9.923790762450437}, {\"promedio\": 49.70906452363466, \"desv_est\": 10.278914644674236}, {\"promedio\": 51.49309643931498, \"desv_est\": 10.362226456898814}, {\"promedio\": 50.90120096299916, \"desv_est\": 10.50411572597258}]}}, {\"mode\": \"vega-lite\"});\n",
       "</script>"
      ],
      "text/plain": [
       "alt.HConcatChart(...)"
      ]
     },
     "execution_count": 14,
     "metadata": {},
     "output_type": "execute_result"
    }
   ],
   "source": [
    "# Resultados (en forma de distribución, ambas cadenas)\n",
    "plot"
   ]
  },
  {
   "cell_type": "markdown",
   "metadata": {
    "slideshow": {
     "slide_type": "subslide"
    }
   },
   "source": [
    "\"Todos los modelos están mal, algunos son útiles\" (Box,1976)\n",
    "\n",
    "¿Predice nuestro modelo la data? <br>\n",
    "*Posterior predictive check* ($y^{rep}$: valor simulado; $y$: data; $\\theta$: parámetros)\n",
    "\n",
    "$$p(y^{rep}|y) = \\int p(y^{rep}|\\theta) p(\\theta|y) d\\theta $$"
   ]
  },
  {
   "cell_type": "markdown",
   "metadata": {
    "slideshow": {
     "slide_type": "fragment"
    }
   },
   "source": [
    "En lenguaje natural (casi): <br> \n",
    "En la integral, está el likelihood (1er termino) y posterior (2do). La implementamos con valores aleatorios de los parámetros $\\theta$."
   ]
  },
  {
   "cell_type": "code",
   "execution_count": null,
   "metadata": {
    "slideshow": {
     "slide_type": "subslide"
    }
   },
   "outputs": [],
   "source": [
    "# Posterior predictive check\n",
    "n_rep = 5000 \n",
    "y_rep = []\n",
    "for n in range(n_rep):\n",
    "    #posterior (2do termino integral)\n",
    "    idx = np.random.randint(data_mcmc.shape[0])\n",
    "    prom_rep = data_mcmc.loc[idx,'promedio']\n",
    "    idx = np.random.randint(data_mcmc.shape[0])\n",
    "    desv_est_rep = data_mcmc.loc[idx,'desv_est']\n",
    "    \n",
    "    #likelihood (1er termino integral)\n",
    "    y_rep.append(st.norm.rvs(prom_rep, desv_est_rep, size=1))\n"
   ]
  },
  {
   "cell_type": "code",
   "execution_count": null,
   "metadata": {
    "slideshow": {
     "slide_type": "skip"
    }
   },
   "outputs": [],
   "source": [
    "data_ppc = pd.DataFrame({'y_rep':np.array(y_rep)[:,0]}) \n",
    "den_ppc = alt.Chart(data_ppc).transform_density(#transformaciones a la data\n",
    "        density = 'y_rep', extent = [20,80], counts = True, steps=bins\n",
    "    ).mark_line( #tipo de gráfica\n",
    "        color='green', opacity=.75, strokeWidth = 5\n",
    "    ).encode(#detalles de los ejes\n",
    "        alt.X('value:Q', axis=alt.Axis(title='y_rep')),\n",
    "        alt.Y('density:Q', axis=alt.Axis(title=\"Densidad (kde)\")),\n",
    "    ).properties(\n",
    "        width=250, height=250, title = 'PPC'\n",
    "    )\n",
    "plot_ppc_data = (den_ppc | den_data.properties(\n",
    "    width=250, height=250, title = 'Data')\n",
    ").configure_axis(\n",
    "    titleFontSize=20, labelFontSize = 15, grid=False\n",
    ").configure_title(\n",
    "    fontSize=24\n",
    ")"
   ]
  },
  {
   "cell_type": "code",
   "execution_count": null,
   "metadata": {
    "slideshow": {
     "slide_type": "fragment"
    }
   },
   "outputs": [],
   "source": [
    "plot_ppc_data"
   ]
  },
  {
   "cell_type": "markdown",
   "metadata": {
    "slideshow": {
     "slide_type": "subslide"
    }
   },
   "source": [
    "¿Metropolis-Hastings siempre converge a la posterior?\n",
    "\n",
    "Respuesta corta: sí, el algoritmo converge cuando se cadena se hace bien (aunque puede demorarse). Respuesta larga, ver capitulo 7, Kruschke, 2da edición. \n"
   ]
  },
  {
   "cell_type": "markdown",
   "metadata": {
    "slideshow": {
     "slide_type": "subslide"
    }
   },
   "source": [
    "¿Metropolis-Hastings siempre converge a la posterior?\n",
    "\n",
    "Intuición. Tenemos la posterior $\\theta=0.15$. Esta cadena converge a la posterior.\n",
    "\n",
    "<center><img src=\"img/3_CB/mcmc_diagram.svg\" width = \"350\" height = '350'></center>\n",
    "<p style = 'font-size: 10px'>Fuente: https://people.duke.edu/~ccc14/sta-663/MCMC.html </p>\n",
    "\n",
    "Converge si la cadena es:\n",
    "* Irreducible (se puede ir a cualquier estado)\n",
    "* Aperiodica (no nos quedamos en un loop entre estados)\n",
    "* Recurrente (el tiempo de volver a un estado dado es finito)"
   ]
  },
  {
   "cell_type": "markdown",
   "metadata": {
    "slideshow": {
     "slide_type": "slide"
    }
   },
   "source": [
    "# Herramienta complementaria: gradient descent  "
   ]
  },
  {
   "cell_type": "markdown",
   "metadata": {
    "slideshow": {
     "slide_type": "subslide"
    }
   },
   "source": [
    "Objetivo: obtener el posterior\n",
    "\n",
    "Solución anterior: método estocástico (Markov + Montecarlo)\n",
    "\n",
    "Solución complementaria: seguir un gradiente\n"
   ]
  },
  {
   "cell_type": "markdown",
   "metadata": {
    "slideshow": {
     "slide_type": "subslide"
    }
   },
   "source": [
    "¿Qué es gradient descent (ascent)?<br>\n",
    "Metáfora alpinista (punto más alto) o urbanista (punto más bajo)\n",
    "\n",
    "<center><img src=\"img/3_CB/3D_panorama.svg\" width = \"500\" height = '500'></center>\n"
   ]
  },
  {
   "cell_type": "markdown",
   "metadata": {
    "slideshow": {
     "slide_type": "subslide"
    }
   },
   "source": [
    "El algoritmo para descent (minimizar) se ve algo así:\n",
    "* Calcular el gradiente (pendiente) negativo de la función en la posición actual: $\\nabla f(x_k)$\n",
    "\n",
    "* Moverse en dirección del gradiente negativo."
   ]
  },
  {
   "cell_type": "markdown",
   "metadata": {
    "slideshow": {
     "slide_type": "subslide"
    }
   },
   "source": [
    "Veamos la implementación de github.com/dtnewman/ con:\n",
    "\n",
    "$$f(x) = x^3 - 2x^2+2$$"
   ]
  },
  {
   "cell_type": "code",
   "execution_count": null,
   "metadata": {
    "slideshow": {
     "slide_type": "fragment"
    }
   },
   "outputs": [],
   "source": [
    "fig, ax = plt.subplots(1,1, figsize=[5,4.5]);\n",
    "f = lambda x: x**3-2*x**2+2 \n",
    "x = np.linspace(-1,2.5,1000)\n",
    "ax.plot(x, f(x), lw = 3);\n",
    "ax.set_title('Encontrar el mínimo (local)', fontsize=25);\n",
    "#fig.savefig(\"img/3_CB/Gradient_Desc.svg\"), plt.close();\n",
    "#plt.close()="
   ]
  },
  {
   "cell_type": "markdown",
   "metadata": {
    "slideshow": {
     "slide_type": "fragment"
    }
   },
   "source": [
    "<center><img src=\"img/3_CB/Gradient_Desc.svg\" width = \"400\" height = '400'></center>"
   ]
  },
  {
   "cell_type": "code",
   "execution_count": null,
   "metadata": {
    "slideshow": {
     "slide_type": "subslide"
    }
   },
   "outputs": [],
   "source": [
    "# Código 2D gradient descent github.com/dtnewman/stochastic_gradient_descent/\n",
    "\n",
    "def f_prime(x): #derivada de nuestra función\n",
    "    return 3*x**2-4*x\n",
    "\n",
    "x_old,  x_new = 0, 2.5 #posición inicial\n",
    "n_k = 0.01 #tamaño del paso\n",
    "precision = 0.001\n",
    "x_list, y_list = [x_new], [f(x_new)]    \n",
    "while abs(x_new - x_old) > precision:       \n",
    "    x_old = x_new\n",
    "    s_k = -f_prime(x_old)\n",
    "    x_new = x_old + n_k * s_k #La \"fuerza\" del movimiento depende del gradiente\n",
    "    x_list.append(x_new), y_list.append(f(x_new))        \n"
   ]
  },
  {
   "cell_type": "code",
   "execution_count": null,
   "metadata": {
    "slideshow": {
     "slide_type": "skip"
    }
   },
   "outputs": [],
   "source": [
    "#Plot\n",
    "def animate(i, x_list):\n",
    "    idx = int(i)\n",
    "    ax.plot(x_list[i], f(x_list[i]),'ro')\n",
    "    if idx>0:\n",
    "        x = x_list[(idx-1):(idx+1)]\n",
    "        y = [f(x[0]),f(x[1])]\n",
    "        ax.plot(x,y,'r')\n",
    "fig, ax = plt.subplots(1,1, figsize=[7,7]);\n",
    "ax.set_title('Encontrar el mínimo (local)', fontsize=25)\n",
    "x = np.linspace(-0.75,2.5,1000)\n",
    "ax.plot(x, f(x), lw = 3);\n",
    "# call the animator.  blit=True means only re-draw the parts that have changed.\n",
    "anim = animation.FuncAnimation(fig, animate, interval = 500, \n",
    "                               frames = len(x_list), blit=False, fargs = ([x_list]))\n",
    "writer = animation.PillowWriter(fps=5)\n",
    "#anim.save('img/3_CB/Gradient_animation.gif', writer = writer); #Compress online\n",
    "plt.close()"
   ]
  },
  {
   "cell_type": "markdown",
   "metadata": {
    "slideshow": {
     "slide_type": "fragment"
    }
   },
   "source": [
    "<center><img src=\"img/3_CB/Gradient_animation.gif\" width = \"350\" height = '350'></center>"
   ]
  },
  {
   "cell_type": "markdown",
   "metadata": {
    "slideshow": {
     "slide_type": "subslide"
    }
   },
   "source": [
    "¿Podemos acelerar el algoritmo? \n",
    "\n",
    "Sí. Podemos hacer el paso adaptativo. \n",
    "\n",
    "En el siguiente ejemplo hacemos \"trampa\" con una función minimizadora de Python. Lo importante es ver que se puede ser creativo en cómo explorar el espacio de la función."
   ]
  },
  {
   "cell_type": "code",
   "execution_count": null,
   "metadata": {
    "slideshow": {
     "slide_type": "subslide"
    }
   },
   "outputs": [],
   "source": [
    "# Pasamos esta función a un minimizador (fmin)\n",
    "def f2(n,x,s):\n",
    "    #n: paso; fmin cambia este para minimizar y\n",
    "    #s: gradiente; x: coordenada x\n",
    "    x = x + n*s #desplazamiento en x\n",
    "    y = f(x) #y (a minimizar)\n",
    "    return y \n",
    "\n",
    "x_old,  x_new = 0, 2.5 #posición inicial\n",
    "n_k_init = 0.1 #tamaño del paso (valor inicial a fmin)\n",
    "x_list, y_list = [x_new], [f(x_new)]\n",
    "while abs(x_new - x_old) > precision:\n",
    "    x_old = x_new\n",
    "    s_k = -f_prime(x_old)   \n",
    "    \n",
    "    # use scipy fmin function to find ideal step size.\n",
    "    n_k = fmin(f2,n_k_init,(x_old,s_k), full_output = False, disp = False)\n",
    "    \n",
    "    x_new = x_old + n_k * s_k\n",
    "    x_list.append(x_new)\n",
    "    y_list.append(f(x_new))"
   ]
  },
  {
   "cell_type": "code",
   "execution_count": null,
   "metadata": {
    "slideshow": {
     "slide_type": "skip"
    }
   },
   "outputs": [],
   "source": [
    "fig, ax = plt.subplots(1,1, figsize=[7,7]);\n",
    "ax.set_title('Encontrar el mínimo (local)\\n adaptativo', fontsize=25)\n",
    "x = np.linspace(-0.75,2.5,1000)\n",
    "ax.plot(x, f(x), lw = 3);\n",
    "# call the animator.  blit=True means only re-draw the parts that have changed.\n",
    "anim = animation.FuncAnimation(fig, animate, interval = 500, \n",
    "                               frames = len(x_list), blit=False, fargs = ([x_list]))\n",
    "writer = animation.PillowWriter(fps=5)\n",
    "#anim.save('img/3_CB/Gradient_adapt_animation.gif', writer = writer); #Compress online\n",
    "plt.close()"
   ]
  },
  {
   "cell_type": "markdown",
   "metadata": {
    "slideshow": {
     "slide_type": "subslide"
    }
   },
   "source": [
    "|<img src=\"img/3_CB/Gradient_animation.gif\" width = \"300\" height = '300'>|<img src=\"img/3_CB/Gradient_adapt_animation.gif\" width = \"300\" height = '300'>|\n",
    "|:-:|:-:|\n",
    "|||"
   ]
  },
  {
   "cell_type": "markdown",
   "metadata": {
    "slideshow": {
     "slide_type": "subslide"
    }
   },
   "source": [
    "Gradient descent no asegura encontrar mínimos (máximos) globales, solo locales.\n",
    "\n",
    "Podemos buscar óptimos (locales) de cualquier función. Por ejemplo, de una función de minimos cuadrados ordinarios (OLS, por sus siglas en inglés):\n",
    "$${1 \\over m} \\sum\\limits_{i=1}^m (h_\\beta(x_i)-y_i)^2$$\n",
    "\n",
    "Puede haber varios $\\beta$. Es el mismo algoritmo pero con derivadas parciales."
   ]
  },
  {
   "cell_type": "markdown",
   "metadata": {
    "slideshow": {
     "slide_type": "subslide"
    }
   },
   "source": [
    "¿Qué tiene que ver con Bayes?\n",
    "\n",
    "La posterior $p(\\theta_1,...\\theta_n|data)$ es una función multidimensional. Hay algoritmos MCMC que explotan gradientes, por ejemplo Hamiltonian MCMC. \n",
    "\n",
    "<center><img src=\"img/3_CB/3D_panorama.svg\" width = \"400\" height = '400'></center>"
   ]
  },
  {
   "cell_type": "markdown",
   "metadata": {
    "slideshow": {
     "slide_type": "subslide"
    }
   },
   "source": [
    "El MCMC hamiltoniano es popular. Esta es la intuición: recorre el posterior usando gradientes y momentum.\n",
    "\n",
    "<center><img src=\"img/3_CB/Hamiltonian_MCMC_1.svg\" width = \"475\" height = '475'></center>\n",
    "\n",
    "Fuente: Betancourt (2018)"
   ]
  },
  {
   "cell_type": "markdown",
   "metadata": {
    "slideshow": {
     "slide_type": "slide"
    }
   },
   "source": [
    "# Variational inference"
   ]
  },
  {
   "cell_type": "markdown",
   "metadata": {
    "slideshow": {
     "slide_type": "subslide"
    }
   },
   "source": [
    "Metáfora pintor (minimizar distancia)\n",
    "<center><img src=\"img/3_CB/triple_self_portrait.jpg\" width = \"400\" height = '400'></center>\n",
    "<p style = 'font-size: 15px'>Fuente: https://displate.com/tonycenteno/displates </p>\n"
   ]
  },
  {
   "cell_type": "markdown",
   "metadata": {
    "slideshow": {
     "slide_type": "subslide"
    }
   },
   "source": [
    "Problema: algunas posterior son difíciles de analizar matemáticamente o recorrer con MCMC.\n",
    "\n",
    "Solución de variational inference: Escoger una distribución lo suficientemente parecida y que sea fácil de samplear. Esa distribución la llaman variational."
   ]
  },
  {
   "cell_type": "markdown",
   "metadata": {
    "slideshow": {
     "slide_type": "subslide"
    }
   },
   "source": [
    "¿Qué significa que dos distribuciones sean parecidas?\n",
    "<center><img src=\"img/3_CB/KL_1.svg\" width = \"600\" height = '600'></center>\n"
   ]
  },
  {
   "cell_type": "markdown",
   "metadata": {
    "slideshow": {
     "slide_type": "subslide"
    }
   },
   "source": [
    "Varios criterios. Usaremos divergencia Kullback–Leibler (KL)\n",
    "\n",
    "$$ D_{KL} (q(z)\\|p(z|x)) = \\int_z q(z) log \\left(\\frac{q(z)}{p(z|x)} \\right)dz$$\n",
    "\n",
    "$q(z)$: Candidata (variational) <br>\n",
    "$p(z|x)$: Posterior \n",
    "\n",
    "Positiva y asimétrica: \n",
    "\n",
    "\\begin{equation} D_{KL} (q(z)\\|p(z|x)) \\ne D_{KL} (p(z|x)\\|q(z))\\end{equation}\n",
    "\n"
   ]
  },
  {
   "cell_type": "markdown",
   "metadata": {
    "slideshow": {
     "slide_type": "subslide"
    }
   },
   "source": [
    "Es el promedio de $log \\left(\\frac{q(z)}{p(z|x)} \\right)$, ponderando por $q(z)$\n",
    "\n",
    "$$ D_{KL} (q(z)\\|p(z|x)) = \\int_z q(z) log \\left(\\frac{q(z)}{p(z|x)} \\right)dz$$\n",
    "\n",
    "$log \\left(\\frac{q(z)}{p(z|x)} \\right) = log(q(z)) - log(p(z|x))$. Es decir, es el promedio de la diferencia de (log) probabilidades de z. \n",
    "\n",
    "Mide cuanta información se pierde cuando usamos q para aproximar p. \n",
    "\n",
    "Objetivo: minimizar esta cantidad (e.g. con gradient descent).\n"
   ]
  },
  {
   "cell_type": "code",
   "execution_count": 18,
   "metadata": {
    "slideshow": {
     "slide_type": "subslide"
    }
   },
   "outputs": [
    {
     "name": "stdout",
     "output_type": "stream",
     "text": [
      "La divergencia KL entre q y p es:  8.8069\n"
     ]
    }
   ],
   "source": [
    "#Ejemplo simple\n",
    "def KL(x, p, q):\n",
    "    return p(x) * np.log( p(x) / q(x) ) \n",
    "p = st.norm(10,2).pdf\n",
    "q = st.norm(18,4).pdf\n",
    "kl_int, err = integrate.quad(KL,-50,50,args=(q,p))\n",
    "print(\"La divergencia KL entre q y p es: \", round(kl_int,4))"
   ]
  },
  {
   "cell_type": "markdown",
   "metadata": {
    "slideshow": {
     "slide_type": "fragment"
    }
   },
   "source": [
    "<center><img src=\"img/3_CB/KL_2.svg\" width = \"600\" height = '600'></center>"
   ]
  },
  {
   "cell_type": "markdown",
   "metadata": {
    "slideshow": {
     "slide_type": "subslide"
    }
   },
   "source": [
    "Queremos minimizar la divergencia entre la posterior $p$ y la candidata $q$, que es más fácil de samplear. \n",
    "\n",
    "Pero primero, escribamos la divergencia KL de otra forma."
   ]
  },
  {
   "cell_type": "markdown",
   "metadata": {
    "slideshow": {
     "slide_type": "subslide"
    }
   },
   "source": [
    "\\begin{aligned}\n",
    "D_{\\text{KL}} \\big( q(\\boldsymbol{z}) || p(\\boldsymbol{z} | \\boldsymbol{x}) \\big) &= \\int\\limits_{\\boldsymbol{z}} q(\\boldsymbol{z}) \\log \\Big[ \\frac{q(\\boldsymbol{z})}{p(\\boldsymbol{z} | \\boldsymbol{x})} \\Big] d\\boldsymbol{z} \\\\\n",
    "\\end{aligned}\n",
    " "
   ]
  },
  {
   "cell_type": "markdown",
   "metadata": {
    "slideshow": {
     "slide_type": "fragment"
    }
   },
   "source": [
    "Apliquemos propiedad de logaritmos y dividamos la integral\n",
    "\n",
    "\\begin{aligned}\n",
    "&= \\int\\limits_{\\boldsymbol{z}} \\Big[ q(\\boldsymbol{z}) \\log q(\\boldsymbol{z}) \\Big] d\\boldsymbol{z} - \\int\\limits_{\\boldsymbol{z}} \\Big[ q(\\boldsymbol{z}) \\log p(\\boldsymbol{z} | \\boldsymbol{x}) \\Big] d\\boldsymbol{z}  \n",
    "\\end{aligned}\n"
   ]
  },
  {
   "cell_type": "markdown",
   "metadata": {
    "slideshow": {
     "slide_type": "fragment"
    }
   },
   "source": [
    "Son promedios, ponderados por $q(z)$\n",
    "\n",
    "\\begin{aligned}\n",
    "&= \\mathbb{E}_{q} \\big[ \\log q(\\boldsymbol{z}) \\big] - \\mathbb{E}_{q} \\big[ \\log p(\\boldsymbol{z} | \\boldsymbol{x}) \\big] \n",
    "\\end{aligned}\n",
    "\n"
   ]
  },
  {
   "cell_type": "markdown",
   "metadata": {
    "slideshow": {
     "slide_type": "subslide"
    }
   },
   "source": [
    "Apliquemos la definición de probabilidad condicional\n",
    "\n",
    "\\begin{aligned}\n",
    "&= \\mathbb{E}_{q} \\big[ \\log q(\\boldsymbol{z}) \\big] - \\mathbb{E}_{q} \\big[ \\log p(\\boldsymbol{z} | \\boldsymbol{x}) \\big] \\\\\n",
    "&= \\mathbb{E}_{q} \\big[ \\log q(\\boldsymbol{z}) \\big] - \\mathbb{E}_{q} \\bigg[ \\log \\Big[ \\frac{p(\\boldsymbol{x}, \\boldsymbol{z}) }{p(\\boldsymbol{x})} \\Big] \\bigg] \n",
    "\\end{aligned}\n"
   ]
  },
  {
   "cell_type": "markdown",
   "metadata": {
    "slideshow": {
     "slide_type": "fragment"
    }
   },
   "source": [
    "Propiedad de logaritmos \n",
    "\n",
    "\\begin{aligned}\n",
    "&= \\mathbb{E}_{q} \\big[ \\log q(\\boldsymbol{z}) \\big] - \\mathbb{E}_{q} \\big[ \\log p(\\boldsymbol{x}, \\boldsymbol{z}) \\big] + \\mathbb{E}_{q} \\big[ \\log p(\\boldsymbol{x}) \\big]\n",
    "\\end{aligned}\n"
   ]
  },
  {
   "cell_type": "markdown",
   "metadata": {
    "slideshow": {
     "slide_type": "fragment"
    }
   },
   "source": [
    "$\\mathbb{E}_{q} \\big[ \\log p(\\boldsymbol{x}) \\big] = \\log p(\\boldsymbol{x})$ i.e. el prior de x (i.e. data) no depende de q(z) por definición\n",
    "\n",
    "\\begin{aligned}\n",
    "&= \\mathbb{E}_{q} \\big[ \\log q(\\boldsymbol{z}) \\big] - \\mathbb{E}_{q} \\big[ \\log p(\\boldsymbol{x}, \\boldsymbol{z}) \\big] + \\log p(\\boldsymbol{x})\n",
    "\\end{aligned}"
   ]
  },
  {
   "cell_type": "markdown",
   "metadata": {
    "slideshow": {
     "slide_type": "subslide"
    }
   },
   "source": [
    "Tenemos entonces que la divergencia KL es:\n",
    "\n",
    "\\begin{aligned}\n",
    "D_{\\text{KL}} \\big( q(\\boldsymbol{z}) || p(\\boldsymbol{z} | \\boldsymbol{x}) \\big) &= \\mathbb{E}_{q} \\big[ \\log q(\\boldsymbol{z}) \\big] - \\mathbb{E}_{q} \\big[ \\log p(\\boldsymbol{x}, \\boldsymbol{z}) \\big] + \\log p(\\boldsymbol{x})\n",
    "\\end{aligned}\n",
    "\n",
    "Ahora definamos evidence lower bound (ELBO) como una reorganización de los dos primeros términos:\n",
    "\n",
    "\\begin{aligned}\n",
    "ELBO &= \\mathbb{E}_{q} \\big[ \\log p(\\boldsymbol{x}, \\boldsymbol{z}) \\big] - \\mathbb{E}_{q} \\big[ \\log q(\\boldsymbol{z}) \\big] \n",
    "\\end{aligned}\n",
    "\n",
    "La divergencia KL queda así:\n",
    "\n",
    "\\begin{aligned}\n",
    "D_{\\text{KL}} \\big( q(\\boldsymbol{z}) || p(\\boldsymbol{z} | \\boldsymbol{x}) \\big) &= -ELBO + log(p(x)\n",
    "\\end{aligned}\n",
    "\n"
   ]
  },
  {
   "cell_type": "markdown",
   "metadata": {
    "slideshow": {
     "slide_type": "subslide"
    }
   },
   "source": [
    "$\\log p(\\boldsymbol{x})$ es una constante, no afecta la minimización. Es decir, *maximizar ELBO* es lo mismo que minimizar la divergencia KL\n",
    "\n",
    "\\begin{aligned}\n",
    "D_{\\text{KL}} \\big( q(\\boldsymbol{z}) || p(\\boldsymbol{z} | \\boldsymbol{x}) \\big) &= -ELBO + log(p(x)\n",
    "\\end{aligned}\n",
    "\n",
    "\n",
    "Se llama evidence lower bound por que es un limíte inferior del logaritmo de la evidencia \n",
    "($D_{\\text{KL}}$ siempre es positivo)\n",
    "\n",
    "\\begin{aligned}\n",
    "log(p(x) &= ELBO + D_{\\text{KL}} \\big( q(\\boldsymbol{z}) || p(\\boldsymbol{z} | \\boldsymbol{x}) \\big)\\\\\n",
    "&\\ge ELBO\n",
    "\\end{aligned}"
   ]
  },
  {
   "cell_type": "markdown",
   "metadata": {
    "slideshow": {
     "slide_type": "subslide"
    }
   },
   "source": [
    "La idea es maximizar ELBO respecto a los parámetros z. \n",
    "\n",
    "\\begin{aligned}\n",
    "ELBO &= \\mathbb{E}_{q} \\big[ \\log p(\\boldsymbol{x}, \\boldsymbol{z}) \\big] - \\mathbb{E}_{q} \\big[ \\log q(\\boldsymbol{z}) \\big] \n",
    "\\end{aligned}\n",
    "\n",
    "$p(x,z)$ la tenemos. ¿Cómo escogemos $q(z)$? Mitad ciencia mitad arte. \n",
    "\n",
    "<center><img src=\"img/3_CB/triple_self_portrait.jpg\" width = \"300\" height = '300'></center>\n",
    "<p style = 'font-size: 15px'>Fuente: https://displate.com/tonycenteno/displates </p>\n"
   ]
  },
  {
   "cell_type": "markdown",
   "metadata": {
    "slideshow": {
     "slide_type": "subslide"
    }
   },
   "source": [
    "Una posibilidad es con mean-field variational family. \n",
    "\n",
    "$$ q(z_1, ... z_m) = \\prod_{j=1}^{m} q(z_j)$$\n",
    "\n",
    "Es decir, cada parámetro $z_j$ tiene su propia distribución $q(z_j)$ (e.g. normal) y se asumen independientes.\n",
    "\n",
    "Recordar que $q$ es una aproximación a la posterior. En la verdadera posterior los parámetros sí se relacionan: la posterior es nuestro modelo generativo de los datos.\n"
   ]
  },
  {
   "cell_type": "markdown",
   "metadata": {
    "slideshow": {
     "slide_type": "subslide"
    }
   },
   "source": [
    "En suma variational inference es:\n",
    "\n",
    "* Un método para encontrar parametros de una distribución fácil de samplear que se parece a la posterior\n",
    "* Necesitamos la posterior p y la candidata (variational) q\n",
    "* Podemos minimizar la divergencia con métodos computacionales (e.g. gradient descent, o expectation maximization; este último no lo vimos)."
   ]
  },
  {
   "cell_type": "markdown",
   "metadata": {
    "slideshow": {
     "slide_type": "slide"
    }
   },
   "source": [
    "# Conclusión\n",
    "\n",
    "* Obtener expresiones matemáticas para la posterior es difícil (incluso imposible)\n",
    "\n",
    "* Usamos metodos computacionales. Vimos dos:\n",
    " "
   ]
  },
  {
   "cell_type": "markdown",
   "metadata": {
    "slideshow": {
     "slide_type": "fragment"
    }
   },
   "source": [
    "|MCMC|Variational Inference|\n",
    "|:-:|:-:|\n",
    "|Insesgada <br> Lenta| Sesgada <br> Rápida|"
   ]
  },
  {
   "cell_type": "code",
   "execution_count": null,
   "metadata": {
    "slideshow": {
     "slide_type": "skip"
    }
   },
   "outputs": [],
   "source": [
    "!jupyter nbconvert --to slides --SlidesExporter.reveal_theme='solarized' --SlidesExporter.reveal_transition='none' --SlidesExporter.reveal_scroll=True 3_Comp_1.ipynb #Saves slide"
   ]
  },
  {
   "cell_type": "markdown",
   "metadata": {
    "slideshow": {
     "slide_type": "skip"
    }
   },
   "source": [
    "\n",
    "Para salvar las diapositivas a PDF (en Chrome), correr nbconvert para que abra las diapositivas en un servidor local (la transition y el theme son opcionales):\n",
    "\n",
    "!jupyter nbconvert --to slides --SlidesExporter.reveal_theme='solarized' --SlidesExporter.reveal_transition='convex' nombre_de_mi_notebook.ipynb --post serve\n",
    "\n",
    "Luego, a la dirección añadirle ?print-pdf después del .html:\n",
    "\n",
    "http://127.0.0.1:8000/nombre_de_mi_notebook.slides.html?print-pdf\n",
    "\n",
    "Y luego, imprimir y darle salvar como pdf"
   ]
  },
  {
   "cell_type": "code",
   "execution_count": null,
   "metadata": {
    "slideshow": {
     "slide_type": "skip"
    }
   },
   "outputs": [],
   "source": [
    "#Para salvar a pdf\n",
    "!jupyter nbconvert --to slides --SlidesExporter.reveal_theme='solarized' --SlidesExporter.reveal_transition='convex' 3_Comp_1.ipynb --post serve"
   ]
  },
  {
   "cell_type": "markdown",
   "metadata": {
    "slideshow": {
     "slide_type": "skip"
    }
   },
   "source": [
    "# Anexos"
   ]
  },
  {
   "cell_type": "code",
   "execution_count": null,
   "metadata": {
    "slideshow": {
     "slide_type": "skip"
    }
   },
   "outputs": [],
   "source": [
    "array = np.linspace(0,100,300)\n",
    "mode1 = st.norm.pdf(array, loc=10, scale = 3)\n",
    "mode2 = st.norm.pdf(array, loc=30, scale = 6)\n",
    "mode3 = st.norm.pdf(array, loc=50, scale = 4)\n",
    "\n",
    "distribution = mode1+mode2+mode3\n",
    "fig, ax = plt.subplots(1,1, figsize = [6,5])\n",
    "ax.plot(array, distribution,'k-')\n",
    "ax.set_title('Pruebas para Acceso a la Universidad', \n",
    "            fontsize = 18)\n",
    "ax.set_ylabel('Densidad', fontsize=16)\n",
    "ax.set_xlabel('Puntajes', fontsize=16)\n",
    "#fig.savefig('img/3_CB/3modes.svg')"
   ]
  },
  {
   "cell_type": "code",
   "execution_count": null,
   "metadata": {
    "slideshow": {
     "slide_type": "skip"
    }
   },
   "outputs": [],
   "source": [
    "#Correr la anterior celda\n",
    "posterior = st.norm.pdf(array, loc=40, scale = 15)\n",
    "fig, ax = plt.subplots(1,1, figsize = [6,5])\n",
    "ax.plot(array, distribution,'k-', label = 'Data')\n",
    "ax.plot(array, posterior,'r-', label = 'Posterior')\n",
    "ax.set_title('Pruebas para Acceso a la Universidad', \n",
    "            fontsize = 18)\n",
    "ax.set_ylabel('Densidad', fontsize = 16)\n",
    "ax.set_xlabel('Puntajes', fontsize = 16)\n",
    "ax.legend(fontsize = 12)\n",
    "#fig.savefig('img/3_CB/3modes_posterior.svg')"
   ]
  },
  {
   "cell_type": "code",
   "execution_count": null,
   "metadata": {
    "slideshow": {
     "slide_type": "skip"
    }
   },
   "outputs": [],
   "source": [
    "dot_text = 'digraph G {rankdir=LR;\\\n",
    "                       Descanso -> Estudiar [label=0.1, fontsize=12];\\\n",
    "                       Descanso -> Gimnasio [label=0.3, fontsize=12];\\\n",
    "                       Estudiar -> Descanso [label=0.5, fontsize=12];\\\n",
    "                       Estudiar -> Gimnasio [label=0.2, fontsize=12];\\\n",
    "                       Gimnasio -> Descanso [label=0.75, fontsize=12];\\\n",
    "                       Gimnasio -> Estudiar [label=0.2, fontsize=12];\\\n",
    "                       Descanso -> Descanso [label=0.6, fontsize=12];\\\n",
    "                       Estudiar -> Estudiar [label=0.3, fontsize=12];\\\n",
    "                       Gimnasio -> Gimnasio [label=0.05, fontsize=12];\\\n",
    "                       Descanso [shape=circle];\\\n",
    "                       Estudiar [shape=circle];\\\n",
    "                       Gimnasio [shape=circle];\\\n",
    "                       }' #warning: use single quote at start and end; double quotes for labels\n",
    "src = Source(dot_text)\n",
    "#src.render('img/3_CB/markov1.gv', format ='svg', view=False);\n",
    "#display(src);"
   ]
  },
  {
   "cell_type": "code",
   "execution_count": null,
   "metadata": {
    "slideshow": {
     "slide_type": "skip"
    }
   },
   "outputs": [],
   "source": [
    "dot_text = 'digraph G {rankdir=LR;\\\n",
    "                       Tengo -> Una [label=0.65, fontsize=12];\\\n",
    "                       Tengo -> Oportunidad [label=0.345, fontsize=12];\\\n",
    "                       Una -> Tengo [label=0.05, fontsize=12];\\\n",
    "                       Una -> Oportunidad [label=0.9, fontsize=12];\\\n",
    "                       Oportunidad -> Tengo [label=0.1, fontsize=12];\\\n",
    "                       Oportunidad -> Una [label=0.85, fontsize=12];\\\n",
    "                       Tengo -> Tengo [label=0.05, fontsize=12];\\\n",
    "                       Una -> Una [label=0.05, fontsize=12];\\\n",
    "                       Oportunidad -> Oportunidad [label=0.05, fontsize=12];\\\n",
    "                       Tengo [shape=circle];\\\n",
    "                       Una [shape=circle];\\\n",
    "                       Oportunidad [shape=circle];\\\n",
    "                       }' #warning: use single quote at start and end; double quotes for labels\n",
    "src = Source(dot_text)\n",
    "#src.render('img/3_CB/markov2.gv', format ='svg', view=False);"
   ]
  },
  {
   "cell_type": "code",
   "execution_count": null,
   "metadata": {
    "slideshow": {
     "slide_type": "skip"
    }
   },
   "outputs": [],
   "source": [
    "dot_text = 'digraph G {rankdir=LR;\\\n",
    "                       \"Valor 1\" -> \"Valor 2\" [label=\"??\", fontsize=12];\\\n",
    "                       \"Valor 1\" -> \"Valor n\" [label=\"??\", fontsize=12];\\\n",
    "                       \"Valor 2\" -> \"Valor n\" [label=\"??\", fontsize=12];\\\n",
    "                       \"Valor 1\" -> \"Valor 1\" [label=\"??\", fontsize=12];\\\n",
    "                       \"Valor 2\" -> \"Valor 2\" [label=\"??\", fontsize=12];\\\n",
    "                       \"Valor n\" -> \"Valor n\" [label=\"??\", fontsize=12];\\\n",
    "                       \"Valor 1\" [shape=circle];\\\n",
    "                       \"Valor 2\" [shape=circle];\\\n",
    "                       \"Valor n\" [shape=circle];\\\n",
    "                       }' #warning: use single quote at start and end; double quotes for labels\n",
    "src = Source(dot_text)\n",
    "#src.render('img/3_CB/markov3.gv', format ='svg', view=False);\n",
    "src"
   ]
  },
  {
   "cell_type": "code",
   "execution_count": null,
   "metadata": {
    "slideshow": {
     "slide_type": "skip"
    }
   },
   "outputs": [],
   "source": [
    "fig = plt.figure(figsize=[8,6])\n",
    "ax = fig.gca(projection='3d')\n",
    "X, Y, Z = axes3d.get_test_data()\n",
    "ax.plot_surface(X, Y, Z, rstride=8, cstride=8, alpha=0.3)\n",
    "cset = ax.contour(X, Y, Z, zdir='z', offset=-100, cmap=cm.coolwarm)\n",
    "cset = ax.contour(X, Y, Z, zdir='x', offset=-40, cmap=cm.coolwarm)\n",
    "cset = ax.contour(X, Y, Z, zdir='y', offset=40, cmap=cm.coolwarm)\n",
    "\n",
    "ax.set_xlabel('Emociones', fontsize = 16)\n",
    "ax.set_xlim(-40, 40)\n",
    "ax.set_xticks([])\n",
    "ax.set_ylabel('Cognición', fontsize = 16)\n",
    "ax.set_ylim(-40, 40)\n",
    "ax.set_yticks([])\n",
    "ax.set_zlabel('Densidad \\n P(puntaje>75)', fontsize = 16)\n",
    "ax.set_zlim(-100, 100)\n",
    "ax.set_zticks([])\n",
    "\n",
    "#fig.savefig('img/3_CB/3Density.svg')\n",
    "#plt.show()"
   ]
  },
  {
   "cell_type": "code",
   "execution_count": null,
   "metadata": {
    "slideshow": {
     "slide_type": "skip"
    }
   },
   "outputs": [],
   "source": [
    "#Ejemplo Gibbs sampler para multivariada normal bidimensional\n",
    "#Parametros joint distribution\n",
    "mean_joint = [6, 25] #[impaciencia, confianza]\n",
    "corr = -0.6\n",
    "cov = [[1, corr], [corr, 1]]\n",
    "\n",
    "fig2 = plt.figure()\n",
    "rv = st.multivariate_normal(mean = mean_joint, cov = cov)\n",
    "samples = rv.rvs(1000)\n",
    "joint_p = sns.jointplot(samples[:,0], samples[:,1], kind=\"kde\", color = 'k')\n",
    "joint_p.set_axis_labels('Impaciencia', 'Confianza', fontsize=22)\n",
    "joint_p.savefig('img/3_CB/bivariate_normal.svg')\n",
    "\n",
    "\n",
    "#Algoritmo\n",
    "#Paso 1: valores iniciales\n",
    "conf_samp = st.uniform.rvs(20,30,1)\n",
    "impa_samp = st.uniform.rvs(0,10,1)\n",
    "niter = 300 #número de iteraciones\n",
    "joint = pd.DataFrame({'impaciencia': np.repeat(float('nan'),niter),\n",
    "                     'confianza': np.repeat(float('nan'),niter)})\n",
    "for i in range(niter):\n",
    "    #Paso 2: samplear un valor aleatorio de confianza\n",
    "    conf_samp = st.norm.rvs(mean_joint[1]+corr*(impa_samp-mean_joint[0]),1-corr**2,1)\n",
    "\n",
    "    #Paso 3: samplear un valor aleatorio de impaciencia\n",
    "    impa_samp = st.norm.rvs(mean_joint[0]+corr*(conf_samp-mean_joint[1]),1-corr**2,1)\n",
    "\n",
    "    joint.loc[i,'impaciencia'] = impa_samp\n",
    "    joint.loc[i,'confianza'] = conf_samp\n",
    "\n",
    "    \n",
    "imp = samples[:,0]\n",
    "conf = samples[:,1]\n",
    "xmin = imp.min()\n",
    "xmax = imp.max()\n",
    "ymin = conf.min()\n",
    "ymax = conf.max()\n",
    "X, Y = np.mgrid[xmin:xmax:100j, ymin:ymax:100j]\n",
    "positions = np.vstack([X.ravel(), Y.ravel()])\n",
    "values = np.vstack([imp, conf])\n",
    "kde = st.gaussian_kde(values)\n",
    "Z = np.reshape(kde(positions).T, X.shape)\n",
    "\n",
    "fig, ax = plt.subplots(figsize = [5,5])\n",
    "x = np.linspace(xmin,xmax,100)\n",
    "y = np.linspace(ymin,ymax,100)\n",
    "ax.contour(x, y, Z, cmap='gray')\n",
    "ax.set_xlim([2,10])\n",
    "ax.set_ylim([21,29])\n",
    "ax.set_xlabel('Impaciencia', fontsize = 18)\n",
    "ax.set_ylabel('Confianza', fontsize = 18)\n",
    "ax.grid(True, color='gray', alpha = 0.25)\n",
    "ax.set_facecolor([1,1,1])\n",
    "ax.plot(-100, -100, 'ro', alpha = 0.4, label='Muestra Gibbs')\n",
    "ax.legend(facecolor = 'white')\n",
    "def animate(i):\n",
    "    idx = int(i)\n",
    "    ax.plot(joint.loc[idx,'impaciencia'],\n",
    "            joint.loc[idx,'confianza'],\n",
    "            'ro', alpha = 0.4)\n",
    "\n",
    "\n",
    "# call the animator.  blit=True means only re-draw the parts that have changed.\n",
    "anim = animation.FuncAnimation(fig, animate, interval = 100, \n",
    "                               frames = len(joint.index), blit=False)\n",
    "writer = animation.PillowWriter(fps=15) \n",
    "#anim.save('img/3_CB/Gibbs_animation.gif', writer = writer); #Compress online"
   ]
  },
  {
   "cell_type": "code",
   "execution_count": null,
   "metadata": {
    "slideshow": {
     "slide_type": "skip"
    }
   },
   "outputs": [],
   "source": [
    "class scaled_inv_chi2:\n",
    "    # An scaled invese chi2 with v degrees of freedom and scale s\n",
    "    # is the same as an inverse gamma with alpha = v/2, beta = (v/2)*(s^2) \n",
    "    def pdf(x, v, s):\n",
    "        alpha = v/2 #shape\n",
    "        beta = v/2 * s**2 #scale\n",
    "        return st.invgamma.pdf(x, a=alpha, scale=beta)\n",
    "    \n",
    "    def cdf(x, v, s):\n",
    "        alpha = v/2 #shape\n",
    "        beta = v/2 * s**2 #scale\n",
    "        return st.invgamma.pdf(x, a=alpha, scale=beta)\n",
    "    \n",
    "    def rvs(v, s, size):\n",
    "        #random samle\n",
    "        alpha = v/2 #shape\n",
    "        beta = v/2 * s**2 #scale\n",
    "        return st.invgamma.rvs(a=alpha, scale=beta, size=size)"
   ]
  },
  {
   "cell_type": "code",
   "execution_count": null,
   "metadata": {
    "slideshow": {
     "slide_type": "skip"
    }
   },
   "outputs": [],
   "source": [
    "dot_text = 'digraph G {rankdir=LR;\\\n",
    "           /* general properties*/\\\n",
    "           node [margin=0, fixedsize=true,\\\n",
    "                 height=0.5, width=0.5];\\\n",
    "           a1 -> a2 [label=\"1\", lblstyle=\"font=\\normalsize\"];\\\n",
    "           a1 -> a1 [label = \"0\", lblstyle=\"font=\\normalsize\"];\\\n",
    "           a2 -> a1 [label=\" \", label=\"$a$\", lblstyle=\"font=\\\\normalsize\"];\\\n",
    "           a2 -> a2 [label=\" \", label=\"$1-a$\", lblstyle=\"font=\\\\normalsize\"];\\\n",
    "           a1[shape=circle, label=\"$\\\\theta$\"]\\\n",
    "           a2[shape=circle, label=\"$1-\\\\theta$\"]\\\n",
    "        }' #warning: use single quote at start and end; double quotes for labels\n",
    "s = Source(dot_text, filename=\"img/3_CB/mcmc_diagram.gv\", format=\"svg\") #THIS IS NOT THE FINAL ONE\n",
    "s.view()\n",
    "#a = t/{1-t}\n",
    "\n",
    "\n",
    "#To typeset latex stuff on the image: \n",
    "#1) open svg in inkscape and write latex formulas. Export as pdf (click the one that says latex)\n",
    "#   to change fontsize of latex in inkscape write before the expression: t/{1-t}\n",
    "#        \\fontsize{34pt}{1em} $latex expression$ ... change #pt for size\n",
    "#2) go to overleaf or latex editor of choice and do this (https://castel.dev/post/lecture-notes-2/):\n",
    "#   2.1) In the preamble:\n",
    "#  \\usepackage{import}\n",
    "#  \\usepackage{xifthen}\n",
    "#  \\usepackage{pdfpages}\n",
    "#  \\usepackage{transparent}\n",
    "#  \\usepackage{graphics} \n",
    "\n",
    "#  \\newcommand{\\incfig}[1]{%\n",
    "#      \\def\\svgwidth{\\columnwidth}\n",
    "#      \\import{./figures/}{#1.pdf_tex} %PUT the inkscape .pdf_tex AND .pdf in a local folder called figures\n",
    "#  }\n",
    "#   2.2)In the body:\n",
    "#  \\begin{figure}[ht]\n",
    "#      \\centering\n",
    "#      \\scalebox{.65}{\\incfig{your_inkscape.pdf_tex}} #change scalebox proportion to rescale\n",
    "#      \\caption{Riemmans theorem}\n",
    "#      \\label{fig:riemmans-theorem}\n",
    "#  \\end{figure}\n"
   ]
  },
  {
   "cell_type": "code",
   "execution_count": null,
   "metadata": {
    "slideshow": {
     "slide_type": "skip"
    }
   },
   "outputs": [],
   "source": [
    "# Read data from a csv\n",
    "z_data = pd.read_csv('https://raw.githubusercontent.com/plotly/datasets/master/api_docs/mt_bruno_elevation.csv')\n",
    "\n",
    "fig = go.Figure(data=[go.Surface(z=z_data.values, showscale=False)])\n",
    "\n",
    "fig.update_layout(title='Panorama de una función', \n",
    "                  scene = dict(\n",
    "                    xaxis_title='X',\n",
    "                    yaxis_title='Y',\n",
    "                    zaxis_title='Z'),\n",
    "                  autosize=True,                  \n",
    "                  width=500, height=500,\n",
    "                  margin=dict(l=10, r=5, b=20, t=40));\n",
    "\n",
    "#fig.show()\n",
    "#fig.write_image(\"img/3_CB/3D_panorama.svg\")"
   ]
  },
  {
   "cell_type": "code",
   "execution_count": null,
   "metadata": {
    "slideshow": {
     "slide_type": "skip"
    }
   },
   "outputs": [],
   "source": [
    "#KL divergence\n",
    "xp = np.linspace(5, 16, 100)\n",
    "p = st.norm.pdf(xp, 10, 2)\n",
    "xq = np.linspace(6.5, 30, 100)\n",
    "q = st.norm.pdf(xq, 18, 4) \n",
    "xq2 = np.linspace(-5, 10, 100)\n",
    "q2 = st.norm.pdf(xq2, 2, 2) \n",
    "xq3 = np.linspace(-10, 25, 100)\n",
    "q3 = st.norm.pdf(xq3, 7, 6) \n",
    "\n",
    "fig, ax = plt.subplots(1,1, figsize=[7,4])\n",
    "ax.plot(xp, p, c='red', label = 'Posterior')\n",
    "ax.plot(xq, q, c='green', linestyle='-', label = 'Candidata 1');\n",
    "ax.plot(xq2, q2, c='green', linestyle='--', label = 'Candidata 2');\n",
    "ax.plot(xq3, q3, c='green', linestyle=':', label = 'Candidata 3');\n",
    "ax.set_xlabel('Parámetros', fontsize = 15)\n",
    "ax.set_ylabel('Densidad', fontsize = 15)\n",
    "ax.set_title('¿Cuál es más parecida al posterior?', fontsize = 20)\n",
    "ax.legend()\n",
    "fig.savefig('img/3_CB/KL_1.svg')\n",
    "#plt.close()\n",
    "\n",
    "def KL(x, p, q):\n",
    "    return p(x) * np.log( p(x) / q(x) ) \n",
    "p_pdf = st.norm(10,2).pdf\n",
    "q_pdf = st.norm(18,4).pdf\n",
    "q2_pdf = st.norm(2,2).pdf\n",
    "q3_pdf = st.norm(7,6).pdf\n",
    "KLq_int, err = integrate.quad(KL, -30, 30, args=(q_pdf,p_pdf)) \n",
    "KLq2_int, err = integrate.quad(KL, -30, 30, args=(q2_pdf,p_pdf)) \n",
    "KLq3_int, err = integrate.quad(KL, -30, 30, args=(q3_pdf,p_pdf)) \n",
    "\n",
    "fig, ax = plt.subplots(1,1, figsize=[7,4])\n",
    "ax.plot(xp, p, c='red', label = 'Posterior')\n",
    "ax.plot(xq, q, c='green', linestyle='-', label = 'Candidata 1. KL: '+str(round(KLq_int,2)));\n",
    "ax.plot(xq2, q2, c='green', linestyle='--', label = 'Candidata 2. KL: '+str(round(KLq2_int,2)));\n",
    "ax.plot(xq3, q3, c='green', linestyle=':', label = 'Candidata 3. KL: '+str(round(KLq3_int,2)));\n",
    "ax.set_xlabel('Parámetros', fontsize = 15)\n",
    "ax.set_ylabel('Densidad', fontsize = 15)\n",
    "ax.set_title('¿Cuál es más parecida al posterior?', fontsize = 20)\n",
    "ax.legend()\n",
    "fig.savefig('img/3_CB/KL_2.svg')\n",
    "#plt.close()"
   ]
  },
  {
   "cell_type": "code",
   "execution_count": null,
   "metadata": {
    "slideshow": {
     "slide_type": "skip"
    }
   },
   "outputs": [],
   "source": []
  }
 ],
 "metadata": {
  "celltoolbar": "Slideshow",
  "kernelspec": {
   "display_name": "Python 3",
   "language": "python",
   "name": "python3"
  },
  "language_info": {
   "codemirror_mode": {
    "name": "ipython",
    "version": 3
   },
   "file_extension": ".py",
   "mimetype": "text/x-python",
   "name": "python",
   "nbconvert_exporter": "python",
   "pygments_lexer": "ipython3",
   "version": "3.8.5"
  },
  "rise": {
   "chalkboard": {
    "color": [
     "rgb(250, 0, 0)",
     "rgb(0, 250, 250)"
    ]
   },
   "enable_chalkboard": true,
   "scroll": true,
   "theme": "simple",
   "transition": "none"
  }
 },
 "nbformat": 4,
 "nbformat_minor": 4
}
