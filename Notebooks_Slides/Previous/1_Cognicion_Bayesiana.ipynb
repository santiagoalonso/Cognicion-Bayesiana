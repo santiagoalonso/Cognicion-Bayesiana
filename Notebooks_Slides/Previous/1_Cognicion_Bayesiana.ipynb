{
 "cells": [
  {
   "cell_type": "code",
   "execution_count": 1,
   "metadata": {
    "slideshow": {
     "slide_type": "skip"
    }
   },
   "outputs": [],
   "source": [
    "#Manejo de matrices y tablas\n",
    "import numpy as np\n",
    "import pandas as pd\n",
    "\n",
    "#Estadistica y funciones matemáticas\n",
    "import scipy.stats as st\n",
    "\n",
    "#Graficas\n",
    "import seaborn as sns\n",
    "import matplotlib.pyplot as plt\n"
   ]
  },
  {
   "cell_type": "markdown",
   "metadata": {
    "slideshow": {
     "slide_type": "slide"
    }
   },
   "source": [
    "# Cognición Bayesiana\n"
   ]
  },
  {
   "cell_type": "markdown",
   "metadata": {
    "slideshow": {
     "slide_type": "fragment"
    }
   },
   "source": [
    "Santiago Alonso-Díaz, PhD\n",
    "\n",
    "Universidad Javeriana"
   ]
  },
  {
   "cell_type": "markdown",
   "metadata": {
    "slideshow": {
     "slide_type": "slide"
    }
   },
   "source": [
    "# Posteriors, priors, & likelihoods"
   ]
  },
  {
   "cell_type": "markdown",
   "metadata": {
    "slideshow": {
     "slide_type": "subslide"
    }
   },
   "source": [
    "\n",
    " \n",
    "| Prior (creencias)  | <font size = '20'>   <pre>  </pre> </font>  | Likelihood (data) |   \n",
    "|:---:|---|:---:|\n",
    "| <img src=\"img/1_CB/Bayes1.png\" width = \"300\" height = '300'> |  |  <img src=\"img/1_CB/Bayes2.jpg\" width = \"300\" height = '300'>  |  \n",
    "\n"
   ]
  },
  {
   "cell_type": "markdown",
   "metadata": {
    "slideshow": {
     "slide_type": "subslide"
    }
   },
   "source": [
    "\n",
    "| Prior (creencias)  | <font size = '20'>   <pre>  </pre> </font>  | Likelihood (data) |   \n",
    "|:---:|---|:---:|\n",
    "| <img src=\"img/1_CB/Bayes3.jpg\" width = \"300\" height = '300'> |  |  <img src=\"img/1_CB/Bayes4.png\" width = \"300\" height = '300'>  |  \n"
   ]
  },
  {
   "cell_type": "markdown",
   "metadata": {
    "slideshow": {
     "slide_type": "subslide"
    }
   },
   "source": [
    "### ¿Extraterrestes? ¿Likelihood? ¿Prior?\n",
    "\n",
    "<center><img src=\"img/1_CB/Bayes5.jpg\" width = \"400\" height = '400'></center> \n"
   ]
  },
  {
   "cell_type": "markdown",
   "metadata": {
    "slideshow": {
     "slide_type": "subslide"
    }
   },
   "source": [
    "\n",
    "Bayes formalizó como combinar priors y likelihoods\n",
    "\n",
    "\n",
    "$$ Posterior = \\frac{Prior \\times Likelihood}{Marginal} $$"
   ]
  },
  {
   "cell_type": "markdown",
   "metadata": {
    "slideshow": {
     "slide_type": "fragment"
    }
   },
   "source": [
    "Veamos la misma formula con otros \"nombres\"\n",
    "\n",
    "$$ Belief_{t+1} = \\frac{Belief_t \\times Likelihood}{Marginal} $$"
   ]
  },
  {
   "cell_type": "markdown",
   "metadata": {
    "slideshow": {
     "slide_type": "fragment"
    }
   },
   "source": [
    "Veamos la misma formula expandida\n",
    "\n",
    "\n",
    "$$ p(Hypothesis|Data) = \\frac{p(Hypothesis) \\times p(Data|Hypothesis)}{p(Data)} $$"
   ]
  },
  {
   "cell_type": "markdown",
   "metadata": {
    "slideshow": {
     "slide_type": "slide"
    }
   },
   "source": [
    "# Prueba del teorema"
   ]
  },
  {
   "cell_type": "markdown",
   "metadata": {
    "slideshow": {
     "slide_type": "subslide"
    }
   },
   "source": [
    "<center><img src=\"img/1_CB/Bayes6.svg\" width = \"600\" height = '600'></center> \n"
   ]
  },
  {
   "cell_type": "markdown",
   "metadata": {
    "slideshow": {
     "slide_type": "subslide"
    }
   },
   "source": [
    "<center><img src=\"img/1_CB/Bayes7.svg\" width = \"600\" height = '600'></center> \n"
   ]
  },
  {
   "cell_type": "markdown",
   "metadata": {
    "slideshow": {
     "slide_type": "subslide"
    }
   },
   "source": [
    "<center><img src=\"img/1_CB/Bayes8.svg\" width = \"600\" height = '600'></center> \n"
   ]
  },
  {
   "cell_type": "markdown",
   "metadata": {
    "slideshow": {
     "slide_type": "slide"
    }
   },
   "source": [
    "# Visualización de posteriors, priors, y likelihoods"
   ]
  },
  {
   "cell_type": "markdown",
   "metadata": {
    "slideshow": {
     "slide_type": "subslide"
    }
   },
   "source": [
    "## Espacio de hipótesis (eventos)\n",
    "<center><img src=\"img/1_CB/Bayes9.svg\" width = \"400\" height = '400'></center> \n"
   ]
  },
  {
   "cell_type": "markdown",
   "metadata": {
    "slideshow": {
     "slide_type": "subslide"
    }
   },
   "source": [
    "## Espacio de hipótesis (eventos)\n",
    "<center><img src=\"img/1_CB/Bayes10.svg\" width = \"400\" height = '400'></center> \n"
   ]
  },
  {
   "cell_type": "markdown",
   "metadata": {
    "slideshow": {
     "slide_type": "subslide"
    }
   },
   "source": [
    "## Priors\n",
    "<center><img src=\"img/1_CB/Bayes11.svg\" width = \"600\" height = '600'></center> \n"
   ]
  },
  {
   "cell_type": "markdown",
   "metadata": {
    "slideshow": {
     "slide_type": "subslide"
    }
   },
   "source": [
    "## Datos\n",
    "### El marginal es la probabilidad de la data (gris dividido toda el área del espacio de hipótesis)\n",
    "<center><img src=\"img/1_CB/Bayes12.svg\" width = \"550\" height = '550'></center> \n"
   ]
  },
  {
   "cell_type": "markdown",
   "metadata": {
    "slideshow": {
     "slide_type": "subslide"
    }
   },
   "source": [
    "## Likelihoods\n",
    "<center><img src=\"img/1_CB/Bayes13.svg\" width = \"550\" height = '550'></center> \n"
   ]
  },
  {
   "cell_type": "markdown",
   "metadata": {
    "slideshow": {
     "slide_type": "subslide"
    }
   },
   "source": [
    "<center><img src=\"img/1_CB/Bayes14.svg\" width = \"550\" height = '550'></center> \n"
   ]
  },
  {
   "cell_type": "markdown",
   "metadata": {
    "slideshow": {
     "slide_type": "subslide"
    }
   },
   "source": [
    "\n",
    "<center><img src=\"img/1_CB/Bayes15.svg\" width = \"550\" height = '550'></center> \n"
   ]
  },
  {
   "cell_type": "markdown",
   "metadata": {
    "slideshow": {
     "slide_type": "subslide"
    }
   },
   "source": [
    "## Posterior\n",
    "\n",
    "<center><img src=\"img/1_CB/Bayes16.svg\" width = \"550\" height = '550'></center> \n"
   ]
  },
  {
   "cell_type": "markdown",
   "metadata": {
    "slideshow": {
     "slide_type": "subslide"
    }
   },
   "source": [
    "## Posterior vs. likelihood\n",
    "<center><img src=\"img/1_CB/Bayes17.svg\" width = \"700\" height = '700'></center> "
   ]
  },
  {
   "cell_type": "markdown",
   "metadata": {
    "slideshow": {
     "slide_type": "slide"
    }
   },
   "source": [
    "# Cognición bayesiana: \n",
    "### Combinar datos y creencias con el teorema\n",
    "\n",
    "Veamos un ejemplo de psicología social (Jara-Ettinger, et al, 2016)"
   ]
  },
  {
   "cell_type": "markdown",
   "metadata": {
    "slideshow": {
     "slide_type": "subslide"
    }
   },
   "source": [
    "<p style = \"font-size: 25px\">¿Qué prefiere <span style=\"color:blue\"> <b>azulito</b></span>? </p>\n",
    "\n",
    "<center><img src=\"img/1_CB/Bayes18.svg\" width = \"300\" height = '300'></center> "
   ]
  },
  {
   "cell_type": "markdown",
   "metadata": {
    "slideshow": {
     "slide_type": "subslide"
    }
   },
   "source": [
    "<p style = \"font-size: 25px\">¿Qué prefiere <span style=\"color:blue\"> <b>azulito</b></span>? </p>\n",
    "\n",
    "<center><img src=\"img/1_CB/Bayes19.svg\" width = \"550\" height = '300'></center> "
   ]
  },
  {
   "cell_type": "markdown",
   "metadata": {
    "slideshow": {
     "slide_type": "subslide"
    }
   },
   "source": [
    "<p style = \"font-size: 25px\"><span style=\"color:blue\"> <b>Azulito</b></span> pide ayuda ¿Pereza? </p>\n",
    "\n",
    "<center><img src=\"img/1_CB/Bayes20.svg\" width = \"350\" height = '350'></center> "
   ]
  },
  {
   "cell_type": "markdown",
   "metadata": {
    "slideshow": {
     "slide_type": "subslide"
    }
   },
   "source": [
    "<p style = \"font-size: 25px\">¿Quién es más malo? ¿<span style=\"color:green\"> <b>verde</b></span>? ¿<span style=\"color:red\"> <b>rojo</b></span>? </p>\n",
    "\n",
    "<center><img src=\"img/1_CB/Bayes21.svg\" width = \"300\" height = '300'></center> "
   ]
  },
  {
   "cell_type": "markdown",
   "metadata": {
    "slideshow": {
     "slide_type": "subslide"
    }
   },
   "source": [
    "<p style = \"font-size: 25px\">Inferencia sobre estados latentes de <span style=\"color:blue\"> <b>azulito</b></span> (e.g. preferencias) con el teorema de Bayes </p>\n",
    "\n",
    "\n",
    "$$ p(Preferencia|Accion) \\propto p(Accion|Preferencia)p(Preferencia)$$"
   ]
  },
  {
   "cell_type": "markdown",
   "metadata": {
    "slideshow": {
     "slide_type": "subslide"
    }
   },
   "source": [
    "<p style = \"font-size: 25px\">Por ejemplo, likelihood normal y prior uniforme </p>\n",
    "<center><img src=\"img/1_CB/Bayes22.svg\" width = \"600\" height = '300'></center> "
   ]
  },
  {
   "cell_type": "markdown",
   "metadata": {
    "slideshow": {
     "slide_type": "subslide"
    }
   },
   "source": [
    "<center><img src=\"img/1_CB/Bayes23.svg\" width = \"600\" height = '300'></center> "
   ]
  },
  {
   "cell_type": "markdown",
   "metadata": {
    "slideshow": {
     "slide_type": "subslide"
    }
   },
   "source": [
    "<center><img src=\"img/1_CB/Bayes24.svg\" width = \"600\" height = '300'></center> "
   ]
  },
  {
   "cell_type": "markdown",
   "metadata": {
    "slideshow": {
     "slide_type": "subslide"
    }
   },
   "source": [
    "<center><img src=\"img/1_CB/Bayes25.svg\" width = \"600\" height = '300'></center> "
   ]
  },
  {
   "cell_type": "markdown",
   "metadata": {
    "slideshow": {
     "slide_type": "subslide"
    }
   },
   "source": [
    "<center><img src=\"img/1_CB/Bayes26.svg\" width = \"600\" height = '300'></center> "
   ]
  },
  {
   "cell_type": "markdown",
   "metadata": {
    "slideshow": {
     "slide_type": "slide"
    }
   },
   "source": [
    "# Dos formas para obtener la posterior\n",
    "### Análisis matemático\n",
    "### Simulaciones (e.g. MCMC)"
   ]
  },
  {
   "cell_type": "markdown",
   "metadata": {
    "slideshow": {
     "slide_type": "slide"
    }
   },
   "source": [
    "# Forma 1: Análisis matemático. \n",
    "### Caso: Likelihood & prior Normal"
   ]
  },
  {
   "cell_type": "markdown",
   "metadata": {
    "slideshow": {
     "slide_type": "subslide"
    }
   },
   "source": [
    "Descripción de un problema estadístico simple:\n",
    "1. Una sola observación X para justificar una hipótesis llamada `H`.\n",
    "2. ¿Qué tanto creemos en `H` dada la observación X?"
   ]
  },
  {
   "cell_type": "markdown",
   "metadata": {
    "slideshow": {
     "slide_type": "subslide"
    }
   },
   "source": [
    "Solución en lenguaje natural: \n",
    "\n",
    "Creencia en H es proporcional a la probabilidad de que X ocurra si H es verdad. Todo ponderado por mi creencia previa en H\n"
   ]
  },
  {
   "cell_type": "markdown",
   "metadata": {
    "slideshow": {
     "slide_type": "subslide"
    }
   },
   "source": [
    "En lenguaje de Bayes: \n",
    "\\begin{equation}\n",
    "Posterior \\propto Likelihood \\times Prior \\\\ \n",
    "p(H|X) \\propto p(X|H) \\times p(H)\n",
    "\\end{equation}"
   ]
  },
  {
   "cell_type": "markdown",
   "metadata": {
    "slideshow": {
     "slide_type": "subslide"
    }
   },
   "source": [
    "En lenguaje de distribuciones de probabilidad:\n",
    "\\begin{equation}\n",
    "p(H|X) \\propto Normal(X|\\mu=H,  \\sigma^2) \\times Normal(H|\\mu=H_0, \\sigma^2_0)\n",
    "\\end{equation}\n",
    "<br><br>\n",
    "\n",
    "<p style = 'font-size: 18px'> Nota: conocemos $H_0$, $\\sigma^2_0$, y $\\sigma^2$. </p>"
   ]
  },
  {
   "cell_type": "markdown",
   "metadata": {
    "slideshow": {
     "slide_type": "subslide"
    }
   },
   "source": [
    "Ahora podemos empezar la solución analítica"
   ]
  },
  {
   "cell_type": "markdown",
   "metadata": {
    "slideshow": {
     "slide_type": "subslide"
    }
   },
   "source": [
    "Recordemos la formula de la densidad normal de una variable x con promedio $\\mu$ y desv. estandar $\\sigma$\n",
    "\\begin{equation}\n",
    "\\frac{1}{\\sqrt{2\\pi \\sigma^2}} e^{\\frac{-(x-\\mu)^2}{2\\sigma^2}}\n",
    "\\end{equation}\n"
   ]
  },
  {
   "cell_type": "markdown",
   "metadata": {
    "slideshow": {
     "slide_type": "subslide"
    }
   },
   "source": [
    "Tenemos que multiplicar dos normales:\n",
    "<br> <br> \n",
    "\\begin{equation}\n",
    "p(H|X) \\propto Normal(X|\\mu=H,  \\sigma^2) \\times Normal(H|\\mu=H_0, \\sigma^2_0)\n",
    "\\end{equation}\n",
    "<br>\n",
    "\n",
    "Reemplazemos las normales por sus formulas:\n",
    "\\begin{equation}\n",
    "p(H|X) \\propto \\frac{1}{\\sqrt{2\\pi \\sigma^2}} e^{\\frac{-(x-H)^2}{2\\sigma^2}} \\times \\frac{1}{\\sqrt{2\\pi \\sigma^2_0}} e^{\\frac{-(H-H_0)^2}{2\\sigma^2_0}} \n",
    "\\end{equation}  "
   ]
  },
  {
   "cell_type": "markdown",
   "metadata": {
    "slideshow": {
     "slide_type": "subslide"
    }
   },
   "source": [
    "Luego de algo de algebra ...\n",
    "\\begin{equation}\n",
    "p(H|X) = \\frac{1}{\\sqrt{2\\pi \\sigma^2_1}} e^{\\frac{-(\\mu-\\mu_1)^2}{2\\sigma^2_1}} \n",
    "\\end{equation} \n",
    "\n",
    "Donde\n",
    "\\begin{equation}\n",
    "\\sigma^2_1 \\;\\; = \\;\\; \\left( \\frac{1}{\\sigma^2} \\;\\;+\\;\\;  \\frac{1}{\\sigma^2_0}\\right)^{-1} \\\\\n",
    "\\mu_1 = \\frac{\\mu_0\\sigma^{-2}_0 + X\\sigma^{-2}}{\\sigma^{-2}+\\sigma^{-2}_0} \n",
    "\\end{equation} \n",
    "\n",
    "<p style = 'font-size:20px'> Nota: cuando X son n observaciones independientes, $\\sigma^2$ se divide por n y X es $\\overline{X}$ </p>"
   ]
  },
  {
   "cell_type": "markdown",
   "metadata": {
    "slideshow": {
     "slide_type": "subslide"
    }
   },
   "source": [
    "En lenguaje natural:\n",
    "\n",
    "Nuestra creencia en H tiene una probabilidad gaussiana. \n",
    "\n",
    "\\begin{equation}\n",
    "p(H|X) \\sim Normal(\\mu_1, \\sigma^2_1)\n",
    "\\end{equation} \n",
    "\n",
    "Su promedio $\\mu_1 $ depende de $\\mu_0$ (promedio del prior) y $\\overline{X}$ (promedio de la data), ponderados y escalados por la precisión de sus distribuciones ($\\sigma^{-2}_0$ y $\\sigma^{-2}$).\n",
    "\n",
    "\\begin{equation}\n",
    "\\frac{\\mu_0\\sigma^{-2}_0 + \\overline{X}\\frac{\\sigma^{-2}}{n}}{\\frac{\\sigma^{-2}}{n}+\\sigma^{-2}_0} \n",
    "\\end{equation} \n",
    "\n",
    "Su varianza $\\sigma^2_1 $ depende de las desviaciones estandar del likelihood y el prior \n",
    "\n",
    "\\begin{equation}\n",
    "\\left( \\frac{1}{\\frac{\\sigma^2}{n}} \\;\\;+\\;\\;  \\frac{1}{\\sigma^2_0}\\right)^{-1}\n",
    "\\end{equation} \n",
    " "
   ]
  },
  {
   "cell_type": "markdown",
   "metadata": {
    "slideshow": {
     "slide_type": "slide"
    }
   },
   "source": [
    "# Forma 2: Simulaciones (MCMC) "
   ]
  },
  {
   "cell_type": "markdown",
   "metadata": {
    "slideshow": {
     "slide_type": "subslide"
    }
   },
   "source": [
    "Rejection sampling:  <br> Tomar muestras de p(x) (gris) indirectamente con una distribución más simple $M q (x)$ más alta que p(x) (blanca). N son iteraciones (no muestras).\n",
    "<center><img src=\"img/1_CB/Bayes27.png\" width = \"600\" height = '300'></center> \n",
    "\n",
    "Fuente: Andrieu, et al, (2003)"
   ]
  },
  {
   "cell_type": "markdown",
   "metadata": {
    "slideshow": {
     "slide_type": "subslide"
    }
   },
   "source": [
    "Algoritmo en lenguaje natural: solo aceptar propuestas bien probables en p(x) relativo a Mq(x).\n",
    "\n",
    "<center><img src=\"img/1_CB/Bayes27b.png\" width = \"600\" height = '300'></center> "
   ]
  },
  {
   "cell_type": "code",
   "execution_count": 2,
   "metadata": {
    "slideshow": {
     "slide_type": "subslide"
    }
   },
   "outputs": [],
   "source": [
    "#Tomado de Agustinus Kristiadi's blog (https://wiseodd.github.io/techblog/2015/10/21/rejection-sampling/)\n",
    "\n",
    "def p(x): \n",
    "    #Distribución que nos interesa tomar muestras \n",
    "    #Sin estandarizar: la integral -inf,inf no da 1.\n",
    "    \n",
    "    return st.norm.pdf(x, loc=30, scale=10) + st.norm.pdf(x, loc=80, scale=20)\n",
    "\n",
    "def q(x): \n",
    "    #Distribución más simple que nos va a ayudar a tomar muestras\n",
    "    return st.norm.pdf(x, loc=info_q[0], scale=info_q[1])\n",
    "\n",
    "\n",
    "def rejection_sampling(iter=1000):\n",
    "    #El algoritmo para tomar muestras\n",
    "    samples = []\n",
    "    for i in range(iter):\n",
    "        x_proposed = np.random.normal(info_q[0], info_q[1]) \n",
    "        u = np.random.uniform(0, M*q(x_proposed))\n",
    "\n",
    "        if u <= p(x_proposed):\n",
    "            samples.append(x_proposed)\n",
    "\n",
    "    return np.array(samples)"
   ]
  },
  {
   "cell_type": "code",
   "execution_count": 3,
   "metadata": {
    "slideshow": {
     "slide_type": "subslide"
    }
   },
   "outputs": [
    {
     "data": {
      "image/png": "[encoded data removed]",
      "text/plain": [
       "<Figure size 792x288 with 2 Axes>"
      ]
     },
     "metadata": {
      "needs_background": "light"
     },
     "output_type": "display_data"
    }
   ],
   "source": [
    "# graficas\n",
    "info_q = [50,30]\n",
    "x = np.arange(-50, 151)\n",
    "M = max(p(x) / q(x)) #Asegura que Mq > p\n",
    "\n",
    "fig, ax = plt.subplots(1,2, figsize=(11,4))\n",
    "ax[0].plot(x, p(x), label = 'p: La que queremos samplear') \n",
    "ax[0].plot(x, M*q(x), label = 'Mq: La que nos va a ayudar a samplear')\n",
    "ax[0].set_ylim([0,0.065])\n",
    "ax[0].legend(loc='upper left')\n",
    "\n",
    "\n",
    "s = rejection_sampling(iter=10000)\n",
    "sns.distplot(s, ax = ax[1])\n",
    "plt.title('Muestras hechas por el algoritmo')\n",
    "plt.tight_layout()\n",
    "plt.show()"
   ]
  },
  {
   "cell_type": "markdown",
   "metadata": {
    "slideshow": {
     "slide_type": "subslide"
    }
   },
   "source": [
    "Sampleo MCMC con Metropolis Hastings: <br> Tomar muestras de p(x) via una distribución más simple q(x) (roja) que se puede mover. Los movimientos son markovianos: solo dependen de la posición actual.\n",
    "\n",
    "<center><img src=\"img/1_CB/Bayes28.svg\" width = \"325\" height = '300'></center> \n",
    "\n"
   ]
  },
  {
   "cell_type": "markdown",
   "metadata": {
    "slideshow": {
     "slide_type": "subslide"
    }
   },
   "source": [
    "Metropolis Hastings puede generar muestras de distribuciones arbitrarias. Acá vemos ejemplos de diferentes propuestas q(x) con diferente movilidad (desviaciones estandar)\n",
    "\n",
    "<center><img src=\"img/1_CB/Bayes29.png\" width = \"325\" height = '300'></center> \n",
    "\n",
    "Fuente: Andrieu, et al, (2003)\n",
    "\n"
   ]
  },
  {
   "cell_type": "markdown",
   "metadata": {
    "slideshow": {
     "slide_type": "subslide"
    }
   },
   "source": [
    "Algunas alternativas de algoritmos para samplear: \n",
    "\n",
    "* PyMC (Python)\n",
    "* Edward (Python)\n",
    "* Stan (Python, R, Julia, Stata, Matlab)\n",
    "* JAGS (Python, R)\n",
    "\n"
   ]
  },
  {
   "cell_type": "markdown",
   "metadata": {
    "slideshow": {
     "slide_type": "slide"
    }
   },
   "source": [
    "# Cognición Bayesiana: Sampleadores"
   ]
  },
  {
   "cell_type": "markdown",
   "metadata": {
    "slideshow": {
     "slide_type": "subslide"
    }
   },
   "source": [
    "Un sampleador Bayesiano via MCMC puede explicar sesgos clásicos en toma de decisiones\n",
    "<center><img src=\"img/1_CB/Bayes30.png\" width = \"550\" height = '300'></center> \n",
    "\n",
    "Fuente: Sanborn & Chater (2016)"
   ]
  },
  {
   "cell_type": "markdown",
   "metadata": {
    "slideshow": {
     "slide_type": "subslide"
    }
   },
   "source": [
    "El algoritmo puede no explorar todo el espacio de hipótesis\n",
    "\n",
    "<center><img src=\"img/1_CB/Bayes31.svg\" width = \"750\" height = '300'></center> \n",
    "\n",
    "Fuente: Sanborn & Chater (2016)"
   ]
  },
  {
   "cell_type": "markdown",
   "metadata": {
    "slideshow": {
     "slide_type": "subslide"
    }
   },
   "source": [
    "El algoritmo puede no explorar todo el espacio de hipótesis\n",
    "\n",
    "<center><img src=\"img/1_CB/Bayes32.png\" width = \"450\" height = '300'></center> \n",
    "\n",
    "Fuente: Sanborn & Chater (2016)"
   ]
  },
  {
   "cell_type": "markdown",
   "metadata": {
    "slideshow": {
     "slide_type": "subslide"
    }
   },
   "source": [
    "Veamos un caso que puede, en principio, explicarse por características del sampleador\n"
   ]
  },
  {
   "cell_type": "markdown",
   "metadata": {
    "slideshow": {
     "slide_type": "subslide"
    }
   },
   "source": [
    "Mitad de ustedes cierren los ojos. No los abran hasta que les diga.\n",
    "\n",
    "La otra mitad hagan la siguiente multiplicación en menos de 3 segundos y escriban el resultado en un papel (NO HABLEN)."
   ]
  },
  {
   "cell_type": "markdown",
   "metadata": {
    "slideshow": {
     "slide_type": "fragment"
    }
   },
   "source": [
    "$$ 8 \\times 7\\times 6\\times 5\\times 4\\times 3\\times 2\\times 1 $$"
   ]
  },
  {
   "cell_type": "markdown",
   "metadata": {
    "slideshow": {
     "slide_type": "subslide"
    }
   },
   "source": [
    "Abran los ojos. \n",
    "\n",
    "Los que acaban de abrir los ojos, hagan esta multiplicación, en menos de 3 segundos y escriban el resultado en un papel:\n"
   ]
  },
  {
   "cell_type": "markdown",
   "metadata": {
    "slideshow": {
     "slide_type": "fragment"
    }
   },
   "source": [
    "$$ 1 \\times 2\\times 3\\times 4\\times 5\\times 6\\times 7\\times 8 $$"
   ]
  },
  {
   "cell_type": "markdown",
   "metadata": {
    "slideshow": {
     "slide_type": "subslide"
    }
   },
   "source": [
    "La diferencia se da por anchoring effects. \n",
    "\n",
    "Es importante. Por ejemplo, en economía anchoring effects *''...challenge the central premise of welfare economics that choices reveal true preferences...''*  (Ariely, et al, 2003)(pp. 102)\n",
    "\n",
    "<center><img src=\"img/1_CB/Bayes33.png\" width = \"500\" height = '300'></center> "
   ]
  },
  {
   "cell_type": "markdown",
   "metadata": {
    "slideshow": {
     "slide_type": "subslide"
    }
   },
   "source": [
    "¿Cómo explicarlo? Es difícil, pero aca va una hipótesis Bayesiana:\n",
    "\n",
    "Sampleador sesgado que empieza con el anchor. Solo después de varias iteraciones cae el sesgo.\n",
    "\n",
    "<center><img src=\"img/1_CB/Bayes34.png\" width = \"600\" height = '300'></center> "
   ]
  },
  {
   "cell_type": "markdown",
   "metadata": {
    "slideshow": {
     "slide_type": "slide"
    }
   },
   "source": [
    "# Óptimo vs Descriptivo \n",
    "(Tauber, Navarro, Perfors, & Steyvers, 2017)"
   ]
  },
  {
   "cell_type": "markdown",
   "metadata": {
    "slideshow": {
     "slide_type": "subslide"
    }
   },
   "source": [
    "Un agente óptimo actualiza sus creencias con la ley de Bayes \n",
    "\n",
    "$$p(creencia|data)\\propto{p(data|creencia)p(creencia)}$$\n",
    "\n",
    "También podemos describir un agente no óptimo con métodos Bayesianos\n",
    "\n",
    "<center><img src=\"img/1_CB/TTB.png\" width = \"400\" height = '400'></center>"
   ]
  },
  {
   "cell_type": "markdown",
   "metadata": {
    "slideshow": {
     "slide_type": "subslide"
    }
   },
   "source": [
    "# ¿Qué hace un modelo óptimo (en el sentido Bayesiano)? "
   ]
  },
  {
   "cell_type": "markdown",
   "metadata": {
    "slideshow": {
     "slide_type": "subslide"
    }
   },
   "source": [
    "* Priors apropiados\n",
    "* Likelihoods apropriados\n",
    "* Espacio de hipótesis apropriados"
   ]
  },
  {
   "cell_type": "markdown",
   "metadata": {
    "slideshow": {
     "slide_type": "subslide"
    }
   },
   "source": [
    "Ejemplo: falacia del apostador. \n",
    "\n",
    "Todos son Bayesianos pero ¿cuál describe a un humano real? ¿cuál es el óptimo? Todos pero depende.\n",
    "<center><img src=\"img/1_CB/Tauber1.png\" width = \"900\" height = '900'></center>"
   ]
  },
  {
   "cell_type": "markdown",
   "metadata": {
    "slideshow": {
     "slide_type": "subslide"
    }
   },
   "source": [
    "Definimos optimalidad bayesiana como una con un espacio de hipótesis, un prior y un likelihood **apropiados**.\n",
    "* P.ej. en lanzamiento de monedas justas: uniform prior + independent likelihood\n",
    "\n",
    "Definimos descripción bayesiana como una con un espacio de hipótesis, un prior y un likelihood **alternativos**.\n",
    "\n",
    "* P.ej. en lanzamiento de monedas justas: biased prior + hot-hand likelihood"
   ]
  },
  {
   "cell_type": "markdown",
   "metadata": {
    "slideshow": {
     "slide_type": "subslide"
    }
   },
   "source": [
    "# ¿Por qué hacer descripciones bayesianas?\n",
    "\n",
    ">\"To build a Bayesian model, the researcher is forced to specify what form the mental representation might take (the hypothesis space), what biases the learner brings to the problem (the prior), and the rules by which the learner can be influenced by data (the likelihood) ... (in exp 1) people’s behavior systematically deviates from the normative standard set by the optimal Bayesian model, those deviations turn out to be interesting in a way that is naturally captured by the descriptive Bayesian model\" Tauber, et al, 2017, pp. 414, 421"
   ]
  },
  {
   "cell_type": "markdown",
   "metadata": {
    "slideshow": {
     "slide_type": "subslide"
    }
   },
   "source": [
    "# ¿Por qué también pensar en optimalidad bayesiana?\n",
    "\n",
    "> \"Bayesian methods have proven successful in building computational theories for **perception\n",
    "and sensorimotor control**, and psychophysics is providing a growing body of evidence that human\n",
    "perceptual computations are ‘Bayes’ optimal’. This leads to the ‘Bayesian coding hypothesis’: that the brain represents sensory information probabilistically, in the form of probability distributions\" Knill & Pouget, 2004, pp. 712"
   ]
  },
  {
   "cell_type": "markdown",
   "metadata": {
    "slideshow": {
     "slide_type": "slide"
    }
   },
   "source": [
    "# Conclusiones"
   ]
  },
  {
   "cell_type": "markdown",
   "metadata": {},
   "source": [
    "¿Por qué cognición bayesiana? \n",
    "\n",
    "Es un mundo ambiguo/incierto. El cerebro tiene que inferir la probabilidad de diferentes hipótesis \n",
    "\n",
    "<center><img src=\"img/1_CB/Bayes35.png\" width = \"450\" height = '300'></center> "
   ]
  },
  {
   "cell_type": "code",
   "execution_count": 5,
   "metadata": {
    "slideshow": {
     "slide_type": "skip"
    }
   },
   "outputs": [
    {
     "name": "stdout",
     "output_type": "stream",
     "text": [
      "[NbConvertApp] Converting notebook 1_Cognicion_Bayesiana.ipynb to slides\n",
      "[NbConvertApp] Writing 357668 bytes to 1_Cognicion_Bayesiana.slides.html\n"
     ]
    }
   ],
   "source": [
    "!jupyter nbconvert --to slides --SlidesExporter.reveal_theme='solarized' --SlidesExporter.reveal_transition='none' 1_Cognicion_Bayesiana.ipynb #Saves slide"
   ]
  },
  {
   "cell_type": "markdown",
   "metadata": {
    "slideshow": {
     "slide_type": "skip"
    }
   },
   "source": [
    "\n",
    "Para salvar las diapositivas a PDF (en Chrome), correr nbconvert para que abra las diapositivas en un servidor local (la transition y el theme son opcionales):\n",
    "\n",
    "!jupyter nbconvert --to slides --SlidesExporter.reveal_theme='solarized' --SlidesExporter.reveal_transition='convex' nombre_de_mi_notebook.ipynb --post serve\n",
    "\n",
    "Luego, a la dirección añadirle ?print-pdf después del .html:\n",
    "\n",
    "http://127.0.0.1:8000/nombre_de_mi_notebook.slides.html?print-pdf\n",
    "\n",
    "Y luego, imprimir y darle salvar como pdf"
   ]
  },
  {
   "cell_type": "code",
   "execution_count": null,
   "metadata": {
    "slideshow": {
     "slide_type": "skip"
    }
   },
   "outputs": [
    {
     "name": "stdout",
     "output_type": "stream",
     "text": [
      "[NbConvertApp] Converting notebook 1_Cognicion_Bayesiana.ipynb to slides\n",
      "[NbConvertApp] Writing 357670 bytes to 1_Cognicion_Bayesiana.slides.html\n",
      "[NbConvertApp] Redirecting reveal.js requests to https://cdnjs.cloudflare.com/ajax/libs/reveal.js/3.5.0\n",
      "Serving your slides at http://127.0.0.1:8000/1_Cognicion_Bayesiana.slides.html\n",
      "Use Control-C to stop this server\n"
     ]
    }
   ],
   "source": [
    "#Para salvar a pdf\n",
    "!jupyter nbconvert --to slides --SlidesExporter.reveal_theme='solarized' --SlidesExporter.reveal_transition='convex' 1_Cognicion_Bayesiana.ipynb --post serve"
   ]
  },
  {
   "cell_type": "code",
   "execution_count": null,
   "metadata": {},
   "outputs": [],
   "source": []
  }
 ],
 "metadata": {
  "celltoolbar": "Slideshow",
  "kernelspec": {
   "display_name": "Python 3",
   "language": "python",
   "name": "python3"
  },
  "language_info": {
   "codemirror_mode": {
    "name": "ipython",
    "version": 3
   },
   "file_extension": ".py",
   "mimetype": "text/x-python",
   "name": "python",
   "nbconvert_exporter": "python",
   "pygments_lexer": "ipython3",
   "version": "3.8.5"
  },
  "rise": {
   "chalkboard": {
    "color": [
     "rgb(250, 0, 0)",
     "rgb(0, 250, 250)"
    ]
   },
   "enable_chalkboard": true,
   "scroll": true,
   "theme": "simple",
   "transition": "none"
  }
 },
 "nbformat": 4,
 "nbformat_minor": 4
}
