{
 "cells": [
  {
   "cell_type": "markdown",
   "metadata": {
    "slideshow": {
     "slide_type": "slide"
    }
   },
   "source": [
    "# Cognición bayesiana: palabras finales\n",
    "\n",
    "Santiago Alonso-Díaz <br>\n",
    "Departamento de Economía <br>\n",
    "Universidad Javeriana <br>\n",
    "Profesor Asistente\n"
   ]
  },
  {
   "cell_type": "markdown",
   "metadata": {
    "slideshow": {
     "slide_type": "slide"
    }
   },
   "source": [
    "## ¿Qué es?\n",
    "\n",
    "Combinar datos y creencias con el teorema de Bayes.\n"
   ]
  },
  {
   "cell_type": "markdown",
   "metadata": {
    "slideshow": {
     "slide_type": "subslide"
    }
   },
   "source": [
    "Bayes formalizó como combinar priors y likelihoods\n",
    "\n",
    "\n",
    "$$ Posterior = \\frac{Prior \\times Likelihood}{Marginal} $$"
   ]
  },
  {
   "cell_type": "markdown",
   "metadata": {
    "slideshow": {
     "slide_type": "subslide"
    }
   },
   "source": [
    "Veamos la misma formula con otros \"nombres\"\n",
    "\n",
    "$$ Belief_{t+1} = \\frac{Belief_t \\times Likelihood}{Marginal} $$"
   ]
  },
  {
   "cell_type": "markdown",
   "metadata": {
    "slideshow": {
     "slide_type": "subslide"
    }
   },
   "source": [
    "Veamos la misma formula expandida\n",
    "\n",
    "\n",
    "$$ p(Hypothesis|Data) = \\frac{p(Hypothesis) \\times p(Data|Hypothesis)}{p(Data)} $$"
   ]
  },
  {
   "cell_type": "markdown",
   "metadata": {
    "slideshow": {
     "slide_type": "slide"
    }
   },
   "source": [
    "## Aplicación 1: Cognición Social \n",
    "(Jara-Ettinger, et al, 2016)."
   ]
  },
  {
   "cell_type": "markdown",
   "metadata": {
    "slideshow": {
     "slide_type": "subslide"
    }
   },
   "source": [
    "<p style = \"font-size: 25px\">¿Qué prefiere <span style=\"color:blue\"> <b>azulito</b></span>? </p>\n",
    "\n",
    "<center><img src=\"img/99_CB/Bayes18.svg\" width = \"300\" height = '300'></center> "
   ]
  },
  {
   "cell_type": "markdown",
   "metadata": {
    "slideshow": {
     "slide_type": "subslide"
    }
   },
   "source": [
    "<p style = \"font-size: 25px\">¿Qué prefiere <span style=\"color:blue\"> <b>azulito</b></span>? </p>\n",
    "\n",
    "<center><img src=\"img/99_CB/Bayes19.svg\" width = \"550\" height = '300'></center> "
   ]
  },
  {
   "cell_type": "markdown",
   "metadata": {
    "slideshow": {
     "slide_type": "subslide"
    }
   },
   "source": [
    "<p style = \"font-size: 25px\"><span style=\"color:blue\"> <b>Azulito</b></span> pide ayuda ¿Pereza? </p>\n",
    "\n",
    "<center><img src=\"img/99_CB/Bayes20.svg\" width = \"350\" height = '350'></center> "
   ]
  },
  {
   "cell_type": "markdown",
   "metadata": {
    "slideshow": {
     "slide_type": "subslide"
    }
   },
   "source": [
    "<p style = \"font-size: 25px\">¿Quién es más malo? ¿<span style=\"color:green\"> <b>verde</b></span>? ¿<span style=\"color:red\"> <b>rojo</b></span>? </p>\n",
    "\n",
    "<center><img src=\"img/99_CB/Bayes21.svg\" width = \"300\" height = '300'></center> "
   ]
  },
  {
   "cell_type": "markdown",
   "metadata": {
    "slideshow": {
     "slide_type": "subslide"
    }
   },
   "source": [
    "<p style = \"font-size: 25px\">Inferencia sobre estados latentes de <span style=\"color:blue\"> <b>azulito</b></span> (e.g. preferencias) con el teorema de Bayes </p>\n",
    "\n",
    "\n",
    "$$ p(Preferencia|Accion) \\propto p(Accion|Preferencia)p(Preferencia)$$"
   ]
  },
  {
   "cell_type": "markdown",
   "metadata": {
    "slideshow": {
     "slide_type": "subslide"
    }
   },
   "source": [
    "<p style = \"font-size: 25px\">Por ejemplo, likelihood normal y prior uniforme </p>\n",
    "<center><img src=\"img/99_CB/Bayes22.svg\" width = \"600\" height = '300'></center>"
   ]
  },
  {
   "cell_type": "markdown",
   "metadata": {
    "slideshow": {
     "slide_type": "subslide"
    }
   },
   "source": [
    "<center><img src=\"img/99_CB/Bayes23.svg\" width = \"600\" height = '300'></center> "
   ]
  },
  {
   "cell_type": "markdown",
   "metadata": {
    "slideshow": {
     "slide_type": "subslide"
    }
   },
   "source": [
    "<center><img src=\"img/99_CB/Bayes24.svg\" width = \"600\" height = '300'></center> "
   ]
  },
  {
   "cell_type": "markdown",
   "metadata": {
    "slideshow": {
     "slide_type": "subslide"
    }
   },
   "source": [
    "<center><img src=\"img/99_CB/Bayes25.svg\" width = \"600\" height = '300'></center> "
   ]
  },
  {
   "cell_type": "markdown",
   "metadata": {
    "slideshow": {
     "slide_type": "subslide"
    }
   },
   "source": [
    "<center><img src=\"img/99_CB/Bayes26.svg\" width = \"600\" height = '300'></center> "
   ]
  },
  {
   "cell_type": "markdown",
   "metadata": {
    "slideshow": {
     "slide_type": "subslide"
    }
   },
   "source": [
    "## ¿Sirve? \n",
    "\n",
    "$$ p(Costos, Recompensas|Accion) \\propto p(Accion|Costos, Recompensas)p(Costos, Recompensas)$$\n",
    "\n",
    "<center><img src=\"img/99_CB/Jara-Ettinger.svg\" width = \"400\" height = '300'></center> "
   ]
  },
  {
   "cell_type": "markdown",
   "metadata": {
    "slideshow": {
     "slide_type": "slide"
    }
   },
   "source": [
    "## Aplicación 2: Cognición de Magnitudes\n",
    "Petzschner, et al, (2015)"
   ]
  },
  {
   "cell_type": "markdown",
   "metadata": {
    "slideshow": {
     "slide_type": "subslide"
    }
   },
   "source": [
    "<br>\n",
    "<center><img src=\"img/99_CB/dots.svg\" width = \"800\" height = '300'></center> "
   ]
  },
  {
   "cell_type": "markdown",
   "metadata": {
    "slideshow": {
     "slide_type": "subslide"
    }
   },
   "source": [
    "La gente ubica los números de forma no-líneal: atracción a la media del rango. Valores bajos se sobre-ubican, altos se sub-ubican.\n",
    "<br><br>\n",
    "<center><img src=\"img/99_CB/Petzschner.svg\" width = \"350\" height = '350'></center> "
   ]
  },
  {
   "cell_type": "markdown",
   "metadata": {
    "slideshow": {
     "slide_type": "subslide"
    }
   },
   "source": [
    "Así haya buena percepción de la información (`likelihood`), una creencia de que los valores en el mundo usualmente se ubican en el centro del rango (`prior`) puede \"jalar\" el estimativo. \n",
    "\n",
    "\n",
    "<br><br>\n",
    "<center><img src=\"img/99_CB/Petzschner2.svg\" width = \"450\" height = '450'></center> "
   ]
  },
  {
   "cell_type": "markdown",
   "metadata": {
    "slideshow": {
     "slide_type": "slide"
    }
   },
   "source": [
    "## Aplicación 3: Cognición de Proporciones\n",
    "\n",
    "Alonso-Díaz & Penagos-Londoño (2020)\n"
   ]
  },
  {
   "cell_type": "markdown",
   "metadata": {
    "slideshow": {
     "slide_type": "subslide"
    }
   },
   "source": [
    "En menos de 2 segundos ... ¿Cuál es mayor?\n",
    "<br><br>\n",
    "$$ \\frac{211}{617} \\;\\;  vs \\;\\; \\frac{73}{211}$$ "
   ]
  },
  {
   "cell_type": "markdown",
   "metadata": {
    "slideshow": {
     "slide_type": "fragment"
    }
   },
   "source": [
    "La mayoría escoje el de numerador más alto"
   ]
  },
  {
   "cell_type": "markdown",
   "metadata": {
    "slideshow": {
     "slide_type": "subslide"
    }
   },
   "source": [
    "No es del todo educación o hábilidades matemáticas. Ocurre con imágenes.\n",
    "\n",
    "<center><img src=\"img/99_CB/Alonso.svg\" width = \"850\" height = '850'></center> "
   ]
  },
  {
   "cell_type": "markdown",
   "metadata": {
    "slideshow": {
     "slide_type": "subslide"
    }
   },
   "source": [
    "Hipótesis bayesiana (prior): \n",
    "\n",
    "Mundo tiene fracciones altas con numeradores altos. "
   ]
  },
  {
   "cell_type": "markdown",
   "metadata": {
    "slideshow": {
     "slide_type": "subslide"
    }
   },
   "source": [
    "¡Hay una creencia justificada!\n",
    "\n",
    "<center><img src=\"img/99_CB/Alonso2.svg\" width = \"650\" height = '650'></center> "
   ]
  },
  {
   "cell_type": "markdown",
   "metadata": {
    "slideshow": {
     "slide_type": "subslide"
    }
   },
   "source": [
    "No solo en imágenes\n",
    "\n",
    "<center><img src=\"img/99_CB/Alonso3.svg\" width = \"450\" height = '450'></center>"
   ]
  },
  {
   "cell_type": "markdown",
   "metadata": {
    "slideshow": {
     "slide_type": "subslide"
    }
   },
   "source": [
    "Cerebro bayesiano (trabajo empírico y teórico) <br><br><br>\n",
    "\n",
    "<center><img src=\"img/99_CB/Aitchison1.svg\" width = \"450\" height = '450'></center> <br><br>\n",
    "<center><img src=\"img/99_CB/Knill1.svg\" width = \"450\" height = '450'></center> <br><br>\n",
    "<center><img src=\"img/99_CB/Beck1.svg\" width = \"450\" height = '450'></center> <br><br>\n",
    "\n"
   ]
  },
  {
   "cell_type": "markdown",
   "metadata": {
    "slideshow": {
     "slide_type": "subslide"
    }
   },
   "source": [
    "Por ejemplo, se puede modelar sinapsis que disparan de acuerdo a una posterior de tasas de disparos (rojo modelo bayesiano; negro son datos). <br><br> \n",
    "Si la neurona dispara fuerte el modelo bayesiano esta seguro (paneles superiores, posterior sombra roja), si dispara débil hay incertidumbre (paneles inferiores)<br><br>\n",
    "\n",
    "<center><img src=\"img/99_CB/Aitchison2.svg\" width = \"650\" height = '650'></center> <br><br>\n",
    "\n",
    "Aitchison, et al, 2021."
   ]
  },
  {
   "cell_type": "markdown",
   "metadata": {
    "slideshow": {
     "slide_type": "slide"
    }
   },
   "source": [
    "## Criticas \n",
    "\n",
    "* Intractabilidad\n",
    "* Cherry picking (experimentos)\n",
    "* Cherry picking (priors)\n",
    "* Explicacionismo (IBE)"
   ]
  },
  {
   "cell_type": "markdown",
   "metadata": {
    "slideshow": {
     "slide_type": "subslide"
    }
   },
   "source": [
    "Intractabilidad (Kwisthout, et al, 2011; Gigerenzer, et al, 2009)\n",
    "<br>\n",
    "<center><div style=\"text-align: justify; max-width: 600px; font-size: 20px\" > <i style = \"font-size: 20px\">\"This eliminates NP-hard models that lead to computational explosion such as probabilistic using Bayesian belief networks (...)\"</i>(Gigerenzer, et al, 2008, p. 236)\n",
    "</div></center>\n",
    "<br>\n",
    "<center><img src=\"img/99_CB/Ciranka.png\" width = \"350\" height = '350'></center>"
   ]
  },
  {
   "cell_type": "markdown",
   "metadata": {
    "slideshow": {
     "slide_type": "subslide"
    }
   },
   "source": [
    "Cherry picking experimentos (Marcus & Davis, 2013)\n",
    "<br><br>\n",
    "<center><img src=\"img/99_CB/Marcus.svg\" width = \"700\" height = '700'></center>"
   ]
  },
  {
   "cell_type": "markdown",
   "metadata": {
    "slideshow": {
     "slide_type": "subslide"
    }
   },
   "source": [
    "Cherry picking priors (Marcus & Davis, 2013)\n",
    "\n",
    "<br>\n",
    "<center><img src=\"img/99_CB/Marcus2.svg\" width = \"600\" height = '600'></center>\n"
   ]
  },
  {
   "cell_type": "markdown",
   "metadata": {
    "slideshow": {
     "slide_type": "subslide"
    }
   },
   "source": [
    "Explicacionismo (IBE) (e.g. Douven & Schupbach, 2015)\n",
    "\n",
    "Posterior confidence is not enough, \"... hypotheses are to be assessed at least partly on the basis of their explanatory virtues\" \n",
    "\n",
    "Dar bonos a hipótesis explicativas i.e. dedución abductiva (no mayoritariamente inductiva, como en Bayes e.g. poca confianza en existencia de gansos negros)\n",
    "\n",
    "<center><img src=\"img/99_CB/black_white_swans.jpg\" width = \"150\" height = '150'></center>\n",
    "\n",
    "Lo podemos formalizar:\n",
    "\n",
    "$$p(Hipotesis_i) = \\frac{Prior \\times Likelihood + \\gamma(Hipotesis_{best})}{Marginal + \\gamma(Hipotesis_{best})}$$"
   ]
  },
  {
   "cell_type": "markdown",
   "metadata": {
    "slideshow": {
     "slide_type": "slide"
    }
   },
   "source": [
    "## Respuestas a críticas\n",
    "\n",
    "1. Crítica: Intractabilidad. \n",
    "    - Respuesta: Aproximaciones\n",
    "2. Crítica: Experimentos y priors cherry. \n",
    "    - Respuesta: Así es la ciencia (y se auto-corrige)\n",
    "3. Crítica: Explicacionismo\n",
    "    - Respuesta: De acuerdo, inducción y deducción son diferentes"
   ]
  },
  {
   "cell_type": "markdown",
   "metadata": {
    "slideshow": {
     "slide_type": "subslide"
    }
   },
   "source": [
    "Respuesta: Aproximaciones (Lieder & Griffiths, 2020; Sanborn & Chater, 2016)\n",
    "\n",
    "Por ejemplo, en resource-rational analysis se puede hacer inferencia bayesiana con los recursos que se tienen.\n",
    "  \n",
    "<br>\n",
    "<center><img src=\"img/99_CB/Lieder.svg\" width = \"600\" height = '600'></center>\n"
   ]
  },
  {
   "cell_type": "markdown",
   "metadata": {
    "slideshow": {
     "slide_type": "subslide"
    }
   },
   "source": [
    "Respuesta: Así es la ciencia (Goodman, et al, 2014)\n",
    "<br><br>\n",
    "<center><div style=\"text-align: justify; max-width: 400px; font-size: 20px\" > <i style = \"font-size: 20px\">\"...all models are wrong, but some are useful...\"</i>(Box, 1987, p. 424)\n",
    "</div></center>\n"
   ]
  },
  {
   "cell_type": "markdown",
   "metadata": {
    "slideshow": {
     "slide_type": "subslide"
    }
   },
   "source": [
    "Respuesta: De acuerdo, inducción y deducción son diferentes\n",
    "\n",
    "El objetivo Bayesiano no es negar otros modos de razonamiento. \n",
    "\n",
    "Ningún Bayesiano aceptaría una prueba inductiva de, por ejemplo, la conjetura de Goldbach.\n",
    "\n",
    "<center><img src=\"img/99_CB/goldbach_conjectures.png\" width = \"400\" height = '400'></center>"
   ]
  },
  {
   "cell_type": "markdown",
   "metadata": {
    "slideshow": {
     "slide_type": "slide"
    }
   },
   "source": [
    "## Conclusión\n",
    "\n",
    "La cognición bayesiana es una herramienta para modelar (exitosa)\n",
    "\n",
    "Formaliza la idea de que las creencias y la data afectan nuestra psicología, comportamiento, y respuestas neuronales.\n"
   ]
  },
  {
   "cell_type": "code",
   "execution_count": 10,
   "metadata": {
    "slideshow": {
     "slide_type": "skip"
    }
   },
   "outputs": [
    {
     "name": "stdout",
     "output_type": "stream",
     "text": [
      "[NbConvertApp] Converting notebook Panorama_Bayes.ipynb to slides\n",
      "[NbConvertApp] Writing 292517 bytes to Panorama_Bayes.slides.html\n"
     ]
    }
   ],
   "source": [
    "!jupyter nbconvert --to slides --SlidesExporter.reveal_theme='simple' --SlidesExporter.reveal_transition='none' Panorama_Bayes.ipynb #Saves slides"
   ]
  },
  {
   "cell_type": "markdown",
   "metadata": {
    "slideshow": {
     "slide_type": "skip"
    }
   },
   "source": [
    "\n",
    "Para salvar las diapositivas a PDF (en Chrome), correr nbconvert para que abra las diapositivas en un servidor local (la transition y el theme son opcionales):\n",
    "\n",
    "!jupyter nbconvert --to slides --SlidesExporter.reveal_theme='solarized' --SlidesExporter.reveal_transition='convex' nombre_de_mi_notebook.ipynb --post serve\n",
    "\n",
    "Luego, a la dirección añadirle ?print-pdf después del .html:\n",
    "\n",
    "http://127.0.0.1:8000/nombre_de_mi_notebook.slides.html?print-pdf\n",
    "\n",
    "Y luego, imprimir y darle salvar como pdf"
   ]
  },
  {
   "cell_type": "code",
   "execution_count": null,
   "metadata": {
    "slideshow": {
     "slide_type": "skip"
    }
   },
   "outputs": [
    {
     "name": "stdout",
     "output_type": "stream",
     "text": [
      "[NbConvertApp] Converting notebook Panorama_Bayes.ipynb to slides\n",
      "[NbConvertApp] Writing 292517 bytes to Panorama_Bayes.slides.html\n",
      "[NbConvertApp] Redirecting reveal.js requests to https://cdnjs.cloudflare.com/ajax/libs/reveal.js/3.5.0\n",
      "Serving your slides at http://127.0.0.1:8000/Panorama_Bayes.slides.html\n",
      "Use Control-C to stop this server\n",
      "WARNING:tornado.access:404 GET /components/font-awesome/fonts/fontawesome-webfont.woff2?v=4.7.0 (127.0.0.1) 0.92ms\n",
      "WARNING:tornado.access:404 GET /components/font-awesome/fonts/fontawesome-webfont.woff?v=4.7.0 (127.0.0.1) 0.60ms\n",
      "WARNING:tornado.access:404 GET /components/font-awesome/fonts/fontawesome-webfont.ttf?v=4.7.0 (127.0.0.1) 0.62ms\n"
     ]
    }
   ],
   "source": [
    "#Para salvar a pdf\n",
    "!jupyter nbconvert --to slides --SlidesExporter.reveal_theme='simple' --SlidesExporter.reveal_transition='none' Panorama_Bayes.ipynb --post serve"
   ]
  }
 ],
 "metadata": {
  "celltoolbar": "Slideshow",
  "kernelspec": {
   "display_name": "Python 3",
   "language": "python",
   "name": "python3"
  },
  "language_info": {
   "codemirror_mode": {
    "name": "ipython",
    "version": 3
   },
   "file_extension": ".py",
   "mimetype": "text/x-python",
   "name": "python",
   "nbconvert_exporter": "python",
   "pygments_lexer": "ipython3",
   "version": "3.8.5"
  },
  "rise": {
   "chalkboard": {
    "color": [
     "rgb(250, 0, 0)",
     "rgb(250, 250, 250)"
    ]
   },
   "enable_chalkboard": true,
   "scroll": true,
   "theme": "simple",
   "transition": "none"
  }
 },
 "nbformat": 4,
 "nbformat_minor": 4
}
