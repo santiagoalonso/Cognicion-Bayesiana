{
 "cells": [
  {
   "cell_type": "code",
   "execution_count": 3,
   "metadata": {
    "scrolled": true,
    "slideshow": {
     "slide_type": "skip"
    }
   },
   "outputs": [
    {
     "name": "stdout",
     "output_type": "stream",
     "text": [
      "Running on PyMC3 v3.11.2\n"
     ]
    }
   ],
   "source": [
    "#Manejo de matrices y tablas\n",
    "import numpy as np\n",
    "import pandas as pd\n",
    "\n",
    "#Estadistica y funciones matemáticas\n",
    "import scipy.stats as st\n",
    "from scipy.optimize import fmin\n",
    "from scipy import integrate\n",
    "from scipy.stats.mstats import mquantiles\n",
    "\n",
    "\n",
    "#Probabilistic programs\n",
    "#!pip install pymc3\n",
    "#!pip install pymc==4.0.0b1\n",
    "import pymc3 as pm\n",
    "#import pymc as pm\n",
    "#import aesara.tensor as at\n",
    "import theano.tensor as tt \n",
    "from theano.compile.ops import as_op\n",
    "print('Running on PyMC v{}'.format(pm.__version__))\n",
    "\n",
    "\n",
    "#Graficas\n",
    "import seaborn as sns\n",
    "import plotly.graph_objects as go\n",
    "import altair as alt\n",
    "from altair_saver import save #ademas instalar en terminal: brew cask install chromedriver\n",
    "import matplotlib.pyplot as plt\n",
    "from matplotlib import cm\n",
    "from matplotlib.gridspec import GridSpec\n",
    "from matplotlib import animation, rc\n",
    "from IPython.display import display, HTML, Markdown\n",
    "import ipywidgets as widgets\n",
    "from ipywidgets import interact, interactive, fixed, HBox, VBox, Layout\n",
    "from graphviz import Source, Digraph\n",
    "import dot2tex as d2t\n",
    "from latex import build_pdf\n",
    "from mpl_toolkits.mplot3d import axes3d\n",
    "import arviz as az"
   ]
  },
  {
   "cell_type": "markdown",
   "metadata": {
    "slideshow": {
     "slide_type": "slide"
    }
   },
   "source": [
    "# Comparación de modelos\n",
    "Santiago Alonso-Díaz, PhD <br>\n",
    "Universidad Javeriana"
   ]
  },
  {
   "cell_type": "markdown",
   "metadata": {
    "slideshow": {
     "slide_type": "subslide"
    }
   },
   "source": [
    "¿Cuál modelo representa mejor la realidad?\n",
    "\n",
    "<center><img src=\"img/5_CB/starry-night.jpg\" width = \"800\" height = '800'></center>"
   ]
  },
  {
   "cell_type": "markdown",
   "metadata": {
    "slideshow": {
     "slide_type": "slide"
    }
   },
   "source": [
    "# Modelos jerárquicos\n",
    "\n",
    "<center><img src=\"img/5_CB/Hierarchy.svg\" width = \"400\" height = '400'></center>\n",
    "\n",
    "Principales fuentes: Gelman, et al (2013); Kruschke (2014)."
   ]
  },
  {
   "cell_type": "markdown",
   "metadata": {
    "slideshow": {
     "slide_type": "subslide"
    }
   },
   "source": [
    "Hay muchas estructuras jerarquicas:\n",
    "* Probabilidad de supervivencia COVID \n",
    "    * Depende de país. \n",
    "        * Depende del hospital.\n",
    "\n",
    "\n",
    "* Actividad M1 en decisiones económicas (motor cortex)\n",
    "    * Depende de SMA (supplementary motor area)\n",
    "        * Depende de IPS (intraparietal sulcus; acum. evidencia)\n",
    "            * Depende de vmPFC (ventromedial prefrontal cortex; valor subjetivo)"
   ]
  },
  {
   "cell_type": "markdown",
   "metadata": {
    "slideshow": {
     "slide_type": "subslide"
    }
   },
   "source": [
    "## Primer ejemplo: Riesgo de tumor en ratas\n",
    "\n",
    "Descripción: determinar $\\theta$, la probabilidad de tumor en ratas de laboratorio (F344) que no reciben medicamento experimental.\n",
    "\n",
    "Datos: un experimento que se acaba de hacer. 70 grupos de ratas testeadas antes. \n",
    "\n",
    "Este ejemplo se va a modelar de forma jerárquica y con priors basados en data anterior. "
   ]
  },
  {
   "cell_type": "code",
   "execution_count": 4,
   "metadata": {},
   "outputs": [
    {
     "data": {
      "text/html": [
       "<div>\n",
       "<style scoped>\n",
       "    .dataframe tbody tr th:only-of-type {\n",
       "        vertical-align: middle;\n",
       "    }\n",
       "\n",
       "    .dataframe tbody tr th {\n",
       "        vertical-align: top;\n",
       "    }\n",
       "\n",
       "    .dataframe thead th {\n",
       "        text-align: right;\n",
       "    }\n",
       "</style>\n",
       "<table border=\"1\" class=\"dataframe\">\n",
       "  <thead>\n",
       "    <tr style=\"text-align: right;\">\n",
       "      <th></th>\n",
       "      <th>y</th>\n",
       "      <th>n</th>\n",
       "    </tr>\n",
       "  </thead>\n",
       "  <tbody>\n",
       "    <tr>\n",
       "      <th>0</th>\n",
       "      <td>0.0</td>\n",
       "      <td>20.0</td>\n",
       "    </tr>\n",
       "    <tr>\n",
       "      <th>1</th>\n",
       "      <td>0.0</td>\n",
       "      <td>20.0</td>\n",
       "    </tr>\n",
       "    <tr>\n",
       "      <th>2</th>\n",
       "      <td>0.0</td>\n",
       "      <td>20.0</td>\n",
       "    </tr>\n",
       "    <tr>\n",
       "      <th>3</th>\n",
       "      <td>0.0</td>\n",
       "      <td>20.0</td>\n",
       "    </tr>\n",
       "    <tr>\n",
       "      <th>4</th>\n",
       "      <td>0.0</td>\n",
       "      <td>20.0</td>\n",
       "    </tr>\n",
       "    <tr>\n",
       "      <th>5</th>\n",
       "      <td>0.0</td>\n",
       "      <td>20.0</td>\n",
       "    </tr>\n",
       "    <tr>\n",
       "      <th>6</th>\n",
       "      <td>0.0</td>\n",
       "      <td>20.0</td>\n",
       "    </tr>\n",
       "    <tr>\n",
       "      <th>7</th>\n",
       "      <td>0.0</td>\n",
       "      <td>19.0</td>\n",
       "    </tr>\n",
       "    <tr>\n",
       "      <th>8</th>\n",
       "      <td>0.0</td>\n",
       "      <td>19.0</td>\n",
       "    </tr>\n",
       "    <tr>\n",
       "      <th>9</th>\n",
       "      <td>0.0</td>\n",
       "      <td>19.0</td>\n",
       "    </tr>\n",
       "    <tr>\n",
       "      <th>10</th>\n",
       "      <td>0.0</td>\n",
       "      <td>19.0</td>\n",
       "    </tr>\n",
       "    <tr>\n",
       "      <th>11</th>\n",
       "      <td>0.0</td>\n",
       "      <td>18.0</td>\n",
       "    </tr>\n",
       "    <tr>\n",
       "      <th>12</th>\n",
       "      <td>0.0</td>\n",
       "      <td>18.0</td>\n",
       "    </tr>\n",
       "    <tr>\n",
       "      <th>13</th>\n",
       "      <td>0.0</td>\n",
       "      <td>17.0</td>\n",
       "    </tr>\n",
       "    <tr>\n",
       "      <th>14</th>\n",
       "      <td>1.0</td>\n",
       "      <td>20.0</td>\n",
       "    </tr>\n",
       "    <tr>\n",
       "      <th>15</th>\n",
       "      <td>1.0</td>\n",
       "      <td>20.0</td>\n",
       "    </tr>\n",
       "    <tr>\n",
       "      <th>16</th>\n",
       "      <td>1.0</td>\n",
       "      <td>20.0</td>\n",
       "    </tr>\n",
       "    <tr>\n",
       "      <th>17</th>\n",
       "      <td>1.0</td>\n",
       "      <td>20.0</td>\n",
       "    </tr>\n",
       "    <tr>\n",
       "      <th>18</th>\n",
       "      <td>1.0</td>\n",
       "      <td>19.0</td>\n",
       "    </tr>\n",
       "    <tr>\n",
       "      <th>19</th>\n",
       "      <td>1.0</td>\n",
       "      <td>19.0</td>\n",
       "    </tr>\n",
       "    <tr>\n",
       "      <th>20</th>\n",
       "      <td>1.0</td>\n",
       "      <td>18.0</td>\n",
       "    </tr>\n",
       "  </tbody>\n",
       "</table>\n",
       "</div>"
      ],
      "text/plain": [
       "      y     n\n",
       "0   0.0  20.0\n",
       "1   0.0  20.0\n",
       "2   0.0  20.0\n",
       "3   0.0  20.0\n",
       "4   0.0  20.0\n",
       "5   0.0  20.0\n",
       "6   0.0  20.0\n",
       "7   0.0  19.0\n",
       "8   0.0  19.0\n",
       "9   0.0  19.0\n",
       "10  0.0  19.0\n",
       "11  0.0  18.0\n",
       "12  0.0  18.0\n",
       "13  0.0  17.0\n",
       "14  1.0  20.0\n",
       "15  1.0  20.0\n",
       "16  1.0  20.0\n",
       "17  1.0  20.0\n",
       "18  1.0  19.0\n",
       "19  1.0  19.0\n",
       "20  1.0  18.0"
      ]
     },
     "execution_count": 4,
     "metadata": {},
     "output_type": "execute_result"
    }
   ],
   "source": [
    "#Data\n",
    "rats = pd.DataFrame(\n",
    "    np.loadtxt(\"data/5_CB/rats.asc\", skiprows=1), \n",
    "    columns = ['y','n']\n",
    ")\n",
    "rats.loc[0:20,:] #y: with tumor; n: total rats\n"
   ]
  },
  {
   "cell_type": "markdown",
   "metadata": {
    "slideshow": {
     "slide_type": "subslide"
    }
   },
   "source": [
    "71 experimentos con j grupos de ratas. \n",
    "\n",
    "$\\theta_j$ depende de `hiperparámetros` $\\alpha, \\beta$: \n",
    "\n",
    "Hiperparámetros reflejan condiciones del grupo, experimento, o día. \n",
    "\n",
    "<center><img src=\"img/5_CB/model_rats.svg\" width = \"801\" height = '800'></center>"
   ]
  },
  {
   "cell_type": "markdown",
   "metadata": {
    "slideshow": {
     "slide_type": "subslide"
    }
   },
   "source": [
    "Las distribuciones para $y_j$ & $\\theta_j$:\n",
    "* Beta esta entre [0,1], perfecto para proporciones.\n",
    "* Binomial, es discreta para conteos.\n",
    "\n",
    "La distribución $p(\\alpha,\\beta)$:\n",
    "* Uniforme entre $$\\left[\\frac{\\alpha}{\\alpha+\\beta}, (\\alpha+\\beta)^{-5/2} \\right]$$\n",
    "* El 1er extremo es el promedio de $\\theta_j$\n",
    "* El 2do extremo depende del denominador del promedio de $\\theta_j$: $\\alpha + \\beta$\n",
    "* $(\\alpha + \\beta)^{-5/2}$, es luego de volver a las variables originales (ver Gelman, et al, 2013, Hierarchical Models)."
   ]
  },
  {
   "cell_type": "code",
   "execution_count": null,
   "metadata": {},
   "outputs": [],
   "source": [
    "#El prior para alpha y beta castiga valores altos de alpha+beta\n",
    "#Castigar significa que les asigna cada vez menos probabilidad\n",
    "alpha = np.random.randint(0,100,500)\n",
    "beta = np.random.randint(0,100,500)\n",
    "y = (alpha+beta)**(-5/2)\n",
    "plt.scatter(alpha+beta, y);\n",
    "plt.ylabel('$p(\\\\alpha,\\\\beta)$')\n",
    "plt.xlabel('$\\\\alpha+\\\\beta$');"
   ]
  },
  {
   "cell_type": "code",
   "execution_count": 5,
   "metadata": {
    "slideshow": {
     "slide_type": "subslide"
    }
   },
   "outputs": [
    {
     "name": "stderr",
     "output_type": "stream",
     "text": [
      "<ipython-input-5-1cd1ba234631>:21: FutureWarning: In v4.0, pm.sample will return an `arviz.InferenceData` object instead of a `MultiTrace` by default. You can pass return_inferencedata=True or return_inferencedata=False to be safe and silence this warning.\n",
      "  trace = pm.sample(5000, target_accept=.95)\n",
      "Auto-assigning NUTS sampler...\n",
      "Initializing NUTS using jitter+adapt_diag...\n",
      "Multiprocess sampling (4 chains in 4 jobs)\n",
      "NUTS: [theta, beta, alpha]\n"
     ]
    },
    {
     "data": {
      "text/html": [
       "\n",
       "    <div>\n",
       "        <style>\n",
       "            /* Turns off some styling */\n",
       "            progress {\n",
       "                /* gets rid of default border in Firefox and Opera. */\n",
       "                border: none;\n",
       "                /* Needs to be in here for Safari polyfill so background images work as expected. */\n",
       "                background-size: auto;\n",
       "            }\n",
       "            .progress-bar-interrupted, .progress-bar-interrupted::-webkit-progress-bar {\n",
       "                background: #F44336;\n",
       "            }\n",
       "        </style>\n",
       "      <progress value='24000' class='' max='24000' style='width:300px; height:20px; vertical-align: middle;'></progress>\n",
       "      100.00% [24000/24000 00:22<00:00 Sampling 4 chains, 0 divergences]\n",
       "    </div>\n",
       "    "
      ],
      "text/plain": [
       "<IPython.core.display.HTML object>"
      ]
     },
     "metadata": {},
     "output_type": "display_data"
    },
    {
     "name": "stderr",
     "output_type": "stream",
     "text": [
      "Sampling 4 chains for 1_000 tune and 5_000 draw iterations (4_000 + 20_000 draws total) took 36 seconds.\n",
      "The number of effective samples is smaller than 25% for some parameters.\n"
     ]
    }
   ],
   "source": [
    "# p(alpha,beta) en log (el algoritmo trabaja con logs)\n",
    "def logp_ab(a,b):\n",
    "    return tt.log(tt.pow(a+b, -5/2))\n",
    "with pm.Model() as model: \n",
    "    #Priors\n",
    "    a = pm.Uniform('alpha', 0.05, 100)\n",
    "    b = pm.Uniform('beta', 0.05, 100)    \n",
    "    pm.Potential('p(a, b)', logp_ab(a,b)) \n",
    "    #Pueden remover el Potential (es simila a increase_log de stan)\n",
    "    #(pero ver Gelman, 2013, Ch 5, ed 3)\n",
    "    #El algoritmo no falla si castigamos alpha + beta.\n",
    "    \n",
    "    theta = pm.Beta('theta', alpha=a, beta=b, \n",
    "                    shape=rats.shape[0])\n",
    "    \n",
    "    #Likelihoods\n",
    "    y = pm.Binomial('y', p=theta, n=rats.loc[:,'n'], \n",
    "                    observed=rats.loc[:,'y'])\n",
    "    \n",
    "    # Sampleo\n",
    "    trace = pm.sample(5000, target_accept=.95)\n",
    "    #the step size in PyMC3 is tuned automatically during warm up, \n",
    "    #but we can coerce smaller step sizes by tweaking the configuration \n",
    "    #of PyMC3’s adaptation routine. In particular, we can increase the \n",
    "    #target_accept parameter from its default value of 0.8 closer \n",
    "    #to its maximum value of 1\n",
    "    ##posterior_predictive = pm.sample_posterior_predictive(trace)\n",
    " "
   ]
  },
  {
   "cell_type": "code",
   "execution_count": 6,
   "metadata": {
    "slideshow": {
     "slide_type": "skip"
    }
   },
   "outputs": [
    {
     "data": {
      "image/png": "[encoded data removed]",
      "text/plain": [
       "<Figure size 864x288 with 4 Axes>"
      ]
     },
     "metadata": {
      "needs_background": "light"
     },
     "output_type": "display_data"
    }
   ],
   "source": [
    "# Combina bien\n",
    "beta_samples = trace[\"beta\"]\n",
    "alpha_samples = trace[\"alpha\"]\n",
    "data = az.from_pymc3(trace=trace, model=model)\n",
    "az.plot_trace(data, var_names=['alpha', 'beta']);\n",
    "plt.savefig('img/5_CB/trace_rats.svg')\n",
    "#plt.close()"
   ]
  },
  {
   "cell_type": "markdown",
   "metadata": {
    "slideshow": {
     "slide_type": "subslide"
    }
   },
   "source": [
    "Combina bien\n",
    "\n",
    "<center><img src=\"img/5_CB/trace_rats.svg\" width = \"801\" height = '800'></center>"
   ]
  },
  {
   "cell_type": "code",
   "execution_count": 7,
   "metadata": {
    "slideshow": {
     "slide_type": "skip"
    }
   },
   "outputs": [
    {
     "name": "stderr",
     "output_type": "stream",
     "text": [
      "C:\\ProgramData\\Anaconda3\\lib\\site-packages\\arviz\\utils.py:409: NumbaWarning: \u001b[1m\n",
      "Compilation is falling back to object mode WITH looplifting enabled because Function \"_cov\" failed type inference due to: \u001b[1mUntyped global name '_dot':\u001b[0m \u001b[1m\u001b[1mcannot determine Numba type of <class 'arviz.utils.maybe_numba_fn'>\u001b[0m\n",
      "\u001b[1m\n",
      "File \"C:\\ProgramData\\Anaconda3\\lib\\site-packages\\arviz\\utils.py\", line 421:\u001b[0m\n",
      "\u001b[1mdef _cov(data):\n",
      "    <source elided>\n",
      "        x -= avg[:, None]\n",
      "\u001b[1m        prod = _dot(x, x.T.conj())\n",
      "\u001b[0m        \u001b[1m^\u001b[0m\u001b[0m\n",
      "\u001b[0m\u001b[0m\n",
      "  @conditional_jit(cache=True)\n",
      "C:\\ProgramData\\Anaconda3\\lib\\site-packages\\numba\\core\\object_mode_passes.py:177: NumbaWarning: \u001b[1mFunction \"_cov\" was compiled in object mode without forceobj=True.\n",
      "\u001b[1m\n",
      "File \"C:\\ProgramData\\Anaconda3\\lib\\site-packages\\arviz\\utils.py\", line 410:\u001b[0m\n",
      "\u001b[1m@conditional_jit(cache=True)\n",
      "\u001b[1mdef _cov(data):\n",
      "\u001b[0m\u001b[1m^\u001b[0m\u001b[0m\n",
      "\u001b[0m\n",
      "  warnings.warn(errors.NumbaWarning(warn_msg,\n",
      "C:\\ProgramData\\Anaconda3\\lib\\site-packages\\numba\\core\\object_mode_passes.py:187: NumbaDeprecationWarning: \u001b[1m\n",
      "Fall-back from the nopython compilation path to the object mode compilation path has been detected, this is deprecated behaviour.\n",
      "\n",
      "For more information visit https://numba.pydata.org/numba-doc/latest/reference/deprecation.html#deprecation-of-object-mode-fall-back-behaviour-when-using-jit\n",
      "\u001b[1m\n",
      "File \"C:\\ProgramData\\Anaconda3\\lib\\site-packages\\arviz\\utils.py\", line 410:\u001b[0m\n",
      "\u001b[1m@conditional_jit(cache=True)\n",
      "\u001b[1mdef _cov(data):\n",
      "\u001b[0m\u001b[1m^\u001b[0m\u001b[0m\n",
      "\u001b[0m\n",
      "  warnings.warn(errors.NumbaDeprecationWarning(msg,\n"
     ]
    },
    {
     "data": {
      "image/png": "[encoded data removed]",
      "text/plain": [
       "<Figure size 576x504 with 1 Axes>"
      ]
     },
     "metadata": {
      "needs_background": "light"
     },
     "output_type": "display_data"
    }
   ],
   "source": [
    "fig, ax = plt.subplots(figsize=(8, 7))\n",
    "az.plot_kde(values=alpha_samples, values2=beta_samples, \n",
    "            ax=ax, contour=True, \n",
    "            contour_kwargs={'colors': None, \"levels\":20,  'cmap': 'viridis'},\n",
    "            contourf_kwargs={\"levels\":20})\n",
    "ax.set_xlim([0.5,6]); ax.set_ylim([3,30]);\n",
    "plt.xlabel(r'$\\alpha$', fontsize = 18)\n",
    "plt.ylabel(r'$\\beta$', fontsize = 18)\n",
    "plt.title('Posterior marginal de alpha y beta', fontsize = 20);\n",
    "#fig.savefig('img/5_CB/posterior_rats_ab.svg')\n",
    "#plt.close()"
   ]
  },
  {
   "cell_type": "markdown",
   "metadata": {
    "slideshow": {
     "slide_type": "subslide"
    }
   },
   "source": [
    "Posterior de los hiperparametros\n",
    "<center><img src=\"img/5_CB/posterior_rats_ab.svg\" width = \"600\" height = '600'></center>"
   ]
  },
  {
   "cell_type": "code",
   "execution_count": 8,
   "metadata": {
    "slideshow": {
     "slide_type": "skip"
    }
   },
   "outputs": [
    {
     "data": {
      "image/png": "[encoded data removed]",
      "text/plain": [
       "<Figure size 360x360 with 1 Axes>"
      ]
     },
     "metadata": {
      "needs_background": "light"
     },
     "output_type": "display_data"
    }
   ],
   "source": [
    "median_theta = np.median(trace['theta'], axis=0)\n",
    "hdi_ = az.hdi(trace['theta'][None,:], hdi_prob=.95)\n",
    "\n",
    "plt.figure(figsize=(5, 5))\n",
    "plt.errorbar(rats.loc[:, 'y'] / rats.loc[:, 'n'], median_theta, fmt='o',\n",
    "             yerr=[hdi_[:, 0], hdi_[:, 1]], ecolor='gray', \n",
    "             markerfacecolor='k', mec='k')\n",
    "plt.plot(np.linspace(0, .4, 10), np.linspace(0, .4, 10), 'k--')\n",
    "plt.xlabel('Ratio observado, y(i) / N(i)', fontsize = 15)\n",
    "plt.ylabel(r'95% HDI de $\\theta_i$', fontsize = 15);\n",
    "plt.savefig('img/5_CB/posterior2_rats_ab.svg')\n",
    "#plt.close()"
   ]
  },
  {
   "cell_type": "markdown",
   "metadata": {
    "slideshow": {
     "slide_type": "subslide"
    }
   },
   "source": [
    "El modelo predice bien las proporciones (linea punteada modelo separado)\n",
    "<center><img src=\"img/5_CB/posterior2_rats_ab.svg\" width = \"501\" height = '500'></center>"
   ]
  },
  {
   "cell_type": "code",
   "execution_count": null,
   "metadata": {
    "slideshow": {
     "slide_type": "subslide"
    }
   },
   "outputs": [],
   "source": [
    "# Comparación del modelo separado (cada experimento aparte) \n",
    "# y el jerárquico.\n",
    "x = np.linspace(0, 1, 250)\n",
    "# binomial likelihood, beta (1,1) prior , \n",
    "# resulting posterior is beta(y+1,n-y+1)\n",
    "# Por claridad, solo cada 7a distribución\n",
    "theta_sep = st.beta.rvs(a = rats.iloc[0:-1:7,0] + 1, \n",
    "                        b = rats.iloc[0:-1:7,1] - rats.iloc[0:-1:7,0] + 1,\n",
    "                        size = [5000,rats.iloc[0:-1:7,0].shape[0]]) "
   ]
  },
  {
   "cell_type": "code",
   "execution_count": null,
   "metadata": {
    "slideshow": {
     "slide_type": "skip"
    }
   },
   "outputs": [],
   "source": [
    "fig, axes = plt.subplots(2, 1, sharex=True, figsize=(8, 8))\n",
    "# Modelo separado\n",
    "t = theta_sep\n",
    "az.plot_density([t[:,0],t[:,1],t[:,2],t[:,3],t[:,4],\n",
    "                t[:,5],t[:,6],t[:,7],t[:,8],t[:,9]], \n",
    "                hdi_prob=1, ax = axes[0], colors = 'blue')\n",
    "axes[0].set_yticks(())\n",
    "axes[0].set_title('Modelo separado', fontsize = 20)\n",
    "axes[0].set_ylim((0, axes[0].set_ylim()[1]))  # set y base to zero\n",
    "axes[0].set_xlim((0, 1))\n",
    "axes[0].get_legend().remove()\n",
    "# Modelo jerárquico. Los posteriors para theta_j son\n",
    "# más angostos que los del modelo separado. El modelo \n",
    "# jerárquico toma en cuenta info. de los otros theta_j.\n",
    "# Por claridad, solo cada 7a distribución\n",
    "t = trace['theta']\n",
    "az.plot_density([t[:,0],t[:,7],t[:,14],t[:,21],t[:,28],\n",
    "                t[:,35],t[:,42],t[:,49],t[:,56],t[:,63]], \n",
    "                hdi_prob=1, ax = axes[1], colors = 'green')\n",
    "axes[1].set_yticks(())\n",
    "axes[1].set_xlabel(r'$\\theta$', fontsize = 20)\n",
    "axes[1].set_title('Modelo jerárquico', fontsize = 20)\n",
    "axes[1].set_ylim((0, axes[1].set_ylim()[1]))\n",
    "axes[1].set_xlim((0, 1))\n",
    "axes[1].get_legend().remove()\n",
    "fig.tight_layout()\n",
    "fig.savefig('img/5_CB/posterior3_rats_ab.svg')\n",
    "#plt.close()"
   ]
  },
  {
   "cell_type": "markdown",
   "metadata": {
    "slideshow": {
     "slide_type": "subslide"
    }
   },
   "source": [
    "$\\theta_j$ son más angostos que los del modelo separado. \n",
    "Modelo jeráquico tiene menos incertidumbre agrupandolos via $\\alpha$ y $\\beta$.\n",
    "<br> Pero ¿cuál escoger? Veamos otro ejemplo primero.\n",
    "\n",
    "<center><img src=\"img/5_CB/posterior3_rats_ab.svg\" width = \"501\" height = '500'></center>"
   ]
  },
  {
   "cell_type": "markdown",
   "metadata": {
    "slideshow": {
     "slide_type": "slide"
    }
   },
   "source": [
    "## Segundo ejemplo: ocho colegios\n",
    "\n",
    "Problema: ¿programas de entrenamiento mejoran puntajes en la prueba de ingreso a la universidad?\n",
    "\n",
    "Detalles: 8 colegios, cada uno con su propio programa de entrenamiento.\n",
    "\n",
    "Data: aumento en puntaje (grupo control de cada colegio no hizo el entrenamiento)"
   ]
  },
  {
   "cell_type": "markdown",
   "metadata": {
    "slideshow": {
     "slide_type": "subslide"
    }
   },
   "source": [
    "Modelo jerárquico\n",
    "\n",
    "<center><img src=\"img/5_CB/model_8s.svg\" width = \"800\" height = '800'></center>"
   ]
  },
  {
   "cell_type": "code",
   "execution_count": null,
   "metadata": {
    "scrolled": true,
    "slideshow": {
     "slide_type": "subslide"
    }
   },
   "outputs": [],
   "source": [
    "# SAT-example data (SAT: Scholastic Aptitude Test)\n",
    "# y is the estimated treatment effect\n",
    "# s is the standard error of effect estimate\n",
    "y = np.array([28,  8, -3,  7, -1,  1, 18, 12])\n",
    "s = np.array([15, 10, 16, 11,  9, 11, 10, 18])\n",
    "schools = pd.DataFrame({\"Efecto\":y, 'SE':s})\n",
    "schools\n"
   ]
  },
  {
   "cell_type": "code",
   "execution_count": null,
   "metadata": {
    "slideshow": {
     "slide_type": "subslide"
    }
   },
   "outputs": [],
   "source": [
    "with pm.Model() as model:\n",
    "    #Priors Jerarquico Superior\n",
    "    mu = pm.Uniform('mu', 0, 30)\n",
    "    tau = pm.Uniform('tau', 0, 30)    \n",
    "    \n",
    "    #Prior Jerarquico Inferior\n",
    "    theta = pm.Normal('theta', mu=mu, sigma=tau, \n",
    "                      shape=schools.shape[0])\n",
    "    \n",
    "    #Likelihood Jerarquico más bajo en el gráfico\n",
    "    y = pm.Normal('y', mu = theta, sigma = schools.loc[:,'SE'], \n",
    "                  observed = schools.loc[:,'Efecto'])\n",
    "    \n",
    "    # Sampleo\n",
    "    trace = pm.sample(10000, tune = 1000, target_accept = 0.99)\n",
    "    posterior_predictive = pm.sample_posterior_predictive(trace)"
   ]
  },
  {
   "cell_type": "code",
   "execution_count": null,
   "metadata": {
    "slideshow": {
     "slide_type": "skip"
    }
   },
   "outputs": [],
   "source": [
    "# Combina bien\n",
    "mu_samples = trace[\"mu\"]\n",
    "tau_samples = trace[\"tau\"]\n",
    "data = az.from_pymc3(trace=trace, model=model)\n",
    "az.plot_trace(data, var_names=['mu', 'tau']);\n",
    "plt.savefig('img/5_CB/trace_8s.svg') \n",
    "#plt.close()"
   ]
  },
  {
   "cell_type": "markdown",
   "metadata": {
    "slideshow": {
     "slide_type": "subslide"
    }
   },
   "source": [
    "Combina bien\n",
    "\n",
    "<center><img src=\"img/5_CB/trace_8s.svg\" width = \"701\" height = '700'></center>"
   ]
  },
  {
   "cell_type": "code",
   "execution_count": null,
   "metadata": {
    "slideshow": {
     "slide_type": "skip"
    }
   },
   "outputs": [],
   "source": [
    "az.plot_density(data, var_names=['tau'], hdi_prob=1);\n",
    "plt.savefig('img/5_CB/density_tau_8s.svg')\n",
    "#plt.close()"
   ]
  },
  {
   "cell_type": "markdown",
   "metadata": {
    "slideshow": {
     "slide_type": "subslide"
    }
   },
   "source": [
    "El proceso latente de donde salen los efectos del promedio entrenamiento ($\\mu$) no es muy ruidoso\n",
    "\n",
    "<center><img src=\"img/5_CB/density_tau_8s.svg\" width = \"501\" height = '500'></center>"
   ]
  },
  {
   "cell_type": "code",
   "execution_count": null,
   "metadata": {
    "slideshow": {
     "slide_type": "skip"
    }
   },
   "outputs": [],
   "source": [
    "fig, ax = plt.subplots(1,2,figsize=(8,5))\n",
    "labels = ['A', 'B', 'C', 'D', 'E', 'F', 'G', 'H']\n",
    "for s in range(schools.shape[0]):\n",
    "    a = np.array([trace['mu'],\n",
    "                  trace['tau'],\n",
    "                  trace['theta'][:,s]]).T\n",
    "    b = a[a[:,1].argsort()] #sorts by the 2nd column\n",
    "    trace_sorted = pd.DataFrame(b, \n",
    "                                columns = ['mu','tau','theta'])\n",
    "    toplot_mean = trace_sorted.groupby(pd.cut(trace_sorted[\"tau\"], \n",
    "                                         bins=10)).mean()\n",
    "    ax[0].plot(toplot_mean['tau'],toplot_mean['theta'], label = labels[s])\n",
    "    toplot_std = trace_sorted.groupby(pd.cut(trace_sorted[\"tau\"], \n",
    "                                         bins=10)).std()\n",
    "    ax[1].plot(toplot_mean['tau'],toplot_std['theta'], label = labels[s])\n",
    "ax[0].set_xlabel(r'$\\tau$', fontsize=18)\n",
    "ax[0].set_ylabel(r'$E[\\theta$]', fontsize=18)\n",
    "ax[1].set_xlabel(r'$\\tau$', fontsize=18)\n",
    "ax[1].set_ylabel(r'$std[\\theta]$', fontsize=18)\n",
    "ax[0].legend();\n",
    "plt.tight_layout()\n",
    "fig.savefig('img/5_CB/tau_theta_8s.svg')\n",
    "#plt.close()"
   ]
  },
  {
   "cell_type": "markdown",
   "metadata": {
    "slideshow": {
     "slide_type": "subslide"
    }
   },
   "source": [
    "Un efecto tan fuerte como el de la escuela A (28 puntos de incremento) parece improbable, aún con hiperparametro $\\tau$ alto\n",
    "<center><img src=\"img/5_CB/tau_theta_8s.svg\" width = \"700\" height = '700'></center>"
   ]
  },
  {
   "cell_type": "code",
   "execution_count": null,
   "metadata": {
    "slideshow": {
     "slide_type": "subslide"
    }
   },
   "outputs": [],
   "source": [
    "az.summary(data)"
   ]
  },
  {
   "cell_type": "code",
   "execution_count": null,
   "metadata": {
    "slideshow": {
     "slide_type": "skip"
    }
   },
   "outputs": [],
   "source": [
    "maxx = np.amax(trace['theta'], axis = 1)\n",
    "az.plot_density([trace['theta'][:,0], maxx],\n",
    "                data_labels=['Escuela A' , 'Mejor efecto'],\n",
    "                hdi_prob=1);\n",
    "plt.title(\"\");\n",
    "plt.savefig(\"img/5_CB/AvsMax_8s.svg\")\n",
    "#plt.close()"
   ]
  },
  {
   "cell_type": "markdown",
   "metadata": {
    "slideshow": {
     "slide_type": "subslide"
    }
   },
   "source": [
    "El programa de la escuela A es bueno, pero parece que no hay evidencia que sea siempre el mejor\n",
    "<center><img src=\"img/5_CB/AvsMax_8s.svg\" width = \"551\" height = '550'></center>"
   ]
  },
  {
   "cell_type": "code",
   "execution_count": null,
   "metadata": {
    "scrolled": true,
    "slideshow": {
     "slide_type": "subslide"
    }
   },
   "outputs": [],
   "source": [
    "# Probabilidad que el programa de la escuela A \n",
    "# sea mejor que el del peor en los datos\n",
    "conteo = np.sum(trace['theta'][:,0]>trace['theta'][:,2])\n",
    "prob = conteo/trace['theta'].shape[0]\n",
    "print(\"Probabilidad que el programa de la escuela A sea mejor que de la escuela C: \", np.round(prob,2))\n"
   ]
  },
  {
   "cell_type": "markdown",
   "metadata": {
    "slideshow": {
     "slide_type": "slide"
    }
   },
   "source": [
    "### Ejercicios (Fuente: Gelman, et al, 3era ed.)\n",
    "\n",
    "1. Utilicé las muestras del ejemplo de ocho colegios:\n",
    "    * Para cada escuela, calcule la probabilidad que su programa es el mejor de todos.\n",
    "    * Para cada par de escuelas j,k calcule la probabilidad que el programa j es mejor que el programa k.    \n",
    "\n",
    "tip: use np.random.choice"
   ]
  },
  {
   "cell_type": "code",
   "execution_count": null,
   "metadata": {},
   "outputs": [],
   "source": [
    "#Escriba su código acá\n"
   ]
  },
  {
   "cell_type": "markdown",
   "metadata": {
    "slideshow": {
     "slide_type": "subslide"
    }
   },
   "source": [
    "2. Repita 1 con $\\tau$ fijo y muy grande (esto es equivalente a una estimación separada por colegio). Discuta las diferencias con los resultados del punto 1.\n"
   ]
  },
  {
   "cell_type": "code",
   "execution_count": null,
   "metadata": {},
   "outputs": [],
   "source": [
    "#Escriba su código acá\n"
   ]
  },
  {
   "cell_type": "markdown",
   "metadata": {
    "slideshow": {
     "slide_type": "subslide"
    }
   },
   "source": [
    "3. Utilice la data de las ratas pero ahora trabaje/transforme a la escala log-odds (nota: logit(0) es menos infinito; cambie los ceros por valores cercanos e.g. 1e-200; o alternativamente siga con la data de conteos pero use inverse logit de theta cuando este en el modelo de pymc). \\\n",
    "Tome muestras de $\\theta_j \\sim Normal(\\mu, \\tau)$, donde $\\tau$ es la desviación estandar ($\\theta_j$ está en escala logit). Interprete los resultados en esa escala. Tip: puede usar likelihood normal o binomial. Si usa binomial, use inverse logit de theta_j para p. \n",
    "    "
   ]
  },
  {
   "cell_type": "code",
   "execution_count": null,
   "metadata": {},
   "outputs": [],
   "source": [
    "#Escriba su código acá\n"
   ]
  },
  {
   "cell_type": "markdown",
   "metadata": {
    "slideshow": {
     "slide_type": "subslide"
    }
   },
   "source": [
    "4. En los alrededores del campus de una universidad se hizo un conteo de tráfico de bicicletas y otros vehiculos. Sesenta bloques se seleccionaron y se observaron por una hora. Los bloques se escogieron acorde a su nivel de actividad (bien ocupado, ocupación normal, y residencial) y si tenían bicirutas o no. La data la puede encontrar en transit.csv. Centrese en las 10 primeras filas. Haga lo siguiente:\n",
    "\n",
    "    * Un modelo jerárquico como el del tumor de las ratas. Ahora n es el total de vehiculos (bicis+otros) y la variable de interés es la proporción de bicis. Es decir, infiera $\\theta_j$, la proporción latente de bicicletas de cada bloque, con la data disponible (solo las 10 primeras filas).\n",
    "    * Compare la posterior del parámetro $\\theta_j$  con las proporciones que hay en la data en cada bloque (# de bicicletas / # vehiculos incluyendo bicicletas). Comente cómo difieren (o no) la proporciones de la data y la inferencia de la posterior del parámetro $\\theta_j$\n",
    "    * Calcule el intervalo posterior al 95% de la proporción de tráfico de bicicletas en todos los bloques.  Agrupe todos los $\\theta_j$, queremos un intervalo general.\n",
    "    * Corra el modelo ahora con los siguientes priors y likelihood:\n",
    "        * Likelihood para el conteo de bicicletas es una $Poisson(\\theta_j)$. Ahora $\\theta_j$ es el número promedio de bicis por hora.\n",
    "        * Prior $Gamma(\\alpha,\\beta)$ para $\\theta_j$. Asigne uniformes para los hiperparámetros $\\alpha$ y $\\beta$\n",
    "        * Haga un gráfica con los hiperparámetros (eje x: $\\alpha$, eje y: $\\beta$)\n",
    "    \n",
    "    \n"
   ]
  },
  {
   "cell_type": "code",
   "execution_count": null,
   "metadata": {},
   "outputs": [],
   "source": [
    "#Escriba su código acá\n"
   ]
  },
  {
   "cell_type": "markdown",
   "metadata": {
    "slideshow": {
     "slide_type": "slide"
    }
   },
   "source": [
    "# Comparar modelos "
   ]
  },
  {
   "cell_type": "markdown",
   "metadata": {
    "slideshow": {
     "slide_type": "subslide"
    }
   },
   "source": [
    "En la anterior sección comparamos datos vs. posterior (ver ejemplo ratas). \n",
    "\n",
    "Vamos a ver más técnicas/aproximaciones al problema de escoger el mejor modelo."
   ]
  },
  {
   "cell_type": "markdown",
   "metadata": {
    "slideshow": {
     "slide_type": "subslide"
    }
   },
   "source": [
    "Una aproximación es pensar el problema como uno jerárquico. <br> \n",
    "Dos modelos (m) con diferentes priors y likelihoods. <br> \n",
    "La distribución categórica al tope de la jerárquia tiene hiperparámetros. La inferencia los determina. \n",
    "<center><img src=\"img/5_CB/Kruschke1.svg\" width = \"451\" height = '450'></center>"
   ]
  },
  {
   "cell_type": "markdown",
   "metadata": {
    "slideshow": {
     "slide_type": "subslide"
    }
   },
   "source": [
    "Una empresa que fabrica monedas tiene dos sitios de producción.<br>\n",
    "Sitio 1: monedas sesgadas a cara e.g. beta(9,4) <br>\n",
    "Sitio 2: monedas sesgadas a sello e.g. beta(4,9)\n",
    "<center><img src=\"img/5_CB/coin.png\" width = \"351\" height = '350'></center>"
   ]
  },
  {
   "cell_type": "markdown",
   "metadata": {
    "slideshow": {
     "slide_type": "subslide"
    }
   },
   "source": [
    "El problema en representación jerárquica. <br>\n",
    "Buscamos las prob. posteriores de m=1, m=2 dado los lanzamientos de la moneda $y_i$\n",
    "\n",
    "<center><img src=\"img/5_CB/Kruschke2.svg\" width = \"400\" height = '400'></center>"
   ]
  },
  {
   "cell_type": "code",
   "execution_count": null,
   "metadata": {
    "slideshow": {
     "slide_type": "subslide"
    }
   },
   "outputs": [],
   "source": [
    "#Data\n",
    "N=9\n",
    "z=6\n",
    "y_o = [0]*(N-z) +  [1]*z\n",
    "y_o"
   ]
  },
  {
   "cell_type": "code",
   "execution_count": null,
   "metadata": {
    "slideshow": {
     "slide_type": "subslide"
    }
   },
   "outputs": [],
   "source": [
    "# Models to compare\n",
    "m1_info = np.array([3,9])\n",
    "m2_info = np.array([9,3])\n",
    "# Inference\n",
    "with pm.Model() as model:\n",
    "    #Prior for m (model)\n",
    "    mi = pm.DiscreteUniform('model_index', lower=0, upper=1)\n",
    "    \n",
    "    #Samples from the models to test\n",
    "    thetaM1 = pm.Beta('thetaM1', m1_info[0], m1_info[1] )\n",
    "    thetaM2 = pm.Beta('thetaM2', m2_info[0], m2_info[1] )\n",
    "    \n",
    "    #Likelihood\n",
    "    theta = pm.Deterministic('theta', (1-mi)*thetaM1 + (mi)*thetaM2) \n",
    "    y = pm.Bernoulli('y', theta, observed = y_o)\n",
    "    \n",
    "    #Muestras\n",
    "    start = pm.find_MAP()\n",
    "    step = pm.Metropolis()\n",
    "    trace = pm.sample(10000, step = step, start = start)\n",
    "    burned_trace = trace[5000:] #burn in ( para este ejemplo, grande por conveniencia: graficas con poco MB)."
   ]
  },
  {
   "cell_type": "code",
   "execution_count": null,
   "metadata": {
    "slideshow": {
     "slide_type": "skip"
    }
   },
   "outputs": [],
   "source": [
    "data = az.from_pymc3(trace=burned_trace, model=model)\n",
    "#Convergencia\n",
    "az.plot_trace(data, figsize = [10,7]);\n",
    "plt.savefig(\"img/5_CB/trace_model_bern.svg\"); plt.close()\n",
    "#az.rhat(data) #Si es <1.1 está bien"
   ]
  },
  {
   "cell_type": "markdown",
   "metadata": {},
   "source": [
    "<center><img src=\"img/5_CB/trace_model_bern.svg\" width = \"600\" height = '600'></center>"
   ]
  },
  {
   "cell_type": "code",
   "execution_count": null,
   "metadata": {
    "slideshow": {
     "slide_type": "skip"
    }
   },
   "outputs": [],
   "source": [
    "fig, ax = plt.subplots(1,2, figsize=(8,4))\n",
    "az.plot_density(burned_trace['model_index'], \n",
    "                ax = ax[0], colors = 'k')\n",
    "ax[0].set_title('Indice Modelos', fontsize = 20)\n",
    "az.plot_density(burned_trace['theta'], \n",
    "                ax = ax[1], colors = 'k', hdi_prob=1)\n",
    "ax[1].set_title(r'Prop. inferida: $\\theta$', fontsize = 20);\n",
    "plt.savefig(\"img/5_CB/density_model_bern.svg\"); plt.close()\n"
   ]
  },
  {
   "cell_type": "code",
   "execution_count": null,
   "metadata": {
    "slideshow": {
     "slide_type": "subslide"
    }
   },
   "outputs": [],
   "source": [
    "print(\"p(m=2|D): \", np.round(burned_trace['model_index'].mean(),4))\n",
    "print(\"p(theta|D): \", np.round(burned_trace['theta'].mean(),4))\n",
    "print(\"Prop. data: \", np.round(z/N,4)) #Data"
   ]
  },
  {
   "cell_type": "markdown",
   "metadata": {},
   "source": [
    "El posterior del indice sugiere que el modelo 2 es mejor para la data.\n",
    "<center><img src=\"img/5_CB/density_model_bern.svg\" width = \"600\" height = '600'></center>"
   ]
  },
  {
   "cell_type": "markdown",
   "metadata": {
    "slideshow": {
     "slide_type": "subslide"
    }
   },
   "source": [
    "Asumimos priors diferentes ( $\\theta_{M1}$, $\\theta_{M2}$ ), y el mismo likelihood. \n",
    "\n",
    "Es perfectamente valido que los modelos también tengan diferentes likelihoods. \n",
    "\n",
    "Vemos como incluirlo en nuestro modelo."
   ]
  },
  {
   "cell_type": "code",
   "execution_count": null,
   "metadata": {},
   "outputs": [],
   "source": [
    "# No vamos a correr el modelo, pues no tiene sentido.\n",
    "# Es solo para ver cómo se puede considerar diferentes \n",
    "# likelihoods\n",
    "with model:\n",
    "    #pm.math.eq(A, B) checks if A==B.\n",
    "    theta_cond = pm.math.switch(pm.math.eq(mi, 0), \n",
    "                                theta, #1er likelihood \n",
    "                                2*theta #2do likelihood\n",
    "                               )\n",
    "    y_cond = pm.Bernoulli('y_cond', theta_cond, observed = y_o)"
   ]
  },
  {
   "cell_type": "markdown",
   "metadata": {
    "slideshow": {
     "slide_type": "subslide"
    }
   },
   "source": [
    "## Bayes factor\n",
    "\n",
    "Una métrica propuesta para cuantificar la ventaja de un modelo sobre otro es con `Bayes factor`. La definición es\n",
    "\n",
    "$$BF = \\frac{p(Data|Modelo_1)}{p(Data|Modelo_2)}$$\n",
    "\n",
    "Otra formulación equivalente es (no la vamos a demostrar):\n",
    "\n",
    "\\begin{align}\n",
    "  BF &= \\frac{Post_{odds}}{Prior_{odds}}\\\\\n",
    "     &= \\frac{\\frac{p(Modelo_1|Data)}{p(Modelo_2|Data)}}{\\frac{p(Modelo_1)}{p(Modelo_2)}}  \n",
    "\\end{align}\n",
    "\n",
    "\n",
    "\n",
    "\n"
   ]
  },
  {
   "cell_type": "code",
   "execution_count": null,
   "metadata": {
    "slideshow": {
     "slide_type": "subslide"
    }
   },
   "outputs": [],
   "source": [
    "# Bayes factor para el ejemplo de la moneda\n",
    "p_M2 = burned_trace['model_index'].mean() # i.e. la tasa de muestras de M2 \n",
    "Post_odds = (p_M2)/(1-p_M2)\n",
    "Prior_odds = 0.5/0.5\n",
    "BF = Post_odds / Prior_odds # Bayes Factor a favor de M2\n",
    "BF"
   ]
  },
  {
   "cell_type": "markdown",
   "metadata": {},
   "source": [
    "Esta vez fue fácil de calcular pero el Bayes Factor requiere computación intensiva pues el marginal likelihood son integrales multiples sobre muchos parámetros. \n",
    "\n",
    "Veamos otra forma de cuantificar ventajas de modelos."
   ]
  },
  {
   "cell_type": "markdown",
   "metadata": {
    "slideshow": {
     "slide_type": "subslide"
    }
   },
   "source": [
    "## Information Criterion (IC)\n",
    "Basado en  [PyMC website](https://docs.pymc.io/notebooks/model_comparison.html)\n"
   ]
  },
  {
   "cell_type": "markdown",
   "metadata": {
    "slideshow": {
     "slide_type": "subslide"
    }
   },
   "source": [
    "Los information criterion (IC) son medidas para comparar modelos. Hay varios, por ejemplo, BIC, AIC, WAIC. Todos se basan en una función del likelihood llamada deviance ([Gelman, et al](http://www.stat.columbia.edu/~gelman/research/published/waic_understand3.pdf)).  \n",
    "\n",
    "IMPORTANTE: `Modelos con IC bajos explican mejor la data y`. "
   ]
  },
  {
   "cell_type": "markdown",
   "metadata": {
    "slideshow": {
     "slide_type": "subslide"
    }
   },
   "source": [
    "Veamos WAIC. Esta es la formula:\n",
    "\n",
    "$$WAIC = -2lppd +2p_{waic}$$\n",
    "\n",
    "lppd es log pointwise predictive density (i.e. likelihood). En la práctica usamos las S muestras del sampleador $\\theta^s$. n es número de datos:\n",
    "$$computed \\; lppd = \\sum_{i=1}^n log \\left(\\frac{1}{S}\\sum_{s=1}^S p(y_i|\\theta^s)\\right)$$\n",
    "\n",
    "$p_{waic}$ es parámetros efectivos, un termino para penalizar modelos complejos:\n",
    "\n",
    "$$p_{waic} = \\sum_{i=1}^n V_{s}^S (log(p(y_i|\\theta^s))$$ V es varianza"
   ]
  },
  {
   "cell_type": "markdown",
   "metadata": {
    "slideshow": {
     "slide_type": "subslide"
    }
   },
   "source": [
    "Volvamos a la data de las 8 escuelas.  \n",
    "\n",
    "Objetivo: inferir los efectos de entrenamiento en puntajes de ingreso a la universidad.\n",
    "<br>Modelos: \n",
    "* Pooled: UN solo efecto compartido para las 8\n",
    "* Hierarchical: Efectos diferentes para cada escuela\n",
    "\n",
    "Data: 8 efectos/ganancias en puntajes y desviación estándar ($\\sigma$)"
   ]
  },
  {
   "cell_type": "code",
   "execution_count": null,
   "metadata": {
    "slideshow": {
     "slide_type": "subslide"
    }
   },
   "outputs": [],
   "source": [
    "J = 8\n",
    "y = np.array([28,  8, -3,  7, -1,  1, 18, 12])\n",
    "sigma = np.array([15, 10, 16, 11,  9, 11, 10, 18])"
   ]
  },
  {
   "cell_type": "code",
   "execution_count": null,
   "metadata": {},
   "outputs": [],
   "source": [
    "with pm.Model() as pooled:\n",
    "    mu = pm.Normal('mu', 0, sd=1e6)\n",
    "    obs = pm.Normal('obs', mu, sd=sigma, observed=y)\n",
    "    trace_p = pm.sample(2000)\n",
    "\n",
    "with pm.Model() as hierarchical:  \n",
    "    eta = pm.Normal('eta', 0, 1, shape=J)\n",
    "    mu = pm.Normal('mu', 0, sd=1e6)\n",
    "    tau = pm.HalfCauchy('tau', 5)\n",
    "    theta = pm.Deterministic('theta', mu + tau*eta)\n",
    "    obs = pm.Normal('obs', theta, sd=sigma, observed=y)\n",
    "    trace_h = pm.sample(2000, target_accept=0.99)"
   ]
  },
  {
   "cell_type": "code",
   "execution_count": null,
   "metadata": {
    "slideshow": {
     "slide_type": "subslide"
    }
   },
   "outputs": [],
   "source": [
    "with pooled:\n",
    "    pm.traceplot(trace_p, var_names=['mu']);    "
   ]
  },
  {
   "cell_type": "code",
   "execution_count": null,
   "metadata": {
    "slideshow": {
     "slide_type": "subslide"
    }
   },
   "outputs": [],
   "source": [
    "with hierarchical:\n",
    "    pm.traceplot(trace_h, var_names=['mu']);\n",
    "    pm.forestplot(trace_h, var_names=['theta']); "
   ]
  },
  {
   "cell_type": "markdown",
   "metadata": {
    "slideshow": {
     "slide_type": "subslide"
    }
   },
   "source": [
    "Podemos calcular WAIC con PyMC"
   ]
  },
  {
   "cell_type": "code",
   "execution_count": null,
   "metadata": {
    "slideshow": {
     "slide_type": "skip"
    }
   },
   "outputs": [],
   "source": [
    "with pooled:\n",
    "    pooled_waic = pm.waic(trace_p)\n",
    "\n",
    "with hierarchical:\n",
    "    hierarchical_waic = pm.waic(trace_h) #this is elpd_waic i.e. waic=-2*elpd_waic\n",
    "    \n",
    "print(pooled_waic.waic) \n",
    "print(hierarchical_waic.waic)"
   ]
  },
  {
   "cell_type": "markdown",
   "metadata": {
    "slideshow": {
     "slide_type": "subslide"
    }
   },
   "source": [
    "Para comparar WAIC de diferentes modelos. También loo."
   ]
  },
  {
   "cell_type": "code",
   "execution_count": null,
   "metadata": {},
   "outputs": [],
   "source": [
    "with pooled:\n",
    "    df_comp_WAIC = pm.compare({'hierarchical': trace_h, \n",
    "                               'pooled': trace_p}, ic = 'waic')\n",
    "    df_comp_loo = pm.compare({'hierarchical': trace_h, \n",
    "                              'pooled': trace_p}, ic = 'loo')"
   ]
  },
  {
   "cell_type": "code",
   "execution_count": null,
   "metadata": {
    "slideshow": {
     "slide_type": "subslide"
    }
   },
   "outputs": [],
   "source": [
    "display(df_comp_WAIC) # waic\n",
    "display(df_comp_loo) # leave-one-out cross validation\n",
    "#rank: order of models (); waic/loo: self-explained but I think it is the elpd_waic\n",
    "#p_waic: eff. number of parameters; d_waic/d_loo: difference in ...,\n",
    "#se: of waic/loo; dse: of d_waic/d_loo; warning: should be false"
   ]
  },
  {
   "cell_type": "code",
   "execution_count": null,
   "metadata": {
    "slideshow": {
     "slide_type": "subslide"
    }
   },
   "outputs": [],
   "source": [
    "with pooled:\n",
    "    pm.compareplot(df_comp_WAIC);\n",
    "    pm.compareplot(df_comp_loo);"
   ]
  },
  {
   "cell_type": "markdown",
   "metadata": {
    "slideshow": {
     "slide_type": "subslide"
    }
   },
   "source": [
    "\n",
    "El modelo jerárquico no dominó al pooled. Ambos hacen un buen trabajo.\n"
   ]
  },
  {
   "cell_type": "markdown",
   "metadata": {
    "slideshow": {
     "slide_type": "slide"
    }
   },
   "source": [
    "# Regresiones\n",
    "Basado en Gelman et al y en [Prasad Ostwal](https://ostwalprasad.github.io/machine-learning/Bayesian-Linear-Regression-using-PyMC3.html)"
   ]
  },
  {
   "cell_type": "markdown",
   "metadata": {
    "slideshow": {
     "slide_type": "subslide"
    }
   },
   "source": [
    "En una regresión tradicional inferimos parametros de una normal que cambia de promedio en función del valor de variables independientes X:\n",
    "\n",
    "<center><img src=\"img/5_CB/Kruschke3.svg\" width = \"401\" height = '400'></center>\n"
   ]
  },
  {
   "cell_type": "markdown",
   "metadata": {
    "slideshow": {
     "slide_type": "subslide"
    }
   },
   "source": [
    "$$ y|\\beta, \\sigma, X \\sim Normal(X \\beta,\\sigma I)$$\n",
    "$I$ es la identidad; asumimos homocedasticidad.\n",
    "\n",
    "La aproximación bayesiana permite inferir $\\beta$ y $\\sigma$ con `incertidumbre`"
   ]
  },
  {
   "cell_type": "code",
   "execution_count": null,
   "metadata": {
    "slideshow": {
     "slide_type": "subslide"
    }
   },
   "outputs": [],
   "source": [
    "n = 100\n",
    "x = np.random.uniform(0,10,n)\n",
    "y = 2 * x - 5 + np.random.normal(0,1,n)\n",
    "plt.scatter(x, y);"
   ]
  },
  {
   "cell_type": "code",
   "execution_count": null,
   "metadata": {
    "slideshow": {
     "slide_type": "subslide"
    }
   },
   "outputs": [],
   "source": [
    "with pm.Model() as basic_model:\n",
    "\n",
    "    #Priors\n",
    "    alpha = pm.Normal('alpha', mu=0, sd=10)\n",
    "    beta = pm.Normal('beta', mu=0, sd=10)\n",
    "    sigma = pm.HalfNormal('sigma', sd=3)\n",
    "\n",
    "    # Deterministics\n",
    "    #mu = pm.Deterministic(\"mu\", alpha + beta*x) #to save in trace the deterministic value\n",
    "    mu = alpha + beta*x\n",
    "    \n",
    "    # Likelihood \n",
    "    Ylikelihood = pm.Normal('Ylikelihood', mu=mu, sd=sigma, observed=y)\n",
    "    \n",
    "    # Samples\n",
    "    trace = pm.sample(draws=3000)  "
   ]
  },
  {
   "cell_type": "code",
   "execution_count": null,
   "metadata": {
    "slideshow": {
     "slide_type": "skip"
    }
   },
   "outputs": [],
   "source": [
    "data = az.from_pymc3(trace=trace, model=basic_model)\n",
    "#Convergencia\n",
    "az.plot_trace(data, figsize = [10,7]);\n",
    "plt.savefig(\"img/5_CB/trace_regression.svg\"); plt.close()\n",
    "#az.rhat(data) #Si es <1.1 está bien"
   ]
  },
  {
   "cell_type": "markdown",
   "metadata": {
    "slideshow": {
     "slide_type": "subslide"
    }
   },
   "source": [
    "<center><img src=\"img/5_CB/trace_regression.svg\" width = \"550\" height = '550'></center>"
   ]
  },
  {
   "cell_type": "code",
   "execution_count": null,
   "metadata": {
    "slideshow": {
     "slide_type": "subslide"
    }
   },
   "outputs": [],
   "source": [
    "with basic_model:\n",
    "    print(pm.summary(trace).round(2))\n",
    "    #pm.plots.forestplot(trace)"
   ]
  },
  {
   "cell_type": "code",
   "execution_count": null,
   "metadata": {
    "slideshow": {
     "slide_type": "skip"
    }
   },
   "outputs": [],
   "source": [
    "fig, ax = plt.subplots(1,3, figsize=(8,4))\n",
    "az.plot_density(trace['alpha'], \n",
    "                ax = ax[0], colors = 'k',hdi_prob=1)\n",
    "ax[0].set_title(r'Intercept: $\\alpha$', fontsize = 20)\n",
    "az.plot_density(trace['beta'], \n",
    "                ax = ax[1], colors = 'k', hdi_prob=1)\n",
    "ax[1].set_title(r'Slope: $\\beta$', fontsize = 20)\n",
    "az.plot_density(trace['sigma'], \n",
    "                ax = ax[2], colors = 'k', hdi_prob=1)\n",
    "ax[2].set_title(r'Noise: $\\sigma$', fontsize = 20);\n",
    "plt.savefig(\"img/5_CB/density_regression.svg\"); plt.close()"
   ]
  },
  {
   "cell_type": "markdown",
   "metadata": {
    "slideshow": {
     "slide_type": "subslide"
    }
   },
   "source": [
    "<center><img src=\"img/5_CB/density_regression.svg\" width = \"550\" height = '550'></center>"
   ]
  },
  {
   "cell_type": "markdown",
   "metadata": {
    "slideshow": {
     "slide_type": "subslide"
    }
   },
   "source": [
    "Podemos revisar el modelo de varias formas. Empecemos con posterior predictive checks (i.e. simular nueva data). Usemos el promedio de $y$ en la data para comparar."
   ]
  },
  {
   "cell_type": "code",
   "execution_count": null,
   "metadata": {},
   "outputs": [],
   "source": [
    "with basic_model:\n",
    "    ypred = pm.sampling.sample_posterior_predictive(trace=trace)\n",
    "    y_sample_posterior_predictive = np.asarray(ypred['Ylikelihood'])"
   ]
  },
  {
   "cell_type": "code",
   "execution_count": null,
   "metadata": {
    "slideshow": {
     "slide_type": "subslide"
    }
   },
   "outputs": [],
   "source": [
    "_, ax = plt.subplots()\n",
    "ax.hist([n.mean() for n in y_sample_posterior_predictive], bins=19, alpha=0.5)\n",
    "ax.axvline(y.mean()) #actual data\n",
    "ax.set(title='Posterior predictive of the mean of y', xlabel='mean(y)', ylabel='Frequency');"
   ]
  },
  {
   "cell_type": "markdown",
   "metadata": {
    "slideshow": {
     "slide_type": "subslide"
    }
   },
   "source": [
    "El posterior predictive check nos dice que el modelo reproduce una estadística importante (el promedio de y).\n",
    "\n",
    "Ahora veamos si un modelo nulo, con solo intercepto, nos sirve. Usaremos WAIC."
   ]
  },
  {
   "cell_type": "code",
   "execution_count": null,
   "metadata": {
    "slideshow": {
     "slide_type": "subslide"
    }
   },
   "outputs": [],
   "source": [
    "with pm.Model() as null_model:\n",
    "    #Priors\n",
    "    alpha = pm.Normal('alpha', mu=0, sd=10)\n",
    "    sigma = pm.HalfNormal('sigma', sd=4)\n",
    "\n",
    "    # Deterministics\n",
    "    #mu = pm.Deterministic(\"mu\", alpha + beta*x) #to save in trace the deterministic value\n",
    "    mu = alpha \n",
    "    \n",
    "    # Likelihood \n",
    "    Ylikelihood = pm.Normal('Ylikelihood', mu=mu, sd=sigma, observed=y)\n",
    "    \n",
    "    # Samples\n",
    "    trace_null = pm.sample(draws=3000) \n"
   ]
  },
  {
   "cell_type": "code",
   "execution_count": null,
   "metadata": {
    "slideshow": {
     "slide_type": "subslide"
    }
   },
   "outputs": [],
   "source": [
    "with null_model:\n",
    "    print(pm.summary(trace_null).round(2))"
   ]
  },
  {
   "cell_type": "code",
   "execution_count": null,
   "metadata": {
    "slideshow": {
     "slide_type": "subslide"
    }
   },
   "outputs": [],
   "source": [
    "az.compare({'Base': trace, 'Null': trace_null}, ic = 'waic')\n",
    "    "
   ]
  },
  {
   "cell_type": "markdown",
   "metadata": {
    "slideshow": {
     "slide_type": "slide"
    }
   },
   "source": [
    "# Conclusión\n",
    "\n",
    "Hay modelos que explican mejor la data.\n",
    "\n",
    "Podemos compararlos cualitativa (e.g. posterior predictive checks) o cuantitativamente (e.g. waic)\n",
    "\n",
    "No hay modelo perfecto"
   ]
  },
  {
   "cell_type": "code",
   "execution_count": null,
   "metadata": {
    "slideshow": {
     "slide_type": "skip"
    }
   },
   "outputs": [],
   "source": [
    "!jupyter nbconvert --to slides --SlidesExporter.reveal_theme='solarized' --SlidesExporter.reveal_transition='none' --SlidesExporter.reveal_scroll=True 5_Model_Comparison.ipynb #Saves slide"
   ]
  },
  {
   "cell_type": "markdown",
   "metadata": {
    "slideshow": {
     "slide_type": "skip"
    }
   },
   "source": [
    "\n",
    "Para salvar las diapositivas a PDF (en Chrome), correr nbconvert para que abra las diapositivas en un servidor local (la transition y el theme son opcionales):\n",
    "\n",
    "!jupyter nbconvert --to slides --SlidesExporter.reveal_theme='solarized' --SlidesExporter.reveal_transition='convex' nombre_de_mi_notebook.ipynb --post serve\n",
    "\n",
    "Luego, a la dirección añadirle ?print-pdf después del .html:\n",
    "\n",
    "http://127.0.0.1:8000/nombre_de_mi_notebook.slides.html?print-pdf\n",
    "\n",
    "Y luego, imprimir y darle salvar como pdf"
   ]
  },
  {
   "cell_type": "code",
   "execution_count": null,
   "metadata": {
    "slideshow": {
     "slide_type": "skip"
    }
   },
   "outputs": [],
   "source": [
    "#Para salvar a pdf\n",
    "!jupyter nbconvert --to slides --SlidesExporter.reveal_theme='solarized' --SlidesExporter.reveal_transition='none' 5_Model_Comparison.ipynb --post serve"
   ]
  },
  {
   "cell_type": "markdown",
   "metadata": {
    "slideshow": {
     "slide_type": "skip"
    }
   },
   "source": [
    "# Anexos"
   ]
  },
  {
   "cell_type": "code",
   "execution_count": null,
   "metadata": {
    "slideshow": {
     "slide_type": "skip"
    }
   },
   "outputs": [],
   "source": [
    "#Rats\n",
    "dot_text = 'digraph G {rankdir=TB; compound=true; newrank=true; labelloc=\"t\";\\\n",
    "           label=\"Rat''s tumor\";\\\n",
    "           /* general properties*/\\\n",
    "           node [margin=0, fixedsize=true, shape=plaintext,\\\n",
    "                 height=0.2, width=0.2, lblstyle=\"font=\\\\small\"];\\\n",
    "           hyperpar -> theta_1; hyperpar -> theta_2; hyperpar -> theta_3;\\\n",
    "           hyperpar -> theta_4; hyperpar -> theta_5; hyperpar -> theta_6;\\\n",
    "           hyperpar -> theta_7; hyperpar -> theta_8; hyperpar -> theta_9;\\\n",
    "           theta_1 -> y_1; theta_2 -> y_2; theta_3 -> y_3; theta_4 -> y_4;\\\n",
    "           theta_5 -> y_5; theta_6 -> y_6; theta_7 -> y_7; theta_8 -> y_8;\\\n",
    "           theta_9 -> y_9;\\\n",
    "           /* nodes */\\\n",
    "           hyperpar [label = \"$alpha,beta$\"];\\\n",
    "           theta_1 [label = \"$theta_1$\"];\\\n",
    "           theta_2 [label = \"$theta_2$\"];\\\n",
    "           theta_3 [label = \"$theta_3$\"];\\\n",
    "           theta_4 [label = \"$...$\"];\\\n",
    "           theta_5 [label = \"$...$\"];\\\n",
    "           theta_6 [label = \"$...$\"];\\\n",
    "           theta_7 [label = \"$...$\"];\\\n",
    "           theta_8 [label = \"$theta_{70}$\"];\\\n",
    "           theta_9 [label = \"$theta_{71}$\"];\\\n",
    "           y_1 [label = \"$y_1$\"];\\\n",
    "           y_2 [label = \"$y_2$\"];\\\n",
    "           y_3 [label = \"$y_3$\"];\\\n",
    "           y_4 [label = \"$...$\"];\\\n",
    "           y_5 [label = \"$...$\"];\\\n",
    "           y_6 [label = \"$...$\"];\\\n",
    "           y_7 [label = \"$...$\"];\\\n",
    "           y_8 [label = \"$y_{70}$\"];\\\n",
    "           y_9 [label = \"$y_{71}$\"];\\\n",
    "           }' #warning: use single quote at start and end; double quotes for labels\n",
    "s = Source(dot_text, filename=\"img/5_CB/model_rats.gv\", format=\"svg\") #THIS IS NOT THE FINAL ONE\n",
    "s.view()\n",
    "#\\fontsize{25pt}{1em} \n",
    "\n",
    "#alpha_beta_dist [texlbl = \"$p(\\\\alpha,\\\\beta) \\propto  (\\\\alpha + \\\\beta)^{-5/2}$\", shape = plaintext];\\\n",
    "#theta_dist [texlbl = \"$\\\\theta_j \\sim  Beta(\\\\alpha, \\\\beta)$\", shape = plaintext];\\\n",
    "#y_dist [texlbl = \"$y_j \\sim  Binomial(n_j, \\\\theta_j)$\", shape = plaintext];\\\n"
   ]
  },
  {
   "cell_type": "code",
   "execution_count": null,
   "metadata": {
    "slideshow": {
     "slide_type": "skip"
    }
   },
   "outputs": [],
   "source": [
    "# 8 schools\n",
    "dot_text = 'digraph G {rankdir=TB; compound=true; newrank=true; labelloc=\"t\";\\\n",
    "           label=\"8 schools\";\\\n",
    "           /* general properties*/\\\n",
    "           node [margin=0, fixedsize=true, shape=plaintext,\\\n",
    "                 height=0.2, width=0.2, lblstyle=\"font=\\\\small\"];\\\n",
    "           hyperpar -> theta_1; hyperpar -> theta_2; hyperpar -> theta_3;\\\n",
    "           hyperpar -> theta_4; hyperpar -> theta_5; hyperpar -> theta_6;\\\n",
    "           hyperpar -> theta_7; hyperpar -> theta_8;\\\n",
    "           theta_1 -> y_1; theta_2 -> y_2; theta_3 -> y_3; theta_4 -> y_4;\\\n",
    "           theta_5 -> y_5; theta_6 -> y_6; theta_7 -> y_7; theta_8 -> y_8;\\\n",
    "           /* nodes */\\\n",
    "           hyperpar [label = \"$mu,tau$\"];\\\n",
    "           theta_1 [label = \"$theta_1$\"];\\\n",
    "           theta_2 [label = \"$theta_2$\"];\\\n",
    "           theta_3 [label = \"$theta_3$\"];\\\n",
    "           theta_4 [label = \"$theta_4$\"];\\\n",
    "           theta_5 [label = \"$theta_5$\"];\\\n",
    "           theta_6 [label = \"$theta_6$\"];\\\n",
    "           theta_7 [label = \"$theta_7$\"];\\\n",
    "           theta_8 [label = \"$theta_8$\"];\\\n",
    "           y_1 [label = \"$y_1$\"];\\\n",
    "           y_2 [label = \"$y_2$\"];\\\n",
    "           y_3 [label = \"$y_3$\"];\\\n",
    "           y_4 [label = \"$y_4$\"];\\\n",
    "           y_5 [label = \"$y_5$\"];\\\n",
    "           y_6 [label = \"$y_6$\"];\\\n",
    "           y_7 [label = \"$y_7$\"];\\\n",
    "           y_8 [label = \"$y_8$\"];\\\n",
    "           }' #warning: use single quote at start and end; double quotes for labels\n",
    "s = Source(dot_text, filename=\"img/5_CB/model_8s.gv\", format=\"svg\") #THIS IS NOT THE FINAL ONE\n",
    "s.view()\n",
    "#\\fontsize{25pt}{1em} \n",
    "\n",
    "'''\n",
    "mu_dist [texlbl = \"$\\\\mu \\sim  Uniform(0,K_1)$\", shape = plaintext];\\\n",
    "tau_dist [texlbl = \"$\\\\tau \\sim  Uniform(0,K_2)$\", shape = plaintext];\\\n",
    "theta_dist [texlbl = \"$\\\\theta_j \\sim  Normal(\\\\mu, \\\\tau)$\", shape = plaintext];\\\n",
    "y_dist [texlbl = \"$y_j \\sim  Normal(\\\\theta_j, \\\\sigma^2_{j \\; data})$\", shape = plaintext];\\\n",
    "'''\n",
    "\n",
    "\n"
   ]
  },
  {
   "cell_type": "code",
   "execution_count": null,
   "metadata": {
    "slideshow": {
     "slide_type": "skip"
    }
   },
   "outputs": [],
   "source": []
  }
 ],
 "metadata": {
  "kernelspec": {
   "display_name": "Python 3",
   "language": "python",
   "name": "python3"
  },
  "language_info": {
   "codemirror_mode": {
    "name": "ipython",
    "version": 3
   },
   "file_extension": ".py",
   "mimetype": "text/x-python",
   "name": "python",
   "nbconvert_exporter": "python",
   "pygments_lexer": "ipython3",
   "version": "3.8.5"
  },
  "rise": {
   "chalkboard": {
    "color": [
     "rgb(250, 0, 0)",
     "rgb(0, 250, 250)"
    ]
   },
   "enable_chalkboard": true,
   "scroll": true,
   "theme": "simple",
   "transition": "none"
  }
 },
 "nbformat": 4,
 "nbformat_minor": 4
}
