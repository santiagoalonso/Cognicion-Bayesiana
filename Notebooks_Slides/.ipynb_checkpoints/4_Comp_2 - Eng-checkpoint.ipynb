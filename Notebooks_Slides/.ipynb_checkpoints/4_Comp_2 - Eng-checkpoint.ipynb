{
 "cells": [
  {
   "cell_type": "code",
   "execution_count": 1,
   "metadata": {
    "slideshow": {
     "slide_type": "skip"
    }
   },
   "outputs": [
    {
     "name": "stdout",
     "output_type": "stream",
     "text": [
      "Running on PyMC v3.11.4\n"
     ]
    }
   ],
   "source": [
    "#Tables and matrices\n",
    "import numpy as np\n",
    "import pandas as pd\n",
    "\n",
    "#Stats\n",
    "import scipy.stats as st\n",
    "from scipy.optimize import fmin\n",
    "from scipy import integrate\n",
    "from scipy.stats.mstats import mquantiles\n",
    "\n",
    "\n",
    "#Probabilistic programs\n",
    "#!pip install pymc3\n",
    "#!pip install pymc==4.0.0b1\n",
    "import pymc3 as pm\n",
    "#import pymc as pm\n",
    "import theano.tensor as tt \n",
    "from theano.compile.ops import as_op\n",
    "print('Running on PyMC v{}'.format(pm.__version__))\n",
    "\n",
    "#Graphs\n",
    "import seaborn as sns\n",
    "import plotly.graph_objects as go\n",
    "import altair as alt\n",
    "from altair_saver import save #ademas instalar en terminal: brew cask install chromedriver\n",
    "import matplotlib.pyplot as plt\n",
    "from matplotlib import cm\n",
    "from matplotlib.gridspec import GridSpec\n",
    "from matplotlib import animation, rc\n",
    "from IPython.display import display, HTML, Markdown\n",
    "import ipywidgets as widgets\n",
    "from ipywidgets import interact, interactive, fixed, HBox, VBox, Layout\n",
    "from graphviz import Source, Digraph\n",
    "import dot2tex as d2t\n",
    "from latex import build_pdf\n",
    "from mpl_toolkits.mplot3d import axes3d\n",
    "import arviz as az"
   ]
  },
  {
   "cell_type": "markdown",
   "metadata": {
    "slideshow": {
     "slide_type": "slide"
    }
   },
   "source": [
    "# Computational methods to obtain the posterior\n",
    "Santiago Alonso-Díaz, PhD <br>\n",
    "Universidad Javeriana"
   ]
  },
  {
   "cell_type": "markdown",
   "metadata": {
    "slideshow": {
     "slide_type": "subslide"
    }
   },
   "source": [
    "We will learn the basis of probabilistic programming.\n",
    "\n",
    "For our purposes, it refers to algorithms that allow us to do statistical inference with distributions. Variables are distributions."
   ]
  },
  {
   "cell_type": "markdown",
   "metadata": {
    "slideshow": {
     "slide_type": "subslide"
    }
   },
   "source": [
    "With probabilistic programming we can sample elaborate posteriors\n",
    "\n",
    "<center><img src=\"img/4_CB/model_mem.svg\" width = \"800\" height = '800'></center>\n"
   ]
  },
  {
   "cell_type": "markdown",
   "metadata": {
    "slideshow": {
     "slide_type": "subslide"
    }
   },
   "source": [
    "|Stan|PyMC|Edward|\n",
    "|:-:|:-:|:-:|\n",
    "|<img src=\"img/4_CB/stan_logo.png\" width = \"150\" height = '150'>|<img src=\"img/4_CB/PyMC3_banner.png\" width = \"150\" height = '150'>|<img src=\"img/4_CB/edward_logo.png\" width = \"200\" height = '200'>|"
   ]
  },
  {
   "cell_type": "markdown",
   "metadata": {
    "slideshow": {
     "slide_type": "slide"
    }
   },
   "source": [
    "We will use PyMC3 ... but soon to be changed to PyMC (99% the same syntax, but faster ... but still in beta, so better wait)\n",
    "\n",
    "<center><img src=\"img/4_CB/PyMC3_banner.png\" width = \"150\" height = '150'></center>\n",
    "\n",
    "Basado en: Davidson-Pilon, C. (2015). Bayesian methods for hackers: probabilistic programming and Bayesian inference. https://github.com/CamDavidsonPilon/Probabilistic-Programming-and-Bayesian-Methods-for-Hackers"
   ]
  },
  {
   "cell_type": "markdown",
   "metadata": {
    "slideshow": {
     "slide_type": "subslide"
    }
   },
   "source": [
    "## But first, a short tutorial of dot\n",
    "\n",
    "Dot is a tool to build diagrams, useful to build graphical models in Python."
   ]
  },
  {
   "cell_type": "code",
   "execution_count": null,
   "metadata": {
    "slideshow": {
     "slide_type": "subslide"
    }
   },
   "outputs": [],
   "source": [
    "#Define a graph\n",
    "dot_text = 'digraph G {\\\n",
    "                     node[margin=0.2, shape=rectangle,\\\n",
    "                          style = rounded,\\\n",
    "                          width=0.8, height = 0.7];\\\n",
    "                     compound=true;\\\n",
    "                     newrank=true;\\\n",
    "                     d -> e [label=\" mi texto \"];\\\n",
    "                     subgraph cluster0{\\\n",
    "                        label = \" \";\\\n",
    "                        label = \"$theta_i$\";\\\n",
    "                        labeljust = \"l\";  color = \"red\";\\\n",
    "                        f;\\\n",
    "                        g;\\\n",
    "                     };\\\n",
    "                     e -> f [lhead = cluster0, label=\"  \"];\\\n",
    "                     f -> g;\\\n",
    "                     g -> h [ltail = cluster0];\\\n",
    "                     { rank=same; f; e};\\\n",
    "                     d [label = \"Nodo\", fixedsize=true, width=0.5,\\\n",
    "                                 shape = circle];\\\n",
    "                     e [label = \"$mu$\", shape = square,\\\n",
    "                                  width = 0.6 ];\\\n",
    "                     f [label = \"VI\", shape = plaintext];\\\n",
    "                     g [label = \"$sum_i x_i$\"];\\\n",
    "                     h [label = \"$int beta_i di$\",\\\n",
    "                                  shape = circle, peripheries = 2];\\\n",
    "                     }' \n",
    "#Tip: use single quote at start and end; double quotes for labels"
   ]
  },
  {
   "cell_type": "code",
   "execution_count": null,
   "metadata": {
    "slideshow": {
     "slide_type": "subslide"
    }
   },
   "outputs": [],
   "source": [
    "#Now save it\n",
    "s = Source(dot_text, filename=\"img/4_CB/tutorial_dot.gv\", format=\"svg\") #THIS IS NOT THE FINAL ONE\n",
    "s.view()\n",
    "\n",
    "#To typeset latex stuff on the image: \n",
    "#1) open svg in inkscape and write latex formulas. Export as pdf (click the one that says latex)\n",
    "#   to change fontsize of latex in inkscape write before the expression: \n",
    "#        \\fontsize{34pt}{1em} $latex expression$ ... change #pt for size\n",
    "#2) go to overleaf or latex editor of choice and do this (https://castel.dev/post/lecture-notes-2/):\n",
    "#   2.1) In the preamble:\n",
    "#  \\usepackage{import}\n",
    "#  \\usepackage{xifthen}\n",
    "#  \\usepackage{pdfpages}\n",
    "#  \\usepackage{transparent}\n",
    "#  \\usepackage{graphics} \n",
    "#  \\usepackage{bigints}\n",
    "\n",
    "#  \\newcommand{\\incfig}[1]{%\n",
    "#      \\def\\svgwidth{\\columnwidth}\n",
    "#      \\import{./figures/}{#1.pdf_tex} %PUT the inkscape .pdf_tex AND .pdf in a local folder called figures\n",
    "#  }\n",
    "#   2.2)In the body:\n",
    "#  \\begin{figure}[ht]\n",
    "#      \\centering\n",
    "#      \\scalebox{.65}{\\incfig{your_inkscape.pdf_tex}} #change scalebox proportion to rescale\n",
    "#      \\caption{Riemmans theorem}\n",
    "#      \\label{fig:riemmans-theorem}\n",
    "#  \\end{figure}\n",
    "\n",
    "\n",
    "\n",
    "\n"
   ]
  },
  {
   "cell_type": "markdown",
   "metadata": {
    "slideshow": {
     "slide_type": "subslide"
    }
   },
   "source": [
    "# Exercise\n",
    "\n",
    "* Make the following diagram in dot or https://app.diagrams.net/. Tip: In app.diagrams.net, for math typesetting go to `extras`, activate math typesetting, and write latex with \\\\$\\\\$ \\\\$\\\\$.\n",
    "\n",
    "<center><img src=\"img/4_CB/dot_tutorial.svg\" width = \"550\" height = '550'></center>"
   ]
  },
  {
   "cell_type": "markdown",
   "metadata": {
    "slideshow": {
     "slide_type": "subslide"
    }
   },
   "source": [
    "Let's analyze text messages from a person (Fuente: Davidson-Pilon, 2015)"
   ]
  },
  {
   "cell_type": "code",
   "execution_count": 2,
   "metadata": {
    "scrolled": true,
    "slideshow": {
     "slide_type": "fragment"
    }
   },
   "outputs": [
    {
     "data": {
      "text/plain": [
       "array([13., 24.,  8., 24.,  7., 35., 14., 11., 15., 11., 22., 22., 11.,\n",
       "       57., 11., 19., 29.,  6., 19., 12., 22., 12., 18., 72., 32.,  9.,\n",
       "        7., 13., 19., 23., 27., 20.,  6., 17., 13., 10., 14.,  6., 16.,\n",
       "       15.,  7.,  2., 15., 15., 19., 70., 49.,  7., 53., 22., 21., 31.,\n",
       "       19., 11., 18., 20., 12., 35., 17., 23., 17.,  4.,  2., 31., 30.,\n",
       "       13., 27.,  0., 39., 37.,  5., 14., 13., 22.])"
      ]
     },
     "execution_count": 2,
     "metadata": {},
     "output_type": "execute_result"
    }
   ],
   "source": [
    "count_data = np.loadtxt(\"data/4_CB/txtdata.csv\")\n",
    "n_count_data = len(count_data)\n",
    "days = np.linspace(1, n_count_data, num = n_count_data, dtype = int)\n",
    "count_data "
   ]
  },
  {
   "cell_type": "markdown",
   "metadata": {
    "slideshow": {
     "slide_type": "fragment"
    }
   },
   "source": [
    "<center><img src=\"img/4_CB/mstxt.svg\" width = \"1000\" height = '1000'></center>"
   ]
  },
  {
   "cell_type": "markdown",
   "metadata": {
    "slideshow": {
     "slide_type": "subslide"
    }
   },
   "source": [
    "How can we model the daily counts of messages? \n",
    "\n",
    "$$Count_{\\text{day}} \\sim Poisson(\\lambda)$$\n",
    "\n",
    "Note: $\\lambda$ is the mean and variance in a Poisson.\n",
    "\n",
    "<center><img src=\"img/4_CB/poisson.svg\" width = \"450\" height = '450'></center>"
   ]
  },
  {
   "cell_type": "markdown",
   "metadata": {
    "slideshow": {
     "slide_type": "subslide"
    }
   },
   "source": [
    "But ... they look different\n",
    "\n",
    "|<img src=\"img/4_CB/poisson.svg\" width = \"250\" height = '250'>|<img src=\"img/4_CB/mstxt.svg\" width = \"400\" height = '400'>|\n",
    "|:-:|:-:|\n",
    "|||\n",
    "\n",
    "An histogram is a visual guide. Change the bins, and the graph changes.\n",
    "\n",
    "It could be two Poisson, before and after some day $\\tau$"
   ]
  },
  {
   "cell_type": "markdown",
   "metadata": {
    "slideshow": {
     "slide_type": "subslide"
    }
   },
   "source": [
    "This is our proposed model:\n",
    "$$\\lambda = \n",
    "\\begin{cases} \\lambda_a  & \\text{day} \\lt \\tau \\\\\n",
    "\\lambda_b & \\text{day} \\ge \\tau\n",
    "\\end{cases}\n",
    "$$\n"
   ]
  },
  {
   "cell_type": "markdown",
   "metadata": {
    "slideshow": {
     "slide_type": "subslide"
    }
   },
   "source": [
    "This is our Bayesian graphical model:\n",
    "\n",
    "<center><img src=\"img/4_CB/model_msj.svg\" width = \"700\" height = '700'></center>\n"
   ]
  },
  {
   "cell_type": "markdown",
   "metadata": {
    "slideshow": {
     "slide_type": "subslide"
    }
   },
   "source": [
    "Why those distributions?\n",
    "\n",
    "Part science (e.g. conjugate prior) and part art (expert knowledge).  \n",
    "\n",
    "For instance, for $\\lambda_a$ & $\\lambda_b$ we chose and exponential distribution with rate $\\alpha = \\frac{1}{\\mathbb{E}[Count_{d}]}$. Reason: it makes high counts unlikely. \n",
    "\n",
    "<center><img src=\"img/4_CB/exp.svg\" width = \"500\" height = '500'></center>"
   ]
  },
  {
   "cell_type": "markdown",
   "metadata": {
    "slideshow": {
     "slide_type": "subslide"
    }
   },
   "source": [
    "Now, let's sample from our model with PyMC\n",
    "\n",
    "<center><img src=\"img/4_CB/model_msj.svg\" width = \"500\" height = '500'></center>\n",
    "\n",
    "PyMC uses the class `Model`. Let's see the code."
   ]
  },
  {
   "cell_type": "code",
   "execution_count": 3,
   "metadata": {
    "slideshow": {
     "slide_type": "subslide"
    }
   },
   "outputs": [],
   "source": [
    "# First, some constants\n",
    "alpha = 1.0/count_data.mean()  # count_data holds our text counts.\n",
    "\n",
    "# PyMC uses the class `Model` to save the model. \n",
    "# The syntax is as follows\n",
    "with pm.Model() as modelo_mensajes: #Yoy can name your model as you want   \n",
    "    \n",
    "    ### Latent variables (priors)\n",
    "    lambda_before = pm.Exponential(\"lambda_before\", lam = alpha) \n",
    "    lambda_after = pm.Exponential(\"lambda_after\", lam = alpha)\n",
    "    #lambda_antes = pm.Uniform(\"lambda_antes\", lower = 1, upper = 80) \n",
    "    #lambda_despues = pm.Uniform(\"lambda_despues\",  lower = 1, upper = 80)\n",
    "    tau = pm.DiscreteUniform(\"tau\", lower=1, upper=n_count_data)\n",
    "    #Siguiente línea: \n",
    "    #if primer argumento true, then tercero, else segundo\n",
    "    lambda_usado = pm.math.switch(tau < days, \n",
    "                                  lambda_after, lambda_before) \n",
    "    \n",
    "    ### Likelihood    \n",
    "    conteos = pm.Poisson(\"counts\", lambda_usado, \n",
    "                         observed=count_data) #note that the name of the variable can be different from the one inside the function pm.Poisson\n"
   ]
  },
  {
   "cell_type": "code",
   "execution_count": 4,
   "metadata": {
    "slideshow": {
     "slide_type": "subslide"
    }
   },
   "outputs": [
    {
     "name": "stdout",
     "output_type": "stream",
     "text": [
      "[lambda_before_log__ ~ TransformedDistribution, lambda_after_log__ ~ TransformedDistribution, tau ~ DiscreteUniform, counts ~ Poisson]\n",
      "[lambda_before_log__ ~ TransformedDistribution, lambda_after_log__ ~ TransformedDistribution, tau ~ DiscreteUniform]\n",
      "[counts ~ Poisson]\n",
      "67.34 28.05 0.45\n"
     ]
    },
    {
     "data": {
      "text/latex": [
       "$\\text{lambda_before} \\sim \\text{Exponential}(\\mathit{lam}=0.05065023956194388)$"
      ],
      "text/plain": [
       "lambda_before ~ Exponential"
      ]
     },
     "execution_count": 4,
     "metadata": {},
     "output_type": "execute_result"
    }
   ],
   "source": [
    "#The model variable has all the information \n",
    "#RV: random variables\n",
    "print(modelo_mensajes.basic_RVs) #All variables \n",
    "print(modelo_mensajes.free_RVs) #Latent/unobserved variables\n",
    "print(modelo_mensajes.observed_RVs) #Observables\n",
    "\n",
    "#Note that variables are stochastic (example)\n",
    "rvs = modelo_mensajes.lambda_before.random\n",
    "print(np.round(rvs(),2), np.round(rvs(),2), np.round(rvs(),2))\n",
    "modelo_mensajes.lambda_before"
   ]
  },
  {
   "cell_type": "markdown",
   "metadata": {
    "slideshow": {
     "slide_type": "subslide"
    }
   },
   "source": [
    "Now we are ready. Let's take samples from our model!"
   ]
  },
  {
   "cell_type": "code",
   "execution_count": 5,
   "metadata": {
    "slideshow": {
     "slide_type": "subslide"
    }
   },
   "outputs": [
    {
     "name": "stderr",
     "output_type": "stream",
     "text": [
      "<ipython-input-5-d9b182d4d981>:2: FutureWarning: In v4.0, pm.sample will return an `arviz.InferenceData` object instead of a `MultiTrace` by default. You can pass return_inferencedata=True or return_inferencedata=False to be safe and silence this warning.\n",
      "  trace = pm.sample(10000, chains = 4, cores = 2, nuts={'target_accept':0.95})\n",
      "Multiprocess sampling (4 chains in 2 jobs)\n",
      "CompoundStep\n",
      ">NUTS: [lambda_after, lambda_before]\n",
      ">Metropolis: [tau]\n"
     ]
    },
    {
     "data": {
      "text/html": [
       "\n",
       "    <div>\n",
       "        <style>\n",
       "            /* Turns off some styling */\n",
       "            progress {\n",
       "                /* gets rid of default border in Firefox and Opera. */\n",
       "                border: none;\n",
       "                /* Needs to be in here for Safari polyfill so background images work as expected. */\n",
       "                background-size: auto;\n",
       "            }\n",
       "            .progress-bar-interrupted, .progress-bar-interrupted::-webkit-progress-bar {\n",
       "                background: #F44336;\n",
       "            }\n",
       "        </style>\n",
       "      <progress value='44000' class='' max='44000' style='width:300px; height:20px; vertical-align: middle;'></progress>\n",
       "      100.00% [44000/44000 00:12<00:00 Sampling 4 chains, 0 divergences]\n",
       "    </div>\n",
       "    "
      ],
      "text/plain": [
       "<IPython.core.display.HTML object>"
      ]
     },
     "metadata": {},
     "output_type": "display_data"
    },
    {
     "name": "stderr",
     "output_type": "stream",
     "text": [
      "Sampling 4 chains for 1_000 tune and 10_000 draw iterations (4_000 + 40_000 draws total) took 24 seconds.\n",
      "The number of effective samples is smaller than 25% for some parameters.\n"
     ]
    }
   ],
   "source": [
    "with modelo_mensajes:\n",
    "    trace = pm.sample(10000, chains = 4, cores = 2, nuts={'target_accept':0.95})\n",
    "    #posterior_predictive = pm.sample_posterior_predictive(trace)"
   ]
  },
  {
   "cell_type": "code",
   "execution_count": 7,
   "metadata": {
    "slideshow": {
     "slide_type": "subslide"
    }
   },
   "outputs": [
    {
     "data": {
      "image/png": "[encoded data removed]",
      "text/plain": [
       "<Figure size 720x504 with 6 Axes>"
      ]
     },
     "metadata": {
      "needs_background": "light"
     },
     "output_type": "display_data"
    }
   ],
   "source": [
    "data = az.from_pymc3(\n",
    "    trace=trace[8500:10000], #1500 samples to keep the image file light\n",
    "    model=modelo_mensajes,\n",
    ")\n",
    "az.plot_trace(data, figsize = [10,7]);\n",
    "#plt.savefig(\"img/4_CB/trace_msjtxt.svg\")\n",
    "plt.tight_layout()\n",
    "# plt.close()"
   ]
  },
  {
   "cell_type": "markdown",
   "metadata": {
    "slideshow": {
     "slide_type": "subslide"
    }
   },
   "source": [
    "Even though we picked exponentials for the $\\lambda$s and uniform for $\\tau$, the posteriors look different. The data changed our posterior beliefs."
   ]
  },
  {
   "cell_type": "code",
   "execution_count": 8,
   "metadata": {
    "slideshow": {
     "slide_type": "skip"
    }
   },
   "outputs": [
    {
     "data": {
      "image/png": "[encoded data removed]",
      "text/plain": [
       "<Figure size 576x360 with 2 Axes>"
      ]
     },
     "metadata": {
      "needs_background": "light"
     },
     "output_type": "display_data"
    }
   ],
   "source": [
    "fig, ax = plt.subplots(1,2, figsize = [8,5])\n",
    "day = int(trace['tau'].mean())\n",
    "az.plot_density(\n",
    "    [trace['lambda_before'], trace['lambda_after']],\n",
    "    data_labels=[\"Before day \" + str(day) + \" (mean)\", \n",
    "                 \"After\"],\n",
    "    shade=.1, ax = ax[0], hdi_prob=.999, \n",
    ")\n",
    "az.plot_density(\n",
    "    [trace['tau']], hdi_prob=.999,\n",
    "    data_labels=[\"$\\\\tau$ (day) \"], outline=True,\n",
    "    shade=.25, ax = ax[1], colors = 'purple', \n",
    ")\n",
    "ax[0].set_title('$\\lambda$ (msj x day)', fontsize = 20)\n",
    "ax[1].set_title('$\\\\tau$ (day change)', fontsize = 20)\n",
    "ax[0].set_xlabel('msj x day', fontsize = 15)\n",
    "ax[1].set_xlabel('change day', fontsize = 15)\n",
    "ax[0].legend(loc='upper right');\n",
    "#fig.savefig('img/4_CB/Vis_msj_txt_post.svg')\n",
    "plt.tight_layout()\n",
    "#plt.close()"
   ]
  },
  {
   "cell_type": "markdown",
   "metadata": {
    "slideshow": {
     "slide_type": "subslide"
    }
   },
   "source": [
    "The powerful thing about having many samples from the posterior is that we can use them as we want.\n",
    "\n",
    "We can take averages or manually estimate intervals of the parameters. The object that we called trace, has all the info per parameter."
   ]
  },
  {
   "cell_type": "code",
   "execution_count": 9,
   "metadata": {},
   "outputs": [],
   "source": [
    "mean_count = np.zeros_like(count_data, dtype='float')\n",
    "#High density interval\n",
    "HDI95_count = np.zeros_like(count_data, dtype='float') \n",
    "HDI5_count = np.zeros_like(count_data, dtype='float')\n",
    "for i, day in enumerate(days):\n",
    "    #las muestras están ordenadas como el algoritmo las tomó\n",
    "    idx = day < trace['tau'] \n",
    "    before = trace['lambda_before'][idx] \n",
    "    after = trace['lambda_after'][~idx]\n",
    "    HDI95_count[i] = np.percentile(\n",
    "        np.concatenate((before,after)),97.5\n",
    "    )\n",
    "    HDI5_count[i] = np.percentile(\n",
    "        np.concatenate((before,after)),2.5\n",
    "    )\n",
    "    mean_count[i] = np.concatenate((before,after)).mean()\n"
   ]
  },
  {
   "cell_type": "code",
   "execution_count": 11,
   "metadata": {
    "slideshow": {
     "slide_type": "skip"
    }
   },
   "outputs": [
    {
     "data": {
      "image/png": "[encoded data removed]",
      "text/plain": [
       "<Figure size 360x360 with 1 Axes>"
      ]
     },
     "metadata": {
      "needs_background": "light"
     },
     "output_type": "display_data"
    }
   ],
   "source": [
    "plt.figure(figsize=(5, 5)); \n",
    "plt.plot(days, count_data, '.',  label = 'Data')\n",
    "plt.ylabel(\"Msg. count\", fontsize=16); \n",
    "plt.xlabel(\"Day\", fontsize=16)\n",
    "plt.title(\"Model visualization\", fontsize=20)   \n",
    "hdi = az.hdi(trace['tau']) #high density interval (calculado con Arviz; igual a np.percentile)\n",
    "plt.vlines(trace['tau'].mean(), count_data.min(), count_data.max(), color='C1')\n",
    "plt.fill_betweenx(y=[count_data.min(), count_data.max()],\n",
    "                  x1=hdi[0], x2=hdi[1], alpha=0.35, color='C1',\n",
    "                 label = 'Day that msg counts changed ($\\\\tau$)');\n",
    "plt.fill_between(x=np.linspace(1, len(days), HDI5_count.size), \n",
    "                 y1=HDI5_count, y2=HDI95_count, alpha=0.25, color='k',\n",
    "                 label = 'Avg. msg ($\\lambda$)');\n",
    "plt.plot(days, mean_count,  'k', lw=2); \n",
    "plt.legend(loc = 'upper left');\n",
    "#plt.savefig('img/4_CB/Vis_msj_txt.svg')\n",
    "plt.tight_layout()\n",
    "#plt.close()"
   ]
  },
  {
   "cell_type": "markdown",
   "metadata": {
    "slideshow": {
     "slide_type": "subslide"
    }
   },
   "source": [
    "We can explore the latent parameters. For instance, how confident are we that the rate of messages changed before and after the day $\\tau$?"
   ]
  },
  {
   "cell_type": "code",
   "execution_count": 12,
   "metadata": {
    "slideshow": {
     "slide_type": "subslide"
    }
   },
   "outputs": [
    {
     "name": "stdout",
     "output_type": "stream",
     "text": [
      "99% confident that msg x day (lambdas) changed on tay\n"
     ]
    },
    {
     "data": {
      "image/png": "[encoded data removed]",
      "text/plain": [
       "<Figure size 432x288 with 1 Axes>"
      ]
     },
     "metadata": {
      "needs_background": "light"
     },
     "output_type": "display_data"
    }
   ],
   "source": [
    "test = trace['lambda_before']<trace['lambda_after']\n",
    "tA = str(int(test.mean()*100))\n",
    "tB = \"% confident that msg x day (lambdas) changed on tay\"\n",
    "print(tA + tB)\n",
    "dia = int(trace['tau'].mean())\n",
    "az.plot_density(\n",
    "    [trace['lambda_before'], trace['lambda_after']],\n",
    "    data_labels=[\"Before day\" + str(dia) + \" (mean)\", \n",
    "                 \"After\"],\n",
    "    shade=.1, hdi_prob = .999, \n",
    ");\n",
    "plt.xlabel('Msg x day', fontsize = 15)\n",
    "plt.title(\"\");"
   ]
  },
  {
   "cell_type": "markdown",
   "metadata": {
    "slideshow": {
     "slide_type": "subslide"
    }
   },
   "source": [
    "# Exercises (text messages Poisson)\n",
    "1\\.  Calculate the mean of `lambda_before` and `lambda_after`."
   ]
  },
  {
   "cell_type": "code",
   "execution_count": null,
   "metadata": {
    "jupyter": {
     "outputs_hidden": false
    }
   },
   "outputs": [],
   "source": [
    "#Code here"
   ]
  },
  {
   "cell_type": "markdown",
   "metadata": {
    "slideshow": {
     "slide_type": "subslide"
    }
   },
   "source": [
    "2\\.  Calculate the percentual increase of msgs per day. `tip:` first calculate and save the distribution for *percentual increase*. Do not do this `lambda_before.mean()/lambda_after.mean()`. Use all the posteriors from the PyMC model."
   ]
  },
  {
   "cell_type": "code",
   "execution_count": null,
   "metadata": {
    "jupyter": {
     "outputs_hidden": false
    }
   },
   "outputs": [],
   "source": [
    "#Code here\n"
   ]
  },
  {
   "cell_type": "markdown",
   "metadata": {
    "slideshow": {
     "slide_type": "subslide"
    }
   },
   "source": [
    "3\\. Calculate the mean of $\\lambda_{before}$ *given* that $\\tau < 45$. That is, look for all the indices where $\\tau$ < 45 and  use them to select samples from $\\lambda_{before}$."
   ]
  },
  {
   "cell_type": "code",
   "execution_count": null,
   "metadata": {
    "jupyter": {
     "outputs_hidden": false
    }
   },
   "outputs": [],
   "source": [
    "#Code here"
   ]
  },
  {
   "cell_type": "markdown",
   "metadata": {
    "slideshow": {
     "slide_type": "slide"
    }
   },
   "source": [
    "# PyMC: Details"
   ]
  },
  {
   "cell_type": "markdown",
   "metadata": {
    "slideshow": {
     "slide_type": "subslide"
    }
   },
   "source": [
    "In PyMC the model lives in the object \"pm.Models\" "
   ]
  },
  {
   "cell_type": "code",
   "execution_count": 13,
   "metadata": {
    "slideshow": {
     "slide_type": "subslide"
    }
   },
   "outputs": [],
   "source": [
    "with pm.Model() as model:\n",
    "    parameter = pm.Exponential(\"poisson_param\", 1.0, \n",
    "                               testval=0.5) #testval: initial values for the parameters\n",
    "    data_generator = pm.Poisson(\"data_generator\", parameter)"
   ]
  },
  {
   "cell_type": "markdown",
   "metadata": {
    "slideshow": {
     "slide_type": "subslide"
    }
   },
   "source": [
    "Python tries to emulate natural language. The block `with` works the object pm.Model, with the alias \"model\", and executes whatever is inside the (indented) block "
   ]
  },
  {
   "cell_type": "markdown",
   "metadata": {
    "slideshow": {
     "slide_type": "subslide"
    }
   },
   "source": [
    "Once declared, we can work with the alias"
   ]
  },
  {
   "cell_type": "code",
   "execution_count": 14,
   "metadata": {},
   "outputs": [
    {
     "name": "stdout",
     "output_type": "stream",
     "text": [
      "1\n",
      "[poisson_param_log__ ~ TransformedDistribution, data_generator ~ Poisson]\n",
      "0.38 0.08 0.32\n"
     ]
    }
   ],
   "source": [
    "with model:\n",
    "    data_plus_one = data_generator + 1\n",
    "print(data_plus_one.tag.test_value) #test values: initial values\n",
    "print(model.basic_RVs) \n",
    "rvs = model.poisson_param.random\n",
    "print(np.round(rvs(),2), np.round(rvs(),2), np.round(rvs(),2))"
   ]
  },
  {
   "cell_type": "markdown",
   "metadata": {
    "slideshow": {
     "slide_type": "subslide"
    }
   },
   "source": [
    "PyMC3 has two types of variables: stochastic and deterministic.\n",
    "\n",
    "*  *Stochastic*:  Random variable. Examples: `Poisson`, `DiscreteUniform`, and `Normal`.\n",
    "\n",
    "*  *Deterministic*: Non-random variable. Examples: quadratic formula.  \n"
   ]
  },
  {
   "cell_type": "markdown",
   "metadata": {
    "slideshow": {
     "slide_type": "subslide"
    }
   },
   "source": [
    "## Stochastic\n",
    "For instance,\n",
    "\n",
    "`my_variable = pm.DiscreteUniform(\"discrete_uni_var\", lower=0, upper=4)`\n",
    "\n",
    "The name for Python is *my_variable*. The name for the sampler is *discrete_uni_var*. They can be the same or different. My recomendation: use the same name. \n",
    "\n",
    "\"lower\" and \"upper\" are free parameter of the uniform distribution. Check available distributions and their parameters in http://pymc-devs.github.io/pymc3/api.html"
   ]
  },
  {
   "cell_type": "markdown",
   "metadata": {
    "slideshow": {
     "slide_type": "subslide"
    }
   },
   "source": [
    "If there are N stochastic variables, with identical parameters, use the argument `shape`\n",
    "\n",
    "`betas_regresion = pm.Uniform(\"betas\", lower=0, upper=1, shape = N)`"
   ]
  },
  {
   "cell_type": "markdown",
   "metadata": {
    "slideshow": {
     "slide_type": "subslide"
    }
   },
   "source": [
    "## Deterministic\n",
    "\n",
    "There are two ways of introducing deterministic variables to our model. \n",
    "\n",
    "First, with built-in PyMC methods"
   ]
  },
  {
   "cell_type": "code",
   "execution_count": 15,
   "metadata": {
    "slideshow": {
     "slide_type": "subslide"
    }
   },
   "outputs": [],
   "source": [
    "n_data_points = 5  \n",
    "threshold = np.arange(n_data_points)\n",
    "with pm.Model() as model:\n",
    "    #Estocásticas\n",
    "    lambda_1 = pm.Exponential(\"lambda_1\", 1.0)\n",
    "    lambda_2 = pm.Exponential(\"lambda_2\", 1.0)\n",
    "    tau = pm.DiscreteUniform(\"tau\", lower=0, upper=10)\n",
    "    \n",
    "    #Determinísticas\n",
    "    lambda_ = pm.math.switch(tau >= threshold, \n",
    "                             lambda_1, lambda_2) \n",
    "    \n"
   ]
  },
  {
   "cell_type": "markdown",
   "metadata": {
    "slideshow": {
     "slide_type": "subslide"
    }
   },
   "source": [
    "`lambda_` is deterministic. The function switch determines if `lambda_` materializes as lambda_1 or lambda_2. At each iteration, lambda_1 and lambda_2 take an actual value and PyMC can apply .switch. "
   ]
  },
  {
   "cell_type": "markdown",
   "metadata": {
    "slideshow": {
     "slide_type": "subslide"
    }
   },
   "source": [
    "The second way is with `pm.Deterministic`. It allow us to deploy user-defined functions."
   ]
  },
  {
   "cell_type": "code",
   "execution_count": 16,
   "metadata": {
    "slideshow": {
     "slide_type": "subslide"
    }
   },
   "outputs": [],
   "source": [
    "def substract(x, y):\n",
    "    return x - y\n",
    "\n",
    "with pm.Model() as model_det:\n",
    "    stochastic_1 = pm.Uniform(\"U_1\", 0, 1)\n",
    "    stochastic_2 = pm.Uniform(\"U_2\", 0, 1)\n",
    "\n",
    "    det_1 = pm.Deterministic(\"Delta\", substract(stochastic_1, stochastic_2))\n"
   ]
  },
  {
   "cell_type": "markdown",
   "metadata": {
    "slideshow": {
     "slide_type": "subslide"
    }
   },
   "source": [
    "The function substract should work with scalars and vectors."
   ]
  },
  {
   "cell_type": "markdown",
   "metadata": {
    "slideshow": {
     "slide_type": "subslide"
    }
   },
   "source": [
    "Even though we can write our own functions for a deterministic variable, it is recommended to first to try PyMC functions and its backend (PyMC3, Theano; PyMC Aesara).\n",
    "\n",
    "|<center><img src=\"img/4_CB/Theano_logo.svg\" width = \"300\" height = '300'></center>|<center><img src=\"img/4_CB/Aesara_logo_2400.png\" width = \"300\" height = '300'></center>|\n",
    "|-|-|\n",
    "|||\n",
    "\n",
    "What is a backend?\n"
   ]
  },
  {
   "cell_type": "markdown",
   "metadata": {
    "slideshow": {
     "slide_type": "subslide"
    }
   },
   "source": [
    "The backend is the framework/tools that PyMC relies on to make calculations and computations. \n",
    "\n",
    "Theano and Aesara work with math objects called tensors (a generalization of vectors and matrices)\n"
   ]
  },
  {
   "cell_type": "markdown",
   "metadata": {
    "slideshow": {
     "slide_type": "subslide"
    }
   },
   "source": [
    "As an example, we will use the backend operation `stack`. It groups `p1` and `p2` into a new variable `p`. \n",
    "\n",
    "Think of `p` as a matrix with two columns.\n",
    "\n",
    "We can pass `p` to an stochastic variable; say as the probabilities of two categories."
   ]
  },
  {
   "cell_type": "code",
   "execution_count": 17,
   "metadata": {
    "slideshow": {
     "slide_type": "subslide"
    }
   },
   "outputs": [],
   "source": [
    "import theano.tensor as tt \n",
    "#Note: this will change with the new PyMC with aesara.\n",
    "#It will be similar:\n",
    "#from aesara import tensor as at \n",
    "\n",
    "with pm.Model() as theano_test:\n",
    "    p1 = pm.Uniform(\"p\", 0, 1)\n",
    "    p2 = 1 - p1\n",
    "    p = tt.stack([p1, p2]) \n",
    "    #p = pm.math.stack([p1, p2])\n",
    "    \n",
    "    assignment = pm.Categorical(\"assignment\", p)"
   ]
  },
  {
   "cell_type": "markdown",
   "metadata": {},
   "source": [
    "We will use many backend operations during the course. "
   ]
  },
  {
   "cell_type": "markdown",
   "metadata": {
    "slideshow": {
     "slide_type": "subslide"
    }
   },
   "source": [
    "## Data/Observations\n",
    "\n",
    "We have defined priors in our pm.model ..."
   ]
  },
  {
   "cell_type": "code",
   "execution_count": 18,
   "metadata": {},
   "outputs": [
    {
     "data": {
      "image/png": "[encoded data removed]",
      "text/plain": [
       "<Figure size 720x324 with 1 Axes>"
      ]
     },
     "metadata": {
      "needs_background": "light"
     },
     "output_type": "display_data"
    }
   ],
   "source": [
    "fig = plt.figure(figsize = (10, 4.5))\n",
    "samples = lambda_1.random(size=10000)\n",
    "plt.hist(samples, bins=70); \n",
    "plt.title(\"Prior distribution for $\\lambda_1$\");"
   ]
  },
  {
   "cell_type": "markdown",
   "metadata": {
    "slideshow": {
     "slide_type": "subslide"
    }
   },
   "source": [
    " ... now let's introduce likelihoods and data"
   ]
  },
  {
   "cell_type": "markdown",
   "metadata": {
    "slideshow": {
     "slide_type": "subslide"
    }
   },
   "source": [
    "All stochastic variables have an argument called `observed`. The stochastic variable with the argument observed is the likelihood."
   ]
  },
  {
   "cell_type": "code",
   "execution_count": 19,
   "metadata": {
    "slideshow": {
     "slide_type": "subslide"
    }
   },
   "outputs": [
    {
     "name": "stdout",
     "output_type": "stream",
     "text": [
      "[10 25 15 20 35]\n",
      "[lambda_1_log__ ~ TransformedDistribution, lambda_2_log__ ~ TransformedDistribution, tau ~ DiscreteUniform]\n",
      "[obs ~ Poisson]\n"
     ]
    }
   ],
   "source": [
    "# Let's define some data and assign it a likelihood\n",
    "data = np.array([10, 25, 15, 20, 35])\n",
    "with model:\n",
    "    obs = pm.Poisson(\"obs\", lambda_, observed=data)\n",
    "print(obs.tag.test_value)\n",
    "print(model.free_RVs) #Latentes / no observables\n",
    "print(model.observed_RVs) #Observables"
   ]
  },
  {
   "cell_type": "markdown",
   "metadata": {
    "slideshow": {
     "slide_type": "slide"
    }
   },
   "source": [
    "# Bayesian data `analisis` "
   ]
  },
  {
   "cell_type": "markdown",
   "metadata": {
    "slideshow": {
     "slide_type": "subslide"
    }
   },
   "source": [
    "## A/B Testing\n",
    "\n",
    "This is perhaps the simplest and most popular experimental design. We want to determine which option is better, A or B. \n",
    "\n",
    "For instance, which robot should interact with clients in an airport? Robot A or Robot B?\n",
    "\n",
    "|<img src=\"img/4_CB/Robot_A.webp\" width = \"300\" height = '300'>|<img src=\"img/4_CB/Robot_B.jpg\" width = \"250\" height = '250'>|\n",
    "|:-:|:-:|\n",
    "|||"
   ]
  },
  {
   "cell_type": "markdown",
   "metadata": {
    "slideshow": {
     "slide_type": "subslide"
    }
   },
   "source": [
    "We set up an experiment. Two groups in different airports. The size of each group is $n_1$ and $n_2$ with $k_1$ y $k_2$ counts preferring robot 1. With these data, we want to determine the latent/real proportion $\\theta_1$ (%preferring robot 1) and $\\theta_2$ (%preferring robot 2).\n",
    "\n",
    "Bayesian formulation:\n",
    "<center><img src=\"img/4_CB/model_ab.svg\" width = \"600\" height = '600'></center>"
   ]
  },
  {
   "cell_type": "code",
   "execution_count": 20,
   "metadata": {
    "slideshow": {
     "slide_type": "subslide"
    }
   },
   "outputs": [
    {
     "name": "stdout",
     "output_type": "stream",
     "text": [
      "Obs from site A:  [0 0 0 0 0 0 0 0 0 0 0 0 0 0 0 0 0 0 0 0 0 0 0 0 0 0 0 0 0 0] ...\n",
      "Obs from site B:  [0 0 0 0 0 0 0 0 0 0 0 0 1 0 0 0 0 0 0 0 0 0 0 1 1 0 0 0 0 0] ...\n",
      "Mean A:  0.064\n",
      "Mean B:  0.04533333333333334\n"
     ]
    }
   ],
   "source": [
    "#We do not know these proportions. They are the theta in the previous graphical model (DAG).\n",
    "true_p_A = 0.05 \n",
    "true_p_B = 0.04\n",
    "\n",
    "#We have more data at site A. This is not a problem, the Bayesian setup handles it well.\n",
    "N_A = 1500\n",
    "N_B = 750\n",
    "\n",
    "#We generate some data. The ks in the graphical model.\n",
    "datos_A = st.bernoulli.rvs(true_p_A, size=N_A)\n",
    "datos_B = st.bernoulli.rvs(true_p_B, size=N_B)\n",
    "print(\"Obs from site A: \", datos_A[:30], \"...\")\n",
    "print(\"Obs from site B: \", datos_B[:30], \"...\")\n",
    "print(\"Mean A: \", np.mean(datos_A))\n",
    "print(\"Mean B: \", np.mean(datos_B)) "
   ]
  },
  {
   "cell_type": "code",
   "execution_count": null,
   "metadata": {
    "slideshow": {
     "slide_type": "subslide"
    }
   },
   "outputs": [
    {
     "name": "stderr",
     "output_type": "stream",
     "text": [
      "<ipython-input-21-283e2b5ca3b3>:19: FutureWarning: In v4.0, pm.sample will return an `arviz.InferenceData` object instead of a `MultiTrace` by default. You can pass return_inferencedata=True or return_inferencedata=False to be safe and silence this warning.\n",
      "  trace = pm.sample(nsamples, step=step)\n",
      "Multiprocess sampling (4 chains in 4 jobs)\n",
      "CompoundStep\n",
      ">Metropolis: [p_B]\n",
      ">Metropolis: [p_A]\n"
     ]
    },
    {
     "data": {
      "text/html": [
       "\n",
       "    <div>\n",
       "        <style>\n",
       "            /* Turns off some styling */\n",
       "            progress {\n",
       "                /* gets rid of default border in Firefox and Opera. */\n",
       "                border: none;\n",
       "                /* Needs to be in here for Safari polyfill so background images work as expected. */\n",
       "                background-size: auto;\n",
       "            }\n",
       "            .progress-bar-interrupted, .progress-bar-interrupted::-webkit-progress-bar {\n",
       "                background: #F44336;\n",
       "            }\n",
       "        </style>\n",
       "      <progress value='171' class='' max='84000' style='width:300px; height:20px; vertical-align: middle;'></progress>\n",
       "      0.20% [171/84000 00:00<00:24 Sampling 4 chains, 0 divergences]\n",
       "    </div>\n",
       "    "
      ],
      "text/plain": [
       "<IPython.core.display.HTML object>"
      ]
     },
     "metadata": {},
     "output_type": "display_data"
    }
   ],
   "source": [
    "# Let's formulate the model in pymc. \n",
    "# We will use uniform priors uniformes for p_A & p_B (the thetas)\n",
    "with pm.Model() as model:\n",
    "    \n",
    "    #Priors\n",
    "    p_A = pm.Beta(\"p_A\", 1, 1) #Beta(1,1) uniform in the range 0,1\n",
    "    p_B = pm.Beta(\"p_B\", 1, 1)\n",
    "    \n",
    "    #Key variable: the difference in proportions.\n",
    "    delta = pm.Deterministic(\"delta\", p_A - p_B)\n",
    "\n",
    "    # Likelihood. We assume both sampling sites are independent.\n",
    "    obs_A = pm.Bernoulli(\"obs_A\", p_A, observed=datos_A)\n",
    "    obs_B = pm.Bernoulli(\"obs_B\", p_B, observed=datos_B)\n",
    "\n",
    "    # Sampling algorithm\n",
    "    step = pm.Metropolis() #Algorithm type.\n",
    "    nsamples = 20000\n",
    "    trace = pm.sample(nsamples, step=step)\n",
    "    burned_trace=trace[1000:] #burn-in; important for Metropolis"
   ]
  },
  {
   "cell_type": "code",
   "execution_count": null,
   "metadata": {
    "slideshow": {
     "slide_type": "subslide"
    }
   },
   "outputs": [],
   "source": [
    "#Ahora grafiquemos\n",
    "p_A_samples = burned_trace[\"p_A\"]\n",
    "p_B_samples = burned_trace[\"p_B\"]\n",
    "delta_samples = burned_trace[\"delta\"]\n",
    "data = az.from_pymc3(trace=burned_trace, model=model)\n",
    "\n",
    "#Convergencia\n",
    "az.plot_trace(data, figsize = [10,7]);\n",
    "plt.savefig(\"img/4_CB/trace_proporcion.svg\"); plt.close()\n",
    "\n",
    "#Densidades \n",
    "az.plot_density(\n",
    "    [p_A_samples,p_B_samples,delta_samples],\n",
    "    data_labels = ['Proporción A', 'Proporción B', 'Diferencia'],\n",
    "    shade=.2, colors = ['green','red','blue'] ,hdi_prob=.95, \n",
    ")\n",
    "plt.vlines(true_p_A, 0, 80, linestyle=\"--\", \n",
    "           label=\"Verdadero $p_A$ (desconocido)\", color ='green')\n",
    "plt.vlines(true_p_B, 0, 80, linestyle=\"--\", \n",
    "           label=\"Verdadero $p_B$ (desconocido)\", color ='red')\n",
    "plt.vlines(true_p_A-true_p_B, 0, 80, linestyle=\"--\", \n",
    "           label=\"Verdadero $\\delta$ (desconocido)\", color ='blue')\n",
    "plt.legend()\n",
    "plt.title('')\n",
    "plt.savefig(\"img/4_CB/density_proporcion.svg\"); plt.close()"
   ]
  },
  {
   "cell_type": "markdown",
   "metadata": {
    "slideshow": {
     "slide_type": "subslide"
    }
   },
   "source": [
    "Convergencia\n",
    "<center><img src=\"img/4_CB/trace_proporcion.svg\" width = \"600\" height = '600'></center>"
   ]
  },
  {
   "cell_type": "markdown",
   "metadata": {
    "slideshow": {
     "slide_type": "subslide"
    }
   },
   "source": [
    "Densidades (todas las cadenas)\n",
    "<center><img src=\"img/4_CB/density_proporcion.svg\" width = \"450\" height = '450'></center>\n",
    "\n",
    "¿Por qué es más \"gorda\" la distribución de B? ¿Por qué tenemos menos certeza? ¿Qué tiene que ver los datos?"
   ]
  },
  {
   "cell_type": "code",
   "execution_count": null,
   "metadata": {
    "slideshow": {
     "slide_type": "subslide"
    }
   },
   "outputs": [],
   "source": [
    "# El área bajo la curva <0 es la probabilidad\n",
    "# que el sitio A tenga una menor proporción que\n",
    "# el sitio B.\n",
    "print(\"Probabilidad proporcion A menor a B: %.3f\" % \\\n",
    "    np.mean(delta_samples < 0))\n",
    "\n",
    "print(\"Probabilidad proporcion A mayor a B: %.3f\" % \\\n",
    "    np.mean(delta_samples > 0))"
   ]
  },
  {
   "cell_type": "markdown",
   "metadata": {
    "slideshow": {
     "slide_type": "fragment"
    }
   },
   "source": [
    "¿Son esas probabilidades suficientes para decidir? Debatir"
   ]
  },
  {
   "cell_type": "markdown",
   "metadata": {
    "slideshow": {
     "slide_type": "subslide"
    }
   },
   "source": [
    "Acabamos de comparar dos proporciones con técnicas bayesianas.\n",
    "\n",
    "El tamaño muestral se incluye automaticamente en el análisis: menor certeza para $p_B$.\n",
    "\n",
    "Podemos hacer las preguntas que queramos de las muestras e.g. moda, areas bajo la curva, etc."
   ]
  },
  {
   "cell_type": "markdown",
   "metadata": {
    "slideshow": {
     "slide_type": "slide"
    }
   },
   "source": [
    "## Otro ejemplo binario: mentiras\n",
    "\n",
    "Situación: un investigador le interesa la tasa de trampa en una universidad\n",
    "\n",
    "Solución 1: \n",
    "* preguntar a los estudiantes un si o un no (método directo)\n",
    "    * problema: privacidad, desconfianza en promesa de no castigo.\n"
   ]
  },
  {
   "cell_type": "markdown",
   "metadata": {
    "slideshow": {
     "slide_type": "subslide"
    }
   },
   "source": [
    "Solución 2: \n",
    "* lanzar moneda en privado. \n",
    "    * Si cae cara, escriba la verdad. \n",
    "    * Si cae sello vuelva lanzar. Escriba:\n",
    "        * \"sí hago trampa\" si cae cara, \n",
    "        * \"no hago trampa\" si cae sello.\n",
    "\n",
    "Es privado. El experimentador no sabe la fuente de las respuestas. Pueden ser la verdad o el resultado del segundo lanzamiento.\n"
   ]
  },
  {
   "cell_type": "markdown",
   "metadata": {
    "slideshow": {
     "slide_type": "subslide"
    }
   },
   "source": [
    "¿Qué distribución podemos usar para data binaria? Binomial\n",
    "\n",
    "$$P( X = k| p, N) =  {{N}\\choose{k}}  p^k(1-p)^{N-k}$$\n",
    "\n",
    "k: éxitos <br>\n",
    "N: intentos <br>\n",
    "p: probabilidad éxito\n",
    "\n",
    "En lenguaje natural: <br>\n",
    "Si conozco la probabilidad del evento (cara) y el número de intentos (veces que se lanza la moneda), sé la probabilidad de número de éxitos."
   ]
  },
  {
   "cell_type": "markdown",
   "metadata": {
    "slideshow": {
     "slide_type": "subslide"
    }
   },
   "source": [
    "¡A modelar!\n",
    "\n",
    "<center><img src=\"img/4_CB/model_trampa.svg\" width = \"750\" height = '750'></center>\n"
   ]
  },
  {
   "cell_type": "code",
   "execution_count": null,
   "metadata": {
    "slideshow": {
     "slide_type": "subslide"
    }
   },
   "outputs": [],
   "source": [
    "prob_cara = 0.5\n",
    "prob_sello = 1-prob_cara\n",
    "with pm.Model() as model:\n",
    "    prob_trampa = pm.Uniform(\"prob_trampa\", 0, 1) #Prior uniforme \n",
    "    prop_trampo = pm.Deterministic(\n",
    "        \"prop_tramposos\", \n",
    "        prob_cara*prob_trampa + prob_sello*prob_cara\n",
    "    )"
   ]
  },
  {
   "cell_type": "markdown",
   "metadata": {
    "slideshow": {
     "slide_type": "subslide"
    }
   },
   "source": [
    "Ahora, definamos un likelihood binomial para la data."
   ]
  },
  {
   "cell_type": "code",
   "execution_count": null,
   "metadata": {},
   "outputs": [],
   "source": [
    "# Data\n",
    "N = 100 #Número de estudiantes\n",
    "trampo = 35 #Número de reportes que dicen hacer trampa\n",
    "with model:\n",
    "    tramposos = pm.Binomial(\"obs\", N, prop_trampo, \n",
    "                            observed=trampo)\n",
    "\n",
    "# Ya podemos samplear\n",
    "with model:\n",
    "    step = pm.Metropolis(vars=[prob_trampa])\n",
    "    trace = pm.sample(40000, step=step)\n",
    "    burned_trace = trace[15000:]"
   ]
  },
  {
   "cell_type": "code",
   "execution_count": null,
   "metadata": {
    "scrolled": true,
    "slideshow": {
     "slide_type": "subslide"
    }
   },
   "outputs": [],
   "source": [
    "p_trace = burned_trace[\"prob_trampa\"]\n",
    "plt.hist(p_trace, histtype=\"stepfilled\", alpha=0.75, bins=30, \n",
    "         label=\"posterior distribution\", color=\"#348ABD\")\n",
    "plt.vlines([.05, .35], [0, 0], [10000, 10000], alpha=0.35)\n",
    "plt.xlim(-0.05, 1)\n",
    "plt.legend(); "
   ]
  },
  {
   "cell_type": "markdown",
   "metadata": {
    "slideshow": {
     "slide_type": "slide"
    }
   },
   "source": [
    "## TIP\n",
    "\n",
    "Podemos crear un modelo con muchas variables con un for loop. Hay que inicializar un array con tipo de dato `objeto`"
   ]
  },
  {
   "cell_type": "code",
   "execution_count": null,
   "metadata": {},
   "outputs": [],
   "source": [
    "N = 10\n",
    "x = np.ones(N, dtype=object)\n",
    "with pm.Model() as model:\n",
    "    for i in range(0, N):\n",
    "        x[i] = pm.Exponential('x_%i' % i, (i+1.0)**2)"
   ]
  },
  {
   "cell_type": "markdown",
   "metadata": {
    "slideshow": {
     "slide_type": "slide"
    }
   },
   "source": [
    "## Otro ejemplo: desastre del challenger\n",
    "\n",
    "<center><img src=\"img/4_CB/challenger.jpg\" width = \"450\" height = '450'></center>"
   ]
  },
  {
   "cell_type": "markdown",
   "metadata": {
    "slideshow": {
     "slide_type": "subslide"
    }
   },
   "source": [
    "Potencial razón: \n",
    "\n",
    "Daño de un anillo en una conexión de uno de los impulsores de un cohete (i.e. se daño una pieza)"
   ]
  },
  {
   "cell_type": "code",
   "execution_count": null,
   "metadata": {
    "slideshow": {
     "slide_type": "subslide"
    }
   },
   "outputs": [],
   "source": [
    "#Cargar data\n",
    "#Filas: 23 vuelos previos. \n",
    "#Col 1: temperatura externa (fahrenheit); \n",
    "#Col 2: falla de anillo (0 no, 1 si)\n",
    "np.set_printoptions(precision=3, suppress=True)\n",
    "challenger_data = np.genfromtxt(\"data/4_CB/challenger_data.csv\", \n",
    "                                skip_header=1,\n",
    "                                usecols=[1, 2], missing_values=\"NA\",\n",
    "                                delimiter=\",\")\n",
    "#drop the NA values\n",
    "challenger_data = challenger_data[~np.isnan(challenger_data[:, 1])]"
   ]
  },
  {
   "cell_type": "code",
   "execution_count": null,
   "metadata": {
    "slideshow": {
     "slide_type": "skip"
    }
   },
   "outputs": [],
   "source": [
    "#Visualizar data\n",
    "fig = plt.figure(figsize = (6,6))\n",
    "plt.scatter(challenger_data[:, 0], challenger_data[:, 1], s=75, color=\"k\",\n",
    "            alpha=0.5)\n",
    "plt.yticks([0, 1])\n",
    "plt.ylabel(\"¿Daño en anillo? \\n (0: no; 1: si)\", fontsize = 18)\n",
    "plt.xlabel(\"Temperatura Externa (Fahrenheit)\", fontsize = 18)\n",
    "plt.title(\"Defectos en anillos vs temperatura\", fontsize = 22);\n",
    "fig.savefig('img/4_CB/challenger1.svg')\n",
    "plt.close()"
   ]
  },
  {
   "cell_type": "markdown",
   "metadata": {
    "slideshow": {
     "slide_type": "subslide"
    }
   },
   "source": [
    "¿Qué relación vemos entre temperatura ambiental y daño del anillo?\n",
    "\n",
    "<center><img src=\"img/4_CB/challenger1.svg\" width = \"400\" height = '400'></center>"
   ]
  },
  {
   "cell_type": "markdown",
   "metadata": {
    "slideshow": {
     "slide_type": "subslide"
    }
   },
   "source": [
    "Podemos modelar variables binarias con la función logística\n",
    "$$ p(t) = \\frac{1}{1+e^{\\beta t + \\alpha}}$$\n",
    "\n",
    "<center><img src=\"img/4_CB/logistic.svg\" width = \"500\" height = '500'></center>"
   ]
  },
  {
   "cell_type": "markdown",
   "metadata": {
    "slideshow": {
     "slide_type": "subslide"
    }
   },
   "source": [
    "Este es el modelo bayesiano\n",
    "\n",
    "<center><img src=\"img/4_CB/model_challenger.svg\" width = \"600\" height = '600'></center>"
   ]
  },
  {
   "cell_type": "code",
   "execution_count": null,
   "metadata": {
    "slideshow": {
     "slide_type": "subslide"
    }
   },
   "outputs": [],
   "source": [
    "temperature = challenger_data[:, 0]\n",
    "D = challenger_data[:, 1]  # defecto (0 no, 1 si)\n",
    "\n",
    "with pm.Model() as model:\n",
    "    #Caveat computacional: beta y alpha empiezan en cero para evitar \n",
    "    # que p se vaya a las esquinas 0 o 1 desde el comienzo\n",
    "    \n",
    "    beta = pm.Normal(\"beta\", mu=0, tau=0.001, testval=0) \n",
    "    alpha = pm.Normal(\"alpha\", mu=0, tau=0.001, testval=0)\n",
    "    p = pm.Deterministic(\"p\", \n",
    "                         1.0/(1. + tt.exp(beta*temperature + alpha)))   \n",
    "    defecto = pm.Bernoulli(\"defecto\", p, observed=D)\n",
    "    \n",
    "    # Sampleo\n",
    "    start = pm.find_MAP() #Max. a posteriori con valores iniciales\n",
    "    step = pm.Metropolis()\n",
    "    trace = pm.sample(120000, step=step, start=start)\n",
    "    burned_trace = trace[100000::2]"
   ]
  },
  {
   "cell_type": "code",
   "execution_count": null,
   "metadata": {
    "slideshow": {
     "slide_type": "skip"
    }
   },
   "outputs": [],
   "source": [
    "beta_samples = burned_trace[\"beta\"]\n",
    "alpha_samples = burned_trace[\"alpha\"]\n",
    "data = az.from_pymc3(trace=burned_trace, model=model)\n",
    "\n",
    "#Convergencia\n",
    "az.plot_trace(data, figsize = [10,7], var_names=('beta','alpha'));\n",
    "plt.savefig(\"img/4_CB/trace_challenger.svg\"); plt.close()\n",
    "\n",
    "#Densidades\n",
    "fig, ax = plt.subplots(1,2, figsize=(10,5))\n",
    "az.plot_density(\n",
    "    [beta_samples], ax = ax[0],\n",
    "    shade=.2, colors = ['green'], hdi_prob=.95, \n",
    ")\n",
    "az.plot_density(\n",
    "    [alpha_samples], ax = ax[1],\n",
    "    shade=.2, colors = ['red'] ,hdi_prob=.95, \n",
    ")\n",
    "ax[0].set_title(r'$\\beta$', fontsize = 25)\n",
    "ax[1].set_title(r'$\\alpha$', fontsize = 25)\n",
    "fig.savefig(\"img/4_CB/density_challenger.svg\"); plt.close()"
   ]
  },
  {
   "cell_type": "markdown",
   "metadata": {
    "slideshow": {
     "slide_type": "subslide"
    }
   },
   "source": [
    "El modelo combina relativamente bien\n",
    "\n",
    "<center><img src=\"img/4_CB/trace_challenger.svg\" width = \"600\" height = '600'></center>"
   ]
  },
  {
   "cell_type": "markdown",
   "metadata": {
    "slideshow": {
     "slide_type": "subslide"
    }
   },
   "source": [
    "Notable que $\\beta$, la importancia de la temperatura, no incluya cero. La temperatura sí jugó un rol.\n",
    "\n",
    "<center><img src=\"img/4_CB/density_challenger.svg\" width = \"700\" height = '700'></center>"
   ]
  },
  {
   "cell_type": "code",
   "execution_count": null,
   "metadata": {
    "slideshow": {
     "slide_type": "subslide"
    }
   },
   "outputs": [],
   "source": [
    "Con las posterior podemos obtener valores de p"
   ]
  },
  {
   "cell_type": "code",
   "execution_count": null,
   "metadata": {},
   "outputs": [],
   "source": [
    "def logistic(x, beta, alpha=0):\n",
    "    return 1.0 / (1.0 + np.exp(np.dot(beta, x) + alpha))\n",
    "\n",
    "t = np.linspace(temperature.min() - 5, \n",
    "                temperature.max()+5, 50)[:, None] #[:, None] lo vuelve 1D\n",
    "\n",
    "p_t = logistic(t.T, beta_samples[:, None], \n",
    "               alpha_samples[:, None])\n",
    "mean_prob_t = p_t.mean(axis=0)"
   ]
  },
  {
   "cell_type": "code",
   "execution_count": null,
   "metadata": {
    "slideshow": {
     "slide_type": "skip"
    }
   },
   "outputs": [],
   "source": [
    "fig = plt.figure(figsize = (7,5))\n",
    "plt.plot(t, mean_prob_t, lw=3, \n",
    "         label=\"Promedio posterior\")\n",
    "plt.plot(t, p_t[0, :], ls=\"--\", \n",
    "         label=\"Ejemplo del posterior\")\n",
    "plt.plot(t, p_t[-2, :], ls=\"--\", \n",
    "         label=\"Ejemplo del posterior\")\n",
    "plt.scatter(temperature, D, color=\"k\", s=50, alpha=0.5, label = 'Data')\n",
    "plt.title(\"Posterior de prob. de defecto\", fontsize = 18)\n",
    "plt.legend(loc=\"lower left\")\n",
    "plt.ylim(-0.1, 1.1)\n",
    "plt.xlim(t.min(), t.max())\n",
    "plt.ylabel(\"Probabilidad\", fontsize = 15)\n",
    "plt.xlabel(\"Temperatura\", fontsize = 15);\n",
    "fig.savefig('img/4_CB/challenger_p.svg')\n",
    "plt.close();"
   ]
  },
  {
   "cell_type": "markdown",
   "metadata": {
    "slideshow": {
     "slide_type": "subslide"
    }
   },
   "source": [
    "Posterior: promedio y algunos ejemplos. Generamos muchas versiones de la hipótesis logística.\n",
    "<center><img src=\"img/4_CB/challenger_p.svg\" width = \"551\" height = '550'></center>"
   ]
  },
  {
   "cell_type": "markdown",
   "metadata": {
    "slideshow": {
     "slide_type": "subslide"
    }
   },
   "source": [
    "Podemos incluso generar intervalos de certidumbre"
   ]
  },
  {
   "cell_type": "code",
   "execution_count": null,
   "metadata": {},
   "outputs": [],
   "source": [
    "#95 HDI\n",
    "qs = mquantiles(p_t, [0.025, 0.975], axis=0) "
   ]
  },
  {
   "cell_type": "code",
   "execution_count": null,
   "metadata": {
    "slideshow": {
     "slide_type": "skip"
    }
   },
   "outputs": [],
   "source": [
    "fig = plt.figure(figsize = (7,5))\n",
    "plt.fill_between(t[:, 0], *qs, alpha=0.4,\n",
    "                 color=\"#7A68A6\")\n",
    "plt.plot(t[:, 0], qs[0], label=\"95% HDI\", color=\"#7A68A6\", alpha=0.4)\n",
    "plt.plot(t, mean_prob_t, lw=1, ls=\"--\", color=\"k\",\n",
    "         label=\"Promedio posterior\")\n",
    "plt.xlim(t.min(), t.max())\n",
    "plt.ylim(-0.02, 1.02)\n",
    "plt.scatter(temperature, D, color=\"k\", s=50, alpha=0.5, label='Data')\n",
    "plt.xlabel(\"Temperatura\", fontsize = 15)\n",
    "plt.ylabel(\"Probabilidad\", fontsize = 15)\n",
    "plt.title(\"Posterior de prob. de defecto\", fontsize = 18);\n",
    "plt.legend(loc=\"lower left\")\n",
    "fig.savefig('img/4_CB/challenger_p95.svg')\n",
    "plt.close();"
   ]
  },
  {
   "cell_type": "markdown",
   "metadata": {
    "slideshow": {
     "slide_type": "subslide"
    }
   },
   "source": [
    "Podemos saber donde tenemos más incertidumbre: temperaturas entre 50 y 70. Enfocarnos en recoger datos en esa zonas.\n",
    "<center><img src=\"img/4_CB/challenger_p95.svg\" width = \"551\" height = '550'></center>"
   ]
  },
  {
   "cell_type": "markdown",
   "metadata": {
    "slideshow": {
     "slide_type": "subslide"
    }
   },
   "source": [
    "Podemos poner probabilidades para la temperatura que hizo el día del desastre: 31 Fahrenheit"
   ]
  },
  {
   "cell_type": "code",
   "execution_count": null,
   "metadata": {},
   "outputs": [],
   "source": [
    "prob_31 = logistic(31, beta_samples, alpha_samples)"
   ]
  },
  {
   "cell_type": "code",
   "execution_count": null,
   "metadata": {
    "slideshow": {
     "slide_type": "skip"
    }
   },
   "outputs": [],
   "source": [
    "fig, ax = plt.subplots(1,1, figsize=(5,5))\n",
    "az.plot_density(\n",
    "    [prob_31], ax = ax,\n",
    "    shade=.2, colors = ['purple'], hdi_prob=.95, \n",
    ")\n",
    "ax.set_xlim(0.997, 1)\n",
    "ax.set_title(r\"Probabilidad de defecto en el anillo O, dado $t = 31$ Fahrenheit\",\n",
    "            fontsize = 18)\n",
    "ax.set_xlabel(\"Probabilidad\",fontsize = 15);\n",
    "fig.savefig(\"img/4_CB/challenger_p_dia.svg\")\n",
    "plt.close()"
   ]
  },
  {
   "cell_type": "markdown",
   "metadata": {},
   "source": [
    "<center><img src=\"img/4_CB/challenger_p_dia.svg\" width = \"400\" height = '400'></center>"
   ]
  },
  {
   "cell_type": "markdown",
   "metadata": {
    "slideshow": {
     "slide_type": "slide"
    }
   },
   "source": [
    "# En resumen ...\n",
    "\n",
    "Usamos PyMC para tomar muestras.\n",
    "\n",
    "La sintaxis básica es \n",
    "\n",
    "with pm.Model() as ELNOMBREQUEQUIERA: <br>\n",
    "&nbsp;&nbsp;&nbsp;&nbsp;&nbsp;&nbsp;&nbsp;&nbsp;&nbsp; distribuciones y sampleador"
   ]
  },
  {
   "cell_type": "markdown",
   "metadata": {
    "slideshow": {
     "slide_type": "slide"
    }
   },
   "source": [
    "### Ejercicios\n",
    "\n",
    "1\\. Ponga valores extremos para el ejemplo de trampas. ¿Qué pasa si observamos 25 respuestas afirmativas? ¿10?¿50? Escriba una interpretación.\n",
    "\n",
    "2\\. Cambie la moneda en el ejemplo de trampas. Escriba una interpretación.\n",
    "\n",
    "3\\. Cambie los priors, que no sea uniforme, en el ejemplo de trampas. Escriba una interpretación.\n",
    "\n",
    "4\\. Gráfique $\\alpha$ contra $\\beta$ del ejemplo de challenger ¿Qué significa, cómo la interpreta?\n"
   ]
  },
  {
   "cell_type": "code",
   "execution_count": null,
   "metadata": {
    "slideshow": {
     "slide_type": "skip"
    }
   },
   "outputs": [],
   "source": [
    "!jupyter nbconvert --to slides --SlidesExporter.reveal_theme='solarized' --SlidesExporter.reveal_transition='none' --SlidesExporter.reveal_scroll=True 4_Comp_2.ipynb #Saves slide"
   ]
  },
  {
   "cell_type": "markdown",
   "metadata": {
    "slideshow": {
     "slide_type": "skip"
    }
   },
   "source": [
    "\n",
    "Para salvar las diapositivas a PDF (en Chrome), correr nbconvert para que abra las diapositivas en un servidor local (la transition y el theme son opcionales):\n",
    "\n",
    "!jupyter nbconvert --to slides --SlidesExporter.reveal_theme='solarized' --SlidesExporter.reveal_transition='convex' nombre_de_mi_notebook.ipynb --post serve\n",
    "\n",
    "Luego, a la dirección añadirle ?print-pdf después del .html:\n",
    "\n",
    "http://127.0.0.1:8000/nombre_de_mi_notebook.slides.html?print-pdf\n",
    "\n",
    "Y luego, imprimir y darle salvar como pdf"
   ]
  },
  {
   "cell_type": "code",
   "execution_count": null,
   "metadata": {
    "slideshow": {
     "slide_type": "skip"
    }
   },
   "outputs": [],
   "source": [
    "#Para salvar a pdf\n",
    "!jupyter nbconvert --to slides --SlidesExporter.reveal_theme='solarized' --SlidesExporter.reveal_transition='none' 4_Comp_2.ipynb --post serve\n"
   ]
  },
  {
   "cell_type": "markdown",
   "metadata": {
    "slideshow": {
     "slide_type": "skip"
    }
   },
   "source": [
    "# Anexos"
   ]
  },
  {
   "cell_type": "code",
   "execution_count": null,
   "metadata": {
    "slideshow": {
     "slide_type": "skip"
    }
   },
   "outputs": [],
   "source": [
    "#Memoria\n",
    "dot_text = 'digraph G {rankdir=LR; compound=true; newrank=true; labelloc=\"t\";label=\"Caída Exponencial de la Memoria\";\\\n",
    "           /* general properties*/\\\n",
    "           node [margin=0, fixedsize=true, shape=circle, width=0.7, lblstyle=\"font=\\\\small\"];\\\n",
    "           alpha -> theta;\\\n",
    "           beta -> theta;\\\n",
    "           n -> k;\\\n",
    "           subgraph cluster0{margin = 10; labeljust=l; lblstyle=\"font=\\\\small\";\\\n",
    "             label = \" \"; label = \"$Tiempo para recordar_j$\";\\\n",
    "             style = rounded;\\\n",
    "             t -> theta;\\\n",
    "             theta -> k ;\\\n",
    "             subgraph cluster1{labelloc = b\\\n",
    "                label = \" \"; label = \"$Persona_i$\"; labeljust=l;\\\n",
    "                k;\\\n",
    "              }\\\n",
    "           }\\\n",
    "           { rank=same; t; theta};\\\n",
    "           { rank=same; n; k};\\\n",
    "           /* nodes */\\\n",
    "           alpha[label=\"$alpha$\", lblstyle=\"font=\\\\large\"];\\\n",
    "           beta[label=\"$beta$\", lblstyle=\"font=\\\\large\"];\\\n",
    "           theta[peripheries=2, label=\"$Mem_j$\"];\\\n",
    "           t[label=\"$t_j$\", fillcolor=gray, style=filled];\\\n",
    "           k[shape=square, label=\"$Rec_{i,j}$\", fillcolor=gray,style=filled];\\\n",
    "           n[shape=square, label=\"$Items_n$\",fillcolor=gray,style=filled];\\\n",
    "           }' #warning: use single quote at start and end; double quotes for labels\n",
    "\n",
    "s = Source(dot_text, filename=\"img/4_CB/model_mem.gv\", format=\"svg\") #THIS IS NOT THE FINAL ONE\n",
    "s.view()\n",
    "\n",
    "#To typeset latex stuff on the image: \n",
    "#1) open svg in inkscape and write latex formulas. Export as pdf (click the one that says latex)\n",
    "#   to change fontsize of latex in inkscape write before the expression: \n",
    "#        \\fontsize{25pt}{1em} $latex expression$ ... change #pt for size\n",
    "#2) go to overleaf or latex editor of choice and do this (https://castel.dev/post/lecture-notes-2/):\n",
    "#   2.1) In the preamble:\n",
    "#  \\usepackage{import}\n",
    "#  \\usepackage{xifthen}\n",
    "#  \\usepackage{pdfpages}\n",
    "#  \\usepackage{transparent}\n",
    "#  \\usepackage{graphics} \n",
    "#  \\usepackage{bigints}\n",
    "\n",
    "#  \\newcommand{\\incfig}[1]{%\n",
    "#      \\def\\svgwidth{\\columnwidth}\n",
    "#      \\import{./figures/}{#1.pdf_tex} %PUT the inkscape .pdf_tex AND .pdf in a local folder called figures\n",
    "#  }\n",
    "#   2.2)In the body:\n",
    "#  \\begin{figure}[ht]\n",
    "#      \\centering\n",
    "#      \\scalebox{.65}{\\incfig{your_inkscape.pdf_tex}} #change scalebox proportion to rescale\n",
    "#      \\caption{Riemmans theorem}\n",
    "#      \\label{fig:riemmans-theorem}\n",
    "#  \\end{figure}\n"
   ]
  },
  {
   "cell_type": "code",
   "execution_count": null,
   "metadata": {
    "slideshow": {
     "slide_type": "skip"
    }
   },
   "outputs": [],
   "source": [
    "#Msjs texto \n",
    "dot_text = 'digraph G {rankdir=LR; compound=true; newrank=true; labelloc=\"t\";\\\n",
    "           label=\"Mensajes de Texto por Día\";\\\n",
    "           /* general properties*/\\\n",
    "           node [margin=0, fixedsize=true, shape=circle, width=0.7, lblstyle=\"font=\\\\small\"];\\\n",
    "           alpha -> lambda_a;\\\n",
    "           alpha -> lambda_b;\\\n",
    "           lambda_a -> lambda;\\\n",
    "           lambda_b -> lambda;\\\n",
    "           tau -> lambda;\\\n",
    "           subgraph cluster0{style = rounded; labeljust=l;\\\n",
    "             label = \"$d Días$\";\\\n",
    "             lambda -> dias;\\\n",
    "           }\\\n",
    "           /* nodes */\\\n",
    "           alpha [label = \"$alpha$\"];\\\n",
    "           lambda_a [label = \"$lambda_a$\"];\\\n",
    "           lambda_b [label = \"$lambda_b$\"];\\\n",
    "           lambda [label = \"$lambda_{d}$\", peripheries = 2];\\\n",
    "           tau [label = \"$tau$\", shape = square];\\\n",
    "           dias [label = \"$Conteo_{d}$\", width=1, shape = square, style = filled, fillcolor = gray];\\\n",
    "           }' #warning: use single quote at start and end; double quotes for labels\n",
    "s = Source(dot_text, filename=\"img/4_CB/model_msj.gv\", format=\"svg\") #THIS IS NOT THE FINAL ONE\n",
    "s.view()\n",
    "#\\fontsize{25pt}{1em} "
   ]
  },
  {
   "cell_type": "code",
   "execution_count": null,
   "metadata": {
    "slideshow": {
     "slide_type": "skip"
    }
   },
   "outputs": [],
   "source": [
    "fig  = plt.figure(figsize = [12.5,5.5])\n",
    "count_data = np.loadtxt(\"data/4_CB/txtdata.csv\")\n",
    "n_count_data = len(count_data)\n",
    "plt.bar(np.arange(n_count_data), count_data, color=\"#348ABD\")\n",
    "plt.xlabel(\"Tiempo (días)\", fontsize = 15)\n",
    "plt.ylabel(\"Mensajes de texto recibidos\", fontsize = 15)\n",
    "plt.title(\"¿Cambiaron los hábitos de texteo?\", fontsize = 20)\n",
    "plt.xlim(0, n_count_data);\n",
    "fig.savefig(\"img/4_CB/mstxt.svg\")\n",
    "plt.close()"
   ]
  },
  {
   "cell_type": "code",
   "execution_count": null,
   "metadata": {
    "slideshow": {
     "slide_type": "skip"
    }
   },
   "outputs": [],
   "source": [
    "# Visualización distribución Poisson\n",
    "lambdda = 25\n",
    "fig, ax = plt.subplots(1, 1)\n",
    "x = np.arange(st.poisson.ppf(0.01, lambdda), st.poisson.ppf(0.99, lambdda))\n",
    "ax.plot(x, st.poisson.pmf(x, lambdda), 'bo', ms=8, label='poisson pmf')\n",
    "ax.vlines(x, 0, st.poisson.pmf(x, lambdda), colors='b', lw=5, alpha=0.5)\n",
    "ax.set_xlabel('Conteo', fontsize = 15);\n",
    "fig.savefig(\"img/4_CB/poisson.svg\")\n",
    "plt.close()"
   ]
  },
  {
   "cell_type": "code",
   "execution_count": null,
   "metadata": {
    "slideshow": {
     "slide_type": "skip"
    }
   },
   "outputs": [],
   "source": [
    "fig, ax = plt.subplots(1, 1)\n",
    "count_data = np.loadtxt(\"data/4_CB/txtdata.csv\")\n",
    "rate =  1 / (1/count_data.mean())\n",
    "x = np.linspace(st.expon.ppf(0.01, scale = rate), st.expon.ppf(0.99, scale = rate), 100)\n",
    "ax.plot(x, st.expon.pdf(x, scale = rate),'r-', lw=5, alpha=0.6, \n",
    "        label='Exponential; rate = ' + str(round(rate,2)))\n",
    "ax.set_xlabel('Parámetro Poisson', fontsize = 15);\n",
    "ax.set_ylabel('PDF', fontsize = 15);\n",
    "ax.legend()\n",
    "fig.savefig(\"img/4_CB/exp.svg\")"
   ]
  },
  {
   "cell_type": "code",
   "execution_count": null,
   "metadata": {
    "slideshow": {
     "slide_type": "skip"
    }
   },
   "outputs": [],
   "source": [
    "#A/B testing\n",
    "dot_text = 'digraph G {rankdir=TB; compound=true; newrank=true; labelloc=\"t\";\\\n",
    "           label=\"A/B testing\";\\\n",
    "           /* general properties*/\\\n",
    "           node [margin=0, fixedsize=true, shape=circle, width=0.5];\\\n",
    "           theta_1 -> k_1;\\\n",
    "           n_1 -> k_1;\\\n",
    "           theta_2 -> k_2;\\\n",
    "           n_2 -> k_2;\\\n",
    "           theta_1->delta;\\\n",
    "           theta_2->delta;\\\n",
    "           /* nodes */\\\n",
    "           delta [label = \"$delta$\", peripheries = 2];\\\n",
    "           theta_1 [label = \"$theta_1$\"];\\\n",
    "           theta_2 [label = \"$theta_2$\"];\\\n",
    "           k_1 [label = \"$k_{1}$\", shape = square, style = filled, fillcolor = gray];\\\n",
    "           k_2 [label = \"$k_{2}$\", shape = square, style = filled, fillcolor = gray];\\\n",
    "           n_1 [label = \"$n_{1}$\", shape = square, style = filled, fillcolor = gray];\\\n",
    "           n_2 [label = \"$n_{2}$\", shape = square, style = filled, fillcolor = gray];\\\n",
    "           }' #warning: use single quote at start and end; double quotes for labels\n",
    "s = Source(dot_text, filename=\"img/4_CB/model_ab.gv\", format=\"svg\") #THIS IS NOT THE FINAL ONE\n",
    "s.view()\n",
    "#\\fontsize{25pt}{1em} \n"
   ]
  },
  {
   "cell_type": "code",
   "execution_count": null,
   "metadata": {
    "slideshow": {
     "slide_type": "skip"
    }
   },
   "outputs": [],
   "source": [
    "#Tramposos\n",
    "dot_text = 'digraph G {rankdir=TB; compound=true; newrank=true; labelloc=\"t\";\\\n",
    "           label=\"Tramposos\";\\\n",
    "           /* general properties*/\\\n",
    "           node [margin=0, fixedsize=true, shape=circle, width=0.7];\\\n",
    "           p_trampa -> p_obt;\\\n",
    "           p_obt -> X;\\\n",
    "           N -> X;\\\n",
    "           p_trampa [label = \"$Prob_{trampa}$\"];\\\n",
    "           p_obt [label = \"$Prop_{tramposos}$\", peripheries = 2, width=0.9];\\\n",
    "           X [label = \"$Tramposos$\", shape = square, width=0.9,\\\n",
    "                 style = filled, fillcolor = gray];\\\n",
    "           N [fillcolor = gray, style = filled, shape = square];\\\n",
    "           }' #warning: use single quote at start and end; double quotes for labels\n",
    "s = Source(dot_text, filename=\"img/4_CB/model_trampa.gv\", format=\"svg\") #THIS IS NOT THE FINAL ONE\n",
    "s.view()\n",
    "#\\fontsize{25pt}{1em} \n",
    "\n"
   ]
  },
  {
   "cell_type": "code",
   "execution_count": null,
   "metadata": {
    "slideshow": {
     "slide_type": "skip"
    }
   },
   "outputs": [],
   "source": [
    "#Gráfica logística\n",
    "def logistic(x, beta, alpha=0):\n",
    "    return 1.0 / (1.0 + np.exp(np.dot(beta, x) + alpha))\n",
    "\n",
    "x = np.linspace(-4, 4, 100)\n",
    "\n",
    "plt.plot(x, logistic(x, 1), label=r\"$\\beta = 1$\", ls=\"--\", lw=1)\n",
    "plt.plot(x, logistic(x, 3), label=r\"$\\beta = 3$\", ls=\"--\", lw=1)\n",
    "plt.plot(x, logistic(x, -5), label=r\"$\\beta = -5$\", ls=\"--\", lw=1)\n",
    "\n",
    "plt.plot(x, logistic(x, 1, 1), label=r\"$\\beta = 1, \\alpha = 1$\",\n",
    "         color=\"#348ABD\")\n",
    "plt.plot(x, logistic(x, 3, -2), label=r\"$\\beta = 3, \\alpha = -2$\",\n",
    "         color=\"#A60628\")\n",
    "plt.plot(x, logistic(x, -5, 7), label=r\"$\\beta = -5, \\alpha = 7$\",\n",
    "         color=\"#7A68A6\")\n",
    "\n",
    "plt.legend(loc=\"lower left\");\n",
    "plt.savefig('img/4_CB/logistic.svg');\n",
    "plt.close();"
   ]
  },
  {
   "cell_type": "code",
   "execution_count": null,
   "metadata": {
    "slideshow": {
     "slide_type": "skip"
    }
   },
   "outputs": [],
   "source": [
    "#Challenger\n",
    "dot_text = 'digraph G {rankdir=TB; compound=true; newrank=true; labelloc=\"t\";\\\n",
    "           label=\"Challenger\";\\\n",
    "           /* general properties*/\\\n",
    "           node [margin=0, fixedsize=true, shape=circle, width=0.6];\\\n",
    "           beta -> p;\\\n",
    "           alpha -> p;\\\n",
    "           temp->p;\\\n",
    "           p->obs;\\\n",
    "           /* nodes */\\\n",
    "           beta [label = \"$beta$\"];\\\n",
    "           alpha [label = \"$alpha$\"];\\\n",
    "           p [label = \"$p$\", peripheries = 2];\\\n",
    "           obs [label = \"Defecto\", shape = square, style = filled, fillcolor=gray];\\\n",
    "           temp [label = \"Clima\", style = filled, fillcolor=gray];\\\n",
    "           }' #warning: use single quote at start and end; double quotes for labels\n",
    "s = Source(dot_text, filename=\"img/4_CB/model_challenger.gv\", format=\"svg\") #THIS IS NOT THE FINAL ONE\n",
    "s.view()\n",
    "#\\fontsize{25pt}{1em} \n",
    "\n",
    "#beta_dist [texlbl = \"$\\\\beta \\sim  Normal(\\\\mu=0, \\\\sigma^2=1000)$\", shape = plaintext];\\\n",
    "#alpha_dist [texlbl = \"$\\\\alpha \\sim  Normal(\\\\mu=0, \\\\sigma^2=1000)$\", shape = plaintext];\\\n",
    "#obs_dist [texlbl = \"$Defecto \\sim Bernoulli(p)$\", shape = plaintext];\\\n",
    "#p_dist [texlbl = \"$p = \\\\frac{1}{1+e^{\\\\beta \\\\text{Clima} + \\\\alpha}}$\", shape = plaintext];\\\n"
   ]
  },
  {
   "cell_type": "code",
   "execution_count": null,
   "metadata": {
    "slideshow": {
     "slide_type": "skip"
    }
   },
   "outputs": [],
   "source": [
    "#NO BORRAR. FORMA ALTERNATIVA DE HACER DIAGRAMAS. PROBLEMA: dot2tex NO SIEMPRE ME SIRVE\n",
    "''' \n",
    "#Memoria\n",
    "dot_text = 'digraph G {rankdir=LR; compound=true; newrank=true; labelloc=\"t\";label=\"Caída Exponencial de la Memoria\";\\\n",
    "           /* general properties*/\\\n",
    "           node [margin=0, fixedsize=true, shape=circle, width=0.4, lblstyle=\"font=\\\\small\"];\\\n",
    "           k->placeholder[style = invis];\\\n",
    "           placeholder->alpha_dist[style = invis];\\\n",
    "           alpha_dist->beta_dist -> theta_dist -> k_dist[style = invis];\\\n",
    "           alpha -> theta;\\\n",
    "           beta -> theta;\\\n",
    "           n -> k;\\\n",
    "           subgraph cluster0{margin = 10; labeljust=l; lblstyle=\"font=\\\\small\";\\\n",
    "             label = \" \"; texlbl = \"$\\;\\;\\;\\;\\;\\;\\;\\;\\;\\;\\\\;\\;\\;\\;\\\\;\\;\\;\\;\\\n",
    "                                     \\;\\;\\;\\;\\;\\;\\;\\;\\;\\;\\;\\;\\;\\;\\;j$ Tiempo para recordar\";\\\n",
    "             style = rounded;\\\n",
    "             t -> theta;\\\n",
    "             theta -> k ;\\\n",
    "             subgraph cluster1{labelloc = b\\\n",
    "                label = \" \"; texlbl = \"$\\;\\;\\;\\;\\;\\;\\;\\;\\;\\;\\;\\; i$ Personas\";\\\n",
    "                k;\\\n",
    "              }\\\n",
    "           }\\\n",
    "           { rank=same; t; theta};\\\n",
    "           { rank=same; n; k};\\\n",
    "           { rank=same; alpha_dist; beta_dist; theta_dist; k_dist};\\\n",
    "           /* nodes */\\\n",
    "           placeholder[style=invis, shape = square, width = 0.1, margin = 0, label =\"\"];\\\n",
    "           alpha[texlbl=\"$\\\\alpha$\", lblstyle=\"font=\\\\large\"];\\\n",
    "           beta[texlbl=\"$\\\\beta$\", lblstyle=\"font=\\\\large\"];\\\n",
    "           theta[peripheries=2, texlbl=\"$Mem_j$\"];\\\n",
    "           t[texlbl=\"$t_j$\", fillcolor=gray, style=filled];\\\n",
    "           k[shape=square, texlbl=\"$Rec_{i,j}$\", fillcolor=gray,style=filled];\\\n",
    "           n[shape=square, texlbl=\"$Items_n$\",fillcolor=gray,style=filled];\\\n",
    "           alpha_dist[shape = plaintext, margin = 0, texlbl=\"$\\\\alpha \\\\sim Beta(1,1)$\", lblstyle=\"font=\\\\small\"];\\\n",
    "           beta_dist[shape = plaintext, margin = 0, texlbl=\"$\\\\beta \\\\sim Beta(1,1)$\",lblstyle=\"font=\\\\small\"];\\\n",
    "           theta_dist[shape = plaintext, margin = 0, texlbl=\"$Mem_j \\\\sim min\\\\left(1, e^{-\\\\alpha t_j} + \\\\beta\\\\right)$\", lblstyle=\"font=\\\\small\"];\\\n",
    "           k_dist[shape = plaintext, margin = 0, texlbl=\"$Rec_{i,j} \\\\sim Binomial(Mem_j,Items_n)$\", lblstyle=\"font=\\\\small\"];\\\n",
    "           }' #warning: use single quote at start and end; double quotes for labels\n",
    "\n",
    "\n",
    "tex = d2t.dot2tex(dot_text, format='tikz', preproc = True) #makes sure it looks good in tex\n",
    "tex = d2t.dot2tex(dot_text, texmode = 'verbatim', crop=True) #crop: the page size equal to the model\n",
    "diagram_tex = open('img/4_CB/model_mem.tex', 'w')\n",
    "diagram_tex.write(tex) \n",
    "diagram_tex.close()\n",
    "\n",
    "# this builds a pdf-file inside a directory\n",
    "pdf = build_pdf(tex)\n",
    "pdf.save_to('img/4_CB/model_mem.pdf') #convertir a svg y pulir/editar posiciones en inkscape\n",
    "'''"
   ]
  }
 ],
 "metadata": {
  "celltoolbar": "Slideshow",
  "kernelspec": {
   "display_name": "Python 3",
   "language": "python",
   "name": "python3"
  },
  "language_info": {
   "codemirror_mode": {
    "name": "ipython",
    "version": 3
   },
   "file_extension": ".py",
   "mimetype": "text/x-python",
   "name": "python",
   "nbconvert_exporter": "python",
   "pygments_lexer": "ipython3",
   "version": "3.8.5"
  },
  "rise": {
   "chalkboard": {
    "color": [
     "rgb(250, 0, 0)",
     "rgb(0, 250, 250)"
    ]
   },
   "enable_chalkboard": true,
   "scroll": true,
   "theme": "simple",
   "transition": "none"
  }
 },
 "nbformat": 4,
 "nbformat_minor": 4
}
