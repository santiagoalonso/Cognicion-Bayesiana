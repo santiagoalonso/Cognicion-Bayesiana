{
 "cells": [
  {
   "cell_type": "markdown",
   "metadata": {
    "slideshow": {
     "slide_type": "slide"
    }
   },
   "source": [
    "# Cognición Bayesiana"
   ]
  },
  {
   "cell_type": "markdown",
   "metadata": {
    "slideshow": {
     "slide_type": "fragment"
    }
   },
   "source": [
    "Santiago Alonso-Díaz, PhD\n",
    "\n",
    "Universidad Javeriana"
   ]
  },
  {
   "cell_type": "markdown",
   "metadata": {
    "slideshow": {
     "slide_type": "slide"
    }
   },
   "source": [
    "<center><img src=\"img/0_CB/Kipping1.png\" width = \"600\" height = '600'></center>"
   ]
  },
  {
   "cell_type": "markdown",
   "metadata": {
    "slideshow": {
     "slide_type": "subslide"
    }
   },
   "source": [
    ">Once Zhuang Zhou dreamed he was a butterfly, a butterfly flitting and fluttering around, happy with himself and doing as he pleased. He didn’t know he was Zhuang Zhou. Suddenly he woke up, and there he was, solid and unmistakable Zhuang Zhou. But he didn’t know if he were Zhuang Zhou who had dreamed he was a butterfly or a butterfly dreaming he was Zhuang Zhou. Between Zhuang Zhou and a butterfly, there must be some distinction!"
   ]
  },
  {
   "cell_type": "markdown",
   "metadata": {
    "slideshow": {
     "slide_type": "subslide"
    }
   },
   "source": [
    "<center><img src=\"img/0_CB/Kipping2.jpg\" width = \"560\" height = '550'></center>"
   ]
  },
  {
   "cell_type": "markdown",
   "metadata": {
    "slideshow": {
     "slide_type": "subslide"
    }
   },
   "source": [
    "What can we measure with Bayes' Rule? Beliefs-Hypothesis\n",
    "\n",
    "$$p(Hypothesis|Data) = \\frac{p(Data|Hypothesis)p(Hypothesis)}{p(Data)}$$"
   ]
  },
  {
   "cell_type": "markdown",
   "metadata": {
    "slideshow": {
     "slide_type": "subslide"
    }
   },
   "source": [
    "Nick Bostrom proposed that only three possibilities exist:\n",
    "\n",
    "1) \"The fraction of human-level civilizations that reach a posthuman stage (that is, one capable of running high-fidelity ancestor simulations) is very close to zero\"\n",
    "\n",
    "2) \"The fraction of posthuman civilizations that are interested in running simulations of their evolutionary history, or variations thereof, is very close to zero\"\n",
    "\n",
    "3) \"The fraction of all people with our kind of experiences that are living in a simulation is very close to one\""
   ]
  },
  {
   "cell_type": "markdown",
   "metadata": {
    "slideshow": {
     "slide_type": "subslide"
    }
   },
   "source": [
    "$\\lambda: \\text{# of simulated realities}, \\ p: \\text{prob. of creating a simulated reality}, \\\\ G: \\text{max. # of simulated realities due to computational limits of base reality}$\n",
    "<center><img src=\"img/0_CB/Kipping3.png\" width = \"750\" height = '750'></center>"
   ]
  },
  {
   "cell_type": "markdown",
   "metadata": {
    "slideshow": {
     "slide_type": "subslide"
    }
   },
   "source": [
    "Bostrom's argument is a frequentist one:\n",
    "\n",
    "$$ p(simulated|CES, H_3) = \\frac{N_{sim}}{N_{sim}+1}$$\n",
    "\n",
    "$CES$: Cogito Ergo Sum\n",
    "\n",
    "$H_3$: Bostrom's 3rd proposition"
   ]
  },
  {
   "cell_type": "markdown",
   "metadata": {
    "slideshow": {
     "slide_type": "subslide"
    }
   },
   "source": [
    "We are interested in evaluating alternative hypotheses. We can use Bayesian odds (BO):\n",
    "\n",
    "$$BO = \\frac{p(H_{sim}|Data)}{p(H_{not \\ sim}|Data)}$$\n",
    "\n",
    "By Bayes's rule:\n",
    "\n",
    "$$BO = \\frac{p(Data|H_{sim})}{p(Data|H_{not \\ sim})}\\frac{p(H_{sim})}{p(H_{not \\ sim})}$$\n",
    "\n",
    "The prior ratio is 1 (i.e. both are equally probable a-priori).\n",
    "\n",
    "What about the data? We only have CES (cogito ergo sum). Thus,\n",
    "\n",
    "$$Bayes Factor = \\frac{p(CES|H_{sim})}{p(CES|H_{not \\ sim})}$$\n",
    "\n",
    "But $p(CES|H_{sim}) = p(CES|H_{not \\ sim}) = 1$ (discuss with class why or not)\n",
    "\n",
    "Thus, the Bayes factor is 1 i.e. both are equally likely. Bostrom's 3rd proposition is 50/50 NOT close to 1"
   ]
  },
  {
   "cell_type": "markdown",
   "metadata": {
    "slideshow": {
     "slide_type": "subslide"
    }
   },
   "source": [
    "To install (we will not use all, but good to have):\n",
    "* Install anacondas (https://www.anaconda.com/products/individual)\n",
    "* Install jupyter lab (https://jupyter.org/)\n",
    "* Install pycharm community (https://www.jetbrains.com/pycharm/)\n",
    "* Install visual studio code (https://code.visualstudio.com/)\n",
    "* Open github account (https://github.com/)\n",
    "    * Install github desktop (https://desktop.github.com/)\n",
    "* Install inkscape (https://inkscape.org/)\n",
    "* Install graphviz (https://graphviz.org/download/)\n"
   ]
  },
  {
   "cell_type": "markdown",
   "metadata": {
    "slideshow": {
     "slide_type": "subslide"
    }
   },
   "source": [
    "Grades:\n",
    "\n",
    "* Python exercises (33%)\n",
    "* Article presentation (33%)\n",
    "* Final work (34%)"
   ]
  }
 ],
 "metadata": {
  "celltoolbar": "Slideshow",
  "kernelspec": {
   "display_name": "Python 3",
   "language": "python",
   "name": "python3"
  },
  "language_info": {
   "codemirror_mode": {
    "name": "ipython",
    "version": 3
   },
   "file_extension": ".py",
   "mimetype": "text/x-python",
   "name": "python",
   "nbconvert_exporter": "python",
   "pygments_lexer": "ipython3",
   "version": "3.8.5"
  },
  "rise": {
   "chalkboard": {
    "color": [
     "rgb(250, 0, 0)",
     "rgb(0, 250, 250)"
    ]
   },
   "enable_chalkboard": true,
   "scroll": true,
   "theme": "simple",
   "transition": "none"
  }
 },
 "nbformat": 4,
 "nbformat_minor": 4
}
