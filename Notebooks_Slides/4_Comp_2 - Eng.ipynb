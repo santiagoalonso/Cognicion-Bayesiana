{
 "cells": [
  {
   "cell_type": "code",
   "execution_count": 1,
   "metadata": {
    "slideshow": {
     "slide_type": "skip"
    }
   },
   "outputs": [
    {
     "name": "stdout",
     "output_type": "stream",
     "text": [
      "Running on PyMC3 v3.11.4\n"
     ]
    }
   ],
   "source": [
    "#Tables and matrices\n",
    "import numpy as np\n",
    "import pandas as pd\n",
    "\n",
    "#Stats\n",
    "import scipy.stats as st\n",
    "from scipy.optimize import fmin\n",
    "from scipy import integrate\n",
    "from scipy.stats.mstats import mquantiles\n",
    "\n",
    "\n",
    "#Probabilistic programs\n",
    "#!pip install pymc3\n",
    "import pymc3 as pm\n",
    "import theano.tensor as tt \n",
    "from theano.compile.ops import as_op\n",
    "print('Running on PyMC3 v{}'.format(pm.__version__))\n",
    "\n",
    "#Graphs\n",
    "import seaborn as sns\n",
    "import plotly.graph_objects as go\n",
    "import altair as alt\n",
    "from altair_saver import save #ademas instalar en terminal: brew cask install chromedriver\n",
    "import matplotlib.pyplot as plt\n",
    "from matplotlib import cm\n",
    "from matplotlib.gridspec import GridSpec\n",
    "from matplotlib import animation, rc\n",
    "from IPython.display import display, HTML, Markdown\n",
    "import ipywidgets as widgets\n",
    "from ipywidgets import interact, interactive, fixed, HBox, VBox, Layout\n",
    "from graphviz import Source, Digraph\n",
    "import dot2tex as d2t\n",
    "from latex import build_pdf\n",
    "from mpl_toolkits.mplot3d import axes3d\n",
    "import arviz as az"
   ]
  },
  {
   "cell_type": "markdown",
   "metadata": {
    "slideshow": {
     "slide_type": "slide"
    }
   },
   "source": [
    "# Computational methods to obtain the posterior\n",
    "Santiago Alonso-Díaz, PhD <br>\n",
    "Universidad Javeriana"
   ]
  },
  {
   "cell_type": "markdown",
   "metadata": {
    "slideshow": {
     "slide_type": "subslide"
    }
   },
   "source": [
    "We will learn the basis of probabilistic programming.\n",
    "\n",
    "For our purposes, it refers to algorithms that allow us to do statistical inference with distributions. Variables are distributions."
   ]
  },
  {
   "cell_type": "markdown",
   "metadata": {
    "slideshow": {
     "slide_type": "subslide"
    }
   },
   "source": [
    "With probabilistic programming we can sample elaborate posteriors\n",
    "\n",
    "<center><img src=\"img/4_CB/model_mem.svg\" width = \"800\" height = '800'></center>\n"
   ]
  },
  {
   "cell_type": "markdown",
   "metadata": {
    "slideshow": {
     "slide_type": "subslide"
    }
   },
   "source": [
    "|Stan|PyMC|Edward|\n",
    "|:-:|:-:|:-:|\n",
    "|<img src=\"img/4_CB/stan_logo.png\" width = \"150\" height = '150'>|<img src=\"img/4_CB/PyMC3_banner.png\" width = \"150\" height = '150'>|<img src=\"img/4_CB/edward_logo.png\" width = \"200\" height = '200'>|"
   ]
  },
  {
   "cell_type": "markdown",
   "metadata": {
    "slideshow": {
     "slide_type": "slide"
    }
   },
   "source": [
    "We will use PyMC3\n",
    "\n",
    "<center><img src=\"img/4_CB/PyMC3_banner.png\" width = \"150\" height = '150'></center>\n",
    "\n",
    "Basado en: Davidson-Pilon, C. (2015). Bayesian methods for hackers: probabilistic programming and Bayesian inference. https://github.com/CamDavidsonPilon/Probabilistic-Programming-and-Bayesian-Methods-for-Hackers"
   ]
  },
  {
   "cell_type": "markdown",
   "metadata": {
    "slideshow": {
     "slide_type": "subslide"
    }
   },
   "source": [
    "## But first, a short tutorial of dot\n",
    "\n",
    "Dot is a tool to build diagrams, useful to build graphical models in Python."
   ]
  },
  {
   "cell_type": "code",
   "execution_count": null,
   "metadata": {
    "slideshow": {
     "slide_type": "subslide"
    }
   },
   "outputs": [],
   "source": [
    "#Primero definamos la gráfica\n",
    "dot_text = 'digraph G {\\\n",
    "                     node[margin=0.2, shape=rectangle,\\\n",
    "                          style = rounded,\\\n",
    "                          width=0.8, height = 0.7];\\\n",
    "                     compound=true;\\\n",
    "                     newrank=true;\\\n",
    "                     d -> e [label=\" mi texto \"];\\\n",
    "                     subgraph cluster0{\\\n",
    "                        label = \" \";\\\n",
    "                        label = \"$theta_i$\";\\\n",
    "                        labeljust = \"l\";  color = \"red\";\\\n",
    "                        f;\\\n",
    "                        g;\\\n",
    "                     };\\\n",
    "                     e -> f [lhead = cluster0, label=\"  \"];\\\n",
    "                     f -> g;\\\n",
    "                     g -> h [ltail = cluster0];\\\n",
    "                     { rank=same; f; e};\\\n",
    "                     d [label = \"Nodo\", fixedsize=true, width=0.5,\\\n",
    "                                 shape = circle];\\\n",
    "                     e [label = \"$mu$\", shape = square,\\\n",
    "                                  width = 0.6 ];\\\n",
    "                     f [label = \"VI\", shape = plaintext];\\\n",
    "                     g [label = \"$sum_i x_i$\"];\\\n",
    "                     h [label = \"$int beta_i di$\",\\\n",
    "                                  shape = circle, peripheries = 2];\\\n",
    "                     }' \n",
    "#Tip: use single quote at start and end; double quotes for labels"
   ]
  },
  {
   "cell_type": "code",
   "execution_count": null,
   "metadata": {
    "slideshow": {
     "slide_type": "subslide"
    }
   },
   "outputs": [],
   "source": [
    "#Ahora salvarla\n",
    "s = Source(dot_text, filename=\"img/4_CB/tutorial_dot.gv\", format=\"svg\") #THIS IS NOT THE FINAL ONE\n",
    "s.view()\n",
    "\n",
    "#To typeset latex stuff on the image: \n",
    "#1) open svg in inkscape and write latex formulas. Export as pdf (click the one that says latex)\n",
    "#   to change fontsize of latex in inkscape write before the expression: \n",
    "#        \\fontsize{34pt}{1em} $latex expression$ ... change #pt for size\n",
    "#2) go to overleaf or latex editor of choice and do this (https://castel.dev/post/lecture-notes-2/):\n",
    "#   2.1) In the preamble:\n",
    "#  \\usepackage{import}\n",
    "#  \\usepackage{xifthen}\n",
    "#  \\usepackage{pdfpages}\n",
    "#  \\usepackage{transparent}\n",
    "#  \\usepackage{graphics} \n",
    "#  \\usepackage{bigints}\n",
    "\n",
    "#  \\newcommand{\\incfig}[1]{%\n",
    "#      \\def\\svgwidth{\\columnwidth}\n",
    "#      \\import{./figures/}{#1.pdf_tex} %PUT the inkscape .pdf_tex AND .pdf in a local folder called figures\n",
    "#  }\n",
    "#   2.2)In the body:\n",
    "#  \\begin{figure}[ht]\n",
    "#      \\centering\n",
    "#      \\scalebox{.65}{\\incfig{your_inkscape.pdf_tex}} #change scalebox proportion to rescale\n",
    "#      \\caption{Riemmans theorem}\n",
    "#      \\label{fig:riemmans-theorem}\n",
    "#  \\end{figure}\n",
    "\n",
    "\n",
    "\n",
    "\n"
   ]
  },
  {
   "cell_type": "markdown",
   "metadata": {
    "slideshow": {
     "slide_type": "subslide"
    }
   },
   "source": [
    "# Ejercicio\n",
    "\n",
    "* Haga el siguiente diagrama en dot. Nota: no necesariamente dot lo va a poner así.\n",
    "\n",
    "<center><img src=\"img/4_CB/dot_tutorial.svg\" width = \"550\" height = '550'></center>"
   ]
  },
  {
   "cell_type": "markdown",
   "metadata": {
    "slideshow": {
     "slide_type": "subslide"
    }
   },
   "source": [
    "Analicemos mensajes de texto de una persona (Fuente: Davidson-Pilon, 2015)"
   ]
  },
  {
   "cell_type": "code",
   "execution_count": null,
   "metadata": {
    "scrolled": true,
    "slideshow": {
     "slide_type": "fragment"
    }
   },
   "outputs": [],
   "source": [
    "count_data = np.loadtxt(\"data/4_CB/txtdata.csv\")\n",
    "n_count_data = len(count_data)\n",
    "dias = np.linspace(1, n_count_data, num = n_count_data, dtype = int)\n",
    "count_data "
   ]
  },
  {
   "cell_type": "markdown",
   "metadata": {
    "slideshow": {
     "slide_type": "fragment"
    }
   },
   "source": [
    "<center><img src=\"img/4_CB/mstxt.svg\" width = \"1000\" height = '1000'></center>"
   ]
  },
  {
   "cell_type": "markdown",
   "metadata": {
    "slideshow": {
     "slide_type": "subslide"
    }
   },
   "source": [
    "¿Cómo modelamos el conteo de mensajes por día? \n",
    "\n",
    "$$Conteo_{\\text{día}} \\sim Poisson(\\lambda)$$\n",
    "\n",
    "Nota: El parámetro $\\lambda$ es el promedio y varianza al mismo tiempo.\n",
    "\n",
    "<center><img src=\"img/4_CB/poisson.svg\" width = \"450\" height = '450'></center>"
   ]
  },
  {
   "cell_type": "markdown",
   "metadata": {
    "slideshow": {
     "slide_type": "subslide"
    }
   },
   "source": [
    "Pero ... se ven diferentes\n",
    "\n",
    "|<img src=\"img/4_CB/poisson.svg\" width = \"250\" height = '250'>|<img src=\"img/4_CB/mstxt.svg\" width = \"400\" height = '400'>|\n",
    "|:-:|:-:|\n",
    "|||\n",
    "\n",
    "Un histograma es una guía visual (depende de los bins)\n",
    "\n",
    "Pueden ser dos Poisson diferentes, después de un día $\\tau$"
   ]
  },
  {
   "cell_type": "markdown",
   "metadata": {
    "slideshow": {
     "slide_type": "subslide"
    }
   },
   "source": [
    "Esta es la propuesta:\n",
    "$$\\lambda = \n",
    "\\begin{cases} \\lambda_a  & \\text{día} \\lt \\tau \\\\\n",
    "\\lambda_b & \\text{día} \\ge \\tau\n",
    "\\end{cases}\n",
    "$$\n"
   ]
  },
  {
   "cell_type": "markdown",
   "metadata": {
    "slideshow": {
     "slide_type": "subslide"
    }
   },
   "source": [
    "Esta es la propuesta bayesiana completa:\n",
    "\n",
    "<center><img src=\"img/4_CB/model_msj.svg\" width = \"700\" height = '700'></center>\n"
   ]
  },
  {
   "cell_type": "markdown",
   "metadata": {
    "slideshow": {
     "slide_type": "subslide"
    }
   },
   "source": [
    "¿Por qué esas formas y distribuciones para los parámetros?\n",
    "\n",
    "Parte ciencia (e.g. conjugate prior) y arte (conocimiento del área). Por ejemplo, para los $\\lambda_a$ y $\\lambda_b$ escogimos una exponencial con rate $\\alpha = \\frac{1}{\\mathbb{E}[Conteo_{d}]}$. No es conjugate, pero hace algo deseable: castiga conteos altos. \n",
    "\n",
    "<center><img src=\"img/4_CB/exp.svg\" width = \"500\" height = '500'></center>"
   ]
  },
  {
   "cell_type": "markdown",
   "metadata": {
    "slideshow": {
     "slide_type": "subslide"
    }
   },
   "source": [
    "Ahora tomemos muestra del modelo con PyMC\n",
    "\n",
    "<center><img src=\"img/4_CB/model_msj.svg\" width = \"500\" height = '500'></center>\n",
    "\n",
    "PyMC guarda el modelo en la clase `Model`. Veamos el código."
   ]
  },
  {
   "cell_type": "code",
   "execution_count": null,
   "metadata": {
    "slideshow": {
     "slide_type": "subslide"
    }
   },
   "outputs": [],
   "source": [
    "# Primero definamos constantes y variables deterministicas\n",
    "alpha = 1.0/count_data.mean()  # count_data holds our text counts.\n",
    "\n",
    "# PyMC utiliza la clase `Model` para guardar el modelo\n",
    "with pm.Model() as modelo_mensajes:    \n",
    "    \n",
    "    ### Latentes (priors)\n",
    "    lambda_antes = pm.Exponential(\"lambda_antes\", lam = alpha) \n",
    "    lambda_despues = pm.Exponential(\"lambda_despues\", lam = alpha)\n",
    "    #lambda_antes = pm.Uniform(\"lambda_antes\", lower = 0, upper = 80) \n",
    "    #lambda_despues = pm.Uniform(\"lambda_despues\",  lower = 0, upper = 80)\n",
    "    tau = pm.DiscreteUniform(\"tau\", lower=0, upper=n_count_data)\n",
    "    #Siguiente línea: \n",
    "    #if primer argumento true, then tercero, else segundo\n",
    "    lambda_usado = pm.math.switch(tau < dias, \n",
    "                                  lambda_despues, lambda_antes) \n",
    "    \n",
    "    ### Likelihood    \n",
    "    conteos = pm.Poisson(\"conteos\", lambda_usado, \n",
    "                         observed=count_data)\n"
   ]
  },
  {
   "cell_type": "code",
   "execution_count": null,
   "metadata": {
    "slideshow": {
     "slide_type": "subslide"
    }
   },
   "outputs": [],
   "source": [
    "#La variable model tiene toda la información \n",
    "#RV: random variables\n",
    "print(modelo_mensajes.basic_RVs) #Todas \n",
    "print(modelo_mensajes.free_RVs) #Latentes / no observables\n",
    "print(modelo_mensajes.observed_RVs) #Observables\n",
    "\n",
    "#En prob. program. las variables son aleatorias (ejemplo)\n",
    "rvs = modelo_mensajes.lambda_antes.random\n",
    "print(np.round(rvs(),2), np.round(rvs(),2), np.round(rvs(),2))\n",
    "modelo_mensajes.lambda_antes"
   ]
  },
  {
   "cell_type": "markdown",
   "metadata": {
    "slideshow": {
     "slide_type": "subslide"
    }
   },
   "source": [
    "¡Ahora sí a tomar muestras de nuestro modelo!"
   ]
  },
  {
   "cell_type": "code",
   "execution_count": null,
   "metadata": {
    "slideshow": {
     "slide_type": "subslide"
    }
   },
   "outputs": [],
   "source": [
    "with modelo_mensajes:\n",
    "    trace = pm.sample(10000, chains = 4, cores = 2)\n",
    "    #posterior_predictive = pm.sample_posterior_predictive(trace)"
   ]
  },
  {
   "cell_type": "code",
   "execution_count": null,
   "metadata": {
    "slideshow": {
     "slide_type": "subslide"
    }
   },
   "outputs": [],
   "source": [
    "data = az.from_pymc3(\n",
    "    trace=trace[8500:10000], #1500 samples to keep the image file light\n",
    "    model=modelo_mensajes,\n",
    ")\n",
    "az.plot_trace(data, figsize = [10,7]);\n",
    "plt.savefig(\"img/4_CB/trace_msjtxt.svg\")\n",
    "# plt.close()"
   ]
  },
  {
   "cell_type": "markdown",
   "metadata": {
    "slideshow": {
     "slide_type": "skip"
    }
   },
   "source": [
    "El modelo convergio. Hay tests, pero visualmente combina bien (plots derechos)\n",
    "\n",
    "<center><img src=\"img/4_CB/trace_msjtxt.svg\" width = \"750\" height = '750'></center>"
   ]
  },
  {
   "cell_type": "markdown",
   "metadata": {
    "slideshow": {
     "slide_type": "subslide"
    }
   },
   "source": [
    "Aún cuando escogimos prior exponenciales (lambda) y uniformes (tau), las posterior se ven diferentes. La data modificó nuestra creencia."
   ]
  },
  {
   "cell_type": "code",
   "execution_count": null,
   "metadata": {
    "slideshow": {
     "slide_type": "skip"
    }
   },
   "outputs": [],
   "source": [
    "fig, ax = plt.subplots(1,2, figsize = [8,5])\n",
    "dia = int(trace['tau'].mean())\n",
    "az.plot_density(\n",
    "    [trace['lambda_antes'], trace['lambda_despues']],\n",
    "    data_labels=[\"Antes del \" + str(dia) + \" dia (media)\", \n",
    "                 \"Después\"],\n",
    "    shade=.1, ax = ax[0], hdi_prob=.999, \n",
    ")\n",
    "az.plot_density(\n",
    "    [trace['tau']], hdi_prob=.999,\n",
    "    data_labels=[\"$\\\\tau$ (día) \"], outline=True,\n",
    "    shade=.25, ax = ax[1], colors = 'purple', \n",
    ")\n",
    "ax[0].set_title('$\\lambda$ (msj x día)', fontsize = 20)\n",
    "ax[1].set_title('$\\\\tau$ (día de cambio)', fontsize = 20)\n",
    "ax[0].set_xlabel('msj x día', fontsize = 15)\n",
    "ax[1].set_xlabel('día de cambio', fontsize = 15)\n",
    "ax[0].legend(loc='upper right')\n",
    "fig.savefig('img/4_CB/Vis_msj_txt_post.svg')\n",
    "plt.close()"
   ]
  },
  {
   "cell_type": "markdown",
   "metadata": {},
   "source": [
    "<center><img src=\"img/4_CB/Vis_msj_txt_post.svg\" width = \"750\" height = '750'></center>"
   ]
  },
  {
   "cell_type": "markdown",
   "metadata": {
    "slideshow": {
     "slide_type": "subslide"
    }
   },
   "source": [
    "Podemos sacar promedios y calcular intervalos de densidad con las muestras producidas por el algoritmo. El objeto que llamamos trace tiene la info por parámetro."
   ]
  },
  {
   "cell_type": "code",
   "execution_count": null,
   "metadata": {},
   "outputs": [],
   "source": [
    "promedio_conteo = np.zeros_like(count_data, dtype='float')\n",
    "#High density interval\n",
    "HDI95_conteo = np.zeros_like(count_data, dtype='float') \n",
    "HDI5_conteo = np.zeros_like(count_data, dtype='float')\n",
    "for i, dia in enumerate(dias):\n",
    "    #las muestras están ordenadas como el algoritmo las tomó\n",
    "    idx = dia < trace['tau'] \n",
    "    antes = trace['lambda_antes'][idx] \n",
    "    despues = trace['lambda_despues'][~idx]\n",
    "    HDI95_conteo[i] = np.percentile(\n",
    "        np.concatenate((antes,despues)),97.5\n",
    "    )\n",
    "    HDI5_conteo[i] = np.percentile(\n",
    "        np.concatenate((antes,despues)),2.5\n",
    "    )\n",
    "    promedio_conteo[i] = np.concatenate((antes,despues)).mean()\n"
   ]
  },
  {
   "cell_type": "code",
   "execution_count": null,
   "metadata": {
    "slideshow": {
     "slide_type": "skip"
    }
   },
   "outputs": [],
   "source": [
    "plt.figure(figsize=(5, 5)); \n",
    "plt.plot(dias, count_data, '.',  label = 'Data')\n",
    "plt.ylabel(\"Conteo mensajes\", fontsize=16); \n",
    "plt.xlabel(\"Día\", fontsize=16)\n",
    "plt.title(\"Visualización Modelo\", fontsize=20)   \n",
    "hdi = az.hdi(trace['tau']) #high density interval (calculado con Arviz; igual a np.percentile)\n",
    "plt.vlines(trace['tau'].mean(), count_data.min(), count_data.max(), color='C1')\n",
    "plt.fill_betweenx(y=[count_data.min(), count_data.max()],\n",
    "                  x1=hdi[0], x2=hdi[1], alpha=0.35, color='C1',\n",
    "                 label = 'Día de aumento de mensajes ($\\\\tau$)');\n",
    "plt.fill_between(x=np.linspace(1, len(dias), HDI5_conteo.size), \n",
    "                 y1=HDI5_conteo, y2=HDI95_conteo, alpha=0.25, color='k',\n",
    "                 label = 'Promedio mensajes ($\\lambda$)');\n",
    "plt.plot(dias, promedio_conteo,  'k', lw=2); \n",
    "plt.legend(loc = 'upper left');\n",
    "plt.savefig('img/4_CB/Vis_msj_txt.svg')\n",
    "plt.close()"
   ]
  },
  {
   "cell_type": "markdown",
   "metadata": {
    "slideshow": {
     "slide_type": "subslide"
    }
   },
   "source": [
    "Hay un salto en msjs x día. ¿Qué pudo pasarle a esta persona en el salto? Especular; o si hay conocimiento del área podríamos lanzar una hipótesis.\n",
    "<center><img src=\"img/4_CB/Vis_msj_txt.svg\" width = \"501\" height = '500'></center>"
   ]
  },
  {
   "cell_type": "markdown",
   "metadata": {
    "slideshow": {
     "slide_type": "subslide"
    }
   },
   "source": [
    "Podemos testear directamente hipótesis. Por ejemplo, ¿qué tan seguros estamos que la tasa de mensajes antes y después del día de cambio es diferente?"
   ]
  },
  {
   "cell_type": "code",
   "execution_count": null,
   "metadata": {
    "slideshow": {
     "slide_type": "subslide"
    }
   },
   "outputs": [],
   "source": [
    "test = trace['lambda_antes']<trace['lambda_despues']\n",
    "tA = str(int(test.mean()*100))\n",
    "tB = \"% seguros que msj x día (lambdas) difieren en el día del cambio\"\n",
    "print(tA + tB)\n",
    "dia = int(trace['tau'].mean())\n",
    "az.plot_density(\n",
    "    [trace['lambda_antes'], trace['lambda_despues']],\n",
    "    data_labels=[\"Antes del \" + str(dia) + \" dia (media)\", \n",
    "                 \"Después\"],\n",
    "    shade=.1, hdi_prob = .999, \n",
    ");\n",
    "plt.xlabel('Mensajes x día', fontsize = 15)\n",
    "plt.title(\"\");"
   ]
  },
  {
   "cell_type": "markdown",
   "metadata": {
    "slideshow": {
     "slide_type": "subslide"
    }
   },
   "source": [
    "# Ejercicios (mensajes de texto Poisson)\n",
    "1\\.  Calcule el promedio de `lambda_antes` y `lambda_despues`."
   ]
  },
  {
   "cell_type": "code",
   "execution_count": null,
   "metadata": {
    "jupyter": {
     "outputs_hidden": false
    }
   },
   "outputs": [],
   "source": [
    "#Escriba su código aqui"
   ]
  },
  {
   "cell_type": "markdown",
   "metadata": {
    "slideshow": {
     "slide_type": "subslide"
    }
   },
   "source": [
    "2\\.  Calcule el incremento porcentual promedio de mensajes por día. `pista:` Consiga la distribución de la variable *incremento porcentual*. No haga `lambda_antes.mean()/lambda_despues.mean()`. Es parecido, pero use todas las posteriores. Queremos el promedio de la distribución de *incremento porcentual*."
   ]
  },
  {
   "cell_type": "code",
   "execution_count": null,
   "metadata": {
    "jupyter": {
     "outputs_hidden": false
    }
   },
   "outputs": [],
   "source": [
    "#Escriba su código aqui\n"
   ]
  },
  {
   "cell_type": "markdown",
   "metadata": {
    "slideshow": {
     "slide_type": "subslide"
    }
   },
   "source": [
    "3\\. Calcule el promedio de $\\lambda_{antes}$ *dado* que $\\tau < 45$. Recuerde: las muestras del sampleador están coordinadas. Es decir, busque los indices de $\\tau$ menores a 45 y use ese indice para seleccionar muestras de $\\lambda_{antes}$."
   ]
  },
  {
   "cell_type": "code",
   "execution_count": null,
   "metadata": {
    "jupyter": {
     "outputs_hidden": false
    }
   },
   "outputs": [],
   "source": [
    "#Escriba su código aqui"
   ]
  },
  {
   "cell_type": "markdown",
   "metadata": {
    "slideshow": {
     "slide_type": "subslide"
    }
   },
   "source": [
    "4\\. Haga el siguiente modelo gráfico con la sintaxis `dot`\n",
    "<center><img src=\"img/4_CB/Taller_pregunta_dot.png\" width = \"200\" height = '200'></center>"
   ]
  },
  {
   "cell_type": "code",
   "execution_count": null,
   "metadata": {
    "jupyter": {
     "outputs_hidden": false
    }
   },
   "outputs": [],
   "source": [
    "#Escriba su código aqui"
   ]
  },
  {
   "cell_type": "markdown",
   "metadata": {
    "slideshow": {
     "slide_type": "slide"
    }
   },
   "source": [
    "# PyMC: Detalles"
   ]
  },
  {
   "cell_type": "markdown",
   "metadata": {
    "slideshow": {
     "slide_type": "subslide"
    }
   },
   "source": [
    "En PyMC el modelo \"vive\" en el objeto pm.Models "
   ]
  },
  {
   "cell_type": "code",
   "execution_count": null,
   "metadata": {
    "slideshow": {
     "slide_type": "subslide"
    }
   },
   "outputs": [],
   "source": [
    "with pm.Model() as model:\n",
    "    parameter = pm.Exponential(\"poisson_param\", 1.0, \n",
    "                               testval=0.5) #testval valores iniciales\n",
    "    data_generator = pm.Poisson(\"data_generator\", parameter)"
   ]
  },
  {
   "cell_type": "markdown",
   "metadata": {
    "slideshow": {
     "slide_type": "subslide"
    }
   },
   "source": [
    "Python trata de emular lenguaje natural. El bloque `with` trabaja con el objeto pm.Model, con el alias model, y ejecuta lo que va dentro del bloque. "
   ]
  },
  {
   "cell_type": "markdown",
   "metadata": {
    "slideshow": {
     "slide_type": "subslide"
    }
   },
   "source": [
    "Podemos trabajar con el alias "
   ]
  },
  {
   "cell_type": "code",
   "execution_count": null,
   "metadata": {},
   "outputs": [],
   "source": [
    "with model:\n",
    "    data_plus_one = data_generator + 1\n",
    "print(data_plus_one.tag.test_value) #test values: valores iniciales\n",
    "print(model.basic_RVs) \n",
    "rvs = model.poisson_param.random\n",
    "print(np.round(rvs(),2), np.round(rvs(),2), np.round(rvs(),2))"
   ]
  },
  {
   "cell_type": "markdown",
   "metadata": {
    "slideshow": {
     "slide_type": "subslide"
    }
   },
   "source": [
    "PyMC3 tiene dos tipos de variables: estocásticas y determinísticas.\n",
    "\n",
    "*  *Estocásticas*:  Variable aleatoria. Ejemplos en esta clase: `Poisson`, `DiscreteUniform`, and `Normal`.\n",
    "\n",
    "*  *Determinísticas*: El nombre lo dice todo. Ejemplos en esta clase: formula cuadratica. Una vez conozco el input x, con seguridad sé el valor.  \n"
   ]
  },
  {
   "cell_type": "markdown",
   "metadata": {
    "slideshow": {
     "slide_type": "subslide"
    }
   },
   "source": [
    "## Estocásticas\n",
    "Ya hemos usado variables estocásticas. Por ejemplo,\n",
    "\n",
    "`mi_variable = pm.DiscreteUniform(\"discrete_uni_var\", lower=0, upper=4)`\n",
    "\n",
    "El nombre para Python es *mi_variable*. El nombre para el sampleador es *discrete_uni_var*. Pueden ser diferentes o iguales. Recomendación: iguales. \n",
    "\n",
    "El 0 (límite bajo) y el 4 (alto) son los parámetros libres de la uniforme. Diferentes distribuciones y parámetros en (http://pymc-devs.github.io/pymc3/api.html)"
   ]
  },
  {
   "cell_type": "markdown",
   "metadata": {
    "slideshow": {
     "slide_type": "subslide"
    }
   },
   "source": [
    "Si hay N variables con distribuciones similares, se puede usar el parámetro `shape`\n",
    "\n",
    "`betas_regresion = pm.Uniform(\"betas\", lower=0, upper=1, shape = N)`"
   ]
  },
  {
   "cell_type": "markdown",
   "metadata": {
    "slideshow": {
     "slide_type": "subslide"
    }
   },
   "source": [
    "## Determinísticas\n",
    "\n",
    "Hay dos formas de introducir variables determinísticas en nuestro modelo. Ya vimos una: con funciones del paquete PyMC. "
   ]
  },
  {
   "cell_type": "code",
   "execution_count": null,
   "metadata": {
    "slideshow": {
     "slide_type": "subslide"
    }
   },
   "outputs": [],
   "source": [
    "n_data_points = 5  \n",
    "dias_o_cualquier_referencia = np.arange(n_data_points)\n",
    "with pm.Model() as model:\n",
    "    #Estocásticas\n",
    "    lambda_1 = pm.Exponential(\"lambda_1\", 1.0)\n",
    "    lambda_2 = pm.Exponential(\"lambda_2\", 1.0)\n",
    "    tau = pm.DiscreteUniform(\"tau\", lower=0, upper=10)\n",
    "    \n",
    "    #Determinísticas\n",
    "    lambda_ = pm.math.switch(tau >= dias_o_cualquier_referencia, \n",
    "                             lambda_1, lambda_2) \n",
    "    \n"
   ]
  },
  {
   "cell_type": "markdown",
   "metadata": {
    "slideshow": {
     "slide_type": "subslide"
    }
   },
   "source": [
    "`lambda_` es determinística. Usamos la función .switch con dos de las variables estocásticas (VE). En cada iteración, VE se \"materializa\" y .switch se aplica"
   ]
  },
  {
   "cell_type": "markdown",
   "metadata": {
    "slideshow": {
     "slide_type": "subslide"
    }
   },
   "source": [
    "Otra forma es con `pm.Deterministic`. "
   ]
  },
  {
   "cell_type": "code",
   "execution_count": null,
   "metadata": {
    "slideshow": {
     "slide_type": "subslide"
    }
   },
   "outputs": [],
   "source": [
    "def restar(x, y):\n",
    "    return x - y\n",
    "\n",
    "with pm.Model() as model_det:\n",
    "    stochastic_1 = pm.Uniform(\"U_1\", 0, 1)\n",
    "    stochastic_2 = pm.Uniform(\"U_2\", 0, 1)\n",
    "\n",
    "    det_1 = pm.Deterministic(\"Delta\", restar(stochastic_1, stochastic_2))\n"
   ]
  },
  {
   "cell_type": "markdown",
   "metadata": {
    "slideshow": {
     "slide_type": "subslide"
    }
   },
   "source": [
    "La función restar debe poder trabajar con escalares o vectores."
   ]
  },
  {
   "cell_type": "markdown",
   "metadata": {
    "slideshow": {
     "slide_type": "subslide"
    }
   },
   "source": [
    "Para una variable determinística, es recomendado primero tratar de usar funciones de PyMC o el backend (PyMC3, Theano; PyMC4, TensorFlow).\n",
    "\n",
    "|<center><img src=\"img/4_CB/Theano_logo.svg\" width = \"300\" height = '300'></center>|<center><img src=\"img/4_CB/Tensorflow-logo.svg\" width = \"300\" height = '300'></center>|\n",
    "|-|-|\n",
    "|||\n",
    "\n",
    "Veamos detalles del backend.\n"
   ]
  },
  {
   "cell_type": "markdown",
   "metadata": {
    "slideshow": {
     "slide_type": "subslide"
    }
   },
   "source": [
    "Pueden pensar en el backend como el caballo de trabajo. Hace los calculos y manipulaciones de la información. \n",
    "\n",
    "Se basa en objetos matemáticos llamados tensores (generalización de vectores y matrices)\n"
   ]
  },
  {
   "cell_type": "markdown",
   "metadata": {
    "slideshow": {
     "slide_type": "subslide"
    }
   },
   "source": [
    "Acá usamos la operación `stack`. Agrupa `p1` y `p2` en una nueva variable `p`. \n",
    "\n",
    "Se puede pensar como una lista con dos elementos (o una matriz con dos columnas). Los elementos NO son escalares.\n",
    "\n",
    "La nueva variable `p` la podemos pasar a una variable estocástica como probabilidad de dos categorias."
   ]
  },
  {
   "cell_type": "code",
   "execution_count": null,
   "metadata": {
    "slideshow": {
     "slide_type": "subslide"
    }
   },
   "outputs": [],
   "source": [
    "import theano.tensor as tt\n",
    "\n",
    "with pm.Model() as theano_test:\n",
    "    p1 = pm.Uniform(\"p\", 0, 1)\n",
    "    p2 = 1 - p1\n",
    "    p = tt.stack([p1, p2]) \n",
    "    #p = pm.math.stack([p1, p2])\n",
    "    \n",
    "    assignment = pm.Categorical(\"assignment\", p)"
   ]
  },
  {
   "cell_type": "markdown",
   "metadata": {},
   "source": [
    "Vamos a usar muchas operaciones del backend en el curso. "
   ]
  },
  {
   "cell_type": "markdown",
   "metadata": {
    "slideshow": {
     "slide_type": "subslide"
    }
   },
   "source": [
    "## Data/Observaciones\n",
    "\n",
    "Hemos definido priors ..."
   ]
  },
  {
   "cell_type": "code",
   "execution_count": null,
   "metadata": {},
   "outputs": [],
   "source": [
    "fig = plt.figure(figsize = (10, 4.5))\n",
    "samples = lambda_1.random(size=10000)\n",
    "plt.hist(samples, bins=70); \n",
    "plt.title(\"Prior distribution for $\\lambda_1$\");"
   ]
  },
  {
   "cell_type": "markdown",
   "metadata": {
    "slideshow": {
     "slide_type": "subslide"
    }
   },
   "source": [
    " ... ahora veamos likelihoods y data"
   ]
  },
  {
   "cell_type": "markdown",
   "metadata": {
    "slideshow": {
     "slide_type": "subslide"
    }
   },
   "source": [
    "Es sencillo. Todas las variables estocásticas tienen un parámetro `observed`. A la que le asignemos la data es el likelihood."
   ]
  },
  {
   "cell_type": "code",
   "execution_count": null,
   "metadata": {
    "slideshow": {
     "slide_type": "subslide"
    }
   },
   "outputs": [],
   "source": [
    "# Generemos una data\n",
    "data = np.array([10, 25, 15, 20, 35])\n",
    "with model:\n",
    "    obs = pm.Poisson(\"obs\", lambda_, observed=data)\n",
    "print(obs.tag.test_value)\n",
    "print(model.free_RVs) #Latentes / no observables\n",
    "print(model.observed_RVs) #Observables"
   ]
  },
  {
   "cell_type": "markdown",
   "metadata": {
    "slideshow": {
     "slide_type": "slide"
    }
   },
   "source": [
    "# Modelos bayesianos de `análisis` de datos"
   ]
  },
  {
   "cell_type": "markdown",
   "metadata": {
    "slideshow": {
     "slide_type": "subslide"
    }
   },
   "source": [
    "## A/B Testing\n",
    "\n",
    "Tal vez el diseño experimental más simple y popular. Se busca cuál es mejor opción, A o B. \n",
    "\n",
    "Por ejemplo, ¿qué robot debería atender en un aeropuerto?\n",
    "\n",
    "|<img src=\"img/4_CB/Robot_A.webp\" width = \"300\" height = '300'>|<img src=\"img/4_CB/Robot_B.jpg\" width = \"250\" height = '250'>|\n",
    "|:-:|:-:|\n",
    "|||"
   ]
  },
  {
   "cell_type": "markdown",
   "metadata": {
    "slideshow": {
     "slide_type": "subslide"
    }
   },
   "source": [
    "Diseño experimental: dos grupos en distintos aeropuertos. El tamaño de cada grupo es $n_1$ y $n_2$ con $k_1$ y $k_2$ conteos prefiriendo robot 1. Cada aeropuerto tiene una proporción latente $\\theta_1$ y $\\theta_2$.\n",
    "\n",
    "Formulación bayesiana:\n",
    "<center><img src=\"img/4_CB/model_ab.svg\" width = \"600\" height = '600'></center>"
   ]
  },
  {
   "cell_type": "code",
   "execution_count": null,
   "metadata": {
    "slideshow": {
     "slide_type": "subslide"
    }
   },
   "outputs": [],
   "source": [
    "#No conocemos estas cantidades. Son los theta del modelo gráfico.\n",
    "true_p_A = 0.05 \n",
    "true_p_B = 0.04\n",
    "\n",
    "#Tenemos más datos en un sitio (A). No es problema\n",
    "N_A = 1500\n",
    "N_B = 750\n",
    "\n",
    "#Generemos datos. Son los k del modelo gráfico.\n",
    "datos_A = st.bernoulli.rvs(true_p_A, size=N_A)\n",
    "datos_B = st.bernoulli.rvs(true_p_B, size=N_B)\n",
    "print(\"Obs del sitio A: \", datos_A[:30], \"...\")\n",
    "print(\"Obs del sitio B: \", datos_B[:30], \"...\")\n",
    "print(\"Promedio A: \", np.mean(datos_A))\n",
    "print(\"Promedio B: \", np.mean(datos_B)) "
   ]
  },
  {
   "cell_type": "code",
   "execution_count": null,
   "metadata": {
    "slideshow": {
     "slide_type": "subslide"
    }
   },
   "outputs": [],
   "source": [
    "# Formulemos el modelo pymc3 con priors uniformes para p_A & p_B\n",
    "with pm.Model() as model:\n",
    "    \n",
    "    #Priors\n",
    "    p_A = pm.Beta(\"p_A\", 1, 1) #Beta(1,1) es uniforme en el rango 0,1\n",
    "    p_B = pm.Beta(\"p_B\", 1, 1)\n",
    "    \n",
    "    #Variable de interés: la diferencia de proporciones.\n",
    "    delta = pm.Deterministic(\"delta\", p_A - p_B)\n",
    "\n",
    "    # Likelihood. Asumimos independencia de los dos sitios.\n",
    "    obs_A = pm.Bernoulli(\"obs_A\", p_A, observed=datos_A)\n",
    "    obs_B = pm.Bernoulli(\"obs_B\", p_B, observed=datos_B)\n",
    "\n",
    "    # Llamemos el algoritmo para samplear.\n",
    "    step = pm.Metropolis() #Tipo de algoritmo.\n",
    "    nsamples = 20000\n",
    "    trace = pm.sample(nsamples, step=step)\n",
    "    burned_trace=trace[1000:] #burn-in; importante para Metropolis"
   ]
  },
  {
   "cell_type": "code",
   "execution_count": null,
   "metadata": {
    "slideshow": {
     "slide_type": "subslide"
    }
   },
   "outputs": [],
   "source": [
    "#Ahora grafiquemos\n",
    "p_A_samples = burned_trace[\"p_A\"]\n",
    "p_B_samples = burned_trace[\"p_B\"]\n",
    "delta_samples = burned_trace[\"delta\"]\n",
    "data = az.from_pymc3(trace=burned_trace, model=model)\n",
    "\n",
    "#Convergencia\n",
    "az.plot_trace(data, figsize = [10,7]);\n",
    "plt.savefig(\"img/4_CB/trace_proporcion.svg\"); plt.close()\n",
    "\n",
    "#Densidades \n",
    "az.plot_density(\n",
    "    [p_A_samples,p_B_samples,delta_samples],\n",
    "    data_labels = ['Proporción A', 'Proporción B', 'Diferencia'],\n",
    "    shade=.2, colors = ['green','red','blue'] ,hdi_prob=.95, \n",
    ")\n",
    "plt.vlines(true_p_A, 0, 80, linestyle=\"--\", \n",
    "           label=\"Verdadero $p_A$ (desconocido)\", color ='green')\n",
    "plt.vlines(true_p_B, 0, 80, linestyle=\"--\", \n",
    "           label=\"Verdadero $p_B$ (desconocido)\", color ='red')\n",
    "plt.vlines(true_p_A-true_p_B, 0, 80, linestyle=\"--\", \n",
    "           label=\"Verdadero $\\delta$ (desconocido)\", color ='blue')\n",
    "plt.legend()\n",
    "plt.title('')\n",
    "plt.savefig(\"img/4_CB/density_proporcion.svg\"); plt.close()"
   ]
  },
  {
   "cell_type": "markdown",
   "metadata": {
    "slideshow": {
     "slide_type": "subslide"
    }
   },
   "source": [
    "Convergencia\n",
    "<center><img src=\"img/4_CB/trace_proporcion.svg\" width = \"600\" height = '600'></center>"
   ]
  },
  {
   "cell_type": "markdown",
   "metadata": {
    "slideshow": {
     "slide_type": "subslide"
    }
   },
   "source": [
    "Densidades (todas las cadenas)\n",
    "<center><img src=\"img/4_CB/density_proporcion.svg\" width = \"450\" height = '450'></center>\n",
    "\n",
    "¿Por qué es más \"gorda\" la distribución de B? ¿Por qué tenemos menos certeza? ¿Qué tiene que ver los datos?"
   ]
  },
  {
   "cell_type": "code",
   "execution_count": null,
   "metadata": {
    "slideshow": {
     "slide_type": "subslide"
    }
   },
   "outputs": [],
   "source": [
    "# El área bajo la curva <0 es la probabilidad\n",
    "# que el sitio A tenga una menor proporción que\n",
    "# el sitio B.\n",
    "print(\"Probabilidad proporcion A menor a B: %.3f\" % \\\n",
    "    np.mean(delta_samples < 0))\n",
    "\n",
    "print(\"Probabilidad proporcion A mayor a B: %.3f\" % \\\n",
    "    np.mean(delta_samples > 0))"
   ]
  },
  {
   "cell_type": "markdown",
   "metadata": {
    "slideshow": {
     "slide_type": "fragment"
    }
   },
   "source": [
    "¿Son esas probabilidades suficientes para decidir? Debatir"
   ]
  },
  {
   "cell_type": "markdown",
   "metadata": {
    "slideshow": {
     "slide_type": "subslide"
    }
   },
   "source": [
    "Acabamos de comparar dos proporciones con técnicas bayesianas.\n",
    "\n",
    "El tamaño muestral se incluye automaticamente en el análisis: menor certeza para $p_B$.\n",
    "\n",
    "Podemos hacer las preguntas que queramos de las muestras e.g. moda, areas bajo la curva, etc."
   ]
  },
  {
   "cell_type": "markdown",
   "metadata": {
    "slideshow": {
     "slide_type": "slide"
    }
   },
   "source": [
    "## Otro ejemplo binario: mentiras\n",
    "\n",
    "Situación: un investigador le interesa la tasa de trampa en una universidad\n",
    "\n",
    "Solución 1: \n",
    "* preguntar a los estudiantes un si o un no (método directo)\n",
    "    * problema: privacidad, desconfianza en promesa de no castigo.\n"
   ]
  },
  {
   "cell_type": "markdown",
   "metadata": {
    "slideshow": {
     "slide_type": "subslide"
    }
   },
   "source": [
    "Solución 2: \n",
    "* lanzar moneda en privado. \n",
    "    * Si cae cara, escriba la verdad. \n",
    "    * Si cae sello vuelva lanzar. Escriba:\n",
    "        * \"sí hago trampa\" si cae cara, \n",
    "        * \"no hago trampa\" si cae sello.\n",
    "\n",
    "Es privado. El experimentador no sabe la fuente de las respuestas. Pueden ser la verdad o el resultado del segundo lanzamiento.\n"
   ]
  },
  {
   "cell_type": "markdown",
   "metadata": {
    "slideshow": {
     "slide_type": "subslide"
    }
   },
   "source": [
    "¿Qué distribución podemos usar para data binaria? Binomial\n",
    "\n",
    "$$P( X = k| p, N) =  {{N}\\choose{k}}  p^k(1-p)^{N-k}$$\n",
    "\n",
    "k: éxitos <br>\n",
    "N: intentos <br>\n",
    "p: probabilidad éxito\n",
    "\n",
    "En lenguaje natural: <br>\n",
    "Si conozco la probabilidad del evento (cara) y el número de intentos (veces que se lanza la moneda), sé la probabilidad de número de éxitos."
   ]
  },
  {
   "cell_type": "markdown",
   "metadata": {
    "slideshow": {
     "slide_type": "subslide"
    }
   },
   "source": [
    "¡A modelar!\n",
    "\n",
    "<center><img src=\"img/4_CB/model_trampa.svg\" width = \"750\" height = '750'></center>\n"
   ]
  },
  {
   "cell_type": "code",
   "execution_count": null,
   "metadata": {
    "slideshow": {
     "slide_type": "subslide"
    }
   },
   "outputs": [],
   "source": [
    "prob_cara = 0.5\n",
    "prob_sello = 1-prob_cara\n",
    "with pm.Model() as model:\n",
    "    prob_trampa = pm.Uniform(\"prob_trampa\", 0, 1) #Prior uniforme \n",
    "    prop_trampo = pm.Deterministic(\n",
    "        \"prop_tramposos\", \n",
    "        prob_cara*prob_trampa + prob_sello*prob_cara\n",
    "    )"
   ]
  },
  {
   "cell_type": "markdown",
   "metadata": {
    "slideshow": {
     "slide_type": "subslide"
    }
   },
   "source": [
    "Ahora, definamos un likelihood binomial para la data."
   ]
  },
  {
   "cell_type": "code",
   "execution_count": null,
   "metadata": {},
   "outputs": [],
   "source": [
    "# Data\n",
    "N = 100 #Número de estudiantes\n",
    "trampo = 35 #Número de reportes que dicen hacer trampa\n",
    "with model:\n",
    "    tramposos = pm.Binomial(\"obs\", N, prop_trampo, \n",
    "                            observed=trampo)\n",
    "\n",
    "# Ya podemos samplear\n",
    "with model:\n",
    "    step = pm.Metropolis(vars=[prob_trampa])\n",
    "    trace = pm.sample(40000, step=step)\n",
    "    burned_trace = trace[15000:]"
   ]
  },
  {
   "cell_type": "code",
   "execution_count": null,
   "metadata": {
    "scrolled": true,
    "slideshow": {
     "slide_type": "subslide"
    }
   },
   "outputs": [],
   "source": [
    "p_trace = burned_trace[\"prob_trampa\"]\n",
    "plt.hist(p_trace, histtype=\"stepfilled\", alpha=0.75, bins=30, \n",
    "         label=\"posterior distribution\", color=\"#348ABD\")\n",
    "plt.vlines([.05, .35], [0, 0], [10000, 10000], alpha=0.35)\n",
    "plt.xlim(-0.05, 1)\n",
    "plt.legend(); "
   ]
  },
  {
   "cell_type": "markdown",
   "metadata": {
    "slideshow": {
     "slide_type": "slide"
    }
   },
   "source": [
    "## TIP\n",
    "\n",
    "Podemos crear un modelo con muchas variables con un for loop. Hay que inicializar un array con tipo de dato `objeto`"
   ]
  },
  {
   "cell_type": "code",
   "execution_count": null,
   "metadata": {},
   "outputs": [],
   "source": [
    "N = 10\n",
    "x = np.ones(N, dtype=object)\n",
    "with pm.Model() as model:\n",
    "    for i in range(0, N):\n",
    "        x[i] = pm.Exponential('x_%i' % i, (i+1.0)**2)"
   ]
  },
  {
   "cell_type": "markdown",
   "metadata": {
    "slideshow": {
     "slide_type": "slide"
    }
   },
   "source": [
    "## Otro ejemplo: desastre del challenger\n",
    "\n",
    "<center><img src=\"img/4_CB/challenger.jpg\" width = \"450\" height = '450'></center>"
   ]
  },
  {
   "cell_type": "markdown",
   "metadata": {
    "slideshow": {
     "slide_type": "subslide"
    }
   },
   "source": [
    "Potencial razón: \n",
    "\n",
    "Daño de un anillo en una conexión de uno de los impulsores de un cohete (i.e. se daño una pieza)"
   ]
  },
  {
   "cell_type": "code",
   "execution_count": null,
   "metadata": {
    "slideshow": {
     "slide_type": "subslide"
    }
   },
   "outputs": [],
   "source": [
    "#Cargar data\n",
    "#Filas: 23 vuelos previos. \n",
    "#Col 1: temperatura externa (fahrenheit); \n",
    "#Col 2: falla de anillo (0 no, 1 si)\n",
    "np.set_printoptions(precision=3, suppress=True)\n",
    "challenger_data = np.genfromtxt(\"data/4_CB/challenger_data.csv\", \n",
    "                                skip_header=1,\n",
    "                                usecols=[1, 2], missing_values=\"NA\",\n",
    "                                delimiter=\",\")\n",
    "#drop the NA values\n",
    "challenger_data = challenger_data[~np.isnan(challenger_data[:, 1])]"
   ]
  },
  {
   "cell_type": "code",
   "execution_count": null,
   "metadata": {
    "slideshow": {
     "slide_type": "skip"
    }
   },
   "outputs": [],
   "source": [
    "#Visualizar data\n",
    "fig = plt.figure(figsize = (6,6))\n",
    "plt.scatter(challenger_data[:, 0], challenger_data[:, 1], s=75, color=\"k\",\n",
    "            alpha=0.5)\n",
    "plt.yticks([0, 1])\n",
    "plt.ylabel(\"¿Daño en anillo? \\n (0: no; 1: si)\", fontsize = 18)\n",
    "plt.xlabel(\"Temperatura Externa (Fahrenheit)\", fontsize = 18)\n",
    "plt.title(\"Defectos en anillos vs temperatura\", fontsize = 22);\n",
    "fig.savefig('img/4_CB/challenger1.svg')\n",
    "plt.close()"
   ]
  },
  {
   "cell_type": "markdown",
   "metadata": {
    "slideshow": {
     "slide_type": "subslide"
    }
   },
   "source": [
    "¿Qué relación vemos entre temperatura ambiental y daño del anillo?\n",
    "\n",
    "<center><img src=\"img/4_CB/challenger1.svg\" width = \"400\" height = '400'></center>"
   ]
  },
  {
   "cell_type": "markdown",
   "metadata": {
    "slideshow": {
     "slide_type": "subslide"
    }
   },
   "source": [
    "Podemos modelar variables binarias con la función logística\n",
    "$$ p(t) = \\frac{1}{1+e^{\\beta t + \\alpha}}$$\n",
    "\n",
    "<center><img src=\"img/4_CB/logistic.svg\" width = \"500\" height = '500'></center>"
   ]
  },
  {
   "cell_type": "markdown",
   "metadata": {
    "slideshow": {
     "slide_type": "subslide"
    }
   },
   "source": [
    "Este es el modelo bayesiano\n",
    "\n",
    "<center><img src=\"img/4_CB/model_challenger.svg\" width = \"600\" height = '600'></center>"
   ]
  },
  {
   "cell_type": "code",
   "execution_count": null,
   "metadata": {
    "slideshow": {
     "slide_type": "subslide"
    }
   },
   "outputs": [],
   "source": [
    "temperature = challenger_data[:, 0]\n",
    "D = challenger_data[:, 1]  # defecto (0 no, 1 si)\n",
    "\n",
    "with pm.Model() as model:\n",
    "    #Caveat computacional: beta y alpha empiezan en cero para evitar \n",
    "    # que p se vaya a las esquinas 0 o 1 desde el comienzo\n",
    "    \n",
    "    beta = pm.Normal(\"beta\", mu=0, tau=0.001, testval=0) \n",
    "    alpha = pm.Normal(\"alpha\", mu=0, tau=0.001, testval=0)\n",
    "    p = pm.Deterministic(\"p\", \n",
    "                         1.0/(1. + tt.exp(beta*temperature + alpha)))   \n",
    "    defecto = pm.Bernoulli(\"defecto\", p, observed=D)\n",
    "    \n",
    "    # Sampleo\n",
    "    start = pm.find_MAP() #Max. a posteriori con valores iniciales\n",
    "    step = pm.Metropolis()\n",
    "    trace = pm.sample(120000, step=step, start=start)\n",
    "    burned_trace = trace[100000::2]"
   ]
  },
  {
   "cell_type": "code",
   "execution_count": null,
   "metadata": {
    "slideshow": {
     "slide_type": "skip"
    }
   },
   "outputs": [],
   "source": [
    "beta_samples = burned_trace[\"beta\"]\n",
    "alpha_samples = burned_trace[\"alpha\"]\n",
    "data = az.from_pymc3(trace=burned_trace, model=model)\n",
    "\n",
    "#Convergencia\n",
    "az.plot_trace(data, figsize = [10,7], var_names=('beta','alpha'));\n",
    "plt.savefig(\"img/4_CB/trace_challenger.svg\"); plt.close()\n",
    "\n",
    "#Densidades\n",
    "fig, ax = plt.subplots(1,2, figsize=(10,5))\n",
    "az.plot_density(\n",
    "    [beta_samples], ax = ax[0],\n",
    "    shade=.2, colors = ['green'], hdi_prob=.95, \n",
    ")\n",
    "az.plot_density(\n",
    "    [alpha_samples], ax = ax[1],\n",
    "    shade=.2, colors = ['red'] ,hdi_prob=.95, \n",
    ")\n",
    "ax[0].set_title(r'$\\beta$', fontsize = 25)\n",
    "ax[1].set_title(r'$\\alpha$', fontsize = 25)\n",
    "fig.savefig(\"img/4_CB/density_challenger.svg\"); plt.close()"
   ]
  },
  {
   "cell_type": "markdown",
   "metadata": {
    "slideshow": {
     "slide_type": "subslide"
    }
   },
   "source": [
    "El modelo combina relativamente bien\n",
    "\n",
    "<center><img src=\"img/4_CB/trace_challenger.svg\" width = \"600\" height = '600'></center>"
   ]
  },
  {
   "cell_type": "markdown",
   "metadata": {
    "slideshow": {
     "slide_type": "subslide"
    }
   },
   "source": [
    "Notable que $\\beta$, la importancia de la temperatura, no incluya cero. La temperatura sí jugó un rol.\n",
    "\n",
    "<center><img src=\"img/4_CB/density_challenger.svg\" width = \"700\" height = '700'></center>"
   ]
  },
  {
   "cell_type": "code",
   "execution_count": null,
   "metadata": {
    "slideshow": {
     "slide_type": "subslide"
    }
   },
   "outputs": [],
   "source": [
    "Con las posterior podemos obtener valores de p"
   ]
  },
  {
   "cell_type": "code",
   "execution_count": null,
   "metadata": {},
   "outputs": [],
   "source": [
    "def logistic(x, beta, alpha=0):\n",
    "    return 1.0 / (1.0 + np.exp(np.dot(beta, x) + alpha))\n",
    "\n",
    "t = np.linspace(temperature.min() - 5, \n",
    "                temperature.max()+5, 50)[:, None] #[:, None] lo vuelve 1D\n",
    "\n",
    "p_t = logistic(t.T, beta_samples[:, None], \n",
    "               alpha_samples[:, None])\n",
    "mean_prob_t = p_t.mean(axis=0)"
   ]
  },
  {
   "cell_type": "code",
   "execution_count": null,
   "metadata": {
    "slideshow": {
     "slide_type": "skip"
    }
   },
   "outputs": [],
   "source": [
    "fig = plt.figure(figsize = (7,5))\n",
    "plt.plot(t, mean_prob_t, lw=3, \n",
    "         label=\"Promedio posterior\")\n",
    "plt.plot(t, p_t[0, :], ls=\"--\", \n",
    "         label=\"Ejemplo del posterior\")\n",
    "plt.plot(t, p_t[-2, :], ls=\"--\", \n",
    "         label=\"Ejemplo del posterior\")\n",
    "plt.scatter(temperature, D, color=\"k\", s=50, alpha=0.5, label = 'Data')\n",
    "plt.title(\"Posterior de prob. de defecto\", fontsize = 18)\n",
    "plt.legend(loc=\"lower left\")\n",
    "plt.ylim(-0.1, 1.1)\n",
    "plt.xlim(t.min(), t.max())\n",
    "plt.ylabel(\"Probabilidad\", fontsize = 15)\n",
    "plt.xlabel(\"Temperatura\", fontsize = 15);\n",
    "fig.savefig('img/4_CB/challenger_p.svg')\n",
    "plt.close();"
   ]
  },
  {
   "cell_type": "markdown",
   "metadata": {
    "slideshow": {
     "slide_type": "subslide"
    }
   },
   "source": [
    "Posterior: promedio y algunos ejemplos. Generamos muchas versiones de la hipótesis logística.\n",
    "<center><img src=\"img/4_CB/challenger_p.svg\" width = \"551\" height = '550'></center>"
   ]
  },
  {
   "cell_type": "markdown",
   "metadata": {
    "slideshow": {
     "slide_type": "subslide"
    }
   },
   "source": [
    "Podemos incluso generar intervalos de certidumbre"
   ]
  },
  {
   "cell_type": "code",
   "execution_count": null,
   "metadata": {},
   "outputs": [],
   "source": [
    "#95 HDI\n",
    "qs = mquantiles(p_t, [0.025, 0.975], axis=0) "
   ]
  },
  {
   "cell_type": "code",
   "execution_count": null,
   "metadata": {
    "slideshow": {
     "slide_type": "skip"
    }
   },
   "outputs": [],
   "source": [
    "fig = plt.figure(figsize = (7,5))\n",
    "plt.fill_between(t[:, 0], *qs, alpha=0.4,\n",
    "                 color=\"#7A68A6\")\n",
    "plt.plot(t[:, 0], qs[0], label=\"95% HDI\", color=\"#7A68A6\", alpha=0.4)\n",
    "plt.plot(t, mean_prob_t, lw=1, ls=\"--\", color=\"k\",\n",
    "         label=\"Promedio posterior\")\n",
    "plt.xlim(t.min(), t.max())\n",
    "plt.ylim(-0.02, 1.02)\n",
    "plt.scatter(temperature, D, color=\"k\", s=50, alpha=0.5, label='Data')\n",
    "plt.xlabel(\"Temperatura\", fontsize = 15)\n",
    "plt.ylabel(\"Probabilidad\", fontsize = 15)\n",
    "plt.title(\"Posterior de prob. de defecto\", fontsize = 18);\n",
    "plt.legend(loc=\"lower left\")\n",
    "fig.savefig('img/4_CB/challenger_p95.svg')\n",
    "plt.close();"
   ]
  },
  {
   "cell_type": "markdown",
   "metadata": {
    "slideshow": {
     "slide_type": "subslide"
    }
   },
   "source": [
    "Podemos saber donde tenemos más incertidumbre: temperaturas entre 50 y 70. Enfocarnos en recoger datos en esa zonas.\n",
    "<center><img src=\"img/4_CB/challenger_p95.svg\" width = \"551\" height = '550'></center>"
   ]
  },
  {
   "cell_type": "markdown",
   "metadata": {
    "slideshow": {
     "slide_type": "subslide"
    }
   },
   "source": [
    "Podemos poner probabilidades para la temperatura que hizo el día del desastre: 31 Fahrenheit"
   ]
  },
  {
   "cell_type": "code",
   "execution_count": null,
   "metadata": {},
   "outputs": [],
   "source": [
    "prob_31 = logistic(31, beta_samples, alpha_samples)"
   ]
  },
  {
   "cell_type": "code",
   "execution_count": null,
   "metadata": {
    "slideshow": {
     "slide_type": "skip"
    }
   },
   "outputs": [],
   "source": [
    "fig, ax = plt.subplots(1,1, figsize=(5,5))\n",
    "az.plot_density(\n",
    "    [prob_31], ax = ax,\n",
    "    shade=.2, colors = ['purple'], hdi_prob=.95, \n",
    ")\n",
    "ax.set_xlim(0.997, 1)\n",
    "ax.set_title(r\"Probabilidad de defecto en el anillo O, dado $t = 31$ Fahrenheit\",\n",
    "            fontsize = 18)\n",
    "ax.set_xlabel(\"Probabilidad\",fontsize = 15);\n",
    "fig.savefig(\"img/4_CB/challenger_p_dia.svg\")\n",
    "plt.close()"
   ]
  },
  {
   "cell_type": "markdown",
   "metadata": {},
   "source": [
    "<center><img src=\"img/4_CB/challenger_p_dia.svg\" width = \"400\" height = '400'></center>"
   ]
  },
  {
   "cell_type": "markdown",
   "metadata": {
    "slideshow": {
     "slide_type": "slide"
    }
   },
   "source": [
    "# En resumen ...\n",
    "\n",
    "Usamos PyMC para tomar muestras.\n",
    "\n",
    "La sintaxis básica es \n",
    "\n",
    "with pm.Model() as ELNOMBREQUEQUIERA: <br>\n",
    "&nbsp;&nbsp;&nbsp;&nbsp;&nbsp;&nbsp;&nbsp;&nbsp;&nbsp; distribuciones y sampleador"
   ]
  },
  {
   "cell_type": "markdown",
   "metadata": {
    "slideshow": {
     "slide_type": "slide"
    }
   },
   "source": [
    "### Ejercicios\n",
    "\n",
    "1\\. Ponga valores extremos para el ejemplo de trampas. ¿Qué pasa si observamos 25 respuestas afirmativas? ¿10?¿50? Escriba una interpretación.\n",
    "\n",
    "2\\. Cambie la moneda en el ejemplo de trampas. Escriba una interpretación.\n",
    "\n",
    "3\\. Cambie los priors, que no sea uniforme, en el ejemplo de trampas. Escriba una interpretación.\n",
    "\n",
    "4\\. Gráfique $\\alpha$ contra $\\beta$ del ejemplo de challenger ¿Qué significa, cómo la interpreta?\n"
   ]
  },
  {
   "cell_type": "code",
   "execution_count": null,
   "metadata": {
    "slideshow": {
     "slide_type": "skip"
    }
   },
   "outputs": [],
   "source": [
    "!jupyter nbconvert --to slides --SlidesExporter.reveal_theme='solarized' --SlidesExporter.reveal_transition='none' --SlidesExporter.reveal_scroll=True 4_Comp_2.ipynb #Saves slide"
   ]
  },
  {
   "cell_type": "markdown",
   "metadata": {
    "slideshow": {
     "slide_type": "skip"
    }
   },
   "source": [
    "\n",
    "Para salvar las diapositivas a PDF (en Chrome), correr nbconvert para que abra las diapositivas en un servidor local (la transition y el theme son opcionales):\n",
    "\n",
    "!jupyter nbconvert --to slides --SlidesExporter.reveal_theme='solarized' --SlidesExporter.reveal_transition='convex' nombre_de_mi_notebook.ipynb --post serve\n",
    "\n",
    "Luego, a la dirección añadirle ?print-pdf después del .html:\n",
    "\n",
    "http://127.0.0.1:8000/nombre_de_mi_notebook.slides.html?print-pdf\n",
    "\n",
    "Y luego, imprimir y darle salvar como pdf"
   ]
  },
  {
   "cell_type": "code",
   "execution_count": null,
   "metadata": {
    "slideshow": {
     "slide_type": "skip"
    }
   },
   "outputs": [],
   "source": [
    "#Para salvar a pdf\n",
    "!jupyter nbconvert --to slides --SlidesExporter.reveal_theme='solarized' --SlidesExporter.reveal_transition='none' 4_Comp_2.ipynb --post serve\n"
   ]
  },
  {
   "cell_type": "markdown",
   "metadata": {
    "slideshow": {
     "slide_type": "skip"
    }
   },
   "source": [
    "# Anexos"
   ]
  },
  {
   "cell_type": "code",
   "execution_count": null,
   "metadata": {
    "slideshow": {
     "slide_type": "skip"
    }
   },
   "outputs": [],
   "source": [
    "#Memoria\n",
    "dot_text = 'digraph G {rankdir=LR; compound=true; newrank=true; labelloc=\"t\";label=\"Caída Exponencial de la Memoria\";\\\n",
    "           /* general properties*/\\\n",
    "           node [margin=0, fixedsize=true, shape=circle, width=0.7, lblstyle=\"font=\\\\small\"];\\\n",
    "           alpha -> theta;\\\n",
    "           beta -> theta;\\\n",
    "           n -> k;\\\n",
    "           subgraph cluster0{margin = 10; labeljust=l; lblstyle=\"font=\\\\small\";\\\n",
    "             label = \" \"; label = \"$Tiempo para recordar_j$\";\\\n",
    "             style = rounded;\\\n",
    "             t -> theta;\\\n",
    "             theta -> k ;\\\n",
    "             subgraph cluster1{labelloc = b\\\n",
    "                label = \" \"; label = \"$Persona_i$\"; labeljust=l;\\\n",
    "                k;\\\n",
    "              }\\\n",
    "           }\\\n",
    "           { rank=same; t; theta};\\\n",
    "           { rank=same; n; k};\\\n",
    "           /* nodes */\\\n",
    "           alpha[label=\"$alpha$\", lblstyle=\"font=\\\\large\"];\\\n",
    "           beta[label=\"$beta$\", lblstyle=\"font=\\\\large\"];\\\n",
    "           theta[peripheries=2, label=\"$Mem_j$\"];\\\n",
    "           t[label=\"$t_j$\", fillcolor=gray, style=filled];\\\n",
    "           k[shape=square, label=\"$Rec_{i,j}$\", fillcolor=gray,style=filled];\\\n",
    "           n[shape=square, label=\"$Items_n$\",fillcolor=gray,style=filled];\\\n",
    "           }' #warning: use single quote at start and end; double quotes for labels\n",
    "\n",
    "s = Source(dot_text, filename=\"img/4_CB/model_mem.gv\", format=\"svg\") #THIS IS NOT THE FINAL ONE\n",
    "s.view()\n",
    "\n",
    "#To typeset latex stuff on the image: \n",
    "#1) open svg in inkscape and write latex formulas. Export as pdf (click the one that says latex)\n",
    "#   to change fontsize of latex in inkscape write before the expression: \n",
    "#        \\fontsize{25pt}{1em} $latex expression$ ... change #pt for size\n",
    "#2) go to overleaf or latex editor of choice and do this (https://castel.dev/post/lecture-notes-2/):\n",
    "#   2.1) In the preamble:\n",
    "#  \\usepackage{import}\n",
    "#  \\usepackage{xifthen}\n",
    "#  \\usepackage{pdfpages}\n",
    "#  \\usepackage{transparent}\n",
    "#  \\usepackage{graphics} \n",
    "#  \\usepackage{bigints}\n",
    "\n",
    "#  \\newcommand{\\incfig}[1]{%\n",
    "#      \\def\\svgwidth{\\columnwidth}\n",
    "#      \\import{./figures/}{#1.pdf_tex} %PUT the inkscape .pdf_tex AND .pdf in a local folder called figures\n",
    "#  }\n",
    "#   2.2)In the body:\n",
    "#  \\begin{figure}[ht]\n",
    "#      \\centering\n",
    "#      \\scalebox{.65}{\\incfig{your_inkscape.pdf_tex}} #change scalebox proportion to rescale\n",
    "#      \\caption{Riemmans theorem}\n",
    "#      \\label{fig:riemmans-theorem}\n",
    "#  \\end{figure}\n"
   ]
  },
  {
   "cell_type": "code",
   "execution_count": null,
   "metadata": {
    "slideshow": {
     "slide_type": "skip"
    }
   },
   "outputs": [],
   "source": [
    "#Msjs texto \n",
    "dot_text = 'digraph G {rankdir=LR; compound=true; newrank=true; labelloc=\"t\";\\\n",
    "           label=\"Mensajes de Texto por Día\";\\\n",
    "           /* general properties*/\\\n",
    "           node [margin=0, fixedsize=true, shape=circle, width=0.7, lblstyle=\"font=\\\\small\"];\\\n",
    "           alpha -> lambda_a;\\\n",
    "           alpha -> lambda_b;\\\n",
    "           lambda_a -> lambda;\\\n",
    "           lambda_b -> lambda;\\\n",
    "           tau -> lambda;\\\n",
    "           subgraph cluster0{style = rounded; labeljust=l;\\\n",
    "             label = \"$d Días$\";\\\n",
    "             lambda -> dias;\\\n",
    "           }\\\n",
    "           /* nodes */\\\n",
    "           alpha [label = \"$alpha$\"];\\\n",
    "           lambda_a [label = \"$lambda_a$\"];\\\n",
    "           lambda_b [label = \"$lambda_b$\"];\\\n",
    "           lambda [label = \"$lambda_{d}$\", peripheries = 2];\\\n",
    "           tau [label = \"$tau$\", shape = square];\\\n",
    "           dias [label = \"$Conteo_{d}$\", width=1, shape = square, style = filled, fillcolor = gray];\\\n",
    "           }' #warning: use single quote at start and end; double quotes for labels\n",
    "s = Source(dot_text, filename=\"img/4_CB/model_msj.gv\", format=\"svg\") #THIS IS NOT THE FINAL ONE\n",
    "s.view()\n",
    "#\\fontsize{25pt}{1em} "
   ]
  },
  {
   "cell_type": "code",
   "execution_count": null,
   "metadata": {
    "slideshow": {
     "slide_type": "skip"
    }
   },
   "outputs": [],
   "source": [
    "fig  = plt.figure(figsize = [12.5,5.5])\n",
    "count_data = np.loadtxt(\"data/4_CB/txtdata.csv\")\n",
    "n_count_data = len(count_data)\n",
    "plt.bar(np.arange(n_count_data), count_data, color=\"#348ABD\")\n",
    "plt.xlabel(\"Tiempo (días)\", fontsize = 15)\n",
    "plt.ylabel(\"Mensajes de texto recibidos\", fontsize = 15)\n",
    "plt.title(\"¿Cambiaron los hábitos de texteo?\", fontsize = 20)\n",
    "plt.xlim(0, n_count_data);\n",
    "fig.savefig(\"img/4_CB/mstxt.svg\")\n",
    "plt.close()"
   ]
  },
  {
   "cell_type": "code",
   "execution_count": null,
   "metadata": {
    "slideshow": {
     "slide_type": "skip"
    }
   },
   "outputs": [],
   "source": [
    "# Visualización distribución Poisson\n",
    "lambdda = 25\n",
    "fig, ax = plt.subplots(1, 1)\n",
    "x = np.arange(st.poisson.ppf(0.01, lambdda), st.poisson.ppf(0.99, lambdda))\n",
    "ax.plot(x, st.poisson.pmf(x, lambdda), 'bo', ms=8, label='poisson pmf')\n",
    "ax.vlines(x, 0, st.poisson.pmf(x, lambdda), colors='b', lw=5, alpha=0.5)\n",
    "ax.set_xlabel('Conteo', fontsize = 15);\n",
    "fig.savefig(\"img/4_CB/poisson.svg\")\n",
    "plt.close()"
   ]
  },
  {
   "cell_type": "code",
   "execution_count": null,
   "metadata": {
    "slideshow": {
     "slide_type": "skip"
    }
   },
   "outputs": [],
   "source": [
    "fig, ax = plt.subplots(1, 1)\n",
    "count_data = np.loadtxt(\"data/4_CB/txtdata.csv\")\n",
    "rate =  1 / (1/count_data.mean())\n",
    "x = np.linspace(st.expon.ppf(0.01, scale = rate), st.expon.ppf(0.99, scale = rate), 100)\n",
    "ax.plot(x, st.expon.pdf(x, scale = rate),'r-', lw=5, alpha=0.6, \n",
    "        label='Exponential; rate = ' + str(round(rate,2)))\n",
    "ax.set_xlabel('Parámetro Poisson', fontsize = 15);\n",
    "ax.set_ylabel('PDF', fontsize = 15);\n",
    "ax.legend()\n",
    "fig.savefig(\"img/4_CB/exp.svg\")"
   ]
  },
  {
   "cell_type": "code",
   "execution_count": null,
   "metadata": {
    "slideshow": {
     "slide_type": "skip"
    }
   },
   "outputs": [],
   "source": [
    "#A/B testing\n",
    "dot_text = 'digraph G {rankdir=TB; compound=true; newrank=true; labelloc=\"t\";\\\n",
    "           label=\"A/B testing\";\\\n",
    "           /* general properties*/\\\n",
    "           node [margin=0, fixedsize=true, shape=circle, width=0.5];\\\n",
    "           theta_1 -> k_1;\\\n",
    "           n_1 -> k_1;\\\n",
    "           theta_2 -> k_2;\\\n",
    "           n_2 -> k_2;\\\n",
    "           theta_1->delta;\\\n",
    "           theta_2->delta;\\\n",
    "           /* nodes */\\\n",
    "           delta [label = \"$delta$\", peripheries = 2];\\\n",
    "           theta_1 [label = \"$theta_1$\"];\\\n",
    "           theta_2 [label = \"$theta_2$\"];\\\n",
    "           k_1 [label = \"$k_{1}$\", shape = square, style = filled, fillcolor = gray];\\\n",
    "           k_2 [label = \"$k_{2}$\", shape = square, style = filled, fillcolor = gray];\\\n",
    "           n_1 [label = \"$n_{1}$\", shape = square, style = filled, fillcolor = gray];\\\n",
    "           n_2 [label = \"$n_{2}$\", shape = square, style = filled, fillcolor = gray];\\\n",
    "           }' #warning: use single quote at start and end; double quotes for labels\n",
    "s = Source(dot_text, filename=\"img/4_CB/model_ab.gv\", format=\"svg\") #THIS IS NOT THE FINAL ONE\n",
    "s.view()\n",
    "#\\fontsize{25pt}{1em} \n"
   ]
  },
  {
   "cell_type": "code",
   "execution_count": null,
   "metadata": {
    "slideshow": {
     "slide_type": "skip"
    }
   },
   "outputs": [],
   "source": [
    "#Tramposos\n",
    "dot_text = 'digraph G {rankdir=TB; compound=true; newrank=true; labelloc=\"t\";\\\n",
    "           label=\"Tramposos\";\\\n",
    "           /* general properties*/\\\n",
    "           node [margin=0, fixedsize=true, shape=circle, width=0.7];\\\n",
    "           p_trampa -> p_obt;\\\n",
    "           p_obt -> X;\\\n",
    "           N -> X;\\\n",
    "           p_trampa [label = \"$Prob_{trampa}$\"];\\\n",
    "           p_obt [label = \"$Prop_{tramposos}$\", peripheries = 2, width=0.9];\\\n",
    "           X [label = \"$Tramposos$\", shape = square, width=0.9,\\\n",
    "                 style = filled, fillcolor = gray];\\\n",
    "           N [fillcolor = gray, style = filled, shape = square];\\\n",
    "           }' #warning: use single quote at start and end; double quotes for labels\n",
    "s = Source(dot_text, filename=\"img/4_CB/model_trampa.gv\", format=\"svg\") #THIS IS NOT THE FINAL ONE\n",
    "s.view()\n",
    "#\\fontsize{25pt}{1em} \n",
    "\n"
   ]
  },
  {
   "cell_type": "code",
   "execution_count": null,
   "metadata": {
    "slideshow": {
     "slide_type": "skip"
    }
   },
   "outputs": [],
   "source": [
    "#Gráfica logística\n",
    "def logistic(x, beta, alpha=0):\n",
    "    return 1.0 / (1.0 + np.exp(np.dot(beta, x) + alpha))\n",
    "\n",
    "x = np.linspace(-4, 4, 100)\n",
    "\n",
    "plt.plot(x, logistic(x, 1), label=r\"$\\beta = 1$\", ls=\"--\", lw=1)\n",
    "plt.plot(x, logistic(x, 3), label=r\"$\\beta = 3$\", ls=\"--\", lw=1)\n",
    "plt.plot(x, logistic(x, -5), label=r\"$\\beta = -5$\", ls=\"--\", lw=1)\n",
    "\n",
    "plt.plot(x, logistic(x, 1, 1), label=r\"$\\beta = 1, \\alpha = 1$\",\n",
    "         color=\"#348ABD\")\n",
    "plt.plot(x, logistic(x, 3, -2), label=r\"$\\beta = 3, \\alpha = -2$\",\n",
    "         color=\"#A60628\")\n",
    "plt.plot(x, logistic(x, -5, 7), label=r\"$\\beta = -5, \\alpha = 7$\",\n",
    "         color=\"#7A68A6\")\n",
    "\n",
    "plt.legend(loc=\"lower left\");\n",
    "plt.savefig('img/4_CB/logistic.svg');\n",
    "plt.close();"
   ]
  },
  {
   "cell_type": "code",
   "execution_count": null,
   "metadata": {
    "slideshow": {
     "slide_type": "skip"
    }
   },
   "outputs": [],
   "source": [
    "#Challenger\n",
    "dot_text = 'digraph G {rankdir=TB; compound=true; newrank=true; labelloc=\"t\";\\\n",
    "           label=\"Challenger\";\\\n",
    "           /* general properties*/\\\n",
    "           node [margin=0, fixedsize=true, shape=circle, width=0.6];\\\n",
    "           beta -> p;\\\n",
    "           alpha -> p;\\\n",
    "           temp->p;\\\n",
    "           p->obs;\\\n",
    "           /* nodes */\\\n",
    "           beta [label = \"$beta$\"];\\\n",
    "           alpha [label = \"$alpha$\"];\\\n",
    "           p [label = \"$p$\", peripheries = 2];\\\n",
    "           obs [label = \"Defecto\", shape = square, style = filled, fillcolor=gray];\\\n",
    "           temp [label = \"Clima\", style = filled, fillcolor=gray];\\\n",
    "           }' #warning: use single quote at start and end; double quotes for labels\n",
    "s = Source(dot_text, filename=\"img/4_CB/model_challenger.gv\", format=\"svg\") #THIS IS NOT THE FINAL ONE\n",
    "s.view()\n",
    "#\\fontsize{25pt}{1em} \n",
    "\n",
    "#beta_dist [texlbl = \"$\\\\beta \\sim  Normal(\\\\mu=0, \\\\sigma^2=1000)$\", shape = plaintext];\\\n",
    "#alpha_dist [texlbl = \"$\\\\alpha \\sim  Normal(\\\\mu=0, \\\\sigma^2=1000)$\", shape = plaintext];\\\n",
    "#obs_dist [texlbl = \"$Defecto \\sim Bernoulli(p)$\", shape = plaintext];\\\n",
    "#p_dist [texlbl = \"$p = \\\\frac{1}{1+e^{\\\\beta \\\\text{Clima} + \\\\alpha}}$\", shape = plaintext];\\\n"
   ]
  },
  {
   "cell_type": "code",
   "execution_count": null,
   "metadata": {
    "slideshow": {
     "slide_type": "skip"
    }
   },
   "outputs": [],
   "source": [
    "#NO BORRAR. FORMA ALTERNATIVA DE HACER DIAGRAMAS. PROBLEMA: dot2tex NO SIEMPRE ME SIRVE\n",
    "''' \n",
    "#Memoria\n",
    "dot_text = 'digraph G {rankdir=LR; compound=true; newrank=true; labelloc=\"t\";label=\"Caída Exponencial de la Memoria\";\\\n",
    "           /* general properties*/\\\n",
    "           node [margin=0, fixedsize=true, shape=circle, width=0.4, lblstyle=\"font=\\\\small\"];\\\n",
    "           k->placeholder[style = invis];\\\n",
    "           placeholder->alpha_dist[style = invis];\\\n",
    "           alpha_dist->beta_dist -> theta_dist -> k_dist[style = invis];\\\n",
    "           alpha -> theta;\\\n",
    "           beta -> theta;\\\n",
    "           n -> k;\\\n",
    "           subgraph cluster0{margin = 10; labeljust=l; lblstyle=\"font=\\\\small\";\\\n",
    "             label = \" \"; texlbl = \"$\\;\\;\\;\\;\\;\\;\\;\\;\\;\\;\\\\;\\;\\;\\;\\\\;\\;\\;\\;\\\n",
    "                                     \\;\\;\\;\\;\\;\\;\\;\\;\\;\\;\\;\\;\\;\\;\\;j$ Tiempo para recordar\";\\\n",
    "             style = rounded;\\\n",
    "             t -> theta;\\\n",
    "             theta -> k ;\\\n",
    "             subgraph cluster1{labelloc = b\\\n",
    "                label = \" \"; texlbl = \"$\\;\\;\\;\\;\\;\\;\\;\\;\\;\\;\\;\\; i$ Personas\";\\\n",
    "                k;\\\n",
    "              }\\\n",
    "           }\\\n",
    "           { rank=same; t; theta};\\\n",
    "           { rank=same; n; k};\\\n",
    "           { rank=same; alpha_dist; beta_dist; theta_dist; k_dist};\\\n",
    "           /* nodes */\\\n",
    "           placeholder[style=invis, shape = square, width = 0.1, margin = 0, label =\"\"];\\\n",
    "           alpha[texlbl=\"$\\\\alpha$\", lblstyle=\"font=\\\\large\"];\\\n",
    "           beta[texlbl=\"$\\\\beta$\", lblstyle=\"font=\\\\large\"];\\\n",
    "           theta[peripheries=2, texlbl=\"$Mem_j$\"];\\\n",
    "           t[texlbl=\"$t_j$\", fillcolor=gray, style=filled];\\\n",
    "           k[shape=square, texlbl=\"$Rec_{i,j}$\", fillcolor=gray,style=filled];\\\n",
    "           n[shape=square, texlbl=\"$Items_n$\",fillcolor=gray,style=filled];\\\n",
    "           alpha_dist[shape = plaintext, margin = 0, texlbl=\"$\\\\alpha \\\\sim Beta(1,1)$\", lblstyle=\"font=\\\\small\"];\\\n",
    "           beta_dist[shape = plaintext, margin = 0, texlbl=\"$\\\\beta \\\\sim Beta(1,1)$\",lblstyle=\"font=\\\\small\"];\\\n",
    "           theta_dist[shape = plaintext, margin = 0, texlbl=\"$Mem_j \\\\sim min\\\\left(1, e^{-\\\\alpha t_j} + \\\\beta\\\\right)$\", lblstyle=\"font=\\\\small\"];\\\n",
    "           k_dist[shape = plaintext, margin = 0, texlbl=\"$Rec_{i,j} \\\\sim Binomial(Mem_j,Items_n)$\", lblstyle=\"font=\\\\small\"];\\\n",
    "           }' #warning: use single quote at start and end; double quotes for labels\n",
    "\n",
    "\n",
    "tex = d2t.dot2tex(dot_text, format='tikz', preproc = True) #makes sure it looks good in tex\n",
    "tex = d2t.dot2tex(dot_text, texmode = 'verbatim', crop=True) #crop: the page size equal to the model\n",
    "diagram_tex = open('img/4_CB/model_mem.tex', 'w')\n",
    "diagram_tex.write(tex) \n",
    "diagram_tex.close()\n",
    "\n",
    "# this builds a pdf-file inside a directory\n",
    "pdf = build_pdf(tex)\n",
    "pdf.save_to('img/4_CB/model_mem.pdf') #convertir a svg y pulir/editar posiciones en inkscape\n",
    "'''"
   ]
  }
 ],
 "metadata": {
  "celltoolbar": "Slideshow",
  "kernelspec": {
   "display_name": "Python 3",
   "language": "python",
   "name": "python3"
  },
  "language_info": {
   "codemirror_mode": {
    "name": "ipython",
    "version": 3
   },
   "file_extension": ".py",
   "mimetype": "text/x-python",
   "name": "python",
   "nbconvert_exporter": "python",
   "pygments_lexer": "ipython3",
   "version": "3.8.5"
  },
  "rise": {
   "chalkboard": {
    "color": [
     "rgb(250, 0, 0)",
     "rgb(0, 250, 250)"
    ]
   },
   "enable_chalkboard": true,
   "scroll": true,
   "theme": "simple",
   "transition": "none"
  }
 },
 "nbformat": 4,
 "nbformat_minor": 4
}
