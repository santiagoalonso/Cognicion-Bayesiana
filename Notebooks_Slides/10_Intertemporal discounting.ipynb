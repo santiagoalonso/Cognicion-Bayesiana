{
 "cells": [
  {
   "cell_type": "code",
   "execution_count": 2,
   "id": "0cf096be",
   "metadata": {},
   "outputs": [
    {
     "name": "stdout",
     "output_type": "stream",
     "text": [
      "Running on PyMC v5.1.1\n"
     ]
    }
   ],
   "source": [
    "import os\n",
    "import re\n",
    "import operator\n",
    "\n",
    "#Tables and matrices\n",
    "import numpy as np\n",
    "import pandas as pd\n",
    "import sympy as sym\n",
    "\n",
    "#Stats\n",
    "import scipy.stats as st\n",
    "from scipy.optimize import fmin\n",
    "from scipy import integrate\n",
    "from scipy.stats.mstats import mquantiles\n",
    "import statistics \n",
    "\n",
    "#Probabilistic programs\n",
    "#!pip install pymc==5.0.2\n",
    "#!pip install pytensor\n",
    "import pymc as pm\n",
    "import pytensor.tensor as pt\n",
    "#import aesara.tensor as at\n",
    "print('Running on PyMC v{}'.format(pm.__version__))\n",
    "\n",
    "\n",
    "#Graphs\n",
    "import seaborn as sns\n",
    "import plotly.graph_objects as go\n",
    "import altair as alt\n",
    "#from altair_saver import save #ademas instalar en terminal: brew cask install chromedriver\n",
    "import matplotlib.pyplot as plt\n",
    "from matplotlib import cm\n",
    "from matplotlib.gridspec import GridSpec\n",
    "from matplotlib import animation, rc\n",
    "from IPython.display import display, HTML, Markdown\n",
    "import ipywidgets as widgets\n",
    "from ipywidgets import interact, interactive, fixed, HBox, VBox, Layout\n",
    "#from graphviz import Source, Digraph\n",
    "#import dot2tex as d2t\n",
    "#from latex import build_pdf\n",
    "from mpl_toolkits.mplot3d import axes3d\n",
    "import arviz as az"
   ]
  },
  {
   "cell_type": "markdown",
   "id": "12b5f50f",
   "metadata": {
    "slideshow": {
     "slide_type": "slide"
    }
   },
   "source": [
    "# Decision-making (intertemporal discounting)\n",
    "\n",
    "Santiago Alonso-Díaz, PhD <br>\n",
    "Universidad Javeriana"
   ]
  },
  {
   "cell_type": "markdown",
   "id": "e9a23388",
   "metadata": {
    "slideshow": {
     "slide_type": "slide"
    }
   },
   "source": [
    "<center><img src=\"img/10_CB/Cars_in_time.png\" width = \"600\" height = '600'></center>"
   ]
  },
  {
   "cell_type": "markdown",
   "id": "6ce2d2fb",
   "metadata": {
    "slideshow": {
     "slide_type": "slide"
    }
   },
   "source": [
    "[Marshmellow Study](https://www.youtube.com/watch?v=JsQMdECFnUQ)"
   ]
  },
  {
   "cell_type": "markdown",
   "id": "eb38cbc8",
   "metadata": {
    "slideshow": {
     "slide_type": "slide"
    }
   },
   "source": [
    "Basic idea behind all theories of intertemporal discounting:\n",
    "\n",
    "Goods and services lose value in time i.e. the future is discounted"
   ]
  },
  {
   "cell_type": "markdown",
   "id": "9cab735b",
   "metadata": {
    "slideshow": {
     "slide_type": "slide"
    }
   },
   "source": [
    "In general, the theory assumes that $x$ is preferred over $y$ in a time period $T$ if for a discount factor $\\delta \\in (0,1]$\n",
    "\n",
    "$$\\sum_{t \\in T} \\delta^tu(x_t)  \\ge \\sum_{t \\in T} \\delta^tu(y_t) $$\n",
    "\n",
    "\n"
   ]
  },
  {
   "cell_type": "markdown",
   "id": "a27e5701",
   "metadata": {
    "slideshow": {
     "slide_type": "slide"
    }
   },
   "source": [
    "Let's see an example of a discounting function. We invest USD 10000, with an interest rate of 5%, for n periods (e.g. years). H\n",
    "\n",
    "**Period 1**\n",
    "\n",
    "$vf_1 = 10000 + 10000*0.05$    \n",
    "\n",
    "$vf_1 = 10000(1+0.05)$\n",
    "\n",
    "$vf_1 = 10000(1+0.05)^1$\n",
    "\n",
    "**Period 2** \n",
    "   \n",
    "$vf_2 = 10000(1+0.05)^1 + 10000(1+0.05)^1*0.05$\n",
    "\n",
    "$vf_2 = 10000(1+0.05)^1(1+0.05)$\n",
    "\n",
    "$vf_2 = 10000(1+0.05)^2$\n",
    "\n",
    "**Period 3**\n",
    "\n",
    "$vf_3 = 10000(1+0.05)^2 + 10000(1+0.05)^2*0.05$\n",
    "\n",
    "$vf_3 = 10000(1+0.05)^2(1+0.05)$\n",
    "\n",
    "$vf_3 = 10000(1+0.05)^3$\n",
    "\n",
    "\n",
    "**Period n**\n",
    "\n",
    "$vf_n = 10000(1+0.05)^n$\n",
    "\n",
    "\n"
   ]
  },
  {
   "cell_type": "markdown",
   "id": "0f81c163",
   "metadata": {
    "slideshow": {
     "slide_type": "slide"
    }
   },
   "source": [
    "$$vf = vp(1+i)^n$$\n",
    "\n",
    "$$vp = \\frac{vf}{(1+i)^n}$$\n",
    "\n",
    "Future values ($vf$) get discounted as a function of periods $n$ and interest rate $i$\n",
    "\n",
    "People should prefer today $x$ over $y$ if $vp(x)>vp(y)$"
   ]
  },
  {
   "cell_type": "markdown",
   "id": "8585192d",
   "metadata": {
    "slideshow": {
     "slide_type": "slide"
    }
   },
   "source": [
    "The discount factor that multiplies $vf$ can change. These two are popular (k discount, D delay)\n",
    "\n",
    "Exponential: $e^{-kD}$\n",
    "\n",
    "Hyperbolic: $(1+kD)^{-1}$"
   ]
  },
  {
   "cell_type": "markdown",
   "id": "2a387d7a",
   "metadata": {
    "slideshow": {
     "slide_type": "slide"
    }
   },
   "source": [
    "Exponential: Is intertemporal consistent (derivative is linear on the delay) e.g. proportionally,. 0 vs 10 days is the same as 100 vs 110 days\n",
    "\n",
    "Hyperbolic: tends to provides better fits to human data; it is intertemporal inconsistent (derivative is nonlinear on the delay value) and it is more impatient (faster discounts)"
   ]
  },
  {
   "cell_type": "code",
   "execution_count": 3,
   "id": "7c1e340d",
   "metadata": {},
   "outputs": [
    {
     "data": {
      "text/latex": [
       "$\\displaystyle - e^{- x}$"
      ],
      "text/plain": [
       "-exp(-x)"
      ]
     },
     "execution_count": 3,
     "metadata": {},
     "output_type": "execute_result"
    }
   ],
   "source": [
    "x = sym.Symbol('x')\n",
    "sym.diff(sym.exp(-x), x) #derivative"
   ]
  },
  {
   "cell_type": "code",
   "execution_count": 4,
   "id": "808afa18",
   "metadata": {},
   "outputs": [
    {
     "data": {
      "text/latex": [
       "$\\displaystyle - \\frac{1}{\\left(x + 1\\right)^{2}}$"
      ],
      "text/plain": [
       "-1/(x + 1)**2"
      ]
     },
     "execution_count": 4,
     "metadata": {},
     "output_type": "execute_result"
    }
   ],
   "source": [
    "sym.diff((1+x)**(-1), x)"
   ]
  },
  {
   "cell_type": "code",
   "execution_count": 5,
   "id": "2bebf05d",
   "metadata": {
    "slideshow": {
     "slide_type": "slide"
    }
   },
   "outputs": [
    {
     "data": {
      "image/png": "[encoded data removed]",
      "text/plain": [
       "<Figure size 640x480 with 1 Axes>"
      ]
     },
     "metadata": {},
     "output_type": "display_data"
    }
   ],
   "source": [
    "VF = 10000\n",
    "k =0.2\n",
    "D = np.arange(0,40)\n",
    "plt.plot(D, VF*np.exp(-k*D), label = 'Exponential')\n",
    "plt.plot(D, VF*(1+k*D)**(-1), label = 'Hyperbolic')\n",
    "plt.legend();"
   ]
  },
  {
   "cell_type": "code",
   "execution_count": 6,
   "id": "a205c068",
   "metadata": {},
   "outputs": [
    {
     "data": {
      "text/plain": [
       "[36.39876668876283, 36.39876668876283, 3.3333333333333335, 0.8717948717948718]"
      ]
     },
     "execution_count": 6,
     "metadata": {},
     "output_type": "execute_result"
    }
   ],
   "source": [
    "#Example of preference reversal\n",
    "VF1 = 10000\n",
    "VF2 = 15000\n",
    "Interval = 20 #e.g. in months\n",
    "\n",
    "D1 = 0 #delays e.g. in months\n",
    "D2 = D1 + Interval\n",
    "exp_discount_A = (VF1*np.exp(-k*D1)) / (VF2*np.exp(-k*D2)) \n",
    "hyp_discount_A = (VF1*(1+k*D1)**(-1)) / (VF2*(1+k*D2)**(-1))\n",
    "\n",
    "D1 = 60\n",
    "D2 = D1 + Interval\n",
    "exp_discount_B = (VF1*np.exp(-k*D1)) / (VF2*np.exp(-k*D2)) \n",
    "hyp_discount_B = (VF1*(1+k*D1)**(-1)) / (VF2*(1+k*D2)**(-1))\n",
    "\n",
    "[exp_discount_A, exp_discount_B, hyp_discount_A, hyp_discount_B] #>1 VF1 preferred; <1 VF2 preferred; Note that exponential discount is constant\n",
    "\n"
   ]
  },
  {
   "cell_type": "markdown",
   "id": "b02abfea",
   "metadata": {
    "slideshow": {
     "slide_type": "slide"
    }
   },
   "source": [
    "# Empirical intertemporal behavior"
   ]
  },
  {
   "cell_type": "markdown",
   "id": "df620761",
   "metadata": {
    "slideshow": {
     "slide_type": "slide"
    }
   },
   "source": [
    "## Preference reversals (Green, Fristoe, & Myerson, 1994)"
   ]
  },
  {
   "cell_type": "markdown",
   "id": "5556641b",
   "metadata": {
    "slideshow": {
     "slide_type": "slide"
    }
   },
   "source": [
    "Procedure (n = 24):\n",
    "    \n",
    "<center><img src=\"img/10_CB/Pref_Reversal.png\" width = \"600\" height = '600'></center>"
   ]
  },
  {
   "cell_type": "markdown",
   "id": "625723a4",
   "metadata": {
    "slideshow": {
     "slide_type": "slide"
    }
   },
   "source": [
    "Reversal: preference for larger and later reward changes with weeks to smaller reward\n",
    "\n",
    "Consistent subjects should look like an horizontal line.\n",
    "\n",
    "\n",
    "<center><img src=\"img/10_CB/Pref_Reversal_2.png\" width = \"400\" height = '400'></center>\n"
   ]
  },
  {
   "cell_type": "markdown",
   "id": "effe4fb6",
   "metadata": {
    "slideshow": {
     "slide_type": "slide"
    }
   },
   "source": [
    "Another way of seeing the reversal. Indifference points i.e. combination of delays where subjects chose later or sooner with 50% probability.\n",
    "\n",
    "Consistent subjects should look like a straight line, not with negative curvature (a simple polynomial was a worst fit).\n",
    "\n",
    "<center><img src=\"img/10_CB/Pref_Reversal_3.png\" width = \"400\" height = '400'></center>"
   ]
  },
  {
   "cell_type": "markdown",
   "id": "0630d671",
   "metadata": {
    "slideshow": {
     "slide_type": "slide"
    }
   },
   "source": [
    "The reversal is present in individual subjects (i.e. not just an averaging effect)\n",
    "<center><img src=\"img/10_CB/Pref_Reversal_4.png\" width = \"600\" height = '600'></center>"
   ]
  },
  {
   "cell_type": "markdown",
   "id": "5687323f",
   "metadata": {
    "slideshow": {
     "slide_type": "slide"
    }
   },
   "source": [
    "# Magnitude effects\n",
    "<center><img src=\"img/10_CB/Magnitude_Effect.png\" width = \"400\" height = '400'></center>"
   ]
  },
  {
   "cell_type": "markdown",
   "id": "85470c4b",
   "metadata": {
    "slideshow": {
     "slide_type": "slide"
    }
   },
   "source": [
    "Hypothesis 1: there is only one discount factor thus magnitudes should not matter e.g. discounting a monetary unit in 10 vs 100 is the same as 100 vs 1000\n",
    "\n",
    "Hypothesis 2: people are more patient with larger magnitudes e.g. discounting a monetary unit in 10 vs 100 is different than 100 vs 1000"
   ]
  },
  {
   "cell_type": "markdown",
   "id": "12039cac",
   "metadata": {
    "slideshow": {
     "slide_type": "slide"
    }
   },
   "source": [
    "Procedure: pick between two options that differ in amount and delay between them\n",
    "<center><img src=\"img/10_CB/Magnitude_Effect_2.png\" width = \"600\" height = '600'></center>"
   ]
  },
  {
   "cell_type": "markdown",
   "id": "8a0d995e",
   "metadata": {
    "slideshow": {
     "slide_type": "slide"
    }
   },
   "source": [
    "Another way of visualizing the results. The (hyperbolic) discount factor decreases with the magnitude i.e. more patience\n",
    "\n",
    "<center><img src=\"img/10_CB/Magnitude_Effect_3.png\" width = \"400\" height = '400'></center>"
   ]
  },
  {
   "cell_type": "markdown",
   "id": "6ca9edfd",
   "metadata": {
    "slideshow": {
     "slide_type": "slide"
    }
   },
   "source": [
    "# Endogenous influences\n",
    "\n",
    "Discounting is not only about numerical info. Endogenous processes influence discounting\n",
    "\n",
    "<center><img src=\"img/10_CB/Magnitude_Effect_4.png\" width = \"700\" height = '700'></center>"
   ]
  },
  {
   "cell_type": "markdown",
   "id": "bd02dd07",
   "metadata": {
    "slideshow": {
     "slide_type": "slide"
    }
   },
   "source": [
    "Discounting is not only about numerical info. Endogenous processes influence discounting\n",
    "\n",
    "<center><img src=\"img/10_CB/Brain_discount.png\" width = \"700\" height = '700'></center>"
   ]
  },
  {
   "cell_type": "markdown",
   "id": "633f9188",
   "metadata": {
    "slideshow": {
     "slide_type": "slide"
    }
   },
   "source": [
    "The brain seems to process sooner and later rewards at different locations\n",
    "\n",
    "<center><img src=\"img/10_CB/Brain_discount_2.png\" width = \"700\" height = '700'></center>"
   ]
  },
  {
   "cell_type": "markdown",
   "id": "3ea8ea21",
   "metadata": {},
   "source": [
    "# General behavioral patterns around the world\n",
    "\n",
    "From Mamo et al (2022), The globalizability of temporal discounting, Nature Human Behaviour:\n",
    "\n",
    "1) **Absolute magnitude**: Increased preference for delayed gains when values become substantially larger.\n",
    "\n",
    "2) **Gain–loss asymmetry**: Gains are discounted more than losses.\n",
    "\n",
    "3) **Delay–speedup asymmetry**: Accepting an immediate, smaller gain if the delay is framed as added value, but preferring the larger, later amount if an immediate gain is framed as a reduction (for example, prefer a gain of \\\\$500 rather than wait 12 months for an additional \\\\$50 and prefer to wait for 12 months to receive \\\\$550 rather than to pay \\\\$50 and receive the gain now).\n",
    "\n",
    "4) **Present bias**: Lower discounting over a given time interval when the start of the interval is shifed to the future.\n",
    "\n",
    "5) **Subadditivity**: Higher discounting for two separate shorter periods than when considered together. For instance: 0–12, 12–24 and 0–24 months. discounting is higher for the two 12-month intervals than for the 24-month interval."
   ]
  },
  {
   "cell_type": "markdown",
   "id": "822b32d6",
   "metadata": {
    "slideshow": {
     "slide_type": "slide"
    }
   },
   "source": [
    "https://www.nature.com/articles/s41562-022-01392-w\n",
    "\n",
    "\n",
    "<center><img src=\"img/10_CB/Mamo_et_al_globalization_of_temporal_discounting.svg\" width = \"700\" height = '700'></center>\n",
    "\n"
   ]
  },
  {
   "cell_type": "markdown",
   "id": "77e90af4",
   "metadata": {},
   "source": [
    "Countries as a whole are very similar (i.e. not a single country is extreme in a pattern). However, the behavioral patterns depend on economic situation of the countries, in particular inequality (Gini) and inflation i.e. it is a rational response:\n",
    "\n",
    "<center><img src=\"img/10_CB/Mamo_et_al_globalization_of_temporal_discounting_2.svg\" width = \"700\" height = '700'></center>"
   ]
  },
  {
   "cell_type": "markdown",
   "id": "bcb5634d",
   "metadata": {
    "slideshow": {
     "slide_type": "slide"
    }
   },
   "source": [
    "# Estimation of parameters"
   ]
  },
  {
   "cell_type": "markdown",
   "id": "0a58f07e",
   "metadata": {
    "slideshow": {
     "slide_type": "-"
    }
   },
   "source": [
    "Do the intertemporal task in Pavlovia (santiago):\n",
    "\n",
    "Money today vs Money in the future\n",
    "\n"
   ]
  },
  {
   "cell_type": "markdown",
   "id": "18c952b4",
   "metadata": {
    "slideshow": {
     "slide_type": "slide"
    }
   },
   "source": [
    "## Non-hierarchical estimation (i.e. unpooled estimate i.e. no dependencies between $k_s$)"
   ]
  },
  {
   "cell_type": "markdown",
   "id": "3fa15aa9",
   "metadata": {},
   "source": [
    "### Hyperbolic discounting\n",
    "<br><br>\n",
    "\n",
    "<center><img src=\"img/10_CB/intertemp_diagram.svg\" width = \"800\" height = '800'></center>\n"
   ]
  },
  {
   "cell_type": "code",
   "execution_count": 7,
   "id": "e6083daa",
   "metadata": {
    "slideshow": {
     "slide_type": "slide"
    }
   },
   "outputs": [],
   "source": [
    "#Load and data setup\n",
    "data_folder = 'data/10_CB'\n",
    "ff = os.listdir(data_folder)\n",
    "unreadable_files = []\n",
    "onlyfiles = []\n",
    "counter_unreadable = 0\n",
    "for f in ff:\n",
    "    #print(f)\n",
    "    fff = data_folder + \"/\" + f\n",
    "    good_file = 0\n",
    "    unreadable = 0\n",
    "    if counter_unreadable < len(unreadable_files): \n",
    "        if f == unreadable_files[counter_unreadable]:\n",
    "            counter_unreadable = counter_unreadable+1\n",
    "            unreadable = 1\n",
    "    \n",
    "    if os.stat(fff).st_size > 500 and unreadable==0: #in bytes    \n",
    "        data_subj = pd.read_csv(fff)\n",
    "        nrows = data_subj.shape[0]\n",
    "        if nrows>50:\n",
    "            good_file = 1\n",
    "    x = re.search(\".csv\",f)\n",
    "    j = re.search('.~lock.',f) #linux or pavlovia seem to create this name files\n",
    "    if x and operator.not_(j) and good_file==1:\n",
    "        onlyfiles.append(f)\n",
    "\n",
    "for idx, f in enumerate(onlyfiles):\n",
    "    data = pd.read_csv('data/10_CB/'+f)\n",
    "    data = data.loc[~data['ss_Amt'].isna(),:]\n",
    "    if idx == 0:\n",
    "        #DATA=data.loc[:,['participant', 'respT.corr','respT.rt', #corr: 0 sooner; 1 later\n",
    "        #                 'ss_Amt','ss_Delay','ll_Amt','ll_Delay']] #ss: smaller sooner; ll: larger later; Amt: amount\n",
    "        \n",
    "        choice = np.array(data.loc[:,'respT.corr'], ndmin=2).T #0 sooner; 1 later\n",
    "        ss_Amt = np.array(data.loc[:,'ss_Amt']/1000, ndmin=2).T #sooner smaller amount (/1000 to take 3 zeros away from COPs)\n",
    "        ss_Delay = np.array(data.loc[:,'ss_Delay'], ndmin=2).T \n",
    "        ll_Amt = np.array(data.loc[:,'ll_Amt']/1000, ndmin=2).T #later larger amount (/1000 to take 3 zeros away from COPs)\n",
    "        ll_Delay = np.array(data.loc[:,'ll_Delay'], ndmin=2).T\n",
    "    else:\n",
    "        #DATA = pd.concat([DATA, data.loc[:,['participant', 'respT.corr','respT.rt', \n",
    "        #                                    'ss_Amt','ss_Delay','ll_Amt','ll_Delay']]])\n",
    "        choice = np.concatenate([choice, np.array(data.loc[:,'respT.corr'], ndmin=2).T], axis=1)  #\n",
    "        ss_Amt = np.concatenate([ss_Amt, np.array(data.loc[:,'ss_Amt']/1000, ndmin=2).T], axis=1)  #sooner smaller amount \n",
    "        ss_Delay = np.concatenate([ss_Delay, np.array(data.loc[:,'ss_Delay'], ndmin=2).T], axis=1) \n",
    "        ll_Amt = np.concatenate([ll_Amt, np.array(data.loc[:,'ll_Amt']/1000, ndmin=2).T], axis=1)  #later larger amount \n",
    "        ll_Delay = np.concatenate([ll_Delay, np.array(data.loc[:,'ll_Delay'], ndmin=2).T], axis=1) \n",
    "    \n",
    "n = choice.shape[1] #len(onlyfiles)   \n",
    "#DATA = DATA.reset_index(drop=True)\n",
    "#n = len(DATA['participant'].unique())\n"
   ]
  },
  {
   "cell_type": "code",
   "execution_count": 8,
   "id": "6688282f",
   "metadata": {},
   "outputs": [
    {
     "data": {
      "text/plain": [
       "[['impaciente_tareaTDv3_2022-07-08_16h48.54.684.csv',\n",
       "  'paciente_tareaTDv3_2022-07-08_10h29.12.042.csv',\n",
       "  'random_tareaTDv3_2022-07-09_06h46.43.116.csv'],\n",
       " 3]"
      ]
     },
     "execution_count": 8,
     "metadata": {},
     "output_type": "execute_result"
    }
   ],
   "source": [
    "[onlyfiles, n]"
   ]
  },
  {
   "cell_type": "code",
   "execution_count": 9,
   "id": "2b2acffc",
   "metadata": {
    "slideshow": {
     "slide_type": "slide"
    }
   },
   "outputs": [
    {
     "name": "stderr",
     "output_type": "stream",
     "text": [
      "Auto-assigning NUTS sampler...\n",
      "Initializing NUTS using jitter+adapt_diag...\n",
      "Multiprocess sampling (4 chains in 4 jobs)\n",
      "NUTS: [k_s, beta_s]\n"
     ]
    },
    {
     "data": {
      "text/html": [
       "\n",
       "<style>\n",
       "    /* Turns off some styling */\n",
       "    progress {\n",
       "        /* gets rid of default border in Firefox and Opera. */\n",
       "        border: none;\n",
       "        /* Needs to be in here for Safari polyfill so background images work as expected. */\n",
       "        background-size: auto;\n",
       "    }\n",
       "    progress:not([value]), progress:not([value])::-webkit-progress-bar {\n",
       "        background: repeating-linear-gradient(45deg, #7e7e7e, #7e7e7e 10px, #5c5c5c 10px, #5c5c5c 20px);\n",
       "    }\n",
       "    .progress-bar-interrupted, .progress-bar-interrupted::-webkit-progress-bar {\n",
       "        background: #F44336;\n",
       "    }\n",
       "</style>\n"
      ],
      "text/plain": [
       "<IPython.core.display.HTML object>"
      ]
     },
     "metadata": {},
     "output_type": "display_data"
    },
    {
     "data": {
      "text/html": [
       "\n",
       "    <div>\n",
       "      <progress value='24000' class='' max='24000' style='width:300px; height:20px; vertical-align: middle;'></progress>\n",
       "      100.00% [24000/24000 00:12&lt;00:00 Sampling 4 chains, 0 divergences]\n",
       "    </div>\n",
       "    "
      ],
      "text/plain": [
       "<IPython.core.display.HTML object>"
      ]
     },
     "metadata": {},
     "output_type": "display_data"
    },
    {
     "name": "stderr",
     "output_type": "stream",
     "text": [
      "Sampling 4 chains for 2_000 tune and 4_000 draw iterations (8_000 + 16_000 draws total) took 30 seconds.\n",
      "Chain <xarray.DataArray 'chain' ()>\n",
      "array(0)\n",
      "Coordinates:\n",
      "    chain    int32 0 reached the maximum tree depth. Increase `max_treedepth`, increase `target_accept` or reparameterize.\n",
      "Chain <xarray.DataArray 'chain' ()>\n",
      "array(1)\n",
      "Coordinates:\n",
      "    chain    int32 1 reached the maximum tree depth. Increase `max_treedepth`, increase `target_accept` or reparameterize.\n",
      "Chain <xarray.DataArray 'chain' ()>\n",
      "array(2)\n",
      "Coordinates:\n",
      "    chain    int32 2 reached the maximum tree depth. Increase `max_treedepth`, increase `target_accept` or reparameterize.\n",
      "Chain <xarray.DataArray 'chain' ()>\n",
      "array(3)\n",
      "Coordinates:\n",
      "    chain    int32 3 reached the maximum tree depth. Increase `max_treedepth`, increase `target_accept` or reparameterize.\n",
      "Sampling: [choice_later]\n"
     ]
    },
    {
     "data": {
      "text/html": [
       "\n",
       "<style>\n",
       "    /* Turns off some styling */\n",
       "    progress {\n",
       "        /* gets rid of default border in Firefox and Opera. */\n",
       "        border: none;\n",
       "        /* Needs to be in here for Safari polyfill so background images work as expected. */\n",
       "        background-size: auto;\n",
       "    }\n",
       "    progress:not([value]), progress:not([value])::-webkit-progress-bar {\n",
       "        background: repeating-linear-gradient(45deg, #7e7e7e, #7e7e7e 10px, #5c5c5c 10px, #5c5c5c 20px);\n",
       "    }\n",
       "    .progress-bar-interrupted, .progress-bar-interrupted::-webkit-progress-bar {\n",
       "        background: #F44336;\n",
       "    }\n",
       "</style>\n"
      ],
      "text/plain": [
       "<IPython.core.display.HTML object>"
      ]
     },
     "metadata": {},
     "output_type": "display_data"
    },
    {
     "data": {
      "text/html": [
       "\n",
       "    <div>\n",
       "      <progress value='16000' class='' max='16000' style='width:300px; height:20px; vertical-align: middle;'></progress>\n",
       "      100.00% [16000/16000 00:02&lt;00:00]\n",
       "    </div>\n",
       "    "
      ],
      "text/plain": [
       "<IPython.core.display.HTML object>"
      ]
     },
     "metadata": {},
     "output_type": "display_data"
    }
   ],
   "source": [
    "with pm.Model() as unpooled:\n",
    "    #Priors\n",
    "    ks = pm.Uniform(\"k_s\", lower=0, upper=10, shape = n)\n",
    "    betas = pm.Uniform(\"beta_s\", lower=0, upper=10, shape = n)\n",
    "    \n",
    "    \n",
    "    #Likelihood\n",
    "    v_ss = pm.Deterministic('v_ss', ss_Amt/(1+ss_Delay*ks)) #smaller sooner value\n",
    "    v_ll = pm.Deterministic('v_ll', ll_Amt/(1+ll_Delay*ks)) #later larger value\n",
    "    \n",
    "    p_later = pm.Deterministic('p_later', 1/(1+pt.exp((v_ll-v_ss)*(-betas))))\n",
    "    \n",
    "    choice_later = pm.Bernoulli(\"choice_later\", p=p_later, observed=choice)\n",
    "\n",
    "    trace = pm.sample(4000, tune=2000, target_accept=0.9, cores=4, chains = 4)\n",
    "    PPC =  pm.sample_posterior_predictive(trace, var_names = ['choice_later','v_ss', 'v_ll', 'p_later'])"
   ]
  },
  {
   "cell_type": "code",
   "execution_count": 10,
   "id": "038e5b0c",
   "metadata": {
    "slideshow": {
     "slide_type": "slide"
    }
   },
   "outputs": [
    {
     "name": "stderr",
     "output_type": "stream",
     "text": [
      "C:\\Users\\Santiago Diaz\\anaconda3\\envs\\pymc_env\\Lib\\site-packages\\arviz\\stats\\diagnostics.py:584: RuntimeWarning: invalid value encountered in scalar divide\n",
      "  (between_chain_variance / within_chain_variance + num_samples - 1) / (num_samples)\n"
     ]
    },
    {
     "data": {
      "text/plain": [
       "0.0"
      ]
     },
     "execution_count": 10,
     "metadata": {},
     "output_type": "execute_result"
    }
   ],
   "source": [
    "resu = az.summary(trace)\n",
    "(resu['r_hat']>1.05).mean()"
   ]
  },
  {
   "cell_type": "code",
   "execution_count": 214,
   "id": "c383a189",
   "metadata": {
    "slideshow": {
     "slide_type": "slide"
    }
   },
   "outputs": [],
   "source": [
    "#az.plot_trace(trace, compact=False);\n",
    "#plt.tight_layout()"
   ]
  },
  {
   "cell_type": "code",
   "execution_count": 12,
   "id": "de6e4b8d",
   "metadata": {},
   "outputs": [
    {
     "data": {
      "text/html": [
       "<div>\n",
       "<style scoped>\n",
       "    .dataframe tbody tr th:only-of-type {\n",
       "        vertical-align: middle;\n",
       "    }\n",
       "\n",
       "    .dataframe tbody tr th {\n",
       "        vertical-align: top;\n",
       "    }\n",
       "\n",
       "    .dataframe thead th {\n",
       "        text-align: right;\n",
       "    }\n",
       "</style>\n",
       "<table border=\"1\" class=\"dataframe\">\n",
       "  <thead>\n",
       "    <tr style=\"text-align: right;\">\n",
       "      <th></th>\n",
       "      <th>mean</th>\n",
       "      <th>sd</th>\n",
       "      <th>hdi_3%</th>\n",
       "      <th>hdi_97%</th>\n",
       "      <th>mcse_mean</th>\n",
       "      <th>mcse_sd</th>\n",
       "      <th>ess_bulk</th>\n",
       "      <th>ess_tail</th>\n",
       "      <th>r_hat</th>\n",
       "    </tr>\n",
       "  </thead>\n",
       "  <tbody>\n",
       "    <tr>\n",
       "      <th>k_s[0]</th>\n",
       "      <td>8.557</td>\n",
       "      <td>0.900</td>\n",
       "      <td>7.154</td>\n",
       "      <td>10.000</td>\n",
       "      <td>0.010</td>\n",
       "      <td>0.008</td>\n",
       "      <td>6240.0</td>\n",
       "      <td>4452.0</td>\n",
       "      <td>1.0</td>\n",
       "    </tr>\n",
       "    <tr>\n",
       "      <th>k_s[1]</th>\n",
       "      <td>0.001</td>\n",
       "      <td>0.001</td>\n",
       "      <td>0.000</td>\n",
       "      <td>0.002</td>\n",
       "      <td>0.000</td>\n",
       "      <td>0.000</td>\n",
       "      <td>7237.0</td>\n",
       "      <td>7439.0</td>\n",
       "      <td>1.0</td>\n",
       "    </tr>\n",
       "    <tr>\n",
       "      <th>k_s[2]</th>\n",
       "      <td>4.583</td>\n",
       "      <td>2.956</td>\n",
       "      <td>0.067</td>\n",
       "      <td>9.337</td>\n",
       "      <td>0.028</td>\n",
       "      <td>0.021</td>\n",
       "      <td>10663.0</td>\n",
       "      <td>9348.0</td>\n",
       "      <td>1.0</td>\n",
       "    </tr>\n",
       "    <tr>\n",
       "      <th>beta_s[0]</th>\n",
       "      <td>5.497</td>\n",
       "      <td>2.634</td>\n",
       "      <td>1.357</td>\n",
       "      <td>9.898</td>\n",
       "      <td>0.028</td>\n",
       "      <td>0.022</td>\n",
       "      <td>8078.0</td>\n",
       "      <td>6291.0</td>\n",
       "      <td>1.0</td>\n",
       "    </tr>\n",
       "    <tr>\n",
       "      <th>beta_s[1]</th>\n",
       "      <td>2.969</td>\n",
       "      <td>2.527</td>\n",
       "      <td>0.203</td>\n",
       "      <td>8.200</td>\n",
       "      <td>0.029</td>\n",
       "      <td>0.021</td>\n",
       "      <td>9025.0</td>\n",
       "      <td>7895.0</td>\n",
       "      <td>1.0</td>\n",
       "    </tr>\n",
       "    <tr>\n",
       "      <th>...</th>\n",
       "      <td>...</td>\n",
       "      <td>...</td>\n",
       "      <td>...</td>\n",
       "      <td>...</td>\n",
       "      <td>...</td>\n",
       "      <td>...</td>\n",
       "      <td>...</td>\n",
       "      <td>...</td>\n",
       "      <td>...</td>\n",
       "    </tr>\n",
       "    <tr>\n",
       "      <th>p_later[88, 1]</th>\n",
       "      <td>1.000</td>\n",
       "      <td>0.000</td>\n",
       "      <td>1.000</td>\n",
       "      <td>1.000</td>\n",
       "      <td>0.000</td>\n",
       "      <td>0.000</td>\n",
       "      <td>12868.0</td>\n",
       "      <td>15032.0</td>\n",
       "      <td>1.0</td>\n",
       "    </tr>\n",
       "    <tr>\n",
       "      <th>p_later[88, 2]</th>\n",
       "      <td>0.432</td>\n",
       "      <td>0.052</td>\n",
       "      <td>0.338</td>\n",
       "      <td>0.500</td>\n",
       "      <td>0.001</td>\n",
       "      <td>0.000</td>\n",
       "      <td>6131.0</td>\n",
       "      <td>4367.0</td>\n",
       "      <td>1.0</td>\n",
       "    </tr>\n",
       "    <tr>\n",
       "      <th>p_later[89, 0]</th>\n",
       "      <td>0.000</td>\n",
       "      <td>0.000</td>\n",
       "      <td>0.000</td>\n",
       "      <td>0.000</td>\n",
       "      <td>0.000</td>\n",
       "      <td>0.000</td>\n",
       "      <td>8086.0</td>\n",
       "      <td>6310.0</td>\n",
       "      <td>1.0</td>\n",
       "    </tr>\n",
       "    <tr>\n",
       "      <th>p_later[89, 1]</th>\n",
       "      <td>0.998</td>\n",
       "      <td>0.011</td>\n",
       "      <td>0.990</td>\n",
       "      <td>1.000</td>\n",
       "      <td>0.000</td>\n",
       "      <td>0.000</td>\n",
       "      <td>10219.0</td>\n",
       "      <td>15027.0</td>\n",
       "      <td>1.0</td>\n",
       "    </tr>\n",
       "    <tr>\n",
       "      <th>p_later[89, 2]</th>\n",
       "      <td>0.486</td>\n",
       "      <td>0.011</td>\n",
       "      <td>0.467</td>\n",
       "      <td>0.500</td>\n",
       "      <td>0.000</td>\n",
       "      <td>0.000</td>\n",
       "      <td>6200.0</td>\n",
       "      <td>4347.0</td>\n",
       "      <td>1.0</td>\n",
       "    </tr>\n",
       "  </tbody>\n",
       "</table>\n",
       "<p>816 rows × 9 columns</p>\n",
       "</div>"
      ],
      "text/plain": [
       "                 mean     sd  hdi_3%  hdi_97%  mcse_mean  mcse_sd  ess_bulk  \\\n",
       "k_s[0]          8.557  0.900   7.154   10.000      0.010    0.008    6240.0   \n",
       "k_s[1]          0.001  0.001   0.000    0.002      0.000    0.000    7237.0   \n",
       "k_s[2]          4.583  2.956   0.067    9.337      0.028    0.021   10663.0   \n",
       "beta_s[0]       5.497  2.634   1.357    9.898      0.028    0.022    8078.0   \n",
       "beta_s[1]       2.969  2.527   0.203    8.200      0.029    0.021    9025.0   \n",
       "...               ...    ...     ...      ...        ...      ...       ...   \n",
       "p_later[88, 1]  1.000  0.000   1.000    1.000      0.000    0.000   12868.0   \n",
       "p_later[88, 2]  0.432  0.052   0.338    0.500      0.001    0.000    6131.0   \n",
       "p_later[89, 0]  0.000  0.000   0.000    0.000      0.000    0.000    8086.0   \n",
       "p_later[89, 1]  0.998  0.011   0.990    1.000      0.000    0.000   10219.0   \n",
       "p_later[89, 2]  0.486  0.011   0.467    0.500      0.000    0.000    6200.0   \n",
       "\n",
       "                ess_tail  r_hat  \n",
       "k_s[0]            4452.0    1.0  \n",
       "k_s[1]            7439.0    1.0  \n",
       "k_s[2]            9348.0    1.0  \n",
       "beta_s[0]         6291.0    1.0  \n",
       "beta_s[1]         7895.0    1.0  \n",
       "...                  ...    ...  \n",
       "p_later[88, 1]   15032.0    1.0  \n",
       "p_later[88, 2]    4367.0    1.0  \n",
       "p_later[89, 0]    6310.0    1.0  \n",
       "p_later[89, 1]   15027.0    1.0  \n",
       "p_later[89, 2]    4347.0    1.0  \n",
       "\n",
       "[816 rows x 9 columns]"
      ]
     },
     "execution_count": 12,
     "metadata": {},
     "output_type": "execute_result"
    }
   ],
   "source": [
    "resu"
   ]
  },
  {
   "cell_type": "code",
   "execution_count": 13,
   "id": "cff82997",
   "metadata": {},
   "outputs": [
    {
     "data": {
      "text/plain": [
       "5.497"
      ]
     },
     "execution_count": 13,
     "metadata": {},
     "output_type": "execute_result"
    }
   ],
   "source": [
    "subj = 0\n",
    "resu.loc['beta_s[' + str(subj) + ']',:]['mean']"
   ]
  },
  {
   "cell_type": "code",
   "execution_count": 14,
   "id": "cd5f9a31",
   "metadata": {},
   "outputs": [
    {
     "data": {
      "image/png": "[encoded data removed]",
      "text/plain": [
       "<Figure size 640x480 with 1 Axes>"
      ]
     },
     "metadata": {},
     "output_type": "display_data"
    }
   ],
   "source": [
    "subj = 2\n",
    "#ee_pp = resu.loc['e_p[' + str(subj) + ']',:]['mean']\n",
    "#ss_pp = resu.loc['s_p[' + str(subj) + ']',:]['mean']\n",
    "bbetas = resu.loc['beta_s[' + str(subj) + ']',:]['mean']\n",
    "choice_subj = choice[:, subj]\n",
    "ss_Amt_subj = ss_Amt[:, subj]\n",
    "ll_Amt_subj = ll_Amt[:, subj]\n",
    "\n",
    "temp_model = np.array(PPC.posterior_predictive['choice_later'])\n",
    "temp_model = temp_model.reshape((temp_model.shape[0]*temp_model.shape[1],temp_model.shape[2],temp_model.shape[3]))\n",
    "choice_model = temp_model[:,:,subj]\n",
    "\n",
    "temp_model = np.array(PPC.posterior_predictive['v_ss'])\n",
    "temp_model = temp_model.reshape((temp_model.shape[0]*temp_model.shape[1],temp_model.shape[2],temp_model.shape[3]))\n",
    "v_ss_Amt_model = temp_model[:,:,subj]\n",
    "\n",
    "temp_model = np.array(PPC.posterior_predictive['v_ll'])\n",
    "temp_model = temp_model.reshape((temp_model.shape[0]*temp_model.shape[1],temp_model.shape[2],temp_model.shape[3]))\n",
    "v_ll_Amt_model = temp_model[:,:,subj]\n",
    "\n",
    "#plt.scatter(ll_Amt_subj-ss_Amt_subj, choice_subj, label = 'Data subj ' + str(subj))\n",
    "#plt.scatter(ll_Amt_subj-ss_Amt_subj, choice_model.mean(axis=0), color='red', alpha = 0.4, label = 'Posterior Predictive (mean)')\n",
    "plt.scatter(v_ll_Amt_model.mean(axis=0)-v_ss_Amt_model.mean(axis=0), choice_subj, label = 'Data subj ' + str(subj), alpha = 0.6)\n",
    "plt.scatter(v_ll_Amt_model.mean(axis=0)-v_ss_Amt_model.mean(axis=0), choice_model.mean(axis=0), color='red', alpha = 0.5, label = 'Posterior Predictive (mean)')\n",
    "plt.plot(np.linspace(-30,30,100), 1/(1+np.exp(np.linspace(-30,30,100)*(-bbetas))),\n",
    "         color = 'black', label = 'Psychometric function (posterior mean)')\n",
    "plt.xlabel('Subj. value (posterior mean)\\nlater - sooner option')\n",
    "plt.ylabel('p(later option)')\n",
    "plt.legend();"
   ]
  },
  {
   "cell_type": "markdown",
   "id": "51c30eb2",
   "metadata": {
    "slideshow": {
     "slide_type": "slide"
    }
   },
   "source": [
    "## Hierarchical estimation"
   ]
  },
  {
   "cell_type": "markdown",
   "id": "33a59bd2",
   "metadata": {
    "slideshow": {
     "slide_type": "subslide"
    }
   },
   "source": [
    "<center><img src=\"img/10_CB/Bayes_estimation_discount.png\" width = \"700\" height = '700'></center>\n"
   ]
  },
  {
   "cell_type": "markdown",
   "id": "c9a3acb1",
   "metadata": {
    "slideshow": {
     "slide_type": "slide"
    }
   },
   "source": [
    "This is a more complex model: hierarchical and with magnitude effects.\n",
    "\n",
    "Hierarchical means that individuals share a structure (e.g. all come from the same culture/city/school), so their discount parameters come from a common source (but still individual).\n",
    "\n",
    "Magnitude effects mean that the discount factor is a function of the reward. In an hyperbolic discount,  \n",
    "\n",
    "$$Subj. Value = \\frac{Reward}{1+f(reward)Delay}$$\n",
    "\n",
    "Vincent proposes:\n",
    "\n",
    "$$f(reward) = exp^{m\\times log(reward)+c}$$"
   ]
  },
  {
   "cell_type": "code",
   "execution_count": 15,
   "id": "cb629efc",
   "metadata": {
    "slideshow": {
     "slide_type": "subslide"
    }
   },
   "outputs": [
    {
     "data": {
      "image/png": "[encoded data removed]",
      "text/plain": [
       "<Figure size 640x480 with 1 Axes>"
      ]
     },
     "metadata": {},
     "output_type": "display_data"
    }
   ],
   "source": [
    "reward = np.linspace(1, 20, 100)\n",
    "mmm = -0.8\n",
    "ccc =  -1.1\n",
    "plt.plot(reward, np.exp(mmm*np.log(reward)+ccc));\n",
    "plt.xlabel('Reward (arbitrary units)')\n",
    "plt.ylabel('Discount factor');"
   ]
  },
  {
   "cell_type": "markdown",
   "id": "b69a783c",
   "metadata": {
    "slideshow": {
     "slide_type": "slide"
    }
   },
   "source": [
    "Choice is stochastic. Remember that the previous model used a sigmoid, specifically a logistic. Vincent also uses a sigmoid i.e. a standard normal CDF (with some additional parameters). \n",
    "\n",
    "$$ p(later \\; option) = \\epsilon + (1-2\\epsilon)\\phi\\left(\\frac{Subj.Value_{later}-Subj.Value_{sooner}}{\\alpha}\\right)$$ \n",
    "\n",
    "$\\epsilon$ is error rate <br>\n",
    "$\\alpha$ modulates discriminability between options"
   ]
  },
  {
   "cell_type": "code",
   "execution_count": 16,
   "id": "fc0e42af",
   "metadata": {},
   "outputs": [
    {
     "data": {
      "image/png": "[encoded data removed]",
      "text/plain": [
       "<Figure size 640x480 with 1 Axes>"
      ]
     },
     "metadata": {},
     "output_type": "display_data"
    }
   ],
   "source": [
    "epsilon = 0.075 #base error rate and max performance\n",
    "alpha = 20 #ability to discriminate between subj. values\n",
    "Diff_subj_value = np.linspace(-60,60)\n",
    "plt.plot(Diff_subj_value,\n",
    "        epsilon + (1-2*epsilon)*st.norm.cdf(Diff_subj_value/alpha))\n",
    "plt.ylim((0,1))\n",
    "plt.xlabel('Subjective value\\nlater - sooner')\n",
    "plt.ylabel('p (later option)');"
   ]
  },
  {
   "cell_type": "markdown",
   "id": "afb2c29e",
   "metadata": {
    "slideshow": {
     "slide_type": "slide"
    }
   },
   "source": [
    "$\\epsilon$ is a base error rate e.g. due to inattention\n",
    "<center><img src=\"img/10_CB/Vincent2016-1.svg\" width = \"500\" height = '500'></center>\n"
   ]
  },
  {
   "cell_type": "markdown",
   "id": "e7ac6bca",
   "metadata": {
    "slideshow": {
     "slide_type": "slide"
    }
   },
   "source": [
    "<center><img src=\"img/10_CB/intertemp_diagram_hierarchical.svg\" width = \"800\" height = '800'></center>\n",
    "Note: $\\omega$ and $\\kappa$ modulate the error rate but Vincent does not justify those priors in his paper"
   ]
  },
  {
   "cell_type": "code",
   "execution_count": 17,
   "id": "8629ce0a",
   "metadata": {
    "slideshow": {
     "slide_type": "slide"
    }
   },
   "outputs": [],
   "source": [
    "#Load and data setup\n",
    "data_folder = 'data/10_CB/Benjamin_Vincent/kirby'\n",
    "ff = os.listdir(data_folder)\n",
    "unreadable_files = []\n",
    "onlyfiles = []\n",
    "counter_unreadable = 0\n",
    "for f in ff:\n",
    "    #print(f)\n",
    "    fff = data_folder + \"/\" + f\n",
    "    good_file = 0\n",
    "    unreadable = 0\n",
    "    if counter_unreadable < len(unreadable_files): \n",
    "        if f == unreadable_files[counter_unreadable]:\n",
    "            counter_unreadable = counter_unreadable+1\n",
    "            unreadable = 1\n",
    "    \n",
    "    if os.stat(fff).st_size > 250 and unreadable==0: #in bytes    \n",
    "        data_subj = pd.read_csv(fff)\n",
    "        nrows = data_subj.shape[0]\n",
    "        if nrows>5:\n",
    "            good_file = 1\n",
    "    x = re.search(\".txt\",f)\n",
    "    j = re.search('.~lock.',f) #linux or pavlovia seem to create this name files\n",
    "    if x and operator.not_(j) and good_file==1:\n",
    "        onlyfiles.append(f)\n",
    "#Column names mean:\n",
    "\n",
    "#A reward of option A\n",
    "#DA delay of option A, in days\n",
    "#PA probability of achieving the reward (not in Kirby's data)\n",
    "#B reward of option B\n",
    "#DB delay of option B, in days\n",
    "#PB probability of achieving the reward (not in Kirby's data)\n",
    "#R is the participant response.\n",
    "#The preferred way of coding participant responses R is by the unambiguous label A or B. \n",
    "#In Kirby's data coding scheme was R = 1 for chose delayed and R = 0 for chose immediate.\n",
    "\n",
    "\n",
    "for idx, f in enumerate(onlyfiles):\n",
    "    data = pd.read_table('data/10_CB/Benjamin_Vincent/kirby/'+f)\n",
    "    #data = data.loc[~data['ss_Amt'].isna(),:]\n",
    "    if idx == 0:\n",
    "        choice = np.array(data.loc[:,'R'], ndmin=2).T #0 sooner; 1 later\n",
    "        ss_Amt = np.array(data.loc[:,'A'], ndmin=2).T #sooner smaller amount \n",
    "        ss_Delay = np.array(data.loc[:,'DA'], ndmin=2).T \n",
    "        ll_Amt = np.array(data.loc[:,'B'], ndmin=2).T #later larger amount \n",
    "        ll_Delay = np.array(data.loc[:,'DB'], ndmin=2).T\n",
    "    else:\n",
    "        choice = np.concatenate([choice, np.array(data.loc[:,'R'], ndmin=2).T], axis=1)  #\n",
    "        ss_Amt = np.concatenate([ss_Amt, np.array(data.loc[:,'A'], ndmin=2).T], axis=1)  #sooner smaller amount \n",
    "        ss_Delay = np.concatenate([ss_Delay, np.array(data.loc[:,'DA'], ndmin=2).T], axis=1) \n",
    "        ll_Amt = np.concatenate([ll_Amt, np.array(data.loc[:,'B'], ndmin=2).T], axis=1)  #later larger amount \n",
    "        ll_Delay = np.concatenate([ll_Delay, np.array(data.loc[:,'DB'], ndmin=2).T], axis=1) \n",
    "    \n",
    "n = choice.shape[1] #len(onlyfiles)   \n"
   ]
  },
  {
   "cell_type": "code",
   "execution_count": 43,
   "id": "72427868",
   "metadata": {
    "slideshow": {
     "slide_type": "slide"
    }
   },
   "outputs": [
    {
     "name": "stderr",
     "output_type": "stream",
     "text": [
      "Auto-assigning NUTS sampler...\n",
      "Initializing NUTS using jitter+adapt_diag...\n",
      "Multiprocess sampling (4 chains in 4 jobs)\n",
      "NUTS: [Mu_c, Sigma_c, Mu_m, Sigma_m, omega, kappa, Mu_acuity, Sigma_acuity, c_p, m_p, e_p, s_p, phi]\n"
     ]
    },
    {
     "data": {
      "text/html": [
       "\n",
       "<style>\n",
       "    /* Turns off some styling */\n",
       "    progress {\n",
       "        /* gets rid of default border in Firefox and Opera. */\n",
       "        border: none;\n",
       "        /* Needs to be in here for Safari polyfill so background images work as expected. */\n",
       "        background-size: auto;\n",
       "    }\n",
       "    progress:not([value]), progress:not([value])::-webkit-progress-bar {\n",
       "        background: repeating-linear-gradient(45deg, #7e7e7e, #7e7e7e 10px, #5c5c5c 10px, #5c5c5c 20px);\n",
       "    }\n",
       "    .progress-bar-interrupted, .progress-bar-interrupted::-webkit-progress-bar {\n",
       "        background: #F44336;\n",
       "    }\n",
       "</style>\n"
      ],
      "text/plain": [
       "<IPython.core.display.HTML object>"
      ]
     },
     "metadata": {},
     "output_type": "display_data"
    },
    {
     "data": {
      "text/html": [
       "\n",
       "    <div>\n",
       "      <progress value='22000' class='' max='22000' style='width:300px; height:20px; vertical-align: middle;'></progress>\n",
       "      100.00% [22000/22000 25:19&lt;00:00 Sampling 4 chains, 438 divergences]\n",
       "    </div>\n",
       "    "
      ],
      "text/plain": [
       "<IPython.core.display.HTML object>"
      ]
     },
     "metadata": {},
     "output_type": "display_data"
    },
    {
     "name": "stderr",
     "output_type": "stream",
     "text": [
      "Sampling 4 chains for 1_500 tune and 4_000 draw iterations (6_000 + 16_000 draws total) took 1536 seconds.\n",
      "The rhat statistic is larger than 1.01 for some parameters. This indicates problems during sampling. See https://arxiv.org/abs/1903.08008 for details\n",
      "The effective sample size per chain is smaller than 100 for some parameters.  A higher number is needed for reliable rhat and ess computation. See https://arxiv.org/abs/1903.08008 for details\n",
      "There were 438 divergences after tuning. Increase `target_accept` or reparameterize.\n",
      "Chain <xarray.DataArray 'chain' ()>\n",
      "array(0)\n",
      "Coordinates:\n",
      "    chain    int32 0 reached the maximum tree depth. Increase `max_treedepth`, increase `target_accept` or reparameterize.\n",
      "Chain <xarray.DataArray 'chain' ()>\n",
      "array(1)\n",
      "Coordinates:\n",
      "    chain    int32 1 reached the maximum tree depth. Increase `max_treedepth`, increase `target_accept` or reparameterize.\n",
      "Chain <xarray.DataArray 'chain' ()>\n",
      "array(2)\n",
      "Coordinates:\n",
      "    chain    int32 2 reached the maximum tree depth. Increase `max_treedepth`, increase `target_accept` or reparameterize.\n",
      "Chain <xarray.DataArray 'chain' ()>\n",
      "array(3)\n",
      "Coordinates:\n",
      "    chain    int32 3 reached the maximum tree depth. Increase `max_treedepth`, increase `target_accept` or reparameterize.\n",
      "Sampling: [choice_later]\n"
     ]
    },
    {
     "data": {
      "text/html": [
       "\n",
       "<style>\n",
       "    /* Turns off some styling */\n",
       "    progress {\n",
       "        /* gets rid of default border in Firefox and Opera. */\n",
       "        border: none;\n",
       "        /* Needs to be in here for Safari polyfill so background images work as expected. */\n",
       "        background-size: auto;\n",
       "    }\n",
       "    progress:not([value]), progress:not([value])::-webkit-progress-bar {\n",
       "        background: repeating-linear-gradient(45deg, #7e7e7e, #7e7e7e 10px, #5c5c5c 10px, #5c5c5c 20px);\n",
       "    }\n",
       "    .progress-bar-interrupted, .progress-bar-interrupted::-webkit-progress-bar {\n",
       "        background: #F44336;\n",
       "    }\n",
       "</style>\n"
      ],
      "text/plain": [
       "<IPython.core.display.HTML object>"
      ]
     },
     "metadata": {},
     "output_type": "display_data"
    },
    {
     "data": {
      "text/html": [
       "\n",
       "    <div>\n",
       "      <progress value='16000' class='' max='16000' style='width:300px; height:20px; vertical-align: middle;'></progress>\n",
       "      100.00% [16000/16000 00:04&lt;00:00]\n",
       "    </div>\n",
       "    "
      ],
      "text/plain": [
       "<IPython.core.display.HTML object>"
      ]
     },
     "metadata": {},
     "output_type": "display_data"
    }
   ],
   "source": [
    "#https://www.pymc.io/projects/docs/en/stable/learn/core_notebooks/dimensionality.html\n",
    "with pm.Model() as hierarchical:\n",
    "    #Priors Group Level\n",
    "    #Benjamin Vincent implements an idea the the discount factor k is a function of the reward magnitude i.e\n",
    "    # log(k) = m*log(reward) + c  ... this is a linear function in log scale for the reward\n",
    "    # For choice probabilities, he uses a sigmoid i.e. a normal CDF with mu = f(reward differences) and sigma = free parameter \n",
    "    Mu_c = pm.Normal('Mu_c', mu = 0, sigma = 10000) #constant c\n",
    "    Sigma_c = pm.Uniform('Sigma_c', lower = 0, upper = 10000)\n",
    "    Mu_m = pm.Normal('Mu_m', mu = -2.43, sigma = 0.27) #slope m\n",
    "    Sigma_m = pm.TruncatedNormal('Sigma_m', mu = 0.072, sigma = 0.25, lower = 0)\n",
    "    #Mu_m = pm.Normal('Mu_m', mu = 0, sigma = 10) #slope m\n",
    "    #Sigma_m = pm.TruncatedNormal('Sigma_m', mu = 0, sigma = 10, lower = 0)\n",
    "    omega = pm.Beta('omega', alpha = 1.1, beta = 10.9)\n",
    "    kappa = pm.Gamma('kappa', alpha = 0.01, beta = 0.01)\n",
    "    Mu_acuity = pm.Uniform('Mu_acuity', lower = 0, upper = 1000) #choice acuity i.e. alpha (akin to temperature in a softmax)\n",
    "    Sigma_acuity = pm.Uniform('Sigma_acuity', lower = 0, upper = 1000)\n",
    "    \n",
    "    #Priors Participant Level\n",
    "    c_p = pm.Normal('c_p', mu = Mu_c, sigma = Sigma_c, shape = n) #constant c\n",
    "    m_p = pm.Normal('m_p', mu = Mu_m, sigma = Sigma_m, shape = n) #slope m\n",
    "    \n",
    "    e_p = pm.Beta(\"e_p\", 1, 1, shape = n) #choice-error\n",
    "    #e_p = pm.Truncated('e_p', \n",
    "    #                   pm.Beta.dist(alpha = omega*(kappa-2) + 1, beta = (1-omega)*(kappa-2) + 1), \n",
    "    #                   #pm.Beta.dist(alpha = 1, beta = 1), \n",
    "    #                   lower = 0.0, upper = 0.5, shape = n) #choice-error\n",
    "    s_p = pm.TruncatedNormal('s_p', mu = Mu_acuity, sigma = Sigma_acuity, lower = 0, shape = n) #choice acuity i.e. alpha\n",
    "    \n",
    "    #Likelihood\n",
    "    k_ss = pt.exp(np.log(ss_Amt)*m_p+c_p)\n",
    "    k_ll = pt.exp(np.log(ll_Amt)*m_p+c_p)\n",
    "    \n",
    "    v_ss = pm.Deterministic('v_ss', ss_Amt/(1+ss_Delay*k_ss)) #smaller sooner value\n",
    "    v_ll = pm.Deterministic('v_ll', ll_Amt/(1+ll_Delay*k_ll)) #later larger value\n",
    "    \n",
    "    \n",
    "    phi = pm.Normal('phi', mu=0, sigma=1)\n",
    "    #p_later = e_p + (1-2*e_p) * at.exp(pm.logcdf(phi, (v_ll-v_ss)/s_p)) # \n",
    "    p_later =  pm.Deterministic('p_later', e_p + (1-2*e_p) * pt.exp(pm.logcdf(phi, (v_ll-v_ss)/s_p)))\n",
    "    \n",
    "    choice_later = pm.Bernoulli(\"choice_later\", p = p_later, observed = choice)\n",
    "\n",
    "    trace = pm.sample(4000, tune=1500, target_accept=0.95, cores=4, chains = 4) #, init = \"adapt_diag\")\n",
    "    PPC =  pm.sample_posterior_predictive(trace, var_names = ['choice_later','v_ss', 'v_ll', 'p_later'])"
   ]
  },
  {
   "cell_type": "code",
   "execution_count": 36,
   "id": "c98dbfd0",
   "metadata": {},
   "outputs": [
    {
     "name": "stderr",
     "output_type": "stream",
     "text": [
      "C:\\Users\\Santiago Diaz\\anaconda3\\envs\\pymc_env\\Lib\\site-packages\\arviz\\stats\\diagnostics.py:584: RuntimeWarning: invalid value encountered in scalar divide\n",
      "  (between_chain_variance / within_chain_variance + num_samples - 1) / (num_samples)\n"
     ]
    },
    {
     "data": {
      "text/plain": [
       "0.0"
      ]
     },
     "execution_count": 36,
     "metadata": {},
     "output_type": "execute_result"
    }
   ],
   "source": [
    "resu=az.summary(trace)\n",
    "(resu['r_hat']>1.05).mean()"
   ]
  },
  {
   "cell_type": "code",
   "execution_count": 37,
   "id": "4d23bc33",
   "metadata": {},
   "outputs": [
    {
     "data": {
      "text/html": [
       "<div>\n",
       "<style scoped>\n",
       "    .dataframe tbody tr th:only-of-type {\n",
       "        vertical-align: middle;\n",
       "    }\n",
       "\n",
       "    .dataframe tbody tr th {\n",
       "        vertical-align: top;\n",
       "    }\n",
       "\n",
       "    .dataframe thead th {\n",
       "        text-align: right;\n",
       "    }\n",
       "</style>\n",
       "<table border=\"1\" class=\"dataframe\">\n",
       "  <thead>\n",
       "    <tr style=\"text-align: right;\">\n",
       "      <th></th>\n",
       "      <th>mean</th>\n",
       "      <th>sd</th>\n",
       "      <th>hdi_3%</th>\n",
       "      <th>hdi_97%</th>\n",
       "      <th>mcse_mean</th>\n",
       "      <th>mcse_sd</th>\n",
       "      <th>ess_bulk</th>\n",
       "      <th>ess_tail</th>\n",
       "      <th>r_hat</th>\n",
       "    </tr>\n",
       "  </thead>\n",
       "  <tbody>\n",
       "    <tr>\n",
       "      <th>Mu_c</th>\n",
       "      <td>1.469</td>\n",
       "      <td>0.641</td>\n",
       "      <td>0.304</td>\n",
       "      <td>2.717</td>\n",
       "      <td>0.024</td>\n",
       "      <td>0.017</td>\n",
       "      <td>734.0</td>\n",
       "      <td>1136.0</td>\n",
       "      <td>1.01</td>\n",
       "    </tr>\n",
       "    <tr>\n",
       "      <th>Mu_m</th>\n",
       "      <td>-1.505</td>\n",
       "      <td>0.158</td>\n",
       "      <td>-1.806</td>\n",
       "      <td>-1.214</td>\n",
       "      <td>0.006</td>\n",
       "      <td>0.004</td>\n",
       "      <td>748.0</td>\n",
       "      <td>1200.0</td>\n",
       "      <td>1.01</td>\n",
       "    </tr>\n",
       "    <tr>\n",
       "      <th>c_p[0]</th>\n",
       "      <td>1.490</td>\n",
       "      <td>0.675</td>\n",
       "      <td>0.185</td>\n",
       "      <td>2.732</td>\n",
       "      <td>0.024</td>\n",
       "      <td>0.017</td>\n",
       "      <td>784.0</td>\n",
       "      <td>1264.0</td>\n",
       "      <td>1.01</td>\n",
       "    </tr>\n",
       "    <tr>\n",
       "      <th>c_p[1]</th>\n",
       "      <td>1.621</td>\n",
       "      <td>0.690</td>\n",
       "      <td>0.286</td>\n",
       "      <td>2.900</td>\n",
       "      <td>0.024</td>\n",
       "      <td>0.017</td>\n",
       "      <td>822.0</td>\n",
       "      <td>1416.0</td>\n",
       "      <td>1.01</td>\n",
       "    </tr>\n",
       "    <tr>\n",
       "      <th>c_p[2]</th>\n",
       "      <td>1.622</td>\n",
       "      <td>0.687</td>\n",
       "      <td>0.317</td>\n",
       "      <td>2.911</td>\n",
       "      <td>0.024</td>\n",
       "      <td>0.017</td>\n",
       "      <td>827.0</td>\n",
       "      <td>1384.0</td>\n",
       "      <td>1.01</td>\n",
       "    </tr>\n",
       "    <tr>\n",
       "      <th>...</th>\n",
       "      <td>...</td>\n",
       "      <td>...</td>\n",
       "      <td>...</td>\n",
       "      <td>...</td>\n",
       "      <td>...</td>\n",
       "      <td>...</td>\n",
       "      <td>...</td>\n",
       "      <td>...</td>\n",
       "      <td>...</td>\n",
       "    </tr>\n",
       "    <tr>\n",
       "      <th>p_later[26, 10]</th>\n",
       "      <td>0.077</td>\n",
       "      <td>0.107</td>\n",
       "      <td>0.000</td>\n",
       "      <td>0.273</td>\n",
       "      <td>0.001</td>\n",
       "      <td>0.001</td>\n",
       "      <td>4431.0</td>\n",
       "      <td>7235.0</td>\n",
       "      <td>1.00</td>\n",
       "    </tr>\n",
       "    <tr>\n",
       "      <th>p_later[26, 11]</th>\n",
       "      <td>0.943</td>\n",
       "      <td>0.049</td>\n",
       "      <td>0.854</td>\n",
       "      <td>1.000</td>\n",
       "      <td>0.000</td>\n",
       "      <td>0.000</td>\n",
       "      <td>8319.0</td>\n",
       "      <td>6000.0</td>\n",
       "      <td>1.00</td>\n",
       "    </tr>\n",
       "    <tr>\n",
       "      <th>p_later[26, 12]</th>\n",
       "      <td>0.955</td>\n",
       "      <td>0.042</td>\n",
       "      <td>0.878</td>\n",
       "      <td>1.000</td>\n",
       "      <td>0.000</td>\n",
       "      <td>0.000</td>\n",
       "      <td>7984.0</td>\n",
       "      <td>6176.0</td>\n",
       "      <td>1.00</td>\n",
       "    </tr>\n",
       "    <tr>\n",
       "      <th>p_later[26, 13]</th>\n",
       "      <td>0.962</td>\n",
       "      <td>0.036</td>\n",
       "      <td>0.894</td>\n",
       "      <td>1.000</td>\n",
       "      <td>0.000</td>\n",
       "      <td>0.000</td>\n",
       "      <td>9789.0</td>\n",
       "      <td>5834.0</td>\n",
       "      <td>1.00</td>\n",
       "    </tr>\n",
       "    <tr>\n",
       "      <th>p_later[26, 14]</th>\n",
       "      <td>0.455</td>\n",
       "      <td>0.261</td>\n",
       "      <td>0.039</td>\n",
       "      <td>0.890</td>\n",
       "      <td>0.003</td>\n",
       "      <td>0.002</td>\n",
       "      <td>6826.0</td>\n",
       "      <td>8211.0</td>\n",
       "      <td>1.00</td>\n",
       "    </tr>\n",
       "  </tbody>\n",
       "</table>\n",
       "<p>1284 rows × 9 columns</p>\n",
       "</div>"
      ],
      "text/plain": [
       "                  mean     sd  hdi_3%  hdi_97%  mcse_mean  mcse_sd  ess_bulk  \\\n",
       "Mu_c             1.469  0.641   0.304    2.717      0.024    0.017     734.0   \n",
       "Mu_m            -1.505  0.158  -1.806   -1.214      0.006    0.004     748.0   \n",
       "c_p[0]           1.490  0.675   0.185    2.732      0.024    0.017     784.0   \n",
       "c_p[1]           1.621  0.690   0.286    2.900      0.024    0.017     822.0   \n",
       "c_p[2]           1.622  0.687   0.317    2.911      0.024    0.017     827.0   \n",
       "...                ...    ...     ...      ...        ...      ...       ...   \n",
       "p_later[26, 10]  0.077  0.107   0.000    0.273      0.001    0.001    4431.0   \n",
       "p_later[26, 11]  0.943  0.049   0.854    1.000      0.000    0.000    8319.0   \n",
       "p_later[26, 12]  0.955  0.042   0.878    1.000      0.000    0.000    7984.0   \n",
       "p_later[26, 13]  0.962  0.036   0.894    1.000      0.000    0.000    9789.0   \n",
       "p_later[26, 14]  0.455  0.261   0.039    0.890      0.003    0.002    6826.0   \n",
       "\n",
       "                 ess_tail  r_hat  \n",
       "Mu_c               1136.0   1.01  \n",
       "Mu_m               1200.0   1.01  \n",
       "c_p[0]             1264.0   1.01  \n",
       "c_p[1]             1416.0   1.01  \n",
       "c_p[2]             1384.0   1.01  \n",
       "...                   ...    ...  \n",
       "p_later[26, 10]    7235.0   1.00  \n",
       "p_later[26, 11]    6000.0   1.00  \n",
       "p_later[26, 12]    6176.0   1.00  \n",
       "p_later[26, 13]    5834.0   1.00  \n",
       "p_later[26, 14]    8211.0   1.00  \n",
       "\n",
       "[1284 rows x 9 columns]"
      ]
     },
     "execution_count": 37,
     "metadata": {},
     "output_type": "execute_result"
    }
   ],
   "source": [
    "resu"
   ]
  },
  {
   "cell_type": "code",
   "execution_count": 38,
   "id": "11a20b92",
   "metadata": {},
   "outputs": [
    {
     "data": {
      "text/plain": [
       "[mean           -1.505\n",
       " sd              0.158\n",
       " hdi_3%         -1.806\n",
       " hdi_97%        -1.214\n",
       " mcse_mean       0.006\n",
       " mcse_sd         0.004\n",
       " ess_bulk      748.000\n",
       " ess_tail     1200.000\n",
       " r_hat           1.010\n",
       " Name: Mu_m, dtype: float64,\n",
       " mean            1.469\n",
       " sd              0.641\n",
       " hdi_3%          0.304\n",
       " hdi_97%         2.717\n",
       " mcse_mean       0.024\n",
       " mcse_sd         0.017\n",
       " ess_bulk      734.000\n",
       " ess_tail     1136.000\n",
       " r_hat           1.010\n",
       " Name: Mu_c, dtype: float64,\n",
       " mean            2.611\n",
       " sd              1.536\n",
       " hdi_3%          0.003\n",
       " hdi_97%         5.061\n",
       " mcse_mean       0.064\n",
       " mcse_sd         0.045\n",
       " ess_bulk      587.000\n",
       " ess_tail     1503.000\n",
       " r_hat           1.000\n",
       " Name: Mu_acuity, dtype: float64,\n",
       " 0.037]"
      ]
     },
     "execution_count": 38,
     "metadata": {},
     "output_type": "execute_result"
    }
   ],
   "source": [
    "[resu.loc['Mu_m',:], resu.loc['Mu_c',:], resu.loc['Mu_acuity',:], resu.loc['e_p[8]',:]['mean']]"
   ]
  },
  {
   "cell_type": "code",
   "execution_count": 39,
   "id": "7dee07a1",
   "metadata": {},
   "outputs": [
    {
     "data": {
      "text/html": [
       "<div><svg style=\"position: absolute; width: 0; height: 0; overflow: hidden\">\n",
       "<defs>\n",
       "<symbol id=\"icon-database\" viewBox=\"0 0 32 32\">\n",
       "<path d=\"M16 0c-8.837 0-16 2.239-16 5v4c0 2.761 7.163 5 16 5s16-2.239 16-5v-4c0-2.761-7.163-5-16-5z\"></path>\n",
       "<path d=\"M16 17c-8.837 0-16-2.239-16-5v6c0 2.761 7.163 5 16 5s16-2.239 16-5v-6c0 2.761-7.163 5-16 5z\"></path>\n",
       "<path d=\"M16 26c-8.837 0-16-2.239-16-5v6c0 2.761 7.163 5 16 5s16-2.239 16-5v-6c0 2.761-7.163 5-16 5z\"></path>\n",
       "</symbol>\n",
       "<symbol id=\"icon-file-text2\" viewBox=\"0 0 32 32\">\n",
       "<path d=\"M28.681 7.159c-0.694-0.947-1.662-2.053-2.724-3.116s-2.169-2.030-3.116-2.724c-1.612-1.182-2.393-1.319-2.841-1.319h-15.5c-1.378 0-2.5 1.121-2.5 2.5v27c0 1.378 1.122 2.5 2.5 2.5h23c1.378 0 2.5-1.122 2.5-2.5v-19.5c0-0.448-0.137-1.23-1.319-2.841zM24.543 5.457c0.959 0.959 1.712 1.825 2.268 2.543h-4.811v-4.811c0.718 0.556 1.584 1.309 2.543 2.268zM28 29.5c0 0.271-0.229 0.5-0.5 0.5h-23c-0.271 0-0.5-0.229-0.5-0.5v-27c0-0.271 0.229-0.5 0.5-0.5 0 0 15.499-0 15.5 0v7c0 0.552 0.448 1 1 1h7v19.5z\"></path>\n",
       "<path d=\"M23 26h-14c-0.552 0-1-0.448-1-1s0.448-1 1-1h14c0.552 0 1 0.448 1 1s-0.448 1-1 1z\"></path>\n",
       "<path d=\"M23 22h-14c-0.552 0-1-0.448-1-1s0.448-1 1-1h14c0.552 0 1 0.448 1 1s-0.448 1-1 1z\"></path>\n",
       "<path d=\"M23 18h-14c-0.552 0-1-0.448-1-1s0.448-1 1-1h14c0.552 0 1 0.448 1 1s-0.448 1-1 1z\"></path>\n",
       "</symbol>\n",
       "</defs>\n",
       "</svg>\n",
       "<style>/* CSS stylesheet for displaying xarray objects in jupyterlab.\n",
       " *\n",
       " */\n",
       "\n",
       ":root {\n",
       "  --xr-font-color0: var(--jp-content-font-color0, rgba(0, 0, 0, 1));\n",
       "  --xr-font-color2: var(--jp-content-font-color2, rgba(0, 0, 0, 0.54));\n",
       "  --xr-font-color3: var(--jp-content-font-color3, rgba(0, 0, 0, 0.38));\n",
       "  --xr-border-color: var(--jp-border-color2, #e0e0e0);\n",
       "  --xr-disabled-color: var(--jp-layout-color3, #bdbdbd);\n",
       "  --xr-background-color: var(--jp-layout-color0, white);\n",
       "  --xr-background-color-row-even: var(--jp-layout-color1, white);\n",
       "  --xr-background-color-row-odd: var(--jp-layout-color2, #eeeeee);\n",
       "}\n",
       "\n",
       "html[theme=dark],\n",
       "body[data-theme=dark],\n",
       "body.vscode-dark {\n",
       "  --xr-font-color0: rgba(255, 255, 255, 1);\n",
       "  --xr-font-color2: rgba(255, 255, 255, 0.54);\n",
       "  --xr-font-color3: rgba(255, 255, 255, 0.38);\n",
       "  --xr-border-color: #1F1F1F;\n",
       "  --xr-disabled-color: #515151;\n",
       "  --xr-background-color: #111111;\n",
       "  --xr-background-color-row-even: #111111;\n",
       "  --xr-background-color-row-odd: #313131;\n",
       "}\n",
       "\n",
       ".xr-wrap {\n",
       "  display: block !important;\n",
       "  min-width: 300px;\n",
       "  max-width: 700px;\n",
       "}\n",
       "\n",
       ".xr-text-repr-fallback {\n",
       "  /* fallback to plain text repr when CSS is not injected (untrusted notebook) */\n",
       "  display: none;\n",
       "}\n",
       "\n",
       ".xr-header {\n",
       "  padding-top: 6px;\n",
       "  padding-bottom: 6px;\n",
       "  margin-bottom: 4px;\n",
       "  border-bottom: solid 1px var(--xr-border-color);\n",
       "}\n",
       "\n",
       ".xr-header > div,\n",
       ".xr-header > ul {\n",
       "  display: inline;\n",
       "  margin-top: 0;\n",
       "  margin-bottom: 0;\n",
       "}\n",
       "\n",
       ".xr-obj-type,\n",
       ".xr-array-name {\n",
       "  margin-left: 2px;\n",
       "  margin-right: 10px;\n",
       "}\n",
       "\n",
       ".xr-obj-type {\n",
       "  color: var(--xr-font-color2);\n",
       "}\n",
       "\n",
       ".xr-sections {\n",
       "  padding-left: 0 !important;\n",
       "  display: grid;\n",
       "  grid-template-columns: 150px auto auto 1fr 20px 20px;\n",
       "}\n",
       "\n",
       ".xr-section-item {\n",
       "  display: contents;\n",
       "}\n",
       "\n",
       ".xr-section-item input {\n",
       "  display: none;\n",
       "}\n",
       "\n",
       ".xr-section-item input + label {\n",
       "  color: var(--xr-disabled-color);\n",
       "}\n",
       "\n",
       ".xr-section-item input:enabled + label {\n",
       "  cursor: pointer;\n",
       "  color: var(--xr-font-color2);\n",
       "}\n",
       "\n",
       ".xr-section-item input:enabled + label:hover {\n",
       "  color: var(--xr-font-color0);\n",
       "}\n",
       "\n",
       ".xr-section-summary {\n",
       "  grid-column: 1;\n",
       "  color: var(--xr-font-color2);\n",
       "  font-weight: 500;\n",
       "}\n",
       "\n",
       ".xr-section-summary > span {\n",
       "  display: inline-block;\n",
       "  padding-left: 0.5em;\n",
       "}\n",
       "\n",
       ".xr-section-summary-in:disabled + label {\n",
       "  color: var(--xr-font-color2);\n",
       "}\n",
       "\n",
       ".xr-section-summary-in + label:before {\n",
       "  display: inline-block;\n",
       "  content: '►';\n",
       "  font-size: 11px;\n",
       "  width: 15px;\n",
       "  text-align: center;\n",
       "}\n",
       "\n",
       ".xr-section-summary-in:disabled + label:before {\n",
       "  color: var(--xr-disabled-color);\n",
       "}\n",
       "\n",
       ".xr-section-summary-in:checked + label:before {\n",
       "  content: '▼';\n",
       "}\n",
       "\n",
       ".xr-section-summary-in:checked + label > span {\n",
       "  display: none;\n",
       "}\n",
       "\n",
       ".xr-section-summary,\n",
       ".xr-section-inline-details {\n",
       "  padding-top: 4px;\n",
       "  padding-bottom: 4px;\n",
       "}\n",
       "\n",
       ".xr-section-inline-details {\n",
       "  grid-column: 2 / -1;\n",
       "}\n",
       "\n",
       ".xr-section-details {\n",
       "  display: none;\n",
       "  grid-column: 1 / -1;\n",
       "  margin-bottom: 5px;\n",
       "}\n",
       "\n",
       ".xr-section-summary-in:checked ~ .xr-section-details {\n",
       "  display: contents;\n",
       "}\n",
       "\n",
       ".xr-array-wrap {\n",
       "  grid-column: 1 / -1;\n",
       "  display: grid;\n",
       "  grid-template-columns: 20px auto;\n",
       "}\n",
       "\n",
       ".xr-array-wrap > label {\n",
       "  grid-column: 1;\n",
       "  vertical-align: top;\n",
       "}\n",
       "\n",
       ".xr-preview {\n",
       "  color: var(--xr-font-color3);\n",
       "}\n",
       "\n",
       ".xr-array-preview,\n",
       ".xr-array-data {\n",
       "  padding: 0 5px !important;\n",
       "  grid-column: 2;\n",
       "}\n",
       "\n",
       ".xr-array-data,\n",
       ".xr-array-in:checked ~ .xr-array-preview {\n",
       "  display: none;\n",
       "}\n",
       "\n",
       ".xr-array-in:checked ~ .xr-array-data,\n",
       ".xr-array-preview {\n",
       "  display: inline-block;\n",
       "}\n",
       "\n",
       ".xr-dim-list {\n",
       "  display: inline-block !important;\n",
       "  list-style: none;\n",
       "  padding: 0 !important;\n",
       "  margin: 0;\n",
       "}\n",
       "\n",
       ".xr-dim-list li {\n",
       "  display: inline-block;\n",
       "  padding: 0;\n",
       "  margin: 0;\n",
       "}\n",
       "\n",
       ".xr-dim-list:before {\n",
       "  content: '(';\n",
       "}\n",
       "\n",
       ".xr-dim-list:after {\n",
       "  content: ')';\n",
       "}\n",
       "\n",
       ".xr-dim-list li:not(:last-child):after {\n",
       "  content: ',';\n",
       "  padding-right: 5px;\n",
       "}\n",
       "\n",
       ".xr-has-index {\n",
       "  font-weight: bold;\n",
       "}\n",
       "\n",
       ".xr-var-list,\n",
       ".xr-var-item {\n",
       "  display: contents;\n",
       "}\n",
       "\n",
       ".xr-var-item > div,\n",
       ".xr-var-item label,\n",
       ".xr-var-item > .xr-var-name span {\n",
       "  background-color: var(--xr-background-color-row-even);\n",
       "  margin-bottom: 0;\n",
       "}\n",
       "\n",
       ".xr-var-item > .xr-var-name:hover span {\n",
       "  padding-right: 5px;\n",
       "}\n",
       "\n",
       ".xr-var-list > li:nth-child(odd) > div,\n",
       ".xr-var-list > li:nth-child(odd) > label,\n",
       ".xr-var-list > li:nth-child(odd) > .xr-var-name span {\n",
       "  background-color: var(--xr-background-color-row-odd);\n",
       "}\n",
       "\n",
       ".xr-var-name {\n",
       "  grid-column: 1;\n",
       "}\n",
       "\n",
       ".xr-var-dims {\n",
       "  grid-column: 2;\n",
       "}\n",
       "\n",
       ".xr-var-dtype {\n",
       "  grid-column: 3;\n",
       "  text-align: right;\n",
       "  color: var(--xr-font-color2);\n",
       "}\n",
       "\n",
       ".xr-var-preview {\n",
       "  grid-column: 4;\n",
       "}\n",
       "\n",
       ".xr-index-preview {\n",
       "  grid-column: 2 / 5;\n",
       "  color: var(--xr-font-color2);\n",
       "}\n",
       "\n",
       ".xr-var-name,\n",
       ".xr-var-dims,\n",
       ".xr-var-dtype,\n",
       ".xr-preview,\n",
       ".xr-attrs dt {\n",
       "  white-space: nowrap;\n",
       "  overflow: hidden;\n",
       "  text-overflow: ellipsis;\n",
       "  padding-right: 10px;\n",
       "}\n",
       "\n",
       ".xr-var-name:hover,\n",
       ".xr-var-dims:hover,\n",
       ".xr-var-dtype:hover,\n",
       ".xr-attrs dt:hover {\n",
       "  overflow: visible;\n",
       "  width: auto;\n",
       "  z-index: 1;\n",
       "}\n",
       "\n",
       ".xr-var-attrs,\n",
       ".xr-var-data,\n",
       ".xr-index-data {\n",
       "  display: none;\n",
       "  background-color: var(--xr-background-color) !important;\n",
       "  padding-bottom: 5px !important;\n",
       "}\n",
       "\n",
       ".xr-var-attrs-in:checked ~ .xr-var-attrs,\n",
       ".xr-var-data-in:checked ~ .xr-var-data,\n",
       ".xr-index-data-in:checked ~ .xr-index-data {\n",
       "  display: block;\n",
       "}\n",
       "\n",
       ".xr-var-data > table {\n",
       "  float: right;\n",
       "}\n",
       "\n",
       ".xr-var-name span,\n",
       ".xr-var-data,\n",
       ".xr-index-name div,\n",
       ".xr-index-data,\n",
       ".xr-attrs {\n",
       "  padding-left: 25px !important;\n",
       "}\n",
       "\n",
       ".xr-attrs,\n",
       ".xr-var-attrs,\n",
       ".xr-var-data,\n",
       ".xr-index-data {\n",
       "  grid-column: 1 / -1;\n",
       "}\n",
       "\n",
       "dl.xr-attrs {\n",
       "  padding: 0;\n",
       "  margin: 0;\n",
       "  display: grid;\n",
       "  grid-template-columns: 125px auto;\n",
       "}\n",
       "\n",
       ".xr-attrs dt,\n",
       ".xr-attrs dd {\n",
       "  padding: 0;\n",
       "  margin: 0;\n",
       "  float: left;\n",
       "  padding-right: 10px;\n",
       "  width: auto;\n",
       "}\n",
       "\n",
       ".xr-attrs dt {\n",
       "  font-weight: normal;\n",
       "  grid-column: 1;\n",
       "}\n",
       "\n",
       ".xr-attrs dt:hover span {\n",
       "  display: inline-block;\n",
       "  background: var(--xr-background-color);\n",
       "  padding-right: 10px;\n",
       "}\n",
       "\n",
       ".xr-attrs dd {\n",
       "  grid-column: 2;\n",
       "  white-space: pre-wrap;\n",
       "  word-break: break-all;\n",
       "}\n",
       "\n",
       ".xr-icon-database,\n",
       ".xr-icon-file-text2,\n",
       ".xr-no-icon {\n",
       "  display: inline-block;\n",
       "  vertical-align: middle;\n",
       "  width: 1em;\n",
       "  height: 1.5em !important;\n",
       "  stroke-width: 0;\n",
       "  stroke: currentColor;\n",
       "  fill: currentColor;\n",
       "}\n",
       "</style><pre class='xr-text-repr-fallback'>&lt;xarray.Dataset&gt;\n",
       "Dimensions:        (chain: 4, draw: 4000, c_p_dim_0: 15, m_p_dim_0: 15,\n",
       "                    e_p_dim_0: 15, s_p_dim_0: 15, v_ss_dim_0: 27,\n",
       "                    v_ss_dim_1: 15, v_ll_dim_0: 27, v_ll_dim_1: 15,\n",
       "                    p_later_dim_0: 27, p_later_dim_1: 15)\n",
       "Coordinates:\n",
       "  * chain          (chain) int32 0 1 2 3\n",
       "  * draw           (draw) int32 0 1 2 3 4 5 6 ... 3994 3995 3996 3997 3998 3999\n",
       "  * c_p_dim_0      (c_p_dim_0) int32 0 1 2 3 4 5 6 7 8 9 10 11 12 13 14\n",
       "  * m_p_dim_0      (m_p_dim_0) int32 0 1 2 3 4 5 6 7 8 9 10 11 12 13 14\n",
       "  * e_p_dim_0      (e_p_dim_0) int32 0 1 2 3 4 5 6 7 8 9 10 11 12 13 14\n",
       "  * s_p_dim_0      (s_p_dim_0) int32 0 1 2 3 4 5 6 7 8 9 10 11 12 13 14\n",
       "  * v_ss_dim_0     (v_ss_dim_0) int32 0 1 2 3 4 5 6 7 ... 20 21 22 23 24 25 26\n",
       "  * v_ss_dim_1     (v_ss_dim_1) int32 0 1 2 3 4 5 6 7 8 9 10 11 12 13 14\n",
       "  * v_ll_dim_0     (v_ll_dim_0) int32 0 1 2 3 4 5 6 7 ... 20 21 22 23 24 25 26\n",
       "  * v_ll_dim_1     (v_ll_dim_1) int32 0 1 2 3 4 5 6 7 8 9 10 11 12 13 14\n",
       "  * p_later_dim_0  (p_later_dim_0) int32 0 1 2 3 4 5 6 ... 20 21 22 23 24 25 26\n",
       "  * p_later_dim_1  (p_later_dim_1) int32 0 1 2 3 4 5 6 7 8 9 10 11 12 13 14\n",
       "Data variables: (12/16)\n",
       "    Mu_c           (chain, draw) float64 1.731 1.895 1.874 ... 1.677 1.927 2.049\n",
       "    Mu_m           (chain, draw) float64 -1.584 -1.608 -1.606 ... -1.634 -1.606\n",
       "    c_p            (chain, draw, c_p_dim_0) float64 1.953 2.313 ... 1.991 2.226\n",
       "    m_p            (chain, draw, m_p_dim_0) float64 -1.588 -1.597 ... -1.721\n",
       "    phi            (chain, draw) float64 -0.4617 -0.8707 ... -1.388 0.4227\n",
       "    Sigma_c        (chain, draw) float64 0.3795 0.1957 0.3194 ... 0.09438 0.1346\n",
       "    ...             ...\n",
       "    Sigma_acuity   (chain, draw) float64 2.363 1.697 2.728 ... 4.95 3.139 3.89\n",
       "    e_p            (chain, draw, e_p_dim_0) float64 0.02182 0.02395 ... 0.05097\n",
       "    s_p            (chain, draw, s_p_dim_0) float64 1.131 4.783 ... 1.529 5.162\n",
       "    v_ss           (chain, draw, v_ss_dim_0, v_ss_dim_1) float64 80.0 ... 55.0\n",
       "    v_ll           (chain, draw, v_ll_dim_0, v_ll_dim_1) float64 43.44 ... 56.16\n",
       "    p_later        (chain, draw, p_later_dim_0, p_later_dim_1) float64 0.0218...\n",
       "Attributes:\n",
       "    created_at:                 2023-03-13T22:32:17.673347\n",
       "    arviz_version:              0.14.0\n",
       "    inference_library:          pymc\n",
       "    inference_library_version:  5.1.1\n",
       "    sampling_time:              1705.461072921753\n",
       "    tuning_steps:               1500</pre><div class='xr-wrap' style='display:none'><div class='xr-header'><div class='xr-obj-type'>xarray.Dataset</div></div><ul class='xr-sections'><li class='xr-section-item'><input id='section-b3edff0e-63bb-460f-94dc-d8615a7ece06' class='xr-section-summary-in' type='checkbox' disabled ><label for='section-b3edff0e-63bb-460f-94dc-d8615a7ece06' class='xr-section-summary'  title='Expand/collapse section'>Dimensions:</label><div class='xr-section-inline-details'><ul class='xr-dim-list'><li><span class='xr-has-index'>chain</span>: 4</li><li><span class='xr-has-index'>draw</span>: 4000</li><li><span class='xr-has-index'>c_p_dim_0</span>: 15</li><li><span class='xr-has-index'>m_p_dim_0</span>: 15</li><li><span class='xr-has-index'>e_p_dim_0</span>: 15</li><li><span class='xr-has-index'>s_p_dim_0</span>: 15</li><li><span class='xr-has-index'>v_ss_dim_0</span>: 27</li><li><span class='xr-has-index'>v_ss_dim_1</span>: 15</li><li><span class='xr-has-index'>v_ll_dim_0</span>: 27</li><li><span class='xr-has-index'>v_ll_dim_1</span>: 15</li><li><span class='xr-has-index'>p_later_dim_0</span>: 27</li><li><span class='xr-has-index'>p_later_dim_1</span>: 15</li></ul></div><div class='xr-section-details'></div></li><li class='xr-section-item'><input id='section-09115981-18b9-4ad0-9fe2-4366fa00fd4f' class='xr-section-summary-in' type='checkbox'  checked><label for='section-09115981-18b9-4ad0-9fe2-4366fa00fd4f' class='xr-section-summary' >Coordinates: <span>(12)</span></label><div class='xr-section-inline-details'></div><div class='xr-section-details'><ul class='xr-var-list'><li class='xr-var-item'><div class='xr-var-name'><span class='xr-has-index'>chain</span></div><div class='xr-var-dims'>(chain)</div><div class='xr-var-dtype'>int32</div><div class='xr-var-preview xr-preview'>0 1 2 3</div><input id='attrs-1ffb0835-b9c2-4ec3-afaa-98041cb06eeb' class='xr-var-attrs-in' type='checkbox' disabled><label for='attrs-1ffb0835-b9c2-4ec3-afaa-98041cb06eeb' title='Show/Hide attributes'><svg class='icon xr-icon-file-text2'><use xlink:href='#icon-file-text2'></use></svg></label><input id='data-06df5d1d-0318-4102-b311-4d4643b12ba5' class='xr-var-data-in' type='checkbox'><label for='data-06df5d1d-0318-4102-b311-4d4643b12ba5' title='Show/Hide data repr'><svg class='icon xr-icon-database'><use xlink:href='#icon-database'></use></svg></label><div class='xr-var-attrs'><dl class='xr-attrs'></dl></div><div class='xr-var-data'><pre>array([0, 1, 2, 3])</pre></div></li><li class='xr-var-item'><div class='xr-var-name'><span class='xr-has-index'>draw</span></div><div class='xr-var-dims'>(draw)</div><div class='xr-var-dtype'>int32</div><div class='xr-var-preview xr-preview'>0 1 2 3 4 ... 3996 3997 3998 3999</div><input id='attrs-eca0fa0e-1df8-4e05-aa17-f1ad9549a9fd' class='xr-var-attrs-in' type='checkbox' disabled><label for='attrs-eca0fa0e-1df8-4e05-aa17-f1ad9549a9fd' title='Show/Hide attributes'><svg class='icon xr-icon-file-text2'><use xlink:href='#icon-file-text2'></use></svg></label><input id='data-48312efa-6bf8-4b7c-aa96-cecf16b7d493' class='xr-var-data-in' type='checkbox'><label for='data-48312efa-6bf8-4b7c-aa96-cecf16b7d493' title='Show/Hide data repr'><svg class='icon xr-icon-database'><use xlink:href='#icon-database'></use></svg></label><div class='xr-var-attrs'><dl class='xr-attrs'></dl></div><div class='xr-var-data'><pre>array([   0,    1,    2, ..., 3997, 3998, 3999])</pre></div></li><li class='xr-var-item'><div class='xr-var-name'><span class='xr-has-index'>c_p_dim_0</span></div><div class='xr-var-dims'>(c_p_dim_0)</div><div class='xr-var-dtype'>int32</div><div class='xr-var-preview xr-preview'>0 1 2 3 4 5 6 7 8 9 10 11 12 13 14</div><input id='attrs-b82245a5-3c26-4749-b145-a8d7b55e0146' class='xr-var-attrs-in' type='checkbox' disabled><label for='attrs-b82245a5-3c26-4749-b145-a8d7b55e0146' title='Show/Hide attributes'><svg class='icon xr-icon-file-text2'><use xlink:href='#icon-file-text2'></use></svg></label><input id='data-ab970574-eee4-40e7-9a10-9c93ab3c2176' class='xr-var-data-in' type='checkbox'><label for='data-ab970574-eee4-40e7-9a10-9c93ab3c2176' title='Show/Hide data repr'><svg class='icon xr-icon-database'><use xlink:href='#icon-database'></use></svg></label><div class='xr-var-attrs'><dl class='xr-attrs'></dl></div><div class='xr-var-data'><pre>array([ 0,  1,  2,  3,  4,  5,  6,  7,  8,  9, 10, 11, 12, 13, 14])</pre></div></li><li class='xr-var-item'><div class='xr-var-name'><span class='xr-has-index'>m_p_dim_0</span></div><div class='xr-var-dims'>(m_p_dim_0)</div><div class='xr-var-dtype'>int32</div><div class='xr-var-preview xr-preview'>0 1 2 3 4 5 6 7 8 9 10 11 12 13 14</div><input id='attrs-3d33a3fd-61f4-468e-8aeb-c0b87b5599d6' class='xr-var-attrs-in' type='checkbox' disabled><label for='attrs-3d33a3fd-61f4-468e-8aeb-c0b87b5599d6' title='Show/Hide attributes'><svg class='icon xr-icon-file-text2'><use xlink:href='#icon-file-text2'></use></svg></label><input id='data-b3cee779-0d47-4312-8a02-89b80cf38382' class='xr-var-data-in' type='checkbox'><label for='data-b3cee779-0d47-4312-8a02-89b80cf38382' title='Show/Hide data repr'><svg class='icon xr-icon-database'><use xlink:href='#icon-database'></use></svg></label><div class='xr-var-attrs'><dl class='xr-attrs'></dl></div><div class='xr-var-data'><pre>array([ 0,  1,  2,  3,  4,  5,  6,  7,  8,  9, 10, 11, 12, 13, 14])</pre></div></li><li class='xr-var-item'><div class='xr-var-name'><span class='xr-has-index'>e_p_dim_0</span></div><div class='xr-var-dims'>(e_p_dim_0)</div><div class='xr-var-dtype'>int32</div><div class='xr-var-preview xr-preview'>0 1 2 3 4 5 6 7 8 9 10 11 12 13 14</div><input id='attrs-22e5a184-54f8-40ed-ac5d-cd246efa5bb2' class='xr-var-attrs-in' type='checkbox' disabled><label for='attrs-22e5a184-54f8-40ed-ac5d-cd246efa5bb2' title='Show/Hide attributes'><svg class='icon xr-icon-file-text2'><use xlink:href='#icon-file-text2'></use></svg></label><input id='data-ce4366be-e298-4ca8-9b39-4c914eed62d8' class='xr-var-data-in' type='checkbox'><label for='data-ce4366be-e298-4ca8-9b39-4c914eed62d8' title='Show/Hide data repr'><svg class='icon xr-icon-database'><use xlink:href='#icon-database'></use></svg></label><div class='xr-var-attrs'><dl class='xr-attrs'></dl></div><div class='xr-var-data'><pre>array([ 0,  1,  2,  3,  4,  5,  6,  7,  8,  9, 10, 11, 12, 13, 14])</pre></div></li><li class='xr-var-item'><div class='xr-var-name'><span class='xr-has-index'>s_p_dim_0</span></div><div class='xr-var-dims'>(s_p_dim_0)</div><div class='xr-var-dtype'>int32</div><div class='xr-var-preview xr-preview'>0 1 2 3 4 5 6 7 8 9 10 11 12 13 14</div><input id='attrs-731cb769-fe99-44bb-9985-72dfa0f39e38' class='xr-var-attrs-in' type='checkbox' disabled><label for='attrs-731cb769-fe99-44bb-9985-72dfa0f39e38' title='Show/Hide attributes'><svg class='icon xr-icon-file-text2'><use xlink:href='#icon-file-text2'></use></svg></label><input id='data-b8feeb02-c781-4453-b509-4c84fd021522' class='xr-var-data-in' type='checkbox'><label for='data-b8feeb02-c781-4453-b509-4c84fd021522' title='Show/Hide data repr'><svg class='icon xr-icon-database'><use xlink:href='#icon-database'></use></svg></label><div class='xr-var-attrs'><dl class='xr-attrs'></dl></div><div class='xr-var-data'><pre>array([ 0,  1,  2,  3,  4,  5,  6,  7,  8,  9, 10, 11, 12, 13, 14])</pre></div></li><li class='xr-var-item'><div class='xr-var-name'><span class='xr-has-index'>v_ss_dim_0</span></div><div class='xr-var-dims'>(v_ss_dim_0)</div><div class='xr-var-dtype'>int32</div><div class='xr-var-preview xr-preview'>0 1 2 3 4 5 6 ... 21 22 23 24 25 26</div><input id='attrs-f59c17dd-1fca-4646-8189-99918c5f8091' class='xr-var-attrs-in' type='checkbox' disabled><label for='attrs-f59c17dd-1fca-4646-8189-99918c5f8091' title='Show/Hide attributes'><svg class='icon xr-icon-file-text2'><use xlink:href='#icon-file-text2'></use></svg></label><input id='data-20af29e0-c5d2-4791-90a4-c002f03c70e0' class='xr-var-data-in' type='checkbox'><label for='data-20af29e0-c5d2-4791-90a4-c002f03c70e0' title='Show/Hide data repr'><svg class='icon xr-icon-database'><use xlink:href='#icon-database'></use></svg></label><div class='xr-var-attrs'><dl class='xr-attrs'></dl></div><div class='xr-var-data'><pre>array([ 0,  1,  2,  3,  4,  5,  6,  7,  8,  9, 10, 11, 12, 13, 14, 15, 16, 17,\n",
       "       18, 19, 20, 21, 22, 23, 24, 25, 26])</pre></div></li><li class='xr-var-item'><div class='xr-var-name'><span class='xr-has-index'>v_ss_dim_1</span></div><div class='xr-var-dims'>(v_ss_dim_1)</div><div class='xr-var-dtype'>int32</div><div class='xr-var-preview xr-preview'>0 1 2 3 4 5 6 7 8 9 10 11 12 13 14</div><input id='attrs-c40f1a0d-a532-4c4d-9af2-7a116ce0f326' class='xr-var-attrs-in' type='checkbox' disabled><label for='attrs-c40f1a0d-a532-4c4d-9af2-7a116ce0f326' title='Show/Hide attributes'><svg class='icon xr-icon-file-text2'><use xlink:href='#icon-file-text2'></use></svg></label><input id='data-8f84fab9-091b-46bb-800c-727736436bd7' class='xr-var-data-in' type='checkbox'><label for='data-8f84fab9-091b-46bb-800c-727736436bd7' title='Show/Hide data repr'><svg class='icon xr-icon-database'><use xlink:href='#icon-database'></use></svg></label><div class='xr-var-attrs'><dl class='xr-attrs'></dl></div><div class='xr-var-data'><pre>array([ 0,  1,  2,  3,  4,  5,  6,  7,  8,  9, 10, 11, 12, 13, 14])</pre></div></li><li class='xr-var-item'><div class='xr-var-name'><span class='xr-has-index'>v_ll_dim_0</span></div><div class='xr-var-dims'>(v_ll_dim_0)</div><div class='xr-var-dtype'>int32</div><div class='xr-var-preview xr-preview'>0 1 2 3 4 5 6 ... 21 22 23 24 25 26</div><input id='attrs-f1bde4f7-d139-4858-809a-9b7ada11f9c0' class='xr-var-attrs-in' type='checkbox' disabled><label for='attrs-f1bde4f7-d139-4858-809a-9b7ada11f9c0' title='Show/Hide attributes'><svg class='icon xr-icon-file-text2'><use xlink:href='#icon-file-text2'></use></svg></label><input id='data-cbb1b8d9-a5b1-4317-890a-34add3189b63' class='xr-var-data-in' type='checkbox'><label for='data-cbb1b8d9-a5b1-4317-890a-34add3189b63' title='Show/Hide data repr'><svg class='icon xr-icon-database'><use xlink:href='#icon-database'></use></svg></label><div class='xr-var-attrs'><dl class='xr-attrs'></dl></div><div class='xr-var-data'><pre>array([ 0,  1,  2,  3,  4,  5,  6,  7,  8,  9, 10, 11, 12, 13, 14, 15, 16, 17,\n",
       "       18, 19, 20, 21, 22, 23, 24, 25, 26])</pre></div></li><li class='xr-var-item'><div class='xr-var-name'><span class='xr-has-index'>v_ll_dim_1</span></div><div class='xr-var-dims'>(v_ll_dim_1)</div><div class='xr-var-dtype'>int32</div><div class='xr-var-preview xr-preview'>0 1 2 3 4 5 6 7 8 9 10 11 12 13 14</div><input id='attrs-35e017c7-6b52-45d5-82ec-1376df155403' class='xr-var-attrs-in' type='checkbox' disabled><label for='attrs-35e017c7-6b52-45d5-82ec-1376df155403' title='Show/Hide attributes'><svg class='icon xr-icon-file-text2'><use xlink:href='#icon-file-text2'></use></svg></label><input id='data-3be4a773-9c2d-448a-9ec6-efe9888e0299' class='xr-var-data-in' type='checkbox'><label for='data-3be4a773-9c2d-448a-9ec6-efe9888e0299' title='Show/Hide data repr'><svg class='icon xr-icon-database'><use xlink:href='#icon-database'></use></svg></label><div class='xr-var-attrs'><dl class='xr-attrs'></dl></div><div class='xr-var-data'><pre>array([ 0,  1,  2,  3,  4,  5,  6,  7,  8,  9, 10, 11, 12, 13, 14])</pre></div></li><li class='xr-var-item'><div class='xr-var-name'><span class='xr-has-index'>p_later_dim_0</span></div><div class='xr-var-dims'>(p_later_dim_0)</div><div class='xr-var-dtype'>int32</div><div class='xr-var-preview xr-preview'>0 1 2 3 4 5 6 ... 21 22 23 24 25 26</div><input id='attrs-80ccfc62-1406-402c-978c-c1042f41a5f3' class='xr-var-attrs-in' type='checkbox' disabled><label for='attrs-80ccfc62-1406-402c-978c-c1042f41a5f3' title='Show/Hide attributes'><svg class='icon xr-icon-file-text2'><use xlink:href='#icon-file-text2'></use></svg></label><input id='data-bfc27907-786e-44a6-a459-f239685ed0d2' class='xr-var-data-in' type='checkbox'><label for='data-bfc27907-786e-44a6-a459-f239685ed0d2' title='Show/Hide data repr'><svg class='icon xr-icon-database'><use xlink:href='#icon-database'></use></svg></label><div class='xr-var-attrs'><dl class='xr-attrs'></dl></div><div class='xr-var-data'><pre>array([ 0,  1,  2,  3,  4,  5,  6,  7,  8,  9, 10, 11, 12, 13, 14, 15, 16, 17,\n",
       "       18, 19, 20, 21, 22, 23, 24, 25, 26])</pre></div></li><li class='xr-var-item'><div class='xr-var-name'><span class='xr-has-index'>p_later_dim_1</span></div><div class='xr-var-dims'>(p_later_dim_1)</div><div class='xr-var-dtype'>int32</div><div class='xr-var-preview xr-preview'>0 1 2 3 4 5 6 7 8 9 10 11 12 13 14</div><input id='attrs-1a1ca556-5e22-4bb3-afdd-af098db6ebf7' class='xr-var-attrs-in' type='checkbox' disabled><label for='attrs-1a1ca556-5e22-4bb3-afdd-af098db6ebf7' title='Show/Hide attributes'><svg class='icon xr-icon-file-text2'><use xlink:href='#icon-file-text2'></use></svg></label><input id='data-20b5b864-a0dc-4bca-976e-c7a914b5d420' class='xr-var-data-in' type='checkbox'><label for='data-20b5b864-a0dc-4bca-976e-c7a914b5d420' title='Show/Hide data repr'><svg class='icon xr-icon-database'><use xlink:href='#icon-database'></use></svg></label><div class='xr-var-attrs'><dl class='xr-attrs'></dl></div><div class='xr-var-data'><pre>array([ 0,  1,  2,  3,  4,  5,  6,  7,  8,  9, 10, 11, 12, 13, 14])</pre></div></li></ul></div></li><li class='xr-section-item'><input id='section-b44d0b82-b310-4056-a39d-376b40e3813a' class='xr-section-summary-in' type='checkbox'  ><label for='section-b44d0b82-b310-4056-a39d-376b40e3813a' class='xr-section-summary' >Data variables: <span>(16)</span></label><div class='xr-section-inline-details'></div><div class='xr-section-details'><ul class='xr-var-list'><li class='xr-var-item'><div class='xr-var-name'><span>Mu_c</span></div><div class='xr-var-dims'>(chain, draw)</div><div class='xr-var-dtype'>float64</div><div class='xr-var-preview xr-preview'>1.731 1.895 1.874 ... 1.927 2.049</div><input id='attrs-c7bfb5f3-b486-44f8-9f3f-e795131aed61' class='xr-var-attrs-in' type='checkbox' disabled><label for='attrs-c7bfb5f3-b486-44f8-9f3f-e795131aed61' title='Show/Hide attributes'><svg class='icon xr-icon-file-text2'><use xlink:href='#icon-file-text2'></use></svg></label><input id='data-12fa03f4-758e-427a-b67e-05d091bc5af4' class='xr-var-data-in' type='checkbox'><label for='data-12fa03f4-758e-427a-b67e-05d091bc5af4' title='Show/Hide data repr'><svg class='icon xr-icon-database'><use xlink:href='#icon-database'></use></svg></label><div class='xr-var-attrs'><dl class='xr-attrs'></dl></div><div class='xr-var-data'><pre>array([[1.73125133, 1.89459876, 1.87372157, ..., 1.11884195, 1.0595799 ,\n",
       "        1.07648687],\n",
       "       [1.60043022, 1.75113367, 2.1917398 , ..., 2.07323577, 2.28230166,\n",
       "        1.19287335],\n",
       "       [3.57910498, 3.62518705, 3.69971412, ..., 2.14445674, 2.14582103,\n",
       "        2.32418896],\n",
       "       [2.25689374, 2.2685818 , 2.46100163, ..., 1.67730576, 1.92699721,\n",
       "        2.04943591]])</pre></div></li><li class='xr-var-item'><div class='xr-var-name'><span>Mu_m</span></div><div class='xr-var-dims'>(chain, draw)</div><div class='xr-var-dtype'>float64</div><div class='xr-var-preview xr-preview'>-1.584 -1.608 ... -1.634 -1.606</div><input id='attrs-1490f08b-bebf-477f-8973-50c00c7bfd32' class='xr-var-attrs-in' type='checkbox' disabled><label for='attrs-1490f08b-bebf-477f-8973-50c00c7bfd32' title='Show/Hide attributes'><svg class='icon xr-icon-file-text2'><use xlink:href='#icon-file-text2'></use></svg></label><input id='data-31fbc6cb-2b19-4c29-9e61-93c7a09988c1' class='xr-var-data-in' type='checkbox'><label for='data-31fbc6cb-2b19-4c29-9e61-93c7a09988c1' title='Show/Hide data repr'><svg class='icon xr-icon-database'><use xlink:href='#icon-database'></use></svg></label><div class='xr-var-attrs'><dl class='xr-attrs'></dl></div><div class='xr-var-data'><pre>array([[-1.58440901, -1.60821802, -1.60611716, ..., -1.43701744,\n",
       "        -1.42233416, -1.43978455],\n",
       "       [-1.55515224, -1.56146527, -1.74301989, ..., -1.77771306,\n",
       "        -1.60349767, -1.41411535],\n",
       "       [-2.01760807, -2.09678179, -2.0510481 , ..., -1.66952264,\n",
       "        -1.68689876, -1.69009088],\n",
       "       [-1.72075641, -1.71242512, -1.73850581, ..., -1.60360535,\n",
       "        -1.63449639, -1.60633561]])</pre></div></li><li class='xr-var-item'><div class='xr-var-name'><span>c_p</span></div><div class='xr-var-dims'>(chain, draw, c_p_dim_0)</div><div class='xr-var-dtype'>float64</div><div class='xr-var-preview xr-preview'>1.953 2.313 2.156 ... 1.991 2.226</div><input id='attrs-f1c9018e-6ce6-400f-9e4b-e124ff87f54a' class='xr-var-attrs-in' type='checkbox' disabled><label for='attrs-f1c9018e-6ce6-400f-9e4b-e124ff87f54a' title='Show/Hide attributes'><svg class='icon xr-icon-file-text2'><use xlink:href='#icon-file-text2'></use></svg></label><input id='data-f9ff1762-a185-4a9d-b9d5-7709f05b6918' class='xr-var-data-in' type='checkbox'><label for='data-f9ff1762-a185-4a9d-b9d5-7709f05b6918' title='Show/Hide data repr'><svg class='icon xr-icon-database'><use xlink:href='#icon-database'></use></svg></label><div class='xr-var-attrs'><dl class='xr-attrs'></dl></div><div class='xr-var-data'><pre>array([[[1.95324653, 2.31277196, 2.15564983, ..., 1.57094914,\n",
       "         1.97668355, 1.93326757],\n",
       "        [2.04919887, 1.7406051 , 1.84398324, ..., 1.89207592,\n",
       "         1.92828935, 1.82172433],\n",
       "        [1.80731272, 2.48097035, 2.30899971, ..., 1.75978514,\n",
       "         1.96034746, 1.92917286],\n",
       "        ...,\n",
       "        [0.86282297, 1.48862406, 1.86256943, ..., 1.00881759,\n",
       "         1.08652192, 0.95136377],\n",
       "        [0.83491018, 1.45220626, 1.77783171, ..., 0.8896545 ,\n",
       "         1.17561327, 0.94472692],\n",
       "        [1.69865632, 1.90925393, 1.10919815, ..., 0.86543063,\n",
       "         1.33111936, 0.85005252]],\n",
       "\n",
       "       [[1.90322945, 1.83317137, 1.60345358, ..., 1.45173429,\n",
       "         1.57582089, 1.64362012],\n",
       "        [1.55699611, 1.7185151 , 1.66160413, ..., 1.67092875,\n",
       "         1.6902421 , 1.94148433],\n",
       "        [2.20669154, 2.20122321, 2.44154386, ..., 2.32034462,\n",
       "         2.20423023, 2.02731409],\n",
       "...\n",
       "        [2.12955174, 2.13338844, 2.01089525, ..., 2.01365447,\n",
       "         2.00424079, 2.13973254],\n",
       "        [2.16676276, 2.10465725, 2.2867101 , ..., 2.26686996,\n",
       "         2.04906982, 2.13428942],\n",
       "        [2.40007576, 2.50737009, 2.29130476, ..., 2.3864797 ,\n",
       "         2.16087381, 2.53471711]],\n",
       "\n",
       "       [[2.62592733, 2.34492416, 2.47429209, ..., 2.29387053,\n",
       "         2.55077653, 2.01344114],\n",
       "        [2.69936186, 3.1362463 , 2.57772348, ..., 1.56913926,\n",
       "         2.14094429, 1.90621819],\n",
       "        [2.28329333, 2.93961464, 2.83257196, ..., 2.36849001,\n",
       "         2.51186627, 2.75488326],\n",
       "        ...,\n",
       "        [1.72098641, 1.83813327, 1.68463969, ..., 1.6464927 ,\n",
       "         1.64819599, 1.77932222],\n",
       "        [1.93171819, 2.03068471, 1.97731149, ..., 1.99100968,\n",
       "         2.0230101 , 1.913696  ],\n",
       "        [2.04973683, 2.00739233, 2.13959709, ..., 2.08652094,\n",
       "         1.991331  , 2.22571566]]])</pre></div></li><li class='xr-var-item'><div class='xr-var-name'><span>m_p</span></div><div class='xr-var-dims'>(chain, draw, m_p_dim_0)</div><div class='xr-var-dtype'>float64</div><div class='xr-var-preview xr-preview'>-1.588 -1.597 ... -1.595 -1.721</div><input id='attrs-c84720a4-07d2-41fd-a053-8fa9419d47dd' class='xr-var-attrs-in' type='checkbox' disabled><label for='attrs-c84720a4-07d2-41fd-a053-8fa9419d47dd' title='Show/Hide attributes'><svg class='icon xr-icon-file-text2'><use xlink:href='#icon-file-text2'></use></svg></label><input id='data-aebc1867-4c8d-483b-9cb0-9740f1685180' class='xr-var-data-in' type='checkbox'><label for='data-aebc1867-4c8d-483b-9cb0-9740f1685180' title='Show/Hide data repr'><svg class='icon xr-icon-database'><use xlink:href='#icon-database'></use></svg></label><div class='xr-var-attrs'><dl class='xr-attrs'></dl></div><div class='xr-var-data'><pre>array([[[-1.58773783, -1.59709643, -1.57189187, ..., -1.58188004,\n",
       "         -1.58278203, -1.58175458],\n",
       "        [-1.60698019, -1.61140053, -1.59369721, ..., -1.60222825,\n",
       "         -1.60535754, -1.59961354],\n",
       "        [-1.60562321, -1.61530011, -1.59155892, ..., -1.60494496,\n",
       "         -1.60752578, -1.5986458 ],\n",
       "        ...,\n",
       "        [-1.3818383 , -1.40713828, -1.42948993, ..., -1.35893841,\n",
       "         -1.31304689, -1.4626893 ],\n",
       "        [-1.36791691, -1.40933263, -1.41646521, ..., -1.33927081,\n",
       "         -1.337479  , -1.47169134],\n",
       "        [-1.49733402, -1.4476491 , -1.41617041, ..., -1.39472153,\n",
       "         -1.39229975, -1.45607802]],\n",
       "\n",
       "       [[-1.6102325 , -1.56379442, -1.51189439, ..., -1.58604188,\n",
       "         -1.5420395 , -1.52755396],\n",
       "        [-1.48961884, -1.46221973, -1.49566443, ..., -1.51112274,\n",
       "         -1.57363343, -1.53323046],\n",
       "        [-1.67326438, -1.68829135, -1.53802926, ..., -1.82600436,\n",
       "         -1.69501917, -1.77844475],\n",
       "...\n",
       "        [-1.65632259, -1.59234661, -1.59398856, ..., -1.76184891,\n",
       "         -1.64346499, -1.73791285],\n",
       "        [-1.59059489, -1.57985112, -1.53915138, ..., -1.67887238,\n",
       "         -1.65115944, -1.65631218],\n",
       "        [-1.72262056, -1.67907384, -1.73540411, ..., -1.6979366 ,\n",
       "         -1.67333677, -1.77815791]],\n",
       "\n",
       "       [[-1.71062876, -1.66608145, -1.6810573 , ..., -1.75758252,\n",
       "         -1.72926745, -1.73448945],\n",
       "        [-1.72705361, -1.78653248, -1.74858841, ..., -1.63823477,\n",
       "         -1.67672682, -1.70193779],\n",
       "        [-1.71628422, -1.76113338, -1.78236028, ..., -1.87574423,\n",
       "         -1.65948611, -1.74269084],\n",
       "        ...,\n",
       "        [-1.52643701, -1.47913477, -1.5873602 , ..., -1.56335035,\n",
       "         -1.52562082, -1.7039823 ],\n",
       "        [-1.61937852, -1.60239263, -1.50866754, ..., -1.65787669,\n",
       "         -1.6227601 , -1.53976303],\n",
       "        [-1.58163446, -1.47908408, -1.58297519, ..., -1.63188881,\n",
       "         -1.5945079 , -1.72056564]]])</pre></div></li><li class='xr-var-item'><div class='xr-var-name'><span>phi</span></div><div class='xr-var-dims'>(chain, draw)</div><div class='xr-var-dtype'>float64</div><div class='xr-var-preview xr-preview'>-0.4617 -0.8707 ... -1.388 0.4227</div><input id='attrs-122fb43a-a7c3-40a4-954d-797beb2a55c3' class='xr-var-attrs-in' type='checkbox' disabled><label for='attrs-122fb43a-a7c3-40a4-954d-797beb2a55c3' title='Show/Hide attributes'><svg class='icon xr-icon-file-text2'><use xlink:href='#icon-file-text2'></use></svg></label><input id='data-82e3975f-005a-4224-9df9-00195617f408' class='xr-var-data-in' type='checkbox'><label for='data-82e3975f-005a-4224-9df9-00195617f408' title='Show/Hide data repr'><svg class='icon xr-icon-database'><use xlink:href='#icon-database'></use></svg></label><div class='xr-var-attrs'><dl class='xr-attrs'></dl></div><div class='xr-var-data'><pre>array([[-0.46174256, -0.87067729, -0.82246028, ..., -1.00776107,\n",
       "        -1.00956523, -0.57817931],\n",
       "       [-0.37183324,  0.59397367,  1.38431906, ...,  0.45919783,\n",
       "         1.1129284 , -0.87271284],\n",
       "       [-0.09521481, -0.30090149,  0.58863401, ...,  0.76285763,\n",
       "         0.45926083,  1.12032319],\n",
       "       [-0.59180879,  1.28147859, -1.60861709, ...,  0.91827635,\n",
       "        -1.38801489,  0.42271554]])</pre></div></li><li class='xr-var-item'><div class='xr-var-name'><span>Sigma_c</span></div><div class='xr-var-dims'>(chain, draw)</div><div class='xr-var-dtype'>float64</div><div class='xr-var-preview xr-preview'>0.3795 0.1957 ... 0.09438 0.1346</div><input id='attrs-c0c53c15-e863-4a83-8c98-bbb583806f52' class='xr-var-attrs-in' type='checkbox' disabled><label for='attrs-c0c53c15-e863-4a83-8c98-bbb583806f52' title='Show/Hide attributes'><svg class='icon xr-icon-file-text2'><use xlink:href='#icon-file-text2'></use></svg></label><input id='data-8f0698d8-a09e-4f50-88cf-a1e120644167' class='xr-var-data-in' type='checkbox'><label for='data-8f0698d8-a09e-4f50-88cf-a1e120644167' title='Show/Hide data repr'><svg class='icon xr-icon-database'><use xlink:href='#icon-database'></use></svg></label><div class='xr-var-attrs'><dl class='xr-attrs'></dl></div><div class='xr-var-data'><pre>array([[0.37949753, 0.19571721, 0.31938842, ..., 0.57338126, 0.59405108,\n",
       "        0.45708245],\n",
       "       [0.27246932, 0.15765171, 0.20477991, ..., 0.31546496, 0.36595792,\n",
       "        0.29462821],\n",
       "       [0.19943032, 0.30867894, 0.41395129, ..., 0.09717109, 0.11468381,\n",
       "        0.31584964],\n",
       "       [0.2326485 , 0.51331025, 0.47976491, ..., 0.13909014, 0.09438304,\n",
       "        0.13458258]])</pre></div></li><li class='xr-var-item'><div class='xr-var-name'><span>Sigma_m</span></div><div class='xr-var-dims'>(chain, draw)</div><div class='xr-var-dtype'>float64</div><div class='xr-var-preview xr-preview'>0.008096 0.006284 ... 0.1043 0.1054</div><input id='attrs-f3f4ec13-1c5f-4d4b-ab35-e788a5ac7d43' class='xr-var-attrs-in' type='checkbox' disabled><label for='attrs-f3f4ec13-1c5f-4d4b-ab35-e788a5ac7d43' title='Show/Hide attributes'><svg class='icon xr-icon-file-text2'><use xlink:href='#icon-file-text2'></use></svg></label><input id='data-e5a02f9e-4b39-45e0-9a62-95d0bb58649d' class='xr-var-data-in' type='checkbox'><label for='data-e5a02f9e-4b39-45e0-9a62-95d0bb58649d' title='Show/Hide data repr'><svg class='icon xr-icon-database'><use xlink:href='#icon-database'></use></svg></label><div class='xr-var-attrs'><dl class='xr-attrs'></dl></div><div class='xr-var-data'><pre>array([[0.00809569, 0.00628437, 0.00958722, ..., 0.0628929 , 0.06550692,\n",
       "        0.06034847],\n",
       "       [0.08458996, 0.05800767, 0.13357689, ..., 0.15698244, 0.13163438,\n",
       "        0.04844269],\n",
       "       [0.10088657, 0.02907187, 0.05301354, ..., 0.15140727, 0.0913768 ,\n",
       "        0.08528943],\n",
       "       [0.02543637, 0.04687091, 0.07288394, ..., 0.07191495, 0.10433191,\n",
       "        0.10544778]])</pre></div></li><li class='xr-var-item'><div class='xr-var-name'><span>omega</span></div><div class='xr-var-dims'>(chain, draw)</div><div class='xr-var-dtype'>float64</div><div class='xr-var-preview xr-preview'>0.02774 0.1235 ... 0.02094 0.008098</div><input id='attrs-ea77e47d-48bb-4b87-af61-cc5802511a20' class='xr-var-attrs-in' type='checkbox' disabled><label for='attrs-ea77e47d-48bb-4b87-af61-cc5802511a20' title='Show/Hide attributes'><svg class='icon xr-icon-file-text2'><use xlink:href='#icon-file-text2'></use></svg></label><input id='data-64f37663-a497-48ad-a439-4a6bee53d099' class='xr-var-data-in' type='checkbox'><label for='data-64f37663-a497-48ad-a439-4a6bee53d099' title='Show/Hide data repr'><svg class='icon xr-icon-database'><use xlink:href='#icon-database'></use></svg></label><div class='xr-var-attrs'><dl class='xr-attrs'></dl></div><div class='xr-var-data'><pre>array([[0.02773753, 0.12347584, 0.22622232, ..., 0.13302154, 0.13460636,\n",
       "        0.03218164],\n",
       "       [0.03160184, 0.18589253, 0.05806713, ..., 0.04663775, 0.01419939,\n",
       "        0.18304388],\n",
       "       [0.05417017, 0.08401957, 0.14286613, ..., 0.0310557 , 0.04351491,\n",
       "        0.26502117],\n",
       "       [0.00690361, 0.42152174, 0.00204799, ..., 0.05497085, 0.02094435,\n",
       "        0.0080979 ]])</pre></div></li><li class='xr-var-item'><div class='xr-var-name'><span>kappa</span></div><div class='xr-var-dims'>(chain, draw)</div><div class='xr-var-dtype'>float64</div><div class='xr-var-preview xr-preview'>5.664e-61 6.096e-34 ... 3.431e-10</div><input id='attrs-ce6fa802-6b73-4f8a-8a5b-07621674da63' class='xr-var-attrs-in' type='checkbox' disabled><label for='attrs-ce6fa802-6b73-4f8a-8a5b-07621674da63' title='Show/Hide attributes'><svg class='icon xr-icon-file-text2'><use xlink:href='#icon-file-text2'></use></svg></label><input id='data-f1dee1bc-6f7a-45e2-9838-371b189cca96' class='xr-var-data-in' type='checkbox'><label for='data-f1dee1bc-6f7a-45e2-9838-371b189cca96' title='Show/Hide data repr'><svg class='icon xr-icon-database'><use xlink:href='#icon-database'></use></svg></label><div class='xr-var-attrs'><dl class='xr-attrs'></dl></div><div class='xr-var-data'><pre>array([[5.66435876e-061, 6.09624723e-034, 3.75832319e-030, ...,\n",
       "        1.12411896e-032, 2.19979103e-019, 1.43420429e-002],\n",
       "       [1.37723585e-040, 1.72406815e-099, 1.01990714e-086, ...,\n",
       "        1.54339454e-008, 7.22304176e-090, 6.45238976e-051],\n",
       "       [1.53060168e-032, 1.69843988e-032, 1.05767494e-059, ...,\n",
       "        5.53876215e-008, 4.35989225e-004, 5.37941340e-010],\n",
       "       [5.43744774e-191, 1.91035355e-115, 8.15956282e-099, ...,\n",
       "        1.48530647e-010, 1.13628830e-043, 3.43101440e-010]])</pre></div></li><li class='xr-var-item'><div class='xr-var-name'><span>Mu_acuity</span></div><div class='xr-var-dims'>(chain, draw)</div><div class='xr-var-dtype'>float64</div><div class='xr-var-preview xr-preview'>3.001 3.719 2.55 ... 1.293 3.026</div><input id='attrs-d088a61e-74a7-4f56-8e6c-24ce9f087000' class='xr-var-attrs-in' type='checkbox' disabled><label for='attrs-d088a61e-74a7-4f56-8e6c-24ce9f087000' title='Show/Hide attributes'><svg class='icon xr-icon-file-text2'><use xlink:href='#icon-file-text2'></use></svg></label><input id='data-3ca298c5-9afe-44e6-b404-ac059b050ed4' class='xr-var-data-in' type='checkbox'><label for='data-3ca298c5-9afe-44e6-b404-ac059b050ed4' title='Show/Hide data repr'><svg class='icon xr-icon-database'><use xlink:href='#icon-database'></use></svg></label><div class='xr-var-attrs'><dl class='xr-attrs'></dl></div><div class='xr-var-data'><pre>array([[3.00136384, 3.71926404, 2.54980184, ..., 2.3236219 , 2.35667536,\n",
       "        2.31452396],\n",
       "       [3.98312294, 2.1677906 , 1.80192301, ..., 4.32276005, 4.76214502,\n",
       "        3.50838899],\n",
       "       [3.97564945, 4.65875082, 5.07478678, ..., 5.05267036, 6.04534697,\n",
       "        1.0528112 ],\n",
       "       [3.74396791, 2.23977297, 3.13208835, ..., 2.57449238, 1.29288793,\n",
       "        3.02573365]])</pre></div></li><li class='xr-var-item'><div class='xr-var-name'><span>Sigma_acuity</span></div><div class='xr-var-dims'>(chain, draw)</div><div class='xr-var-dtype'>float64</div><div class='xr-var-preview xr-preview'>2.363 1.697 2.728 ... 3.139 3.89</div><input id='attrs-8ad1316d-8ed0-400e-bf6a-22420bbc5684' class='xr-var-attrs-in' type='checkbox' disabled><label for='attrs-8ad1316d-8ed0-400e-bf6a-22420bbc5684' title='Show/Hide attributes'><svg class='icon xr-icon-file-text2'><use xlink:href='#icon-file-text2'></use></svg></label><input id='data-3c082c9e-3cbb-4ade-aef9-dd20c39b86f8' class='xr-var-data-in' type='checkbox'><label for='data-3c082c9e-3cbb-4ade-aef9-dd20c39b86f8' title='Show/Hide data repr'><svg class='icon xr-icon-database'><use xlink:href='#icon-database'></use></svg></label><div class='xr-var-attrs'><dl class='xr-attrs'></dl></div><div class='xr-var-data'><pre>array([[2.36280441, 1.69677331, 2.72757232, ..., 0.72981688, 0.68181123,\n",
       "        0.95121682],\n",
       "       [2.49651893, 7.11683883, 3.92280083, ..., 2.0349382 , 1.74738937,\n",
       "        2.79425737],\n",
       "       [0.68668359, 0.82525941, 0.47992483, ..., 2.73200896, 3.56727802,\n",
       "        6.54207042],\n",
       "       [2.79205503, 6.14048021, 2.41488338, ..., 4.95048856, 3.13935819,\n",
       "        3.88971683]])</pre></div></li><li class='xr-var-item'><div class='xr-var-name'><span>e_p</span></div><div class='xr-var-dims'>(chain, draw, e_p_dim_0)</div><div class='xr-var-dtype'>float64</div><div class='xr-var-preview xr-preview'>0.02182 0.02395 ... 0.02279 0.05097</div><input id='attrs-14d9d2ff-7118-40fe-9820-98f3281bf238' class='xr-var-attrs-in' type='checkbox' disabled><label for='attrs-14d9d2ff-7118-40fe-9820-98f3281bf238' title='Show/Hide attributes'><svg class='icon xr-icon-file-text2'><use xlink:href='#icon-file-text2'></use></svg></label><input id='data-169d8818-26a6-4d54-bb10-c679e984ef32' class='xr-var-data-in' type='checkbox'><label for='data-169d8818-26a6-4d54-bb10-c679e984ef32' title='Show/Hide data repr'><svg class='icon xr-icon-database'><use xlink:href='#icon-database'></use></svg></label><div class='xr-var-attrs'><dl class='xr-attrs'></dl></div><div class='xr-var-data'><pre>array([[[0.02181836, 0.02394942, 0.01560387, ..., 0.02974254,\n",
       "         0.05749489, 0.0070903 ],\n",
       "        [0.06510524, 0.00181256, 0.00979465, ..., 0.08761884,\n",
       "         0.15635332, 0.00742702],\n",
       "        [0.07252425, 0.01481745, 0.02139777, ..., 0.08632964,\n",
       "         0.05286568, 0.00266638],\n",
       "        ...,\n",
       "        [0.00880617, 0.10058887, 0.00506906, ..., 0.04934869,\n",
       "         0.01085156, 0.08775027],\n",
       "        [0.00817508, 0.10250237, 0.00529886, ..., 0.04807029,\n",
       "         0.0119978 , 0.09668783],\n",
       "        [0.0028923 , 0.10221575, 0.09359541, ..., 0.06027129,\n",
       "         0.010709  , 0.08384814]],\n",
       "\n",
       "       [[0.04047356, 0.04559432, 0.04591256, ..., 0.03829631,\n",
       "         0.02526803, 0.01144168],\n",
       "        [0.02908773, 0.02635929, 0.03025271, ..., 0.05297119,\n",
       "         0.01872772, 0.00855032],\n",
       "        [0.00736198, 0.14074971, 0.04310777, ..., 0.01599307,\n",
       "         0.02778052, 0.20008362],\n",
       "...\n",
       "        [0.00475936, 0.0058155 , 0.04312518, ..., 0.02076526,\n",
       "         0.03123919, 0.107878  ],\n",
       "        [0.01198343, 0.00682225, 0.03341862, ..., 0.0180812 ,\n",
       "         0.01298489, 0.08632049],\n",
       "        [0.06460524, 0.00302373, 0.10652947, ..., 0.02181424,\n",
       "         0.04178891, 0.04352166]],\n",
       "\n",
       "       [[0.01897831, 0.01029573, 0.0247176 , ..., 0.11880842,\n",
       "         0.0899463 , 0.01643388],\n",
       "        [0.04720498, 0.01636913, 0.07027881, ..., 0.03298821,\n",
       "         0.005485  , 0.10757089],\n",
       "        [0.01228377, 0.00612278, 0.01125346, ..., 0.03532372,\n",
       "         0.05889707, 0.16059903],\n",
       "        ...,\n",
       "        [0.01909765, 0.00740168, 0.08401693, ..., 0.01430561,\n",
       "         0.01941865, 0.15407045],\n",
       "        [0.00291943, 0.02241794, 0.01755394, ..., 0.07630275,\n",
       "         0.05441987, 0.04948227],\n",
       "        [0.0099628 , 0.01398856, 0.05230097, ..., 0.03079768,\n",
       "         0.02278957, 0.05097228]]])</pre></div></li><li class='xr-var-item'><div class='xr-var-name'><span>s_p</span></div><div class='xr-var-dims'>(chain, draw, s_p_dim_0)</div><div class='xr-var-dtype'>float64</div><div class='xr-var-preview xr-preview'>1.131 4.783 3.08 ... 1.529 5.162</div><input id='attrs-f177f764-45cf-4071-bfa6-341545342e5c' class='xr-var-attrs-in' type='checkbox' disabled><label for='attrs-f177f764-45cf-4071-bfa6-341545342e5c' title='Show/Hide attributes'><svg class='icon xr-icon-file-text2'><use xlink:href='#icon-file-text2'></use></svg></label><input id='data-3772c1ef-8bfc-4cd5-a035-168cc2eb1d57' class='xr-var-data-in' type='checkbox'><label for='data-3772c1ef-8bfc-4cd5-a035-168cc2eb1d57' title='Show/Hide data repr'><svg class='icon xr-icon-database'><use xlink:href='#icon-database'></use></svg></label><div class='xr-var-attrs'><dl class='xr-attrs'></dl></div><div class='xr-var-data'><pre>array([[[ 1.13136592,  4.78343659,  3.08032714, ...,  4.3486575 ,\n",
       "          1.54277097,  4.68038915],\n",
       "        [ 2.7663795 ,  3.5024091 ,  5.46203708, ...,  3.28093406,\n",
       "          1.8163572 ,  4.62035112],\n",
       "        [ 3.96828749,  3.5015827 ,  3.47441054, ...,  3.34318847,\n",
       "          2.031794  ,  4.99078934],\n",
       "        ...,\n",
       "        [ 2.04413237,  1.65401484,  2.78886252, ...,  2.90542497,\n",
       "          3.51348971,  1.66044318],\n",
       "        [ 2.06761071,  1.69449652,  2.91677612, ...,  2.99026039,\n",
       "          3.54287797,  1.49363332],\n",
       "        [ 2.34550464,  1.61210524,  2.65535546, ...,  2.58436853,\n",
       "          1.22440142,  2.06181971]],\n",
       "\n",
       "       [[ 1.76889097,  2.64605773,  6.5820621 , ...,  4.22758204,\n",
       "          3.14097437,  5.12542884],\n",
       "        [ 1.48824361,  0.36955393,  2.61738804, ..., 12.63376603,\n",
       "          0.90219223,  8.44836356],\n",
       "        [ 0.74418075,  0.35433653,  5.71349005, ...,  5.94725293,\n",
       "          0.43530394,  6.50885009],\n",
       "...\n",
       "        [ 7.33459405,  1.57516857,  6.58678155, ...,  5.93243832,\n",
       "          0.18492126,  8.61813251],\n",
       "        [ 6.79451863,  1.47630991,  9.36675673, ...,  6.63941339,\n",
       "          0.13411166,  8.85693665],\n",
       "        [ 1.489188  , 15.69710828,  5.25501668, ...,  5.6374969 ,\n",
       "          1.07220261,  2.70563993]],\n",
       "\n",
       "       [[ 1.76413298,  3.38673434,  4.50781594, ...,  2.32895153,\n",
       "          5.69176631,  5.22247977],\n",
       "        [ 7.54585057,  6.17736832,  7.39077418, ...,  1.06806065,\n",
       "          1.75846141,  3.79634558],\n",
       "        [ 0.62519221,  3.52234941,  2.94904959, ...,  5.9500519 ,\n",
       "          4.08860079,  2.39881762],\n",
       "        ...,\n",
       "        [ 0.4990128 , 10.04646844,  7.59285444, ...,  3.72652597,\n",
       "          4.6554039 ,  3.80927994],\n",
       "        [ 1.76583179,  3.2229207 ,  5.65811851, ...,  6.46074746,\n",
       "          1.66163309,  3.25933168],\n",
       "        [ 2.24057657,  4.18997819,  2.23327362, ...,  2.83398307,\n",
       "          1.52911484,  5.16158899]]])</pre></div></li><li class='xr-var-item'><div class='xr-var-name'><span>v_ss</span></div><div class='xr-var-dims'>(chain, draw, v_ss_dim_0, v_ss_dim_1)</div><div class='xr-var-dtype'>float64</div><div class='xr-var-preview xr-preview'>80.0 80.0 28.0 ... 20.0 20.0 55.0</div><input id='attrs-fd8e03f9-ddf3-4298-aa89-e7cb522c76fd' class='xr-var-attrs-in' type='checkbox' disabled><label for='attrs-fd8e03f9-ddf3-4298-aa89-e7cb522c76fd' title='Show/Hide attributes'><svg class='icon xr-icon-file-text2'><use xlink:href='#icon-file-text2'></use></svg></label><input id='data-f310f8c3-4710-4845-8c29-4ce65c8703ff' class='xr-var-data-in' type='checkbox'><label for='data-f310f8c3-4710-4845-8c29-4ce65c8703ff' title='Show/Hide data repr'><svg class='icon xr-icon-database'><use xlink:href='#icon-database'></use></svg></label><div class='xr-var-attrs'><dl class='xr-attrs'></dl></div><div class='xr-var-data'><pre>array([[[[80., 80., 28., ..., 80., 80., 28.],\n",
       "         [34., 34., 34., ..., 34., 34., 34.],\n",
       "         [25., 25., 19., ..., 25., 25., 19.],\n",
       "         ...,\n",
       "         [78., 78., 80., ..., 78., 78., 80.],\n",
       "         [67., 67., 14., ..., 67., 67., 14.],\n",
       "         [20., 20., 55., ..., 20., 20., 55.]],\n",
       "\n",
       "        [[80., 80., 28., ..., 80., 80., 28.],\n",
       "         [34., 34., 34., ..., 34., 34., 34.],\n",
       "         [25., 25., 19., ..., 25., 25., 19.],\n",
       "         ...,\n",
       "         [78., 78., 80., ..., 78., 78., 80.],\n",
       "         [67., 67., 14., ..., 67., 67., 14.],\n",
       "         [20., 20., 55., ..., 20., 20., 55.]],\n",
       "\n",
       "        [[80., 80., 28., ..., 80., 80., 28.],\n",
       "         [34., 34., 34., ..., 34., 34., 34.],\n",
       "         [25., 25., 19., ..., 25., 25., 19.],\n",
       "         ...,\n",
       "...\n",
       "         ...,\n",
       "         [78., 78., 80., ..., 78., 78., 80.],\n",
       "         [67., 67., 14., ..., 67., 67., 14.],\n",
       "         [20., 20., 55., ..., 20., 20., 55.]],\n",
       "\n",
       "        [[80., 80., 28., ..., 80., 80., 28.],\n",
       "         [34., 34., 34., ..., 34., 34., 34.],\n",
       "         [25., 25., 19., ..., 25., 25., 19.],\n",
       "         ...,\n",
       "         [78., 78., 80., ..., 78., 78., 80.],\n",
       "         [67., 67., 14., ..., 67., 67., 14.],\n",
       "         [20., 20., 55., ..., 20., 20., 55.]],\n",
       "\n",
       "        [[80., 80., 28., ..., 80., 80., 28.],\n",
       "         [34., 34., 34., ..., 34., 34., 34.],\n",
       "         [25., 25., 19., ..., 25., 25., 19.],\n",
       "         ...,\n",
       "         [78., 78., 80., ..., 78., 78., 80.],\n",
       "         [67., 67., 14., ..., 67., 67., 14.],\n",
       "         [20., 20., 55., ..., 20., 20., 55.]]]])</pre></div></li><li class='xr-var-item'><div class='xr-var-name'><span>v_ll</span></div><div class='xr-var-dims'>(chain, draw, v_ll_dim_0, v_ll_dim_1)</div><div class='xr-var-dtype'>float64</div><div class='xr-var-preview xr-preview'>43.44 36.72 3.586 ... 50.64 56.16</div><input id='attrs-3968f1ff-8716-40be-afbe-fa490f1d4b44' class='xr-var-attrs-in' type='checkbox' disabled><label for='attrs-3968f1ff-8716-40be-afbe-fa490f1d4b44' title='Show/Hide attributes'><svg class='icon xr-icon-file-text2'><use xlink:href='#icon-file-text2'></use></svg></label><input id='data-a7c2207f-1b4b-451f-8e90-a35f6a1c0739' class='xr-var-data-in' type='checkbox'><label for='data-a7c2207f-1b4b-451f-8e90-a35f6a1c0739' title='Show/Hide data repr'><svg class='icon xr-icon-database'><use xlink:href='#icon-database'></use></svg></label><div class='xr-var-attrs'><dl class='xr-attrs'></dl></div><div class='xr-var-data'><pre>array([[[[43.4406506 , 36.7204284 ,  3.58642842, ..., 50.89960885,\n",
       "          42.47490802,  4.47636392],\n",
       "         [35.0998232 , 31.51971397,  4.99565452, ..., 38.56974674,\n",
       "          34.6480481 ,  6.20255094],\n",
       "         [52.25064014, 49.81359378,  6.40307931, ..., 54.36516357,\n",
       "          51.95072816,  7.68614388],\n",
       "         ...,\n",
       "         [38.33429594, 32.06945071, 37.66480002, ..., 45.43213096,\n",
       "          37.43379165, 43.30040563],\n",
       "         [39.79716754, 33.82835217, 12.24775886, ..., 46.32534555,\n",
       "          38.95868002, 13.83096705],\n",
       "         [50.68462278, 49.21751185, 47.03784991, ..., 51.91268407,\n",
       "          50.50926846, 51.50780591]],\n",
       "\n",
       "        [[43.21834914, 50.11039801,  4.99395144, ..., 46.1000196 ,\n",
       "          45.62888478,  5.17287254],\n",
       "         [34.88265781, 38.08510046,  6.90369316, ..., 36.30257162,\n",
       "          36.0628859 ,  7.14677184],\n",
       "         [52.13404613, 54.11108115,  8.38221262, ..., 53.02814375,\n",
       "          52.88265238,  8.61388501],\n",
       "...\n",
       "         [41.53614949, 38.07042147, 35.52825179, ..., 43.71434459,\n",
       "          40.00743112, 39.75595072],\n",
       "         [42.73078269, 39.53243624, 12.09054029, ..., 44.68020452,\n",
       "          41.3139027 , 13.11307666],\n",
       "         [51.23880676, 50.60962163, 45.35933588, ..., 51.55828962,\n",
       "          50.95709369, 48.82331336]],\n",
       "\n",
       "        [[40.8150718 , 32.23923996,  3.759652  , ..., 44.77467898,\n",
       "          43.27056212,  5.20458795],\n",
       "         [33.81102171, 29.66496229,  5.2378961 , ..., 35.50910093,\n",
       "          34.9782071 ,  7.29598814],\n",
       "         [51.3932664 , 48.22056333,  6.6525594 , ..., 52.56555277,\n",
       "          52.18041957,  8.53129684],\n",
       "         ...,\n",
       "         [35.88325149, 28.09902253, 39.0389131 , ..., 39.53727931,\n",
       "          38.16626129, 50.10776457],\n",
       "         [37.49676849, 30.08783259, 12.57102736, ..., 40.8662161 ,\n",
       "          39.6317196 , 14.77519129],\n",
       "         [50.17844594, 48.29150032, 48.14914316, ..., 50.85505908,\n",
       "          50.64085721, 56.15590434]]]])</pre></div></li><li class='xr-var-item'><div class='xr-var-name'><span>p_later</span></div><div class='xr-var-dims'>(chain, draw, p_later_dim_0, p_later_dim_1)</div><div class='xr-var-dtype'>float64</div><div class='xr-var-preview xr-preview'>0.02182 0.02395 ... 0.9772 0.5796</div><input id='attrs-7bc2fae6-4c48-469b-b919-c6984df25712' class='xr-var-attrs-in' type='checkbox' disabled><label for='attrs-7bc2fae6-4c48-469b-b919-c6984df25712' title='Show/Hide attributes'><svg class='icon xr-icon-file-text2'><use xlink:href='#icon-file-text2'></use></svg></label><input id='data-a2cb8f0f-81af-4aed-8b51-50b9d13724b0' class='xr-var-data-in' type='checkbox'><label for='data-a2cb8f0f-81af-4aed-8b51-50b9d13724b0' title='Show/Hide data repr'><svg class='icon xr-icon-database'><use xlink:href='#icon-database'></use></svg></label><div class='xr-var-attrs'><dl class='xr-attrs'></dl></div><div class='xr-var-data'><pre>array([[[[2.18183603e-02, 2.39494184e-02, 1.56038713e-02, ...,\n",
       "          2.97425359e-02, 5.74948913e-02, 7.09055158e-03],\n",
       "         [8.19907845e-01, 3.11530927e-01, 1.56038713e-02, ...,\n",
       "          8.32316040e-01, 6.44059513e-01, 7.09030614e-03],\n",
       "         [9.78181640e-01, 9.76050480e-01, 1.56248142e-02, ...,\n",
       "          9.70257464e-01, 9.42505109e-01, 1.47977216e-02],\n",
       "         ...,\n",
       "         [2.18183603e-02, 2.39494184e-02, 1.56038713e-02, ...,\n",
       "          2.97425359e-02, 5.74948913e-02, 7.09030473e-03],\n",
       "         [2.18183603e-02, 2.39494184e-02, 2.91447405e-01, ...,\n",
       "          2.97434725e-02, 5.74948913e-02, 4.85799539e-01],\n",
       "         [9.78181640e-01, 9.76050581e-01, 2.03230736e-02, ...,\n",
       "          9.70257464e-01, 9.42505109e-01, 2.31653506e-01]],\n",
       "\n",
       "        [[6.51052406e-02, 1.81255859e-03, 9.80705375e-03, ...,\n",
       "          8.76188366e-02, 1.56353318e-01, 7.42740789e-03],\n",
       "         [6.08864415e-01, 8.76896043e-01, 9.79498924e-03, ...,\n",
       "          7.13282882e-01, 7.55648790e-01, 7.42702723e-03],\n",
       "         [9.34894759e-01, 9.98187441e-01, 3.52385397e-02, ...,\n",
       "          9.12381163e-01, 8.43646682e-01, 1.95355438e-02],\n",
       "...\n",
       "         [2.91943321e-03, 2.24179398e-02, 1.75539425e-02, ...,\n",
       "          7.63027930e-02, 5.44198676e-02, 4.94822654e-02],\n",
       "         [2.91943321e-03, 2.24179398e-02, 3.72518789e-01, ...,\n",
       "          7.65361828e-02, 5.44198676e-02, 4.03377985e-01],\n",
       "         [9.97080567e-01, 9.77582060e-01, 6.02053134e-02, ...,\n",
       "          9.23696815e-01, 9.45580132e-01, 7.56492877e-02]],\n",
       "\n",
       "        [[9.96280068e-03, 1.39885585e-02, 5.23009743e-02, ...,\n",
       "          3.07976801e-02, 2.27895730e-02, 5.09767899e-02],\n",
       "         [4.67061292e-01, 1.60203220e-01, 5.23009743e-02, ...,\n",
       "          6.90318536e-01, 7.27937701e-01, 5.09723857e-02],\n",
       "         [9.90037199e-01, 9.86011427e-01, 5.23009887e-02, ...,\n",
       "          9.69202320e-01, 9.77210427e-01, 7.00741304e-02],\n",
       "         ...,\n",
       "         [9.96280068e-03, 1.39885585e-02, 5.23009743e-02, ...,\n",
       "          3.07976801e-02, 2.27895730e-02, 5.09722857e-02],\n",
       "         [9.96280068e-03, 1.39885585e-02, 2.86119165e-01, ...,\n",
       "          3.07976801e-02, 2.27895730e-02, 5.53605397e-01],\n",
       "         [9.90037199e-01, 9.86011441e-01, 5.32669462e-02, ...,\n",
       "          9.69202320e-01, 9.77210427e-01, 5.79567146e-01]]]])</pre></div></li></ul></div></li><li class='xr-section-item'><input id='section-a029b697-5410-4bc3-9ae2-1d2b1d140233' class='xr-section-summary-in' type='checkbox'  ><label for='section-a029b697-5410-4bc3-9ae2-1d2b1d140233' class='xr-section-summary' >Indexes: <span>(12)</span></label><div class='xr-section-inline-details'></div><div class='xr-section-details'><ul class='xr-var-list'><li class='xr-var-item'><div class='xr-index-name'><div>chain</div></div><div class='xr-index-preview'>PandasIndex</div><div></div><input id='index-9c7459b1-56f2-4997-b98e-52b08b764797' class='xr-index-data-in' type='checkbox'/><label for='index-9c7459b1-56f2-4997-b98e-52b08b764797' title='Show/Hide index repr'><svg class='icon xr-icon-database'><use xlink:href='#icon-database'></use></svg></label><div class='xr-index-data'><pre>PandasIndex(Int64Index([0, 1, 2, 3], dtype=&#x27;int64&#x27;, name=&#x27;chain&#x27;))</pre></div></li><li class='xr-var-item'><div class='xr-index-name'><div>draw</div></div><div class='xr-index-preview'>PandasIndex</div><div></div><input id='index-bad2c390-1f46-4699-8144-9c79e97aa584' class='xr-index-data-in' type='checkbox'/><label for='index-bad2c390-1f46-4699-8144-9c79e97aa584' title='Show/Hide index repr'><svg class='icon xr-icon-database'><use xlink:href='#icon-database'></use></svg></label><div class='xr-index-data'><pre>PandasIndex(Int64Index([   0,    1,    2,    3,    4,    5,    6,    7,    8,    9,\n",
       "            ...\n",
       "            3990, 3991, 3992, 3993, 3994, 3995, 3996, 3997, 3998, 3999],\n",
       "           dtype=&#x27;int64&#x27;, name=&#x27;draw&#x27;, length=4000))</pre></div></li><li class='xr-var-item'><div class='xr-index-name'><div>c_p_dim_0</div></div><div class='xr-index-preview'>PandasIndex</div><div></div><input id='index-2a767f05-9c0d-4c38-a555-d92dabeccbac' class='xr-index-data-in' type='checkbox'/><label for='index-2a767f05-9c0d-4c38-a555-d92dabeccbac' title='Show/Hide index repr'><svg class='icon xr-icon-database'><use xlink:href='#icon-database'></use></svg></label><div class='xr-index-data'><pre>PandasIndex(Int64Index([0, 1, 2, 3, 4, 5, 6, 7, 8, 9, 10, 11, 12, 13, 14], dtype=&#x27;int64&#x27;, name=&#x27;c_p_dim_0&#x27;))</pre></div></li><li class='xr-var-item'><div class='xr-index-name'><div>m_p_dim_0</div></div><div class='xr-index-preview'>PandasIndex</div><div></div><input id='index-54bbddf3-0ac6-4e43-a38f-36d548483b01' class='xr-index-data-in' type='checkbox'/><label for='index-54bbddf3-0ac6-4e43-a38f-36d548483b01' title='Show/Hide index repr'><svg class='icon xr-icon-database'><use xlink:href='#icon-database'></use></svg></label><div class='xr-index-data'><pre>PandasIndex(Int64Index([0, 1, 2, 3, 4, 5, 6, 7, 8, 9, 10, 11, 12, 13, 14], dtype=&#x27;int64&#x27;, name=&#x27;m_p_dim_0&#x27;))</pre></div></li><li class='xr-var-item'><div class='xr-index-name'><div>e_p_dim_0</div></div><div class='xr-index-preview'>PandasIndex</div><div></div><input id='index-96d45b39-32db-4bf7-9631-0d32e2b57880' class='xr-index-data-in' type='checkbox'/><label for='index-96d45b39-32db-4bf7-9631-0d32e2b57880' title='Show/Hide index repr'><svg class='icon xr-icon-database'><use xlink:href='#icon-database'></use></svg></label><div class='xr-index-data'><pre>PandasIndex(Int64Index([0, 1, 2, 3, 4, 5, 6, 7, 8, 9, 10, 11, 12, 13, 14], dtype=&#x27;int64&#x27;, name=&#x27;e_p_dim_0&#x27;))</pre></div></li><li class='xr-var-item'><div class='xr-index-name'><div>s_p_dim_0</div></div><div class='xr-index-preview'>PandasIndex</div><div></div><input id='index-b68a5995-4712-4306-af21-73f3f664ae00' class='xr-index-data-in' type='checkbox'/><label for='index-b68a5995-4712-4306-af21-73f3f664ae00' title='Show/Hide index repr'><svg class='icon xr-icon-database'><use xlink:href='#icon-database'></use></svg></label><div class='xr-index-data'><pre>PandasIndex(Int64Index([0, 1, 2, 3, 4, 5, 6, 7, 8, 9, 10, 11, 12, 13, 14], dtype=&#x27;int64&#x27;, name=&#x27;s_p_dim_0&#x27;))</pre></div></li><li class='xr-var-item'><div class='xr-index-name'><div>v_ss_dim_0</div></div><div class='xr-index-preview'>PandasIndex</div><div></div><input id='index-ce9e0c67-084f-41cb-96bd-cfef5478aea6' class='xr-index-data-in' type='checkbox'/><label for='index-ce9e0c67-084f-41cb-96bd-cfef5478aea6' title='Show/Hide index repr'><svg class='icon xr-icon-database'><use xlink:href='#icon-database'></use></svg></label><div class='xr-index-data'><pre>PandasIndex(Int64Index([ 0,  1,  2,  3,  4,  5,  6,  7,  8,  9, 10, 11, 12, 13, 14, 15, 16,\n",
       "            17, 18, 19, 20, 21, 22, 23, 24, 25, 26],\n",
       "           dtype=&#x27;int64&#x27;, name=&#x27;v_ss_dim_0&#x27;))</pre></div></li><li class='xr-var-item'><div class='xr-index-name'><div>v_ss_dim_1</div></div><div class='xr-index-preview'>PandasIndex</div><div></div><input id='index-828b1397-4f4d-40fd-aa1a-967cbfaf943d' class='xr-index-data-in' type='checkbox'/><label for='index-828b1397-4f4d-40fd-aa1a-967cbfaf943d' title='Show/Hide index repr'><svg class='icon xr-icon-database'><use xlink:href='#icon-database'></use></svg></label><div class='xr-index-data'><pre>PandasIndex(Int64Index([0, 1, 2, 3, 4, 5, 6, 7, 8, 9, 10, 11, 12, 13, 14], dtype=&#x27;int64&#x27;, name=&#x27;v_ss_dim_1&#x27;))</pre></div></li><li class='xr-var-item'><div class='xr-index-name'><div>v_ll_dim_0</div></div><div class='xr-index-preview'>PandasIndex</div><div></div><input id='index-e2247a72-0b10-4342-a3f8-333038843609' class='xr-index-data-in' type='checkbox'/><label for='index-e2247a72-0b10-4342-a3f8-333038843609' title='Show/Hide index repr'><svg class='icon xr-icon-database'><use xlink:href='#icon-database'></use></svg></label><div class='xr-index-data'><pre>PandasIndex(Int64Index([ 0,  1,  2,  3,  4,  5,  6,  7,  8,  9, 10, 11, 12, 13, 14, 15, 16,\n",
       "            17, 18, 19, 20, 21, 22, 23, 24, 25, 26],\n",
       "           dtype=&#x27;int64&#x27;, name=&#x27;v_ll_dim_0&#x27;))</pre></div></li><li class='xr-var-item'><div class='xr-index-name'><div>v_ll_dim_1</div></div><div class='xr-index-preview'>PandasIndex</div><div></div><input id='index-222f0f92-f73a-4792-8144-9933771c2439' class='xr-index-data-in' type='checkbox'/><label for='index-222f0f92-f73a-4792-8144-9933771c2439' title='Show/Hide index repr'><svg class='icon xr-icon-database'><use xlink:href='#icon-database'></use></svg></label><div class='xr-index-data'><pre>PandasIndex(Int64Index([0, 1, 2, 3, 4, 5, 6, 7, 8, 9, 10, 11, 12, 13, 14], dtype=&#x27;int64&#x27;, name=&#x27;v_ll_dim_1&#x27;))</pre></div></li><li class='xr-var-item'><div class='xr-index-name'><div>p_later_dim_0</div></div><div class='xr-index-preview'>PandasIndex</div><div></div><input id='index-dc635497-3195-4e4d-beac-7c3bb2982572' class='xr-index-data-in' type='checkbox'/><label for='index-dc635497-3195-4e4d-beac-7c3bb2982572' title='Show/Hide index repr'><svg class='icon xr-icon-database'><use xlink:href='#icon-database'></use></svg></label><div class='xr-index-data'><pre>PandasIndex(Int64Index([ 0,  1,  2,  3,  4,  5,  6,  7,  8,  9, 10, 11, 12, 13, 14, 15, 16,\n",
       "            17, 18, 19, 20, 21, 22, 23, 24, 25, 26],\n",
       "           dtype=&#x27;int64&#x27;, name=&#x27;p_later_dim_0&#x27;))</pre></div></li><li class='xr-var-item'><div class='xr-index-name'><div>p_later_dim_1</div></div><div class='xr-index-preview'>PandasIndex</div><div></div><input id='index-c963169b-278a-4754-9e95-d9ed08340c83' class='xr-index-data-in' type='checkbox'/><label for='index-c963169b-278a-4754-9e95-d9ed08340c83' title='Show/Hide index repr'><svg class='icon xr-icon-database'><use xlink:href='#icon-database'></use></svg></label><div class='xr-index-data'><pre>PandasIndex(Int64Index([0, 1, 2, 3, 4, 5, 6, 7, 8, 9, 10, 11, 12, 13, 14], dtype=&#x27;int64&#x27;, name=&#x27;p_later_dim_1&#x27;))</pre></div></li></ul></div></li><li class='xr-section-item'><input id='section-e4997ffc-2fdd-4109-9192-f0e02a3cb55e' class='xr-section-summary-in' type='checkbox'  checked><label for='section-e4997ffc-2fdd-4109-9192-f0e02a3cb55e' class='xr-section-summary' >Attributes: <span>(6)</span></label><div class='xr-section-inline-details'></div><div class='xr-section-details'><dl class='xr-attrs'><dt><span>created_at :</span></dt><dd>2023-03-13T22:32:17.673347</dd><dt><span>arviz_version :</span></dt><dd>0.14.0</dd><dt><span>inference_library :</span></dt><dd>pymc</dd><dt><span>inference_library_version :</span></dt><dd>5.1.1</dd><dt><span>sampling_time :</span></dt><dd>1705.461072921753</dd><dt><span>tuning_steps :</span></dt><dd>1500</dd></dl></div></li></ul></div></div>"
      ],
      "text/plain": [
       "<xarray.Dataset>\n",
       "Dimensions:        (chain: 4, draw: 4000, c_p_dim_0: 15, m_p_dim_0: 15,\n",
       "                    e_p_dim_0: 15, s_p_dim_0: 15, v_ss_dim_0: 27,\n",
       "                    v_ss_dim_1: 15, v_ll_dim_0: 27, v_ll_dim_1: 15,\n",
       "                    p_later_dim_0: 27, p_later_dim_1: 15)\n",
       "Coordinates:\n",
       "  * chain          (chain) int32 0 1 2 3\n",
       "  * draw           (draw) int32 0 1 2 3 4 5 6 ... 3994 3995 3996 3997 3998 3999\n",
       "  * c_p_dim_0      (c_p_dim_0) int32 0 1 2 3 4 5 6 7 8 9 10 11 12 13 14\n",
       "  * m_p_dim_0      (m_p_dim_0) int32 0 1 2 3 4 5 6 7 8 9 10 11 12 13 14\n",
       "  * e_p_dim_0      (e_p_dim_0) int32 0 1 2 3 4 5 6 7 8 9 10 11 12 13 14\n",
       "  * s_p_dim_0      (s_p_dim_0) int32 0 1 2 3 4 5 6 7 8 9 10 11 12 13 14\n",
       "  * v_ss_dim_0     (v_ss_dim_0) int32 0 1 2 3 4 5 6 7 ... 20 21 22 23 24 25 26\n",
       "  * v_ss_dim_1     (v_ss_dim_1) int32 0 1 2 3 4 5 6 7 8 9 10 11 12 13 14\n",
       "  * v_ll_dim_0     (v_ll_dim_0) int32 0 1 2 3 4 5 6 7 ... 20 21 22 23 24 25 26\n",
       "  * v_ll_dim_1     (v_ll_dim_1) int32 0 1 2 3 4 5 6 7 8 9 10 11 12 13 14\n",
       "  * p_later_dim_0  (p_later_dim_0) int32 0 1 2 3 4 5 6 ... 20 21 22 23 24 25 26\n",
       "  * p_later_dim_1  (p_later_dim_1) int32 0 1 2 3 4 5 6 7 8 9 10 11 12 13 14\n",
       "Data variables: (12/16)\n",
       "    Mu_c           (chain, draw) float64 1.731 1.895 1.874 ... 1.677 1.927 2.049\n",
       "    Mu_m           (chain, draw) float64 -1.584 -1.608 -1.606 ... -1.634 -1.606\n",
       "    c_p            (chain, draw, c_p_dim_0) float64 1.953 2.313 ... 1.991 2.226\n",
       "    m_p            (chain, draw, m_p_dim_0) float64 -1.588 -1.597 ... -1.721\n",
       "    phi            (chain, draw) float64 -0.4617 -0.8707 ... -1.388 0.4227\n",
       "    Sigma_c        (chain, draw) float64 0.3795 0.1957 0.3194 ... 0.09438 0.1346\n",
       "    ...             ...\n",
       "    Sigma_acuity   (chain, draw) float64 2.363 1.697 2.728 ... 4.95 3.139 3.89\n",
       "    e_p            (chain, draw, e_p_dim_0) float64 0.02182 0.02395 ... 0.05097\n",
       "    s_p            (chain, draw, s_p_dim_0) float64 1.131 4.783 ... 1.529 5.162\n",
       "    v_ss           (chain, draw, v_ss_dim_0, v_ss_dim_1) float64 80.0 ... 55.0\n",
       "    v_ll           (chain, draw, v_ll_dim_0, v_ll_dim_1) float64 43.44 ... 56.16\n",
       "    p_later        (chain, draw, p_later_dim_0, p_later_dim_1) float64 0.0218...\n",
       "Attributes:\n",
       "    created_at:                 2023-03-13T22:32:17.673347\n",
       "    arviz_version:              0.14.0\n",
       "    inference_library:          pymc\n",
       "    inference_library_version:  5.1.1\n",
       "    sampling_time:              1705.461072921753\n",
       "    tuning_steps:               1500"
      ]
     },
     "execution_count": 39,
     "metadata": {},
     "output_type": "execute_result"
    }
   ],
   "source": [
    "trace.posterior"
   ]
  },
  {
   "cell_type": "code",
   "execution_count": 40,
   "id": "d91e7794",
   "metadata": {},
   "outputs": [
    {
     "data": {
      "image/png": "[encoded data removed]",
      "text/plain": [
       "<Figure size 640x480 with 1 Axes>"
      ]
     },
     "metadata": {},
     "output_type": "display_data"
    }
   ],
   "source": [
    "#choice\n",
    "#ss_Amt\n",
    "#ss_Delay \n",
    "#ll_Amt \n",
    "#ll_Delay\n",
    "\n",
    "subj = 1\n",
    "ee_pp = resu.loc['e_p[' + str(subj) + ']',:]['mean']\n",
    "ss_pp = resu.loc['s_p[' + str(subj) + ']',:]['mean']\n",
    "choice_subj = choice[:, subj]\n",
    "ss_Amt_subj = ss_Amt[:, subj]\n",
    "ll_Amt_subj = ll_Amt[:, subj]\n",
    "\n",
    "temp_model = np.array(PPC.posterior_predictive['choice_later'])\n",
    "temp_model = temp_model.reshape((temp_model.shape[0]*temp_model.shape[1],temp_model.shape[2],temp_model.shape[3]))\n",
    "choice_model = temp_model[:,:,subj]\n",
    "\n",
    "temp_model = np.array(PPC.posterior_predictive['v_ss'])\n",
    "temp_model = temp_model.reshape((temp_model.shape[0]*temp_model.shape[1],temp_model.shape[2],temp_model.shape[3]))\n",
    "v_ss_Amt_model = temp_model[:,:,subj]\n",
    "\n",
    "temp_model = np.array(PPC.posterior_predictive['v_ll'])\n",
    "temp_model = temp_model.reshape((temp_model.shape[0]*temp_model.shape[1],temp_model.shape[2],temp_model.shape[3]))\n",
    "v_ll_Amt_model = temp_model[:,:,subj]\n",
    "\n",
    "#plt.scatter(ll_Amt_subj-ss_Amt_subj, choice_subj, label = 'Data subj ' + str(subj))\n",
    "#plt.scatter(ll_Amt_subj-ss_Amt_subj, choice_model.mean(axis=0), color='red', alpha = 0.4, label = 'Posterior Predictive (mean)')\n",
    "plt.scatter(v_ll_Amt_model.mean(axis=0)-v_ss_Amt_model.mean(axis=0), choice_subj, label = 'Data subj ' + str(subj), alpha = 0.6)\n",
    "plt.scatter(v_ll_Amt_model.mean(axis=0)-v_ss_Amt_model.mean(axis=0), choice_model.mean(axis=0), color='red', alpha = 0.5, label = 'Posterior Predictive (mean)')\n",
    "plt.plot(np.linspace(-60,60,100), ee_pp + (1-2*ee_pp) * st.norm.cdf(np.linspace(-60,60,100) / ss_pp ),\n",
    "         color = 'black', label = 'Psychometric function (posterior mean)')\n",
    "plt.xlabel('Subj. value (posterior mean)\\nlater - sooner option')\n",
    "plt.ylabel('p(later option)')\n",
    "plt.legend();"
   ]
  },
  {
   "cell_type": "code",
   "execution_count": null,
   "id": "5e63a707",
   "metadata": {},
   "outputs": [],
   "source": []
  }
 ],
 "metadata": {
  "celltoolbar": "Slideshow",
  "kernelspec": {
   "display_name": "Python 3 (ipykernel)",
   "language": "python",
   "name": "python3"
  },
  "language_info": {
   "codemirror_mode": {
    "name": "ipython",
    "version": 3
   },
   "file_extension": ".py",
   "mimetype": "text/x-python",
   "name": "python",
   "nbconvert_exporter": "python",
   "pygments_lexer": "ipython3",
   "version": "3.11.0"
  },
  "rise": {
   "chalkboard": {
    "color": [
     "rgb(250, 0, 0)",
     "rgb(0, 250, 250)"
    ]
   },
   "enable_chalkboard": true,
   "scroll": true,
   "theme": "simple",
   "transition": "none"
  }
 },
 "nbformat": 4,
 "nbformat_minor": 5
}
