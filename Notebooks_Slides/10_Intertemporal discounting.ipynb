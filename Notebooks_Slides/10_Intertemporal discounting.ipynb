{
 "cells": [
  {
   "cell_type": "code",
   "execution_count": 12,
   "id": "0cf096be",
   "metadata": {},
   "outputs": [
    {
     "name": "stdout",
     "output_type": "stream",
     "text": [
      "Running on PyMC v4.0.1\n"
     ]
    }
   ],
   "source": [
    "import os\n",
    "import re\n",
    "import operator\n",
    "\n",
    "#Tables and matrices\n",
    "import numpy as np\n",
    "import pandas as pd\n",
    "import sympy as sym\n",
    "\n",
    "#Stats\n",
    "import scipy.stats as st\n",
    "from scipy.optimize import fmin\n",
    "from scipy import integrate\n",
    "from scipy.stats.mstats import mquantiles\n",
    "import statistics \n",
    "\n",
    "#Probabilistic programs\n",
    "#!pip install pymc3\n",
    "#!pip install pymc==4.0.0b1\n",
    "#import pymc3 as pm\n",
    "import pymc as pm\n",
    "import aesara.tensor as at\n",
    "#import theano.tensor as tt \n",
    "#from theano.compile.ops import as_op\n",
    "print('Running on PyMC v{}'.format(pm.__version__))\n",
    "\n",
    "\n",
    "#Graphs\n",
    "import seaborn as sns\n",
    "import plotly.graph_objects as go\n",
    "import altair as alt\n",
    "#from altair_saver import save #ademas instalar en terminal: brew cask install chromedriver\n",
    "import matplotlib.pyplot as plt\n",
    "from matplotlib import cm\n",
    "from matplotlib.gridspec import GridSpec\n",
    "from matplotlib import animation, rc\n",
    "from IPython.display import display, HTML, Markdown\n",
    "import ipywidgets as widgets\n",
    "from ipywidgets import interact, interactive, fixed, HBox, VBox, Layout\n",
    "#from graphviz import Source, Digraph\n",
    "#import dot2tex as d2t\n",
    "#from latex import build_pdf\n",
    "from mpl_toolkits.mplot3d import axes3d\n",
    "import arviz as az"
   ]
  },
  {
   "cell_type": "markdown",
   "id": "12b5f50f",
   "metadata": {
    "slideshow": {
     "slide_type": "slide"
    }
   },
   "source": [
    "# Decision-making (intertemporal discounting)\n",
    "\n",
    "Santiago Alonso-Díaz, PhD <br>\n",
    "Universidad Javeriana"
   ]
  },
  {
   "cell_type": "markdown",
   "id": "e9a23388",
   "metadata": {
    "slideshow": {
     "slide_type": "slide"
    }
   },
   "source": [
    "<center><img src=\"img/10_CB/Cars_in_time.png\" width = \"600\" height = '600'></center>"
   ]
  },
  {
   "cell_type": "markdown",
   "id": "6ce2d2fb",
   "metadata": {
    "slideshow": {
     "slide_type": "slide"
    }
   },
   "source": [
    "[Marshmellow Study](https://www.youtube.com/watch?v=JsQMdECFnUQ)"
   ]
  },
  {
   "cell_type": "markdown",
   "id": "eb38cbc8",
   "metadata": {
    "slideshow": {
     "slide_type": "slide"
    }
   },
   "source": [
    "Basic idea behind all theories of intertemporal discounting:\n",
    "\n",
    "Goods and services lose value in time i.e. the future is discounted"
   ]
  },
  {
   "cell_type": "markdown",
   "id": "9cab735b",
   "metadata": {
    "slideshow": {
     "slide_type": "slide"
    }
   },
   "source": [
    "In general, the theory assumes that $x$ is preferred over $y$ in a time period $T$ if for a discount factor $\\delta \\in (0,1]$\n",
    "\n",
    "$$\\sum_{t \\in T} \\delta^tu(x_t)  \\ge \\sum_{t \\in T} \\delta^tu(y_t) $$\n",
    "\n",
    "\n"
   ]
  },
  {
   "cell_type": "markdown",
   "id": "a27e5701",
   "metadata": {
    "slideshow": {
     "slide_type": "slide"
    }
   },
   "source": [
    "Let's see an example of a discounting function. We invest USD 10000, with an interest rate of 5%, for n periods (e.g. years). H\n",
    "\n",
    "**Period 1**\n",
    "\n",
    "$vf_1 = 10000 + 10000*0.05$    \n",
    "\n",
    "$vf_1 = 10000(1+0.05)$\n",
    "\n",
    "$vf_1 = 10000(1+0.05)^1$\n",
    "\n",
    "**Period 2** \n",
    "   \n",
    "$vf_2 = 10000(1+0.05)^1 + 10000(1+0.05)^1*0.05$\n",
    "\n",
    "$vf_2 = 10000(1+0.05)^1(1+0.05)$\n",
    "\n",
    "$vf_2 = 10000(1+0.05)^2$\n",
    "\n",
    "**Period 3**\n",
    "\n",
    "$vf_3 = 10000(1+0.05)^2 + 10000(1+0.05)^2*0.05$\n",
    "\n",
    "$vf_3 = 10000(1+0.05)^2(1+0.05)$\n",
    "\n",
    "$vf_3 = 10000(1+0.05)^3$\n",
    "\n",
    "\n",
    "**Period n**\n",
    "\n",
    "$vf_n = 10000(1+0.05)^n$\n",
    "\n",
    "\n"
   ]
  },
  {
   "cell_type": "markdown",
   "id": "0f81c163",
   "metadata": {
    "slideshow": {
     "slide_type": "slide"
    }
   },
   "source": [
    "$$vf = vp(1+i)^n$$\n",
    "\n",
    "$$vp = \\frac{vf}{(1+i)^n}$$\n",
    "\n",
    "Future values ($vf$) get discounted as a function of periods $n$ and interest rate $i$\n",
    "\n",
    "People should prefer today $x$ over $y$ if $vp(x)>vp(y)$"
   ]
  },
  {
   "cell_type": "markdown",
   "id": "8585192d",
   "metadata": {
    "slideshow": {
     "slide_type": "slide"
    }
   },
   "source": [
    "The discount factor that multiplies $vf$ can change. These two are popular (k discount, D delay)\n",
    "\n",
    "Exponential: $e^{-kD}$\n",
    "\n",
    "Hyperbolic: $(1+kD)^{-1}$"
   ]
  },
  {
   "cell_type": "markdown",
   "id": "2a387d7a",
   "metadata": {
    "slideshow": {
     "slide_type": "slide"
    }
   },
   "source": [
    "Exponential: Is intertemporal consistent (derivative is linear on the delay) e.g. proportionally,. 0 vs 10 days is the same as 100 vs 110 days\n",
    "\n",
    "Hyperbolic: tends to provides better fits to human data; it is intertemporal inconsistent (derivative is nonlinear on the delay value) and it is more impatient (faster discounts)"
   ]
  },
  {
   "cell_type": "code",
   "execution_count": 2,
   "id": "7c1e340d",
   "metadata": {},
   "outputs": [
    {
     "data": {
      "text/latex": [
       "$\\displaystyle - e^{- x}$"
      ],
      "text/plain": [
       "-exp(-x)"
      ]
     },
     "execution_count": 2,
     "metadata": {},
     "output_type": "execute_result"
    }
   ],
   "source": [
    "x = sym.Symbol('x')\n",
    "sym.diff(sym.exp(-x), x) #derivative"
   ]
  },
  {
   "cell_type": "code",
   "execution_count": 3,
   "id": "808afa18",
   "metadata": {},
   "outputs": [
    {
     "data": {
      "text/latex": [
       "$\\displaystyle - \\frac{1}{\\left(x + 1\\right)^{2}}$"
      ],
      "text/plain": [
       "-1/(x + 1)**2"
      ]
     },
     "execution_count": 3,
     "metadata": {},
     "output_type": "execute_result"
    }
   ],
   "source": [
    "sym.diff((1+x)**(-1), x)"
   ]
  },
  {
   "cell_type": "code",
   "execution_count": 4,
   "id": "2bebf05d",
   "metadata": {
    "slideshow": {
     "slide_type": "slide"
    }
   },
   "outputs": [
    {
     "data": {
      "image/png": "[encoded data removed]",
      "text/plain": [
       "<Figure size 432x288 with 1 Axes>"
      ]
     },
     "metadata": {
      "needs_background": "light"
     },
     "output_type": "display_data"
    }
   ],
   "source": [
    "VF = 10000\n",
    "k =0.2\n",
    "D = np.arange(0,40)\n",
    "plt.plot(D, VF*np.exp(-k*D), label = 'Exponential')\n",
    "plt.plot(D, VF*(1+k*D)**(-1), label = 'Hyperbolic')\n",
    "plt.legend();"
   ]
  },
  {
   "cell_type": "code",
   "execution_count": 5,
   "id": "a205c068",
   "metadata": {},
   "outputs": [
    {
     "data": {
      "text/plain": [
       "[36.39876668876283, 36.39876668876283, 3.3333333333333335, 0.8717948717948718]"
      ]
     },
     "execution_count": 5,
     "metadata": {},
     "output_type": "execute_result"
    }
   ],
   "source": [
    "#Example of preference reversal\n",
    "VF1 = 10000\n",
    "VF2 = 15000\n",
    "Interval = 20 #e.g. in months\n",
    "\n",
    "D1 = 0 #delays e.g. in months\n",
    "D2 = D1 + Interval\n",
    "exp_discount_A = (VF1*np.exp(-k*D1)) / (VF2*np.exp(-k*D2)) \n",
    "hyp_discount_A = (VF1*(1+k*D1)**(-1)) / (VF2*(1+k*D2)**(-1))\n",
    "\n",
    "D1 = 60\n",
    "D2 = D1 + Interval\n",
    "exp_discount_B = (VF1*np.exp(-k*D1)) / (VF2*np.exp(-k*D2)) \n",
    "hyp_discount_B = (VF1*(1+k*D1)**(-1)) / (VF2*(1+k*D2)**(-1))\n",
    "\n",
    "[exp_discount_A, exp_discount_B, hyp_discount_A, hyp_discount_B] #>1 VF1 preferred; <1 VF2 preferred; Note that exponential discount is constant\n",
    "\n"
   ]
  },
  {
   "cell_type": "markdown",
   "id": "b02abfea",
   "metadata": {
    "slideshow": {
     "slide_type": "slide"
    }
   },
   "source": [
    "# Empirical intertemporal behavior"
   ]
  },
  {
   "cell_type": "markdown",
   "id": "df620761",
   "metadata": {
    "slideshow": {
     "slide_type": "slide"
    }
   },
   "source": [
    "## Preference reversals (Green, Fristoe, & Myerson, 1994)"
   ]
  },
  {
   "cell_type": "markdown",
   "id": "5556641b",
   "metadata": {
    "slideshow": {
     "slide_type": "slide"
    }
   },
   "source": [
    "Procedure (n = 24):\n",
    "    \n",
    "<center><img src=\"img/10_CB/Pref_Reversal.png\" width = \"600\" height = '600'></center>"
   ]
  },
  {
   "cell_type": "markdown",
   "id": "625723a4",
   "metadata": {
    "slideshow": {
     "slide_type": "slide"
    }
   },
   "source": [
    "Reversal: preference for larger and later reward changes with weeks to smaller reward\n",
    "\n",
    "Consistent subjects should look like an horizontal line.\n",
    "\n",
    "\n",
    "<center><img src=\"img/10_CB/Pref_Reversal_2.png\" width = \"400\" height = '400'></center>\n"
   ]
  },
  {
   "cell_type": "markdown",
   "id": "effe4fb6",
   "metadata": {
    "slideshow": {
     "slide_type": "slide"
    }
   },
   "source": [
    "Another way of seeing the reversal. Indifference points i.e. combination of delays where subjects chose later or sooner with 50% probability.\n",
    "\n",
    "Consistent subjects should look like a straight line, not with negative curvature (a simple polynomial was a worst fit).\n",
    "\n",
    "<center><img src=\"img/10_CB/Pref_Reversal_3.png\" width = \"400\" height = '400'></center>"
   ]
  },
  {
   "cell_type": "markdown",
   "id": "0630d671",
   "metadata": {
    "slideshow": {
     "slide_type": "slide"
    }
   },
   "source": [
    "The reversal is present in individual subjects (i.e. not just an averaging effect)\n",
    "<center><img src=\"img/10_CB/Pref_Reversal_4.png\" width = \"600\" height = '600'></center>"
   ]
  },
  {
   "cell_type": "markdown",
   "id": "5687323f",
   "metadata": {
    "slideshow": {
     "slide_type": "slide"
    }
   },
   "source": [
    "# Magnitude effects\n",
    "<center><img src=\"img/10_CB/Magnitude_Effect.png\" width = \"400\" height = '400'></center>"
   ]
  },
  {
   "cell_type": "markdown",
   "id": "85470c4b",
   "metadata": {
    "slideshow": {
     "slide_type": "slide"
    }
   },
   "source": [
    "Hypothesis 1: there is only one discount factor thus magnitudes should not matter e.g. discounting a monetary unit in 10 vs 100 is the same as 100 vs 1000\n",
    "\n",
    "Hypothesis 2: people are more patient with larger magnitudes e.g. discounting a monetary unit in 10 vs 100 is different than 100 vs 1000"
   ]
  },
  {
   "cell_type": "markdown",
   "id": "12039cac",
   "metadata": {
    "slideshow": {
     "slide_type": "slide"
    }
   },
   "source": [
    "Procedure: pick between two options that differ in amount and delay between them\n",
    "<center><img src=\"img/10_CB/Magnitude_Effect_2.png\" width = \"600\" height = '600'></center>"
   ]
  },
  {
   "cell_type": "markdown",
   "id": "8a0d995e",
   "metadata": {
    "slideshow": {
     "slide_type": "slide"
    }
   },
   "source": [
    "Another way of visualizing the results. The (hyperbolic) discount factor decreases with the magnitude i.e. more patience\n",
    "\n",
    "<center><img src=\"img/10_CB/Magnitude_Effect_3.png\" width = \"400\" height = '400'></center>"
   ]
  },
  {
   "cell_type": "markdown",
   "id": "6ca9edfd",
   "metadata": {
    "slideshow": {
     "slide_type": "slide"
    }
   },
   "source": [
    "# Endogenous influences\n",
    "\n",
    "Discounting is not only about numerical info. Endogenous processes influence discounting\n",
    "\n",
    "<center><img src=\"img/10_CB/Magnitude_Effect_4.png\" width = \"700\" height = '700'></center>"
   ]
  },
  {
   "cell_type": "markdown",
   "id": "bd02dd07",
   "metadata": {
    "slideshow": {
     "slide_type": "slide"
    }
   },
   "source": [
    "Discounting is not only about numerical info. Endogenous processes influence discounting\n",
    "\n",
    "<center><img src=\"img/10_CB/Brain_discount.png\" width = \"700\" height = '700'></center>"
   ]
  },
  {
   "cell_type": "markdown",
   "id": "633f9188",
   "metadata": {
    "slideshow": {
     "slide_type": "slide"
    }
   },
   "source": [
    "The brain seems to process sooner and later rewards at different locations\n",
    "\n",
    "<center><img src=\"img/10_CB/Brain_discount_2.png\" width = \"700\" height = '700'></center>"
   ]
  },
  {
   "cell_type": "code",
   "execution_count": null,
   "id": "a9ab1064",
   "metadata": {},
   "outputs": [],
   "source": [
    "1016921957"
   ]
  },
  {
   "cell_type": "code",
   "execution_count": null,
   "id": "b3ff6e3e",
   "metadata": {},
   "outputs": [],
   "source": []
  },
  {
   "cell_type": "code",
   "execution_count": null,
   "id": "a3a9abae",
   "metadata": {},
   "outputs": [],
   "source": []
  },
  {
   "cell_type": "markdown",
   "id": "bcb5634d",
   "metadata": {
    "slideshow": {
     "slide_type": "slide"
    }
   },
   "source": [
    "# Estimation of parameters"
   ]
  },
  {
   "cell_type": "markdown",
   "id": "0a58f07e",
   "metadata": {
    "slideshow": {
     "slide_type": "-"
    }
   },
   "source": [
    "Do the intertemporal task in Pavlovia (santiago):\n",
    "\n",
    "Money today vs Money in the future\n",
    "\n"
   ]
  },
  {
   "cell_type": "markdown",
   "id": "18c952b4",
   "metadata": {
    "slideshow": {
     "slide_type": "slide"
    }
   },
   "source": [
    "## Non-hierarchical estimation (i.e. no dependencies between $k_s$)"
   ]
  },
  {
   "cell_type": "markdown",
   "id": "3fa15aa9",
   "metadata": {},
   "source": [
    "### Hyperbolic discounting\n",
    "<br><br>\n",
    "\n",
    "<center><img src=\"img/10_CB/intertemp_diagram.svg\" width = \"800\" height = '800'></center>\n"
   ]
  },
  {
   "cell_type": "code",
   "execution_count": 37,
   "id": "e6083daa",
   "metadata": {
    "slideshow": {
     "slide_type": "slide"
    }
   },
   "outputs": [
    {
     "data": {
      "text/plain": [
       "3"
      ]
     },
     "execution_count": 37,
     "metadata": {},
     "output_type": "execute_result"
    }
   ],
   "source": [
    "#Load and data setup\n",
    "data_folder = 'data/10_CB'\n",
    "ff = os.listdir(data_folder)\n",
    "unreadable_files = []\n",
    "onlyfiles = []\n",
    "counter_unreadable = 0\n",
    "for f in ff:\n",
    "    #print(f)\n",
    "    fff = data_folder + \"/\" + f\n",
    "    good_file = 0\n",
    "    unreadable = 0\n",
    "    if counter_unreadable < len(unreadable_files): \n",
    "        if f == unreadable_files[counter_unreadable]:\n",
    "            counter_unreadable = counter_unreadable+1\n",
    "            unreadable = 1\n",
    "    \n",
    "    if os.stat(fff).st_size > 500 and unreadable==0: #in bytes    \n",
    "        data_subj = pd.read_csv(fff)\n",
    "        nrows = data_subj.shape[0]\n",
    "        if nrows>50:\n",
    "            good_file = 1\n",
    "    x = re.search(\".csv\",f)\n",
    "    j = re.search('.~lock.',f) #linux or pavlovia seem to create this name files\n",
    "    if x and operator.not_(j) and good_file==1:\n",
    "        onlyfiles.append(f)\n",
    "\n",
    "for idx, f in enumerate(onlyfiles):\n",
    "    data = pd.read_csv('data/10_CB/'+f)\n",
    "    data = data.loc[~data['ss_Amt'].isna(),:]\n",
    "    if idx == 0:\n",
    "        DATA=data.loc[:,['participant', 'respT.corr','respT.rt', #corr: 0 sooner; 1 later\n",
    "                         'ss_Amt','ss_Delay','ll_Amt','ll_Delay']] #ss: smaller sooner; ll: larger later; Amt: amount\n",
    "    else:\n",
    "        DATA = pd.concat([DATA, data.loc[:,['participant', 'respT.corr','respT.rt', \n",
    "                                            'ss_Amt','ss_Delay','ll_Amt','ll_Delay']]])\n",
    "DATA = DATA.reset_index(drop=True)\n",
    "n = len(DATA['participant'].unique())\n",
    "n"
   ]
  },
  {
   "cell_type": "code",
   "execution_count": 17,
   "id": "6688282f",
   "metadata": {},
   "outputs": [
    {
     "data": {
      "text/plain": [
       "['impaciente_tareaTDv3_2022-07-08_16h48.54.684.csv',\n",
       " 'paciente_tareaTDv3_2022-07-08_10h29.12.042.csv',\n",
       " 'random_tareaTDv3_2022-07-09_06h46.43.116.csv']"
      ]
     },
     "execution_count": 17,
     "metadata": {},
     "output_type": "execute_result"
    }
   ],
   "source": [
    "onlyfiles"
   ]
  },
  {
   "cell_type": "code",
   "execution_count": null,
   "id": "2b2acffc",
   "metadata": {},
   "outputs": [],
   "source": [
    "with pm.Model():\n",
    "    #Priors\n",
    "    ks = pm.Uniform(\"k_s\", lower=0, upper=10, shape = n)\n",
    "    beta = pm.Uniform(\"beta\", lower=0, upper=10, shape = n)\n",
    "    omega = pm.Deterministic(\"omega\", -gammap / np.log(1 - p))\n",
    "    \n",
    "    #Likelihood\n",
    "    thetajk = 1 - pm.math.invlogit(-beta * (k - omega))\n",
    "\n",
    "    djk = pm.Bernoulli(\"djk\", p=thetajk, observed=d)\n",
    "\n",
    "    trace = pm.sample(tune=2000, cores=4, chains = 4)\n",
    "    "
   ]
  },
  {
   "cell_type": "code",
   "execution_count": null,
   "id": "c383a189",
   "metadata": {},
   "outputs": [],
   "source": []
  },
  {
   "cell_type": "code",
   "execution_count": 35,
   "id": "10a7db4d",
   "metadata": {},
   "outputs": [
    {
     "name": "stderr",
     "output_type": "stream",
     "text": [
      "<ipython-input-35-5953871b2cae>:4: RuntimeWarning: overflow encountered in exp\n",
      "  plater = 1/(1+np.exp(-beta*(vlater-vsoon)))\n"
     ]
    },
    {
     "data": {
      "text/plain": [
       "[<matplotlib.lines.Line2D at 0x18e69f3e790>]"
      ]
     },
     "execution_count": 35,
     "metadata": {},
     "output_type": "execute_result"
    },
    {
     "data": {
      "image/png": "[encoded data removed]",
      "text/plain": [
       "<Figure size 432x288 with 1 Axes>"
      ]
     },
     "metadata": {
      "needs_background": "light"
     },
     "output_type": "display_data"
    }
   ],
   "source": [
    "vsoon = 0\n",
    "vlater = np.linspace(-10,10, num=100)\n",
    "beta = 100\n",
    "plater = 1/(1+np.exp(-beta*(vlater-vsoon)))\n",
    "plt.plot(vlater-vsoon, plater)"
   ]
  },
  {
   "cell_type": "code",
   "execution_count": 28,
   "id": "c1b0a306",
   "metadata": {},
   "outputs": [],
   "source": []
  },
  {
   "cell_type": "code",
   "execution_count": null,
   "id": "f2045325",
   "metadata": {},
   "outputs": [],
   "source": []
  },
  {
   "cell_type": "markdown",
   "id": "33a59bd2",
   "metadata": {},
   "source": [
    "<center><img src=\"img/10_CB/Bayes_estimation_discount.png\" width = \"700\" height = '700'></center>\n"
   ]
  },
  {
   "cell_type": "code",
   "execution_count": null,
   "id": "396a4b33",
   "metadata": {},
   "outputs": [],
   "source": []
  },
  {
   "cell_type": "code",
   "execution_count": null,
   "id": "3a21214f",
   "metadata": {},
   "outputs": [],
   "source": []
  },
  {
   "cell_type": "code",
   "execution_count": null,
   "id": "d4d6dadc",
   "metadata": {},
   "outputs": [],
   "source": []
  },
  {
   "cell_type": "code",
   "execution_count": null,
   "id": "5e96d9d6",
   "metadata": {},
   "outputs": [],
   "source": []
  },
  {
   "cell_type": "code",
   "execution_count": null,
   "id": "2102736f",
   "metadata": {},
   "outputs": [],
   "source": []
  },
  {
   "cell_type": "code",
   "execution_count": null,
   "id": "549782ba",
   "metadata": {},
   "outputs": [],
   "source": []
  },
  {
   "cell_type": "code",
   "execution_count": null,
   "id": "4fd07ea9",
   "metadata": {},
   "outputs": [],
   "source": []
  }
 ],
 "metadata": {
  "celltoolbar": "Slideshow",
  "kernelspec": {
   "display_name": "Python 3",
   "language": "python",
   "name": "python3"
  },
  "language_info": {
   "codemirror_mode": {
    "name": "ipython",
    "version": 3
   },
   "file_extension": ".py",
   "mimetype": "text/x-python",
   "name": "python",
   "nbconvert_exporter": "python",
   "pygments_lexer": "ipython3",
   "version": "3.9.4"
  },
  "rise": {
   "chalkboard": {
    "color": [
     "rgb(250, 0, 0)",
     "rgb(0, 250, 250)"
    ]
   },
   "enable_chalkboard": true,
   "scroll": true,
   "theme": "simple",
   "transition": "none"
  }
 },
 "nbformat": 4,
 "nbformat_minor": 5
}
