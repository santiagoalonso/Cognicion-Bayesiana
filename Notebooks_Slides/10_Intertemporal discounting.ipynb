{
 "cells": [
  {
   "cell_type": "code",
   "execution_count": 2,
   "id": "117824e5",
   "metadata": {},
   "outputs": [
    {
     "name": "stdout",
     "output_type": "stream",
     "text": [
      "Could not locate executable g77\n",
      "Could not locate executable f77\n",
      "Could not locate executable ifort\n",
      "Could not locate executable ifl\n",
      "Could not locate executable f90\n",
      "Could not locate executable DF\n",
      "Could not locate executable efl\n"
     ]
    },
    {
     "name": "stderr",
     "output_type": "stream",
     "text": [
      "WARNING (aesara.tensor.blas): Using NumPy C-API based implementation for BLAS functions.\n"
     ]
    },
    {
     "name": "stdout",
     "output_type": "stream",
     "text": [
      "Running on PyMC v4.0.1\n"
     ]
    }
   ],
   "source": [
    "import os\n",
    "\n",
    "#Tables and matrices\n",
    "import numpy as np\n",
    "import pandas as pd\n",
    "import sympy as sym\n",
    "\n",
    "#Stats\n",
    "import scipy.stats as st\n",
    "from scipy.optimize import fmin\n",
    "from scipy import integrate\n",
    "from scipy.stats.mstats import mquantiles\n",
    "import statistics \n",
    "\n",
    "#Probabilistic programs\n",
    "#!pip install pymc3\n",
    "#!pip install pymc==4.0.0b1\n",
    "#import pymc3 as pm\n",
    "import pymc as pm\n",
    "import aesara.tensor as at\n",
    "#import theano.tensor as tt \n",
    "#from theano.compile.ops import as_op\n",
    "print('Running on PyMC v{}'.format(pm.__version__))\n",
    "\n",
    "\n",
    "#Graphs\n",
    "import seaborn as sns\n",
    "import plotly.graph_objects as go\n",
    "import altair as alt\n",
    "#from altair_saver import save #ademas instalar en terminal: brew cask install chromedriver\n",
    "import matplotlib.pyplot as plt\n",
    "from matplotlib import cm\n",
    "from matplotlib.gridspec import GridSpec\n",
    "from matplotlib import animation, rc\n",
    "from IPython.display import display, HTML, Markdown\n",
    "import ipywidgets as widgets\n",
    "from ipywidgets import interact, interactive, fixed, HBox, VBox, Layout\n",
    "#from graphviz import Source, Digraph\n",
    "#import dot2tex as d2t\n",
    "#from latex import build_pdf\n",
    "from mpl_toolkits.mplot3d import axes3d\n",
    "import arviz as az"
   ]
  },
  {
   "cell_type": "markdown",
   "id": "515c7138",
   "metadata": {
    "slideshow": {
     "slide_type": "slide"
    }
   },
   "source": [
    "# Decision-making (intertemporal discounting)\n",
    "\n",
    "Santiago Alonso-Díaz, PhD <br>\n",
    "Universidad Javeriana"
   ]
  },
  {
   "cell_type": "markdown",
   "id": "ba3f7316",
   "metadata": {
    "slideshow": {
     "slide_type": "slide"
    }
   },
   "source": [
    "<center><img src=\"img/10_CB/Cars_in_time.png\" width = \"600\" height = '600'></center>"
   ]
  },
  {
   "attachments": {},
   "cell_type": "markdown",
   "id": "b998dbdb",
   "metadata": {
    "slideshow": {
     "slide_type": "slide"
    }
   },
   "source": [
    "[Marshmellow Study](https://www.youtube.com/watch?v=JsQMdECFnUQ)"
   ]
  },
  {
   "cell_type": "markdown",
   "id": "73a7eaf1",
   "metadata": {
    "slideshow": {
     "slide_type": "slide"
    }
   },
   "source": [
    "Basic idea behind all theories of intertemporal discounting:\n",
    "\n",
    "Goods and services lose value in time i.e. the future is discounted"
   ]
  },
  {
   "cell_type": "markdown",
   "id": "3294f35b",
   "metadata": {
    "slideshow": {
     "slide_type": "slide"
    }
   },
   "source": [
    "In general, the theory assumes that $x$ is preferred over $y$ in a time period $T$ if for a discount factor $\\delta \\in (0,1]$\n",
    "\n",
    "$$\\sum_{t \\in T} \\delta^tu(x_t)  \\ge \\sum_{t \\in T} \\delta^tu(y_t) $$\n",
    "\n",
    "\n"
   ]
  },
  {
   "cell_type": "markdown",
   "id": "46864b4c",
   "metadata": {
    "slideshow": {
     "slide_type": "slide"
    }
   },
   "source": [
    "Let's see an example of a discounting function. We invest USD 10000, with an interest rate of 5%, for n periods (e.g. years). H\n",
    "\n",
    "**Period 1**\n",
    "\n",
    "$vf_1 = 10000 + 10000*0.05$    \n",
    "\n",
    "$vf_1 = 10000(1+0.05)$\n",
    "\n",
    "$vf_1 = 10000(1+0.05)^1$\n",
    "\n",
    "**Period 2** \n",
    "   \n",
    "$vf_2 = 10000(1+0.05)^1 + 10000(1+0.05)^1*0.05$\n",
    "\n",
    "$vf_2 = 10000(1+0.05)^1(1+0.05)$\n",
    "\n",
    "$vf_2 = 10000(1+0.05)^2$\n",
    "\n",
    "**Period 3**\n",
    "\n",
    "$vf_3 = 10000(1+0.05)^2 + 10000(1+0.05)^2*0.05$\n",
    "\n",
    "$vf_3 = 10000(1+0.05)^2(1+0.05)$\n",
    "\n",
    "$vf_3 = 10000(1+0.05)^3$\n",
    "\n",
    "\n",
    "**Period n**\n",
    "\n",
    "$vf_n = 10000(1+0.05)^n$\n",
    "\n",
    "\n"
   ]
  },
  {
   "cell_type": "markdown",
   "id": "9e3b5a25",
   "metadata": {
    "slideshow": {
     "slide_type": "slide"
    }
   },
   "source": [
    "$$vf = vp(1+i)^n$$\n",
    "\n",
    "$$vp = \\frac{vf}{(1+i)^n}$$\n",
    "\n",
    "Future values ($vf$) get discounted as a function of periods $n$ and interest rate $i$\n",
    "\n",
    "People should prefer today $x$ over $y$ if $vp(x)>vp(y)$"
   ]
  },
  {
   "cell_type": "markdown",
   "id": "87ad71e0",
   "metadata": {
    "slideshow": {
     "slide_type": "slide"
    }
   },
   "source": [
    "The discount factor that multiplies $vf$ can change. These two are popular (k discount, D delay)\n",
    "\n",
    "Exponential: $e^{-kD}$\n",
    "\n",
    "Hyperbolic: $(1+kD)^{-1}$"
   ]
  },
  {
   "attachments": {},
   "cell_type": "markdown",
   "id": "f7385764",
   "metadata": {
    "slideshow": {
     "slide_type": "slide"
    }
   },
   "source": [
    "Exponential: Is intertemporal consistent (derivative is linear on the delay) e.g. proportionally,. 0 vs 10 days is the same as 100 vs 110 days\n",
    "\n",
    "Hyperbolic: tends to provides better fits to human data; it is intertemporal inconsistent (derivative is nonlinear on the delay value) and it is more impatient (faster discounts)"
   ]
  },
  {
   "cell_type": "code",
   "execution_count": 31,
   "id": "bed0545e",
   "metadata": {},
   "outputs": [
    {
     "data": {
      "text/latex": [
       "$\\displaystyle - e^{- x}$"
      ],
      "text/plain": [
       "-exp(-x)"
      ]
     },
     "execution_count": 31,
     "metadata": {},
     "output_type": "execute_result"
    }
   ],
   "source": [
    "x = sym.Symbol('x')\n",
    "sym.diff(sym.exp(-x), x) #derivative"
   ]
  },
  {
   "cell_type": "code",
   "execution_count": 34,
   "id": "834706ef",
   "metadata": {},
   "outputs": [
    {
     "data": {
      "text/latex": [
       "$\\displaystyle - \\frac{1}{\\left(x + 1\\right)^{2}}$"
      ],
      "text/plain": [
       "-1/(x + 1)**2"
      ]
     },
     "execution_count": 34,
     "metadata": {},
     "output_type": "execute_result"
    }
   ],
   "source": [
    "sym.diff((1+x)**(-1), x)"
   ]
  },
  {
   "cell_type": "code",
   "execution_count": 72,
   "id": "e6150abd",
   "metadata": {
    "slideshow": {
     "slide_type": "slide"
    }
   },
   "outputs": [
    {
     "data": {
      "image/png": "[encoded data removed]",
      "text/plain": [
       "<Figure size 432x288 with 1 Axes>"
      ]
     },
     "metadata": {
      "needs_background": "light"
     },
     "output_type": "display_data"
    }
   ],
   "source": [
    "VF = 10000\n",
    "k =0.2\n",
    "D = np.arange(0,40)\n",
    "plt.plot(D, VF*np.exp(-k*D), label = 'Exponential')\n",
    "plt.plot(D, VF*(1+k*D)**(-1), label = 'Hyperbolic')\n",
    "plt.legend();"
   ]
  },
  {
   "cell_type": "code",
   "execution_count": 75,
   "id": "f3c8bd94",
   "metadata": {},
   "outputs": [
    {
     "data": {
      "text/plain": [
       "[36.39876668876283, 36.39876668876283, 3.3333333333333335, 0.8717948717948718]"
      ]
     },
     "execution_count": 75,
     "metadata": {},
     "output_type": "execute_result"
    }
   ],
   "source": [
    "#Example of preference reversal\n",
    "VF1 = 10000\n",
    "VF2 = 15000\n",
    "Interval = 20 #e.g. in months\n",
    "\n",
    "D1 = 0 #delays e.g. in months\n",
    "D2 = D1 + Interval\n",
    "exp_discount_A = (VF1*np.exp(-k*D1)) / (VF2*np.exp(-k*D2)) \n",
    "hyp_discount_A = (VF1*(1+k*D1)**(-1)) / (VF2*(1+k*D2)**(-1))\n",
    "\n",
    "D1 = 60\n",
    "D2 = D1 + Interval\n",
    "exp_discount_B = (VF1*np.exp(-k*D1)) / (VF2*np.exp(-k*D2)) \n",
    "hyp_discount_B = (VF1*(1+k*D1)**(-1)) / (VF2*(1+k*D2)**(-1))\n",
    "\n",
    "[exp_discount_A, exp_discount_B, hyp_discount_A, hyp_discount_B] #>1 VF1 preferred; <1 VF2 preferred; Note that exponential discount is constant\n",
    "\n"
   ]
  },
  {
   "cell_type": "markdown",
   "id": "0b44e8ab",
   "metadata": {
    "slideshow": {
     "slide_type": "slide"
    }
   },
   "source": [
    "# Empirical intertemporal behavior"
   ]
  },
  {
   "cell_type": "markdown",
   "id": "00415d3e",
   "metadata": {
    "slideshow": {
     "slide_type": "slide"
    }
   },
   "source": [
    "## Preference reversals (Green, Fristoe, & Myerson, 1994)"
   ]
  },
  {
   "cell_type": "markdown",
   "id": "ca3a4daa",
   "metadata": {
    "slideshow": {
     "slide_type": "slide"
    }
   },
   "source": [
    "Procedure:\n",
    "    \n",
    "<center><img src=\"img/10_CB/Pref_Reversal.png\" width = \"600\" height = '600'></center>"
   ]
  },
  {
   "cell_type": "code",
   "execution_count": null,
   "id": "9d20b6ef",
   "metadata": {},
   "outputs": [],
   "source": []
  },
  {
   "cell_type": "code",
   "execution_count": null,
   "id": "287d6d62",
   "metadata": {},
   "outputs": [],
   "source": []
  },
  {
   "cell_type": "code",
   "execution_count": null,
   "id": "b2f4a4c4",
   "metadata": {},
   "outputs": [],
   "source": []
  },
  {
   "cell_type": "code",
   "execution_count": null,
   "id": "823fd0e4",
   "metadata": {},
   "outputs": [],
   "source": []
  },
  {
   "cell_type": "code",
   "execution_count": null,
   "id": "ccaa1ed3",
   "metadata": {},
   "outputs": [],
   "source": []
  }
 ],
 "metadata": {
  "celltoolbar": "Slideshow",
  "kernelspec": {
   "display_name": "Python 3",
   "language": "python",
   "name": "python3"
  },
  "language_info": {
   "codemirror_mode": {
    "name": "ipython",
    "version": 3
   },
   "file_extension": ".py",
   "mimetype": "text/x-python",
   "name": "python",
   "nbconvert_exporter": "python",
   "pygments_lexer": "ipython3",
   "version": "3.9.4"
  },
  "rise": {
   "chalkboard": {
    "color": [
     "rgb(250, 0, 0)",
     "rgb(0, 250, 250)"
    ]
   },
   "enable_chalkboard": true,
   "scroll": true,
   "theme": "simple",
   "transition": "none"
  }
 },
 "nbformat": 4,
 "nbformat_minor": 5
}
