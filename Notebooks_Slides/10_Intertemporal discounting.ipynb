{
 "cells": [
  {
   "cell_type": "code",
   "execution_count": 1,
   "id": "0cf096be",
   "metadata": {},
   "outputs": [
    {
     "name": "stderr",
     "output_type": "stream",
     "text": [
      "WARNING (aesara.tensor.blas): Using NumPy C-API based implementation for BLAS functions.\n"
     ]
    },
    {
     "name": "stdout",
     "output_type": "stream",
     "text": [
      "Running on PyMC v4.1.3\n"
     ]
    }
   ],
   "source": [
    "import os\n",
    "import re\n",
    "import operator\n",
    "\n",
    "#Tables and matrices\n",
    "import numpy as np\n",
    "import pandas as pd\n",
    "import sympy as sym\n",
    "\n",
    "#Stats\n",
    "import scipy.stats as st\n",
    "from scipy.optimize import fmin\n",
    "from scipy import integrate\n",
    "from scipy.stats.mstats import mquantiles\n",
    "import statistics \n",
    "\n",
    "#Probabilistic programs\n",
    "#!pip install pymc3\n",
    "#!pip install pymc==4.0.0b1\n",
    "#import pymc3 as pm\n",
    "import pymc as pm\n",
    "import aesara.tensor as at\n",
    "#import theano.tensor as tt \n",
    "#from theano.compile.ops import as_op\n",
    "print('Running on PyMC v{}'.format(pm.__version__))\n",
    "\n",
    "\n",
    "#Graphs\n",
    "import seaborn as sns\n",
    "import plotly.graph_objects as go\n",
    "import altair as alt\n",
    "#from altair_saver import save #ademas instalar en terminal: brew cask install chromedriver\n",
    "import matplotlib.pyplot as plt\n",
    "from matplotlib import cm\n",
    "from matplotlib.gridspec import GridSpec\n",
    "from matplotlib import animation, rc\n",
    "from IPython.display import display, HTML, Markdown\n",
    "import ipywidgets as widgets\n",
    "from ipywidgets import interact, interactive, fixed, HBox, VBox, Layout\n",
    "#from graphviz import Source, Digraph\n",
    "#import dot2tex as d2t\n",
    "#from latex import build_pdf\n",
    "from mpl_toolkits.mplot3d import axes3d\n",
    "import arviz as az"
   ]
  },
  {
   "cell_type": "markdown",
   "id": "12b5f50f",
   "metadata": {
    "slideshow": {
     "slide_type": "slide"
    }
   },
   "source": [
    "# Decision-making (intertemporal discounting)\n",
    "\n",
    "Santiago Alonso-Díaz, PhD <br>\n",
    "Universidad Javeriana"
   ]
  },
  {
   "cell_type": "markdown",
   "id": "e9a23388",
   "metadata": {
    "slideshow": {
     "slide_type": "slide"
    }
   },
   "source": [
    "<center><img src=\"img/10_CB/Cars_in_time.png\" width = \"600\" height = '600'></center>"
   ]
  },
  {
   "cell_type": "markdown",
   "id": "6ce2d2fb",
   "metadata": {
    "slideshow": {
     "slide_type": "slide"
    }
   },
   "source": [
    "[Marshmellow Study](https://www.youtube.com/watch?v=JsQMdECFnUQ)"
   ]
  },
  {
   "cell_type": "markdown",
   "id": "eb38cbc8",
   "metadata": {
    "slideshow": {
     "slide_type": "slide"
    }
   },
   "source": [
    "Basic idea behind all theories of intertemporal discounting:\n",
    "\n",
    "Goods and services lose value in time i.e. the future is discounted"
   ]
  },
  {
   "cell_type": "markdown",
   "id": "9cab735b",
   "metadata": {
    "slideshow": {
     "slide_type": "slide"
    }
   },
   "source": [
    "In general, the theory assumes that $x$ is preferred over $y$ in a time period $T$ if for a discount factor $\\delta \\in (0,1]$\n",
    "\n",
    "$$\\sum_{t \\in T} \\delta^tu(x_t)  \\ge \\sum_{t \\in T} \\delta^tu(y_t) $$\n",
    "\n",
    "\n"
   ]
  },
  {
   "cell_type": "markdown",
   "id": "a27e5701",
   "metadata": {
    "slideshow": {
     "slide_type": "slide"
    }
   },
   "source": [
    "Let's see an example of a discounting function. We invest USD 10000, with an interest rate of 5%, for n periods (e.g. years). H\n",
    "\n",
    "**Period 1**\n",
    "\n",
    "$vf_1 = 10000 + 10000*0.05$    \n",
    "\n",
    "$vf_1 = 10000(1+0.05)$\n",
    "\n",
    "$vf_1 = 10000(1+0.05)^1$\n",
    "\n",
    "**Period 2** \n",
    "   \n",
    "$vf_2 = 10000(1+0.05)^1 + 10000(1+0.05)^1*0.05$\n",
    "\n",
    "$vf_2 = 10000(1+0.05)^1(1+0.05)$\n",
    "\n",
    "$vf_2 = 10000(1+0.05)^2$\n",
    "\n",
    "**Period 3**\n",
    "\n",
    "$vf_3 = 10000(1+0.05)^2 + 10000(1+0.05)^2*0.05$\n",
    "\n",
    "$vf_3 = 10000(1+0.05)^2(1+0.05)$\n",
    "\n",
    "$vf_3 = 10000(1+0.05)^3$\n",
    "\n",
    "\n",
    "**Period n**\n",
    "\n",
    "$vf_n = 10000(1+0.05)^n$\n",
    "\n",
    "\n"
   ]
  },
  {
   "cell_type": "markdown",
   "id": "0f81c163",
   "metadata": {
    "slideshow": {
     "slide_type": "slide"
    }
   },
   "source": [
    "$$vf = vp(1+i)^n$$\n",
    "\n",
    "$$vp = \\frac{vf}{(1+i)^n}$$\n",
    "\n",
    "Future values ($vf$) get discounted as a function of periods $n$ and interest rate $i$\n",
    "\n",
    "People should prefer today $x$ over $y$ if $vp(x)>vp(y)$"
   ]
  },
  {
   "cell_type": "markdown",
   "id": "8585192d",
   "metadata": {
    "slideshow": {
     "slide_type": "slide"
    }
   },
   "source": [
    "The discount factor that multiplies $vf$ can change. These two are popular (k discount, D delay)\n",
    "\n",
    "Exponential: $e^{-kD}$\n",
    "\n",
    "Hyperbolic: $(1+kD)^{-1}$"
   ]
  },
  {
   "cell_type": "markdown",
   "id": "2a387d7a",
   "metadata": {
    "slideshow": {
     "slide_type": "slide"
    }
   },
   "source": [
    "Exponential: Is intertemporal consistent (derivative is linear on the delay) e.g. proportionally,. 0 vs 10 days is the same as 100 vs 110 days\n",
    "\n",
    "Hyperbolic: tends to provides better fits to human data; it is intertemporal inconsistent (derivative is nonlinear on the delay value) and it is more impatient (faster discounts)"
   ]
  },
  {
   "cell_type": "code",
   "execution_count": null,
   "id": "7c1e340d",
   "metadata": {},
   "outputs": [],
   "source": [
    "x = sym.Symbol('x')\n",
    "sym.diff(sym.exp(-x), x) #derivative"
   ]
  },
  {
   "cell_type": "code",
   "execution_count": null,
   "id": "808afa18",
   "metadata": {},
   "outputs": [],
   "source": [
    "sym.diff((1+x)**(-1), x)"
   ]
  },
  {
   "cell_type": "code",
   "execution_count": null,
   "id": "2bebf05d",
   "metadata": {
    "slideshow": {
     "slide_type": "slide"
    }
   },
   "outputs": [],
   "source": [
    "VF = 10000\n",
    "k =0.2\n",
    "D = np.arange(0,40)\n",
    "plt.plot(D, VF*np.exp(-k*D), label = 'Exponential')\n",
    "plt.plot(D, VF*(1+k*D)**(-1), label = 'Hyperbolic')\n",
    "plt.legend();"
   ]
  },
  {
   "cell_type": "code",
   "execution_count": null,
   "id": "a205c068",
   "metadata": {},
   "outputs": [],
   "source": [
    "#Example of preference reversal\n",
    "VF1 = 10000\n",
    "VF2 = 15000\n",
    "Interval = 20 #e.g. in months\n",
    "\n",
    "D1 = 0 #delays e.g. in months\n",
    "D2 = D1 + Interval\n",
    "exp_discount_A = (VF1*np.exp(-k*D1)) / (VF2*np.exp(-k*D2)) \n",
    "hyp_discount_A = (VF1*(1+k*D1)**(-1)) / (VF2*(1+k*D2)**(-1))\n",
    "\n",
    "D1 = 60\n",
    "D2 = D1 + Interval\n",
    "exp_discount_B = (VF1*np.exp(-k*D1)) / (VF2*np.exp(-k*D2)) \n",
    "hyp_discount_B = (VF1*(1+k*D1)**(-1)) / (VF2*(1+k*D2)**(-1))\n",
    "\n",
    "[exp_discount_A, exp_discount_B, hyp_discount_A, hyp_discount_B] #>1 VF1 preferred; <1 VF2 preferred; Note that exponential discount is constant\n",
    "\n"
   ]
  },
  {
   "cell_type": "markdown",
   "id": "b02abfea",
   "metadata": {
    "slideshow": {
     "slide_type": "slide"
    }
   },
   "source": [
    "# Empirical intertemporal behavior"
   ]
  },
  {
   "cell_type": "markdown",
   "id": "df620761",
   "metadata": {
    "slideshow": {
     "slide_type": "slide"
    }
   },
   "source": [
    "## Preference reversals (Green, Fristoe, & Myerson, 1994)"
   ]
  },
  {
   "cell_type": "markdown",
   "id": "5556641b",
   "metadata": {
    "slideshow": {
     "slide_type": "slide"
    }
   },
   "source": [
    "Procedure (n = 24):\n",
    "    \n",
    "<center><img src=\"img/10_CB/Pref_Reversal.png\" width = \"600\" height = '600'></center>"
   ]
  },
  {
   "cell_type": "markdown",
   "id": "625723a4",
   "metadata": {
    "slideshow": {
     "slide_type": "slide"
    }
   },
   "source": [
    "Reversal: preference for larger and later reward changes with weeks to smaller reward\n",
    "\n",
    "Consistent subjects should look like an horizontal line.\n",
    "\n",
    "\n",
    "<center><img src=\"img/10_CB/Pref_Reversal_2.png\" width = \"400\" height = '400'></center>\n"
   ]
  },
  {
   "cell_type": "markdown",
   "id": "effe4fb6",
   "metadata": {
    "slideshow": {
     "slide_type": "slide"
    }
   },
   "source": [
    "Another way of seeing the reversal. Indifference points i.e. combination of delays where subjects chose later or sooner with 50% probability.\n",
    "\n",
    "Consistent subjects should look like a straight line, not with negative curvature (a simple polynomial was a worst fit).\n",
    "\n",
    "<center><img src=\"img/10_CB/Pref_Reversal_3.png\" width = \"400\" height = '400'></center>"
   ]
  },
  {
   "cell_type": "markdown",
   "id": "0630d671",
   "metadata": {
    "slideshow": {
     "slide_type": "slide"
    }
   },
   "source": [
    "The reversal is present in individual subjects (i.e. not just an averaging effect)\n",
    "<center><img src=\"img/10_CB/Pref_Reversal_4.png\" width = \"600\" height = '600'></center>"
   ]
  },
  {
   "cell_type": "markdown",
   "id": "5687323f",
   "metadata": {
    "slideshow": {
     "slide_type": "slide"
    }
   },
   "source": [
    "# Magnitude effects\n",
    "<center><img src=\"img/10_CB/Magnitude_Effect.png\" width = \"400\" height = '400'></center>"
   ]
  },
  {
   "cell_type": "markdown",
   "id": "85470c4b",
   "metadata": {
    "slideshow": {
     "slide_type": "slide"
    }
   },
   "source": [
    "Hypothesis 1: there is only one discount factor thus magnitudes should not matter e.g. discounting a monetary unit in 10 vs 100 is the same as 100 vs 1000\n",
    "\n",
    "Hypothesis 2: people are more patient with larger magnitudes e.g. discounting a monetary unit in 10 vs 100 is different than 100 vs 1000"
   ]
  },
  {
   "cell_type": "markdown",
   "id": "12039cac",
   "metadata": {
    "slideshow": {
     "slide_type": "slide"
    }
   },
   "source": [
    "Procedure: pick between two options that differ in amount and delay between them\n",
    "<center><img src=\"img/10_CB/Magnitude_Effect_2.png\" width = \"600\" height = '600'></center>"
   ]
  },
  {
   "cell_type": "markdown",
   "id": "8a0d995e",
   "metadata": {
    "slideshow": {
     "slide_type": "slide"
    }
   },
   "source": [
    "Another way of visualizing the results. The (hyperbolic) discount factor decreases with the magnitude i.e. more patience\n",
    "\n",
    "<center><img src=\"img/10_CB/Magnitude_Effect_3.png\" width = \"400\" height = '400'></center>"
   ]
  },
  {
   "cell_type": "markdown",
   "id": "6ca9edfd",
   "metadata": {
    "slideshow": {
     "slide_type": "slide"
    }
   },
   "source": [
    "# Endogenous influences\n",
    "\n",
    "Discounting is not only about numerical info. Endogenous processes influence discounting\n",
    "\n",
    "<center><img src=\"img/10_CB/Magnitude_Effect_4.png\" width = \"700\" height = '700'></center>"
   ]
  },
  {
   "cell_type": "markdown",
   "id": "bd02dd07",
   "metadata": {
    "slideshow": {
     "slide_type": "slide"
    }
   },
   "source": [
    "Discounting is not only about numerical info. Endogenous processes influence discounting\n",
    "\n",
    "<center><img src=\"img/10_CB/Brain_discount.png\" width = \"700\" height = '700'></center>"
   ]
  },
  {
   "cell_type": "markdown",
   "id": "633f9188",
   "metadata": {
    "slideshow": {
     "slide_type": "slide"
    }
   },
   "source": [
    "The brain seems to process sooner and later rewards at different locations\n",
    "\n",
    "<center><img src=\"img/10_CB/Brain_discount_2.png\" width = \"700\" height = '700'></center>"
   ]
  },
  {
   "cell_type": "markdown",
   "id": "3ea8ea21",
   "metadata": {},
   "source": [
    "# General behavioral patterns around the world\n",
    "\n",
    "From Mamo et al (2022), The globalizability of temporal discounting, Nature Human Behaviour:\n",
    "\n",
    "1) **Absolute magnitude**: Increased preference for delayed gains when values become substantially larger.\n",
    "\n",
    "2) **Gain–loss asymmetry**: Gains are discounted more than losses.\n",
    "\n",
    "3) **Delay–speedup asymmetry**: Accepting an immediate, smaller gain if the delay is framed as added value, but preferring the larger, later amount if an immediate gain is framed as a reduction (for example, prefer a gain of \\\\$500 rather than wait 12 months for an additional \\\\$50 and prefer to wait for 12 months to receive \\\\$550 rather than to pay \\\\$50 and receive the gain now).\n",
    "\n",
    "4) **Present bias**: Lower discounting over a given time interval when the start of the interval is shifed to the future.\n",
    "\n",
    "5) **Subadditivity**: Higher discounting for two separate shorter periods than when considered together. For instance: 0–12, 12–24 and 0–24 months. discounting is higher for the two 12-month intervals than for the 24-month interval."
   ]
  },
  {
   "cell_type": "markdown",
   "id": "822b32d6",
   "metadata": {
    "slideshow": {
     "slide_type": "slide"
    }
   },
   "source": [
    "https://www.nature.com/articles/s41562-022-01392-w\n",
    "\n",
    "\n",
    "<center><img src=\"img/10_CB/Mamo_et_al_globalization_of_temporal_discounting.svg\" width = \"700\" height = '700'></center>\n",
    "\n"
   ]
  },
  {
   "cell_type": "markdown",
   "id": "77e90af4",
   "metadata": {},
   "source": [
    "Countries as a whole are very similar (i.e. not a single country is extreme in a pattern). However, the behavioral patterns depend on economic situation of the countries, in particular inequality (Gini) and inflation i.e. it is a rational response:\n",
    "\n",
    "<center><img src=\"img/10_CB/Mamo_et_al_globalization_of_temporal_discounting_2.svg\" width = \"700\" height = '700'></center>"
   ]
  },
  {
   "cell_type": "markdown",
   "id": "bcb5634d",
   "metadata": {
    "slideshow": {
     "slide_type": "slide"
    }
   },
   "source": [
    "# Estimation of parameters"
   ]
  },
  {
   "cell_type": "markdown",
   "id": "0a58f07e",
   "metadata": {
    "slideshow": {
     "slide_type": "-"
    }
   },
   "source": [
    "Do the intertemporal task in Pavlovia (santiago):\n",
    "\n",
    "Money today vs Money in the future\n",
    "\n"
   ]
  },
  {
   "cell_type": "markdown",
   "id": "18c952b4",
   "metadata": {
    "slideshow": {
     "slide_type": "slide"
    }
   },
   "source": [
    "## Non-hierarchical estimation (i.e. unpooled estimate i.e. no dependencies between $k_s$)"
   ]
  },
  {
   "cell_type": "markdown",
   "id": "3fa15aa9",
   "metadata": {},
   "source": [
    "### Hyperbolic discounting\n",
    "<br><br>\n",
    "\n",
    "<center><img src=\"img/10_CB/intertemp_diagram.svg\" width = \"800\" height = '800'></center>\n"
   ]
  },
  {
   "cell_type": "code",
   "execution_count": 206,
   "id": "e6083daa",
   "metadata": {
    "slideshow": {
     "slide_type": "slide"
    }
   },
   "outputs": [],
   "source": [
    "#Load and data setup\n",
    "data_folder = 'data/10_CB'\n",
    "ff = os.listdir(data_folder)\n",
    "unreadable_files = []\n",
    "onlyfiles = []\n",
    "counter_unreadable = 0\n",
    "for f in ff:\n",
    "    #print(f)\n",
    "    fff = data_folder + \"/\" + f\n",
    "    good_file = 0\n",
    "    unreadable = 0\n",
    "    if counter_unreadable < len(unreadable_files): \n",
    "        if f == unreadable_files[counter_unreadable]:\n",
    "            counter_unreadable = counter_unreadable+1\n",
    "            unreadable = 1\n",
    "    \n",
    "    if os.stat(fff).st_size > 500 and unreadable==0: #in bytes    \n",
    "        data_subj = pd.read_csv(fff)\n",
    "        nrows = data_subj.shape[0]\n",
    "        if nrows>50:\n",
    "            good_file = 1\n",
    "    x = re.search(\".csv\",f)\n",
    "    j = re.search('.~lock.',f) #linux or pavlovia seem to create this name files\n",
    "    if x and operator.not_(j) and good_file==1:\n",
    "        onlyfiles.append(f)\n",
    "\n",
    "for idx, f in enumerate(onlyfiles):\n",
    "    data = pd.read_csv('data/10_CB/'+f)\n",
    "    data = data.loc[~data['ss_Amt'].isna(),:]\n",
    "    if idx == 0:\n",
    "        #DATA=data.loc[:,['participant', 'respT.corr','respT.rt', #corr: 0 sooner; 1 later\n",
    "        #                 'ss_Amt','ss_Delay','ll_Amt','ll_Delay']] #ss: smaller sooner; ll: larger later; Amt: amount\n",
    "        \n",
    "        choice = np.array(data.loc[:,'respT.corr'], ndmin=2).T #0 sooner; 1 later\n",
    "        ss_Amt = np.array(data.loc[:,'ss_Amt']/1000, ndmin=2).T #sooner smaller amount (/1000 to take 3 zeros away from COPs)\n",
    "        ss_Delay = np.array(data.loc[:,'ss_Delay'], ndmin=2).T \n",
    "        ll_Amt = np.array(data.loc[:,'ll_Amt']/1000, ndmin=2).T #later larger amount (/1000 to take 3 zeros away from COPs)\n",
    "        ll_Delay = np.array(data.loc[:,'ll_Delay'], ndmin=2).T\n",
    "    else:\n",
    "        #DATA = pd.concat([DATA, data.loc[:,['participant', 'respT.corr','respT.rt', \n",
    "        #                                    'ss_Amt','ss_Delay','ll_Amt','ll_Delay']]])\n",
    "        choice = np.concatenate([choice, np.array(data.loc[:,'respT.corr'], ndmin=2).T], axis=1)  #\n",
    "        ss_Amt = np.concatenate([ss_Amt, np.array(data.loc[:,'ss_Amt']/1000, ndmin=2).T], axis=1)  #sooner smaller amount \n",
    "        ss_Delay = np.concatenate([ss_Delay, np.array(data.loc[:,'ss_Delay'], ndmin=2).T], axis=1) \n",
    "        ll_Amt = np.concatenate([ll_Amt, np.array(data.loc[:,'ll_Amt']/1000, ndmin=2).T], axis=1)  #later larger amount \n",
    "        ll_Delay = np.concatenate([ll_Delay, np.array(data.loc[:,'ll_Delay'], ndmin=2).T], axis=1) \n",
    "    \n",
    "n = choice.shape[1] #len(onlyfiles)   \n",
    "#DATA = DATA.reset_index(drop=True)\n",
    "#n = len(DATA['participant'].unique())\n"
   ]
  },
  {
   "cell_type": "code",
   "execution_count": 207,
   "id": "6688282f",
   "metadata": {},
   "outputs": [
    {
     "data": {
      "text/plain": [
       "[['impaciente_tareaTDv3_2022-07-08_16h48.54.684.csv',\n",
       "  'paciente_tareaTDv3_2022-07-08_10h29.12.042.csv',\n",
       "  'random_tareaTDv3_2022-07-09_06h46.43.116.csv'],\n",
       " 3]"
      ]
     },
     "execution_count": 207,
     "metadata": {},
     "output_type": "execute_result"
    }
   ],
   "source": [
    "[onlyfiles, n]"
   ]
  },
  {
   "cell_type": "code",
   "execution_count": 209,
   "id": "2b2acffc",
   "metadata": {
    "slideshow": {
     "slide_type": "slide"
    }
   },
   "outputs": [
    {
     "name": "stderr",
     "output_type": "stream",
     "text": [
      "Auto-assigning NUTS sampler...\n",
      "Initializing NUTS using jitter+adapt_diag...\n",
      "Multiprocess sampling (4 chains in 4 jobs)\n",
      "NUTS: [k_s, beta_s]\n",
      "WARNING (aesara.link.c.cmodule): Removing key file C:\\Users\\Santiago Diaz\\AppData\\Local\\Aesara\\compiledir_Windows-10-10.0.19041-SP0-AMD64_Family_25_Model_33_Stepping_0_AuthenticAMD-3.9.4-64\\tmp00wqt7er\\key.pkl because the corresponding module is gone from the file system.\n",
      "WARNING (aesara.link.c.cmodule): Removing key file C:\\Users\\Santiago Diaz\\AppData\\Local\\Aesara\\compiledir_Windows-10-10.0.19041-SP0-AMD64_Family_25_Model_33_Stepping_0_AuthenticAMD-3.9.4-64\\tmp0hbtw2v2\\key.pkl because the corresponding module is gone from the file system.\n",
      "WARNING (aesara.link.c.cmodule): Removing key file C:\\Users\\Santiago Diaz\\AppData\\Local\\Aesara\\compiledir_Windows-10-10.0.19041-SP0-AMD64_Family_25_Model_33_Stepping_0_AuthenticAMD-3.9.4-64\\tmp0jq2bj80\\key.pkl because the corresponding module is gone from the file system.\n",
      "WARNING (aesara.link.c.cmodule): Removing key file C:\\Users\\Santiago Diaz\\AppData\\Local\\Aesara\\compiledir_Windows-10-10.0.19041-SP0-AMD64_Family_25_Model_33_Stepping_0_AuthenticAMD-3.9.4-64\\tmp15s9491b\\key.pkl because the corresponding module is gone from the file system.\n",
      "WARNING (aesara.link.c.cmodule): Removing key file C:\\Users\\Santiago Diaz\\AppData\\Local\\Aesara\\compiledir_Windows-10-10.0.19041-SP0-AMD64_Family_25_Model_33_Stepping_0_AuthenticAMD-3.9.4-64\\tmp1kxyu64b\\key.pkl because the corresponding module is gone from the file system.\n",
      "WARNING (aesara.link.c.cmodule): Removing key file C:\\Users\\Santiago Diaz\\AppData\\Local\\Aesara\\compiledir_Windows-10-10.0.19041-SP0-AMD64_Family_25_Model_33_Stepping_0_AuthenticAMD-3.9.4-64\\tmp1vm0if22\\key.pkl because the corresponding module is gone from the file system.\n",
      "WARNING (aesara.link.c.cmodule): Removing key file C:\\Users\\Santiago Diaz\\AppData\\Local\\Aesara\\compiledir_Windows-10-10.0.19041-SP0-AMD64_Family_25_Model_33_Stepping_0_AuthenticAMD-3.9.4-64\\tmp1xmzdsn1\\key.pkl because the corresponding module is gone from the file system.\n",
      "WARNING (aesara.link.c.cmodule): Removing key file C:\\Users\\Santiago Diaz\\AppData\\Local\\Aesara\\compiledir_Windows-10-10.0.19041-SP0-AMD64_Family_25_Model_33_Stepping_0_AuthenticAMD-3.9.4-64\\tmp2m03x6cx\\key.pkl because the corresponding module is gone from the file system.\n",
      "WARNING (aesara.link.c.cmodule): Removing key file C:\\Users\\Santiago Diaz\\AppData\\Local\\Aesara\\compiledir_Windows-10-10.0.19041-SP0-AMD64_Family_25_Model_33_Stepping_0_AuthenticAMD-3.9.4-64\\tmp2nx1547e\\key.pkl because the corresponding module is gone from the file system.\n",
      "WARNING (aesara.link.c.cmodule): Removing key file C:\\Users\\Santiago Diaz\\AppData\\Local\\Aesara\\compiledir_Windows-10-10.0.19041-SP0-AMD64_Family_25_Model_33_Stepping_0_AuthenticAMD-3.9.4-64\\tmp33kaont_\\key.pkl because the corresponding module is gone from the file system.\n",
      "WARNING (aesara.link.c.cmodule): Removing key file C:\\Users\\Santiago Diaz\\AppData\\Local\\Aesara\\compiledir_Windows-10-10.0.19041-SP0-AMD64_Family_25_Model_33_Stepping_0_AuthenticAMD-3.9.4-64\\tmp33ptdb8w\\key.pkl because the corresponding module is gone from the file system.\n",
      "WARNING (aesara.link.c.cmodule): Removing key file C:\\Users\\Santiago Diaz\\AppData\\Local\\Aesara\\compiledir_Windows-10-10.0.19041-SP0-AMD64_Family_25_Model_33_Stepping_0_AuthenticAMD-3.9.4-64\\tmp3b3tagku\\key.pkl because the corresponding module is gone from the file system.\n",
      "WARNING (aesara.link.c.cmodule): Removing key file C:\\Users\\Santiago Diaz\\AppData\\Local\\Aesara\\compiledir_Windows-10-10.0.19041-SP0-AMD64_Family_25_Model_33_Stepping_0_AuthenticAMD-3.9.4-64\\tmp3m8zhap8\\key.pkl because the corresponding module is gone from the file system.\n",
      "WARNING (aesara.link.c.cmodule): Removing key file C:\\Users\\Santiago Diaz\\AppData\\Local\\Aesara\\compiledir_Windows-10-10.0.19041-SP0-AMD64_Family_25_Model_33_Stepping_0_AuthenticAMD-3.9.4-64\\tmp41z4hqnx\\key.pkl because the corresponding module is gone from the file system.\n",
      "WARNING (aesara.link.c.cmodule): Removing key file C:\\Users\\Santiago Diaz\\AppData\\Local\\Aesara\\compiledir_Windows-10-10.0.19041-SP0-AMD64_Family_25_Model_33_Stepping_0_AuthenticAMD-3.9.4-64\\tmp4boeq1x9\\key.pkl because the corresponding module is gone from the file system.\n",
      "WARNING (aesara.link.c.cmodule): Removing key file C:\\Users\\Santiago Diaz\\AppData\\Local\\Aesara\\compiledir_Windows-10-10.0.19041-SP0-AMD64_Family_25_Model_33_Stepping_0_AuthenticAMD-3.9.4-64\\tmp4pnukz1w\\key.pkl because the corresponding module is gone from the file system.\n",
      "WARNING (aesara.link.c.cmodule): Removing key file C:\\Users\\Santiago Diaz\\AppData\\Local\\Aesara\\compiledir_Windows-10-10.0.19041-SP0-AMD64_Family_25_Model_33_Stepping_0_AuthenticAMD-3.9.4-64\\tmp5hivqi12\\key.pkl because the corresponding module is gone from the file system.\n",
      "WARNING (aesara.link.c.cmodule): Removing key file C:\\Users\\Santiago Diaz\\AppData\\Local\\Aesara\\compiledir_Windows-10-10.0.19041-SP0-AMD64_Family_25_Model_33_Stepping_0_AuthenticAMD-3.9.4-64\\tmp6779wb23\\key.pkl because the corresponding module is gone from the file system.\n",
      "WARNING (aesara.link.c.cmodule): Removing key file C:\\Users\\Santiago Diaz\\AppData\\Local\\Aesara\\compiledir_Windows-10-10.0.19041-SP0-AMD64_Family_25_Model_33_Stepping_0_AuthenticAMD-3.9.4-64\\tmp694qd2oi\\key.pkl because the corresponding module is gone from the file system.\n",
      "WARNING (aesara.link.c.cmodule): Removing key file C:\\Users\\Santiago Diaz\\AppData\\Local\\Aesara\\compiledir_Windows-10-10.0.19041-SP0-AMD64_Family_25_Model_33_Stepping_0_AuthenticAMD-3.9.4-64\\tmp69q4gmgr\\key.pkl because the corresponding module is gone from the file system.\n",
      "WARNING (aesara.link.c.cmodule): Removing key file C:\\Users\\Santiago Diaz\\AppData\\Local\\Aesara\\compiledir_Windows-10-10.0.19041-SP0-AMD64_Family_25_Model_33_Stepping_0_AuthenticAMD-3.9.4-64\\tmp6_6dv6fm\\key.pkl because the corresponding module is gone from the file system.\n",
      "WARNING (aesara.link.c.cmodule): Removing key file C:\\Users\\Santiago Diaz\\AppData\\Local\\Aesara\\compiledir_Windows-10-10.0.19041-SP0-AMD64_Family_25_Model_33_Stepping_0_AuthenticAMD-3.9.4-64\\tmp6d7v3whz\\key.pkl because the corresponding module is gone from the file system.\n",
      "WARNING (aesara.link.c.cmodule): Removing key file C:\\Users\\Santiago Diaz\\AppData\\Local\\Aesara\\compiledir_Windows-10-10.0.19041-SP0-AMD64_Family_25_Model_33_Stepping_0_AuthenticAMD-3.9.4-64\\tmp87vc1n5i\\key.pkl because the corresponding module is gone from the file system.\n",
      "WARNING (aesara.link.c.cmodule): Removing key file C:\\Users\\Santiago Diaz\\AppData\\Local\\Aesara\\compiledir_Windows-10-10.0.19041-SP0-AMD64_Family_25_Model_33_Stepping_0_AuthenticAMD-3.9.4-64\\tmp92qp97hc\\key.pkl because the corresponding module is gone from the file system.\n",
      "WARNING (aesara.link.c.cmodule): Removing key file C:\\Users\\Santiago Diaz\\AppData\\Local\\Aesara\\compiledir_Windows-10-10.0.19041-SP0-AMD64_Family_25_Model_33_Stepping_0_AuthenticAMD-3.9.4-64\\tmp9mkxwoas\\key.pkl because the corresponding module is gone from the file system.\n",
      "WARNING (aesara.link.c.cmodule): Removing key file C:\\Users\\Santiago Diaz\\AppData\\Local\\Aesara\\compiledir_Windows-10-10.0.19041-SP0-AMD64_Family_25_Model_33_Stepping_0_AuthenticAMD-3.9.4-64\\tmp9t4365jc\\key.pkl because the corresponding module is gone from the file system.\n",
      "WARNING (aesara.link.c.cmodule): Removing key file C:\\Users\\Santiago Diaz\\AppData\\Local\\Aesara\\compiledir_Windows-10-10.0.19041-SP0-AMD64_Family_25_Model_33_Stepping_0_AuthenticAMD-3.9.4-64\\tmp9t6r4e2y\\key.pkl because the corresponding module is gone from the file system.\n",
      "WARNING (aesara.link.c.cmodule): Removing key file C:\\Users\\Santiago Diaz\\AppData\\Local\\Aesara\\compiledir_Windows-10-10.0.19041-SP0-AMD64_Family_25_Model_33_Stepping_0_AuthenticAMD-3.9.4-64\\tmp_3cotkhu\\key.pkl because the corresponding module is gone from the file system.\n",
      "WARNING (aesara.link.c.cmodule): Removing key file C:\\Users\\Santiago Diaz\\AppData\\Local\\Aesara\\compiledir_Windows-10-10.0.19041-SP0-AMD64_Family_25_Model_33_Stepping_0_AuthenticAMD-3.9.4-64\\tmp_3egkj9_\\key.pkl because the corresponding module is gone from the file system.\n",
      "WARNING (aesara.link.c.cmodule): Removing key file C:\\Users\\Santiago Diaz\\AppData\\Local\\Aesara\\compiledir_Windows-10-10.0.19041-SP0-AMD64_Family_25_Model_33_Stepping_0_AuthenticAMD-3.9.4-64\\tmp_fe_m1rw\\key.pkl because the corresponding module is gone from the file system.\n"
     ]
    },
    {
     "name": "stderr",
     "output_type": "stream",
     "text": [
      "WARNING (aesara.link.c.cmodule): Removing key file C:\\Users\\Santiago Diaz\\AppData\\Local\\Aesara\\compiledir_Windows-10-10.0.19041-SP0-AMD64_Family_25_Model_33_Stepping_0_AuthenticAMD-3.9.4-64\\tmp_p7d00iy\\key.pkl because the corresponding module is gone from the file system.\n",
      "WARNING (aesara.link.c.cmodule): Removing key file C:\\Users\\Santiago Diaz\\AppData\\Local\\Aesara\\compiledir_Windows-10-10.0.19041-SP0-AMD64_Family_25_Model_33_Stepping_0_AuthenticAMD-3.9.4-64\\tmp_tnssg0v\\key.pkl because the corresponding module is gone from the file system.\n",
      "WARNING (aesara.link.c.cmodule): Removing key file C:\\Users\\Santiago Diaz\\AppData\\Local\\Aesara\\compiledir_Windows-10-10.0.19041-SP0-AMD64_Family_25_Model_33_Stepping_0_AuthenticAMD-3.9.4-64\\tmp_vp8cum_\\key.pkl because the corresponding module is gone from the file system.\n",
      "WARNING (aesara.link.c.cmodule): Removing key file C:\\Users\\Santiago Diaz\\AppData\\Local\\Aesara\\compiledir_Windows-10-10.0.19041-SP0-AMD64_Family_25_Model_33_Stepping_0_AuthenticAMD-3.9.4-64\\tmpaa5ast83\\key.pkl because the corresponding module is gone from the file system.\n",
      "WARNING (aesara.link.c.cmodule): Removing key file C:\\Users\\Santiago Diaz\\AppData\\Local\\Aesara\\compiledir_Windows-10-10.0.19041-SP0-AMD64_Family_25_Model_33_Stepping_0_AuthenticAMD-3.9.4-64\\tmpbr7rt2g9\\key.pkl because the corresponding module is gone from the file system.\n",
      "WARNING (aesara.link.c.cmodule): Removing key file C:\\Users\\Santiago Diaz\\AppData\\Local\\Aesara\\compiledir_Windows-10-10.0.19041-SP0-AMD64_Family_25_Model_33_Stepping_0_AuthenticAMD-3.9.4-64\\tmpbtcngto5\\key.pkl because the corresponding module is gone from the file system.\n",
      "WARNING (aesara.link.c.cmodule): Removing key file C:\\Users\\Santiago Diaz\\AppData\\Local\\Aesara\\compiledir_Windows-10-10.0.19041-SP0-AMD64_Family_25_Model_33_Stepping_0_AuthenticAMD-3.9.4-64\\tmpc2onzofk\\key.pkl because the corresponding module is gone from the file system.\n",
      "WARNING (aesara.link.c.cmodule): Removing key file C:\\Users\\Santiago Diaz\\AppData\\Local\\Aesara\\compiledir_Windows-10-10.0.19041-SP0-AMD64_Family_25_Model_33_Stepping_0_AuthenticAMD-3.9.4-64\\tmpco7frwap\\key.pkl because the corresponding module is gone from the file system.\n",
      "WARNING (aesara.link.c.cmodule): Removing key file C:\\Users\\Santiago Diaz\\AppData\\Local\\Aesara\\compiledir_Windows-10-10.0.19041-SP0-AMD64_Family_25_Model_33_Stepping_0_AuthenticAMD-3.9.4-64\\tmpcou8al54\\key.pkl because the corresponding module is gone from the file system.\n",
      "WARNING (aesara.link.c.cmodule): Removing key file C:\\Users\\Santiago Diaz\\AppData\\Local\\Aesara\\compiledir_Windows-10-10.0.19041-SP0-AMD64_Family_25_Model_33_Stepping_0_AuthenticAMD-3.9.4-64\\tmpd0bnhip6\\key.pkl because the corresponding module is gone from the file system.\n",
      "WARNING (aesara.link.c.cmodule): Removing key file C:\\Users\\Santiago Diaz\\AppData\\Local\\Aesara\\compiledir_Windows-10-10.0.19041-SP0-AMD64_Family_25_Model_33_Stepping_0_AuthenticAMD-3.9.4-64\\tmpd7wt8m4q\\key.pkl because the corresponding module is gone from the file system.\n",
      "WARNING (aesara.link.c.cmodule): Removing key file C:\\Users\\Santiago Diaz\\AppData\\Local\\Aesara\\compiledir_Windows-10-10.0.19041-SP0-AMD64_Family_25_Model_33_Stepping_0_AuthenticAMD-3.9.4-64\\tmpecn8w_i5\\key.pkl because the corresponding module is gone from the file system.\n",
      "WARNING (aesara.link.c.cmodule): Removing key file C:\\Users\\Santiago Diaz\\AppData\\Local\\Aesara\\compiledir_Windows-10-10.0.19041-SP0-AMD64_Family_25_Model_33_Stepping_0_AuthenticAMD-3.9.4-64\\tmpequu8sfo\\key.pkl because the corresponding module is gone from the file system.\n",
      "WARNING (aesara.link.c.cmodule): Removing key file C:\\Users\\Santiago Diaz\\AppData\\Local\\Aesara\\compiledir_Windows-10-10.0.19041-SP0-AMD64_Family_25_Model_33_Stepping_0_AuthenticAMD-3.9.4-64\\tmpfef600q3\\key.pkl because the corresponding module is gone from the file system.\n",
      "WARNING (aesara.link.c.cmodule): Removing key file C:\\Users\\Santiago Diaz\\AppData\\Local\\Aesara\\compiledir_Windows-10-10.0.19041-SP0-AMD64_Family_25_Model_33_Stepping_0_AuthenticAMD-3.9.4-64\\tmpfs3iev48\\key.pkl because the corresponding module is gone from the file system.\n",
      "WARNING (aesara.link.c.cmodule): Removing key file C:\\Users\\Santiago Diaz\\AppData\\Local\\Aesara\\compiledir_Windows-10-10.0.19041-SP0-AMD64_Family_25_Model_33_Stepping_0_AuthenticAMD-3.9.4-64\\tmpfz86egxq\\key.pkl because the corresponding module is gone from the file system.\n",
      "WARNING (aesara.link.c.cmodule): Removing key file C:\\Users\\Santiago Diaz\\AppData\\Local\\Aesara\\compiledir_Windows-10-10.0.19041-SP0-AMD64_Family_25_Model_33_Stepping_0_AuthenticAMD-3.9.4-64\\tmpg1wx1n7k\\key.pkl because the corresponding module is gone from the file system.\n",
      "WARNING (aesara.link.c.cmodule): Removing key file C:\\Users\\Santiago Diaz\\AppData\\Local\\Aesara\\compiledir_Windows-10-10.0.19041-SP0-AMD64_Family_25_Model_33_Stepping_0_AuthenticAMD-3.9.4-64\\tmpgfxsq26q\\key.pkl because the corresponding module is gone from the file system.\n",
      "WARNING (aesara.link.c.cmodule): Removing key file C:\\Users\\Santiago Diaz\\AppData\\Local\\Aesara\\compiledir_Windows-10-10.0.19041-SP0-AMD64_Family_25_Model_33_Stepping_0_AuthenticAMD-3.9.4-64\\tmphntpdz6r\\key.pkl because the corresponding module is gone from the file system.\n",
      "WARNING (aesara.link.c.cmodule): Removing key file C:\\Users\\Santiago Diaz\\AppData\\Local\\Aesara\\compiledir_Windows-10-10.0.19041-SP0-AMD64_Family_25_Model_33_Stepping_0_AuthenticAMD-3.9.4-64\\tmphzltxmw8\\key.pkl because the corresponding module is gone from the file system.\n",
      "WARNING (aesara.link.c.cmodule): Removing key file C:\\Users\\Santiago Diaz\\AppData\\Local\\Aesara\\compiledir_Windows-10-10.0.19041-SP0-AMD64_Family_25_Model_33_Stepping_0_AuthenticAMD-3.9.4-64\\tmpile9vvev\\key.pkl because the corresponding module is gone from the file system.\n",
      "WARNING (aesara.link.c.cmodule): Removing key file C:\\Users\\Santiago Diaz\\AppData\\Local\\Aesara\\compiledir_Windows-10-10.0.19041-SP0-AMD64_Family_25_Model_33_Stepping_0_AuthenticAMD-3.9.4-64\\tmpjaaonisc\\key.pkl because the corresponding module is gone from the file system.\n",
      "WARNING (aesara.link.c.cmodule): Removing key file C:\\Users\\Santiago Diaz\\AppData\\Local\\Aesara\\compiledir_Windows-10-10.0.19041-SP0-AMD64_Family_25_Model_33_Stepping_0_AuthenticAMD-3.9.4-64\\tmpjeoukv58\\key.pkl because the corresponding module is gone from the file system.\n",
      "WARNING (aesara.link.c.cmodule): Removing key file C:\\Users\\Santiago Diaz\\AppData\\Local\\Aesara\\compiledir_Windows-10-10.0.19041-SP0-AMD64_Family_25_Model_33_Stepping_0_AuthenticAMD-3.9.4-64\\tmpjjimas1n\\key.pkl because the corresponding module is gone from the file system.\n",
      "WARNING (aesara.link.c.cmodule): Removing key file C:\\Users\\Santiago Diaz\\AppData\\Local\\Aesara\\compiledir_Windows-10-10.0.19041-SP0-AMD64_Family_25_Model_33_Stepping_0_AuthenticAMD-3.9.4-64\\tmpjwljjb78\\key.pkl because the corresponding module is gone from the file system.\n",
      "WARNING (aesara.link.c.cmodule): Removing key file C:\\Users\\Santiago Diaz\\AppData\\Local\\Aesara\\compiledir_Windows-10-10.0.19041-SP0-AMD64_Family_25_Model_33_Stepping_0_AuthenticAMD-3.9.4-64\\tmpk2mdmguy\\key.pkl because the corresponding module is gone from the file system.\n",
      "WARNING (aesara.link.c.cmodule): Removing key file C:\\Users\\Santiago Diaz\\AppData\\Local\\Aesara\\compiledir_Windows-10-10.0.19041-SP0-AMD64_Family_25_Model_33_Stepping_0_AuthenticAMD-3.9.4-64\\tmpkcc1knnq\\key.pkl because the corresponding module is gone from the file system.\n",
      "WARNING (aesara.link.c.cmodule): Removing key file C:\\Users\\Santiago Diaz\\AppData\\Local\\Aesara\\compiledir_Windows-10-10.0.19041-SP0-AMD64_Family_25_Model_33_Stepping_0_AuthenticAMD-3.9.4-64\\tmpki16m6sh\\key.pkl because the corresponding module is gone from the file system.\n",
      "WARNING (aesara.link.c.cmodule): Removing key file C:\\Users\\Santiago Diaz\\AppData\\Local\\Aesara\\compiledir_Windows-10-10.0.19041-SP0-AMD64_Family_25_Model_33_Stepping_0_AuthenticAMD-3.9.4-64\\tmpkqq6lhbo\\key.pkl because the corresponding module is gone from the file system.\n",
      "WARNING (aesara.link.c.cmodule): Removing key file C:\\Users\\Santiago Diaz\\AppData\\Local\\Aesara\\compiledir_Windows-10-10.0.19041-SP0-AMD64_Family_25_Model_33_Stepping_0_AuthenticAMD-3.9.4-64\\tmpl79aojnq\\key.pkl because the corresponding module is gone from the file system.\n",
      "WARNING (aesara.link.c.cmodule): Removing key file C:\\Users\\Santiago Diaz\\AppData\\Local\\Aesara\\compiledir_Windows-10-10.0.19041-SP0-AMD64_Family_25_Model_33_Stepping_0_AuthenticAMD-3.9.4-64\\tmpl7m095__\\key.pkl because the corresponding module is gone from the file system.\n"
     ]
    },
    {
     "name": "stderr",
     "output_type": "stream",
     "text": [
      "WARNING (aesara.link.c.cmodule): Removing key file C:\\Users\\Santiago Diaz\\AppData\\Local\\Aesara\\compiledir_Windows-10-10.0.19041-SP0-AMD64_Family_25_Model_33_Stepping_0_AuthenticAMD-3.9.4-64\\tmplafxl7cp\\key.pkl because the corresponding module is gone from the file system.\n",
      "WARNING (aesara.link.c.cmodule): Removing key file C:\\Users\\Santiago Diaz\\AppData\\Local\\Aesara\\compiledir_Windows-10-10.0.19041-SP0-AMD64_Family_25_Model_33_Stepping_0_AuthenticAMD-3.9.4-64\\tmpm0h3ea9a\\key.pkl because the corresponding module is gone from the file system.\n",
      "WARNING (aesara.link.c.cmodule): Removing key file C:\\Users\\Santiago Diaz\\AppData\\Local\\Aesara\\compiledir_Windows-10-10.0.19041-SP0-AMD64_Family_25_Model_33_Stepping_0_AuthenticAMD-3.9.4-64\\tmpn6lshci9\\key.pkl because the corresponding module is gone from the file system.\n",
      "WARNING (aesara.link.c.cmodule): Removing key file C:\\Users\\Santiago Diaz\\AppData\\Local\\Aesara\\compiledir_Windows-10-10.0.19041-SP0-AMD64_Family_25_Model_33_Stepping_0_AuthenticAMD-3.9.4-64\\tmpn82xfzqa\\key.pkl because the corresponding module is gone from the file system.\n",
      "WARNING (aesara.link.c.cmodule): Removing key file C:\\Users\\Santiago Diaz\\AppData\\Local\\Aesara\\compiledir_Windows-10-10.0.19041-SP0-AMD64_Family_25_Model_33_Stepping_0_AuthenticAMD-3.9.4-64\\tmpnj6llayj\\key.pkl because the corresponding module is gone from the file system.\n",
      "WARNING (aesara.link.c.cmodule): Removing key file C:\\Users\\Santiago Diaz\\AppData\\Local\\Aesara\\compiledir_Windows-10-10.0.19041-SP0-AMD64_Family_25_Model_33_Stepping_0_AuthenticAMD-3.9.4-64\\tmpog0x9vj9\\key.pkl because the corresponding module is gone from the file system.\n",
      "WARNING (aesara.link.c.cmodule): Removing key file C:\\Users\\Santiago Diaz\\AppData\\Local\\Aesara\\compiledir_Windows-10-10.0.19041-SP0-AMD64_Family_25_Model_33_Stepping_0_AuthenticAMD-3.9.4-64\\tmpq2l2v28m\\key.pkl because the corresponding module is gone from the file system.\n",
      "WARNING (aesara.link.c.cmodule): Removing key file C:\\Users\\Santiago Diaz\\AppData\\Local\\Aesara\\compiledir_Windows-10-10.0.19041-SP0-AMD64_Family_25_Model_33_Stepping_0_AuthenticAMD-3.9.4-64\\tmpq7x5x4x1\\key.pkl because the corresponding module is gone from the file system.\n",
      "WARNING (aesara.link.c.cmodule): Removing key file C:\\Users\\Santiago Diaz\\AppData\\Local\\Aesara\\compiledir_Windows-10-10.0.19041-SP0-AMD64_Family_25_Model_33_Stepping_0_AuthenticAMD-3.9.4-64\\tmpqjxmcf29\\key.pkl because the corresponding module is gone from the file system.\n",
      "WARNING (aesara.link.c.cmodule): Removing key file C:\\Users\\Santiago Diaz\\AppData\\Local\\Aesara\\compiledir_Windows-10-10.0.19041-SP0-AMD64_Family_25_Model_33_Stepping_0_AuthenticAMD-3.9.4-64\\tmpqlnfsxdw\\key.pkl because the corresponding module is gone from the file system.\n",
      "WARNING (aesara.link.c.cmodule): Removing key file C:\\Users\\Santiago Diaz\\AppData\\Local\\Aesara\\compiledir_Windows-10-10.0.19041-SP0-AMD64_Family_25_Model_33_Stepping_0_AuthenticAMD-3.9.4-64\\tmprnr5pevd\\key.pkl because the corresponding module is gone from the file system.\n",
      "WARNING (aesara.link.c.cmodule): Removing key file C:\\Users\\Santiago Diaz\\AppData\\Local\\Aesara\\compiledir_Windows-10-10.0.19041-SP0-AMD64_Family_25_Model_33_Stepping_0_AuthenticAMD-3.9.4-64\\tmpsd1_0gyn\\key.pkl because the corresponding module is gone from the file system.\n",
      "WARNING (aesara.link.c.cmodule): Removing key file C:\\Users\\Santiago Diaz\\AppData\\Local\\Aesara\\compiledir_Windows-10-10.0.19041-SP0-AMD64_Family_25_Model_33_Stepping_0_AuthenticAMD-3.9.4-64\\tmpsljprzi3\\key.pkl because the corresponding module is gone from the file system.\n",
      "WARNING (aesara.link.c.cmodule): Removing key file C:\\Users\\Santiago Diaz\\AppData\\Local\\Aesara\\compiledir_Windows-10-10.0.19041-SP0-AMD64_Family_25_Model_33_Stepping_0_AuthenticAMD-3.9.4-64\\tmpt3ms8t8a\\key.pkl because the corresponding module is gone from the file system.\n",
      "WARNING (aesara.link.c.cmodule): Removing key file C:\\Users\\Santiago Diaz\\AppData\\Local\\Aesara\\compiledir_Windows-10-10.0.19041-SP0-AMD64_Family_25_Model_33_Stepping_0_AuthenticAMD-3.9.4-64\\tmptmdfyhx5\\key.pkl because the corresponding module is gone from the file system.\n",
      "WARNING (aesara.link.c.cmodule): Removing key file C:\\Users\\Santiago Diaz\\AppData\\Local\\Aesara\\compiledir_Windows-10-10.0.19041-SP0-AMD64_Family_25_Model_33_Stepping_0_AuthenticAMD-3.9.4-64\\tmptx_t1gue\\key.pkl because the corresponding module is gone from the file system.\n",
      "WARNING (aesara.link.c.cmodule): Removing key file C:\\Users\\Santiago Diaz\\AppData\\Local\\Aesara\\compiledir_Windows-10-10.0.19041-SP0-AMD64_Family_25_Model_33_Stepping_0_AuthenticAMD-3.9.4-64\\tmpu1kx6_j8\\key.pkl because the corresponding module is gone from the file system.\n",
      "WARNING (aesara.link.c.cmodule): Removing key file C:\\Users\\Santiago Diaz\\AppData\\Local\\Aesara\\compiledir_Windows-10-10.0.19041-SP0-AMD64_Family_25_Model_33_Stepping_0_AuthenticAMD-3.9.4-64\\tmpu9dxpc6i\\key.pkl because the corresponding module is gone from the file system.\n",
      "WARNING (aesara.link.c.cmodule): Removing key file C:\\Users\\Santiago Diaz\\AppData\\Local\\Aesara\\compiledir_Windows-10-10.0.19041-SP0-AMD64_Family_25_Model_33_Stepping_0_AuthenticAMD-3.9.4-64\\tmpv3_u_2h5\\key.pkl because the corresponding module is gone from the file system.\n",
      "WARNING (aesara.link.c.cmodule): Removing key file C:\\Users\\Santiago Diaz\\AppData\\Local\\Aesara\\compiledir_Windows-10-10.0.19041-SP0-AMD64_Family_25_Model_33_Stepping_0_AuthenticAMD-3.9.4-64\\tmpv63p182j\\key.pkl because the corresponding module is gone from the file system.\n",
      "WARNING (aesara.link.c.cmodule): Removing key file C:\\Users\\Santiago Diaz\\AppData\\Local\\Aesara\\compiledir_Windows-10-10.0.19041-SP0-AMD64_Family_25_Model_33_Stepping_0_AuthenticAMD-3.9.4-64\\tmpvjba1yrn\\key.pkl because the corresponding module is gone from the file system.\n",
      "WARNING (aesara.link.c.cmodule): Removing key file C:\\Users\\Santiago Diaz\\AppData\\Local\\Aesara\\compiledir_Windows-10-10.0.19041-SP0-AMD64_Family_25_Model_33_Stepping_0_AuthenticAMD-3.9.4-64\\tmpvmwjqx9r\\key.pkl because the corresponding module is gone from the file system.\n",
      "WARNING (aesara.link.c.cmodule): Removing key file C:\\Users\\Santiago Diaz\\AppData\\Local\\Aesara\\compiledir_Windows-10-10.0.19041-SP0-AMD64_Family_25_Model_33_Stepping_0_AuthenticAMD-3.9.4-64\\tmpvp4j9f1o\\key.pkl because the corresponding module is gone from the file system.\n",
      "WARNING (aesara.link.c.cmodule): Removing key file C:\\Users\\Santiago Diaz\\AppData\\Local\\Aesara\\compiledir_Windows-10-10.0.19041-SP0-AMD64_Family_25_Model_33_Stepping_0_AuthenticAMD-3.9.4-64\\tmpvs3qd5vu\\key.pkl because the corresponding module is gone from the file system.\n",
      "WARNING (aesara.link.c.cmodule): Removing key file C:\\Users\\Santiago Diaz\\AppData\\Local\\Aesara\\compiledir_Windows-10-10.0.19041-SP0-AMD64_Family_25_Model_33_Stepping_0_AuthenticAMD-3.9.4-64\\tmpx9mfenxu\\key.pkl because the corresponding module is gone from the file system.\n",
      "WARNING (aesara.link.c.cmodule): Removing key file C:\\Users\\Santiago Diaz\\AppData\\Local\\Aesara\\compiledir_Windows-10-10.0.19041-SP0-AMD64_Family_25_Model_33_Stepping_0_AuthenticAMD-3.9.4-64\\tmpy955b0e_\\key.pkl because the corresponding module is gone from the file system.\n",
      "WARNING (aesara.link.c.cmodule): Removing key file C:\\Users\\Santiago Diaz\\AppData\\Local\\Aesara\\compiledir_Windows-10-10.0.19041-SP0-AMD64_Family_25_Model_33_Stepping_0_AuthenticAMD-3.9.4-64\\tmpyqkciso8\\key.pkl because the corresponding module is gone from the file system.\n"
     ]
    },
    {
     "data": {
      "text/html": [
       "\n",
       "    <div>\n",
       "        <style>\n",
       "            /* Turns off some styling */\n",
       "            progress {\n",
       "                /* gets rid of default border in Firefox and Opera. */\n",
       "                border: none;\n",
       "                /* Needs to be in here for Safari polyfill so background images work as expected. */\n",
       "                background-size: auto;\n",
       "            }\n",
       "            .progress-bar-interrupted, .progress-bar-interrupted::-webkit-progress-bar {\n",
       "                background: #F44336;\n",
       "            }\n",
       "        </style>\n",
       "      <progress value='24000' class='' max='24000' style='width:300px; height:20px; vertical-align: middle;'></progress>\n",
       "      100.00% [24000/24000 00:23<00:00 Sampling 4 chains, 0 divergences]\n",
       "    </div>\n",
       "    "
      ],
      "text/plain": [
       "<IPython.core.display.HTML object>"
      ]
     },
     "metadata": {},
     "output_type": "display_data"
    },
    {
     "name": "stderr",
     "output_type": "stream",
     "text": [
      "Sampling 4 chains for 2_000 tune and 4_000 draw iterations (8_000 + 16_000 draws total) took 41 seconds.\n",
      "The acceptance probability does not match the target. It is 0.8332, but should be close to 0.9. Try to increase the number of tuning steps.\n"
     ]
    },
    {
     "data": {
      "text/html": [
       "\n",
       "    <div>\n",
       "        <style>\n",
       "            /* Turns off some styling */\n",
       "            progress {\n",
       "                /* gets rid of default border in Firefox and Opera. */\n",
       "                border: none;\n",
       "                /* Needs to be in here for Safari polyfill so background images work as expected. */\n",
       "                background-size: auto;\n",
       "            }\n",
       "            .progress-bar-interrupted, .progress-bar-interrupted::-webkit-progress-bar {\n",
       "                background: #F44336;\n",
       "            }\n",
       "        </style>\n",
       "      <progress value='16000' class='' max='16000' style='width:300px; height:20px; vertical-align: middle;'></progress>\n",
       "      100.00% [16000/16000 00:02<00:00]\n",
       "    </div>\n",
       "    "
      ],
      "text/plain": [
       "<IPython.core.display.HTML object>"
      ]
     },
     "metadata": {},
     "output_type": "display_data"
    }
   ],
   "source": [
    "with pm.Model() as unpooled:\n",
    "    #Priors\n",
    "    ks = pm.Uniform(\"k_s\", lower=0, upper=10, shape = n)\n",
    "    betas = pm.Uniform(\"beta_s\", lower=0, upper=10, shape = n)\n",
    "    \n",
    "    \n",
    "    #Likelihood\n",
    "    v_ss = pm.Deterministic('v_ss', ss_Amt/(1+ss_Delay*ks)) #smaller sooner value\n",
    "    v_ll = pm.Deterministic('v_ll', ll_Amt/(1+ll_Delay*ks)) #later larger value\n",
    "    \n",
    "    p_later = pm.Deterministic('p_later', 1/(1+at.exp((v_ll-v_ss)*(-betas))))\n",
    "    \n",
    "    choice_later = pm.Bernoulli(\"choice_later\", p=p_later, observed=choice)\n",
    "\n",
    "    trace = pm.sample(4000, tune=2000, target_accept=0.9, cores=4, chains = 4)\n",
    "    PPC =  pm.sample_posterior_predictive(trace, var_names = ['choice_later','v_ss', 'v_ll', 'p_later'])"
   ]
  },
  {
   "cell_type": "code",
   "execution_count": 212,
   "id": "038e5b0c",
   "metadata": {
    "slideshow": {
     "slide_type": "slide"
    }
   },
   "outputs": [
    {
     "name": "stderr",
     "output_type": "stream",
     "text": [
      "c:\\users\\santiago diaz\\appdata\\local\\programs\\python\\python39\\lib\\site-packages\\arviz\\stats\\diagnostics.py:586: RuntimeWarning: invalid value encountered in double_scalars\n",
      "  (between_chain_variance / within_chain_variance + num_samples - 1) / (num_samples)\n"
     ]
    },
    {
     "data": {
      "text/plain": [
       "0.0"
      ]
     },
     "execution_count": 212,
     "metadata": {},
     "output_type": "execute_result"
    }
   ],
   "source": [
    "resu = az.summary(trace)\n",
    "(resu['r_hat']>1.05).mean()"
   ]
  },
  {
   "cell_type": "code",
   "execution_count": 214,
   "id": "c383a189",
   "metadata": {
    "slideshow": {
     "slide_type": "slide"
    }
   },
   "outputs": [],
   "source": [
    "#az.plot_trace(trace, compact=False);\n",
    "#plt.tight_layout()"
   ]
  },
  {
   "cell_type": "code",
   "execution_count": 221,
   "id": "cff82997",
   "metadata": {},
   "outputs": [
    {
     "data": {
      "text/plain": [
       "0.012"
      ]
     },
     "execution_count": 221,
     "metadata": {},
     "output_type": "execute_result"
    }
   ],
   "source": [
    "resu.loc['beta_s[' + str(subj) + ']',:]['mean']"
   ]
  },
  {
   "cell_type": "code",
   "execution_count": 226,
   "id": "cd5f9a31",
   "metadata": {},
   "outputs": [
    {
     "data": {
      "image/png": "[encoded data removed]",
      "text/plain": [
       "<Figure size 432x288 with 1 Axes>"
      ]
     },
     "metadata": {
      "needs_background": "light"
     },
     "output_type": "display_data"
    }
   ],
   "source": [
    "subj = 2\n",
    "#ee_pp = resu.loc['e_p[' + str(subj) + ']',:]['mean']\n",
    "#ss_pp = resu.loc['s_p[' + str(subj) + ']',:]['mean']\n",
    "bbetas = resu.loc['beta_s[' + str(subj) + ']',:]['mean']\n",
    "choice_subj = choice[:, subj]\n",
    "ss_Amt_subj = ss_Amt[:, subj]\n",
    "ll_Amt_subj = ll_Amt[:, subj]\n",
    "\n",
    "temp_model = np.array(PPC.posterior_predictive['choice_later'])\n",
    "temp_model = temp_model.reshape((temp_model.shape[0]*temp_model.shape[1],temp_model.shape[2],temp_model.shape[3]))\n",
    "choice_model = temp_model[:,:,subj]\n",
    "\n",
    "temp_model = np.array(PPC.posterior_predictive['v_ss'])\n",
    "temp_model = temp_model.reshape((temp_model.shape[0]*temp_model.shape[1],temp_model.shape[2],temp_model.shape[3]))\n",
    "v_ss_Amt_model = temp_model[:,:,subj]\n",
    "\n",
    "temp_model = np.array(PPC.posterior_predictive['v_ll'])\n",
    "temp_model = temp_model.reshape((temp_model.shape[0]*temp_model.shape[1],temp_model.shape[2],temp_model.shape[3]))\n",
    "v_ll_Amt_model = temp_model[:,:,subj]\n",
    "\n",
    "#plt.scatter(ll_Amt_subj-ss_Amt_subj, choice_subj, label = 'Data subj ' + str(subj))\n",
    "#plt.scatter(ll_Amt_subj-ss_Amt_subj, choice_model.mean(axis=0), color='red', alpha = 0.4, label = 'Posterior Predictive (mean)')\n",
    "plt.scatter(v_ll_Amt_model.mean(axis=0)-v_ss_Amt_model.mean(axis=0), choice_subj, label = 'Data subj ' + str(subj), alpha = 0.6)\n",
    "plt.scatter(v_ll_Amt_model.mean(axis=0)-v_ss_Amt_model.mean(axis=0), choice_model.mean(axis=0), color='red', alpha = 0.5, label = 'Posterior Predictive (mean)')\n",
    "plt.plot(np.linspace(-30,30,100), 1/(1+np.exp(np.linspace(-30,30,100)*(-bbetas))),\n",
    "         color = 'black', label = 'Psychometric function (posterior mean)')\n",
    "plt.xlabel('Subj. value (posterior mean)\\nlater - sooner option')\n",
    "plt.ylabel('p(later option)')\n",
    "plt.legend();"
   ]
  },
  {
   "cell_type": "markdown",
   "id": "51c30eb2",
   "metadata": {
    "slideshow": {
     "slide_type": "slide"
    }
   },
   "source": [
    "## Hierarchical estimation"
   ]
  },
  {
   "cell_type": "markdown",
   "id": "33a59bd2",
   "metadata": {
    "slideshow": {
     "slide_type": "subslide"
    }
   },
   "source": [
    "<center><img src=\"img/10_CB/Bayes_estimation_discount.png\" width = \"700\" height = '700'></center>\n"
   ]
  },
  {
   "cell_type": "markdown",
   "id": "c9a3acb1",
   "metadata": {
    "slideshow": {
     "slide_type": "slide"
    }
   },
   "source": [
    "This is a more complex model: hierarchical and with magnitude effects.\n",
    "\n",
    "Hierarchical means that individuals share a structure (e.g. all come from the same culture/city/school), so their discount parameters come from a common source (but still individual).\n",
    "\n",
    "Magnitude effects mean that the discount factor is a function of the reward. In an hyperbolic discount,  \n",
    "\n",
    "$$Subj. Value = \\frac{Reward}{1+f(reward)Delay}$$\n",
    "\n",
    "Vincent proposes:\n",
    "\n",
    "$$f(reward) = exp^{m\\times log(reward)+c}$$"
   ]
  },
  {
   "cell_type": "code",
   "execution_count": 194,
   "id": "cb629efc",
   "metadata": {
    "slideshow": {
     "slide_type": "subslide"
    }
   },
   "outputs": [
    {
     "data": {
      "image/png": "[encoded data removed]",
      "text/plain": [
       "<Figure size 432x288 with 1 Axes>"
      ]
     },
     "metadata": {
      "needs_background": "light"
     },
     "output_type": "display_data"
    }
   ],
   "source": [
    "reward = np.linspace(1, 20, 100)\n",
    "mmm = -0.8\n",
    "ccc =  -1.1\n",
    "plt.plot(reward, np.exp(mmm*np.log(reward)+ccc));\n",
    "plt.xlabel('Reward (arbitrary units)')\n",
    "plt.ylabel('Discount factor');"
   ]
  },
  {
   "cell_type": "markdown",
   "id": "b69a783c",
   "metadata": {
    "slideshow": {
     "slide_type": "slide"
    }
   },
   "source": [
    "Choice is stochastic. Remember that the previous model used a sigmoid, specifically a logistic. Vincent also uses a sigmoid i.e. a standard normal CDF (with some additional parameters). \n",
    "\n",
    "$$ p(later \\; option) = \\epsilon + (1-2\\epsilon)\\phi\\left(\\frac{Subj.Value_{later}-Subj.Value_{sooner}}{\\alpha}\\right)$$ \n",
    "\n",
    "$\\epsilon$ is error rate <br>\n",
    "$\\alpha$ modulates discriminability between options"
   ]
  },
  {
   "cell_type": "code",
   "execution_count": 205,
   "id": "fc0e42af",
   "metadata": {},
   "outputs": [
    {
     "data": {
      "image/png": "[encoded data removed]",
      "text/plain": [
       "<Figure size 432x288 with 1 Axes>"
      ]
     },
     "metadata": {
      "needs_background": "light"
     },
     "output_type": "display_data"
    }
   ],
   "source": [
    "epsilon = 0.075 #base error rate and max performance\n",
    "alpha = 20 #ability to discriminate between subj. values\n",
    "Diff_subj_value = np.linspace(-60,60)\n",
    "plt.plot(Diff_subj_value,\n",
    "        epsilon + (1-2*epsilon)*st.norm.cdf(Diff_subj_value/alpha))\n",
    "plt.ylim((0,1))\n",
    "plt.xlabel('Subjective value\\nlater - sooner')\n",
    "plt.ylabel('p (later option)');"
   ]
  },
  {
   "cell_type": "markdown",
   "id": "afb2c29e",
   "metadata": {
    "slideshow": {
     "slide_type": "slide"
    }
   },
   "source": [
    "$\\epsilon$ is a base error rate e.g. due to inattention\n",
    "<center><img src=\"img/10_CB/Vincent2016-1.svg\" width = \"500\" height = '500'></center>\n"
   ]
  },
  {
   "cell_type": "markdown",
   "id": "e7ac6bca",
   "metadata": {
    "slideshow": {
     "slide_type": "slide"
    }
   },
   "source": [
    "<center><img src=\"img/10_CB/intertemp_diagram_hierarchical.svg\" width = \"800\" height = '800'></center>\n",
    "Note: $\\omega$ and $\\kappa$ modulate the error rate but Vincent does not justify those priors in his paper"
   ]
  },
  {
   "cell_type": "code",
   "execution_count": 123,
   "id": "8629ce0a",
   "metadata": {
    "slideshow": {
     "slide_type": "slide"
    }
   },
   "outputs": [],
   "source": [
    "#Load and data setup\n",
    "data_folder = 'data/10_CB/Benjamin_Vincent/kirby'\n",
    "ff = os.listdir(data_folder)\n",
    "unreadable_files = []\n",
    "onlyfiles = []\n",
    "counter_unreadable = 0\n",
    "for f in ff:\n",
    "    #print(f)\n",
    "    fff = data_folder + \"/\" + f\n",
    "    good_file = 0\n",
    "    unreadable = 0\n",
    "    if counter_unreadable < len(unreadable_files): \n",
    "        if f == unreadable_files[counter_unreadable]:\n",
    "            counter_unreadable = counter_unreadable+1\n",
    "            unreadable = 1\n",
    "    \n",
    "    if os.stat(fff).st_size > 250 and unreadable==0: #in bytes    \n",
    "        data_subj = pd.read_csv(fff)\n",
    "        nrows = data_subj.shape[0]\n",
    "        if nrows>5:\n",
    "            good_file = 1\n",
    "    x = re.search(\".txt\",f)\n",
    "    j = re.search('.~lock.',f) #linux or pavlovia seem to create this name files\n",
    "    if x and operator.not_(j) and good_file==1:\n",
    "        onlyfiles.append(f)\n",
    "#Column names mean:\n",
    "\n",
    "#A reward of option A\n",
    "#DA delay of option A, in days\n",
    "#PA probability of achieving the reward (not in Kirby's data)\n",
    "#B reward of option B\n",
    "#DB delay of option B, in days\n",
    "#PB probability of achieving the reward (not in Kirby's data)\n",
    "#R is the participant response.\n",
    "#The preferred way of coding participant responses R is by the unambiguous label A or B. \n",
    "#In Kirby's data coding scheme was R = 1 for chose delayed and R = 0 for chose immediate.\n",
    "\n",
    "\n",
    "for idx, f in enumerate(onlyfiles):\n",
    "    data = pd.read_table('data/10_CB/Benjamin_Vincent/kirby/'+f)\n",
    "    #data = data.loc[~data['ss_Amt'].isna(),:]\n",
    "    if idx == 0:\n",
    "        choice = np.array(data.loc[:,'R'], ndmin=2).T #0 sooner; 1 later\n",
    "        ss_Amt = np.array(data.loc[:,'A'], ndmin=2).T #sooner smaller amount \n",
    "        ss_Delay = np.array(data.loc[:,'DA'], ndmin=2).T \n",
    "        ll_Amt = np.array(data.loc[:,'B'], ndmin=2).T #later larger amount \n",
    "        ll_Delay = np.array(data.loc[:,'DB'], ndmin=2).T\n",
    "    else:\n",
    "        choice = np.concatenate([choice, np.array(data.loc[:,'R'], ndmin=2).T], axis=1)  #\n",
    "        ss_Amt = np.concatenate([ss_Amt, np.array(data.loc[:,'A'], ndmin=2).T], axis=1)  #sooner smaller amount \n",
    "        ss_Delay = np.concatenate([ss_Delay, np.array(data.loc[:,'DA'], ndmin=2).T], axis=1) \n",
    "        ll_Amt = np.concatenate([ll_Amt, np.array(data.loc[:,'B'], ndmin=2).T], axis=1)  #later larger amount \n",
    "        ll_Delay = np.concatenate([ll_Delay, np.array(data.loc[:,'DB'], ndmin=2).T], axis=1) \n",
    "    \n",
    "n = choice.shape[1] #len(onlyfiles)   \n"
   ]
  },
  {
   "cell_type": "code",
   "execution_count": 135,
   "id": "72427868",
   "metadata": {
    "slideshow": {
     "slide_type": "slide"
    }
   },
   "outputs": [
    {
     "name": "stderr",
     "output_type": "stream",
     "text": [
      "Auto-assigning NUTS sampler...\n",
      "Initializing NUTS using jitter+adapt_diag...\n",
      "Multiprocess sampling (4 chains in 4 jobs)\n",
      "NUTS: [Mu_c, Sigma_c, Mu_m, Sigma_m, omega, kappa, Mu_acuity, Sigma_acuity, c_p, m_p, e_p, s_p, phi]\n"
     ]
    },
    {
     "data": {
      "text/html": [
       "\n",
       "    <div>\n",
       "        <style>\n",
       "            /* Turns off some styling */\n",
       "            progress {\n",
       "                /* gets rid of default border in Firefox and Opera. */\n",
       "                border: none;\n",
       "                /* Needs to be in here for Safari polyfill so background images work as expected. */\n",
       "                background-size: auto;\n",
       "            }\n",
       "            .progress-bar-interrupted, .progress-bar-interrupted::-webkit-progress-bar {\n",
       "                background: #F44336;\n",
       "            }\n",
       "        </style>\n",
       "      <progress value='22000' class='' max='22000' style='width:300px; height:20px; vertical-align: middle;'></progress>\n",
       "      100.00% [22000/22000 14:16<00:00 Sampling 4 chains, 241 divergences]\n",
       "    </div>\n",
       "    "
      ],
      "text/plain": [
       "<IPython.core.display.HTML object>"
      ]
     },
     "metadata": {},
     "output_type": "display_data"
    },
    {
     "name": "stderr",
     "output_type": "stream",
     "text": [
      "Sampling 4 chains for 1_500 tune and 4_000 draw iterations (6_000 + 16_000 draws total) took 872 seconds.\n",
      "There were 31 divergences after tuning. Increase `target_accept` or reparameterize.\n",
      "There were 86 divergences after tuning. Increase `target_accept` or reparameterize.\n",
      "The acceptance probability does not match the target. It is 0.8857, but should be close to 0.95. Try to increase the number of tuning steps.\n",
      "There were 87 divergences after tuning. Increase `target_accept` or reparameterize.\n",
      "The acceptance probability does not match the target. It is 0.8917, but should be close to 0.95. Try to increase the number of tuning steps.\n",
      "There were 37 divergences after tuning. Increase `target_accept` or reparameterize.\n"
     ]
    },
    {
     "data": {
      "text/html": [
       "\n",
       "    <div>\n",
       "        <style>\n",
       "            /* Turns off some styling */\n",
       "            progress {\n",
       "                /* gets rid of default border in Firefox and Opera. */\n",
       "                border: none;\n",
       "                /* Needs to be in here for Safari polyfill so background images work as expected. */\n",
       "                background-size: auto;\n",
       "            }\n",
       "            .progress-bar-interrupted, .progress-bar-interrupted::-webkit-progress-bar {\n",
       "                background: #F44336;\n",
       "            }\n",
       "        </style>\n",
       "      <progress value='16000' class='' max='16000' style='width:300px; height:20px; vertical-align: middle;'></progress>\n",
       "      100.00% [16000/16000 00:03<00:00]\n",
       "    </div>\n",
       "    "
      ],
      "text/plain": [
       "<IPython.core.display.HTML object>"
      ]
     },
     "metadata": {},
     "output_type": "display_data"
    }
   ],
   "source": [
    "#https://www.pymc.io/projects/docs/en/stable/learn/core_notebooks/dimensionality.html\n",
    "with pm.Model() as hierarchical:\n",
    "    #Priors Group Level\n",
    "    #Benjamin Vincent implements an idea the the discount factor k is a function of the reward magnitude i.e\n",
    "    # log(k) = m*log(reward) + c  ... this is a linear function in log scale for the reward\n",
    "    # For choice probabilities, he uses a sigmoid i.e. a normal CDF with mu = f(reward differences) and sigma = free parameter \n",
    "    Mu_c = pm.Normal('Mu_c', mu = 0, sigma = 10000) #constant c\n",
    "    Sigma_c = pm.Uniform('Sigma_c', lower = 0, upper = 10000)\n",
    "    Mu_m = pm.Normal('Mu_m', mu = -2.43, sigma = 0.27) #slope m\n",
    "    Sigma_m = pm.TruncatedNormal('Sigma_m', mu = 0.072, sigma = 0.25, lower = 0)\n",
    "    #Mu_m = pm.Normal('Mu_m', mu = 0, sigma = 10) #slope m\n",
    "    #Sigma_m = pm.TruncatedNormal('Sigma_m', mu = 0, sigma = 10, lower = 0)\n",
    "    omega = pm.Beta('omega', alpha = 1.1, beta = 10.9)\n",
    "    kappa = pm.Gamma('kappa', alpha = 0.01, beta = 0.01)\n",
    "    Mu_acuity = pm.Uniform('Mu_acuity', lower = 0, upper = 1000) #choice acuity i.e. alpha (akin to temperature in a softmax)\n",
    "    Sigma_acuity = pm.Uniform('Sigma_acuity', lower = 0, upper = 1000)\n",
    "    \n",
    "    #Priors Participant Level\n",
    "    c_p = pm.Normal('c_p', mu = Mu_c, sigma = Sigma_c, shape = n) #constant c\n",
    "    m_p = pm.Normal('m_p', mu = Mu_m, sigma = Sigma_m, shape = n) #slope m\n",
    "    e_p = pm.Bound('e_p', \n",
    "                   pm.Beta.dist(alpha = omega*(kappa-2) + 1, beta = (1-omega)*(kappa-2) + 1), \n",
    "                   #pm.Beta.dist(alpha = 1, beta = 1), \n",
    "                   lower = 0.0, upper = 0.5, shape = n) #choice-error\n",
    "    s_p = pm.TruncatedNormal('s_p', mu = Mu_acuity, sigma = Sigma_acuity, lower = 0, shape = n) #choice acuity i.e. alpha\n",
    "    \n",
    "    #Likelihood\n",
    "    k_ss = at.exp(np.log(ss_Amt)*m_p+c_p)\n",
    "    k_ll = at.exp(np.log(ll_Amt)*m_p+c_p)\n",
    "    \n",
    "    v_ss = pm.Deterministic('v_ss', ss_Amt/(1+ss_Delay*k_ss)) #smaller sooner value\n",
    "    v_ll = pm.Deterministic('v_ll', ll_Amt/(1+ll_Delay*k_ll)) #later larger value\n",
    "    \n",
    "    \n",
    "    phi = pm.Normal('phi', mu=0, sigma=1)\n",
    "    #p_later = e_p + (1-2*e_p) * at.exp(pm.logcdf(phi, (v_ll-v_ss)/s_p)) # \n",
    "    p_later =  pm.Deterministic('p_later', e_p + (1-2*e_p) * at.exp(pm.logcdf(phi, (v_ll-v_ss)/s_p)))\n",
    "    \n",
    "    choice_later = pm.Bernoulli(\"choice_later\", p = p_later, observed = choice)\n",
    "\n",
    "    trace = pm.sample(4000, tune=1500, target_accept=0.95, cores=4, chains = 4)\n",
    "    PPC =  pm.sample_posterior_predictive(trace, var_names = ['choice_later','v_ss', 'v_ll', 'p_later'])"
   ]
  },
  {
   "cell_type": "code",
   "execution_count": 128,
   "id": "c98dbfd0",
   "metadata": {},
   "outputs": [
    {
     "name": "stderr",
     "output_type": "stream",
     "text": [
      "c:\\users\\santiago diaz\\appdata\\local\\programs\\python\\python39\\lib\\site-packages\\arviz\\stats\\diagnostics.py:586: RuntimeWarning: invalid value encountered in double_scalars\n",
      "  (between_chain_variance / within_chain_variance + num_samples - 1) / (num_samples)\n"
     ]
    },
    {
     "data": {
      "text/plain": [
       "0.0"
      ]
     },
     "execution_count": 128,
     "metadata": {},
     "output_type": "execute_result"
    }
   ],
   "source": [
    "resu=az.summary(trace)\n",
    "(resu['r_hat']>1.05).mean()"
   ]
  },
  {
   "cell_type": "code",
   "execution_count": 159,
   "id": "11a20b92",
   "metadata": {},
   "outputs": [
    {
     "data": {
      "text/plain": [
       "[mean           -1.485\n",
       " sd              0.158\n",
       " hdi_3%         -1.784\n",
       " hdi_97%        -1.198\n",
       " mcse_mean       0.007\n",
       " mcse_sd         0.005\n",
       " ess_bulk      524.000\n",
       " ess_tail     1374.000\n",
       " r_hat           1.000\n",
       " Name: Mu_m, dtype: float64,\n",
       " mean            1.395\n",
       " sd              0.646\n",
       " hdi_3%          0.196\n",
       " hdi_97%         2.619\n",
       " mcse_mean       0.028\n",
       " mcse_sd         0.020\n",
       " ess_bulk      525.000\n",
       " ess_tail     1293.000\n",
       " r_hat           1.000\n",
       " Name: Mu_c, dtype: float64,\n",
       " mean            3.292\n",
       " sd              1.661\n",
       " hdi_3%          0.066\n",
       " hdi_97%         5.778\n",
       " mcse_mean       0.064\n",
       " mcse_sd         0.045\n",
       " ess_bulk      711.000\n",
       " ess_tail     2361.000\n",
       " r_hat           1.000\n",
       " Name: Mu_acuity, dtype: float64,\n",
       " 0.01]"
      ]
     },
     "execution_count": 159,
     "metadata": {},
     "output_type": "execute_result"
    }
   ],
   "source": [
    "[resu.loc['Mu_m',:], resu.loc['Mu_c',:], resu.loc['Mu_acuity',:], resu.loc['e_p[8]',:]['mean']]"
   ]
  },
  {
   "cell_type": "code",
   "execution_count": 121,
   "id": "7dee07a1",
   "metadata": {},
   "outputs": [
    {
     "data": {
      "text/html": [
       "<div><svg style=\"position: absolute; width: 0; height: 0; overflow: hidden\">\n",
       "<defs>\n",
       "<symbol id=\"icon-database\" viewBox=\"0 0 32 32\">\n",
       "<path d=\"M16 0c-8.837 0-16 2.239-16 5v4c0 2.761 7.163 5 16 5s16-2.239 16-5v-4c0-2.761-7.163-5-16-5z\"></path>\n",
       "<path d=\"M16 17c-8.837 0-16-2.239-16-5v6c0 2.761 7.163 5 16 5s16-2.239 16-5v-6c0 2.761-7.163 5-16 5z\"></path>\n",
       "<path d=\"M16 26c-8.837 0-16-2.239-16-5v6c0 2.761 7.163 5 16 5s16-2.239 16-5v-6c0 2.761-7.163 5-16 5z\"></path>\n",
       "</symbol>\n",
       "<symbol id=\"icon-file-text2\" viewBox=\"0 0 32 32\">\n",
       "<path d=\"M28.681 7.159c-0.694-0.947-1.662-2.053-2.724-3.116s-2.169-2.030-3.116-2.724c-1.612-1.182-2.393-1.319-2.841-1.319h-15.5c-1.378 0-2.5 1.121-2.5 2.5v27c0 1.378 1.122 2.5 2.5 2.5h23c1.378 0 2.5-1.122 2.5-2.5v-19.5c0-0.448-0.137-1.23-1.319-2.841zM24.543 5.457c0.959 0.959 1.712 1.825 2.268 2.543h-4.811v-4.811c0.718 0.556 1.584 1.309 2.543 2.268zM28 29.5c0 0.271-0.229 0.5-0.5 0.5h-23c-0.271 0-0.5-0.229-0.5-0.5v-27c0-0.271 0.229-0.5 0.5-0.5 0 0 15.499-0 15.5 0v7c0 0.552 0.448 1 1 1h7v19.5z\"></path>\n",
       "<path d=\"M23 26h-14c-0.552 0-1-0.448-1-1s0.448-1 1-1h14c0.552 0 1 0.448 1 1s-0.448 1-1 1z\"></path>\n",
       "<path d=\"M23 22h-14c-0.552 0-1-0.448-1-1s0.448-1 1-1h14c0.552 0 1 0.448 1 1s-0.448 1-1 1z\"></path>\n",
       "<path d=\"M23 18h-14c-0.552 0-1-0.448-1-1s0.448-1 1-1h14c0.552 0 1 0.448 1 1s-0.448 1-1 1z\"></path>\n",
       "</symbol>\n",
       "</defs>\n",
       "</svg>\n",
       "<style>/* CSS stylesheet for displaying xarray objects in jupyterlab.\n",
       " *\n",
       " */\n",
       "\n",
       ":root {\n",
       "  --xr-font-color0: var(--jp-content-font-color0, rgba(0, 0, 0, 1));\n",
       "  --xr-font-color2: var(--jp-content-font-color2, rgba(0, 0, 0, 0.54));\n",
       "  --xr-font-color3: var(--jp-content-font-color3, rgba(0, 0, 0, 0.38));\n",
       "  --xr-border-color: var(--jp-border-color2, #e0e0e0);\n",
       "  --xr-disabled-color: var(--jp-layout-color3, #bdbdbd);\n",
       "  --xr-background-color: var(--jp-layout-color0, white);\n",
       "  --xr-background-color-row-even: var(--jp-layout-color1, white);\n",
       "  --xr-background-color-row-odd: var(--jp-layout-color2, #eeeeee);\n",
       "}\n",
       "\n",
       "html[theme=dark],\n",
       "body.vscode-dark {\n",
       "  --xr-font-color0: rgba(255, 255, 255, 1);\n",
       "  --xr-font-color2: rgba(255, 255, 255, 0.54);\n",
       "  --xr-font-color3: rgba(255, 255, 255, 0.38);\n",
       "  --xr-border-color: #1F1F1F;\n",
       "  --xr-disabled-color: #515151;\n",
       "  --xr-background-color: #111111;\n",
       "  --xr-background-color-row-even: #111111;\n",
       "  --xr-background-color-row-odd: #313131;\n",
       "}\n",
       "\n",
       ".xr-wrap {\n",
       "  display: block;\n",
       "  min-width: 300px;\n",
       "  max-width: 700px;\n",
       "}\n",
       "\n",
       ".xr-text-repr-fallback {\n",
       "  /* fallback to plain text repr when CSS is not injected (untrusted notebook) */\n",
       "  display: none;\n",
       "}\n",
       "\n",
       ".xr-header {\n",
       "  padding-top: 6px;\n",
       "  padding-bottom: 6px;\n",
       "  margin-bottom: 4px;\n",
       "  border-bottom: solid 1px var(--xr-border-color);\n",
       "}\n",
       "\n",
       ".xr-header > div,\n",
       ".xr-header > ul {\n",
       "  display: inline;\n",
       "  margin-top: 0;\n",
       "  margin-bottom: 0;\n",
       "}\n",
       "\n",
       ".xr-obj-type,\n",
       ".xr-array-name {\n",
       "  margin-left: 2px;\n",
       "  margin-right: 10px;\n",
       "}\n",
       "\n",
       ".xr-obj-type {\n",
       "  color: var(--xr-font-color2);\n",
       "}\n",
       "\n",
       ".xr-sections {\n",
       "  padding-left: 0 !important;\n",
       "  display: grid;\n",
       "  grid-template-columns: 150px auto auto 1fr 20px 20px;\n",
       "}\n",
       "\n",
       ".xr-section-item {\n",
       "  display: contents;\n",
       "}\n",
       "\n",
       ".xr-section-item input {\n",
       "  display: none;\n",
       "}\n",
       "\n",
       ".xr-section-item input + label {\n",
       "  color: var(--xr-disabled-color);\n",
       "}\n",
       "\n",
       ".xr-section-item input:enabled + label {\n",
       "  cursor: pointer;\n",
       "  color: var(--xr-font-color2);\n",
       "}\n",
       "\n",
       ".xr-section-item input:enabled + label:hover {\n",
       "  color: var(--xr-font-color0);\n",
       "}\n",
       "\n",
       ".xr-section-summary {\n",
       "  grid-column: 1;\n",
       "  color: var(--xr-font-color2);\n",
       "  font-weight: 500;\n",
       "}\n",
       "\n",
       ".xr-section-summary > span {\n",
       "  display: inline-block;\n",
       "  padding-left: 0.5em;\n",
       "}\n",
       "\n",
       ".xr-section-summary-in:disabled + label {\n",
       "  color: var(--xr-font-color2);\n",
       "}\n",
       "\n",
       ".xr-section-summary-in + label:before {\n",
       "  display: inline-block;\n",
       "  content: '►';\n",
       "  font-size: 11px;\n",
       "  width: 15px;\n",
       "  text-align: center;\n",
       "}\n",
       "\n",
       ".xr-section-summary-in:disabled + label:before {\n",
       "  color: var(--xr-disabled-color);\n",
       "}\n",
       "\n",
       ".xr-section-summary-in:checked + label:before {\n",
       "  content: '▼';\n",
       "}\n",
       "\n",
       ".xr-section-summary-in:checked + label > span {\n",
       "  display: none;\n",
       "}\n",
       "\n",
       ".xr-section-summary,\n",
       ".xr-section-inline-details {\n",
       "  padding-top: 4px;\n",
       "  padding-bottom: 4px;\n",
       "}\n",
       "\n",
       ".xr-section-inline-details {\n",
       "  grid-column: 2 / -1;\n",
       "}\n",
       "\n",
       ".xr-section-details {\n",
       "  display: none;\n",
       "  grid-column: 1 / -1;\n",
       "  margin-bottom: 5px;\n",
       "}\n",
       "\n",
       ".xr-section-summary-in:checked ~ .xr-section-details {\n",
       "  display: contents;\n",
       "}\n",
       "\n",
       ".xr-array-wrap {\n",
       "  grid-column: 1 / -1;\n",
       "  display: grid;\n",
       "  grid-template-columns: 20px auto;\n",
       "}\n",
       "\n",
       ".xr-array-wrap > label {\n",
       "  grid-column: 1;\n",
       "  vertical-align: top;\n",
       "}\n",
       "\n",
       ".xr-preview {\n",
       "  color: var(--xr-font-color3);\n",
       "}\n",
       "\n",
       ".xr-array-preview,\n",
       ".xr-array-data {\n",
       "  padding: 0 5px !important;\n",
       "  grid-column: 2;\n",
       "}\n",
       "\n",
       ".xr-array-data,\n",
       ".xr-array-in:checked ~ .xr-array-preview {\n",
       "  display: none;\n",
       "}\n",
       "\n",
       ".xr-array-in:checked ~ .xr-array-data,\n",
       ".xr-array-preview {\n",
       "  display: inline-block;\n",
       "}\n",
       "\n",
       ".xr-dim-list {\n",
       "  display: inline-block !important;\n",
       "  list-style: none;\n",
       "  padding: 0 !important;\n",
       "  margin: 0;\n",
       "}\n",
       "\n",
       ".xr-dim-list li {\n",
       "  display: inline-block;\n",
       "  padding: 0;\n",
       "  margin: 0;\n",
       "}\n",
       "\n",
       ".xr-dim-list:before {\n",
       "  content: '(';\n",
       "}\n",
       "\n",
       ".xr-dim-list:after {\n",
       "  content: ')';\n",
       "}\n",
       "\n",
       ".xr-dim-list li:not(:last-child):after {\n",
       "  content: ',';\n",
       "  padding-right: 5px;\n",
       "}\n",
       "\n",
       ".xr-has-index {\n",
       "  font-weight: bold;\n",
       "}\n",
       "\n",
       ".xr-var-list,\n",
       ".xr-var-item {\n",
       "  display: contents;\n",
       "}\n",
       "\n",
       ".xr-var-item > div,\n",
       ".xr-var-item label,\n",
       ".xr-var-item > .xr-var-name span {\n",
       "  background-color: var(--xr-background-color-row-even);\n",
       "  margin-bottom: 0;\n",
       "}\n",
       "\n",
       ".xr-var-item > .xr-var-name:hover span {\n",
       "  padding-right: 5px;\n",
       "}\n",
       "\n",
       ".xr-var-list > li:nth-child(odd) > div,\n",
       ".xr-var-list > li:nth-child(odd) > label,\n",
       ".xr-var-list > li:nth-child(odd) > .xr-var-name span {\n",
       "  background-color: var(--xr-background-color-row-odd);\n",
       "}\n",
       "\n",
       ".xr-var-name {\n",
       "  grid-column: 1;\n",
       "}\n",
       "\n",
       ".xr-var-dims {\n",
       "  grid-column: 2;\n",
       "}\n",
       "\n",
       ".xr-var-dtype {\n",
       "  grid-column: 3;\n",
       "  text-align: right;\n",
       "  color: var(--xr-font-color2);\n",
       "}\n",
       "\n",
       ".xr-var-preview {\n",
       "  grid-column: 4;\n",
       "}\n",
       "\n",
       ".xr-var-name,\n",
       ".xr-var-dims,\n",
       ".xr-var-dtype,\n",
       ".xr-preview,\n",
       ".xr-attrs dt {\n",
       "  white-space: nowrap;\n",
       "  overflow: hidden;\n",
       "  text-overflow: ellipsis;\n",
       "  padding-right: 10px;\n",
       "}\n",
       "\n",
       ".xr-var-name:hover,\n",
       ".xr-var-dims:hover,\n",
       ".xr-var-dtype:hover,\n",
       ".xr-attrs dt:hover {\n",
       "  overflow: visible;\n",
       "  width: auto;\n",
       "  z-index: 1;\n",
       "}\n",
       "\n",
       ".xr-var-attrs,\n",
       ".xr-var-data {\n",
       "  display: none;\n",
       "  background-color: var(--xr-background-color) !important;\n",
       "  padding-bottom: 5px !important;\n",
       "}\n",
       "\n",
       ".xr-var-attrs-in:checked ~ .xr-var-attrs,\n",
       ".xr-var-data-in:checked ~ .xr-var-data {\n",
       "  display: block;\n",
       "}\n",
       "\n",
       ".xr-var-data > table {\n",
       "  float: right;\n",
       "}\n",
       "\n",
       ".xr-var-name span,\n",
       ".xr-var-data,\n",
       ".xr-attrs {\n",
       "  padding-left: 25px !important;\n",
       "}\n",
       "\n",
       ".xr-attrs,\n",
       ".xr-var-attrs,\n",
       ".xr-var-data {\n",
       "  grid-column: 1 / -1;\n",
       "}\n",
       "\n",
       "dl.xr-attrs {\n",
       "  padding: 0;\n",
       "  margin: 0;\n",
       "  display: grid;\n",
       "  grid-template-columns: 125px auto;\n",
       "}\n",
       "\n",
       ".xr-attrs dt,\n",
       ".xr-attrs dd {\n",
       "  padding: 0;\n",
       "  margin: 0;\n",
       "  float: left;\n",
       "  padding-right: 10px;\n",
       "  width: auto;\n",
       "}\n",
       "\n",
       ".xr-attrs dt {\n",
       "  font-weight: normal;\n",
       "  grid-column: 1;\n",
       "}\n",
       "\n",
       ".xr-attrs dt:hover span {\n",
       "  display: inline-block;\n",
       "  background: var(--xr-background-color);\n",
       "  padding-right: 10px;\n",
       "}\n",
       "\n",
       ".xr-attrs dd {\n",
       "  grid-column: 2;\n",
       "  white-space: pre-wrap;\n",
       "  word-break: break-all;\n",
       "}\n",
       "\n",
       ".xr-icon-database,\n",
       ".xr-icon-file-text2 {\n",
       "  display: inline-block;\n",
       "  vertical-align: middle;\n",
       "  width: 1em;\n",
       "  height: 1.5em !important;\n",
       "  stroke-width: 0;\n",
       "  stroke: currentColor;\n",
       "  fill: currentColor;\n",
       "}\n",
       "</style><pre class='xr-text-repr-fallback'>&lt;xarray.Dataset&gt;\n",
       "Dimensions:        (c_p_dim_0: 15, chain: 4, draw: 4000, e_p_dim_0: 15, m_p_dim_0: 15, p_later_dim_0: 27, p_later_dim_1: 15, s_p_dim_0: 15, v_ll_dim_0: 27, v_ll_dim_1: 15, v_ss_dim_0: 27, v_ss_dim_1: 15)\n",
       "Coordinates:\n",
       "  * chain          (chain) int32 0 1 2 3\n",
       "  * draw           (draw) int32 0 1 2 3 4 5 6 ... 3994 3995 3996 3997 3998 3999\n",
       "  * c_p_dim_0      (c_p_dim_0) int32 0 1 2 3 4 5 6 7 8 9 10 11 12 13 14\n",
       "  * m_p_dim_0      (m_p_dim_0) int32 0 1 2 3 4 5 6 7 8 9 10 11 12 13 14\n",
       "  * e_p_dim_0      (e_p_dim_0) int32 0 1 2 3 4 5 6 7 8 9 10 11 12 13 14\n",
       "  * s_p_dim_0      (s_p_dim_0) int32 0 1 2 3 4 5 6 7 8 9 10 11 12 13 14\n",
       "  * v_ss_dim_0     (v_ss_dim_0) int32 0 1 2 3 4 5 6 7 ... 20 21 22 23 24 25 26\n",
       "  * v_ss_dim_1     (v_ss_dim_1) int32 0 1 2 3 4 5 6 7 8 9 10 11 12 13 14\n",
       "  * v_ll_dim_0     (v_ll_dim_0) int32 0 1 2 3 4 5 6 7 ... 20 21 22 23 24 25 26\n",
       "  * v_ll_dim_1     (v_ll_dim_1) int32 0 1 2 3 4 5 6 7 8 9 10 11 12 13 14\n",
       "  * p_later_dim_0  (p_later_dim_0) int32 0 1 2 3 4 5 6 ... 20 21 22 23 24 25 26\n",
       "  * p_later_dim_1  (p_later_dim_1) int32 0 1 2 3 4 5 6 7 8 9 10 11 12 13 14\n",
       "Data variables: (12/16)\n",
       "    Mu_c           (chain, draw) float64 -8.813 -9.211 -9.247 ... -8.79 -8.881\n",
       "    Mu_m           (chain, draw) float64 -1.492 -1.566 -1.567 ... -1.505 -1.452\n",
       "    c_p            (chain, draw, c_p_dim_0) float64 -8.66 -8.086 ... -9.183\n",
       "    m_p            (chain, draw, m_p_dim_0) float64 -1.434 -1.377 ... -1.5\n",
       "    phi            (chain, draw) float64 -0.8431 0.8413 -0.784 ... 0.6954 -2.504\n",
       "    Sigma_c        (chain, draw) float64 1.068 0.2868 0.7123 ... 0.2817 0.7402\n",
       "    ...             ...\n",
       "    Sigma_acuity   (chain, draw) float64 0.001328 0.001956 ... 0.005664 0.003749\n",
       "    e_p            (chain, draw, e_p_dim_0) float64 0.03427 0.01622 ... 0.008056\n",
       "    s_p            (chain, draw, s_p_dim_0) float64 0.001602 ... 0.01108\n",
       "    v_ss           (chain, draw, v_ss_dim_0, v_ss_dim_1) float64 0.08 ... 0.055\n",
       "    v_ll           (chain, draw, v_ll_dim_0, v_ll_dim_1) float64 0.04395 ... ...\n",
       "    p_later        (chain, draw, p_later_dim_0, p_later_dim_1) float64 0.0342...\n",
       "Attributes:\n",
       "    created_at:                 2022-07-17T17:20:22.471665\n",
       "    arviz_version:              0.12.0\n",
       "    inference_library:          pymc\n",
       "    inference_library_version:  4.1.3\n",
       "    sampling_time:              498.0364911556244\n",
       "    tuning_steps:               1500</pre><div class='xr-wrap' hidden><div class='xr-header'><div class='xr-obj-type'>xarray.Dataset</div></div><ul class='xr-sections'><li class='xr-section-item'><input id='section-d2ec8aef-5cd9-4cd3-99d7-4e558cb83a0f' class='xr-section-summary-in' type='checkbox' disabled ><label for='section-d2ec8aef-5cd9-4cd3-99d7-4e558cb83a0f' class='xr-section-summary'  title='Expand/collapse section'>Dimensions:</label><div class='xr-section-inline-details'><ul class='xr-dim-list'><li><span class='xr-has-index'>c_p_dim_0</span>: 15</li><li><span class='xr-has-index'>chain</span>: 4</li><li><span class='xr-has-index'>draw</span>: 4000</li><li><span class='xr-has-index'>e_p_dim_0</span>: 15</li><li><span class='xr-has-index'>m_p_dim_0</span>: 15</li><li><span class='xr-has-index'>p_later_dim_0</span>: 27</li><li><span class='xr-has-index'>p_later_dim_1</span>: 15</li><li><span class='xr-has-index'>s_p_dim_0</span>: 15</li><li><span class='xr-has-index'>v_ll_dim_0</span>: 27</li><li><span class='xr-has-index'>v_ll_dim_1</span>: 15</li><li><span class='xr-has-index'>v_ss_dim_0</span>: 27</li><li><span class='xr-has-index'>v_ss_dim_1</span>: 15</li></ul></div><div class='xr-section-details'></div></li><li class='xr-section-item'><input id='section-a0c180c2-0bcf-42d7-9e5d-b283a062d7e1' class='xr-section-summary-in' type='checkbox'  checked><label for='section-a0c180c2-0bcf-42d7-9e5d-b283a062d7e1' class='xr-section-summary' >Coordinates: <span>(12)</span></label><div class='xr-section-inline-details'></div><div class='xr-section-details'><ul class='xr-var-list'><li class='xr-var-item'><div class='xr-var-name'><span class='xr-has-index'>chain</span></div><div class='xr-var-dims'>(chain)</div><div class='xr-var-dtype'>int32</div><div class='xr-var-preview xr-preview'>0 1 2 3</div><input id='attrs-f2418f76-8076-40a4-a55d-0fc54d8fed6d' class='xr-var-attrs-in' type='checkbox' disabled><label for='attrs-f2418f76-8076-40a4-a55d-0fc54d8fed6d' title='Show/Hide attributes'><svg class='icon xr-icon-file-text2'><use xlink:href='#icon-file-text2'></use></svg></label><input id='data-3b14ad70-e43f-44b0-81ab-5d2ebbb85fd5' class='xr-var-data-in' type='checkbox'><label for='data-3b14ad70-e43f-44b0-81ab-5d2ebbb85fd5' title='Show/Hide data repr'><svg class='icon xr-icon-database'><use xlink:href='#icon-database'></use></svg></label><div class='xr-var-attrs'><dl class='xr-attrs'></dl></div><div class='xr-var-data'><pre>array([0, 1, 2, 3])</pre></div></li><li class='xr-var-item'><div class='xr-var-name'><span class='xr-has-index'>draw</span></div><div class='xr-var-dims'>(draw)</div><div class='xr-var-dtype'>int32</div><div class='xr-var-preview xr-preview'>0 1 2 3 4 ... 3996 3997 3998 3999</div><input id='attrs-d79e1b41-2ada-4bfd-8e4a-1b8f5f4f91b7' class='xr-var-attrs-in' type='checkbox' disabled><label for='attrs-d79e1b41-2ada-4bfd-8e4a-1b8f5f4f91b7' title='Show/Hide attributes'><svg class='icon xr-icon-file-text2'><use xlink:href='#icon-file-text2'></use></svg></label><input id='data-d7e17a54-5046-40c6-bb9b-fdae8ac7d70f' class='xr-var-data-in' type='checkbox'><label for='data-d7e17a54-5046-40c6-bb9b-fdae8ac7d70f' title='Show/Hide data repr'><svg class='icon xr-icon-database'><use xlink:href='#icon-database'></use></svg></label><div class='xr-var-attrs'><dl class='xr-attrs'></dl></div><div class='xr-var-data'><pre>array([   0,    1,    2, ..., 3997, 3998, 3999])</pre></div></li><li class='xr-var-item'><div class='xr-var-name'><span class='xr-has-index'>c_p_dim_0</span></div><div class='xr-var-dims'>(c_p_dim_0)</div><div class='xr-var-dtype'>int32</div><div class='xr-var-preview xr-preview'>0 1 2 3 4 5 6 7 8 9 10 11 12 13 14</div><input id='attrs-1555338b-e85e-43da-8441-4cd738807507' class='xr-var-attrs-in' type='checkbox' disabled><label for='attrs-1555338b-e85e-43da-8441-4cd738807507' title='Show/Hide attributes'><svg class='icon xr-icon-file-text2'><use xlink:href='#icon-file-text2'></use></svg></label><input id='data-91982d51-17dd-4abe-928b-323fe2ec0192' class='xr-var-data-in' type='checkbox'><label for='data-91982d51-17dd-4abe-928b-323fe2ec0192' title='Show/Hide data repr'><svg class='icon xr-icon-database'><use xlink:href='#icon-database'></use></svg></label><div class='xr-var-attrs'><dl class='xr-attrs'></dl></div><div class='xr-var-data'><pre>array([ 0,  1,  2,  3,  4,  5,  6,  7,  8,  9, 10, 11, 12, 13, 14])</pre></div></li><li class='xr-var-item'><div class='xr-var-name'><span class='xr-has-index'>m_p_dim_0</span></div><div class='xr-var-dims'>(m_p_dim_0)</div><div class='xr-var-dtype'>int32</div><div class='xr-var-preview xr-preview'>0 1 2 3 4 5 6 7 8 9 10 11 12 13 14</div><input id='attrs-6ae4a992-ea4b-4910-9285-8a6bd4805227' class='xr-var-attrs-in' type='checkbox' disabled><label for='attrs-6ae4a992-ea4b-4910-9285-8a6bd4805227' title='Show/Hide attributes'><svg class='icon xr-icon-file-text2'><use xlink:href='#icon-file-text2'></use></svg></label><input id='data-b2706832-88cd-4478-b7e7-450f9514489e' class='xr-var-data-in' type='checkbox'><label for='data-b2706832-88cd-4478-b7e7-450f9514489e' title='Show/Hide data repr'><svg class='icon xr-icon-database'><use xlink:href='#icon-database'></use></svg></label><div class='xr-var-attrs'><dl class='xr-attrs'></dl></div><div class='xr-var-data'><pre>array([ 0,  1,  2,  3,  4,  5,  6,  7,  8,  9, 10, 11, 12, 13, 14])</pre></div></li><li class='xr-var-item'><div class='xr-var-name'><span class='xr-has-index'>e_p_dim_0</span></div><div class='xr-var-dims'>(e_p_dim_0)</div><div class='xr-var-dtype'>int32</div><div class='xr-var-preview xr-preview'>0 1 2 3 4 5 6 7 8 9 10 11 12 13 14</div><input id='attrs-5d48ea5c-c25a-4094-b355-e5203cca2805' class='xr-var-attrs-in' type='checkbox' disabled><label for='attrs-5d48ea5c-c25a-4094-b355-e5203cca2805' title='Show/Hide attributes'><svg class='icon xr-icon-file-text2'><use xlink:href='#icon-file-text2'></use></svg></label><input id='data-c387d506-e967-4ec3-bd83-249107fcc33a' class='xr-var-data-in' type='checkbox'><label for='data-c387d506-e967-4ec3-bd83-249107fcc33a' title='Show/Hide data repr'><svg class='icon xr-icon-database'><use xlink:href='#icon-database'></use></svg></label><div class='xr-var-attrs'><dl class='xr-attrs'></dl></div><div class='xr-var-data'><pre>array([ 0,  1,  2,  3,  4,  5,  6,  7,  8,  9, 10, 11, 12, 13, 14])</pre></div></li><li class='xr-var-item'><div class='xr-var-name'><span class='xr-has-index'>s_p_dim_0</span></div><div class='xr-var-dims'>(s_p_dim_0)</div><div class='xr-var-dtype'>int32</div><div class='xr-var-preview xr-preview'>0 1 2 3 4 5 6 7 8 9 10 11 12 13 14</div><input id='attrs-2128446b-19b4-4f9d-8b50-6ddcef8318cb' class='xr-var-attrs-in' type='checkbox' disabled><label for='attrs-2128446b-19b4-4f9d-8b50-6ddcef8318cb' title='Show/Hide attributes'><svg class='icon xr-icon-file-text2'><use xlink:href='#icon-file-text2'></use></svg></label><input id='data-e5705e27-bedc-4b87-9b71-3298bf3dd3d6' class='xr-var-data-in' type='checkbox'><label for='data-e5705e27-bedc-4b87-9b71-3298bf3dd3d6' title='Show/Hide data repr'><svg class='icon xr-icon-database'><use xlink:href='#icon-database'></use></svg></label><div class='xr-var-attrs'><dl class='xr-attrs'></dl></div><div class='xr-var-data'><pre>array([ 0,  1,  2,  3,  4,  5,  6,  7,  8,  9, 10, 11, 12, 13, 14])</pre></div></li><li class='xr-var-item'><div class='xr-var-name'><span class='xr-has-index'>v_ss_dim_0</span></div><div class='xr-var-dims'>(v_ss_dim_0)</div><div class='xr-var-dtype'>int32</div><div class='xr-var-preview xr-preview'>0 1 2 3 4 5 6 ... 21 22 23 24 25 26</div><input id='attrs-f9547959-30c8-4e4f-8f76-c221f3d5160b' class='xr-var-attrs-in' type='checkbox' disabled><label for='attrs-f9547959-30c8-4e4f-8f76-c221f3d5160b' title='Show/Hide attributes'><svg class='icon xr-icon-file-text2'><use xlink:href='#icon-file-text2'></use></svg></label><input id='data-20d75db9-6baf-47c0-bd06-5b293a07c4b0' class='xr-var-data-in' type='checkbox'><label for='data-20d75db9-6baf-47c0-bd06-5b293a07c4b0' title='Show/Hide data repr'><svg class='icon xr-icon-database'><use xlink:href='#icon-database'></use></svg></label><div class='xr-var-attrs'><dl class='xr-attrs'></dl></div><div class='xr-var-data'><pre>array([ 0,  1,  2,  3,  4,  5,  6,  7,  8,  9, 10, 11, 12, 13, 14, 15, 16, 17,\n",
       "       18, 19, 20, 21, 22, 23, 24, 25, 26])</pre></div></li><li class='xr-var-item'><div class='xr-var-name'><span class='xr-has-index'>v_ss_dim_1</span></div><div class='xr-var-dims'>(v_ss_dim_1)</div><div class='xr-var-dtype'>int32</div><div class='xr-var-preview xr-preview'>0 1 2 3 4 5 6 7 8 9 10 11 12 13 14</div><input id='attrs-167f764d-d855-4882-b392-3d372c292343' class='xr-var-attrs-in' type='checkbox' disabled><label for='attrs-167f764d-d855-4882-b392-3d372c292343' title='Show/Hide attributes'><svg class='icon xr-icon-file-text2'><use xlink:href='#icon-file-text2'></use></svg></label><input id='data-d20e5f56-afef-4449-ab13-93aba0194556' class='xr-var-data-in' type='checkbox'><label for='data-d20e5f56-afef-4449-ab13-93aba0194556' title='Show/Hide data repr'><svg class='icon xr-icon-database'><use xlink:href='#icon-database'></use></svg></label><div class='xr-var-attrs'><dl class='xr-attrs'></dl></div><div class='xr-var-data'><pre>array([ 0,  1,  2,  3,  4,  5,  6,  7,  8,  9, 10, 11, 12, 13, 14])</pre></div></li><li class='xr-var-item'><div class='xr-var-name'><span class='xr-has-index'>v_ll_dim_0</span></div><div class='xr-var-dims'>(v_ll_dim_0)</div><div class='xr-var-dtype'>int32</div><div class='xr-var-preview xr-preview'>0 1 2 3 4 5 6 ... 21 22 23 24 25 26</div><input id='attrs-9ba2df90-f45a-4bab-86d0-16f581da4416' class='xr-var-attrs-in' type='checkbox' disabled><label for='attrs-9ba2df90-f45a-4bab-86d0-16f581da4416' title='Show/Hide attributes'><svg class='icon xr-icon-file-text2'><use xlink:href='#icon-file-text2'></use></svg></label><input id='data-a66e8dbe-14e1-4fbc-9fd2-9c27e2883ce4' class='xr-var-data-in' type='checkbox'><label for='data-a66e8dbe-14e1-4fbc-9fd2-9c27e2883ce4' title='Show/Hide data repr'><svg class='icon xr-icon-database'><use xlink:href='#icon-database'></use></svg></label><div class='xr-var-attrs'><dl class='xr-attrs'></dl></div><div class='xr-var-data'><pre>array([ 0,  1,  2,  3,  4,  5,  6,  7,  8,  9, 10, 11, 12, 13, 14, 15, 16, 17,\n",
       "       18, 19, 20, 21, 22, 23, 24, 25, 26])</pre></div></li><li class='xr-var-item'><div class='xr-var-name'><span class='xr-has-index'>v_ll_dim_1</span></div><div class='xr-var-dims'>(v_ll_dim_1)</div><div class='xr-var-dtype'>int32</div><div class='xr-var-preview xr-preview'>0 1 2 3 4 5 6 7 8 9 10 11 12 13 14</div><input id='attrs-aa9d775a-dbcb-4d41-a1aa-496c619ab426' class='xr-var-attrs-in' type='checkbox' disabled><label for='attrs-aa9d775a-dbcb-4d41-a1aa-496c619ab426' title='Show/Hide attributes'><svg class='icon xr-icon-file-text2'><use xlink:href='#icon-file-text2'></use></svg></label><input id='data-63146bfe-9d4c-4019-86f8-3e8a5b1a3327' class='xr-var-data-in' type='checkbox'><label for='data-63146bfe-9d4c-4019-86f8-3e8a5b1a3327' title='Show/Hide data repr'><svg class='icon xr-icon-database'><use xlink:href='#icon-database'></use></svg></label><div class='xr-var-attrs'><dl class='xr-attrs'></dl></div><div class='xr-var-data'><pre>array([ 0,  1,  2,  3,  4,  5,  6,  7,  8,  9, 10, 11, 12, 13, 14])</pre></div></li><li class='xr-var-item'><div class='xr-var-name'><span class='xr-has-index'>p_later_dim_0</span></div><div class='xr-var-dims'>(p_later_dim_0)</div><div class='xr-var-dtype'>int32</div><div class='xr-var-preview xr-preview'>0 1 2 3 4 5 6 ... 21 22 23 24 25 26</div><input id='attrs-257e637b-49dd-4e95-b6ab-561e54a901c4' class='xr-var-attrs-in' type='checkbox' disabled><label for='attrs-257e637b-49dd-4e95-b6ab-561e54a901c4' title='Show/Hide attributes'><svg class='icon xr-icon-file-text2'><use xlink:href='#icon-file-text2'></use></svg></label><input id='data-2abf10cb-0e63-439c-a17c-991af3c38f9e' class='xr-var-data-in' type='checkbox'><label for='data-2abf10cb-0e63-439c-a17c-991af3c38f9e' title='Show/Hide data repr'><svg class='icon xr-icon-database'><use xlink:href='#icon-database'></use></svg></label><div class='xr-var-attrs'><dl class='xr-attrs'></dl></div><div class='xr-var-data'><pre>array([ 0,  1,  2,  3,  4,  5,  6,  7,  8,  9, 10, 11, 12, 13, 14, 15, 16, 17,\n",
       "       18, 19, 20, 21, 22, 23, 24, 25, 26])</pre></div></li><li class='xr-var-item'><div class='xr-var-name'><span class='xr-has-index'>p_later_dim_1</span></div><div class='xr-var-dims'>(p_later_dim_1)</div><div class='xr-var-dtype'>int32</div><div class='xr-var-preview xr-preview'>0 1 2 3 4 5 6 7 8 9 10 11 12 13 14</div><input id='attrs-5c0bfece-8b68-4c58-a5dd-7abe2236ed7e' class='xr-var-attrs-in' type='checkbox' disabled><label for='attrs-5c0bfece-8b68-4c58-a5dd-7abe2236ed7e' title='Show/Hide attributes'><svg class='icon xr-icon-file-text2'><use xlink:href='#icon-file-text2'></use></svg></label><input id='data-95cf239a-af2b-4ce4-ba65-95e01739c572' class='xr-var-data-in' type='checkbox'><label for='data-95cf239a-af2b-4ce4-ba65-95e01739c572' title='Show/Hide data repr'><svg class='icon xr-icon-database'><use xlink:href='#icon-database'></use></svg></label><div class='xr-var-attrs'><dl class='xr-attrs'></dl></div><div class='xr-var-data'><pre>array([ 0,  1,  2,  3,  4,  5,  6,  7,  8,  9, 10, 11, 12, 13, 14])</pre></div></li></ul></div></li><li class='xr-section-item'><input id='section-3e50c37f-fc13-49a7-ab9b-c7cfbc38d075' class='xr-section-summary-in' type='checkbox'  ><label for='section-3e50c37f-fc13-49a7-ab9b-c7cfbc38d075' class='xr-section-summary' >Data variables: <span>(16)</span></label><div class='xr-section-inline-details'></div><div class='xr-section-details'><ul class='xr-var-list'><li class='xr-var-item'><div class='xr-var-name'><span>Mu_c</span></div><div class='xr-var-dims'>(chain, draw)</div><div class='xr-var-dtype'>float64</div><div class='xr-var-preview xr-preview'>-8.813 -9.211 ... -8.79 -8.881</div><input id='attrs-7ba1609c-5324-4f9e-988b-0ac7b6d8748d' class='xr-var-attrs-in' type='checkbox' disabled><label for='attrs-7ba1609c-5324-4f9e-988b-0ac7b6d8748d' title='Show/Hide attributes'><svg class='icon xr-icon-file-text2'><use xlink:href='#icon-file-text2'></use></svg></label><input id='data-02a522ab-e4c8-4704-bbe7-ebe169e5f7de' class='xr-var-data-in' type='checkbox'><label for='data-02a522ab-e4c8-4704-bbe7-ebe169e5f7de' title='Show/Hide data repr'><svg class='icon xr-icon-database'><use xlink:href='#icon-database'></use></svg></label><div class='xr-var-attrs'><dl class='xr-attrs'></dl></div><div class='xr-var-data'><pre>array([[-8.8127241 , -9.21129779, -9.24728681, ..., -7.96521528,\n",
       "        -7.99561712, -8.00046519],\n",
       "       [-9.11628359, -9.36844339, -9.36844339, ..., -9.06302821,\n",
       "        -9.06302821, -9.06302821],\n",
       "       [-9.38201201, -8.35502166, -8.83040944, ..., -8.32986162,\n",
       "        -8.39673496, -8.42146304],\n",
       "       [-9.47765098, -9.7589017 , -9.71134729, ..., -9.01299673,\n",
       "        -8.78973708, -8.88126528]])</pre></div></li><li class='xr-var-item'><div class='xr-var-name'><span>Mu_m</span></div><div class='xr-var-dims'>(chain, draw)</div><div class='xr-var-dtype'>float64</div><div class='xr-var-preview xr-preview'>-1.492 -1.566 ... -1.505 -1.452</div><input id='attrs-dce1edad-c8f8-4145-91fe-313ba52c028a' class='xr-var-attrs-in' type='checkbox' disabled><label for='attrs-dce1edad-c8f8-4145-91fe-313ba52c028a' title='Show/Hide attributes'><svg class='icon xr-icon-file-text2'><use xlink:href='#icon-file-text2'></use></svg></label><input id='data-1660a6fd-a336-4940-a05c-9db52a1cb0f0' class='xr-var-data-in' type='checkbox'><label for='data-1660a6fd-a336-4940-a05c-9db52a1cb0f0' title='Show/Hide data repr'><svg class='icon xr-icon-database'><use xlink:href='#icon-database'></use></svg></label><div class='xr-var-attrs'><dl class='xr-attrs'></dl></div><div class='xr-var-data'><pre>array([[-1.49245968, -1.56558229, -1.56725548, ..., -1.18223777,\n",
       "        -1.26359078, -1.18525189],\n",
       "       [-1.63387513, -1.56677885, -1.56677885, ..., -1.62196321,\n",
       "        -1.62196321, -1.62196321],\n",
       "       [-1.5779484 , -1.32184904, -1.37936648, ..., -1.26036004,\n",
       "        -1.41686234, -1.3825945 ],\n",
       "       [-1.81672894, -1.93262268, -1.719882  , ..., -1.61560505,\n",
       "        -1.50517103, -1.45218591]])</pre></div></li><li class='xr-var-item'><div class='xr-var-name'><span>c_p</span></div><div class='xr-var-dims'>(chain, draw, c_p_dim_0)</div><div class='xr-var-dtype'>float64</div><div class='xr-var-preview xr-preview'>-8.66 -8.086 ... -8.806 -9.183</div><input id='attrs-81ea32cb-d2e5-40fe-b41e-8689e684c502' class='xr-var-attrs-in' type='checkbox' disabled><label for='attrs-81ea32cb-d2e5-40fe-b41e-8689e684c502' title='Show/Hide attributes'><svg class='icon xr-icon-file-text2'><use xlink:href='#icon-file-text2'></use></svg></label><input id='data-214986ae-b1f4-43fb-ab05-c7f31d3cf81b' class='xr-var-data-in' type='checkbox'><label for='data-214986ae-b1f4-43fb-ab05-c7f31d3cf81b' title='Show/Hide data repr'><svg class='icon xr-icon-database'><use xlink:href='#icon-database'></use></svg></label><div class='xr-var-attrs'><dl class='xr-attrs'></dl></div><div class='xr-var-data'><pre>array([[[ -8.660062  ,  -8.08612185,  -8.73786148, ...,  -8.49743623,\n",
       "          -8.50680218,  -8.62431002],\n",
       "        [ -9.4448601 ,  -8.62438183,  -8.78880907, ...,  -9.25156177,\n",
       "          -9.15114978,  -8.89379724],\n",
       "        [ -8.66882679,  -9.78511626,  -9.2535874 , ...,  -8.94933886,\n",
       "          -9.30283261,  -8.3973431 ],\n",
       "        ...,\n",
       "        [ -7.95634606,  -7.32955171,  -7.80213822, ...,  -7.69864831,\n",
       "          -8.51710996,  -8.12357466],\n",
       "        [ -7.69674366,  -7.78709829,  -7.48282078, ...,  -8.00757413,\n",
       "          -8.2251516 ,  -7.93918354],\n",
       "        [ -7.47733152,  -7.99557934,  -7.6958385 , ...,  -7.71885276,\n",
       "          -8.65532582,  -8.17848462]],\n",
       "\n",
       "       [[ -8.8825776 ,  -8.6449407 ,  -9.33088787, ...,  -9.10492188,\n",
       "          -9.27825292,  -9.38455514],\n",
       "        [ -9.06802206,  -8.97743855,  -8.80702771, ...,  -9.11253837,\n",
       "          -9.09488084,  -9.02373311],\n",
       "        [ -9.06802206,  -8.97743855,  -8.80702771, ...,  -9.11253837,\n",
       "          -9.09488084,  -9.02373311],\n",
       "...\n",
       "        [ -7.84767013,  -8.00025445,  -8.52212064, ...,  -8.86663773,\n",
       "          -8.21174926,  -7.9041887 ],\n",
       "        [ -8.28141298,  -8.32871837,  -8.24685345, ...,  -8.21175042,\n",
       "          -8.2591917 ,  -8.87370383],\n",
       "        [ -8.22460692,  -8.73174095,  -8.37082976, ...,  -8.39751634,\n",
       "          -8.21433433,  -8.28238011]],\n",
       "\n",
       "       [[ -9.28297249,  -9.14749759,  -9.45057148, ...,  -9.429301  ,\n",
       "          -8.84644456, -10.02107495],\n",
       "        [ -9.79381596,  -9.81387917,  -9.79157773, ...,  -9.78463156,\n",
       "          -9.94123166,  -9.80713509],\n",
       "        [ -9.82151695,  -9.81349198,  -9.79539025, ...,  -9.7528188 ,\n",
       "          -9.725828  ,  -9.86563523],\n",
       "        ...,\n",
       "        [ -8.92397737,  -8.83255796,  -8.99263196, ...,  -9.09482075,\n",
       "          -9.17258481,  -8.88852279],\n",
       "        [ -8.4536998 ,  -8.79513294,  -8.70967766, ...,  -8.72501468,\n",
       "          -8.93467076,  -8.53654316],\n",
       "        [ -9.32597427,  -8.16355366,  -8.26470559, ...,  -8.88636716,\n",
       "          -8.80583227,  -9.18255001]]])</pre></div></li><li class='xr-var-item'><div class='xr-var-name'><span>m_p</span></div><div class='xr-var-dims'>(chain, draw, m_p_dim_0)</div><div class='xr-var-dtype'>float64</div><div class='xr-var-preview xr-preview'>-1.434 -1.377 ... -1.597 -1.5</div><input id='attrs-239a6e6d-b011-47f3-930d-df3d8f1c1336' class='xr-var-attrs-in' type='checkbox' disabled><label for='attrs-239a6e6d-b011-47f3-930d-df3d8f1c1336' title='Show/Hide attributes'><svg class='icon xr-icon-file-text2'><use xlink:href='#icon-file-text2'></use></svg></label><input id='data-255d67e1-d338-4c96-89c6-7184b8ad5b35' class='xr-var-data-in' type='checkbox'><label for='data-255d67e1-d338-4c96-89c6-7184b8ad5b35' title='Show/Hide data repr'><svg class='icon xr-icon-database'><use xlink:href='#icon-database'></use></svg></label><div class='xr-var-attrs'><dl class='xr-attrs'></dl></div><div class='xr-var-data'><pre>array([[[-1.4342373 , -1.37666289, -1.58458135, ..., -1.40682165,\n",
       "         -1.4107644 , -1.50171554],\n",
       "        [-1.68454646, -1.47116815, -1.51342875, ..., -1.54346546,\n",
       "         -1.51292007, -1.76715675],\n",
       "        [-1.52906149, -1.66627848, -1.6209233 , ..., -1.57246264,\n",
       "         -1.60483953, -1.57464101],\n",
       "        ...,\n",
       "        [-1.14188278, -1.16382754, -1.24871663, ..., -1.02002386,\n",
       "         -1.34228964, -1.19706348],\n",
       "        [-1.08632576, -1.20462839, -1.23799135, ..., -1.23147194,\n",
       "         -1.27636927, -1.31976201],\n",
       "        [-1.14957131, -1.38025604, -1.12825012, ..., -1.10915639,\n",
       "         -1.46258979, -1.11053374]],\n",
       "\n",
       "       [[-1.61696114, -1.64200207, -1.6415451 , ..., -1.65734401,\n",
       "         -1.64184906, -1.60426406],\n",
       "        [-1.55809122, -1.5643401 , -1.57803974, ..., -1.53755525,\n",
       "         -1.5804023 , -1.58534521],\n",
       "        [-1.55809122, -1.5643401 , -1.57803974, ..., -1.53755525,\n",
       "         -1.5804023 , -1.58534521],\n",
       "...\n",
       "        [-1.47590961, -1.31355584, -1.37488885, ..., -1.28156284,\n",
       "         -1.21892026, -1.29651013],\n",
       "        [-1.41048609, -1.4332582 , -1.40910821, ..., -1.09681611,\n",
       "         -1.4072803 , -1.60000583],\n",
       "        [-1.36690016, -1.43406807, -1.51746241, ..., -1.38642517,\n",
       "         -1.29858448, -1.18950907]],\n",
       "\n",
       "       [[-1.62256729, -1.67666089, -1.93443371, ..., -1.58252042,\n",
       "         -1.70170544, -1.87001063],\n",
       "        [-1.8621152 , -2.02320313, -1.82566355, ..., -1.88359939,\n",
       "         -1.90546376, -1.64216765],\n",
       "        [-1.89926977, -2.02005886, -1.82137757, ..., -1.87523682,\n",
       "         -2.03753924, -1.75529678],\n",
       "        ...,\n",
       "        [-1.53568479, -1.66401062, -1.58655771, ..., -1.52074369,\n",
       "         -1.55947991, -1.51484727],\n",
       "        [-1.42679279, -1.50421541, -1.5131314 , ..., -1.43964308,\n",
       "         -1.58735726, -1.43490335],\n",
       "        [-1.50933474, -1.39925111, -1.49934024, ..., -1.46465325,\n",
       "         -1.5971107 , -1.49957086]]])</pre></div></li><li class='xr-var-item'><div class='xr-var-name'><span>phi</span></div><div class='xr-var-dims'>(chain, draw)</div><div class='xr-var-dtype'>float64</div><div class='xr-var-preview xr-preview'>-0.8431 0.8413 ... 0.6954 -2.504</div><input id='attrs-3f803f8c-8ef5-48f1-8d68-ecfb24b9fafb' class='xr-var-attrs-in' type='checkbox' disabled><label for='attrs-3f803f8c-8ef5-48f1-8d68-ecfb24b9fafb' title='Show/Hide attributes'><svg class='icon xr-icon-file-text2'><use xlink:href='#icon-file-text2'></use></svg></label><input id='data-247cb913-0673-4b17-9ced-a1bdf8c757f0' class='xr-var-data-in' type='checkbox'><label for='data-247cb913-0673-4b17-9ced-a1bdf8c757f0' title='Show/Hide data repr'><svg class='icon xr-icon-database'><use xlink:href='#icon-database'></use></svg></label><div class='xr-var-attrs'><dl class='xr-attrs'></dl></div><div class='xr-var-data'><pre>array([[-0.84305756,  0.84134896, -0.78403916, ..., -0.58683874,\n",
       "        -0.21324279,  0.14673546],\n",
       "       [-1.66020356, -1.57989982, -1.57989982, ...,  2.31835013,\n",
       "         2.31835013,  2.31835013],\n",
       "       [-0.61114379,  0.6865349 ,  0.74952504, ..., -1.0456225 ,\n",
       "         0.6330336 ,  0.28520873],\n",
       "       [-0.20385536,  1.30804429, -1.79286583, ..., -0.83374736,\n",
       "         0.69540983, -2.50432121]])</pre></div></li><li class='xr-var-item'><div class='xr-var-name'><span>Sigma_c</span></div><div class='xr-var-dims'>(chain, draw)</div><div class='xr-var-dtype'>float64</div><div class='xr-var-preview xr-preview'>1.068 0.2868 ... 0.2817 0.7402</div><input id='attrs-898670c5-ea42-4be8-b70c-510d91f8a5f4' class='xr-var-attrs-in' type='checkbox' disabled><label for='attrs-898670c5-ea42-4be8-b70c-510d91f8a5f4' title='Show/Hide attributes'><svg class='icon xr-icon-file-text2'><use xlink:href='#icon-file-text2'></use></svg></label><input id='data-b041af4d-1916-4345-9d19-7123cf1dca63' class='xr-var-data-in' type='checkbox'><label for='data-b041af4d-1916-4345-9d19-7123cf1dca63' title='Show/Hide data repr'><svg class='icon xr-icon-database'><use xlink:href='#icon-database'></use></svg></label><div class='xr-var-attrs'><dl class='xr-attrs'></dl></div><div class='xr-var-data'><pre>array([[1.06827454, 0.28675669, 0.71229528, ..., 0.71349776, 0.73386206,\n",
       "        0.4636228 ],\n",
       "       [0.31708827, 0.5774465 , 0.5774465 , ..., 0.71083173, 0.71083173,\n",
       "        0.71083173],\n",
       "       [0.65184651, 0.86634993, 0.68936844, ..., 0.38184085, 0.33631338,\n",
       "        0.18643872],\n",
       "       [0.48674899, 0.0998146 , 0.08751323, ..., 0.52445109, 0.28165103,\n",
       "        0.7402386 ]])</pre></div></li><li class='xr-var-item'><div class='xr-var-name'><span>Sigma_m</span></div><div class='xr-var-dims'>(chain, draw)</div><div class='xr-var-dtype'>float64</div><div class='xr-var-preview xr-preview'>0.09663 0.2222 ... 0.05816 0.1114</div><input id='attrs-6820fea5-0dc2-4de4-926b-daba027393f0' class='xr-var-attrs-in' type='checkbox' disabled><label for='attrs-6820fea5-0dc2-4de4-926b-daba027393f0' title='Show/Hide attributes'><svg class='icon xr-icon-file-text2'><use xlink:href='#icon-file-text2'></use></svg></label><input id='data-dc8aef75-a00b-4914-a7c9-16a17231060c' class='xr-var-data-in' type='checkbox'><label for='data-dc8aef75-a00b-4914-a7c9-16a17231060c' title='Show/Hide data repr'><svg class='icon xr-icon-database'><use xlink:href='#icon-database'></use></svg></label><div class='xr-var-attrs'><dl class='xr-attrs'></dl></div><div class='xr-var-data'><pre>array([[0.09662814, 0.22215881, 0.07303945, ..., 0.12152876, 0.12771057,\n",
       "        0.1046854 ],\n",
       "       [0.01553192, 0.01471113, 0.01471113, ..., 0.0112096 , 0.0112096 ,\n",
       "        0.0112096 ],\n",
       "       [0.01221123, 0.01168422, 0.0365404 , ..., 0.10664388, 0.19536863,\n",
       "        0.17718957],\n",
       "       [0.19961669, 0.1666159 , 0.21886293, ..., 0.0745674 , 0.05816187,\n",
       "        0.11137781]])</pre></div></li><li class='xr-var-item'><div class='xr-var-name'><span>omega</span></div><div class='xr-var-dims'>(chain, draw)</div><div class='xr-var-dtype'>float64</div><div class='xr-var-preview xr-preview'>0.01226 0.003436 ... 0.004401</div><input id='attrs-5146ba0f-1f6c-471a-8eed-36b87d19ebee' class='xr-var-attrs-in' type='checkbox' disabled><label for='attrs-5146ba0f-1f6c-471a-8eed-36b87d19ebee' title='Show/Hide attributes'><svg class='icon xr-icon-file-text2'><use xlink:href='#icon-file-text2'></use></svg></label><input id='data-b16f5564-8146-45dc-bc61-bb767333cf72' class='xr-var-data-in' type='checkbox'><label for='data-b16f5564-8146-45dc-bc61-bb767333cf72' title='Show/Hide data repr'><svg class='icon xr-icon-database'><use xlink:href='#icon-database'></use></svg></label><div class='xr-var-attrs'><dl class='xr-attrs'></dl></div><div class='xr-var-data'><pre>array([[0.01225793, 0.00343568, 0.0097384 , ..., 0.00069336, 0.00243477,\n",
       "        0.00227658],\n",
       "       [0.01269778, 0.01275128, 0.01275128, ..., 0.00605022, 0.00605022,\n",
       "        0.00605022],\n",
       "       [0.00132676, 0.00465165, 0.00834516, ..., 0.00163675, 0.00012718,\n",
       "        0.00025216],\n",
       "       [0.00498304, 0.00277491, 0.00452851, ..., 0.00303515, 0.00261142,\n",
       "        0.00440133]])</pre></div></li><li class='xr-var-item'><div class='xr-var-name'><span>kappa</span></div><div class='xr-var-dims'>(chain, draw)</div><div class='xr-var-dtype'>float64</div><div class='xr-var-preview xr-preview'>154.8 162.1 121.3 ... 162.3 154.2</div><input id='attrs-62e7c8f1-dbeb-4761-bd81-7ce75dcdf7dc' class='xr-var-attrs-in' type='checkbox' disabled><label for='attrs-62e7c8f1-dbeb-4761-bd81-7ce75dcdf7dc' title='Show/Hide attributes'><svg class='icon xr-icon-file-text2'><use xlink:href='#icon-file-text2'></use></svg></label><input id='data-1b9f1737-fc2b-43ad-aedf-1c0eb27d0c83' class='xr-var-data-in' type='checkbox'><label for='data-1b9f1737-fc2b-43ad-aedf-1c0eb27d0c83' title='Show/Hide data repr'><svg class='icon xr-icon-database'><use xlink:href='#icon-database'></use></svg></label><div class='xr-var-attrs'><dl class='xr-attrs'></dl></div><div class='xr-var-data'><pre>array([[154.75978306, 162.14191968, 121.30467365, ..., 159.60730444,\n",
       "        221.09145356, 197.77713603],\n",
       "       [ 81.07626001, 113.41684246, 113.41684246, ..., 294.1295328 ,\n",
       "        294.1295328 , 294.1295328 ],\n",
       "       [ 75.98840053, 144.44022662, 211.77786852, ..., 265.74506525,\n",
       "        384.55350175, 267.98712924],\n",
       "       [406.87336229, 107.10720069, 477.36289873, ..., 145.30526053,\n",
       "        162.28472537, 154.18508196]])</pre></div></li><li class='xr-var-item'><div class='xr-var-name'><span>Mu_acuity</span></div><div class='xr-var-dims'>(chain, draw)</div><div class='xr-var-dtype'>float64</div><div class='xr-var-preview xr-preview'>0.002209 0.004167 ... 0.001442</div><input id='attrs-38491533-80b5-404d-babe-df484d7608e7' class='xr-var-attrs-in' type='checkbox' disabled><label for='attrs-38491533-80b5-404d-babe-df484d7608e7' title='Show/Hide attributes'><svg class='icon xr-icon-file-text2'><use xlink:href='#icon-file-text2'></use></svg></label><input id='data-1ccc7f15-2a34-4ed9-88be-1f8fc9da6d3a' class='xr-var-data-in' type='checkbox'><label for='data-1ccc7f15-2a34-4ed9-88be-1f8fc9da6d3a' title='Show/Hide data repr'><svg class='icon xr-icon-database'><use xlink:href='#icon-database'></use></svg></label><div class='xr-var-attrs'><dl class='xr-attrs'></dl></div><div class='xr-var-data'><pre>array([[2.20933579e-03, 4.16727084e-03, 2.78735786e-03, ...,\n",
       "        1.81580925e-06, 1.92077177e-06, 1.07355694e-06],\n",
       "       [4.60401968e-03, 3.58311254e-03, 3.58311254e-03, ...,\n",
       "        5.22866183e-03, 5.22866183e-03, 5.22866183e-03],\n",
       "       [1.44270389e-03, 2.68056897e-03, 2.08453330e-03, ...,\n",
       "        6.69756942e-03, 3.74234258e-03, 3.86950724e-03],\n",
       "       [5.91119351e-03, 4.47433137e-03, 7.34625703e-03, ...,\n",
       "        3.71263104e-03, 1.10887620e-03, 1.44166711e-03]])</pre></div></li><li class='xr-var-item'><div class='xr-var-name'><span>Sigma_acuity</span></div><div class='xr-var-dims'>(chain, draw)</div><div class='xr-var-dtype'>float64</div><div class='xr-var-preview xr-preview'>0.001328 0.001956 ... 0.003749</div><input id='attrs-84686c70-9a2d-47ec-818e-847c5d38a123' class='xr-var-attrs-in' type='checkbox' disabled><label for='attrs-84686c70-9a2d-47ec-818e-847c5d38a123' title='Show/Hide attributes'><svg class='icon xr-icon-file-text2'><use xlink:href='#icon-file-text2'></use></svg></label><input id='data-70c4601a-2fcf-461f-9e2b-0f2e431b9420' class='xr-var-data-in' type='checkbox'><label for='data-70c4601a-2fcf-461f-9e2b-0f2e431b9420' title='Show/Hide data repr'><svg class='icon xr-icon-database'><use xlink:href='#icon-database'></use></svg></label><div class='xr-var-attrs'><dl class='xr-attrs'></dl></div><div class='xr-var-data'><pre>array([[0.00132828, 0.00195558, 0.00382406, ..., 0.00417318, 0.004043  ,\n",
       "        0.00579059],\n",
       "       [0.00217037, 0.00241385, 0.00241385, ..., 0.00041885, 0.00041885,\n",
       "        0.00041885],\n",
       "       [0.0038492 , 0.00241998, 0.00227364, ..., 0.00231928, 0.00194105,\n",
       "        0.0024805 ],\n",
       "       [0.00287884, 0.00393203, 0.00354127, ..., 0.00200997, 0.00566358,\n",
       "        0.00374854]])</pre></div></li><li class='xr-var-item'><div class='xr-var-name'><span>e_p</span></div><div class='xr-var-dims'>(chain, draw, e_p_dim_0)</div><div class='xr-var-dtype'>float64</div><div class='xr-var-preview xr-preview'>0.03427 0.01622 ... 0.008056</div><input id='attrs-08c9bdce-6e88-4950-b12b-14c63d2a7aed' class='xr-var-attrs-in' type='checkbox' disabled><label for='attrs-08c9bdce-6e88-4950-b12b-14c63d2a7aed' title='Show/Hide attributes'><svg class='icon xr-icon-file-text2'><use xlink:href='#icon-file-text2'></use></svg></label><input id='data-bbe7b81e-4bc3-438b-a63a-40cf03587c88' class='xr-var-data-in' type='checkbox'><label for='data-bbe7b81e-4bc3-438b-a63a-40cf03587c88' title='Show/Hide data repr'><svg class='icon xr-icon-database'><use xlink:href='#icon-database'></use></svg></label><div class='xr-var-attrs'><dl class='xr-attrs'></dl></div><div class='xr-var-data'><pre>array([[[0.03426865, 0.01621538, 0.01049625, ..., 0.02548379,\n",
       "         0.0051652 , 0.02472944],\n",
       "        [0.00110505, 0.00745904, 0.00084437, ..., 0.00505587,\n",
       "         0.01863385, 0.01774376],\n",
       "        [0.03133671, 0.00971641, 0.05004847, ..., 0.01345117,\n",
       "         0.01067569, 0.02599916],\n",
       "        ...,\n",
       "        [0.00230676, 0.01511269, 0.00872264, ..., 0.00794764,\n",
       "         0.00748339, 0.00358148],\n",
       "        [0.00387254, 0.0063134 , 0.00547562, ..., 0.01081571,\n",
       "         0.00426951, 0.00189109],\n",
       "        [0.00366806, 0.0035597 , 0.00463423, ..., 0.00086043,\n",
       "         0.01242982, 0.01020114]],\n",
       "\n",
       "       [[0.03893199, 0.0306982 , 0.00831055, ..., 0.00649264,\n",
       "         0.01555036, 0.04144117],\n",
       "        [0.03302771, 0.02298807, 0.0147402 , ..., 0.02368874,\n",
       "         0.02197682, 0.02367788],\n",
       "        [0.03302771, 0.02298807, 0.0147402 , ..., 0.02368874,\n",
       "         0.02197682, 0.02367788],\n",
       "...\n",
       "        [0.00087769, 0.00991575, 0.00561992, ..., 0.00221853,\n",
       "         0.00259825, 0.01093616],\n",
       "        [0.00989698, 0.00065955, 0.00196206, ..., 0.00451338,\n",
       "         0.00258939, 0.00097869],\n",
       "        [0.00118172, 0.00162139, 0.00308201, ..., 0.00348698,\n",
       "         0.00776498, 0.00273125]],\n",
       "\n",
       "       [[0.00619143, 0.0146973 , 0.00912802, ..., 0.00694357,\n",
       "         0.00565286, 0.00826404],\n",
       "        [0.00968358, 0.00214386, 0.00396909, ..., 0.00615713,\n",
       "         0.00937543, 0.00808802],\n",
       "        [0.00431845, 0.01228274, 0.01020003, ..., 0.01090159,\n",
       "         0.00369576, 0.00288771],\n",
       "        ...,\n",
       "        [0.0045137 , 0.0098753 , 0.01216961, ..., 0.00064354,\n",
       "         0.0156974 , 0.01201067],\n",
       "        [0.01044838, 0.00801766, 0.01760568, ..., 0.00256775,\n",
       "         0.00592143, 0.00907704],\n",
       "        [0.0063874 , 0.02139615, 0.0027093 , ..., 0.01189557,\n",
       "         0.00398718, 0.00805583]]])</pre></div></li><li class='xr-var-item'><div class='xr-var-name'><span>s_p</span></div><div class='xr-var-dims'>(chain, draw, s_p_dim_0)</div><div class='xr-var-dtype'>float64</div><div class='xr-var-preview xr-preview'>0.001602 0.001973 ... 0.01108</div><input id='attrs-a62b0b2a-bb51-4fc9-94eb-5c8ce7f29e9b' class='xr-var-attrs-in' type='checkbox' disabled><label for='attrs-a62b0b2a-bb51-4fc9-94eb-5c8ce7f29e9b' title='Show/Hide attributes'><svg class='icon xr-icon-file-text2'><use xlink:href='#icon-file-text2'></use></svg></label><input id='data-a3f57205-717d-495a-8596-62714b56f111' class='xr-var-data-in' type='checkbox'><label for='data-a3f57205-717d-495a-8596-62714b56f111' title='Show/Hide data repr'><svg class='icon xr-icon-database'><use xlink:href='#icon-database'></use></svg></label><div class='xr-var-attrs'><dl class='xr-attrs'></dl></div><div class='xr-var-data'><pre>array([[[0.00160164, 0.00197276, 0.00264422, ..., 0.00276046,\n",
       "         0.00179892, 0.00109761],\n",
       "        [0.00052809, 0.00230294, 0.00437584, ..., 0.00630303,\n",
       "         0.00213856, 0.00040159],\n",
       "        [0.00523787, 0.00716124, 0.00336849, ..., 0.00352339,\n",
       "         0.00111486, 0.00122879],\n",
       "        ...,\n",
       "        [0.00060429, 0.00774774, 0.0038457 , ..., 0.00317013,\n",
       "         0.00186233, 0.00769733],\n",
       "        [0.00107214, 0.00449016, 0.00563547, ..., 0.00498702,\n",
       "         0.0019466 , 0.00943228],\n",
       "        [0.01107352, 0.00209132, 0.00249842, ..., 0.00361066,\n",
       "         0.00034156, 0.00625729]],\n",
       "\n",
       "       [[0.00508269, 0.00377285, 0.00256015, ..., 0.00440209,\n",
       "         0.00601998, 0.00691983],\n",
       "        [0.00555269, 0.00480075, 0.0019046 , ..., 0.00297521,\n",
       "         0.00475937, 0.00620096],\n",
       "        [0.00555269, 0.00480075, 0.0019046 , ..., 0.00297521,\n",
       "         0.00475937, 0.00620096],\n",
       "...\n",
       "        [0.00906899, 0.00489461, 0.01047136, ..., 0.0064437 ,\n",
       "         0.00743112, 0.00703788],\n",
       "        [0.0041631 , 0.0034943 , 0.00137081, ..., 0.00380042,\n",
       "         0.00610575, 0.00434068],\n",
       "        [0.00090438, 0.00463762, 0.00376867, ..., 0.00500834,\n",
       "         0.00219078, 0.00672639]],\n",
       "\n",
       "       [[0.00323254, 0.0057468 , 0.00383871, ..., 0.00887   ,\n",
       "         0.00533381, 0.00840609],\n",
       "        [0.00276079, 0.00961775, 0.00722478, ..., 0.00702173,\n",
       "         0.00230143, 0.00513488],\n",
       "        [0.00400476, 0.00767289, 0.00924996, ..., 0.00805543,\n",
       "         0.01359421, 0.00975064],\n",
       "        ...,\n",
       "        [0.00449346, 0.00297732, 0.00469325, ..., 0.00453153,\n",
       "         0.0018362 , 0.00409891],\n",
       "        [0.00309204, 0.00161251, 0.00609053, ..., 0.01077348,\n",
       "         0.00092815, 0.00846001],\n",
       "        [0.00685157, 0.00170769, 0.0047804 , ..., 0.00700597,\n",
       "         0.00255283, 0.01107891]]])</pre></div></li><li class='xr-var-item'><div class='xr-var-name'><span>v_ss</span></div><div class='xr-var-dims'>(chain, draw, v_ss_dim_0, v_ss_dim_1)</div><div class='xr-var-dtype'>float64</div><div class='xr-var-preview xr-preview'>0.08 0.08 0.028 ... 0.02 0.02 0.055</div><input id='attrs-0c0c3696-d6a8-4630-a140-a4f854c07508' class='xr-var-attrs-in' type='checkbox' disabled><label for='attrs-0c0c3696-d6a8-4630-a140-a4f854c07508' title='Show/Hide attributes'><svg class='icon xr-icon-file-text2'><use xlink:href='#icon-file-text2'></use></svg></label><input id='data-f1e60207-8f6a-4e44-88c7-4cb3e50a51e3' class='xr-var-data-in' type='checkbox'><label for='data-f1e60207-8f6a-4e44-88c7-4cb3e50a51e3' title='Show/Hide data repr'><svg class='icon xr-icon-database'><use xlink:href='#icon-database'></use></svg></label><div class='xr-var-attrs'><dl class='xr-attrs'></dl></div><div class='xr-var-data'><pre>array([[[[0.08 , 0.08 , 0.028, ..., 0.08 , 0.08 , 0.028],\n",
       "         [0.034, 0.034, 0.034, ..., 0.034, 0.034, 0.034],\n",
       "         [0.025, 0.025, 0.019, ..., 0.025, 0.025, 0.019],\n",
       "         ...,\n",
       "         [0.078, 0.078, 0.08 , ..., 0.078, 0.078, 0.08 ],\n",
       "         [0.067, 0.067, 0.014, ..., 0.067, 0.067, 0.014],\n",
       "         [0.02 , 0.02 , 0.055, ..., 0.02 , 0.02 , 0.055]],\n",
       "\n",
       "        [[0.08 , 0.08 , 0.028, ..., 0.08 , 0.08 , 0.028],\n",
       "         [0.034, 0.034, 0.034, ..., 0.034, 0.034, 0.034],\n",
       "         [0.025, 0.025, 0.019, ..., 0.025, 0.025, 0.019],\n",
       "         ...,\n",
       "         [0.078, 0.078, 0.08 , ..., 0.078, 0.078, 0.08 ],\n",
       "         [0.067, 0.067, 0.014, ..., 0.067, 0.067, 0.014],\n",
       "         [0.02 , 0.02 , 0.055, ..., 0.02 , 0.02 , 0.055]],\n",
       "\n",
       "        [[0.08 , 0.08 , 0.028, ..., 0.08 , 0.08 , 0.028],\n",
       "         [0.034, 0.034, 0.034, ..., 0.034, 0.034, 0.034],\n",
       "         [0.025, 0.025, 0.019, ..., 0.025, 0.025, 0.019],\n",
       "         ...,\n",
       "...\n",
       "         ...,\n",
       "         [0.078, 0.078, 0.08 , ..., 0.078, 0.078, 0.08 ],\n",
       "         [0.067, 0.067, 0.014, ..., 0.067, 0.067, 0.014],\n",
       "         [0.02 , 0.02 , 0.055, ..., 0.02 , 0.02 , 0.055]],\n",
       "\n",
       "        [[0.08 , 0.08 , 0.028, ..., 0.08 , 0.08 , 0.028],\n",
       "         [0.034, 0.034, 0.034, ..., 0.034, 0.034, 0.034],\n",
       "         [0.025, 0.025, 0.019, ..., 0.025, 0.025, 0.019],\n",
       "         ...,\n",
       "         [0.078, 0.078, 0.08 , ..., 0.078, 0.078, 0.08 ],\n",
       "         [0.067, 0.067, 0.014, ..., 0.067, 0.067, 0.014],\n",
       "         [0.02 , 0.02 , 0.055, ..., 0.02 , 0.02 , 0.055]],\n",
       "\n",
       "        [[0.08 , 0.08 , 0.028, ..., 0.08 , 0.08 , 0.028],\n",
       "         [0.034, 0.034, 0.034, ..., 0.034, 0.034, 0.034],\n",
       "         [0.025, 0.025, 0.019, ..., 0.025, 0.025, 0.019],\n",
       "         ...,\n",
       "         [0.078, 0.078, 0.08 , ..., 0.078, 0.078, 0.08 ],\n",
       "         [0.067, 0.067, 0.014, ..., 0.067, 0.067, 0.014],\n",
       "         [0.02 , 0.02 , 0.055, ..., 0.02 , 0.02 , 0.055]]]])</pre></div></li><li class='xr-var-item'><div class='xr-var-name'><span>v_ll</span></div><div class='xr-var-dims'>(chain, draw, v_ll_dim_0, v_ll_dim_1)</div><div class='xr-var-dtype'>float64</div><div class='xr-var-preview xr-preview'>0.04395 0.03485 ... 0.04965 0.05747</div><input id='attrs-482f66ba-d21a-48bc-b7ac-a04008289e4f' class='xr-var-attrs-in' type='checkbox' disabled><label for='attrs-482f66ba-d21a-48bc-b7ac-a04008289e4f' title='Show/Hide attributes'><svg class='icon xr-icon-file-text2'><use xlink:href='#icon-file-text2'></use></svg></label><input id='data-8175c8e8-9f1a-4e35-88f6-748760ece8a1' class='xr-var-data-in' type='checkbox'><label for='data-8175c8e8-9f1a-4e35-88f6-748760ece8a1' title='Show/Hide data repr'><svg class='icon xr-icon-database'><use xlink:href='#icon-database'></use></svg></label><div class='xr-var-attrs'><dl class='xr-attrs'></dl></div><div class='xr-var-data'><pre>array([[[[0.04395022, 0.03485461, 0.00355739, ..., 0.04193114,\n",
       "          0.04192364, 0.00415098],\n",
       "         [0.03617884, 0.03183201, 0.00496459, ..., 0.03535952,\n",
       "          0.03533419, 0.00570631],\n",
       "         [0.05275856, 0.04970073, 0.00634825, ..., 0.05219629,\n",
       "          0.05218456, 0.00730031],\n",
       "         ...,\n",
       "         [0.03899964, 0.03060754, 0.03774843, ..., 0.03713671,\n",
       "          0.03712492, 0.03966054],\n",
       "         [0.04060315, 0.03267207, 0.01217565, ..., 0.0388919 ,\n",
       "          0.03887604, 0.01337496],\n",
       "         [0.05103225, 0.04924793, 0.04707989, ..., 0.05071519,\n",
       "          0.05070701, 0.04882762]],\n",
       "\n",
       "        [[0.04749252, 0.04125837, 0.00461244, ..., 0.05069453,\n",
       "          0.05017947, 0.00229639],\n",
       "         [0.03652551, 0.03466889, 0.00632992, ..., 0.03866075,\n",
       "          0.03858248, 0.00331862],\n",
       "         [0.05325615, 0.0518217 , 0.00794262, ..., 0.05438223,\n",
       "          0.05430809, 0.00421591],\n",
       "...\n",
       "         [0.03527047, 0.03816722, 0.04087316, ..., 0.04002541,\n",
       "          0.0367639 , 0.04129144],\n",
       "         [0.03710255, 0.03974151, 0.01364354, ..., 0.04154973,\n",
       "          0.03832239, 0.01435445],\n",
       "         [0.0502959 , 0.05077492, 0.04977018, ..., 0.05120987,\n",
       "          0.05036115, 0.05026163]],\n",
       "\n",
       "        [[0.05388301, 0.03530269, 0.00304627, ..., 0.04714781,\n",
       "          0.03852815, 0.00661287],\n",
       "         [0.04013467, 0.03194479, 0.00421848, ..., 0.0374892 ,\n",
       "          0.03251228, 0.00893665],\n",
       "         [0.05519201, 0.04981862, 0.00562627, ..., 0.05360793,\n",
       "          0.05052209, 0.01052007],\n",
       "         ...,\n",
       "         [0.04839742, 0.03099358, 0.03233963, ..., 0.04198745,\n",
       "          0.03373924, 0.0514933 ],\n",
       "         [0.04906022, 0.0330214 , 0.01118848, ..., 0.04332863,\n",
       "          0.03543519, 0.01673999],\n",
       "         [0.05239743, 0.04930902, 0.04253454, ..., 0.05151154,\n",
       "          0.04964867, 0.05747051]]]])</pre></div></li><li class='xr-var-item'><div class='xr-var-name'><span>p_later</span></div><div class='xr-var-dims'>(chain, draw, p_later_dim_0, p_later_dim_1)</div><div class='xr-var-dtype'>float64</div><div class='xr-var-preview xr-preview'>0.03427 0.01622 ... 0.996 0.5868</div><input id='attrs-30363331-7a8a-4429-ae22-a435688fada1' class='xr-var-attrs-in' type='checkbox' disabled><label for='attrs-30363331-7a8a-4429-ae22-a435688fada1' title='Show/Hide attributes'><svg class='icon xr-icon-file-text2'><use xlink:href='#icon-file-text2'></use></svg></label><input id='data-d5a6ffcb-cb24-45a6-8a2d-49f0bcd584b9' class='xr-var-data-in' type='checkbox'><label for='data-d5a6ffcb-cb24-45a6-8a2d-49f0bcd584b9' title='Show/Hide data repr'><svg class='icon xr-icon-database'><use xlink:href='#icon-database'></use></svg></label><div class='xr-var-attrs'><dl class='xr-attrs'></dl></div><div class='xr-var-data'><pre>array([[[[3.42686490e-02, 1.62153842e-02, 1.04962488e-02, ...,\n",
       "          2.54837895e-02, 5.16519923e-03, 2.47294438e-02],\n",
       "         [8.84828789e-01, 1.47700595e-01, 1.04962488e-02, ...,\n",
       "          6.79193419e-01, 7.68055743e-01, 2.47294438e-02],\n",
       "         [9.65731351e-01, 9.83784616e-01, 1.04970871e-02, ...,\n",
       "          9.74516211e-01, 9.94834801e-01, 2.47294438e-02],\n",
       "         ...,\n",
       "         [3.42686490e-02, 1.62153842e-02, 1.04962488e-02, ...,\n",
       "          2.54837895e-02, 5.16519923e-03, 2.47294438e-02],\n",
       "         [3.42686490e-02, 1.62153842e-02, 2.50467000e-01, ...,\n",
       "          2.54837895e-02, 5.16519923e-03, 2.95181145e-01],\n",
       "         [9.65731351e-01, 9.83784616e-01, 1.18385203e-02, ...,\n",
       "          9.74516211e-01, 9.94834801e-01, 2.47294527e-02]],\n",
       "\n",
       "        [[1.10505094e-03, 7.45903846e-03, 8.44410224e-04, ...,\n",
       "          5.05751682e-03, 1.86338505e-02, 1.77437581e-02],\n",
       "         [9.98894085e-01, 6.12559490e-01, 8.44365145e-04, ...,\n",
       "          7.67449996e-01, 9.65899749e-01, 1.77437581e-02],\n",
       "         [9.98894949e-01, 9.92540962e-01, 6.58812166e-03, ...,\n",
       "          9.94942578e-01, 9.81366149e-01, 1.77437581e-02],\n",
       "...\n",
       "         [1.04483757e-02, 8.01765765e-03, 1.76056774e-02, ...,\n",
       "          2.77854904e-03, 5.92142774e-03, 9.07937058e-03],\n",
       "         [1.04483757e-02, 8.01765765e-03, 4.77486113e-01, ...,\n",
       "          1.16018837e-02, 5.92142774e-03, 5.16406494e-01],\n",
       "         [9.89551624e-01, 9.91982342e-01, 2.05988583e-01, ...,\n",
       "          9.95557678e-01, 9.94078572e-01, 2.91562617e-01]],\n",
       "\n",
       "        [[6.45549368e-03, 2.13961495e-02, 2.70938511e-03, ...,\n",
       "          1.18969099e-02, 3.98717884e-03, 3.44008581e-02],\n",
       "         [8.10684392e-01, 1.30891852e-01, 2.70929637e-03, ...,\n",
       "          6.86230792e-01, 2.81777093e-01, 1.97058240e-02],\n",
       "         [9.93607413e-01, 9.78603850e-01, 5.26938237e-03, ...,\n",
       "          9.88082763e-01, 9.96012821e-01, 2.26492136e-01],\n",
       "         ...,\n",
       "         [6.39508543e-03, 2.13961495e-02, 2.70929614e-03, ...,\n",
       "          1.18957049e-02, 3.98717884e-03, 1.30148132e-02],\n",
       "         [1.07488056e-02, 2.13961495e-02, 2.79422277e-01, ...,\n",
       "          1.22510005e-02, 3.98717884e-03, 5.96094522e-01],\n",
       "         [9.93611480e-01, 9.78603850e-01, 7.24330528e-03, ...,\n",
       "          9.88101078e-01, 9.96012821e-01, 5.86807484e-01]]]])</pre></div></li></ul></div></li><li class='xr-section-item'><input id='section-ede7d5aa-9f8a-4624-a428-4f38f67dcd08' class='xr-section-summary-in' type='checkbox'  checked><label for='section-ede7d5aa-9f8a-4624-a428-4f38f67dcd08' class='xr-section-summary' >Attributes: <span>(6)</span></label><div class='xr-section-inline-details'></div><div class='xr-section-details'><dl class='xr-attrs'><dt><span>created_at :</span></dt><dd>2022-07-17T17:20:22.471665</dd><dt><span>arviz_version :</span></dt><dd>0.12.0</dd><dt><span>inference_library :</span></dt><dd>pymc</dd><dt><span>inference_library_version :</span></dt><dd>4.1.3</dd><dt><span>sampling_time :</span></dt><dd>498.0364911556244</dd><dt><span>tuning_steps :</span></dt><dd>1500</dd></dl></div></li></ul></div></div>"
      ],
      "text/plain": [
       "<xarray.Dataset>\n",
       "Dimensions:        (c_p_dim_0: 15, chain: 4, draw: 4000, e_p_dim_0: 15, m_p_dim_0: 15, p_later_dim_0: 27, p_later_dim_1: 15, s_p_dim_0: 15, v_ll_dim_0: 27, v_ll_dim_1: 15, v_ss_dim_0: 27, v_ss_dim_1: 15)\n",
       "Coordinates:\n",
       "  * chain          (chain) int32 0 1 2 3\n",
       "  * draw           (draw) int32 0 1 2 3 4 5 6 ... 3994 3995 3996 3997 3998 3999\n",
       "  * c_p_dim_0      (c_p_dim_0) int32 0 1 2 3 4 5 6 7 8 9 10 11 12 13 14\n",
       "  * m_p_dim_0      (m_p_dim_0) int32 0 1 2 3 4 5 6 7 8 9 10 11 12 13 14\n",
       "  * e_p_dim_0      (e_p_dim_0) int32 0 1 2 3 4 5 6 7 8 9 10 11 12 13 14\n",
       "  * s_p_dim_0      (s_p_dim_0) int32 0 1 2 3 4 5 6 7 8 9 10 11 12 13 14\n",
       "  * v_ss_dim_0     (v_ss_dim_0) int32 0 1 2 3 4 5 6 7 ... 20 21 22 23 24 25 26\n",
       "  * v_ss_dim_1     (v_ss_dim_1) int32 0 1 2 3 4 5 6 7 8 9 10 11 12 13 14\n",
       "  * v_ll_dim_0     (v_ll_dim_0) int32 0 1 2 3 4 5 6 7 ... 20 21 22 23 24 25 26\n",
       "  * v_ll_dim_1     (v_ll_dim_1) int32 0 1 2 3 4 5 6 7 8 9 10 11 12 13 14\n",
       "  * p_later_dim_0  (p_later_dim_0) int32 0 1 2 3 4 5 6 ... 20 21 22 23 24 25 26\n",
       "  * p_later_dim_1  (p_later_dim_1) int32 0 1 2 3 4 5 6 7 8 9 10 11 12 13 14\n",
       "Data variables: (12/16)\n",
       "    Mu_c           (chain, draw) float64 -8.813 -9.211 -9.247 ... -8.79 -8.881\n",
       "    Mu_m           (chain, draw) float64 -1.492 -1.566 -1.567 ... -1.505 -1.452\n",
       "    c_p            (chain, draw, c_p_dim_0) float64 -8.66 -8.086 ... -9.183\n",
       "    m_p            (chain, draw, m_p_dim_0) float64 -1.434 -1.377 ... -1.5\n",
       "    phi            (chain, draw) float64 -0.8431 0.8413 -0.784 ... 0.6954 -2.504\n",
       "    Sigma_c        (chain, draw) float64 1.068 0.2868 0.7123 ... 0.2817 0.7402\n",
       "    ...             ...\n",
       "    Sigma_acuity   (chain, draw) float64 0.001328 0.001956 ... 0.005664 0.003749\n",
       "    e_p            (chain, draw, e_p_dim_0) float64 0.03427 0.01622 ... 0.008056\n",
       "    s_p            (chain, draw, s_p_dim_0) float64 0.001602 ... 0.01108\n",
       "    v_ss           (chain, draw, v_ss_dim_0, v_ss_dim_1) float64 0.08 ... 0.055\n",
       "    v_ll           (chain, draw, v_ll_dim_0, v_ll_dim_1) float64 0.04395 ... ...\n",
       "    p_later        (chain, draw, p_later_dim_0, p_later_dim_1) float64 0.0342...\n",
       "Attributes:\n",
       "    created_at:                 2022-07-17T17:20:22.471665\n",
       "    arviz_version:              0.12.0\n",
       "    inference_library:          pymc\n",
       "    inference_library_version:  4.1.3\n",
       "    sampling_time:              498.0364911556244\n",
       "    tuning_steps:               1500"
      ]
     },
     "execution_count": 121,
     "metadata": {},
     "output_type": "execute_result"
    }
   ],
   "source": [
    "trace.posterior"
   ]
  },
  {
   "cell_type": "code",
   "execution_count": 191,
   "id": "d91e7794",
   "metadata": {},
   "outputs": [
    {
     "data": {
      "image/png": "[encoded data removed]",
      "text/plain": [
       "<Figure size 432x288 with 1 Axes>"
      ]
     },
     "metadata": {
      "needs_background": "light"
     },
     "output_type": "display_data"
    }
   ],
   "source": [
    "#choice\n",
    "#ss_Amt\n",
    "#ss_Delay \n",
    "#ll_Amt \n",
    "#ll_Delay\n",
    "\n",
    "subj = 1\n",
    "ee_pp = resu.loc['e_p[' + str(subj) + ']',:]['mean']\n",
    "ss_pp = resu.loc['s_p[' + str(subj) + ']',:]['mean']\n",
    "choice_subj = choice[:, subj]\n",
    "ss_Amt_subj = ss_Amt[:, subj]\n",
    "ll_Amt_subj = ll_Amt[:, subj]\n",
    "\n",
    "temp_model = np.array(PPC.posterior_predictive['choice_later'])\n",
    "temp_model = temp_model.reshape((temp_model.shape[0]*temp_model.shape[1],temp_model.shape[2],temp_model.shape[3]))\n",
    "choice_model = temp_model[:,:,subj]\n",
    "\n",
    "temp_model = np.array(PPC.posterior_predictive['v_ss'])\n",
    "temp_model = temp_model.reshape((temp_model.shape[0]*temp_model.shape[1],temp_model.shape[2],temp_model.shape[3]))\n",
    "v_ss_Amt_model = temp_model[:,:,subj]\n",
    "\n",
    "temp_model = np.array(PPC.posterior_predictive['v_ll'])\n",
    "temp_model = temp_model.reshape((temp_model.shape[0]*temp_model.shape[1],temp_model.shape[2],temp_model.shape[3]))\n",
    "v_ll_Amt_model = temp_model[:,:,subj]\n",
    "\n",
    "#plt.scatter(ll_Amt_subj-ss_Amt_subj, choice_subj, label = 'Data subj ' + str(subj))\n",
    "#plt.scatter(ll_Amt_subj-ss_Amt_subj, choice_model.mean(axis=0), color='red', alpha = 0.4, label = 'Posterior Predictive (mean)')\n",
    "plt.scatter(v_ll_Amt_model.mean(axis=0)-v_ss_Amt_model.mean(axis=0), choice_subj, label = 'Data subj ' + str(subj), alpha = 0.6)\n",
    "plt.scatter(v_ll_Amt_model.mean(axis=0)-v_ss_Amt_model.mean(axis=0), choice_model.mean(axis=0), color='red', alpha = 0.5, label = 'Posterior Predictive (mean)')\n",
    "plt.plot(np.linspace(-60,60,100), ee_pp + (1-2*ee_pp) * st.norm.cdf(np.linspace(-60,60,100) / ss_pp ),\n",
    "         color = 'black', label = 'Psychometric function (posterior mean)')\n",
    "plt.xlabel('Subj. value (posterior mean)\\nlater - sooner option')\n",
    "plt.ylabel('p(later option)')\n",
    "plt.legend();"
   ]
  },
  {
   "cell_type": "code",
   "execution_count": null,
   "id": "5e63a707",
   "metadata": {},
   "outputs": [],
   "source": []
  }
 ],
 "metadata": {
  "celltoolbar": "Slideshow",
  "kernelspec": {
   "display_name": "Python 3 (ipykernel)",
   "language": "python",
   "name": "python3"
  },
  "language_info": {
   "codemirror_mode": {
    "name": "ipython",
    "version": 3
   },
   "file_extension": ".py",
   "mimetype": "text/x-python",
   "name": "python",
   "nbconvert_exporter": "python",
   "pygments_lexer": "ipython3",
   "version": "3.9.13"
  },
  "rise": {
   "chalkboard": {
    "color": [
     "rgb(250, 0, 0)",
     "rgb(0, 250, 250)"
    ]
   },
   "enable_chalkboard": true,
   "scroll": true,
   "theme": "simple",
   "transition": "none"
  }
 },
 "nbformat": 4,
 "nbformat_minor": 5
}
