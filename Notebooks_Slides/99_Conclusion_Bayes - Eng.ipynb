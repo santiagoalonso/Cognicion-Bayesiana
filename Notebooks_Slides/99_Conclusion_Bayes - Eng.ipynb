{
 "cells": [
  {
   "cell_type": "markdown",
   "metadata": {
    "slideshow": {
     "slide_type": "slide"
    }
   },
   "source": [
    "# Bayesian cognition: final words\n",
    "\n",
    "Santiago Alonso-Díaz <br>\n",
    "Department of Economics <br>\n",
    "Universidad Javeriana <br>\n",
    "Assistant Professor\n"
   ]
  },
  {
   "cell_type": "markdown",
   "metadata": {
    "slideshow": {
     "slide_type": "slide"
    }
   },
   "source": [
    "## What is it?\n",
    "\n",
    "Combine data and beliefs with Bayes's theorem.\n"
   ]
  },
  {
   "cell_type": "markdown",
   "metadata": {
    "slideshow": {
     "slide_type": "subslide"
    }
   },
   "source": [
    "Bayes formalized how to combine priors and likelihoods\n",
    "\n",
    "\n",
    "$$ Posterior = \\frac{Prior \\times Likelihood}{Marginal} $$"
   ]
  },
  {
   "cell_type": "markdown",
   "metadata": {
    "slideshow": {
     "slide_type": "subslide"
    }
   },
   "source": [
    "Let's see the same formula with other \"names\"\n",
    "\n",
    "$$ Belief_{t+1} = \\frac{Belief_t \\times Likelihood}{Marginal} $$"
   ]
  },
  {
   "cell_type": "markdown",
   "metadata": {
    "slideshow": {
     "slide_type": "subslide"
    }
   },
   "source": [
    "Let's see the same formula expanded\n",
    "\n",
    "$$ p(Hypothesis|Data) = \\frac{p(Hypothesis) \\times p(Data|Hypothesis)}{p(Data)} $$"
   ]
  },
  {
   "cell_type": "markdown",
   "metadata": {
    "slideshow": {
     "slide_type": "slide"
    }
   },
   "source": [
    "## Application 1: Social Cognition\n",
    "(Jara-Ettinger, et al, 2016)."
   ]
  },
  {
   "cell_type": "markdown",
   "metadata": {
    "slideshow": {
     "slide_type": "subslide"
    }
   },
   "source": [
    "<p style = \"font-size: 25px\">What does <span style=\"color:blue\"> <b>little blue </b></span>prefers? </p>\n",
    "\n",
    "<center><img src=\"img/99_CB/Bayes18.svg\" width = \"300\" height = '300'></center> "
   ]
  },
  {
   "cell_type": "markdown",
   "metadata": {
    "slideshow": {
     "slide_type": "subslide"
    }
   },
   "source": [
    "<p style = \"font-size: 25px\">What does <span style=\"color:blue\"> <b>little blue </b></span>prefers? </p>\n",
    "\n",
    "<center><img src=\"img/99_CB/Bayes19.svg\" width = \"550\" height = '300'></center> "
   ]
  },
  {
   "cell_type": "markdown",
   "metadata": {
    "slideshow": {
     "slide_type": "subslide"
    }
   },
   "source": [
    "<p style = \"font-size: 25px\">We can infer latent states of <span style=\"color:blue\"> little blue <b></b></span> with Bayes's theorem </p>\n",
    "\n",
    "\n",
    "$$ p(Utility|Action) \\propto p(Action|Utility)p(Utility)$$"
   ]
  },
  {
   "cell_type": "markdown",
   "metadata": {
    "slideshow": {
     "slide_type": "subslide"
    }
   },
   "source": [
    "$$ p(Costs, Rewards|Action) \\propto p(Action|Costs, Rewards)p(Costs, Rewards)$$\n",
    "\n",
    "<center><img src=\"img/99_CB/Jara-Ettinger.svg\" width = \"400\" height = '300'></center> "
   ]
  },
  {
   "cell_type": "markdown",
   "metadata": {
    "slideshow": {
     "slide_type": "slide"
    }
   },
   "source": [
    "## Application 2: Cognition of Magnitudes\n",
    "Petzschner, et al, (2015)"
   ]
  },
  {
   "cell_type": "markdown",
   "metadata": {
    "slideshow": {
     "slide_type": "subslide"
    }
   },
   "source": [
    "<br>\n",
    "<center><img src=\"img/99_CB/dots.svg\" width = \"800\" height = '300'></center> "
   ]
  },
  {
   "cell_type": "markdown",
   "metadata": {
    "slideshow": {
     "slide_type": "subslide"
    }
   },
   "source": [
    "People place numbers non-linearly: attraction to the mean of the range. Low values are over-located, high values are under-located.\n",
    "<br><br>\n",
    "<center><img src=\"img/99_CB/Petzschner.svg\" width = \"350\" height = '350'></center> "
   ]
  },
  {
   "cell_type": "markdown",
   "metadata": {
    "slideshow": {
     "slide_type": "subslide"
    }
   },
   "source": [
    "Even if there is a good perception of the information (`likelihood`), a belief that the values in the world are usually located in the center of the range (`prior`) can \"pull\" the estimate.\n",
    "\n",
    "\n",
    "<br><br>\n",
    "<center><img src=\"img/99_CB/Petzschner2.svg\" width = \"450\" height = '450'></center> "
   ]
  },
  {
   "cell_type": "markdown",
   "metadata": {
    "slideshow": {
     "slide_type": "slide"
    }
   },
   "source": [
    "## Application 3: Cognition of Proportions\n",
    "\n",
    "Alonso-Díaz & Penagos-Londoño (2020)\n"
   ]
  },
  {
   "cell_type": "markdown",
   "metadata": {
    "slideshow": {
     "slide_type": "subslide"
    }
   },
   "source": [
    "In less than 2 seconds... Which one is bigger?\n",
    "<br><br>\n",
    "$$ \\frac{211}{617} \\;\\;  vs \\;\\; \\frac{73}{211}$$ "
   ]
  },
  {
   "cell_type": "markdown",
   "metadata": {
    "slideshow": {
     "slide_type": "fragment"
    }
   },
   "source": [
    "Most choose the one with the highest numerator."
   ]
  },
  {
   "cell_type": "markdown",
   "metadata": {
    "slideshow": {
     "slide_type": "subslide"
    }
   },
   "source": [
    "It's not quite education or math skills. It happens with images.\n",
    "\n",
    "<center><img src=\"img/99_CB/Alonso.svg\" width = \"850\" height = '850'></center> "
   ]
  },
  {
   "cell_type": "markdown",
   "metadata": {
    "slideshow": {
     "slide_type": "subslide"
    }
   },
   "source": [
    "Bayesian hypothesis (prior):\n",
    "\n",
    "The world tends to have larger fractions with larger numerators."
   ]
  },
  {
   "cell_type": "markdown",
   "metadata": {
    "slideshow": {
     "slide_type": "subslide"
    }
   },
   "source": [
    "<center><img src=\"img/99_CB/Alonso2.svg\" width = \"650\" height = '650'></center> "
   ]
  },
  {
   "cell_type": "markdown",
   "metadata": {
    "slideshow": {
     "slide_type": "subslide"
    }
   },
   "source": [
    "Not just images\n",
    "\n",
    "<center><img src=\"img/99_CB/Alonso3.svg\" width = \"450\" height = '450'></center>"
   ]
  },
  {
   "cell_type": "markdown",
   "metadata": {
    "slideshow": {
     "slide_type": "subslide"
    }
   },
   "source": [
    "Bayesian brain (empirical and theoretical work) <br><br><br>\n",
    "\n",
    "<center><img src=\"img/99_CB/Aitchison1.svg\" width = \"450\" height = '450'></center> <br><br>\n",
    "<center><img src=\"img/99_CB/Knill1.svg\" width = \"450\" height = '450'></center> <br><br>\n",
    "<center><img src=\"img/99_CB/Beck1.svg\" width = \"450\" height = '450'></center> <br><br>\n",
    "\n"
   ]
  },
  {
   "cell_type": "markdown",
   "metadata": {
    "slideshow": {
     "slide_type": "subslide"
    }
   },
   "source": [
    "For example, firing synapses can be modeled according to a posterior of firing rates (red Bayesian model; black is data). <br><br>\n",
    "If the neuron fires strongly, the Bayesian model is certain (upper panels, posterior red shadow), if it fires weakly, there is uncertainty (lower panels)<br><br>\n",
    "\n",
    "<center><img src=\"img/99_CB/Aitchison2.svg\" width = \"650\" height = '650'></center> <br><br>\n",
    "\n",
    "Aitchison, et al, 2021."
   ]
  },
  {
   "cell_type": "markdown",
   "metadata": {
    "slideshow": {
     "slide_type": "slide"
    }
   },
   "source": [
    "## Critics\n",
    "\n",
    "* Intractability\n",
    "* Cherry picking (experiments)\n",
    "* Cherry picking (priors)\n",
    "* Explanationism (IBE)"
   ]
  },
  {
   "cell_type": "markdown",
   "metadata": {
    "slideshow": {
     "slide_type": "subslide"
    }
   },
   "source": [
    "Intractability (Kwisthout, et al, 2011; Gigerenzer, et al, 2009)\n",
    "<br><br>\n",
    "<center><div style=\"text-align: justify; max-width: 600px; font-size: 20px\" > <i style = \"font-size: 20px\">\"This eliminates NP-hard models that lead to computational explosion such as probabilistic using Bayesian belief networks (...)\"</i>(Gigerenzer, et al, 2008, p. 236)\n",
    "</div></center>\n",
    "<br>\n",
    "<center><img src=\"img/99_CB/Ciranka.png\" width = \"350\" height = '350'></center>"
   ]
  },
  {
   "cell_type": "markdown",
   "metadata": {
    "slideshow": {
     "slide_type": "subslide"
    }
   },
   "source": [
    "Cherry picking experiments (Marcus & Davis, 2013)\n",
    "<br><br>\n",
    "<center><img src=\"img/99_CB/Marcus.svg\" width = \"700\" height = '700'></center>"
   ]
  },
  {
   "cell_type": "markdown",
   "metadata": {
    "slideshow": {
     "slide_type": "subslide"
    }
   },
   "source": [
    "Cherry picking priors (Marcus & Davis, 2013)\n",
    "\n",
    "<br>\n",
    "<center><img src=\"img/99_CB/Marcus2.svg\" width = \"600\" height = '600'></center>\n"
   ]
  },
  {
   "cell_type": "markdown",
   "metadata": {
    "slideshow": {
     "slide_type": "subslide"
    }
   },
   "source": [
    "Explanationism (IBE) (e.g. Douven & Schupbach, 2015)\n",
    "\n",
    "Posterior confidence is not enough, \"... hypotheses are to be assessed at least partly on the basis of their explanatory virtues\" \n",
    "\n",
    "Give bonuses to explanatory hypotheses i.e. abductive deduction (not inductive, as in Bayes e.g. little confidence in the existence of black geese)\n",
    "\n",
    "<center><img src=\"img/99_CB/black_white_swans.jpg\" width = \"150\" height = '150'></center>\n",
    "\n",
    "We can formalize it:\n",
    "\n",
    "$$p(Hipothesis_i) = \\frac{Prior \\times Likelihood + \\gamma(Hipothesis_{best})}{Marginal + \\gamma(Hipothesis_{best})}$$"
   ]
  },
  {
   "cell_type": "markdown",
   "metadata": {
    "slideshow": {
     "slide_type": "slide"
    }
   },
   "source": [
    "## Responses to criticism\n",
    "\n",
    "1. Critique: Intractability.\n",
    "     - Answer: Approximations\n",
    "2. Review: Experiments and cherry priors.\n",
    "     - Answer: This is science (and it self-corrects)\n",
    "3. Critique: Explanationism\n",
    "     - Answer: Okay, induction and deduction are different"
   ]
  },
  {
   "cell_type": "markdown",
   "metadata": {
    "slideshow": {
     "slide_type": "subslide"
    }
   },
   "source": [
    "Answer: Approximations (Lieder & Griffiths, 2020; Sanborn & Chater, 2016)\n",
    "\n",
    "For example, in resource-rational analysis, Bayesian inference can be made with the resources that are available.\n",
    "<br><br>\n",
    "<center><img src=\"img/99_CB/Lieder.svg\" width = \"600\" height = '600'></center>\n"
   ]
  },
  {
   "cell_type": "markdown",
   "metadata": {
    "slideshow": {
     "slide_type": "subslide"
    }
   },
   "source": [
    "Answer: That's the science (Goodman, et al, 2014)\n",
    "<br><br>\n",
    "<center><div style=\"text-align: justify; max-width: 400px; font-size: 20px\" > <i style = \"font-size: 20px\">\"...all models are wrong, but some are useful...\"</i>(Box, 1987, p. 424)\n",
    "</div></center>\n"
   ]
  },
  {
   "cell_type": "markdown",
   "metadata": {
    "slideshow": {
     "slide_type": "subslide"
    }
   },
   "source": [
    "Answer: Okay, induction and deduction are different\n",
    "\n",
    "The Bayesian goal is not to deny other modes of reasoning.\n",
    "\n",
    "No Bayesian would accept an inductive proof of, say, Goldbach's conjecture.<br><br>\n",
    "\n",
    "<center><img src=\"img/99_CB/goldbach_conjectures.png\" width = \"400\" height = '400'></center>"
   ]
  },
  {
   "cell_type": "markdown",
   "metadata": {
    "slideshow": {
     "slide_type": "slide"
    }
   },
   "source": [
    "## Conclusion\n",
    "\n",
    "Bayesian cognition is a tool for modeling (successful)\n",
    "\n",
    "It formalizes the idea that beliefs and data affect our psychology, behavior, and neural responses.\n"
   ]
  },
  {
   "cell_type": "code",
   "execution_count": 10,
   "metadata": {
    "slideshow": {
     "slide_type": "skip"
    }
   },
   "outputs": [
    {
     "name": "stdout",
     "output_type": "stream",
     "text": [
      "[NbConvertApp] Converting notebook Panorama_Bayes.ipynb to slides\n",
      "[NbConvertApp] Writing 292517 bytes to Panorama_Bayes.slides.html\n"
     ]
    }
   ],
   "source": [
    "!jupyter nbconvert --to slides --SlidesExporter.reveal_theme='simple' --SlidesExporter.reveal_transition='none' Panorama_Bayes.ipynb #Saves slides"
   ]
  },
  {
   "cell_type": "markdown",
   "metadata": {
    "slideshow": {
     "slide_type": "skip"
    }
   },
   "source": [
    "\n",
    "Para salvar las diapositivas a PDF (en Chrome), correr nbconvert para que abra las diapositivas en un servidor local (la transition y el theme son opcionales):\n",
    "\n",
    "!jupyter nbconvert --to slides --SlidesExporter.reveal_theme='solarized' --SlidesExporter.reveal_transition='convex' nombre_de_mi_notebook.ipynb --post serve\n",
    "\n",
    "Luego, a la dirección añadirle ?print-pdf después del .html:\n",
    "\n",
    "http://127.0.0.1:8000/nombre_de_mi_notebook.slides.html?print-pdf\n",
    "\n",
    "Y luego, imprimir y darle salvar como pdf"
   ]
  },
  {
   "cell_type": "code",
   "execution_count": null,
   "metadata": {
    "slideshow": {
     "slide_type": "skip"
    }
   },
   "outputs": [
    {
     "name": "stdout",
     "output_type": "stream",
     "text": [
      "[NbConvertApp] Converting notebook Panorama_Bayes.ipynb to slides\n",
      "[NbConvertApp] Writing 292517 bytes to Panorama_Bayes.slides.html\n",
      "[NbConvertApp] Redirecting reveal.js requests to https://cdnjs.cloudflare.com/ajax/libs/reveal.js/3.5.0\n",
      "Serving your slides at http://127.0.0.1:8000/Panorama_Bayes.slides.html\n",
      "Use Control-C to stop this server\n",
      "WARNING:tornado.access:404 GET /components/font-awesome/fonts/fontawesome-webfont.woff2?v=4.7.0 (127.0.0.1) 0.92ms\n",
      "WARNING:tornado.access:404 GET /components/font-awesome/fonts/fontawesome-webfont.woff?v=4.7.0 (127.0.0.1) 0.60ms\n",
      "WARNING:tornado.access:404 GET /components/font-awesome/fonts/fontawesome-webfont.ttf?v=4.7.0 (127.0.0.1) 0.62ms\n"
     ]
    }
   ],
   "source": [
    "#Para salvar a pdf\n",
    "!jupyter nbconvert --to slides --SlidesExporter.reveal_theme='simple' --SlidesExporter.reveal_transition='none' Panorama_Bayes.ipynb --post serve"
   ]
  }
 ],
 "metadata": {
  "celltoolbar": "Slideshow",
  "kernelspec": {
   "display_name": "Python 3",
   "language": "python",
   "name": "python3"
  },
  "language_info": {
   "codemirror_mode": {
    "name": "ipython",
    "version": 3
   },
   "file_extension": ".py",
   "mimetype": "text/x-python",
   "name": "python",
   "nbconvert_exporter": "python",
   "pygments_lexer": "ipython3",
   "version": "3.9.4"
  },
  "rise": {
   "chalkboard": {
    "color": [
     "rgb(250, 0, 0)",
     "rgb(250, 250, 250)"
    ]
   },
   "enable_chalkboard": true,
   "scroll": true,
   "theme": "simple",
   "transition": "none"
  }
 },
 "nbformat": 4,
 "nbformat_minor": 4
}
