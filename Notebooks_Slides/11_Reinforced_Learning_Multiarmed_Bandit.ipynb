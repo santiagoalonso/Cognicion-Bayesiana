{
 "cells": [
  {
   "cell_type": "code",
   "execution_count": 3,
   "id": "dd1a72e3",
   "metadata": {},
   "outputs": [
    {
     "name": "stdout",
     "output_type": "stream",
     "text": [
      "Running on PyMC v5.1.0\n",
      "Running on Pytensor v2.10.1\n"
     ]
    }
   ],
   "source": [
    "#This session is mostly (99.9%) from pymc website: https://www.pymc.io/projects/examples/en/latest/case_studies/reinforcement_learning.html\n",
    "#Also in archive: https://archive.ph/Srci7\n",
    "\n",
    "import os\n",
    "#from IPython.display import HTML\n",
    "\n",
    "#Tables and matrices\n",
    "import numpy as np\n",
    "import pandas as pd\n",
    "\n",
    "#Stats\n",
    "import scipy.stats as st\n",
    "from scipy.optimize import fmin\n",
    "from scipy import integrate\n",
    "from scipy.stats.mstats import mquantiles\n",
    "import statistics \n",
    "\n",
    "\n",
    "#Probabilistic programs\n",
    "#!pip install pymc==5.0.2\n",
    "#!pip install pytensor\n",
    "import pymc as pm\n",
    "import pytensor.tensor as pt\n",
    "import pytensor \n",
    "#import aesara.tensor as at\n",
    "print('Running on PyMC v{}'.format(pm.__version__))\n",
    "print('Running on Pytensor v{}'.format(pytensor.__version__))\n",
    "\n",
    "#Graphs\n",
    "import seaborn as sns\n",
    "import plotly.graph_objects as go\n",
    "import altair as alt\n",
    "#from altair_saver import save #ademas instalar en terminal: brew cask install chromedriver\n",
    "import matplotlib.pyplot as plt\n",
    "from matplotlib import cm\n",
    "from matplotlib.gridspec import GridSpec\n",
    "from matplotlib import animation, rc\n",
    "from IPython.display import display, HTML, Markdown\n",
    "import ipywidgets as widgets\n",
    "from ipywidgets import interact, interactive, fixed, HBox, VBox, Layout\n",
    "#from graphviz import Source, Digraph\n",
    "#import dot2tex as d2t\n",
    "#from latex import build_pdf\n",
    "from mpl_toolkits.mplot3d import axes3d\n",
    "import arviz as az\n",
    "\n",
    "#User-defined functions (in the same folder as the notebook)\n",
    "import my_fun as mf\n"
   ]
  },
  {
   "cell_type": "markdown",
   "id": "957d2759",
   "metadata": {},
   "source": [
    "# Reinforced Learning\n",
    "\n",
    "Santiago Alonso-Díaz"
   ]
  },
  {
   "cell_type": "markdown",
   "id": "0867ccc0",
   "metadata": {},
   "source": [
    "<center><img src=\"img/11_CB/SuttonBarto.png\" width = \"600\" height = '600'></center>"
   ]
  },
  {
   "cell_type": "code",
   "execution_count": 5,
   "id": "cfe3072e",
   "metadata": {
    "scrolled": true
   },
   "outputs": [
    {
     "data": {
      "text/html": [
       "<video width=\"620\" height=\"540\" controls>\n",
       "  <source src=\"img/11_CB/ReinforcedLearningVideogames.mov\">\n",
       "</video>\n"
      ],
      "text/plain": [
       "<IPython.core.display.HTML object>"
      ]
     },
     "metadata": {},
     "output_type": "display_data"
    }
   ],
   "source": [
    "%%HTML\n",
    "<video width=\"620\" height=\"540\" controls>\n",
    "  <source src=\"img/11_CB/ReinforcedLearningVideogames.mov\">\n",
    "</video>"
   ]
  },
  {
   "cell_type": "markdown",
   "id": "e92713b0",
   "metadata": {},
   "source": [
    "<center><img src=\"img/11_CB/Mnih2015.png\" width = \"600\" height = '600'></center>\n",
    "Mnih et al, 2015"
   ]
  },
  {
   "cell_type": "markdown",
   "id": "75ebf5b9",
   "metadata": {},
   "source": [
    "<center><img src=\"img/11_CB/Triqui1.png\" width = \"400\" height = '400'></center>\n"
   ]
  },
  {
   "cell_type": "markdown",
   "id": "17762b64",
   "metadata": {},
   "source": [
    "In this state S, there are only two available actions (G, H)\n",
    "<center><img src=\"img/11_CB/Triqui2.png\" width = \"400\" height = '400'></center>\n"
   ]
  },
  {
   "cell_type": "markdown",
   "id": "f343cb33",
   "metadata": {},
   "source": [
    "Which of this states is more valuable under a random policy? Green/X plays\n",
    "<center><img src=\"img/11_CB/Triqui3.png\" width = \"600\" height = '600'></center>\n"
   ]
  },
  {
   "cell_type": "markdown",
   "id": "fd98c4db",
   "metadata": {},
   "source": [
    "One way to learn the value of a state (V(s)) after doing action (a) at time t+1 is reinforced learning? For instance,\n",
    "<br><br>\n",
    "$$V(s)_{t+1} = V(s)_{t} + \\alpha (V(s)_{t} - R(s)_{t+1}) $$\n",
    "<br>\n",
    "$\\alpha$: Learning rate\n",
    "$R$: Reward \n",
    "$t$: Time\n"
   ]
  },
  {
   "cell_type": "markdown",
   "id": "aaa4a2f7",
   "metadata": {},
   "source": [
    "# Case: Multiarmed Bandit"
   ]
  },
  {
   "cell_type": "markdown",
   "id": "fa9fc3d2",
   "metadata": {},
   "source": [
    "<center><img src=\"img/11_CB/MAB1.png\" width = \"600\" height = '600'></center>\n",
    "Daw, et al, 2006"
   ]
  },
  {
   "cell_type": "markdown",
   "id": "a43f246a",
   "metadata": {},
   "source": [
    "$q(a)$ is an idealized quantity i.e. the actual expected value of doing action $a$:\n",
    "$$q(a) \\dot{=} \\mathbb{E}[R_t | A_t = a] $$\n",
    "<br>\n",
    "One should pick the arm with the highest $q(a)$:\n",
    "$$Argmax_a q(a)$$"
   ]
  },
  {
   "cell_type": "markdown",
   "id": "6e8db7d3",
   "metadata": {},
   "source": [
    "Problem: we do not know $q(a)$. Thus, we symbolize our current estimate at time $t$ as:\n",
    "$$ Q_t (a)$$"
   ]
  },
  {
   "cell_type": "markdown",
   "id": "2bff7b40",
   "metadata": {},
   "source": [
    "One possibility for $Q_t(a)$ is the mean of the rewards $R$ up to time $t-1$ when choosing $a$:\n",
    "\n",
    "$$ Q_t(a) = \\frac{\\sum_i^{t-1}R_i*\\mathbb{1}_{A_i=a}}{\\sum_i^{t-1}\\mathbb{1}_{A_i=a}}$$"
   ]
  },
  {
   "cell_type": "markdown",
   "id": "94f73424",
   "metadata": {},
   "source": [
    "<H2 style=\"text-align: center;\">Dilemma</H2>\n",
    "<p style=\"text-align: center;\">Exploit ($Argmax_a Q_t(a)$)</p>\n",
    "<p style=\"text-align: center;\">vs</p>\n",
    "<p style=\"text-align: center;\">Explore (other non $Argmax$)</p>"
   ]
  },
  {
   "cell_type": "markdown",
   "id": "692d251b",
   "metadata": {},
   "source": [
    "Algorithm examples:\n",
    "* Greedy ($Argmax_a Q_t(a)$)\n",
    "* $\\epsilon$-greedy ($Argmax_a Q_t(a)$ with probability $1-\\epsilon$, uniform with probability $\\epsilon$)\n",
    " "
   ]
  },
  {
   "cell_type": "markdown",
   "id": "17b79bb9",
   "metadata": {},
   "source": [
    "Which one to choose with a greedy policy?\n",
    "<center><img src=\"img/11_CB/MAB2.png\" width = \"500\" height = '500'></center>\n"
   ]
  },
  {
   "cell_type": "markdown",
   "id": "393d7255",
   "metadata": {},
   "source": [
    "What is the probability of choosing 143 with $\\epsilon=0.5$?\n",
    "<center><img src=\"img/11_CB/MAB2.png\" width = \"500\" height = '500'></center>\n"
   ]
  },
  {
   "cell_type": "markdown",
   "id": "464790be",
   "metadata": {},
   "source": [
    "The greedy algorithm only exploits, while $\\epsilon$-greedy allows for exploration"
   ]
  },
  {
   "cell_type": "markdown",
   "id": "eb34373e",
   "metadata": {},
   "source": [
    "Which policy is better? It depends\n",
    "<center><img src=\"img/11_CB/MAB3.png\" width = \"500\" height = '500'></center>\n",
    "Sutton & Barto, 2020\n",
    "\n"
   ]
  },
  {
   "cell_type": "markdown",
   "id": "36ff1e0e",
   "metadata": {},
   "source": [
    "Some simulations:\n",
    "\n",
    "<center><img src=\"img/11_CB/MAB4.png\" width = \"500\" height = '500'></center>\n",
    "\n",
    "Sutton & Barto, 2020"
   ]
  },
  {
   "cell_type": "code",
   "execution_count": null,
   "id": "1a700623",
   "metadata": {},
   "outputs": [],
   "source": []
  }
 ],
 "metadata": {
  "kernelspec": {
   "display_name": "Python 3 (ipykernel)",
   "language": "python",
   "name": "python3"
  },
  "language_info": {
   "codemirror_mode": {
    "name": "ipython",
    "version": 3
   },
   "file_extension": ".py",
   "mimetype": "text/x-python",
   "name": "python",
   "nbconvert_exporter": "python",
   "pygments_lexer": "ipython3",
   "version": "3.11.0"
  }
 },
 "nbformat": 4,
 "nbformat_minor": 5
}
